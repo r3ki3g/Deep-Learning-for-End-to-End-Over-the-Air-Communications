{
 "cells": [
  {
   "cell_type": "markdown",
   "metadata": {
    "id": "VSTgsilO1_ur"
   },
   "source": [
    "online version of this notebook : https://colab.research.google.com/drive/12iz5_mTOmTa0oyn5IZZYnEskVUonViVW#scrollTo=VSTgsilO1_ur"
   ]
  },
  {
   "cell_type": "code",
   "execution_count": 1,
   "metadata": {
    "ExecuteTime": {
     "end_time": "2024-04-16T21:25:33.952557Z",
     "start_time": "2024-04-16T21:25:28.123676Z"
    },
    "id": "pWavhXJRGytK"
   },
   "outputs": [],
   "source": [
    "import tensorflow as tf\n",
    "import keras\n",
    "from keras.optimizers import Adam\n",
    "from keras.layers import Dense\n",
    "from keras.models import Model, Sequential\n",
    "from keras.activations import relu, softmax\n",
    "from keras.losses import SparseCategoricalCrossentropy\n",
    "\n",
    "\n",
    "import numpy as np\n",
    "from matplotlib import pyplot as plt"
   ]
  },
  {
   "cell_type": "markdown",
   "metadata": {
    "id": "MNx0nzHGxCtg"
   },
   "source": [
    "## PARAMS\n",
    "<a name=\"params\">.</a>\n",
    "<a href=\"#datasyn\">go to data gen</a>"
   ]
  },
  {
   "cell_type": "code",
   "execution_count": 2,
   "metadata": {
    "ExecuteTime": {
     "end_time": "2024-04-16T21:25:33.967946Z",
     "start_time": "2024-04-16T21:25:33.953949Z"
    },
    "id": "eQvOU0nYbPdu"
   },
   "outputs": [],
   "source": [
    "# Model parameters\n",
    "\n",
    "k = 4\n",
    "NUM_CHANNEL_USES = 7\n",
    "block_size = 320\n",
    "\n",
    "snr = 6 #9 for training\n",
    "\n",
    "model_training_num_of_frames = 10**3 #10**4\n",
    "model_validating_num_of_frames = 10**2 #10**3\n",
    "\n",
    "n_train = block_size * model_training_num_of_frames\n",
    "n_val   = block_size * model_validating_num_of_frames\n",
    "\n",
    "# Geanerating dataset\n",
    "model_output_num_of_frames = 10**5\n",
    "n_out = block_size * model_output_num_of_frames\n",
    "\n",
    "num_epoches = 5"
   ]
  },
  {
   "cell_type": "code",
   "execution_count": 3,
   "metadata": {
    "ExecuteTime": {
     "end_time": "2024-04-16T21:25:33.982800Z",
     "start_time": "2024-04-16T21:25:33.968942Z"
    },
    "id": "8llGxbteuvUt"
   },
   "outputs": [],
   "source": [
    "SLICED_Y_LENGTH = 16\n",
    "BATCH_SIZE =  1\n",
    "\n",
    "# in teh feature extractor path \"f\" : design param\n",
    "# Our experiments have shown that even a\n",
    "# small number of features, e.g., F = 4, significantly improves\n",
    "# the performance.\n",
    "N_FEATURES_EXTRACTED = 8"
   ]
  },
  {
   "cell_type": "code",
   "execution_count": 4,
   "metadata": {
    "ExecuteTime": {
     "end_time": "2024-04-16T21:25:33.998168Z",
     "start_time": "2024-04-16T21:25:33.985800Z"
    },
    "id": "AU4v5qeU_LTW"
   },
   "outputs": [],
   "source": [
    "def R2C(a):\n",
    "\n",
    "    aa = tf.cast(tf.reshape(a,shape=(BATCH_SIZE,-1,2)),tf.float32)\n",
    "\n",
    "    aaa = tf.complex(aa[:,:,0],aa[:,:,1])\n",
    "    return aaa\n",
    "\n",
    "def C2R(a):\n",
    "    real, imag = tf.expand_dims(tf.math.real(a),axis=2) ,tf.expand_dims(tf.math.imag(a), axis=2)\n",
    "    R = tf.concat((real,imag),axis=2)\n",
    "    R = tf.reshape(R , (BATCH_SIZE,-1)  )\n",
    "    return R\n"
   ]
  },
  {
   "cell_type": "markdown",
   "metadata": {
    "id": "I9Oj3oPvZcHV"
   },
   "source": [
    "# Stochastic Channel Model & Layer"
   ]
  },
  {
   "cell_type": "markdown",
   "metadata": {
    "id": "xsd5N4qhfV0O"
   },
   "source": [
    "### Additional Layers"
   ]
  },
  {
   "cell_type": "code",
   "execution_count": 5,
   "metadata": {
    "ExecuteTime": {
     "end_time": "2024-04-16T21:25:34.014276Z",
     "start_time": "2024-04-16T21:25:33.999730Z"
    },
    "id": "a73PhgGbfYlk"
   },
   "outputs": [],
   "source": [
    "class L2Normalization(tf.keras.layers.Layer):\n",
    "    def __init__(self,**kwargs):\n",
    "        super(L2Normalization, self).__init__(**kwargs)\n",
    "    def call(self, inputs):\n",
    "        out = tf.nn.l2_normalize(inputs, axis=-1)\n",
    "        #print(\"normalize output shape = \",out.shape)\n",
    "        return out\n",
    "    def get_config(self):\n",
    "        return super(L2Normalization, self).get_config()\n",
    "\n",
    "\n",
    "def generate_nakagami_samples(m, omega):\n",
    "    nakagami_amp_vec = nakagami.rvs(m,omega,size =  NUM_CHANNEL_USES)   # Same gain for the real part and the imaginary part\n",
    "    nakagami_phase_vec = np.random.uniform(low=0.0, high=2*np.pi, size = NUM_CHANNEL_USES)    # phase shift will effect the complex number\n",
    "    nakagami_for_real = np.reshape(nakagami_amp_vec*np.cos(nakagami_phase_vec),(-1,1))\n",
    "    nakagami_for_imag = np.reshape(nakagami_amp_vec*np.sin(nakagami_phase_vec),(-1,1))\n",
    "    fading_vec = np.reshape(np.concatenate((nakagami_for_real,nakagami_for_imag),axis=1),(1,-1))[0]\n",
    "    return  tf.constant(fading_vec, dtype=tf.float32)\n",
    "\n",
    "class NakagamiNoiseLayer(tf.keras.layers.Layer):\n",
    "    def __init__(self, distribution_params, **kwargs):\n",
    "        super(NakagamiNoiseLayer, self).__init__(**kwargs)\n",
    "        self.distribution_params = distribution_params\n",
    "\n",
    "    def call(self, inputs, training=False):\n",
    "      fading = generate_nakagami_samples(m = self.distribution_params[\"m\"],\n",
    "                                        omega = self.distribution_params[\"omega\"])\n",
    "      return inputs * fading"
   ]
  },
  {
   "cell_type": "markdown",
   "metadata": {
    "id": "H1ejiEuHf1B0"
   },
   "source": [
    "### Stochastic channel"
   ]
  },
  {
   "cell_type": "code",
   "execution_count": 6,
   "metadata": {
    "ExecuteTime": {
     "end_time": "2024-04-16T21:25:34.565050Z",
     "start_time": "2024-04-16T21:25:34.015229Z"
    },
    "id": "Tm8yRX0xa_ul"
   },
   "outputs": [],
   "source": [
    "from scipy.stats import truncnorm\n",
    "from scipy.stats import uniform\n",
    "\n",
    "r = 4           # For upsampling -> number of complex samples per symbol\n",
    "roll_off = 0.35 # Roll off factor\n",
    "L = 31          # Number of taps (odd) for RRC filter\n",
    "f_s = 25e4      # 25e4 is used in our physical implementation  # 2e6 used in the paper\n",
    "T_bound = 1/f_s # Go through the resharch paper Deep Learning Based Communication Over the Air  (content under table 1)\n",
    "time_delay = np.random.uniform(-1,1) # To convert the time delay into discrete domain, time dilay is giving relative to the sampling period\n",
    "CFO = 5e3       # 5e3 is used in our physical implementation\n",
    "CFO_std = CFO/f_s\n",
    "snr = snr         # Snr in db"
   ]
  },
  {
   "cell_type": "code",
   "execution_count": 7,
   "metadata": {
    "ExecuteTime": {
     "end_time": "2024-04-16T21:25:34.597024Z",
     "start_time": "2024-04-16T21:25:34.565050Z"
    },
    "id": "gA_f6Q7cZiUN"
   },
   "outputs": [],
   "source": [
    "\n",
    "# function to create the complex values\n",
    "def real_to_complex_tensor(inp_tensor):\n",
    "  inp_tensor = tf.reshape(inp_tensor, [-1, 2])\n",
    "  real_part = inp_tensor[:, 0]\n",
    "  imag_part = inp_tensor[:, 1]\n",
    "  complex_tensor = tf.complex(real_part, imag_part)\n",
    "  return complex_tensor\n",
    "\n",
    "def complex_to_real_tensor(inp_tensor):\n",
    "   real_part , imag_part = tf.math.real(inp_tensor), tf.math.imag(inp_tensor)\n",
    "   real_part = tf.reshape(real_part,[-1,1])\n",
    "   imag_part = tf.reshape(imag_part,[-1,1])\n",
    "   return tf.reshape(tf.concat([real_part,imag_part],1),[-1])\n",
    "\n",
    "# Upsample\n",
    "def upsampling(inp,r):\n",
    "  com_reshape = tf.reshape(inp,[-1,1])\n",
    "  padding = tf.constant([[0,0],[0,r-1]])\n",
    "  upsampled = tf.pad(com_reshape,padding,\"CONSTANT\")\n",
    "  return tf.reshape(upsampled,[-1])\n",
    "\n",
    "# Normalized RRC with time shift\n",
    "def NRRC_filter(num_taps, roll_off, time_delay):\n",
    "  t = np.linspace(-(num_taps-1)/2,(num_taps-1)/2,num_taps) - time_delay\n",
    "  eps = np.finfo(float).eps # Small epsilon to avoid divisiomn by zero\n",
    "  pi = np.pi\n",
    "  def RRC_filter_coff(t):\n",
    "    if abs(t) < eps:  # For t==0\n",
    "      return 1.0 - roll_off + (4*roll_off/pi)\n",
    "    elif roll_off != 0 and (abs(t-1/(4*roll_off))<eps or abs(t+1/(4*roll_off))<eps):\n",
    "      return (roll_off/np.sqrt(2))*(1 + 2/pi)*np.sin(pi/(4*roll_off)) + (1- 2/pi)*np.cos(pi/(4*roll_off))\n",
    "    else:\n",
    "      nu = np.sin(pi*t*(1-roll_off)) + 4*roll_off*t*np.cos(pi*t*(1+roll_off))\n",
    "      den = pi*t*(1-(4*roll_off*t)**2)\n",
    "      return nu/(den + eps)\n",
    "  filter_coff = np.array([RRC_filter_coff(T) for T in t])\n",
    "  NRRC_filter_coff = filter_coff / np.sum(np.abs(filter_coff))\n",
    "  print(f\"Time_delay = {time_delay}\")\n",
    "  #plt.stem(t,NRRC_filter_coff)  # Plot for visualization\n",
    "  return tf.constant(NRRC_filter_coff,dtype = tf.float32)\n",
    "\n",
    "# Phase offset\n",
    "def PhaseOffset_vec(batch_size,NUM_CHANNEL_USES,num_taps,r,CFO_std):\n",
    "  l = batch_size*r*NUM_CHANNEL_USES+num_taps-1\n",
    "  CFO_off = truncnorm.rvs(-1.96,1.96)*CFO_std  # boundaries will be selected for 95% confidence\n",
    "  print(\"CFO_off =\",CFO_off)                   # CFO_min and CFO_max (boundaries) will be selected for 95% confidence\n",
    "  exp_vec = []\n",
    "  phase_off = 0\n",
    "  for i in range(l):\n",
    "    if i%r ==0:\n",
    "      phase_off = uniform.rvs(scale = 2*np.pi)\n",
    "    exp_vec.append(tf.math.exp(tf.constant([0+(2*np.pi*i*CFO_off+phase_off)*1j],dtype=tf.complex64)))\n",
    "  return tf.reshape(tf.stack(exp_vec),[-1])\n",
    "\n",
    "\n",
    "class UpsamplingLayer(keras.layers.Layer):\n",
    "    def __init__(self, r =r):\n",
    "        super().__init__()\n",
    "        self.r = r\n",
    "    def call(self,inputs):\n",
    "       return upsampling(inputs,self.r)\n",
    "\n",
    "class PulseShaping(keras.layers.Layer):\n",
    "    def __init__(self,num_taps,roll_off,time_delay):\n",
    "      super().__init__()\n",
    "      self.nrrc_filter = NRRC_filter(num_taps,roll_off,time_delay)\n",
    "      self.nrrc_filter = tf.reshape(self.nrrc_filter,[num_taps,1,1])\n",
    "      self.num_taps = num_taps\n",
    "    def call(self, inputs):\n",
    "      padding_size = self.num_taps // 2\n",
    "      paddings = tf.constant([[padding_size, padding_size]])\n",
    "      real_part = tf.pad(tf.math.real(inputs), paddings, \"CONSTANT\")\n",
    "      imag_part = tf.pad(tf.math.imag(inputs), paddings, \"CONSTANT\")\n",
    "      real_part = tf.reshape(real_part,[1,-1,1])\n",
    "      imag_part = tf.reshape(imag_part,[1,-1,1])\n",
    "      real_conv = tf.nn.conv1d(real_part,self.nrrc_filter,stride=1,padding=\"SAME\")\n",
    "      imag_conv = tf.nn.conv1d(imag_part,self.nrrc_filter,stride=1,padding=\"SAME\")\n",
    "      real_conv = tf.reshape(real_conv,[-1])\n",
    "      imag_conv = tf.reshape(imag_conv,[-1])\n",
    "      return tf.complex(real_conv,imag_conv)\n",
    "\n",
    "class PhaseOffset(keras.layers.Layer):\n",
    "    def __init__(self,batch_size,NUM_CHANNEL_USES,num_taps,r,CFO_std):\n",
    "      super().__init__()\n",
    "      self.batch_size = batch_size\n",
    "      self.num_channel_uses = NUM_CHANNEL_USES\n",
    "      self.num_taps = num_taps\n",
    "      self.r = r\n",
    "      self.CFO_std = CFO_std\n",
    "    def call(self,inputs):\n",
    "       return inputs * PhaseOffset_vec(self.batch_size, self.num_channel_uses,self.num_taps,self.r,self.CFO_std)\n",
    "\n",
    "class StochasticChannelLayer(keras.layers.Layer):\n",
    "    \"\"\"This channel will output 1D tensor.\n",
    "        r ----------> upsampling constant (number of complex samples per symbol)\n",
    "        time_delay -> uniformly distributed time delay between (-1,1), discrete domain,\n",
    "                      time dilay is giving relative to the sampling period\n",
    "        CFO_std ----> CFO_frequency / sampling_frequency is taken as the standared deviation\n",
    "        snr --------> snr for AWGN channel\n",
    "        output_shape -> None - output_shape is 1D tensor for sequence decoder, or give an output shape prefer \"\"\"\n",
    "    def __init__(self, NUM_CHANNEL_USES,batch_size,r,roll_off,num_taps,time_delay,CFO_std,snr):\n",
    "        super().__init__()\n",
    "        self.UpSamplingLayer_inst = UpsamplingLayer(r)\n",
    "        self.PulseShaping_inst = PulseShaping(num_taps,roll_off,time_delay)\n",
    "        self.PhaseOffset_inst = PhaseOffset(batch_size,NUM_CHANNEL_USES,num_taps,r,CFO_std)\n",
    "        self.AWGNlayer = keras.layers.GaussianNoise(stddev = np.sqrt(1/10**(snr/10)))\n",
    "    def call(self, inputs):\n",
    "      inputs = tf.reshape(inputs,[-1])\n",
    "      inputs = real_to_complex_tensor(inputs)\n",
    "      x = self.UpSamplingLayer_inst(inputs)\n",
    "      x = self.PulseShaping_inst(x)\n",
    "      x = self.PhaseOffset_inst(x)\n",
    "\n",
    "      x = complex_to_real_tensor(x)\n",
    "      x = self.AWGNlayer(x)\n",
    "      #print(\"StochasticChannelLayer output shape = \",x.shape)\n",
    "      return x\n",
    "\n",
    "# Stochastic channel model\n",
    "class StochasticChannelModel(keras.Model):\n",
    "    \"\"\"This channel will output 1D tensor.\n",
    "    r ----------> upsampling constant (number of complex samples per symbol)\n",
    "    time_delay -> uniformly distributed time delay between (-1,1), discrete domain,\n",
    "                    time dilay is giving relative to the sampling period\n",
    "    CFO_std ----> CFO_frequency / sampling_frequency is taken as the standared deviation\n",
    "    snr --------> snr for AWGN channel\n",
    "    output_shape -> None - output_shape is 1D tensor for sequence decoder, or give an output shape prefer \"\"\"\n",
    "    def __init__(self, NUM_CHANNEL_USES,batch_size,r,roll_off,num_taps,time_delay,CFO_std,snr):\n",
    "        super().__init__()\n",
    "        self.UpSamplingLayer_inst = UpsamplingLayer(r)\n",
    "        self.PulseShaping_inst = PulseShaping(num_taps,roll_off,time_delay)\n",
    "        self.PhaseOffset_inst = PhaseOffset(batch_size,NUM_CHANNEL_USES,num_taps,r,CFO_std)\n",
    "        self.AWGNlayer = keras.layers.GaussianNoise(stddev = np.sqrt(1/10**(snr/10)))\n",
    "    def call(self, inputs):\n",
    "        inputs = tf.reshape(inputs,[-1])\n",
    "        inputs = real_to_complex_tensor(inputs)\n",
    "        x = self.UpSamplingLayer_inst(inputs)\n",
    "        x = self.PulseShaping_inst(x)\n",
    "        x = self.PhaseOffset_inst(x)\n",
    "        x = complex_to_real_tensor(x)\n",
    "        x = self.AWGNlayer(x)\n",
    "        #print(\"StochasticChannelModel output shape = \",x.shape)\n",
    "        return x"
   ]
  },
  {
   "cell_type": "markdown",
   "metadata": {
    "id": "HG_PMHaC_Nbd"
   },
   "source": [
    "## Main Blocks in the Sequence Decoder"
   ]
  },
  {
   "cell_type": "code",
   "execution_count": 8,
   "metadata": {
    "ExecuteTime": {
     "end_time": "2024-04-16T21:25:34.624556Z",
     "start_time": "2024-04-16T21:25:34.597024Z"
    },
    "id": "Mx-vTDXeUVmT"
   },
   "outputs": [],
   "source": [
    "\n",
    "class FeatureExtractor(Model):\n",
    "    def __init__(self):\n",
    "        super().__init__()\n",
    "\n",
    "        self.cf1 = Dense(256,name=\"r3->FeatureExtractor->cf1\")\n",
    "\n",
    "        self.cf2 = Dense(N_FEATURES_EXTRACTED,name=\"r3->FeatureExtractor->cf2\")\n",
    "\n",
    "        self.cf_state = Dense(8,name=\"featureExtractor_stateFC\")\n",
    "\n",
    "    def call(self,sliced_y,prev_state_FE):\n",
    "       \n",
    "\n",
    "        # combine the sliced_y and prev_state_FE\n",
    "        sliced_y = tf.concat([sliced_y,prev_state_FE],axis=1)\n",
    "\n",
    "        sliced_y = self.cf1(sliced_y)\n",
    "        sliced_y = relu(sliced_y)\n",
    "\n",
    "        state_FE = self.cf_state(sliced_y) # state calculated here\n",
    "\n",
    "        sliced_y = self.cf2(state_FE)\n",
    "\n",
    "        return sliced_y,state_FE\n",
    "\n",
    "class PhaseEstimator(Model):\n",
    "    def __init__(self):\n",
    "        super().__init__()\n",
    "\n",
    "        self.cf1 = Dense(256,name=\"r3->PhaseEstimator->cf1\")\n",
    "        self.cf2 = Dense(2,name=\"r3->PhaseEstimator->cf2\")\n",
    "\n",
    "        self.cf_state = Dense(8,name=\"PhaseEstimator_stateFC\")\n",
    "\n",
    "\n",
    "    def call(self,sliced_y,prev_state_PE):\n",
    "        # combine sliced_y and prev_state_PE\n",
    "        sliced_y = tf.concat([sliced_y,prev_state_PE],axis=1)\n",
    "        sliced_y = self.cf1(sliced_y)\n",
    "        sliced_y = relu(sliced_y)\n",
    "\n",
    "        state_PE = self.cf_state(sliced_y) # state calculated here\n",
    "\n",
    "        sliced_y = self.cf2(state_PE)\n",
    "\n",
    "        return sliced_y,state_PE\n",
    "\n",
    "\n",
    "\n",
    "\n",
    "\n",
    "class Rx_Decoder_new(Model):\n",
    "    def __init__(self):\n",
    "        super().__init__()\n",
    "\n",
    "        self.cf1 = Dense(256,name=\"r3->Rx_Decoder_new->cf1\")\n",
    "        self.cf2 = Dense(256,name=\"r3->Rx_Decoder_new->cf2\")\n",
    "        self.cf3 = Dense(16,name=\"final_out_cf3\")\n",
    "\n",
    "        # useless\n",
    "        #self.cf4_state = Dense(8,name=\"state_dense_cf4\")\n",
    "\n",
    "    def call(self,concat):\n",
    "\n",
    "        concat = self.cf1(concat)\n",
    "        concat = relu(concat)\n",
    "        concat = self.cf2(concat)\n",
    "        concat = relu(concat)\n",
    "\n",
    "        # state = self.cf4_state(concat)\n",
    "        concat = self.cf3(concat)\n",
    "\n",
    "\n",
    "\n",
    "        # do not use softmax here : put from logit  = True in loss func\n",
    "        # concat = softmax(concat)\n",
    "\n",
    "        return concat\n",
    "\n",
    "\n",
    "\n",
    "\n",
    "class InternalSlicer(Model):\n",
    "    def __init__(self,l1,l2,complex_length):\n",
    "        super().__init__()\n",
    "\n",
    "        # define the slice boundaries\n",
    "        mid = complex_length // 2\n",
    "        self.start = mid - l1\n",
    "        self.end = mid + l2 + 1\n",
    "\n",
    "    def call(self,sliced_y):\n",
    "\n",
    "        ret = C2R(  R2C(sliced_y)[:, self.start:self.end]  )\n",
    "\n",
    "        return ret\n",
    "\n",
    "\n",
    "def phase_multiply(internally_sliced_y,estimated_phase):\n",
    "    # (a,b) * (c,d) = (ac-bd,ad+bc)\n",
    "\n",
    "    internally_sliced_y_complex = R2C(internally_sliced_y)\n",
    "    estimated_phase_complex = R2C(estimated_phase)\n",
    "    phase_corrected_complex = tf.multiply(estimated_phase_complex , internally_sliced_y_complex)\n",
    "\n",
    "    phase_corrected = C2R(phase_corrected_complex)\n",
    "    return phase_corrected\n",
    "\n",
    "\n",
    "\n",
    "\n"
   ]
  },
  {
   "cell_type": "markdown",
   "metadata": {
    "id": "2T9CJbZr_UgK"
   },
   "source": [
    "## Fake data syn"
   ]
  },
  {
   "cell_type": "code",
   "execution_count": 9,
   "metadata": {
    "ExecuteTime": {
     "end_time": "2024-04-16T21:25:34.639837Z",
     "start_time": "2024-04-16T21:25:34.625513Z"
    },
    "id": "mj1GemkdxHCs"
   },
   "outputs": [],
   "source": [
    "# generate fake data\n",
    "\n",
    "# m = 512* 2** 2\n",
    "# X = tf.random.normal(shape=(block_size,SLICED_Y_LENGTH),\n",
    "#                      mean=0,\n",
    "#                      stddev=1)\n",
    "\n",
    "# Y = tf.random.uniform(shape=(m,1),\n",
    "#                       minval=0,\n",
    "#                       maxval=16,\n",
    "#                       dtype=tf.int32)\n",
    "# Y = keras.utils.to_categorical(Y,16)\n"
   ]
  },
  {
   "cell_type": "markdown",
   "metadata": {
    "id": "R4xqcXAB_XdM"
   },
   "source": [
    "## Main Model : Sequence Decoder Class"
   ]
  },
  {
   "cell_type": "code",
   "execution_count": 10,
   "metadata": {
    "ExecuteTime": {
     "end_time": "2024-04-16T21:25:34.670629Z",
     "start_time": "2024-04-16T21:25:34.642820Z"
    },
    "id": "M_bSkx9vHEAd"
   },
   "outputs": [],
   "source": [
    "# sequence decoder\n",
    "\n",
    "\n",
    "class SequenceDecoder(Model):\n",
    "\n",
    "    def __init__(self,take_prev_phase_state=False):\n",
    "        super(SequenceDecoder,self).__init__()\n",
    "\n",
    "        self.take_prev_phase_state = take_prev_phase_state\n",
    "\n",
    "        self.feature_extractor = FeatureExtractor()\n",
    "        self.phase_estimator = PhaseEstimator()\n",
    "        self.internal_slicer = InternalSlicer(l1=3,l2=3,complex_length=SLICED_Y_LENGTH//2)\n",
    "\n",
    "        if take_prev_phase_state:\n",
    "            self.rx_decoder_RNN = Rx_Decoder_new()\n",
    "        else:\n",
    "            raise Exception(\"How here come??\")\n",
    "            #self.rx_decoder = Rx_Decoder_old()\n",
    "\n",
    "\n",
    "\n",
    "    def call(self,sliced_y,prev_state_FE=None,prev_state_PE=None):\n",
    "\n",
    "        if prev_state_PE is None:\n",
    "            print(\" How this none?\")\n",
    "            prev_state_PE = tf.constant(tf.zeros((block_size,8)))\n",
    "        if prev_state_FE is None:\n",
    "            print(\" How this none?\")\n",
    "            prev_state_FE = tf.constant(tf.zeros((block_size,8)))\n",
    "\n",
    "\n",
    "        # RNN conn starts here\n",
    "\n",
    "        output_FE = self.feature_extractor(sliced_y,prev_state_FE=prev_state_FE)\n",
    "        extracted_features,state_FE = output_FE[0], output_FE[1]\n",
    "\n",
    "\n",
    "\n",
    "        output_PE = self.phase_estimator(sliced_y,prev_state_PE=prev_state_PE)\n",
    "        estimated_phase,state_PE = output_PE[0], output_PE[1]\n",
    "\n",
    "        # RNN conn ends here\n",
    "\n",
    "        internally_sliced_y = self.internal_slicer(sliced_y)\n",
    "\n",
    "\n",
    "\n",
    "        phase_corrected_ = phase_multiply(internally_sliced_y,estimated_phase)\n",
    "\n",
    "        concat = tf.concat((extracted_features,phase_corrected_),axis=1)\n",
    "        if self.take_prev_phase_state:\n",
    "            st_hat = self.rx_decoder_RNN(concat)\n",
    "            return (st_hat,state_FE,state_PE)\n",
    "        else:\n",
    "            raise Exception(\"How came here????\")\n",
    "            print(\"--PROBLEM--\")\n",
    "            st_hat = self.rx_decoder(concat)\n",
    "            return st_hat\n",
    "\n",
    "\n",
    "\n",
    "    def custom_train(self,X,Y,epochs=1): # X =  vertically stacked sliced_y, y = message index\n",
    "\n",
    "        # tarin per each time step\n",
    "        for _ in range(epochs):\n",
    "\n",
    "            # temp_prev_state_PE = [tf.constant(tf.zeros((X.shape[0],8)))] #append the last PE state here\n",
    "            # temp_prev_state_FE = [tf.constant(tf.zeros((X.shape[0],8)))] #append the last FE state here\n",
    "\n",
    "            temp_prev_state_PE = tf.constant(tf.zeros((1,8)))\n",
    "            temp_prev_state_FE = tf.constant(tf.zeros((1,8)))\n",
    "\n",
    "            loss_acc = 0\n",
    "\n",
    "            for i in range(X.shape[0]):\n",
    "                print(f\"iterration : {i}\")\n",
    "                x =  tf.expand_dims(X[i,:],axis=0)\n",
    "\n",
    "                y = tf.expand_dims(Y[i,:],axis=0)\n",
    "\n",
    "                with tf.GradientTape() as tape:\n",
    "                    output = self.call(x,\n",
    "                                       prev_state_PE=temp_prev_state_PE,\n",
    "                                       prev_state_FE=temp_prev_state_FE)\n",
    "\n",
    "                    st_hat,state_FE,state_PE = output[0], output[1], output[2]\n",
    "                    loss = self.compiled_loss(y,st_hat)\n",
    "\n",
    "                    #temp_prev_state = state ###### assign add dala balanna\n",
    "\n",
    "                    temp_prev_state_FE = (state_FE)\n",
    "                    temp_prev_state_PE = (state_PE)\n",
    "\n",
    "                grads = tape.gradient(loss,self.trainable_variables)\n",
    "                self.optimizer.apply_gradients(zip(grads,self.trainable_variables))\n",
    "\n",
    "                loss_acc += loss.numpy() / X.shape[0] # take the mean\n",
    "                print(\"loss (individual): \", loss.numpy())\n",
    "            print(f'Epoch  : {_}/{epochs} --> Loss = {loss_acc}')\n",
    "\n",
    "        # returning the final batch's loss\n",
    "        return loss_acc\n",
    "\n",
    "\n"
   ]
  },
  {
   "cell_type": "code",
   "execution_count": null,
   "metadata": {
    "ExecuteTime": {
     "end_time": "2024-04-15T06:45:05.437856Z",
     "start_time": "2024-04-15T06:45:05.422233Z"
    },
    "id": "jq24YZr4baut"
   },
   "outputs": [],
   "source": []
  },
  {
   "cell_type": "code",
   "execution_count": 11,
   "metadata": {
    "ExecuteTime": {
     "end_time": "2024-04-16T21:25:34.685794Z",
     "start_time": "2024-04-16T21:25:34.673567Z"
    },
    "id": "KqIhonChiDnM",
    "scrolled": true
   },
   "outputs": [],
   "source": [
    "# test the SD\n",
    "# tested and worked\n",
    "# mySD =   SequenceDecoder(take_prev_phase_state=True)\n",
    "\n",
    "# mySD.compile(optimizer=Adam(learning_rate=1e-2),\n",
    "#              loss=SparseCategoricalCrossentropy(from_logits=True),\n",
    "#              metrics=['accuracy'])\n",
    "\n",
    "\n",
    "# mySD.custom_train(X,Y)\n",
    "\n",
    "\n",
    "\n"
   ]
  },
  {
   "cell_type": "code",
   "execution_count": 12,
   "metadata": {
    "ExecuteTime": {
     "end_time": "2024-04-16T21:25:34.700947Z",
     "start_time": "2024-04-16T21:25:34.687298Z"
    },
    "id": "_rXUaAKBtGjj"
   },
   "outputs": [],
   "source": [
    "# mySD.build((2048,16))"
   ]
  },
  {
   "cell_type": "markdown",
   "metadata": {
    "id": "ft4zIJOAb70O"
   },
   "source": [
    "# Autoencoder model"
   ]
  },
  {
   "cell_type": "code",
   "execution_count": 13,
   "metadata": {
    "ExecuteTime": {
     "end_time": "2024-04-16T21:25:34.716542Z",
     "start_time": "2024-04-16T21:25:34.707950Z"
    },
    "id": "t3LnggrMdYqV"
   },
   "outputs": [],
   "source": [
    "AWGN_std = np.sqrt(1/10**(snr/10))\n",
    "act_func = 'tanh' # 'relu'\n"
   ]
  },
  {
   "cell_type": "code",
   "execution_count": 14,
   "metadata": {
    "ExecuteTime": {
     "end_time": "2024-04-16T21:25:34.731961Z",
     "start_time": "2024-04-16T21:25:34.719057Z"
    },
    "colab": {
     "base_uri": "https://localhost:8080/",
     "height": 501
    },
    "id": "4hLPpWIedf60",
    "outputId": "8341a7e9-8951-4f82-f9ee-2ba4bf06660a"
   },
   "outputs": [],
   "source": [
    "# # Encoder\n",
    "# Encoder = Sequential([\n",
    "#                     Dense(2**k, activation=act_func,input_shape=(2**k,)),#Dense(2**k, activation=act_func,input_shape=(k,)),\n",
    "#                     Dense(2**k, activation=act_func),\n",
    "#                     Dense(2*NUM_CHANNEL_USES, activation='linear',name=\"Encode_last_dense\"),\n",
    "#                     L2Normalization(name=\"normalization_layer\"),\n",
    "# ])\n",
    "\n",
    "# # Channel\n",
    "# Stochastic_channel = StochasticChannelModel(NUM_CHANNEL_USES,block_size,r,roll_off,L,time_delay,CFO_std,snr)\n",
    "\n",
    "# # Sequence decoder\n",
    "# Seq_decoder = SequenceDecoder(take_prev_phase_state=True)\n",
    "\n",
    "# # Auto encoder\n",
    "# Autoencoder = Sequential([\n",
    "#     Encoder,\n",
    "#     Stochastic_channel,\n",
    "#     # Seq_decoder\n",
    "# ])"
   ]
  },
  {
   "cell_type": "code",
   "execution_count": 15,
   "metadata": {
    "ExecuteTime": {
     "end_time": "2024-04-16T21:25:34.747306Z",
     "start_time": "2024-04-16T21:25:34.735948Z"
    },
    "colab": {
     "base_uri": "https://localhost:8080/",
     "height": 214
    },
    "id": "D6QP70azZKLR",
    "outputId": "3bddf272-7540-429e-f177-585c26f9e1c3"
   },
   "outputs": [],
   "source": [
    "# Autoencoder.compile(optimizer=Adam(learning_rate=1e-2),\n",
    "#                     loss=keras.losses.SparseCategoricalCrossentropy(from_logits=True))\n",
    "\n",
    "\n",
    "# # cxannot connect the RNN for a whoe batch\n",
    "\n",
    "# # history = Autoencoder.fit(x_train,\n",
    "# #                           y_train,\n",
    "# #                           batch_size=block_size,\n",
    "# #                           epochs=num_epoches,\n",
    "# #                           verbose=2,\n",
    "# #                           validation_data=(x_val,y_val))\n",
    "\n",
    "# train_history = Autoencoder.custom_train(x_train,y_train,epochs=1)\n",
    "# print(\"train_history\", train_history)\n",
    "\n",
    "\n",
    "# def calc_block_accuracy(preds,y_val):\n",
    "#     n_bits_per_block = preds.shape[1]\n",
    "#     n_correct_bits = np.sum(preds == y_val,axis=1)\n",
    "#     block_accuracy = np.mean(n_correct_bits == n_bits_per_block)\n",
    "#     return block_accuracy\n",
    "\n",
    "# preds = AE.predict(x_val,batch_size=block_size)>0.5\n",
    "# accuracy =  calc_block_accuracy(preds,y_val)\n",
    "# print(f\"validation accuracy = {accuracy}\")\n",
    "# print(f\"snr = {snr}\")"
   ]
  },
  {
   "cell_type": "markdown",
   "metadata": {
    "id": "420o_lm0p9b9"
   },
   "source": [
    "<a href=\"#params\">go toparams</a><br/>\n",
    "\n",
    "<a name=\"datasyn\">Generate Data</a>"
   ]
  },
  {
   "cell_type": "code",
   "execution_count": 16,
   "metadata": {
    "ExecuteTime": {
     "end_time": "2024-04-16T21:25:35.477398Z",
     "start_time": "2024-04-16T21:25:34.748347Z"
    },
    "id": "zhVsDdfPpM6V"
   },
   "outputs": [],
   "source": [
    "# synthesize some data\n",
    "x_train = tf.cast(tf.random.uniform((block_size,),minval=0,maxval=2**k),\n",
    "                  (tf.int32))\n",
    "\n",
    "y_train = tf.expand_dims(x_train,axis=1)\n",
    "\n",
    "x_train =  tf.one_hot(x_train,depth=2**k)\n",
    "\n"
   ]
  },
  {
   "cell_type": "markdown",
   "metadata": {
    "id": "kPSeSA6tq-4r"
   },
   "source": []
  },
  {
   "cell_type": "code",
   "execution_count": 17,
   "metadata": {
    "ExecuteTime": {
     "end_time": "2024-04-16T21:25:35.621482Z",
     "start_time": "2024-04-16T21:25:35.477398Z"
    },
    "colab": {
     "base_uri": "https://localhost:8080/"
    },
    "id": "6d5-uKR_o-71",
    "outputId": "a605d800-01cf-42be-f1b8-1e947919655c"
   },
   "outputs": [
    {
     "name": "stdout",
     "output_type": "stream",
     "text": [
      "x_train.shape:  (320, 16)\n",
      "y_train.shape:  (320, 1)\n"
     ]
    }
   ],
   "source": [
    "print(\"x_train.shape: \",x_train.shape)\n",
    "print(\"y_train.shape: \",y_train.shape)"
   ]
  },
  {
   "cell_type": "code",
   "execution_count": 18,
   "metadata": {
    "ExecuteTime": {
     "end_time": "2024-04-16T21:25:35.637254Z",
     "start_time": "2024-04-16T21:25:35.622986Z"
    }
   },
   "outputs": [],
   "source": [
    "\n",
    "def ExternalSlicer(input_vec,padding=30,gamma=4):\n",
    "    '''\n",
    "    input_vec: should be the real and imag parts separately.\n",
    "    padding  : how much the window should expand per each side\n",
    "    '''\n",
    "    assert len(input_vec.shape) == 1, \"Need 1D vector. Cannot process multiple frames at once\"\n",
    "    assert (input_vec.shape[0]-2*padding ) / (2 * NUM_CHANNEL_USES * gamma) == block_size\n",
    "    \n",
    "    output_array = []\n",
    "    \n",
    "    for i in range(block_size):\n",
    "        jump_size = (2 * NUM_CHANNEL_USES * gamma) # how many to jump\n",
    "        start = jump_size * i\n",
    "        end = start + jump_size + padding * 2\n",
    "        output_array.append(input_vec[start:end])\n",
    "    \n",
    "    return tf.stack(output_array)"
   ]
  },
  {
   "cell_type": "code",
   "execution_count": 19,
   "metadata": {
    "ExecuteTime": {
     "end_time": "2024-04-16T21:25:35.668536Z",
     "start_time": "2024-04-16T21:25:35.643292Z"
    }
   },
   "outputs": [
    {
     "data": {
      "text/plain": [
       "60"
      ]
     },
     "execution_count": 19,
     "metadata": {},
     "output_type": "execute_result"
    }
   ],
   "source": [
    "17980 %(320 * 14)"
   ]
  },
  {
   "cell_type": "code",
   "execution_count": 20,
   "metadata": {
    "ExecuteTime": {
     "end_time": "2024-04-16T21:25:35.684644Z",
     "start_time": "2024-04-16T21:25:35.672761Z"
    }
   },
   "outputs": [],
   "source": [
    "# normalize output shape =  (320, 14)\n",
    "# r3 1 : encodings are ready\n",
    "# encodings.shape (320, 14)\n",
    "# CFO_off = 0.010980410815179016\n",
    "# r3 2 : channel effect added\n",
    "# all_y.shape (17980,)\n",
    "\n",
    "\n",
    "def r3ki3g_imitate_stch(encodings):\n",
    "    encRsh = tf.reshape(encodings,[-1])\n",
    "    ones = tf.ones( ( 17980-len(encRsh) ,) )\n",
    "    return tf.concat((encRsh,ones),axis=0)\n",
    "    \n",
    "    "
   ]
  },
  {
   "cell_type": "markdown",
   "metadata": {
    "heading_collapsed": true
   },
   "source": [
    "## Trainig process - step by step\n",
    "\n",
    "1. Train an encoder somewhere else and import it to the Sequence decoder\n",
    "2. Train the Sequence decoder (smarter version of usual RX decoder)"
   ]
  },
  {
   "cell_type": "markdown",
   "metadata": {
    "hidden": true
   },
   "source": [
    "Pre-trained modelmaker:\n",
    "\n",
    "http://localhost:8888/notebooks/PROJECTS/Deep-Learning-for-End-to-End-Over-the-Air-Communications/Fading%20-%20Nakagami%20Sumulation%20-%20Tensorflow/Making-pretrained-encoders-for-sequence-decoder-part.ipynb"
   ]
  },
  {
   "cell_type": "code",
   "execution_count": 39,
   "metadata": {
    "ExecuteTime": {
     "end_time": "2024-04-17T08:27:58.340459Z",
     "start_time": "2024-04-17T08:27:58.174274Z"
    },
    "hidden": true
   },
   "outputs": [
    {
     "name": "stdout",
     "output_type": "stream",
     "text": [
      "WARNING:tensorflow:No training configuration found in the save file, so the model was *not* compiled. Compile it manually.\n"
     ]
    }
   ],
   "source": [
    "# load pre-tarined encoder\n",
    "\n",
    "\n",
    "savedir = r\"D:\\ENTC\\PROJECTS\\Deep-Learning-for-End-to-End-Over-the-Air-Communications\\Fading - Nakagami Sumulation - Tensorflow\\saved_encoders_for_Sequence_decoder\"\n",
    "\n",
    "\n",
    "absolute_path_for_encoder_model =  f'{savedir}\\\\r3ki3gEnc.h5'\n",
    "required_encoder_wo_l2norm = tf.keras.models.load_model(absolute_path_for_encoder_model)\n",
    "\n",
    "\n"
   ]
  },
  {
   "cell_type": "code",
   "execution_count": 40,
   "metadata": {
    "ExecuteTime": {
     "end_time": "2024-04-17T08:27:59.695122Z",
     "start_time": "2024-04-17T08:27:59.615065Z"
    },
    "hidden": true,
    "scrolled": true
   },
   "outputs": [
    {
     "name": "stdout",
     "output_type": "stream",
     "text": [
      "Time_delay = 0.19730099174560745\n"
     ]
    }
   ],
   "source": [
    "encoder = Sequential([\n",
    "\n",
    "           required_encoder_wo_l2norm,\n",
    "            L2Normalization(name=\"normalization_layer\")\n",
    "\n",
    "            ])\n",
    "\n",
    "\n",
    "# compiling is useless when we transfer teh flow to next model\n",
    "# encoder.compile(optimizer=Adam(learning_rate=1e-2),\n",
    "#                     loss=\"mse\")\n",
    "\n",
    "\n",
    "\n",
    "stochastic_channel = StochasticChannelModel(NUM_CHANNEL_USES,\n",
    "                                                 block_size,\n",
    "                                                 r,\n",
    "                                                 roll_off,\n",
    "                                                 L,\n",
    "                                                 time_delay,\n",
    "                                                 CFO_std,\n",
    "                                                 snr)\n",
    "\n",
    "# Sequence decoder\n",
    "seq_decoder = SequenceDecoder(take_prev_phase_state=True)\n",
    "\n",
    "criterion = SparseCategoricalCrossentropy(from_logits=True)\n",
    "\n",
    "    "
   ]
  },
  {
   "cell_type": "code",
   "execution_count": 45,
   "metadata": {
    "ExecuteTime": {
     "end_time": "2024-04-17T08:43:27.413027Z",
     "start_time": "2024-04-17T08:34:44.860502Z"
    },
    "hidden": true,
    "scrolled": true
   },
   "outputs": [
    {
     "name": "stdout",
     "output_type": "stream",
     "text": [
      "CFO_off = 0.008587581341031148\n",
      "{'J': <tf.Tensor: shape=(), dtype=float32, numpy=2.8626692>, 'status': 'training epoch ended'}\n",
      "CFO_off = -0.022446364621644774\n",
      "{'J': <tf.Tensor: shape=(), dtype=float32, numpy=2.296204>, 'status': 'training epoch ended'}\n",
      "CFO_off = -0.01261686901840917\n",
      "{'J': <tf.Tensor: shape=(), dtype=float32, numpy=3.4834015>, 'status': 'training epoch ended'}\n",
      "CFO_off = -0.015004316948773737\n",
      "{'J': <tf.Tensor: shape=(), dtype=float32, numpy=2.0380054>, 'status': 'training epoch ended'}\n",
      "CFO_off = -0.0032795926676060846\n",
      "{'J': <tf.Tensor: shape=(), dtype=float32, numpy=2.9392958>, 'status': 'training epoch ended'}\n",
      "CFO_off = -0.0074429937065127304\n",
      "{'J': <tf.Tensor: shape=(), dtype=float32, numpy=2.4263408>, 'status': 'training epoch ended'}\n",
      "CFO_off = -0.005582646729892055\n",
      "{'J': <tf.Tensor: shape=(), dtype=float32, numpy=2.4818761>, 'status': 'training epoch ended'}\n",
      "CFO_off = -0.013046008404540343\n",
      "{'J': <tf.Tensor: shape=(), dtype=float32, numpy=2.4636703>, 'status': 'training epoch ended'}\n",
      "CFO_off = -0.030078640253232855\n",
      "{'J': <tf.Tensor: shape=(), dtype=float32, numpy=2.107924>, 'status': 'training epoch ended'}\n",
      "CFO_off = -0.00870854381630166\n",
      "{'J': <tf.Tensor: shape=(), dtype=float32, numpy=3.3647556>, 'status': 'training epoch ended'}\n",
      "CFO_off = 0.02332962973276185\n",
      "{'J': <tf.Tensor: shape=(), dtype=float32, numpy=2.3283763>, 'status': 'training epoch ended'}\n",
      "CFO_off = -0.01895434271800645\n",
      "{'J': <tf.Tensor: shape=(), dtype=float32, numpy=3.0422244>, 'status': 'training epoch ended'}\n",
      "CFO_off = 0.008999661852692567\n",
      "{'J': <tf.Tensor: shape=(), dtype=float32, numpy=2.1564472>, 'status': 'training epoch ended'}\n",
      "CFO_off = 0.02246468115701908\n",
      "{'J': <tf.Tensor: shape=(), dtype=float32, numpy=2.5922258>, 'status': 'training epoch ended'}\n",
      "CFO_off = -0.01732708998863433\n",
      "{'J': <tf.Tensor: shape=(), dtype=float32, numpy=3.1181169>, 'status': 'training epoch ended'}\n",
      "CFO_off = 0.003990765625679101\n",
      "{'J': <tf.Tensor: shape=(), dtype=float32, numpy=2.0617137>, 'status': 'training epoch ended'}\n",
      "CFO_off = 0.00363405690481529\n",
      "{'J': <tf.Tensor: shape=(), dtype=float32, numpy=2.6308599>, 'status': 'training epoch ended'}\n",
      "CFO_off = 0.007431310804201512\n",
      "{'J': <tf.Tensor: shape=(), dtype=float32, numpy=2.1571507>, 'status': 'training epoch ended'}\n",
      "CFO_off = -0.020076024967921706\n",
      "{'J': <tf.Tensor: shape=(), dtype=float32, numpy=2.764604>, 'status': 'training epoch ended'}\n",
      "CFO_off = -0.018773405082771234\n",
      "{'J': <tf.Tensor: shape=(), dtype=float32, numpy=2.238248>, 'status': 'training epoch ended'}\n",
      "CFO_off = 0.03625478475866308\n",
      "{'J': <tf.Tensor: shape=(), dtype=float32, numpy=2.3329308>, 'status': 'training epoch ended'}\n",
      "CFO_off = -0.012415275946569222\n",
      "{'J': <tf.Tensor: shape=(), dtype=float32, numpy=3.7551663>, 'status': 'training epoch ended'}\n",
      "CFO_off = -0.0001916107013072181\n",
      "{'J': <tf.Tensor: shape=(), dtype=float32, numpy=1.9396816>, 'status': 'training epoch ended'}\n",
      "CFO_off = 0.013708298718458703\n",
      "{'J': <tf.Tensor: shape=(), dtype=float32, numpy=3.4584587>, 'status': 'training epoch ended'}\n",
      "CFO_off = 0.001205022271278214\n",
      "{'J': <tf.Tensor: shape=(), dtype=float32, numpy=1.8673248>, 'status': 'training epoch ended'}\n",
      "CFO_off = 0.006190203386170347\n",
      "{'J': <tf.Tensor: shape=(), dtype=float32, numpy=2.929156>, 'status': 'training epoch ended'}\n",
      "CFO_off = 0.01540573824673909\n",
      "{'J': <tf.Tensor: shape=(), dtype=float32, numpy=2.3655734>, 'status': 'training epoch ended'}\n",
      "CFO_off = 0.0006888789503411109\n",
      "{'J': <tf.Tensor: shape=(), dtype=float32, numpy=2.1227522>, 'status': 'training epoch ended'}\n",
      "CFO_off = 0.01217648578991\n",
      "{'J': <tf.Tensor: shape=(), dtype=float32, numpy=3.564457>, 'status': 'training epoch ended'}\n",
      "CFO_off = 0.028820478100687174\n",
      "{'J': <tf.Tensor: shape=(), dtype=float32, numpy=2.096806>, 'status': 'training epoch ended'}\n",
      "CFO_off = 0.02490235669206605\n",
      "{'J': <tf.Tensor: shape=(), dtype=float32, numpy=3.6428864>, 'status': 'training epoch ended'}\n",
      "CFO_off = -0.0011203043532148234\n",
      "{'J': <tf.Tensor: shape=(), dtype=float32, numpy=2.1349695>, 'status': 'training epoch ended'}\n",
      "CFO_off = -0.014774842548977941\n",
      "{'J': <tf.Tensor: shape=(), dtype=float32, numpy=2.6461885>, 'status': 'training epoch ended'}\n",
      "CFO_off = -0.006908192254999912\n",
      "{'J': <tf.Tensor: shape=(), dtype=float32, numpy=2.0913982>, 'status': 'training epoch ended'}\n",
      "CFO_off = 0.004642728358363231\n",
      "{'J': <tf.Tensor: shape=(), dtype=float32, numpy=2.7022564>, 'status': 'training epoch ended'}\n",
      "CFO_off = -0.0053161732673074995\n",
      "{'J': <tf.Tensor: shape=(), dtype=float32, numpy=1.8851929>, 'status': 'training epoch ended'}\n",
      "CFO_off = -0.0046169684569232535\n",
      "{'J': <tf.Tensor: shape=(), dtype=float32, numpy=2.777767>, 'status': 'training epoch ended'}\n",
      "CFO_off = 0.015238717152869655\n",
      "{'J': <tf.Tensor: shape=(), dtype=float32, numpy=2.8045533>, 'status': 'training epoch ended'}\n",
      "CFO_off = -0.009287197043696535\n",
      "{'J': <tf.Tensor: shape=(), dtype=float32, numpy=2.384687>, 'status': 'training epoch ended'}\n",
      "CFO_off = 0.02543459845498763\n",
      "{'J': <tf.Tensor: shape=(), dtype=float32, numpy=2.7657058>, 'status': 'training epoch ended'}\n",
      "CFO_off = -0.03298376222410652\n",
      "{'J': <tf.Tensor: shape=(), dtype=float32, numpy=2.1318607>, 'status': 'training epoch ended'}\n",
      "CFO_off = -0.01613499103018218\n",
      "{'J': <tf.Tensor: shape=(), dtype=float32, numpy=3.3897614>, 'status': 'training epoch ended'}\n",
      "CFO_off = -0.0199063563987101\n",
      "{'J': <tf.Tensor: shape=(), dtype=float32, numpy=2.2064607>, 'status': 'training epoch ended'}\n",
      "CFO_off = 0.00028080458779613767\n",
      "{'J': <tf.Tensor: shape=(), dtype=float32, numpy=2.766541>, 'status': 'training epoch ended'}\n",
      "CFO_off = -0.007927689082808\n",
      "{'J': <tf.Tensor: shape=(), dtype=float32, numpy=2.053698>, 'status': 'training epoch ended'}\n",
      "CFO_off = -0.02237327345839194\n",
      "{'J': <tf.Tensor: shape=(), dtype=float32, numpy=2.5910447>, 'status': 'training epoch ended'}\n",
      "CFO_off = 0.0145544392760801\n",
      "{'J': <tf.Tensor: shape=(), dtype=float32, numpy=2.977219>, 'status': 'training epoch ended'}\n",
      "CFO_off = 0.025967675409206734\n",
      "{'J': <tf.Tensor: shape=(), dtype=float32, numpy=1.84233>, 'status': 'training epoch ended'}\n",
      "CFO_off = -0.010775154710628992\n",
      "{'J': <tf.Tensor: shape=(), dtype=float32, numpy=2.4859803>, 'status': 'training epoch ended'}\n",
      "CFO_off = 0.019960988496026826\n",
      "{'J': <tf.Tensor: shape=(), dtype=float32, numpy=1.6918762>, 'status': 'training epoch ended'}\n",
      "CFO_off = -0.008045565110372159\n",
      "{'J': <tf.Tensor: shape=(), dtype=float32, numpy=2.4101512>, 'status': 'training epoch ended'}\n",
      "CFO_off = 0.014747811829435136\n",
      "{'J': <tf.Tensor: shape=(), dtype=float32, numpy=3.2576172>, 'status': 'training epoch ended'}\n",
      "CFO_off = -0.013758303025997492\n",
      "{'J': <tf.Tensor: shape=(), dtype=float32, numpy=2.7369132>, 'status': 'training epoch ended'}\n",
      "CFO_off = -0.012829977261654768\n",
      "{'J': <tf.Tensor: shape=(), dtype=float32, numpy=2.5842686>, 'status': 'training epoch ended'}\n",
      "CFO_off = -0.0013582354377777578\n",
      "{'J': <tf.Tensor: shape=(), dtype=float32, numpy=2.25176>, 'status': 'training epoch ended'}\n",
      "CFO_off = 0.016888598611589384\n",
      "{'J': <tf.Tensor: shape=(), dtype=float32, numpy=2.3970134>, 'status': 'training epoch ended'}\n",
      "CFO_off = -0.007634058942774682\n",
      "{'J': <tf.Tensor: shape=(), dtype=float32, numpy=2.220236>, 'status': 'training epoch ended'}\n",
      "CFO_off = 0.010408613928388646\n",
      "{'J': <tf.Tensor: shape=(), dtype=float32, numpy=2.1712909>, 'status': 'training epoch ended'}\n",
      "CFO_off = 0.012869752613751435\n",
      "{'J': <tf.Tensor: shape=(), dtype=float32, numpy=2.3008277>, 'status': 'training epoch ended'}\n",
      "CFO_off = -0.013108144902370136\n",
      "{'J': <tf.Tensor: shape=(), dtype=float32, numpy=2.577621>, 'status': 'training epoch ended'}\n",
      "CFO_off = -0.014681216456762507\n",
      "{'J': <tf.Tensor: shape=(), dtype=float32, numpy=3.2114418>, 'status': 'training epoch ended'}\n",
      "CFO_off = 0.0005192392948263352\n",
      "{'J': <tf.Tensor: shape=(), dtype=float32, numpy=2.1737099>, 'status': 'training epoch ended'}\n",
      "CFO_off = -0.015483137075836017\n",
      "{'J': <tf.Tensor: shape=(), dtype=float32, numpy=2.4406705>, 'status': 'training epoch ended'}\n",
      "CFO_off = 0.015697539137881043\n",
      "{'J': <tf.Tensor: shape=(), dtype=float32, numpy=2.113761>, 'status': 'training epoch ended'}\n",
      "CFO_off = -0.01610697320777278\n",
      "{'J': <tf.Tensor: shape=(), dtype=float32, numpy=2.4361243>, 'status': 'training epoch ended'}\n",
      "CFO_off = -0.029851288356056976\n"
     ]
    },
    {
     "name": "stdout",
     "output_type": "stream",
     "text": [
      "{'J': <tf.Tensor: shape=(), dtype=float32, numpy=2.2811174>, 'status': 'training epoch ended'}\n",
      "CFO_off = 0.01687529562192112\n",
      "{'J': <tf.Tensor: shape=(), dtype=float32, numpy=3.0437331>, 'status': 'training epoch ended'}\n",
      "CFO_off = 0.005490615029717021\n",
      "{'J': <tf.Tensor: shape=(), dtype=float32, numpy=1.9070413>, 'status': 'training epoch ended'}\n",
      "CFO_off = -0.017886365914321252\n",
      "{'J': <tf.Tensor: shape=(), dtype=float32, numpy=3.3550744>, 'status': 'training epoch ended'}\n",
      "CFO_off = -0.03492214688705621\n",
      "{'J': <tf.Tensor: shape=(), dtype=float32, numpy=1.9302984>, 'status': 'training epoch ended'}\n",
      "CFO_off = 0.007623383459422078\n",
      "{'J': <tf.Tensor: shape=(), dtype=float32, numpy=3.5543962>, 'status': 'training epoch ended'}\n",
      "CFO_off = -0.01140366252803492\n",
      "{'J': <tf.Tensor: shape=(), dtype=float32, numpy=2.037987>, 'status': 'training epoch ended'}\n",
      "CFO_off = -0.014736887479556114\n",
      "{'J': <tf.Tensor: shape=(), dtype=float32, numpy=3.2573776>, 'status': 'training epoch ended'}\n",
      "CFO_off = 0.007357460756012095\n",
      "{'J': <tf.Tensor: shape=(), dtype=float32, numpy=1.8777831>, 'status': 'training epoch ended'}\n",
      "CFO_off = 0.003136912770424051\n",
      "{'J': <tf.Tensor: shape=(), dtype=float32, numpy=2.6709728>, 'status': 'training epoch ended'}\n",
      "CFO_off = -0.0002744916967541219\n",
      "{'J': <tf.Tensor: shape=(), dtype=float32, numpy=2.0056374>, 'status': 'training epoch ended'}\n",
      "CFO_off = -0.008651030236746687\n",
      "{'J': <tf.Tensor: shape=(), dtype=float32, numpy=2.7236795>, 'status': 'training epoch ended'}\n",
      "CFO_off = 0.010061252763721064\n",
      "{'J': <tf.Tensor: shape=(), dtype=float32, numpy=1.7221375>, 'status': 'training epoch ended'}\n",
      "CFO_off = -0.0075940894467882184\n",
      "{'J': <tf.Tensor: shape=(), dtype=float32, numpy=3.0210152>, 'status': 'training epoch ended'}\n",
      "CFO_off = -0.014133924154875039\n",
      "{'J': <tf.Tensor: shape=(), dtype=float32, numpy=2.4123547>, 'status': 'training epoch ended'}\n",
      "CFO_off = 0.0056030783694133515\n",
      "{'J': <tf.Tensor: shape=(), dtype=float32, numpy=3.1760135>, 'status': 'training epoch ended'}\n",
      "CFO_off = -0.008632494254459588\n",
      "{'J': <tf.Tensor: shape=(), dtype=float32, numpy=1.8804295>, 'status': 'training epoch ended'}\n",
      "CFO_off = 0.01856593449600454\n",
      "{'J': <tf.Tensor: shape=(), dtype=float32, numpy=4.817783>, 'status': 'training epoch ended'}\n",
      "CFO_off = 0.0033033292342554837\n",
      "{'J': <tf.Tensor: shape=(), dtype=float32, numpy=1.6428827>, 'status': 'training epoch ended'}\n",
      "CFO_off = -0.008615181334337139\n",
      "{'J': <tf.Tensor: shape=(), dtype=float32, numpy=3.9976234>, 'status': 'training epoch ended'}\n",
      "CFO_off = 0.000820923997314405\n",
      "{'J': <tf.Tensor: shape=(), dtype=float32, numpy=1.746176>, 'status': 'training epoch ended'}\n",
      "CFO_off = 0.015763777911360136\n",
      "{'J': <tf.Tensor: shape=(), dtype=float32, numpy=3.9846153>, 'status': 'training epoch ended'}\n",
      "CFO_off = 0.01190978597489121\n",
      "{'J': <tf.Tensor: shape=(), dtype=float32, numpy=1.8302654>, 'status': 'training epoch ended'}\n",
      "CFO_off = 0.034729835377184506\n",
      "{'J': <tf.Tensor: shape=(), dtype=float32, numpy=3.8964438>, 'status': 'training epoch ended'}\n",
      "CFO_off = 0.014715584965425604\n",
      "{'J': <tf.Tensor: shape=(), dtype=float32, numpy=2.1501737>, 'status': 'training epoch ended'}\n",
      "CFO_off = -0.01267662481084184\n",
      "{'J': <tf.Tensor: shape=(), dtype=float32, numpy=2.8862202>, 'status': 'training epoch ended'}\n",
      "CFO_off = 0.006269417552852258\n",
      "{'J': <tf.Tensor: shape=(), dtype=float32, numpy=2.2238157>, 'status': 'training epoch ended'}\n",
      "CFO_off = -0.01884056620647551\n",
      "{'J': <tf.Tensor: shape=(), dtype=float32, numpy=2.3929331>, 'status': 'training epoch ended'}\n",
      "CFO_off = -0.012598886509203914\n",
      "{'J': <tf.Tensor: shape=(), dtype=float32, numpy=2.0821888>, 'status': 'training epoch ended'}\n",
      "CFO_off = -0.023149117545617878\n",
      "{'J': <tf.Tensor: shape=(), dtype=float32, numpy=2.3426695>, 'status': 'training epoch ended'}\n",
      "CFO_off = -0.001398969553415734\n",
      "{'J': <tf.Tensor: shape=(), dtype=float32, numpy=3.2991402>, 'status': 'training epoch ended'}\n",
      "CFO_off = 0.01686854208797211\n",
      "{'J': <tf.Tensor: shape=(), dtype=float32, numpy=2.5488734>, 'status': 'training epoch ended'}\n",
      "CFO_off = 0.004012295556136912\n",
      "{'J': <tf.Tensor: shape=(), dtype=float32, numpy=3.267929>, 'status': 'training epoch ended'}\n",
      "CFO_off = -0.00961946113643074\n",
      "{'J': <tf.Tensor: shape=(), dtype=float32, numpy=2.1787252>, 'status': 'training epoch ended'}\n",
      "CFO_off = 0.016286060576146177\n",
      "{'J': <tf.Tensor: shape=(), dtype=float32, numpy=2.9092107>, 'status': 'training epoch ended'}\n"
     ]
    },
    {
     "data": {
      "text/plain": [
       "[<matplotlib.lines.Line2D at 0x234de61f190>]"
      ]
     },
     "execution_count": 45,
     "metadata": {},
     "output_type": "execute_result"
    },
    {
     "data": {
      "image/png": "[encoded data removed]",
      "text/plain": [
       "<Figure size 640x480 with 1 Axes>"
      ]
     },
     "metadata": {},
     "output_type": "display_data"
    }
   ],
   "source": [
    "# IMPORTANT \n",
    "# train step is called at end\n",
    "\n",
    "\n",
    "def train_step(x_train,y_train,):\n",
    "\n",
    "        x, y =  tf.cast(x_train,tf.float32) ,   tf.cast(y_train,tf.int32)\n",
    "\n",
    "\n",
    "\n",
    "\n",
    "        temp_prev_state_PE = tf.cast(tf.constant(np.zeros((1,8))),tf.float32)\n",
    "        temp_prev_state_FE = tf.cast(tf.constant(np.zeros((1,8))),tf.float32)\n",
    "\n",
    "\n",
    "\n",
    "        with tf.GradientTape(persistent=False) as tape:\n",
    "\n",
    "            encodings = encoder(x,\n",
    "                                     training=True)\n",
    "            \n",
    "            #print(\"r3 1 : encodings are ready\")\n",
    "            #print(\"encodings.shape\",encodings.shape)\n",
    "          \n",
    "\n",
    "#             all_y = r3ki3g_imitate_stch(encodings)\n",
    "#             print(\" by pass worked\")\n",
    "            all_y = stochastic_channel(encodings)\n",
    "            #print(\"r3 2 : channel effect added\")\n",
    "            #print(\"all_y.shape\", all_y.shape)\n",
    "\n",
    "\n",
    "            slices = ExternalSlicer(all_y,)\n",
    "            #print(\"r3 3 : slices are ready for the RX decoder\")\n",
    "\n",
    "\n",
    "            Jl = []\n",
    "            for i in range(slices.shape[0]):\n",
    "                #print(\"iteration\" , i)\n",
    "                with tape.stop_recording():\n",
    "                    y_slice = tf.expand_dims(slices[i,:],axis=0) \n",
    "                    label = tf.expand_dims(y[i,:],axis=0)\n",
    "#                     print(\"label d type\", label.dtype)\n",
    "#                     print(\"label\", label)\n",
    "                    \n",
    "              \n",
    "            \n",
    "\n",
    "\n",
    "                output = seq_decoder(y_slice,\n",
    "                                          temp_prev_state_FE,\n",
    "                                          temp_prev_state_PE)\n",
    "\n",
    "                # update states as well\n",
    "                st_hat,state_FE,state_PE = output[0], output[1], output[2]\n",
    "                \n",
    "#                 print(\"s hat dtype\", st_hat.dtype)\n",
    "#                 print(\"s hat shape\", st_hat.shape)\n",
    "#                 print(\"s hat\", st_hat)\n",
    "                \n",
    "                loss = criterion(label,st_hat)\n",
    "                \n",
    "                Jl.append(loss)\n",
    "                #print(f'-- current -- loss : {loss} , J : {J}')\n",
    "\n",
    "\n",
    "                # pass teh state to next iterration\n",
    "                temp_prev_state_FE = state_FE\n",
    "                temp_prev_state_PE = state_PE\n",
    "                \n",
    "\n",
    "            J = tf.reduce_mean(Jl)\n",
    "            # backpropagate\n",
    "            optimizer =  Adam(learning_rate=1e-2)\n",
    "            trainable_variables =  seq_decoder.trainable_variables # +  encoder.trainable_variables \n",
    "            #print(\"encoder.trainable_variables\",encoder.trainable_variables)\n",
    "            grads = tape.gradient(J,trainable_variables)\n",
    "            #print(\"grads are ready\")\n",
    "            optimizer.apply_gradients(zip(grads,trainable_variables))\n",
    "\n",
    "        #print(f'Epoch  : {_}/{epochs} --> Loss = {loss_acc}')\n",
    "\n",
    "\n",
    "\n",
    "        return {\"J\":J, \"status\": \"training epoch ended\"}\n",
    "\n",
    "\n",
    "\n",
    "\n",
    "jhist = []   \n",
    "for epoch_i in range(100):\n",
    "    hist  = train_step(x_train,y_train  )\n",
    "    print(hist)\n",
    "    jhist.append(hist[\"J\"])\n",
    "    \n",
    "    if epoch_i%10==0:\n",
    "        plt.plot(jhist)\n",
    "        plt.show()\n",
    "    \n",
    "\n",
    "plt.plot(jhist)\n",
    "plt.show()"
   ]
  },
  {
   "cell_type": "code",
   "execution_count": null,
   "metadata": {
    "hidden": true
   },
   "outputs": [],
   "source": [
    "# check accuracy\n"
   ]
  },
  {
   "cell_type": "code",
   "execution_count": null,
   "metadata": {
    "hidden": true
   },
   "outputs": [],
   "source": []
  },
  {
   "cell_type": "code",
   "execution_count": null,
   "metadata": {
    "hidden": true
   },
   "outputs": [],
   "source": []
  },
  {
   "cell_type": "code",
   "execution_count": 22,
   "metadata": {
    "ExecuteTime": {
     "end_time": "2024-04-16T21:25:39.848965Z",
     "start_time": "2024-04-16T21:25:39.835889Z"
    },
    "colab": {
     "base_uri": "https://localhost:8080/"
    },
    "hidden": true,
    "id": "XMXg7FqQsYoU",
    "outputId": "2de71e71-5be4-45dc-cb21-5f6044d91932"
   },
   "outputs": [
    {
     "data": {
      "text/plain": [
       "(56.1875, 60)"
      ]
     },
     "execution_count": 22,
     "metadata": {},
     "output_type": "execute_result"
    }
   ],
   "source": [
    "17980/320,17980%320\n"
   ]
  },
  {
   "cell_type": "code",
   "execution_count": 23,
   "metadata": {
    "ExecuteTime": {
     "end_time": "2024-04-16T21:25:40.711179Z",
     "start_time": "2024-04-16T21:25:39.853983Z"
    },
    "colab": {
     "base_uri": "https://localhost:8080/"
    },
    "hidden": true,
    "id": "G7XwICWFtf06",
    "outputId": "79af9993-71f3-4dbc-fd03-1e8a6412c8a8"
   },
   "outputs": [
    {
     "ename": "NameError",
     "evalue": "name 'Encoder' is not defined",
     "output_type": "error",
     "traceback": [
      "\u001b[1;31m---------------------------------------------------------------------------\u001b[0m",
      "\u001b[1;31mNameError\u001b[0m                                 Traceback (most recent call last)",
      "\u001b[1;32m~\\AppData\\Local\\Temp/ipykernel_6732/4097829577.py\u001b[0m in \u001b[0;36m<module>\u001b[1;34m\u001b[0m\n\u001b[1;32m----> 1\u001b[1;33m \u001b[0mEncoder\u001b[0m\u001b[1;33m(\u001b[0m\u001b[0mx_train\u001b[0m\u001b[1;33m)\u001b[0m\u001b[1;33m.\u001b[0m\u001b[0mshape\u001b[0m\u001b[1;33m\u001b[0m\u001b[1;33m\u001b[0m\u001b[0m\n\u001b[0m",
      "\u001b[1;31mNameError\u001b[0m: name 'Encoder' is not defined"
     ]
    }
   ],
   "source": [
    "Encoder(x_train).shape"
   ]
  },
  {
   "cell_type": "code",
   "execution_count": null,
   "metadata": {
    "ExecuteTime": {
     "end_time": "2024-04-16T21:25:40.715165Z",
     "start_time": "2024-04-16T21:25:40.715165Z"
    },
    "colab": {
     "base_uri": "https://localhost:8080/"
    },
    "hidden": true,
    "id": "E6VG8egR82WV",
    "outputId": "ec21fdc1-1486-4e42-f996-2b827bb1d792"
   },
   "outputs": [],
   "source": [
    "(2*28+30) * 2"
   ]
  },
  {
   "cell_type": "code",
   "execution_count": null,
   "metadata": {
    "ExecuteTime": {
     "end_time": "2024-04-16T21:25:40.716162Z",
     "start_time": "2024-04-16T21:25:40.716162Z"
    },
    "hidden": true,
    "id": "3FbYic3G88ti"
   },
   "outputs": [],
   "source": [
    "(17980-60)/(28*2)"
   ]
  },
  {
   "cell_type": "code",
   "execution_count": null,
   "metadata": {
    "ExecuteTime": {
     "end_time": "2024-04-16T21:25:40.717665Z",
     "start_time": "2024-04-16T21:25:40.717665Z"
    },
    "hidden": true
   },
   "outputs": [],
   "source": [
    "ExternalSlicer(out)"
   ]
  }
 ],
 "metadata": {
  "colab": {
   "provenance": []
  },
  "kernelspec": {
   "display_name": "Python 3 (ipykernel)",
   "language": "python",
   "name": "python3"
  },
  "language_info": {
   "codemirror_mode": {
    "name": "ipython",
    "version": 3
   },
   "file_extension": ".py",
   "mimetype": "text/x-python",
   "name": "python",
   "nbconvert_exporter": "python",
   "pygments_lexer": "ipython3",
   "version": "3.9.13"
  },
  "latex_envs": {
   "LaTeX_envs_menu_present": true,
   "autoclose": false,
   "autocomplete": true,
   "bibliofile": "biblio.bib",
   "cite_by": "apalike",
   "current_citInitial": 1,
   "eqLabelWithNumbers": true,
   "eqNumInitial": 1,
   "hotkeys": {
    "equation": "Ctrl-E",
    "itemize": "Ctrl-I"
   },
   "labels_anchors": false,
   "latex_user_defs": false,
   "report_style_numbering": false,
   "user_envs_cfg": false
  },
  "toc": {
   "base_numbering": 1,
   "nav_menu": {},
   "number_sections": true,
   "sideBar": true,
   "skip_h1_title": false,
   "title_cell": "Table of Contents",
   "title_sidebar": "Contents",
   "toc_cell": false,
   "toc_position": {},
   "toc_section_display": true,
   "toc_window_display": false
  },
  "varInspector": {
   "cols": {
    "lenName": 16,
    "lenType": 16,
    "lenVar": 40
   },
   "kernels_config": {
    "python": {
     "delete_cmd_postfix": "",
     "delete_cmd_prefix": "del ",
     "library": "var_list.py",
     "varRefreshCmd": "print(var_dic_list())"
    },
    "r": {
     "delete_cmd_postfix": ") ",
     "delete_cmd_prefix": "rm(",
     "library": "var_list.r",
     "varRefreshCmd": "cat(var_dic_list()) "
    }
   },
   "types_to_exclude": [
    "module",
    "function",
    "builtin_function_or_method",
    "instance",
    "_Feature"
   ],
   "window_display": false
  }
 },
 "nbformat": 4,
 "nbformat_minor": 1
}
