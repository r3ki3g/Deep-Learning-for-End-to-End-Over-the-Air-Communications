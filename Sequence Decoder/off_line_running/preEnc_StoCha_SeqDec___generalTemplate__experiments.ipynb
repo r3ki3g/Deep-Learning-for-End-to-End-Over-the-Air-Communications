{
 "cells": [
  {
   "cell_type": "markdown",
   "metadata": {},
   "source": [
    "\n",
    "# Automate to test different CFO  >> get plots\n",
    "\n",
    "\n",
    "<b>pre-version: -</b>\n",
    "preEnc_StoCha_SeqDec___archi_experiments_automated <****>\n",
    "\n",
    "<hr/>\n",
    "<b>Steps :-</b>\n",
    "\n",
    "  1. loop with different CFO_coefs\n",
    "\n"
   ]
  },
  {
   "cell_type": "markdown",
   "metadata": {
    "id": "VSTgsilO1_ur"
   },
   "source": [
    "online version of this notebook : https://colab.research.google.com/drive/12iz5_mTOmTa0oyn5IZZYnEskVUonViVW#scrollTo=VSTgsilO1_ur"
   ]
  },
  {
   "cell_type": "code",
   "execution_count": 5,
   "metadata": {
    "ExecuteTime": {
     "end_time": "2024-04-18T06:55:19.201379Z",
     "start_time": "2024-04-18T06:55:19.181281Z"
    }
   },
   "outputs": [],
   "source": [
    "# Experiments On/Off\n",
    "APPLY_TANH_STATE =  True"
   ]
  },
  {
   "cell_type": "code",
   "execution_count": 6,
   "metadata": {
    "ExecuteTime": {
     "end_time": "2024-04-18T06:55:19.221356Z",
     "start_time": "2024-04-18T06:55:19.203376Z"
    },
    "id": "pWavhXJRGytK"
   },
   "outputs": [],
   "source": [
    "import tensorflow as tf\n",
    "import keras\n",
    "from keras.optimizers import Adam\n",
    "from keras.layers import Dense\n",
    "from keras.models import Model, Sequential\n",
    "from keras.activations import relu, softmax, tanh\n",
    "from keras.losses import SparseCategoricalCrossentropy\n",
    "\n",
    "\n",
    "import numpy as np\n",
    "from matplotlib import pyplot as plt\n",
    "\n",
    "import time\n",
    "import os\n",
    "import sys\n",
    "import json"
   ]
  },
  {
   "cell_type": "markdown",
   "metadata": {
    "id": "MNx0nzHGxCtg"
   },
   "source": [
    "## PARAMS\n",
    "<a name=\"params\">.</a>\n",
    "<a href=\"#datasyn\">go to data gen</a>"
   ]
  },
  {
   "cell_type": "code",
   "execution_count": 7,
   "metadata": {
    "ExecuteTime": {
     "end_time": "2024-04-18T06:55:19.236805Z",
     "start_time": "2024-04-18T06:55:19.221356Z"
    },
    "id": "eQvOU0nYbPdu"
   },
   "outputs": [],
   "source": [
    "# Model parameters\n",
    "\n",
    "k = 4\n",
    "NUM_CHANNEL_USES = 7\n",
    "block_size = 320\n",
    "\n",
    "snr = 6 #9 for training\n",
    "\n",
    "model_training_num_of_frames = 10**3 #10**4\n",
    "model_validating_num_of_frames = 10**2 #10**3\n",
    "\n",
    "n_train = block_size * model_training_num_of_frames\n",
    "n_val   = block_size * model_validating_num_of_frames\n",
    "\n",
    "# Geanerating dataset\n",
    "model_output_num_of_frames = 10**5\n",
    "n_out = block_size * model_output_num_of_frames\n",
    "\n",
    "num_epoches = 5"
   ]
  },
  {
   "cell_type": "code",
   "execution_count": 8,
   "metadata": {
    "ExecuteTime": {
     "end_time": "2024-04-18T06:55:19.252444Z",
     "start_time": "2024-04-18T06:55:19.238800Z"
    },
    "id": "8llGxbteuvUt"
   },
   "outputs": [],
   "source": [
    "SLICED_Y_LENGTH = 16\n",
    "BATCH_SIZE =  1\n",
    "\n",
    "# in teh feature extractor path \"f\" : design param\n",
    "# Our experiments have shown that even a\n",
    "# small number of features, e.g., F = 4, significantly improves\n",
    "# the performance.\n",
    "N_FEATURES_EXTRACTED = 8"
   ]
  },
  {
   "cell_type": "code",
   "execution_count": 9,
   "metadata": {
    "ExecuteTime": {
     "end_time": "2024-04-18T06:55:19.268276Z",
     "start_time": "2024-04-18T06:55:19.253629Z"
    },
    "id": "AU4v5qeU_LTW"
   },
   "outputs": [],
   "source": [
    "def R2C(a):\n",
    "\n",
    "    aa = tf.cast(tf.reshape(a,shape=(BATCH_SIZE,-1,2)),tf.float32)\n",
    "\n",
    "    aaa = tf.complex(aa[:,:,0],aa[:,:,1])\n",
    "    return aaa\n",
    "\n",
    "def C2R(a):\n",
    "    real, imag = tf.expand_dims(tf.math.real(a),axis=2) ,tf.expand_dims(tf.math.imag(a), axis=2)\n",
    "    R = tf.concat((real,imag),axis=2)\n",
    "    R = tf.reshape(R , (BATCH_SIZE,-1)  )\n",
    "    return R\n"
   ]
  },
  {
   "cell_type": "markdown",
   "metadata": {
    "id": "I9Oj3oPvZcHV"
   },
   "source": [
    "# Stochastic Channel Model & Layer"
   ]
  },
  {
   "cell_type": "markdown",
   "metadata": {
    "id": "xsd5N4qhfV0O"
   },
   "source": [
    "### Additional Layers"
   ]
  },
  {
   "cell_type": "code",
   "execution_count": 10,
   "metadata": {
    "ExecuteTime": {
     "end_time": "2024-04-18T06:55:19.283446Z",
     "start_time": "2024-04-18T06:55:19.270221Z"
    },
    "id": "a73PhgGbfYlk"
   },
   "outputs": [],
   "source": [
    "class L2Normalization(tf.keras.layers.Layer):\n",
    "    def __init__(self,**kwargs):\n",
    "        super(L2Normalization, self).__init__(**kwargs)\n",
    "    def call(self, inputs):\n",
    "        out = tf.nn.l2_normalize(inputs, axis=-1)\n",
    "        #print(\"normalize output shape = \",out.shape)\n",
    "        return out\n",
    "    def get_config(self):\n",
    "        return super(L2Normalization, self).get_config()\n",
    "\n",
    "\n",
    "def generate_nakagami_samples(m, omega):\n",
    "    nakagami_amp_vec = nakagami.rvs(m,omega,size =  NUM_CHANNEL_USES)   # Same gain for the real part and the imaginary part\n",
    "    nakagami_phase_vec = np.random.uniform(low=0.0, high=2*np.pi, size = NUM_CHANNEL_USES)    # phase shift will effect the complex number\n",
    "    nakagami_for_real = np.reshape(nakagami_amp_vec*np.cos(nakagami_phase_vec),(-1,1))\n",
    "    nakagami_for_imag = np.reshape(nakagami_amp_vec*np.sin(nakagami_phase_vec),(-1,1))\n",
    "    fading_vec = np.reshape(np.concatenate((nakagami_for_real,nakagami_for_imag),axis=1),(1,-1))[0]\n",
    "    return  tf.constant(fading_vec, dtype=tf.float32)\n",
    "\n",
    "class NakagamiNoiseLayer(tf.keras.layers.Layer):\n",
    "    def __init__(self, distribution_params, **kwargs):\n",
    "        super(NakagamiNoiseLayer, self).__init__(**kwargs)\n",
    "        self.distribution_params = distribution_params\n",
    "\n",
    "    def call(self, inputs, training=False):\n",
    "      fading = generate_nakagami_samples(m = self.distribution_params[\"m\"],\n",
    "                                        omega = self.distribution_params[\"omega\"])\n",
    "      return inputs * fading"
   ]
  },
  {
   "cell_type": "markdown",
   "metadata": {
    "id": "H1ejiEuHf1B0"
   },
   "source": [
    "### Stochastic channel"
   ]
  },
  {
   "cell_type": "code",
   "execution_count": 11,
   "metadata": {
    "ExecuteTime": {
     "end_time": "2024-04-18T06:55:21.574263Z",
     "start_time": "2024-04-18T06:55:19.285930Z"
    },
    "id": "Tm8yRX0xa_ul"
   },
   "outputs": [],
   "source": [
    "from scipy.stats import truncnorm\n",
    "from scipy.stats import uniform\n",
    "\n",
    "channel_parameters = {\n",
    "    \"r\"        : 4,             # For upsampling -> number of complex samples per symbol\n",
    "    \"roll_off\" : 0.35,          # Roll off factor\n",
    "    \"num_taps\" : 31,            # L -> Number of taps (odd) for RRC filter\n",
    "    \"f_s\"      : 25e4,          # Add what is in the physical implementation\n",
    "    \"T_bound\"  : 1/25e4,        # 1/f_s Go through the resharch paper Deep Learning Based Communication Over the Air  (content under table 1)\n",
    "    \"time_delay\" : np.random.uniform(-1,1), # To convert the time delay into discrete domain, time dilay is giving relative to the sampling period\n",
    "    \"CFO\"      : 5e3,           # Observe from the physical implementation\n",
    "    \"CFO_std\"  : 5e3/25e4,      # CFO/f_s\n",
    "    \"snr\"      : 6,             # noise power will be calculating assuming transmittting power of 1\n",
    "    \"phase_off\": uniform.rvs(scale = 2*np.pi)  # constant for one channel input\n",
    "}"
   ]
  },
  {
   "cell_type": "code",
   "execution_count": 12,
   "metadata": {
    "ExecuteTime": {
     "end_time": "2024-04-18T06:55:21.605746Z",
     "start_time": "2024-04-18T06:55:21.574263Z"
    },
    "id": "gA_f6Q7cZiUN"
   },
   "outputs": [],
   "source": [
    "\n",
    "# Making the stochasticChannelLayer\n",
    "\n",
    "# function to create the complex values\n",
    "def real_to_complex_tensor(inp_tensor):\n",
    "  inp_tensor = tf.reshape(inp_tensor, [-1, 2])\n",
    "  real_part = inp_tensor[:, 0]\n",
    "  imag_part = inp_tensor[:, 1]\n",
    "  complex_tensor = tf.complex(real_part, imag_part)\n",
    "  return complex_tensor\n",
    "\n",
    "def complex_to_real_tensor(inp_tensor):\n",
    "   real_part , imag_part = tf.math.real(inp_tensor), tf.math.imag(inp_tensor)\n",
    "   real_part = tf.reshape(real_part,[-1,1])\n",
    "   imag_part = tf.reshape(imag_part,[-1,1])\n",
    "   return tf.reshape(tf.concat([real_part,imag_part],1),[-1])\n",
    "\n",
    "# Upsample\n",
    "def upsampling(inp,r):\n",
    "  com_reshape = tf.reshape(inp,[-1,1])\n",
    "  padding = tf.constant([[0,0],[0,r-1]])\n",
    "  upsampled = tf.pad(com_reshape,padding,\"CONSTANT\")\n",
    "  return tf.reshape(upsampled,[-1])\n",
    "\n",
    "# Normalized RRC with time shift\n",
    "def NRRC_filter(num_taps, roll_off, time_delay):\n",
    "  t = np.linspace(-(num_taps-1)/2,(num_taps-1)/2,num_taps) - time_delay\n",
    "  eps = np.finfo(float).eps # Small epsilon to avoid divisiomn by zero\n",
    "  pi = np.pi\n",
    "  def RRC_filter_coff(t):\n",
    "    if abs(t) < eps:  # For t==0\n",
    "      return 1.0 - roll_off + (4*roll_off/pi)\n",
    "    elif roll_off != 0 and (abs(t-1/(4*roll_off))<eps or abs(t+1/(4*roll_off))<eps):\n",
    "      return (roll_off/np.sqrt(2))*(1 + 2/pi)*np.sin(pi/(4*roll_off)) + (1- 2/pi)*np.cos(pi/(4*roll_off))\n",
    "    else:\n",
    "      nu = np.sin(pi*t*(1-roll_off)) + 4*roll_off*t*np.cos(pi*t*(1+roll_off))\n",
    "      den = pi*t*(1-(4*roll_off*t)**2)\n",
    "      return nu/(den + eps)\n",
    "  filter_coff = np.array([RRC_filter_coff(T) for T in t])\n",
    "  NRRC_filter_coff = filter_coff / np.sum(np.abs(filter_coff))\n",
    "  #print(f\"Time_delay = {time_delay}\")\n",
    "  #plt.stem(t,NRRC_filter_coff)  # Plot for visualization\n",
    "  return tf.constant(NRRC_filter_coff,dtype = tf.float32)\n",
    "\n",
    "# Phase offset\n",
    "def PhaseOffset_vec(batch_size,NUM_CHANNEL_USES,num_taps,r,CFO_std,phase_off,CFO_coef):\n",
    "  l = batch_size*r*NUM_CHANNEL_USES+num_taps-1\n",
    "  CFO_off = CFO_coef * CFO_std * truncnorm.rvs(-1.96,1.96) # truncnorm.rvs(-1.96,1.96)*CFO_std  # boundaries will be selected for 95% confidence\n",
    "    \n",
    "  #print(\"CFO_off =\",CFO_off)\n",
    "  #print(\"Phase offset = \",phase_off)                                          # CFO_min and CFO_max (boundaries) will be selected for 95% confidence\n",
    "  exp_vec = []\n",
    "  for i in range(l):\n",
    "    exp_vec.append(tf.math.exp(tf.constant([0+(2*np.pi*i*CFO_off+phase_off)*1j],dtype=tf.complex64)))\n",
    "  return tf.reshape(tf.stack(exp_vec),[-1])\n",
    "\n",
    "\n",
    "class UpsamplingLayer(keras.layers.Layer):\n",
    "    def __init__(self, r =channel_parameters['r']):\n",
    "        super().__init__()\n",
    "        self.r = r\n",
    "    def call(self,inputs):\n",
    "       return upsampling(inputs,self.r)\n",
    "\n",
    "class PulseShaping(keras.layers.Layer):\n",
    "    def __init__(self,num_taps,roll_off,time_delay):\n",
    "      super().__init__()\n",
    "      self.nrrc_filter = NRRC_filter(num_taps,roll_off,time_delay)\n",
    "      self.nrrc_filter = tf.reshape(self.nrrc_filter,[num_taps,1,1])\n",
    "      self.num_taps = num_taps\n",
    "    def call(self, inputs):\n",
    "      padding_size = self.num_taps // 2\n",
    "      paddings = tf.constant([[padding_size, padding_size]])\n",
    "      real_part = tf.pad(tf.math.real(inputs), paddings, \"CONSTANT\")\n",
    "      imag_part = tf.pad(tf.math.imag(inputs), paddings, \"CONSTANT\")\n",
    "      real_part = tf.reshape(real_part,[1,-1,1])\n",
    "      imag_part = tf.reshape(imag_part,[1,-1,1])\n",
    "      real_conv = tf.nn.conv1d(real_part,self.nrrc_filter,stride=1,padding=\"SAME\")\n",
    "      imag_conv = tf.nn.conv1d(imag_part,self.nrrc_filter,stride=1,padding=\"SAME\")\n",
    "      real_conv = tf.reshape(real_conv,[-1])\n",
    "      imag_conv = tf.reshape(imag_conv,[-1])\n",
    "      return tf.complex(real_conv,imag_conv)\n",
    "\n",
    "# r3ki3g added new arg : CFO_coef\n",
    "class PhaseOffset(keras.layers.Layer):\n",
    "    def __init__(self,batch_size,NUM_CHANNEL_USES,num_taps,r,CFO_std,phase_off,CFO_coef):\n",
    "      super().__init__()\n",
    "      self.CFO_coef = CFO_coef\n",
    "      self.batch_size = batch_size\n",
    "      self.num_channel_uses = NUM_CHANNEL_USES\n",
    "      self.num_taps = num_taps\n",
    "      self.r = r\n",
    "      self.CFO_std = CFO_std\n",
    "      self.phase_off = phase_off\n",
    "    def call(self,inputs):\n",
    "       return inputs * PhaseOffset_vec(self.batch_size,\n",
    "                                       self.num_channel_uses,\n",
    "                                       self.num_taps,\n",
    "                                       self.r,\n",
    "                                       self.CFO_std,\n",
    "                                       self.phase_off,\n",
    "                                       self.CFO_coef) # r3ki3g pass new arg CFO_coef\n",
    "\n",
    "# r3ki3g modified the class\n",
    "class StochasticChannelLayer(keras.layers.Layer):\n",
    "    \"\"\"This channel will output 1D tensor.\n",
    "        channel_parameters ---> custom class for parameters store\n",
    "                                channel_parameters = {\n",
    "                                    \"r\"        : 4,             # For upsampling -> number of complex samples per symbol\n",
    "                                    \"roll_off\" : 0.35,          # Roll off factor\n",
    "                                    \"num_taps\" : 31,            # L -> Number of taps (odd) for RRC filter\n",
    "                                    \"f_s\"      : 25e4,          # Add what is in the physical implementation\n",
    "                                    \"T_bound\"  : 1/25e4,        # 1/f_s Go through the resharch paper Deep Learning Based Communication Over the Air  (content under table 1)\n",
    "                                    \"time_delay\" : np.random.uniform(-1,1), # To convert the time delay into discrete domain, time dilay is giving relative to the sampling period\n",
    "                                    \"CFO\"      : 5e3,           # Observe from the physical implementation\n",
    "                                    \"CFO_std\"  : 5e3/25e4,      # CFO/f_s\n",
    "                                    \"snr\"      : 6,             # noise power will be calculating assuming transmittting power of 1\n",
    "                                    \"phase_off\": uniform.rvs(scale = 2*np.pi)  # constant for one channel input\n",
    "                                }\n",
    "        r ----------> upsampling constant (number of complex samples per symbol)\n",
    "        time_delay -> uniformly distributed time delay between (-1,1), discrete domain,\n",
    "                      time dilay is giving relative to the sampling period\n",
    "        CFO_std ----> CFO_frequency / sampling_frequency is taken as the standared deviation\n",
    "        snr --------> snr for AWGN channel\n",
    "        output_shape -> None - output_shape is 1D tensor for sequence decoder, or give an output shape prefer \"\"\"\n",
    "    def __init__(self, NUM_CHANNEL_USES,batch_size,channel_parameters,CFO_coef=0.1):\n",
    "        super().__init__()\n",
    "        self.UpSamplingLayer_inst = UpsamplingLayer(r)\n",
    "        self.PulseShaping_inst = PulseShaping(channel_parameters['num_taps'],channel_parameters['roll_off'],channel_parameters['time_delay'])\n",
    "        self.PhaseOffset_inst = PhaseOffset(batch_size,\n",
    "                                            NUM_CHANNEL_USES,\n",
    "                                            channel_parameters['num_taps'],\n",
    "                                            channel_parameters['r'],\n",
    "                                            channel_parameters['CFO_std'],\n",
    "                                            channel_parameters['phase_off'],\n",
    "                                            CFO_coef) # r3ki3g pass new arg : CFO_coef\n",
    "        \n",
    "        self.AWGNlayer = keras.layers.GaussianNoise(stddev = np.sqrt(1/10**(channel_parameters['snr']/10)))\n",
    "        \n",
    "    def call(self, inputs):\n",
    "      inputs = tf.reshape(inputs,[-1])\n",
    "      inputs = real_to_complex_tensor(inputs)\n",
    "      x = self.UpSamplingLayer_inst(inputs)\n",
    "      x = self.PulseShaping_inst(x)\n",
    "      x = self.PhaseOffset_inst(x)\n",
    "      x = complex_to_real_tensor(x)\n",
    "      x = self.AWGNlayer(x)\n",
    "      #print(\"StochasticChannelLayer output shape = \",x.shape)\n",
    "      return x\n",
    "\n",
    "\n",
    "# r3ki3g modified this class  :  added CFO_coef to init args, PhaseOffset args\n",
    "# Stochastic channel model\n",
    "class StochasticChannelModel(keras.Model):\n",
    "    \"\"\"This channel will output 1D tensor.\n",
    "        channel_parameters ---> custom class for parameters store\n",
    "                                channel_parameters = {\n",
    "                                    \"r\"        : 4,             # For upsampling -> number of complex samples per symbol\n",
    "                                    \"roll_off\" : 0.35,          # Roll off factor\n",
    "                                    \"num_taps\" : 31,            # L -> Number of taps (odd) for RRC filter\n",
    "                                    \"f_s\"      : 25e4,          # Add what is in the physical implementation\n",
    "                                    \"T_bound\"  : 1/25e4,        # 1/f_s Go through the resharch paper Deep Learning Based Communication Over the Air  (content under table 1)\n",
    "                                    \"time_delay\" : np.random.uniform(-1,1), # To convert the time delay into discrete domain, time dilay is giving relative to the sampling period\n",
    "                                    \"CFO\"      : 5e3,           # Observe from the physical implementation\n",
    "                                    \"CFO_std\"  : 5e3/25e4,      # CFO/f_s\n",
    "                                    \"snr\"      : 6,             # noise power will be calculating assuming transmittting power of 1\n",
    "                                    \"phase_off\": uniform.rvs(scale = 2*np.pi)  # constant for one channel input\n",
    "                                }\n",
    "        r ----------> upsampling constant (number of complex samples per symbol)\n",
    "        time_delay -> uniformly distributed time delay between (-1,1), discrete domain,\n",
    "                      time dilay is giving relative to the sampling period\n",
    "        CFO_std ----> CFO_frequency / sampling_frequency is taken as the standared deviation\n",
    "        snr --------> snr for AWGN channel\n",
    "        output_shape -> None - output_shape is 1D tensor for sequence decoder, or give an output shape prefer \"\"\"\n",
    "    def __init__(self, NUM_CHANNEL_USES,batch_size,channel_parameters,CFO_coef):\n",
    "        super().__init__()\n",
    "        self.UpSamplingLayer_inst = UpsamplingLayer(channel_parameters['r'])\n",
    "        \n",
    "        self.PulseShaping_inst = PulseShaping(channel_parameters['num_taps'],\n",
    "                                              channel_parameters['roll_off'],\n",
    "                                              channel_parameters['time_delay'])\n",
    "        \n",
    "        self.PhaseOffset_inst = PhaseOffset(batch_size,\n",
    "                                            NUM_CHANNEL_USES,\n",
    "                                            channel_parameters['num_taps'],\n",
    "                                            channel_parameters['r'],\n",
    "                                            channel_parameters['CFO_std'],\n",
    "                                            channel_parameters['phase_off'],\n",
    "                                            CFO_coef)\n",
    "        \n",
    "        self.AWGNlayer = keras.layers.GaussianNoise(stddev = np.sqrt(1/10**(channel_parameters['snr']/10)))\n",
    "        \n",
    "    def call(self, inputs):\n",
    "      inputs = tf.reshape(inputs,[-1])\n",
    "      inputs = real_to_complex_tensor(inputs)\n",
    "      x = self.UpSamplingLayer_inst(inputs)\n",
    "      x = self.PulseShaping_inst(x)\n",
    "      x = self.PhaseOffset_inst(x)\n",
    "      x = complex_to_real_tensor(x)\n",
    "      x = self.AWGNlayer(x)\n",
    "      #print(\"StochasticChannelLayer output shape = \",x.shape)\n",
    "      return x\n"
   ]
  },
  {
   "cell_type": "code",
   "execution_count": 13,
   "metadata": {
    "ExecuteTime": {
     "end_time": "2024-04-18T06:55:21.620999Z",
     "start_time": "2024-04-18T06:55:21.607689Z"
    }
   },
   "outputs": [],
   "source": [
    "# Decoder mask layer\n",
    "\n",
    "class PulseShaping_Dec(keras.layers.Layer):\n",
    "    def __init__(self,num_taps,r,roll_off,time_delay):\n",
    "      super().__init__()\n",
    "      self.nrrc_filter = NRRC_filter(num_taps,roll_off,time_delay)\n",
    "      self.nrrc_filter = tf.reshape(self.nrrc_filter,[num_taps,1,1])\n",
    "      self.num_taps = num_taps\n",
    "      self.r =r\n",
    "    def call(self, inputs):\n",
    "      inputs = tf.reshape(inputs,[1,-1,1])\n",
    "      inp_conv = tf.nn.conv1d(inputs,self.nrrc_filter,stride=self.r,padding=\"VALID\")\n",
    "      inp_conv = tf.reshape(inp_conv,[-1])\n",
    "      return inp_conv\n",
    "\n",
    "\n",
    "class DecoderMaskLayer(keras.layers.Layer):\n",
    "    def __init__(self,channel_parameters,NUM_CHANNEL_USES):\n",
    "        super().__init__()\n",
    "        # self.Convo = PulseShaping_Dec(channel_parameters['num_taps'],channel_parameters['r'],channel_parameters['roll_off'],channel_parameters['time_delay'])\n",
    "        self.Convo = tf.keras.layers.Conv1D(1,channel_parameters['num_taps'],strides=channel_parameters['r'], padding = 'valid',activation = 'relu',use_bias=True)\n",
    "        self.channel_uses = NUM_CHANNEL_USES\n",
    "    def call(self,inputs):\n",
    "        inp = tf.reshape(inputs,[-1,2])\n",
    "        real_part, imag_part = inp[:,0],inp[:,1]\n",
    "        vec_shape = real_part.shape[0]\n",
    "        #print(\"real shape\",real_part.shape)\n",
    "        real_part, imag_part = tf.reshape(real_part,[1,vec_shape,1]), tf.reshape(imag_part,[1,vec_shape,1])\n",
    "        real_part = tf.reshape(self.Convo(real_part),[-1,1])\n",
    "        imag_part = tf.reshape(self.Convo(imag_part),[-1,1])\n",
    "        #print(\"real shape after conv \",real_part.shape)\n",
    "        outputs = tf.concat([real_part,imag_part],1)\n",
    "        return tf.reshape(outputs,[-1,2*self.channel_uses])"
   ]
  },
  {
   "cell_type": "markdown",
   "metadata": {
    "id": "HG_PMHaC_Nbd"
   },
   "source": [
    "## Main Blocks in the Sequence Decoder"
   ]
  },
  {
   "cell_type": "code",
   "execution_count": 14,
   "metadata": {
    "ExecuteTime": {
     "end_time": "2024-04-18T06:55:21.636626Z",
     "start_time": "2024-04-18T06:55:21.622046Z"
    },
    "id": "Mx-vTDXeUVmT"
   },
   "outputs": [],
   "source": [
    "\n",
    "class FeatureExtractor(Model):\n",
    "    def __init__(self,n_front_dense=1,state_width=8):\n",
    "        super().__init__()\n",
    "\n",
    "        self.cf1 = Sequential()\n",
    "        for i in range(n_front_dense):\n",
    "            self.cf1.add(Dense(256,name=f\"r3->FeatureExtractor->cf1->{i}\"))\n",
    "            self.cf1.add(tf.keras.layers.Activation('relu'))\n",
    "\n",
    "        self.cf2 = Dense(N_FEATURES_EXTRACTED,name=\"r3->FeatureExtractor->cf2\")\n",
    "\n",
    "        self.cf_state = Dense(state_width,name=\"featureExtractor_stateFC\")\n",
    "\n",
    "    def call(self,sliced_y,prev_state_FE):\n",
    "       \n",
    "\n",
    "        # combine the sliced_y and prev_state_FE\n",
    "        sliced_y = tf.concat([sliced_y,prev_state_FE],axis=1)\n",
    "\n",
    "        sliced_y = self.cf1(sliced_y)\n",
    "        \n",
    "\n",
    "        state_FE = self.cf_state(sliced_y) # state calculated here\n",
    "        if APPLY_TANH_STATE:\n",
    "            state_FE = tanh(state_FE)\n",
    "\n",
    "        sliced_y = self.cf2(state_FE)\n",
    "\n",
    "        return sliced_y,state_FE\n",
    "\n",
    "class PhaseEstimator(Model):\n",
    "    def __init__(self,n_front_dense=1,state_width=8):\n",
    "        super().__init__()\n",
    "\n",
    "        self.cf1 = Sequential()\n",
    "        for i in range(n_front_dense):\n",
    "            self.cf1.add(Dense(256,name=f\"r3->PhaseEstimator->cf1->{i}\"))\n",
    "            self.cf1.add(tf.keras.layers.Activation('relu'))\n",
    "        \n",
    "        self.cf2 = Dense(2,name=\"r3->PhaseEstimator->cf2\")\n",
    "\n",
    "        self.cf_state = Dense(state_width,name=\"PhaseEstimator_stateFC\")\n",
    "\n",
    "\n",
    "    def call(self,sliced_y,prev_state_PE):\n",
    "        # combine sliced_y and prev_state_PE\n",
    "        sliced_y = tf.concat([sliced_y,prev_state_PE],axis=1)\n",
    "        sliced_y = self.cf1(sliced_y)\n",
    "        sliced_y = relu(sliced_y)\n",
    "\n",
    "        state_PE = self.cf_state(sliced_y) # state calculated here\n",
    "        if APPLY_TANH_STATE:\n",
    "            state_PE = tanh(state_PE)\n",
    "\n",
    "        sliced_y = self.cf2(state_PE)\n",
    "\n",
    "        return sliced_y,state_PE\n",
    "\n",
    "\n",
    "\n",
    "\n",
    "\n",
    "class Rx_Decoder_new(Model):\n",
    "    def __init__(self,n_front_dense=2):\n",
    "        super().__init__()\n",
    "\n",
    "        self.cf1 = Sequential()\n",
    "        for i in range(n_front_dense):\n",
    "            self.cf1.add( Dense(256,name=f\"r3->Rx_Decoder_new->cf1->{i}\"))\n",
    "            self.cf1.add(tf.keras.layers.Activation('relu'))\n",
    "       \n",
    "        self.cf3 = Dense(16,name=\"final_out_cf3\")\n",
    "\n",
    "        # useless\n",
    "        #self.cf4_state = Dense(8,name=\"state_dense_cf4\")\n",
    "\n",
    "    def call(self,concat):\n",
    "\n",
    "        concat = self.cf1(concat) # relu applied inside\n",
    "        \n",
    "        \n",
    "        # state = self.cf4_state(concat)\n",
    "        concat = self.cf3(concat)\n",
    "\n",
    "\n",
    "\n",
    "        # do not use softmax here : put from logit  = True in loss func\n",
    "        # concat = softmax(concat)\n",
    "\n",
    "        return concat\n",
    "\n",
    "\n",
    "\n",
    "\n",
    "class InternalSlicer(Model):\n",
    "    def __init__(self,l1,l2,complex_length):\n",
    "        super().__init__()\n",
    "\n",
    "        # define the slice boundaries\n",
    "        mid = complex_length // 2\n",
    "        self.start = mid - l1\n",
    "        self.end = mid + l2 + 1\n",
    "\n",
    "    def call(self,sliced_y):\n",
    "\n",
    "        ret = C2R(  R2C(sliced_y)[:, self.start:self.end]  )\n",
    "\n",
    "        return ret\n",
    "\n",
    "\n",
    "def phase_multiply(internally_sliced_y,estimated_phase):\n",
    "    # (a,b) * (c,d) = (ac-bd,ad+bc)\n",
    "\n",
    "    internally_sliced_y_complex = R2C(internally_sliced_y)\n",
    "    estimated_phase_complex = R2C(estimated_phase)\n",
    "    phase_corrected_complex = tf.multiply(estimated_phase_complex , internally_sliced_y_complex)\n",
    "\n",
    "    phase_corrected = C2R(phase_corrected_complex)\n",
    "    return phase_corrected\n",
    "\n",
    "\n",
    "\n",
    "\n"
   ]
  },
  {
   "cell_type": "markdown",
   "metadata": {
    "id": "2T9CJbZr_UgK"
   },
   "source": [
    "## Fake data syn"
   ]
  },
  {
   "cell_type": "code",
   "execution_count": 15,
   "metadata": {
    "ExecuteTime": {
     "end_time": "2024-04-18T06:55:21.652452Z",
     "start_time": "2024-04-18T06:55:21.638608Z"
    },
    "id": "mj1GemkdxHCs"
   },
   "outputs": [],
   "source": [
    "# generate fake data\n",
    "\n",
    "# m = 512* 2** 2\n",
    "# X = tf.random.normal(shape=(block_size,SLICED_Y_LENGTH),\n",
    "#                      mean=0,\n",
    "#                      stddev=1)\n",
    "\n",
    "# Y = tf.random.uniform(shape=(m,1),\n",
    "#                       minval=0,\n",
    "#                       maxval=16,\n",
    "#                       dtype=tf.int32)\n",
    "# Y = keras.utils.to_categorical(Y,16)\n"
   ]
  },
  {
   "cell_type": "markdown",
   "metadata": {
    "id": "R4xqcXAB_XdM"
   },
   "source": [
    "## Main Model : Sequence Decoder Class"
   ]
  },
  {
   "cell_type": "code",
   "execution_count": 16,
   "metadata": {
    "ExecuteTime": {
     "end_time": "2024-04-18T06:55:21.667741Z",
     "start_time": "2024-04-18T06:55:21.653664Z"
    },
    "id": "M_bSkx9vHEAd"
   },
   "outputs": [],
   "source": [
    "# sequence decoder\n",
    "\n",
    "\n",
    "class SequenceDecoder(Model):\n",
    "\n",
    "    def __init__(self,\n",
    "                 take_prev_phase_state=False,\n",
    "                 n_front_dense_FE=1,\n",
    "                 n_front_dense_PE=1,\n",
    "                 n_front_dense_RxDec=2,\n",
    "                 state_width=8):\n",
    "        \n",
    "        super(SequenceDecoder,self).__init__()\n",
    "\n",
    "        self.take_prev_phase_state = take_prev_phase_state\n",
    "        self.state_width = state_width\n",
    "\n",
    "        self.feature_extractor = FeatureExtractor(n_front_dense=n_front_dense_FE,state_width=state_width)\n",
    "        self.phase_estimator = PhaseEstimator(n_front_dense=n_front_dense_PE,state_width=state_width)\n",
    "        self.internal_slicer = InternalSlicer(l1=3,l2=3,complex_length=SLICED_Y_LENGTH//2)\n",
    "\n",
    "        if take_prev_phase_state:\n",
    "            self.rx_decoder_RNN = Rx_Decoder_new(n_front_dense=n_front_dense_RxDec)\n",
    "        else:\n",
    "            raise Exception(\"How  come here??\")\n",
    "            #self.rx_decoder = Rx_Decoder_old()\n",
    "\n",
    "\n",
    "\n",
    "    def call(self,\n",
    "             sliced_y,\n",
    "             prev_state_FE=None,\n",
    "             prev_state_PE=None):\n",
    "        \n",
    "        \n",
    "\n",
    "        if prev_state_PE is None:\n",
    "            print(\" How this none?\")\n",
    "            prev_state_PE = tf.constant(tf.zeros((block_size,self.state_width)))\n",
    "        if prev_state_FE is None:\n",
    "            print(\" How this none?\")\n",
    "            prev_state_FE = tf.constant(tf.zeros((block_size,self.state_width)))\n",
    "\n",
    "\n",
    "        # RNN conn starts here\n",
    "\n",
    "        output_FE = self.feature_extractor(sliced_y,prev_state_FE=prev_state_FE)\n",
    "        extracted_features,state_FE = output_FE[0], output_FE[1]\n",
    "\n",
    "\n",
    "\n",
    "        output_PE = self.phase_estimator(sliced_y,prev_state_PE=prev_state_PE)\n",
    "        estimated_phase,state_PE = output_PE[0], output_PE[1]\n",
    "\n",
    "        # RNN conn ends here\n",
    "\n",
    "        internally_sliced_y = self.internal_slicer(sliced_y)\n",
    "\n",
    "\n",
    "\n",
    "        phase_corrected_ = phase_multiply(internally_sliced_y,estimated_phase)\n",
    "\n",
    "        concat = tf.concat((extracted_features,phase_corrected_),axis=1)\n",
    "        if self.take_prev_phase_state:\n",
    "            st_hat = self.rx_decoder_RNN(concat)\n",
    "            return (st_hat,state_FE,state_PE)\n",
    "        else:\n",
    "            raise Exception(\"How came here????\")\n",
    "            print(\"--PROBLEM--\")\n",
    "            st_hat = self.rx_decoder(concat)\n",
    "            return st_hat\n",
    "\n",
    "\n",
    "\n",
    "    def custom_train(self,X,Y,epochs=1): # X =  vertically stacked sliced_y, y = message index\n",
    "\n",
    "        raise Exception(\"This function need to be changed\")\n",
    "        \n",
    "        # tarin per each time step\n",
    "        for _ in range(epochs):\n",
    "\n",
    "            # temp_prev_state_PE = [tf.constant(tf.zeros((X.shape[0],8)))] #append the last PE state here\n",
    "            # temp_prev_state_FE = [tf.constant(tf.zeros((X.shape[0],8)))] #append the last FE state here\n",
    "\n",
    "            temp_prev_state_PE = tf.constant(tf.zeros((1,8)))\n",
    "            temp_prev_state_FE = tf.constant(tf.zeros((1,8)))\n",
    "\n",
    "            loss_acc = 0\n",
    "\n",
    "            for i in range(X.shape[0]):\n",
    "                print(f\"iterration : {i}\")\n",
    "                x =  tf.expand_dims(X[i,:],axis=0)\n",
    "\n",
    "                y = tf.expand_dims(Y[i,:],axis=0)\n",
    "\n",
    "                with tf.GradientTape() as tape:\n",
    "                    output = self.call(x,\n",
    "                                       prev_state_PE=temp_prev_state_PE,\n",
    "                                       prev_state_FE=temp_prev_state_FE)\n",
    "\n",
    "                    st_hat,state_FE,state_PE = output[0], output[1], output[2]\n",
    "                    loss = self.compiled_loss(y,st_hat)\n",
    "\n",
    "                    #temp_prev_state = state ###### assign add dala balanna\n",
    "\n",
    "                    temp_prev_state_FE = (state_FE)\n",
    "                    temp_prev_state_PE = (state_PE)\n",
    "\n",
    "                grads = tape.gradient(loss,self.trainable_variables)\n",
    "                self.optimizer.apply_gradients(zip(grads,self.trainable_variables))\n",
    "\n",
    "                loss_acc += loss.numpy() / X.shape[0] # take the mean\n",
    "                print(\"loss (individual): \", loss.numpy())\n",
    "            print(f'Epoch  : {_}/{epochs} --> Loss = {loss_acc}')\n",
    "\n",
    "        # returning the final batch's loss\n",
    "        return loss_acc\n",
    "\n",
    "\n"
   ]
  },
  {
   "cell_type": "code",
   "execution_count": null,
   "metadata": {
    "ExecuteTime": {
     "end_time": "2024-04-15T06:45:05.437856Z",
     "start_time": "2024-04-15T06:45:05.422233Z"
    },
    "id": "jq24YZr4baut"
   },
   "outputs": [],
   "source": []
  },
  {
   "cell_type": "code",
   "execution_count": 17,
   "metadata": {
    "ExecuteTime": {
     "end_time": "2024-04-18T06:55:21.683649Z",
     "start_time": "2024-04-18T06:55:21.668739Z"
    },
    "id": "KqIhonChiDnM",
    "scrolled": true
   },
   "outputs": [],
   "source": [
    "# test the SD\n",
    "# tested and worked\n",
    "# mySD =   SequenceDecoder(take_prev_phase_state=True)\n",
    "\n",
    "# mySD.compile(optimizer=Adam(learning_rate=1e-2),\n",
    "#              loss=SparseCategoricalCrossentropy(from_logits=True),\n",
    "#              metrics=['accuracy'])\n",
    "\n",
    "\n",
    "# mySD.custom_train(X,Y)\n",
    "\n",
    "\n",
    "\n"
   ]
  },
  {
   "cell_type": "code",
   "execution_count": 18,
   "metadata": {
    "ExecuteTime": {
     "end_time": "2024-04-18T06:55:21.698861Z",
     "start_time": "2024-04-18T06:55:21.684642Z"
    },
    "id": "_rXUaAKBtGjj"
   },
   "outputs": [],
   "source": [
    "# mySD.build((2048,16))"
   ]
  },
  {
   "cell_type": "markdown",
   "metadata": {
    "id": "ft4zIJOAb70O"
   },
   "source": [
    "# Autoencoder model"
   ]
  },
  {
   "cell_type": "code",
   "execution_count": 19,
   "metadata": {
    "ExecuteTime": {
     "end_time": "2024-04-18T06:55:21.721086Z",
     "start_time": "2024-04-18T06:55:21.699853Z"
    },
    "id": "t3LnggrMdYqV"
   },
   "outputs": [],
   "source": [
    "AWGN_std = np.sqrt(1/10**(snr/10))\n",
    "act_func = 'tanh' # 'relu'\n"
   ]
  },
  {
   "cell_type": "code",
   "execution_count": 20,
   "metadata": {
    "ExecuteTime": {
     "end_time": "2024-04-18T06:55:21.736621Z",
     "start_time": "2024-04-18T06:55:21.721086Z"
    },
    "colab": {
     "base_uri": "https://localhost:8080/",
     "height": 501
    },
    "id": "4hLPpWIedf60",
    "outputId": "8341a7e9-8951-4f82-f9ee-2ba4bf06660a"
   },
   "outputs": [],
   "source": [
    "# # Encoder\n",
    "# Encoder = Sequential([\n",
    "#                     Dense(2**k, activation=act_func,input_shape=(2**k,)),#Dense(2**k, activation=act_func,input_shape=(k,)),\n",
    "#                     Dense(2**k, activation=act_func),\n",
    "#                     Dense(2*NUM_CHANNEL_USES, activation='linear',name=\"Encode_last_dense\"),\n",
    "#                     L2Normalization(name=\"normalization_layer\"),\n",
    "# ])\n",
    "\n",
    "# # Channel\n",
    "# Stochastic_channel = StochasticChannelModel(NUM_CHANNEL_USES,block_size,r,roll_off,L,time_delay,CFO_std,snr)\n",
    "\n",
    "# # Sequence decoder\n",
    "# Seq_decoder = SequenceDecoder(take_prev_phase_state=True)\n",
    "\n",
    "# # Auto encoder\n",
    "# Autoencoder = Sequential([\n",
    "#     Encoder,\n",
    "#     Stochastic_channel,\n",
    "#     # Seq_decoder\n",
    "# ])"
   ]
  },
  {
   "cell_type": "code",
   "execution_count": 21,
   "metadata": {
    "ExecuteTime": {
     "end_time": "2024-04-18T06:55:21.752054Z",
     "start_time": "2024-04-18T06:55:21.737619Z"
    },
    "colab": {
     "base_uri": "https://localhost:8080/",
     "height": 214
    },
    "id": "D6QP70azZKLR",
    "outputId": "3bddf272-7540-429e-f177-585c26f9e1c3"
   },
   "outputs": [],
   "source": [
    "# Autoencoder.compile(optimizer=Adam(learning_rate=1e-2),\n",
    "#                     loss=keras.losses.SparseCategoricalCrossentropy(from_logits=True))\n",
    "\n",
    "\n",
    "# # cxannot connect the RNN for a whoe batch\n",
    "\n",
    "# # history = Autoencoder.fit(x_train,\n",
    "# #                           y_train,\n",
    "# #                           batch_size=block_size,\n",
    "# #                           epochs=num_epoches,\n",
    "# #                           verbose=2,\n",
    "# #                           validation_data=(x_val,y_val))\n",
    "\n",
    "# train_history = Autoencoder.custom_train(x_train,y_train,epochs=1)\n",
    "# print(\"train_history\", train_history)\n",
    "\n",
    "\n",
    "# def calc_block_accuracy(preds,y_val):\n",
    "#     n_bits_per_block = preds.shape[1]\n",
    "#     n_correct_bits = np.sum(preds == y_val,axis=1)\n",
    "#     block_accuracy = np.mean(n_correct_bits == n_bits_per_block)\n",
    "#     return block_accuracy\n",
    "\n",
    "# preds = AE.predict(x_val,batch_size=block_size)>0.5\n",
    "# accuracy =  calc_block_accuracy(preds,y_val)\n",
    "# print(f\"validation accuracy = {accuracy}\")\n",
    "# print(f\"snr = {snr}\")"
   ]
  },
  {
   "cell_type": "markdown",
   "metadata": {
    "id": "420o_lm0p9b9"
   },
   "source": [
    "<a href=\"#params\">go toparams</a><br/>\n",
    "\n",
    "<a name=\"datasyn\">Generate Data</a>"
   ]
  },
  {
   "cell_type": "code",
   "execution_count": 22,
   "metadata": {
    "ExecuteTime": {
     "end_time": "2024-04-18T06:55:22.713903Z",
     "start_time": "2024-04-18T06:55:21.753266Z"
    },
    "id": "zhVsDdfPpM6V"
   },
   "outputs": [],
   "source": [
    "# synthesize some data\n",
    "x_train = tf.cast(tf.random.uniform((block_size,),minval=0,maxval=2**k),\n",
    "                  (tf.int32))\n",
    "\n",
    "y_train = tf.expand_dims(x_train,axis=1)\n",
    "\n",
    "x_train =  tf.one_hot(x_train,depth=2**k)\n",
    "\n"
   ]
  },
  {
   "cell_type": "markdown",
   "metadata": {
    "id": "kPSeSA6tq-4r"
   },
   "source": []
  },
  {
   "cell_type": "code",
   "execution_count": 23,
   "metadata": {
    "ExecuteTime": {
     "end_time": "2024-04-18T06:55:22.729190Z",
     "start_time": "2024-04-18T06:55:22.713903Z"
    },
    "colab": {
     "base_uri": "https://localhost:8080/"
    },
    "id": "6d5-uKR_o-71",
    "outputId": "a605d800-01cf-42be-f1b8-1e947919655c"
   },
   "outputs": [
    {
     "name": "stdout",
     "output_type": "stream",
     "text": [
      "x_train.shape:  (320, 16)\n",
      "y_train.shape:  (320, 1)\n"
     ]
    }
   ],
   "source": [
    "print(\"x_train.shape: \",x_train.shape)\n",
    "print(\"y_train.shape: \",y_train.shape)"
   ]
  },
  {
   "cell_type": "code",
   "execution_count": 24,
   "metadata": {
    "ExecuteTime": {
     "end_time": "2024-04-18T06:55:22.744999Z",
     "start_time": "2024-04-18T06:55:22.731201Z"
    }
   },
   "outputs": [],
   "source": [
    "\n",
    "def ExternalSlicer(input_vec,padding=30,gamma=4):\n",
    "    '''\n",
    "    input_vec: should be the real and imag parts separately.\n",
    "    padding  : how much the window should expand per each side\n",
    "    '''\n",
    "    assert len(input_vec.shape) == 1, \"Need 1D vector. Cannot process multiple frames at once\"\n",
    "    assert (input_vec.shape[0]-2*padding ) / (2 * NUM_CHANNEL_USES * gamma) == block_size\n",
    "    \n",
    "    output_array = []\n",
    "    \n",
    "    for i in range(block_size):\n",
    "        jump_size = (2 * NUM_CHANNEL_USES * gamma) # how many to jump\n",
    "        start = jump_size * i\n",
    "        end = start + jump_size + padding * 2\n",
    "        output_array.append(input_vec[start:end])\n",
    "    \n",
    "    return tf.stack(output_array)"
   ]
  },
  {
   "cell_type": "code",
   "execution_count": 25,
   "metadata": {
    "ExecuteTime": {
     "end_time": "2024-04-18T06:55:22.761092Z",
     "start_time": "2024-04-18T06:55:22.746997Z"
    }
   },
   "outputs": [
    {
     "data": {
      "text/plain": [
       "60"
      ]
     },
     "execution_count": 25,
     "metadata": {},
     "output_type": "execute_result"
    }
   ],
   "source": [
    "17980 %(320 * 14)"
   ]
  },
  {
   "cell_type": "code",
   "execution_count": 26,
   "metadata": {
    "ExecuteTime": {
     "end_time": "2024-04-18T06:55:22.777232Z",
     "start_time": "2024-04-18T06:55:22.767494Z"
    }
   },
   "outputs": [],
   "source": [
    "# normalize output shape =  (320, 14)\n",
    "# r3 1 : encodings are ready\n",
    "# encodings.shape (320, 14)\n",
    "# CFO_off = 0.010980410815179016\n",
    "# r3 2 : channel effect added\n",
    "# all_y.shape (17980,)\n",
    "\n",
    "\n",
    "def r3ki3g_imitate_stch(encodings):\n",
    "    encRsh = tf.reshape(encodings,[-1])\n",
    "    ones = tf.ones( ( 17980-len(encRsh) ,) )\n",
    "    return tf.concat((encRsh,ones),axis=0)\n",
    "    \n",
    "    "
   ]
  },
  {
   "cell_type": "markdown",
   "metadata": {},
   "source": [
    "## Trainig process - step by step\n",
    "\n",
    "1. Train an encoder somewhere else and import it to the Sequence decoder\n",
    "2. Train the Sequence decoder (smarter version of usual RX decoder)"
   ]
  },
  {
   "cell_type": "markdown",
   "metadata": {},
   "source": [
    "Pre-trained modelmaker:\n",
    "\n",
    "http://localhost:8888/notebooks/PROJECTS/Deep-Learning-for-End-to-End-Over-the-Air-Communications/Fading%20-%20Nakagami%20Sumulation%20-%20Tensorflow/Making-pretrained-encoders-for-sequence-decoder-part.ipynb"
   ]
  },
  {
   "cell_type": "code",
   "execution_count": 27,
   "metadata": {
    "ExecuteTime": {
     "end_time": "2024-04-18T06:55:22.970309Z",
     "start_time": "2024-04-18T06:55:22.782750Z"
    }
   },
   "outputs": [
    {
     "name": "stdout",
     "output_type": "stream",
     "text": [
      "WARNING:tensorflow:No training configuration found in the save file, so the model was *not* compiled. Compile it manually.\n"
     ]
    }
   ],
   "source": [
    "# load pre-tarined encoder\n",
    "\n",
    "\n",
    "savedir = r\"D:\\ENTC\\PROJECTS\\Deep-Learning-for-End-to-End-Over-the-Air-Communications\\Fading - Nakagami Sumulation - Tensorflow\\saved_encoders_for_Sequence_decoder\"\n",
    "\n",
    "\n",
    "absolute_path_for_encoder_model =  f'{savedir}\\\\r3ki3gEnc.h5'\n",
    "required_encoder_wo_l2norm = tf.keras.models.load_model(absolute_path_for_encoder_model)\n",
    "\n",
    "\n"
   ]
  },
  {
   "cell_type": "code",
   "execution_count": 28,
   "metadata": {
    "ExecuteTime": {
     "end_time": "2024-04-18T06:55:23.511194Z",
     "start_time": "2024-04-18T06:55:22.971314Z"
    },
    "scrolled": true
   },
   "outputs": [],
   "source": [
    "encoder = Sequential([\n",
    "\n",
    "           required_encoder_wo_l2norm,\n",
    "            L2Normalization(name=\"normalization_layer\")\n",
    "\n",
    "            ])\n",
    "\n",
    "\n",
    "# compiling is useless when we transfer teh flow to next model\n",
    "# encoder.compile(optimizer=Adam(learning_rate=1e-2),\n",
    "#                     loss=\"mse\")\n",
    "\n",
    "\n",
    "\n",
    "# r3ki3g --> moved this inside teh experiment\n",
    "# stochastic_channel = StochasticChannelModel(NUM_CHANNEL_USES,\n",
    "#                                                  block_size,\n",
    "#                                                  channel_parameters,\n",
    "#                                                     CFO_coef=)\n",
    "\n",
    "# Sequence decoder\n",
    "seq_decoder = SequenceDecoder(take_prev_phase_state=True)\n",
    "\n",
    "criterion = SparseCategoricalCrossentropy(from_logits=True)\n",
    "optimizer =  Adam(learning_rate=1e-2)\n",
    "    "
   ]
  },
  {
   "cell_type": "code",
   "execution_count": 29,
   "metadata": {
    "ExecuteTime": {
     "end_time": "2024-04-18T06:55:23.533914Z",
     "start_time": "2024-04-18T06:55:23.511194Z"
    },
    "scrolled": true
   },
   "outputs": [],
   "source": [
    "# IMPORTANT \n",
    "# train step is called at end\n",
    "\n",
    "\n",
    "def train_step(x_train,y_train,):\n",
    "\n",
    "        x, y =  tf.cast(x_train,tf.float32) ,   tf.cast(y_train,tf.int32)\n",
    "\n",
    "\n",
    "\n",
    "\n",
    "        temp_prev_state_PE = tf.cast(tf.constant(np.zeros((1,8))),tf.float32)\n",
    "        temp_prev_state_FE = tf.cast(tf.constant(np.zeros((1,8))),tf.float32)\n",
    "\n",
    "\n",
    "\n",
    "        with tf.GradientTape(persistent=False) as tape:\n",
    "\n",
    "            encodings = encoder(x,\n",
    "                                     training=False)\n",
    "            \n",
    "            #print(\"r3 1 : encodings are ready\")\n",
    "            #print(\"encodings.shape\",encodings.shape)\n",
    "          \n",
    "\n",
    "#             all_y = r3ki3g_imitate_stch(encodings)\n",
    "#             print(\" by pass worked\")\n",
    "            all_y = stochastic_channel(encodings)\n",
    "            #print(\"r3 2 : channel effect added\")\n",
    "            #print(\"all_y.shape\", all_y.shape)\n",
    "\n",
    "\n",
    "            slices = ExternalSlicer(all_y,)\n",
    "            #print(\"r3 3 : slices are ready for the RX decoder\")\n",
    "\n",
    "\n",
    "            Jl = []\n",
    "            for i in range(slices.shape[0]):\n",
    "                #print(\"iteration\" , i)\n",
    "                with tape.stop_recording():\n",
    "                    y_slice = tf.expand_dims(slices[i,:],axis=0) \n",
    "                    label = tf.expand_dims(y[i,:],axis=0)\n",
    "#                     print(\"label d type\", label.dtype)\n",
    "#                     print(\"label\", label)\n",
    "                    \n",
    "              \n",
    "            \n",
    "\n",
    "\n",
    "                output = seq_decoder(y_slice,\n",
    "                                          temp_prev_state_FE,\n",
    "                                          temp_prev_state_PE)\n",
    "\n",
    "                # update states as well\n",
    "                st_hat,state_FE,state_PE = output[0], output[1], output[2]\n",
    "                \n",
    "#                 print(\"s hat dtype\", st_hat.dtype)\n",
    "#                 print(\"s hat shape\", st_hat.shape)\n",
    "#                 print(\"s hat\", st_hat)\n",
    "                \n",
    "                loss = criterion(label,st_hat)\n",
    "                \n",
    "                Jl.append(loss)\n",
    "                #print(f'-- current -- loss : {loss} , J : {J}')\n",
    "\n",
    "\n",
    "                # pass teh state to next iterration\n",
    "                temp_prev_state_FE = state_FE\n",
    "                temp_prev_state_PE = state_PE\n",
    "                \n",
    "\n",
    "            J = tf.reduce_mean(Jl)\n",
    "            # backpropagate\n",
    "            \n",
    "            trainable_variables =  seq_decoder.trainable_variables # +  encoder.trainable_variables \n",
    "            #print(\"encoder.trainable_variables\",encoder.trainable_variables)\n",
    "            grads = tape.gradient(J,trainable_variables)\n",
    "            #print(\"grads are ready\")\n",
    "            optimizer.apply_gradients(zip(grads,trainable_variables))\n",
    "\n",
    "        #print(f'Epoch  : {_}/{epochs} --> Loss = {loss_acc}')\n",
    "\n",
    "\n",
    "\n",
    "        return {\"J\":J, \"status\": \"training epoch ended\"}\n",
    "\n",
    "\n",
    "\n",
    "\n",
    "# jhist = []   \n",
    "# for epoch_i in range(100):\n",
    "#     hist  = train_step(x_train,y_train  )\n",
    "#     print(hist)\n",
    "#     jhist.append(hist[\"J\"])\n",
    "    \n",
    "#     if epoch_i%10==0:\n",
    "#         plt.plot(jhist)\n",
    "#         plt.show()\n",
    "    \n",
    "\n",
    "# plt.plot(jhist)\n",
    "# plt.show()"
   ]
  },
  {
   "cell_type": "code",
   "execution_count": 30,
   "metadata": {
    "ExecuteTime": {
     "end_time": "2024-04-18T06:55:23.549371Z",
     "start_time": "2024-04-18T06:55:23.534899Z"
    }
   },
   "outputs": [],
   "source": [
    "# check accuracy\n",
    "\n",
    "\n",
    "\n",
    "def evaluate(x_train,y_train,):\n",
    "\n",
    "        x, y =  tf.cast(x_train,tf.float32) ,   tf.cast(y_train,tf.int32)\n",
    "\n",
    "\n",
    "\n",
    "\n",
    "        temp_prev_state_PE = tf.cast(tf.constant(np.zeros((1,8))),tf.float32)\n",
    "        temp_prev_state_FE = tf.cast(tf.constant(np.zeros((1,8))),tf.float32)\n",
    "\n",
    "\n",
    "\n",
    "        \n",
    "\n",
    "        encodings = encoder(x,\n",
    "                                 training=True)\n",
    "\n",
    "        #print(\"r3 1 : encodings are ready\")\n",
    "        #print(\"encodings.shape\",encodings.shape)\n",
    "\n",
    "\n",
    "#             all_y = r3ki3g_imitate_stch(encodings)\n",
    "#             print(\" by pass worked\")\n",
    "        all_y = stochastic_channel(encodings)\n",
    "        #print(\"r3 2 : channel effect added\")\n",
    "        #print(\"all_y.shape\", all_y.shape)\n",
    "\n",
    "\n",
    "        slices = ExternalSlicer(all_y,)\n",
    "        #print(\"r3 3 : slices are ready for the RX decoder\")\n",
    "\n",
    "\n",
    "        preds = []\n",
    "        for i in range(slices.shape[0]):\n",
    "            #print(\"iteration\" , i)\n",
    "          \n",
    "            y_slice = tf.expand_dims(slices[i,:],axis=0) \n",
    "            label = tf.expand_dims(y[i,:],axis=0)\n",
    "#                     print(\"label d type\", label.dtype)\n",
    "#                     print(\"label\", label)\n",
    "\n",
    "\n",
    "\n",
    "\n",
    "\n",
    "            output = seq_decoder(y_slice,\n",
    "                                      temp_prev_state_FE,\n",
    "                                      temp_prev_state_PE)\n",
    "\n",
    "            # update states as well\n",
    "            st_hat,state_FE,state_PE = output[0], output[1], output[2]\n",
    "\n",
    "#                 print(\"s hat dtype\", st_hat.dtype)\n",
    "#                 print(\"s hat shape\", st_hat.shape)\n",
    "#                 print(\"s hat\", st_hat)\n",
    "\n",
    "            preds.append(np.argmax(st_hat[0]))\n",
    "            # pass teh state to next iterration\n",
    "            temp_prev_state_FE = state_FE\n",
    "            temp_prev_state_PE = state_PE\n",
    "\n",
    "\n",
    "            \n",
    "           \n",
    "\n",
    "\n",
    "        bit_accuracy = np.mean(tf.constant(preds)==y_train[:,0])\n",
    "        return {\"bit accuracy\": bit_accuracy }\n",
    "\n",
    "\n",
    "\n"
   ]
  },
  {
   "cell_type": "code",
   "execution_count": 31,
   "metadata": {
    "ExecuteTime": {
     "end_time": "2024-04-18T06:55:23.571431Z",
     "start_time": "2024-04-18T06:55:23.550359Z"
    }
   },
   "outputs": [],
   "source": [
    "# evaluate(x_train,y_train,)"
   ]
  },
  {
   "cell_type": "code",
   "execution_count": 32,
   "metadata": {
    "ExecuteTime": {
     "end_time": "2024-04-18T06:55:23.594616Z",
     "start_time": "2024-04-18T06:55:23.571431Z"
    },
    "colab": {
     "base_uri": "https://localhost:8080/"
    },
    "id": "XMXg7FqQsYoU",
    "outputId": "2de71e71-5be4-45dc-cb21-5f6044d91932"
   },
   "outputs": [
    {
     "data": {
      "text/plain": [
       "(56.1875, 60)"
      ]
     },
     "execution_count": 32,
     "metadata": {},
     "output_type": "execute_result"
    }
   ],
   "source": [
    "17980/320,17980%320\n"
   ]
  },
  {
   "cell_type": "markdown",
   "metadata": {},
   "source": [
    "## AUTOMATE to try different archi  >> save the results"
   ]
  },
  {
   "cell_type": "markdown",
   "metadata": {},
   "source": [
    "### Need a function to train on differnt sequences (of length : 320 = block size)"
   ]
  },
  {
   "cell_type": "code",
   "execution_count": 33,
   "metadata": {
    "ExecuteTime": {
     "end_time": "2024-04-18T06:55:23.610504Z",
     "start_time": "2024-04-18T06:55:23.595612Z"
    }
   },
   "outputs": [],
   "source": [
    "def train_one_epoch(encoder,\n",
    "                    stochastic_channel,\n",
    "                    seq_decoder,\n",
    "                    criterion,\n",
    "                    optimizer,\n",
    "                   state_width):\n",
    "    '''\n",
    "    1. generate a block of 320 random messages\n",
    "    2. fit that to the model (RNN) once\n",
    "    \n",
    "    '''\n",
    "    \n",
    "    \n",
    "    x_train =  tf.cast(tf.random.uniform((block_size,),minval=0,maxval=2**k),\n",
    "                  (tf.int32))\n",
    "    y_train =  tf.expand_dims(x_train,axis=1)\n",
    "    x_train =  tf.one_hot(x_train,depth=2**k)\n",
    "    \n",
    "    \n",
    "    x, y =  tf.cast(x_train,tf.float32) ,   tf.cast(y_train,tf.int32)\n",
    "\n",
    "\n",
    "\n",
    "\n",
    "    temp_prev_state_PE = tf.cast(tf.constant(np.zeros((1,state_width))),tf.float32)\n",
    "    temp_prev_state_FE = tf.cast(tf.constant(np.zeros((1,state_width))),tf.float32)\n",
    "\n",
    "\n",
    "\n",
    "    with tf.GradientTape(persistent=False) as tape:\n",
    "\n",
    "        encodings = encoder(x,\n",
    "                                 training=False)\n",
    "\n",
    "        #print(\"r3 1 : encodings are ready\")\n",
    "        #print(\"encodings.shape\",encodings.shape)\n",
    "\n",
    "\n",
    "#             all_y = r3ki3g_imitate_stch(encodings)\n",
    "#             print(\" by pass worked\")\n",
    "        all_y = stochastic_channel(encodings)\n",
    "        #print(\"r3 2 : channel effect added\")\n",
    "        #print(\"all_y.shape\", all_y.shape)\n",
    "\n",
    "\n",
    "        slices = ExternalSlicer(all_y,) # not learning\n",
    "        #print(\"r3 3 : slices are ready for the RX decoder\")\n",
    "\n",
    "\n",
    "        Jl = []\n",
    "        for i in range(slices.shape[0]):\n",
    "            #print(\"iteration\" , i)\n",
    "            with tape.stop_recording():\n",
    "                y_slice = tf.expand_dims(slices[i,:],axis=0) \n",
    "                label = tf.expand_dims(y[i,:],axis=0)\n",
    "#                     print(\"label d type\", label.dtype)\n",
    "#                     print(\"label\", label)\n",
    "\n",
    "\n",
    "\n",
    "\n",
    "\n",
    "            output = seq_decoder(y_slice,\n",
    "                                      temp_prev_state_FE,\n",
    "                                      temp_prev_state_PE)\n",
    "\n",
    "            # update states as well\n",
    "            st_hat,state_FE,state_PE = output[0], output[1], output[2]\n",
    "\n",
    "#                 print(\"s hat dtype\", st_hat.dtype)\n",
    "#                 print(\"s hat shape\", st_hat.shape)\n",
    "#                 print(\"s hat\", st_hat)\n",
    "\n",
    "            loss = criterion(label,st_hat)\n",
    "\n",
    "            Jl.append(loss)\n",
    "            #print(f'-- current -- loss : {loss} , J : {J}')\n",
    "\n",
    "\n",
    "            # pass teh state to next iterration\n",
    "            temp_prev_state_FE = state_FE\n",
    "            temp_prev_state_PE = state_PE\n",
    "\n",
    "\n",
    "        J = tf.reduce_mean(Jl)\n",
    "        # backpropagate\n",
    "\n",
    "        trainable_variables =  seq_decoder.trainable_variables # +  encoder.trainable_variables \n",
    "        #print(\"encoder.trainable_variables\",encoder.trainable_variables)\n",
    "        grads = tape.gradient(J,trainable_variables)\n",
    "        #print(\"grads are ready\")\n",
    "        optimizer.apply_gradients(zip(grads,trainable_variables))\n",
    "\n",
    "    #print(f'Epoch  : {_}/{epochs} --> Loss = {loss_acc}')\n",
    "\n",
    "\n",
    "\n",
    "    return J.numpy().tolist()\n",
    "\n",
    "\n",
    "\n",
    "    \n",
    "    "
   ]
  },
  {
   "cell_type": "code",
   "execution_count": 34,
   "metadata": {
    "ExecuteTime": {
     "end_time": "2024-04-18T06:55:23.625805Z",
     "start_time": "2024-04-18T06:55:23.614424Z"
    }
   },
   "outputs": [],
   "source": [
    "# check accuracy\n",
    "\n",
    "\n",
    "\n",
    "def evaluate_this_experi_model(encoder,stochastic_channel,seq_decoder,state_width):\n",
    "\n",
    "    x_train =  tf.cast(tf.random.uniform((block_size,),minval=0,maxval=2**k),\n",
    "                  (tf.int32))\n",
    "    y_train =  tf.expand_dims(x_train,axis=1)\n",
    "    x_train =  tf.one_hot(x_train,depth=2**k)\n",
    "    \n",
    "    \n",
    "    x, y =  tf.cast(x_train,tf.float32) ,   tf.cast(y_train,tf.int32)\n",
    "\n",
    "\n",
    "\n",
    "    temp_prev_state_PE = tf.cast(tf.constant(np.zeros((1,state_width))),tf.float32)\n",
    "    temp_prev_state_FE = tf.cast(tf.constant(np.zeros((1,state_width))),tf.float32)\n",
    "\n",
    "\n",
    "\n",
    "\n",
    "\n",
    "    encodings = encoder(x,\n",
    "                             training=True)\n",
    "\n",
    "    #print(\"r3 1 : encodings are ready\")\n",
    "    #print(\"encodings.shape\",encodings.shape)\n",
    "\n",
    "\n",
    "#             all_y = r3ki3g_imitate_stch(encodings)\n",
    "#             print(\" by pass worked\")\n",
    "    all_y = stochastic_channel(encodings)\n",
    "    #print(\"r3 2 : channel effect added\")\n",
    "    #print(\"all_y.shape\", all_y.shape)\n",
    "\n",
    "\n",
    "    slices = ExternalSlicer(all_y,)\n",
    "    #print(\"r3 3 : slices are ready for the RX decoder\")\n",
    "\n",
    "\n",
    "    preds = []\n",
    "    for i in range(slices.shape[0]):\n",
    "        #print(\"iteration\" , i)\n",
    "\n",
    "        y_slice = tf.expand_dims(slices[i,:],axis=0) \n",
    "        label = tf.expand_dims(y[i,:],axis=0)\n",
    "#                     print(\"label d type\", label.dtype)\n",
    "#                     print(\"label\", label)\n",
    "\n",
    "\n",
    "\n",
    "\n",
    "\n",
    "        output = seq_decoder(y_slice,\n",
    "                                  temp_prev_state_FE,\n",
    "                                  temp_prev_state_PE)\n",
    "\n",
    "        # update states as well\n",
    "        st_hat,state_FE,state_PE = output[0], output[1], output[2]\n",
    "\n",
    "#                 print(\"s hat dtype\", st_hat.dtype)\n",
    "#                 print(\"s hat shape\", st_hat.shape)\n",
    "#                 print(\"s hat\", st_hat)\n",
    "\n",
    "        preds.append(np.argmax(st_hat[0]))\n",
    "        # pass teh state to next iterration\n",
    "        temp_prev_state_FE = state_FE\n",
    "        temp_prev_state_PE = state_PE\n",
    "\n",
    "\n",
    "\n",
    "\n",
    "\n",
    "\n",
    "    bit_accuracy = np.mean(tf.constant(preds)==y_train[:,0])\n",
    "    return {\"bit_accuracy\": bit_accuracy }\n",
    "\n",
    "\n",
    "\n"
   ]
  },
  {
   "cell_type": "code",
   "execution_count": 35,
   "metadata": {
    "ExecuteTime": {
     "end_time": "2024-04-18T06:55:23.641141Z",
     "start_time": "2024-04-18T06:55:23.631328Z"
    }
   },
   "outputs": [],
   "source": [
    "def complete_experiment(n_front_dense_FE,\n",
    "                        n_front_dense_PE,\n",
    "                        n_front_dense_RxDec,\n",
    "                        state_width,\n",
    "                        n_epochs,\n",
    "                        CFO_coef,\n",
    "                        SNR=6,\n",
    "                        n_additional_epochs=0):\n",
    "    \n",
    "    \n",
    "\n",
    "    encoder = Sequential([\n",
    "\n",
    "               required_encoder_wo_l2norm,\n",
    "                L2Normalization(name=\"normalization_layer\")\n",
    "\n",
    "                ])\n",
    "\n",
    "\n",
    "    # compiling is useless when we transfer teh flow to next model\n",
    "    # encoder.compile(optimizer=Adam(learning_rate=1e-2),\n",
    "    #                     loss=\"mse\")\n",
    "\n",
    "    # modify the SNR\n",
    "    SNR_modified_channel_parameters = dict(channel_parameters)\n",
    "    SNR_modified_channel_parameters['SNR'] = SNR\n",
    "    \n",
    "    \n",
    "    stochastic_channel = StochasticChannelModel(NUM_CHANNEL_USES,\n",
    "                                                 block_size,\n",
    "                                                 SNR_modified_channel_parameters,\n",
    "                                                    CFO_coef=CFO_coef)\n",
    "\n",
    "    # Sequence decoder\n",
    "    seq_decoder = SequenceDecoder(take_prev_phase_state=True,\n",
    "                                  n_front_dense_FE=n_front_dense_FE,\n",
    "                                  n_front_dense_PE=n_front_dense_PE,\n",
    "                                  n_front_dense_RxDec=n_front_dense_RxDec,\n",
    "                                  state_width=state_width)\n",
    "\n",
    "    criterion = SparseCategoricalCrossentropy(from_logits=True)\n",
    "    optimizer = Adam(learning_rate=1e-2)\n",
    "    \n",
    "    # now loop for given amout of epochs\n",
    "    J_list = []\n",
    "    start_time = time.time()\n",
    "    for epoch in range(n_epochs):\n",
    "        print(f'current epoch = {epoch+1} / {n_epochs+n_additional_epochs}',end='\\r')\n",
    "        J_epoch =  train_one_epoch( encoder,\n",
    "                                    stochastic_channel,\n",
    "                                    seq_decoder,\n",
    "                                    criterion,\n",
    "                                    optimizer,\n",
    "                                      state_width)\n",
    "            \n",
    "        J_list.append(J_epoch)\n",
    "     \n",
    "    # additional epochs\n",
    "    # fixed number of epochs with a low learning rate\n",
    "    optimizer_2 = Adam(learning_rate=1e-3)\n",
    "    for epoch in range(n_additional_epochs): \n",
    "        print(f'(additonal) epoch = {epoch+1+n_epochs} / {n_epochs+n_additional_epochs}',end='\\r')\n",
    "        J_epoch =  train_one_epoch( encoder,\n",
    "                                    stochastic_channel,\n",
    "                                    seq_decoder,\n",
    "                                    criterion,\n",
    "                                    optimizer_2,\n",
    "                                   state_width)\n",
    "            \n",
    "        J_list.append(J_epoch)\n",
    "        \n",
    "    end_time = time.time()\n",
    "    time_taken = end_time - start_time\n",
    "    \n",
    "    # evaluate --> can get an accuracy as well\n",
    "    \n",
    "    eval_results =  evaluate_this_experi_model(encoder,stochastic_channel,seq_decoder,state_width)\n",
    "    bit_accuracy =  eval_results['bit_accuracy']\n",
    "    \n",
    "            \n",
    "    return {\n",
    "        \n",
    "        \"n_front_dense_FE\":n_front_dense_FE,\n",
    "                        \"n_front_dense_PE\":n_front_dense_PE,\n",
    "                        \"n_front_dense_RxDec\":n_front_dense_RxDec,\n",
    "                        \"state_width\":state_width,\n",
    "                        \"n_epochs\":n_epochs,\n",
    "                        \"n_additional_epochs\":n_additional_epochs,\n",
    "                        \"CFO_coef\":CFO_coef,\n",
    "                        \"SNR\":SNR,\n",
    "                        \"J_list\":J_list,\n",
    "                        \"time_taken\":time_taken,\n",
    "                        \"bit_accuracy\":bit_accuracy\n",
    "        \n",
    "        \n",
    "    }\n",
    "            \n",
    "            \n",
    "            \n",
    "    "
   ]
  },
  {
   "cell_type": "code",
   "execution_count": 41,
   "metadata": {
    "ExecuteTime": {
     "end_time": "2024-04-18T06:58:04.501811Z",
     "start_time": "2024-04-18T06:58:04.497286Z"
    }
   },
   "outputs": [
    {
     "name": "stdout",
     "output_type": "stream",
     "text": [
      "The new result directory was created\n"
     ]
    }
   ],
   "source": [
    "res_dir_path = r\"D:\\ENTC\\PROJECTS\\Deep-Learning-for-End-to-End-Over-the-Air-Communications\\Sequence Decoder\"\n",
    "res_dir_name = \"statewidth_w_CFO__vs_bitAccuracy_2\"\n",
    "res_dir_abs_path = os.path.join(res_dir_path,res_dir_name)\n",
    "\n",
    "\n",
    "let_run_experiments = False\n",
    "\n",
    "if os.path.exists(res_dir_abs_path):\n",
    "    print(\"the result directory already exists\")\n",
    "    sys.exit(0)\n",
    "    \n",
    "os.mkdir(res_dir_abs_path)\n",
    "let_run_experiments = True\n",
    "print(\"The new result directory was created\")"
   ]
  },
  {
   "cell_type": "code",
   "execution_count": 78,
   "metadata": {
    "ExecuteTime": {
     "end_time": "2024-04-18T05:45:44.662086Z",
     "start_time": "2024-04-18T05:45:44.646577Z"
    }
   },
   "outputs": [
    {
     "ename": "SystemExit",
     "evalue": "0",
     "output_type": "error",
     "traceback": [
      "An exception has occurred, use %tb to see the full traceback.\n",
      "\u001b[1;31mSystemExit\u001b[0m\u001b[1;31m:\u001b[0m 0\n"
     ]
    }
   ],
   "source": [
    "if not let_run_experiments:\n",
    "    sys.exit(0)\n",
    "\n",
    "N_EPOCHS_EXPERIMENT = 80\n",
    "N_ADDITIONAL_EPOCHS_EXPERIMENT = 20\n",
    "\n",
    "for n_front_dense_FE in [2,4,8]:\n",
    "    for n_front_dense_PE in [2,8,16,32]:\n",
    "        for n_front_dense_RxDec in [4,8,16]:\n",
    "            for state_width in [4,8,16]:\n",
    "                for CFO_coef in [0.1]:\n",
    "                    for SNR in [6]:\n",
    "                \n",
    "                                try:\n",
    "                                    summary = complete_experiment(n_front_dense_FE=n_front_dense_FE,\n",
    "                                                                  n_front_dense_PE=n_front_dense_PE,\n",
    "                                                                  n_front_dense_RxDec=n_front_dense_RxDec,\n",
    "                                                                  state_width=state_width,\n",
    "                                                                  n_epochs=N_EPOCHS_EXPERIMENT,\n",
    "                                                                  CFO_coef=CFO_coef,\n",
    "                                                                  SNR=SNR,\n",
    "                                                                  n_additional_epochs= N_ADDITIONAL_EPOCHS_EXPERIMENT)\n",
    "\n",
    "                                    filename = str(time.time()) + '.json'\n",
    "                                    absfilepath = os.path.join(res_dir_abs_path,filename)\n",
    "                                    with open(absfilepath,\"w\") as file:\n",
    "                                        json.dump(summary,file)\n",
    "\n",
    "                                    print(f'time taken = {summary[\"time_taken\"]}')\n",
    "\n",
    "                                except:\n",
    "                                    print(\"error occured during:\")\n",
    "                                    print({\"n_front_dense_FE\":n_front_dense_FE,\n",
    "                                            \"n_front_dense_PE\":n_front_dense_PE,\n",
    "                                              \"n_front_dense_RxDec\":n_front_dense_RxDec,\n",
    "                                            \"state_width\":state_width,\n",
    "                                           \"n_epochs\":N_EPOCHS_EXPERIMENT,\n",
    "                                          \"CFO_coef\":CFO_coef,\n",
    "                                          \"SNR\":SNR,\n",
    "                                          \"n_additional_epochs\": N_ADDITIONAL_EPOCHS_EXPERIMENT})\n",
    "\n",
    "\n",
    "\n",
    "\n",
    "                    \n",
    "                    \n",
    "                    \n",
    "                    "
   ]
  },
  {
   "cell_type": "code",
   "execution_count": 80,
   "metadata": {
    "ExecuteTime": {
     "end_time": "2024-04-18T05:46:58.799902Z",
     "start_time": "2024-04-18T05:46:30.764838Z"
    },
    "scrolled": true
   },
   "outputs": [
    {
     "name": "stdout",
     "output_type": "stream",
     "text": [
      "(additonal) epoch = 5 / 5\r"
     ]
    },
    {
     "data": {
      "text/plain": [
       "{'n_front_dense_FE': 2,\n",
       " 'n_front_dense_PE': 3,\n",
       " 'n_front_dense_RxDec': 4,\n",
       " 'state_width': 4,\n",
       " 'n_epochs': 4,\n",
       " 'n_additional_epochs': 1,\n",
       " 'CFO_coef': 1,\n",
       " 'SNR': 20,\n",
       " 'J_list': [2.772649049758911,\n",
       "  2.7824904918670654,\n",
       "  2.7728488445281982,\n",
       "  2.7929227352142334,\n",
       "  2.780890941619873],\n",
       " 'time_taken': 25.189566135406494,\n",
       " 'bit_accuracy': 0.059375}"
      ]
     },
     "execution_count": 80,
     "metadata": {},
     "output_type": "execute_result"
    }
   ],
   "source": [
    "# unit test \n",
    "complete_experiment(n_front_dense_FE=2,\n",
    "                        n_front_dense_PE=3,\n",
    "                        n_front_dense_RxDec=4,\n",
    "                        state_width=4,\n",
    "                        n_epochs=4,\n",
    "                        CFO_coef=0.01,\n",
    "                        SNR=6,\n",
    "                        n_additional_epochs= 1)"
   ]
  },
  {
   "cell_type": "code",
   "execution_count": null,
   "metadata": {
    "ExecuteTime": {
     "end_time": "2024-04-18T05:44:34.719353Z",
     "start_time": "2024-04-18T05:44:34.719353Z"
    }
   },
   "outputs": [],
   "source": [
    "# {'n_front_dense_FE': 1,\n",
    "#  'n_front_dense_PE': 1,\n",
    "#  'n_front_dense_RxDec': 2,\n",
    "#  'state_width': 8,\n",
    "#  'n_epochs': 20,\n",
    "#  'CFO_coef': 0.1,\n",
    "#  'J_list': [2.7735366821289062,\n",
    "#   2.7650961875915527,\n",
    "#   2.802400588989258,\n",
    "#   2.764704465866089,\n",
    "#   2.7503113746643066,\n",
    "#   2.7115180492401123,\n",
    "#   2.670586109161377,\n",
    "#   2.567178249359131,\n",
    "#   2.5532870292663574,\n",
    "#   2.3557868003845215,\n",
    "#   2.3380000591278076,\n",
    "#   2.1971757411956787,\n",
    "#   1.9899265766143799,\n",
    "#   1.8495842218399048,\n",
    "#   1.6813348531723022,\n",
    "#   1.527109146118164,\n",
    "#   1.3034430742263794,\n",
    "#   1.2373727560043335,\n",
    "#   1.1050540208816528,\n",
    "#   0.9969080090522766],\n",
    "#  'time_taken': 148.09055590629578,\n",
    "#  'bit_accuracy': 0.696875}"
   ]
  },
  {
   "cell_type": "code",
   "execution_count": null,
   "metadata": {
    "ExecuteTime": {
     "end_time": "2024-04-18T05:44:34.720351Z",
     "start_time": "2024-04-18T05:44:34.720351Z"
    }
   },
   "outputs": [],
   "source": [
    "# {'n_front_dense_FE': 1,\n",
    "#  'n_front_dense_PE': 1,\n",
    "#  'n_front_dense_RxDec': 2,\n",
    "#  'state_width': 8,\n",
    "#  'n_epochs': 20,\n",
    "#  'CFO_coef': 0.5,\n",
    "#  'J_list': [2.7735977172851562,\n",
    "#   2.7856132984161377,\n",
    "#   2.769259214401245,\n",
    "#   2.767909288406372,\n",
    "#   2.7600340843200684,\n",
    "#   2.7276840209960938,\n",
    "#   2.674692153930664,\n",
    "#   2.586449384689331,\n",
    "#   2.5064730644226074,\n",
    "#   2.3861489295959473,\n",
    "#   2.2269296646118164,\n",
    "#   2.0092127323150635,\n",
    "#   1.841578722000122,\n",
    "#   1.612616777420044,\n",
    "#   1.4063374996185303,\n",
    "#   1.3160852193832397,\n",
    "#   1.0333139896392822,\n",
    "#   0.9314724206924438,\n",
    "#   0.810472846031189,\n",
    "#   0.6267408132553101],\n",
    "#  'time_taken': 190.7092809677124,\n",
    "#  'bit_accuracy': 0.74375}"
   ]
  },
  {
   "cell_type": "code",
   "execution_count": null,
   "metadata": {
    "ExecuteTime": {
     "end_time": "2024-04-18T05:44:34.721346Z",
     "start_time": "2024-04-18T05:44:34.721346Z"
    }
   },
   "outputs": [],
   "source": [
    "# {'n_front_dense_FE': 1,\n",
    "#  'n_front_dense_PE': 1,\n",
    "#  'n_front_dense_RxDec': 2,\n",
    "#  'state_width': 8,\n",
    "#  'n_epochs': 20,\n",
    "#  'CFO_coef': 1,\n",
    "#  'J_list': [2.771749973297119,\n",
    "#   2.781503677368164,\n",
    "#   2.7535245418548584,\n",
    "#   2.8008830547332764,\n",
    "#   2.759232997894287,\n",
    "#   2.7236783504486084,\n",
    "#   2.702439546585083,\n",
    "#   2.6589388847351074,\n",
    "#   2.63153338432312,\n",
    "#   2.5366227626800537,\n",
    "#   2.5681190490722656,\n",
    "#   2.4490127563476562,\n",
    "#   3.1129469871520996,\n",
    "#   2.208310604095459,\n",
    "#   2.3497536182403564,\n",
    "#   2.3385977745056152,\n",
    "#   2.130305528640747,\n",
    "#   2.1482269763946533,\n",
    "#   2.0090250968933105,\n",
    "#   1.9833009243011475],\n",
    "#  'time_taken': 200.01691794395447,\n",
    "#  'bit_accuracy': 0.375}"
   ]
  },
  {
   "cell_type": "code",
   "execution_count": null,
   "metadata": {
    "ExecuteTime": {
     "end_time": "2024-04-18T05:44:34.722344Z",
     "start_time": "2024-04-18T05:44:34.722344Z"
    }
   },
   "outputs": [],
   "source": [
    "# {'n_front_dense_FE': 1,\n",
    "#  'n_front_dense_PE': 1,\n",
    "#  'n_front_dense_RxDec': 2,\n",
    "#  'state_width': 8,\n",
    "#  'n_epochs': 60,\n",
    "#  'n_additional_epochs': 20,\n",
    "#  'CFO_coef': 1,\n",
    "#  'J_list': [2.7731168270111084,\n",
    "#   2.7689764499664307,\n",
    "#   2.7876434326171875,\n",
    "#   2.762986898422241,\n",
    "#   2.7712390422821045,\n",
    "#   2.713698387145996,\n",
    "#   2.6850385665893555,\n",
    "#   2.6500163078308105,\n",
    "#   2.808727502822876,\n",
    "#   2.633561134338379,\n",
    "#   2.5853800773620605,\n",
    "#   2.4833931922912598,\n",
    "#   2.5938901901245117,\n",
    "#   2.263218879699707,\n",
    "#   2.4789397716522217,\n",
    "#   2.155768632888794,\n",
    "#   2.0849151611328125,\n",
    "#   1.9657790660858154,\n",
    "#   1.8606910705566406,\n",
    "#   1.819072961807251,\n",
    "#   1.6343858242034912,\n",
    "#   1.6404454708099365,\n",
    "#   1.5934162139892578,\n",
    "#   2.3001201152801514,\n",
    "#   2.203387498855591,\n",
    "#   1.9634780883789062,\n",
    "#   1.625318169593811,\n",
    "#   1.463575005531311,\n",
    "#   1.5566726922988892,\n",
    "#   1.6306235790252686,\n",
    "#   2.0689921379089355,\n",
    "#   1.4973877668380737,\n",
    "#   1.7243576049804688,\n",
    "#   1.4029775857925415,\n",
    "#   2.084076404571533,\n",
    "#   1.1725478172302246,\n",
    "#   1.2284965515136719,\n",
    "#   1.3534289598464966,\n",
    "#   1.4035385847091675,\n",
    "#   1.24396812915802,\n",
    "#   1.283610224723816,\n",
    "#   1.067587971687317,\n",
    "#   0.962664008140564,\n",
    "#   1.918115258216858,\n",
    "#   1.1355241537094116,\n",
    "#   1.1041622161865234,\n",
    "#   0.9446302652359009,\n",
    "#   0.7315008044242859,\n",
    "#   1.1598557233810425,\n",
    "#   0.7826119661331177,\n",
    "#   0.6845243573188782,\n",
    "#   0.719733715057373,\n",
    "#   0.6624029874801636,\n",
    "#   0.6660223007202148,\n",
    "#   0.5227618217468262,\n",
    "#   0.9103077054023743,\n",
    "#   0.4889737069606781,\n",
    "#   0.3758421242237091,\n",
    "#   0.36509108543395996,\n",
    "#   0.33904603123664856,\n",
    "#   0.3068351447582245,\n",
    "#   0.8587144613265991,\n",
    "#   0.2337574064731598,\n",
    "#   0.4429909586906433,\n",
    "#   0.24818435311317444,\n",
    "#   0.26674312353134155,\n",
    "#   0.2376096546649933,\n",
    "#   0.26892417669296265,\n",
    "#   0.1794004589319229,\n",
    "#   0.35875535011291504],\n",
    "#  'time_taken': 443.8681101799011,\n",
    "#  'bit_accuracy': 0.90625}"
   ]
  }
 ],
 "metadata": {
  "colab": {
   "provenance": []
  },
  "kernelspec": {
   "display_name": "Python 3 (ipykernel)",
   "language": "python",
   "name": "python3"
  },
  "language_info": {
   "codemirror_mode": {
    "name": "ipython",
    "version": 3
   },
   "file_extension": ".py",
   "mimetype": "text/x-python",
   "name": "python",
   "nbconvert_exporter": "python",
   "pygments_lexer": "ipython3",
   "version": "3.9.13"
  },
  "latex_envs": {
   "LaTeX_envs_menu_present": true,
   "autoclose": false,
   "autocomplete": true,
   "bibliofile": "biblio.bib",
   "cite_by": "apalike",
   "current_citInitial": 1,
   "eqLabelWithNumbers": true,
   "eqNumInitial": 1,
   "hotkeys": {
    "equation": "Ctrl-E",
    "itemize": "Ctrl-I"
   },
   "labels_anchors": false,
   "latex_user_defs": false,
   "report_style_numbering": false,
   "user_envs_cfg": false
  },
  "toc": {
   "base_numbering": 1,
   "nav_menu": {},
   "number_sections": true,
   "sideBar": true,
   "skip_h1_title": false,
   "title_cell": "Table of Contents",
   "title_sidebar": "Contents",
   "toc_cell": false,
   "toc_position": {},
   "toc_section_display": true,
   "toc_window_display": false
  },
  "varInspector": {
   "cols": {
    "lenName": 16,
    "lenType": 16,
    "lenVar": 40
   },
   "kernels_config": {
    "python": {
     "delete_cmd_postfix": "",
     "delete_cmd_prefix": "del ",
     "library": "var_list.py",
     "varRefreshCmd": "print(var_dic_list())"
    },
    "r": {
     "delete_cmd_postfix": ") ",
     "delete_cmd_prefix": "rm(",
     "library": "var_list.r",
     "varRefreshCmd": "cat(var_dic_list()) "
    }
   },
   "types_to_exclude": [
    "module",
    "function",
    "builtin_function_or_method",
    "instance",
    "_Feature"
   ],
   "window_display": false
  }
 },
 "nbformat": 4,
 "nbformat_minor": 1
}
