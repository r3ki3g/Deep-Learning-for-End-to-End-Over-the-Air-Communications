{
  "nbformat": 4,
  "nbformat_minor": 0,
  "metadata": {
    "colab": {
      "provenance": []
    },
    "kernelspec": {
      "name": "python3",
      "display_name": "Python 3"
    },
    "language_info": {
      "name": "python"
    }
  },
  "cells": [
    {
      "cell_type": "code",
      "execution_count": null,
      "metadata": {
        "id": "pWavhXJRGytK"
      },
      "outputs": [],
      "source": [
        "import tensorflow as tf\n",
        "import keras\n",
        "from keras.optimizers import Adam\n",
        "from keras.layers import Dense\n",
        "from keras.models import Model, Sequential\n",
        "from keras.activations import relu, softmax\n",
        "from keras.losses import SparseCategoricalCrossentropy"
      ]
    },
    {
      "cell_type": "code",
      "source": [
        "def get_feature_extractor():\n",
        "  raise NotImplementedError()\n",
        "\n",
        "def get_internal_slicer():\n",
        "  raise NotImplementedError()\n",
        "\n",
        "\n",
        "def get_rx_decoder():\n",
        "  raise NotImplementedError()\n",
        "\n",
        "def phase_multiply(internally_sliced_y,h):\n",
        "  raise NotImplementedError()"
      ],
      "metadata": {
        "id": "4k-_9gsVQnu1"
      },
      "execution_count": null,
      "outputs": []
    },
    {
      "cell_type": "markdown",
      "source": [
        "## PARAMS"
      ],
      "metadata": {
        "id": "MNx0nzHGxCtg"
      }
    },
    {
      "cell_type": "code",
      "source": [
        "SLICED_Y_LENGTH = 16\n",
        "BATCH_SIZE =  512\n",
        "\n",
        "# in teh feature extractor path \"f\" : design param\n",
        "# Our experiments have shown that even a\n",
        "# small number of features, e.g., F = 4, significantly improves\n",
        "# the performance.\n",
        "N_FEATURES_EXTRACTED = 8"
      ],
      "metadata": {
        "id": "8llGxbteuvUt"
      },
      "execution_count": null,
      "outputs": []
    },
    {
      "cell_type": "code",
      "source": [
        "\n",
        "class FeatureExtractor(Model):\n",
        "    def __init__(self):\n",
        "        super().__init__()\n",
        "\n",
        "        self.cf1 = Dense(256)\n",
        "        self.cf2 = Dense(N_FEATURES_EXTRACTED)\n",
        "\n",
        "    def call(self,sliced_y):\n",
        "\n",
        "        sliced_y = self.cf1(sliced_y)\n",
        "        sliced_y = relu(sliced_y)\n",
        "        sliced_y = self.cf2(sliced_y)\n",
        "        return sliced_y\n",
        "\n",
        "class PhaseEstimator(Model):\n",
        "    def __init__(self):\n",
        "        super().__init__()\n",
        "\n",
        "        self.cf1 = Dense(256)\n",
        "        self.cf2 = Dense(2)\n",
        "\n",
        "\n",
        "    def call(self,sliced_y):\n",
        "        sliced_y = self.cf1(sliced_y)\n",
        "        sliced_y = relu(sliced_y)\n",
        "        sliced_y = self.cf2(sliced_y)\n",
        "        return sliced_y\n",
        "\n",
        "\n",
        "class Rx_Decoder(Model):\n",
        "    def __init__(self):\n",
        "        super().__init__()\n",
        "\n",
        "        self.cf1 = Dense(256)\n",
        "        self.cf2 = Dense(256)\n",
        "        self.cf3 = Dense(16)\n",
        "\n",
        "    def call(self,concat):\n",
        "\n",
        "        concat = self.cf1(concat)\n",
        "        concat = relu(concat)\n",
        "        concat = self.cf2(concat)\n",
        "        concat = relu(concat)\n",
        "\n",
        "        concat = self.cf3(concat)\n",
        "\n",
        "        # do not use softmax here : put from logit  = True in loss func\n",
        "        # concat = softmax(concat)\n",
        "\n",
        "        return concat\n",
        "\n",
        "\n",
        "class InternalSlicer(Model):\n",
        "    def __init__(self,l1,l2,complex_length):\n",
        "        super().__init__()\n",
        "\n",
        "        # define the slice boundaries\n",
        "        mid = complex_length // 2\n",
        "        self.start = mid - l1\n",
        "        self.end = mid + l2 + 1\n",
        "\n",
        "    def call(self,sliced_y):\n",
        "        return C2R(R2C(sliced_y)[:, self.start:self.end])\n",
        "\n",
        "def R2C(a):\n",
        "#     print(\"reached here 01\")\n",
        "#     print(a.shape)\n",
        "    aa = tf.cast(tf.reshape(a,shape=(BATCH_SIZE,-1,2)),tf.float32)\n",
        "    # print(aa)\n",
        "    aaa = tf.complex(aa[:,:,0],aa[:,:,1])\n",
        "    return aaa\n",
        "\n",
        "def C2R(a):\n",
        "    real, imag = tf.expand_dims(tf.math.real(a),axis=2) ,tf.expand_dims(tf.math.imag(a), axis=2)\n",
        "    R = tf.concat((real,imag),axis=2)\n",
        "    R = tf.reshape(R , (BATCH_SIZE,-1)  )\n",
        "    return R\n",
        "\n",
        "def phase_multiply(internally_sliced_y,estimated_phase):\n",
        "    # (a,b) * (c,d) = (ac-bd,ad+bc)\n",
        "    internally_sliced_y_complex = R2C(internally_sliced_y)\n",
        "    estimated_phase_complex = R2C(estimated_phase)\n",
        "    phase_corrected_complex = estimated_phase_complex * internally_sliced_y_complex\n",
        "\n",
        "    phase_corrected = C2R(phase_corrected_complex)\n",
        "    return phase_corrected\n",
        "\n",
        "\n",
        "\n",
        "\n"
      ],
      "metadata": {
        "id": "Mx-vTDXeUVmT"
      },
      "execution_count": null,
      "outputs": []
    },
    {
      "cell_type": "code",
      "source": [
        "# generate fake data\n",
        "m = 512* 2** 2\n",
        "X = tf.random.normal(shape=(m,SLICED_Y_LENGTH),\n",
        "                     mean=0,\n",
        "                     stddev=1)\n",
        "\n",
        "Y = tf.random.uniform(shape=(m,1),\n",
        "                      minval=0,\n",
        "                      maxval=16,\n",
        "                      dtype=tf.int32)\n",
        "# Y = keras.utils.to_categorical(Y,16)\n"
      ],
      "metadata": {
        "id": "mj1GemkdxHCs",
        "colab": {
          "base_uri": "https://localhost:8080/",
          "height": 215
        },
        "outputId": "37c355a2-fec0-41e3-d356-f6c2e23c4e92"
      },
      "execution_count": null,
      "outputs": [
        {
          "output_type": "error",
          "ename": "NameError",
          "evalue": "name 'tf' is not defined",
          "traceback": [
            "\u001b[0;31m---------------------------------------------------------------------------\u001b[0m",
            "\u001b[0;31mNameError\u001b[0m                                 Traceback (most recent call last)",
            "\u001b[0;32m<ipython-input-2-bc638adb5911>\u001b[0m in \u001b[0;36m<cell line: 3>\u001b[0;34m()\u001b[0m\n\u001b[1;32m      1\u001b[0m \u001b[0;31m# generate fake data\u001b[0m\u001b[0;34m\u001b[0m\u001b[0;34m\u001b[0m\u001b[0m\n\u001b[1;32m      2\u001b[0m \u001b[0mm\u001b[0m \u001b[0;34m=\u001b[0m \u001b[0;36m512\u001b[0m\u001b[0;34m*\u001b[0m \u001b[0;36m2\u001b[0m\u001b[0;34m**\u001b[0m \u001b[0;36m2\u001b[0m\u001b[0;34m\u001b[0m\u001b[0;34m\u001b[0m\u001b[0m\n\u001b[0;32m----> 3\u001b[0;31m X = tf.random.normal(shape=(m,SLICED_Y_LENGTH),\n\u001b[0m\u001b[1;32m      4\u001b[0m                      \u001b[0mmean\u001b[0m\u001b[0;34m=\u001b[0m\u001b[0;36m0\u001b[0m\u001b[0;34m,\u001b[0m\u001b[0;34m\u001b[0m\u001b[0;34m\u001b[0m\u001b[0m\n\u001b[1;32m      5\u001b[0m                      stddev=1)\n",
            "\u001b[0;31mNameError\u001b[0m: name 'tf' is not defined"
          ]
        }
      ]
    },
    {
      "cell_type": "code",
      "source": [
        "# sequence decoder\n",
        "\n",
        "\n",
        "class SequenceDecoder(Model):\n",
        "\n",
        "    def __init__(self,take_prev_phase_state=False):\n",
        "        super().__init__()\n",
        "\n",
        "        self.take_prev_phase_state = take_prev_phase_state\n",
        "\n",
        "        self.feature_extractor = FeatureExtractor()\n",
        "        self.phase_estimator = PhaseEstimator()\n",
        "        self.internal_slicer = InternalSlicer(l1=3,l2=3,complex_length=SLICED_Y_LENGTH//2)\n",
        "        self.rx_decoder = Rx_Decoder()\n",
        "\n",
        "\n",
        "\n",
        "    def call(self,sliced_y,prev_phase_state=None):\n",
        "        if self.take_prev_phase_state:\n",
        "            assert prev_phase_state is not None, \"RNN need the previous phase state as an input\"\n",
        "\n",
        "        extracted_features = self.feature_extractor(sliced_y)\n",
        "        estimated_phase = self.phase_estimator(sliced_y)\n",
        "        internally_sliced_y = self.internal_slicer(sliced_y)\n",
        "\n",
        "#         print(\"estimated_phase.shape\",estimated_phase.shape)\n",
        "#         print(\"internally_sliced_y.shape\",internally_sliced_y.shape)\n",
        "\n",
        "        phase_corrected_ = phase_multiply(internally_sliced_y,estimated_phase)\n",
        "\n",
        "        concat = tf.concat((extracted_features,phase_corrected_,prev_phase_state),axis=1)\n",
        "\n",
        "        st_hat = self.rx_decoder(concat)\n",
        "\n",
        "        return st_hat\n",
        "\n",
        "\n"
      ],
      "metadata": {
        "id": "M_bSkx9vHEAd"
      },
      "execution_count": null,
      "outputs": []
    },
    {
      "cell_type": "code",
      "source": [
        "# test the SD\n",
        "\n",
        "mySD =   SequenceDecoder()\n",
        "\n",
        "mySD.compile(optimizer=Adam(learning_rate=1e-2),\n",
        "             loss=SparseCategoricalCrossentropy(from_logits=True),\n",
        "             metrics=['accuracy'])\n",
        "\n",
        "\n",
        "mySD.fit(X,Y,epochs=2,batch_size=BATCH_SIZE)\n"
      ],
      "metadata": {
        "colab": {
          "base_uri": "https://localhost:8080/"
        },
        "id": "KqIhonChiDnM",
        "outputId": "41349e86-9559-4d67-f302-1e18538a959c"
      },
      "execution_count": null,
      "outputs": [
        {
          "output_type": "stream",
          "name": "stdout",
          "text": [
            "Epoch 1/2\n",
            "4/4 [==============================] - 5s 28ms/step - loss: 2.7977 - accuracy: 0.0601\n",
            "Epoch 2/2\n",
            "4/4 [==============================] - 0s 24ms/step - loss: 2.7524 - accuracy: 0.0815\n"
          ]
        },
        {
          "output_type": "execute_result",
          "data": {
            "text/plain": [
              "<keras.src.callbacks.History at 0x7b3350e09540>"
            ]
          },
          "metadata": {},
          "execution_count": 8
        }
      ]
    },
    {
      "cell_type": "code",
      "source": [],
      "metadata": {
        "id": "_rXUaAKBtGjj"
      },
      "execution_count": null,
      "outputs": []
    },
    {
      "cell_type": "markdown",
      "source": [
        "## RNN approach for the Sequence Decoder\n",
        "Reference to page 5 (Bottom right)  -> Use an RNN to pass the phase state"
      ],
      "metadata": {
        "id": "TKLTxxI_A6mD"
      }
    },
    {
      "cell_type": "code",
      "source": [],
      "metadata": {
        "id": "V0mvYqVotQDU"
      },
      "execution_count": null,
      "outputs": []
    }
  ]
}