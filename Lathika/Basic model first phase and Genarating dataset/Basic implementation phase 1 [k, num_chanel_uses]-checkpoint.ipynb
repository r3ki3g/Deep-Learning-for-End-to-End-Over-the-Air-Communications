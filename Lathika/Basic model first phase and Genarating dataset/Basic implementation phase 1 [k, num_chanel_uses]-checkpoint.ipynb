{
 "cells": [
  {
   "cell_type": "markdown",
   "id": "995c6fe9",
   "metadata": {},
   "source": [
    "## Dataset generation for GAN to learn NAKAGAMI channels"
   ]
  },
  {
   "cell_type": "code",
   "execution_count": 9,
   "id": "c6ae15a9",
   "metadata": {
    "ExecuteTime": {
     "end_time": "2024-03-10T12:08:45.396047Z",
     "start_time": "2024-03-10T12:08:40.693786Z"
    }
   },
   "outputs": [],
   "source": [
    "import numpy as np\n",
    "import matplotlib.pyplot as plt\n",
    "import tensorflow as tf\n",
    "import keras\n",
    "import pandas as pd\n",
    "\n",
    "from keras.layers import Dense\n",
    "from keras.models import Sequential,Model\n",
    "from scipy.stats import nakagami\n",
    "\n",
    "from tensorflow.keras.optimizers import Adam\n"
   ]
  },
  {
   "cell_type": "code",
   "execution_count": 3,
   "id": "a95fdb37",
   "metadata": {},
   "outputs": [],
   "source": [
    "# Variables Initialization\n",
    "\n",
    "k = 4\n",
    "M = 2**k\n",
    "NUM_CHANNEL_USES = 7\n",
    "block_size = 320\n",
    "\n",
    "snr = 6#9 # for training\n",
    "\n",
    "model_training_num_of_frames = 10**3#10**4\n",
    "model_validating_num_of_frames = 10**2#10**3\n",
    "\n",
    "n_train = block_size * model_training_num_of_frames\n",
    "n_val   = block_size * model_validating_num_of_frames\n",
    "\n",
    "# Geanerating dataset\n",
    "model_output_num_of_frames = 10**5\n",
    "n_out = block_size * model_output_num_of_frames \n",
    "\n",
    "num_epoches = 10\n"
   ]
  },
  {
   "cell_type": "code",
   "execution_count": 4,
   "id": "fad0f7e3",
   "metadata": {
    "ExecuteTime": {
     "end_time": "2024-03-10T12:08:45.411966Z",
     "start_time": "2024-03-10T12:08:45.397047Z"
    }
   },
   "outputs": [],
   "source": [
    "    \n",
    "class L2Normalization(tf.keras.layers.Layer):\n",
    "    def __init__(self,**kwargs):\n",
    "        \n",
    "        super(L2Normalization, self).__init__(**kwargs)\n",
    "\n",
    "    def call(self, inputs):\n",
    "        return tf.nn.l2_normalize(inputs, axis=-1)\n",
    "\n",
    "    def get_config(self):\n",
    "        return super(L2Normalization, self).get_config()\n",
    "    \n",
    "\n",
    "def generate_nakagami_samples(m, omega):\n",
    "      \n",
    "    nakagami_amp_vec = nakagami.rvs(m,omega,size =  NUM_CHANNEL_USES)   # Same gain for the real part and the imaginary part\n",
    "    nakagami_phase_vec = np.random.uniform(low=0.0, high=2*np.pi, size = NUM_CHANNEL_USES)    # phase shift will effect the complex number\n",
    "    nakagami_for_real = np.reshape(nakagami_amp_vec*np.cos(nakagami_phase_vec),(-1,1))\n",
    "    nakagami_for_imag = np.reshape(nakagami_amp_vec*np.sin(nakagami_phase_vec),(-1,1))\n",
    "    fading_vec = np.reshape(np.concatenate((nakagami_for_real,nakagami_for_imag),axis=1),(1,-1))[0]\n",
    "    return  tf.constant(fading_vec, dtype=tf.float32)\n",
    "    \n",
    "class NakagamiNoiseLayer(tf.keras.layers.Layer):\n",
    "    def __init__(self, distribution_params, **kwargs):\n",
    "        super(NakagamiNoiseLayer, self).__init__(**kwargs)\n",
    "        self.distribution_params = distribution_params\n",
    "\n",
    "    def call(self, inputs, training=False):\n",
    "        if  1 or training:\n",
    "            fading = generate_nakagami_samples(m = self.distribution_params[\"m\"], \n",
    "                                              omega = self.distribution_params[\"omega\"]) \n",
    "            return inputs * fading\n",
    "        \n",
    "        else:\n",
    "            return inputs"
   ]
  },
  {
   "cell_type": "code",
   "execution_count": 217,
   "id": "5c30feaf",
   "metadata": {},
   "outputs": [],
   "source": [
    "# Making the stochasticChannelLayer\n",
    "\n",
    "from scipy.stats import truncnorm\n",
    "from scipy.stats import uniform\n",
    "\n",
    "r = 4           # For upsampling -> number of complex samples per symbol\n",
    "roll_off = 0.35 # Roll off factor\n",
    "L = 31          # Number of taps (odd) for RRC filter\n",
    "f_s = 2e6\n",
    "T_bound = 1/f_s # Go through the resharch paper Deep Learning Based Communication Over the Air  (content under table 1) \n",
    "time_delay = np.random.uniform(-1,1) # To convert the time delay into discrete domain, time dilay is giving relative to the sampling period \n",
    "CFO = 5e3\n",
    "CFO_std = CFO/f_s\n",
    "snr = snr\n",
    "\n",
    "\n",
    "# function to create the complex values\n",
    "def real_to_complex_tensor(inp_tensor):\n",
    "  if len(inp_tensor.shape) == 0 or inp_tensor.shape[0] % 2 != 0:\n",
    "    raise ValueError(\"Input tensor must have an even number of elements.\")\n",
    "  if len(inp_tensor.shape) == 1:\n",
    "    inp_tensor = tf.reshape(inp_tensor, [-1, 2])\n",
    "  real_part = inp_tensor[:, 0]\n",
    "  imag_part = inp_tensor[:, 1]\n",
    "  complex_tensor = tf.complex(real_part, imag_part)\n",
    "  return complex_tensor\n",
    "\n",
    "def complex_to_real_tensor(inp_tensor):\n",
    "   real_part , imag_part = tf.math.real(inp_tensor), tf.math.imag(inp_tensor)\n",
    "   real_part = tf.reshape(real_part,[-1,1])\n",
    "   imag_part = tf.reshape(imag_part,[-1,1])\n",
    "   return tf.reshape(tf.concat([real_part,imag_part],1),[-1])\n",
    "\n",
    "# Upsample\n",
    "def upsampling(inp,r):\n",
    "  #complex_tensor = real_to_complex_tensor(inp)\n",
    "  com_reshape = tf.reshape(inp,[-1,1])\n",
    "  zeros_vec = np.zeros((com_reshape.shape[0],r-1),np.float32)\n",
    "  zeros_tensor =  tf.complex(zeros_vec,zeros_vec)\n",
    "  upsampled = tf.concat([com_reshape,zeros_tensor],1)\n",
    "  return tf.reshape(upsampled,[-1])\n",
    "\n",
    "# Normalized RRC with time shift\n",
    "def NRRC_filter(num_taps, roll_off, time_delay):\n",
    "  t = np.linspace(-(num_taps-1)/2,(num_taps-1)/2,num_taps) - time_delay\n",
    "  eps = np.finfo(float).eps # Small epsilon to avoid divisiomn by zero\n",
    "  pi = np.pi\n",
    "  def RRC_filter_coff(t):\n",
    "    if abs(t) < eps:  # For t==0\n",
    "      return 1.0 - roll_off + (4*roll_off/pi)\n",
    "    elif roll_off != 0 and (abs(t-1/(4*roll_off))<eps or abs(t+1/(4*roll_off))<eps):\n",
    "      return (roll_off/np.sqrt(2))*(1 + 2/pi)*np.sin(pi/(4*roll_off)) + (1- 2/pi)*np.cos(pi/(4*roll_off))\n",
    "    else:\n",
    "      nu = np.sin(pi*t*(1-roll_off)) + 4*roll_off*t*np.cos(pi*t*(1+roll_off))\n",
    "      den = pi*t*(1-(4*roll_off*t)**2)\n",
    "      return nu/(den + eps)\n",
    "  filter_coff = np.array([RRC_filter_coff(T) for T in t])\n",
    "  NRRC_filter_coff = filter_coff / np.sum(np.abs(filter_coff))\n",
    "  print(f\"Time_delay = {time_delay}\")\n",
    "  plt.stem(t,NRRC_filter_coff)  # Plot for visualization\n",
    "  return tf.constant(NRRC_filter_coff,dtype = tf.float32)\n",
    "\n",
    "# Phase offset\n",
    "def PhaseOffset_vec(inp_shape,r,CFO_std):\n",
    "  if inp_shape[0] != None: \n",
    "    l = inp_shape[0]\n",
    "  else:\n",
    "     l = inp_shape[1]\n",
    "  CFO_off = truncnorm.rvs(-1.96,1.96)*CFO_std  # boundaries will be selected for 95% confidence\n",
    "                                               # CFO_min and CFO_max (boundaries) will be selected for 95% confidence\n",
    "  exp_vec = []\n",
    "  phase_off = 0\n",
    "  for i in range(l):\n",
    "    if i%r ==0:\n",
    "        phase_off = uniform.rvs(scale = 2*np.pi)\n",
    "    exp_vec.append(tf.math.exp(tf.constant([0+(2*np.pi*i*CFO_off+phase_off)*1j],dtype=tf.complex64)))\n",
    "  return tf.reshape(tf.stack(exp_vec),inp_shape)\n",
    "   \n",
    "\n",
    "class UpsamplingLayer(keras.layers.Layer):\n",
    "    def __init__(self, r =r):\n",
    "        super().__init__()\n",
    "        self.r = r\n",
    "    def call(self,inputs):\n",
    "       return upsampling(inputs,self.r)\n",
    "    \n",
    "class PulseShaping(keras.layers.Layer): # The input size will not be changed\n",
    "    def __init__(self,num_taps,roll_off,time_delay):\n",
    "      super().__init__()\n",
    "      self.nrrc_filter = NRRC_filter(num_taps,roll_off,time_delay)\n",
    "      self.nrrc_filter = tf.reshape(self.nrrc_filter,[num_taps,1,1])\n",
    "    def call(self, inputs):\n",
    "      inp_shape = inputs.shape[0]\n",
    "      real_part , imag_part = tf.math.real(inputs), tf.math.imag(inputs)\n",
    "      real_part = tf.reshape(real_part,[1,inp_shape,1])\n",
    "      imag_part = tf.reshape(imag_part,[1,inp_shape,1])\n",
    "      real_conv = tf.nn.conv1d(real_part,self.nrrc_filter,stride=1,padding=\"SAME\")\n",
    "      imag_conv = tf.nn.conv1d(imag_part,self.nrrc_filter,stride=1,padding=\"SAME\")\n",
    "      real_conv = tf.reshape(real_conv,[-1])\n",
    "      imag_conv = tf.reshape(imag_conv,[-1])\n",
    "      return tf.complex(real_conv,imag_conv)\n",
    "\n",
    "class PhaseOffset(keras.layers.Layer):\n",
    "    def __init__(self,r,CFO_std):\n",
    "      super().__init__()\n",
    "      self.r = r\n",
    "      self.CFO_std = CFO_std\n",
    "    def call(self,inputs):\n",
    "       return inputs * PhaseOffset_vec(inputs.shape,self.r,self.CFO_std)\n",
    "\n",
    "class StochasticChannelLayer(keras.layers.Layer):\n",
    "    \"\"\"This channel will output 1D tensor.\n",
    "        r ----------> upsampling constant (number of complex samples per symbol)\n",
    "        time_delay -> uniformly distributed time delay between (-1,1), discrete domain, \n",
    "                      time dilay is giving relative to the sampling period\n",
    "        CFO_std ----> CFO_frequency / sampling_frequency is taken as the standared deviation\n",
    "        snr --------> snr for AWGN channel\"\"\"\n",
    "    def __init__(self, r,time_delay,CFO_std,snr):\n",
    "        super().__init__()\n",
    "        self.UpSamplingLayer_inst = UpsamplingLayer(r)\n",
    "        L = 31          # Number of taps\n",
    "        roll_off = 0.35 # Roll off factor\n",
    "        self.PulseShaping_inst = PulseShaping(L,roll_off,time_delay)\n",
    "        self.PhaseOffset_inst = PhaseOffset(r,CFO_std)\n",
    "        self.AWGNlayer = keras.layers.GaussianNoise(stddev = np.sqrt(1/10**(snr/10)))\n",
    "    def call(self, inputs):\n",
    "      inputs = tf.reshape(inputs,[-1])\n",
    "      inputs = real_to_complex_tensor(inputs)\n",
    "      x = self.UpSamplingLayer_inst(inputs)\n",
    "      x = self.PulseShaping_inst(x)\n",
    "      x = self.PhaseOffset_inst(x)\n",
    "      x = self.AWGNlayer(x)\n",
    "      x = complex_to_real_tensor(x)\n",
    "      print(x.shape)\n",
    "      return x\n",
    "      "
   ]
  },
  {
   "cell_type": "code",
   "execution_count": 118,
   "id": "b23b0443",
   "metadata": {
    "ExecuteTime": {
     "end_time": "2024-03-10T12:08:45.428013Z",
     "start_time": "2024-03-10T12:08:45.412966Z"
    }
   },
   "outputs": [],
   "source": [
    "def calc_block_accuracy(preds,y_val):\n",
    "    n_bits_per_block = preds.shape[1]\n",
    "    n_correct_bits = np.sum(preds == y_val,axis=1)\n",
    "    block_accuracy = np.mean(n_correct_bits == n_bits_per_block)\n",
    "    return block_accuracy\n"
   ]
  },
  {
   "cell_type": "code",
   "execution_count": 195,
   "id": "39a9aa4a",
   "metadata": {
    "ExecuteTime": {
     "end_time": "2024-03-10T12:08:45.458871Z",
     "start_time": "2024-03-10T12:08:45.444569Z"
    }
   },
   "outputs": [],
   "source": [
    "# generating the data set\n",
    "\n",
    "x_train = np.array(np.random.rand(n_train,k)<0.5).astype(np.float32)\n",
    "y_train = x_train\n",
    "\n",
    "\n",
    "x_val = np.array(np.random.rand(n_val,k)<0.5).astype(np.float32)\n",
    "y_val = x_val\n",
    "\n"
   ]
  },
  {
   "cell_type": "code",
   "execution_count": 174,
   "id": "9307370f",
   "metadata": {},
   "outputs": [
    {
     "data": {
      "image/png": "[encoded data removed]",
      "text/plain": [
       "<Figure size 640x480 with 1 Axes>"
      ]
     },
     "metadata": {},
     "output_type": "display_data"
    }
   ],
   "source": [
    "import matplotlib.pyplot as plt\n",
    "import numpy as np\n",
    "from scipy.stats import nakagami\n",
    "\n",
    "\n",
    "# Define parameters for the Nakagami distribution\n",
    "shape_param1 = 1  # Shape parameter (m)\n",
    "scale_param1 = 2  # Scale parameter (omega)\n",
    "shape_param2 = 10  # Another shape parameter for comparison\n",
    "scale_param2 = 2  # Another scale parameter for comparison\n",
    "\n",
    "# Generate x-axis values\n",
    "x = np.linspace(0, 10, 200)  # Adjust upper limit based on your needs\n",
    "\n",
    "# Calculate probability density function (PDF) for each parameter set\n",
    "pdf_1 = nakagami.pdf(x, shape_param1, scale=scale_param1)\n",
    "pdf_2 = nakagami.pdf(x, shape_param2, scale=scale_param2)\n",
    "\n",
    "# Create the plot\n",
    "plt.plot(x, pdf_1, label=f'm = {shape_param1}, ω = {scale_param1}')\n",
    "plt.plot(x, pdf_2, label=f'm = {shape_param2}, ω = {scale_param2}')\n",
    "\n",
    "# Add labels and title\n",
    "plt.xlabel('x')\n",
    "plt.ylabel('Probability Density')\n",
    "plt.title('Nakagami Distribution')\n",
    "\n",
    "# Add legend\n",
    "plt.legend()\n",
    "\n",
    "# Show the plot\n",
    "plt.grid(True)\n",
    "plt.show()"
   ]
  },
  {
   "cell_type": "code",
   "execution_count": 201,
   "id": "bfceff7c",
   "metadata": {
    "ExecuteTime": {
     "end_time": "2024-03-10T12:09:10.899407Z",
     "start_time": "2024-03-10T12:08:45.475917Z"
    },
    "scrolled": false
   },
   "outputs": [
    {
     "name": "stdout",
     "output_type": "stream",
     "text": [
      "-------  start ----------\n",
      "Epoch 1/10\n",
      "10000/10000 - 17s - loss: 0.3708 - 17s/epoch - 2ms/step\n",
      "Epoch 2/10\n",
      "10000/10000 - 14s - loss: 0.3654 - 14s/epoch - 1ms/step\n",
      "Epoch 3/10\n",
      "10000/10000 - 14s - loss: 0.3646 - 14s/epoch - 1ms/step\n",
      "Epoch 4/10\n",
      "10000/10000 - 14s - loss: 0.3655 - 14s/epoch - 1ms/step\n",
      "Epoch 5/10\n",
      "10000/10000 - 15s - loss: 0.3648 - 15s/epoch - 1ms/step\n",
      "Epoch 6/10\n",
      "10000/10000 - 14s - loss: 0.3634 - 14s/epoch - 1ms/step\n",
      "Epoch 7/10\n",
      "10000/10000 - 13s - loss: 0.3637 - 13s/epoch - 1ms/step\n",
      "Epoch 8/10\n",
      "10000/10000 - 14s - loss: 0.3645 - 14s/epoch - 1ms/step\n",
      "Epoch 9/10\n",
      "10000/10000 - 14s - loss: 0.3644 - 14s/epoch - 1ms/step\n",
      "Epoch 10/10\n",
      "10000/10000 - 13s - loss: 0.3640 - 13s/epoch - 1ms/step\n",
      "1000/1000 [==============================] - 1s 1ms/step\n",
      "validation accuracy = 1.0\n",
      "snr = 6\n"
     ]
    }
   ],
   "source": [
    "# complete_results = []\n",
    "\n",
    "nakagami_m = 5 # m=1 foe reighley\n",
    "OMEGA = np.sqrt(2)\n",
    "AWGN_std = np.sqrt(1/10**(snr/10))#np.sqrt(OMEGA * 10 ** (-0.1 * gamma_bar) )\n",
    "\n",
    "act_func = 'relu' # 'tanh'\n",
    "\n",
    "print(f\"-------  start ----------\")\n",
    "\n",
    "def create_AE():\n",
    "    AE = Sequential([\n",
    "\n",
    "\n",
    "                    Dense(2**k, activation=act_func,input_shape=(k,)),\n",
    "                    Dense(2**k, activation=act_func),\n",
    "\n",
    "                    Dense(2*NUM_CHANNEL_USES, activation='linear'),\n",
    "                    L2Normalization(name=\"normalization_layer\"),\n",
    "\n",
    "\n",
    "                    #NakagamiNoiseLayer({\"omega\":OMEGA,\"m\":nakagami_m}),\n",
    "                    keras.layers.GaussianNoise(stddev = AWGN_std),\n",
    "                    #GaussianNoise(stddev=AWGN_std,name=\"channel\"),\n",
    "\n",
    "                    #L2Normalization(name=\"normalization_layer_at_rx\"),\n",
    "                    #Dense(3*k, activation='tanh'),\n",
    "        \n",
    "                    Dense(2**k, activation=act_func,name=\"decoder_start\"),\n",
    "                    Dense(2**k, activation=act_func,name=\"decoder_middle\"),\n",
    "                    Dense(k, activation='sigmoid')\n",
    "\n",
    "                    ])\n",
    "    return AE\n",
    "\n",
    "AE = create_AE()\n",
    "\n",
    "history = []\n",
    "\n",
    "AE.compile(optimizer=Adam(learning_rate=1e-2),loss=\"binary_crossentropy\")\n",
    "history.append(AE.fit(x_train,y_train,epochs=num_epoches,verbose=2))\n",
    "AE.compile(optimizer=Adam(learning_rate=1e-3),loss=\"binary_crossentropy\")\n",
    "history.append(AE.fit(x_train,y_train,epochs=num_epoches,verbose=2))\n",
    "\n",
    "preds = AE.predict(x_val)>0.5\n",
    "#         accuracy = np.mean( preds == y_val  )\n",
    "accuracy =  calc_block_accuracy(preds,y_val)\n",
    "print(f\"validation accuracy = {accuracy}\")\n",
    "print(f\"snr = {snr}\")\n",
    "     "
   ]
  },
  {
   "cell_type": "code",
   "execution_count": 202,
   "id": "650d9cb9",
   "metadata": {},
   "outputs": [
    {
     "name": "stdout",
     "output_type": "stream",
     "text": [
      "[0, 0, 0, 0]\n",
      "1/1 [==============================] - 0s 151ms/step\n",
      "[[False False False False]]\n",
      "[0, 0, 0, 1]\n",
      "1/1 [==============================] - 0s 113ms/step\n",
      "[[False False False  True]]\n",
      "[0, 0, 1, 0]\n",
      "1/1 [==============================] - 0s 18ms/step\n",
      "[[False False  True False]]\n",
      "[0, 0, 1, 1]\n",
      "1/1 [==============================] - 0s 57ms/step\n",
      "[[False False  True  True]]\n",
      "[0, 1, 0, 0]\n",
      "1/1 [==============================] - 0s 22ms/step\n",
      "[[False  True False False]]\n",
      "[0, 1, 0, 1]\n",
      "1/1 [==============================] - 0s 46ms/step\n",
      "[[False  True False  True]]\n",
      "[0, 1, 1, 0]\n",
      "1/1 [==============================] - 0s 20ms/step\n",
      "[[False  True  True False]]\n",
      "[0, 1, 1, 1]\n",
      "1/1 [==============================] - 0s 21ms/step\n",
      "[[False  True  True  True]]\n",
      "[1, 0, 0, 0]\n",
      "1/1 [==============================] - 0s 22ms/step\n",
      "[[ True False False False]]\n",
      "[1, 0, 0, 1]\n",
      "1/1 [==============================] - 0s 34ms/step\n",
      "[[ True False False  True]]\n",
      "[1, 0, 1, 0]\n",
      "1/1 [==============================] - 0s 56ms/step\n",
      "[[ True False  True False]]\n",
      "[1, 0, 1, 1]\n",
      "1/1 [==============================] - 0s 20ms/step\n",
      "[[ True False  True  True]]\n",
      "[1, 1, 0, 0]\n",
      "1/1 [==============================] - 0s 43ms/step\n",
      "[[ True  True False False]]\n",
      "[1, 1, 0, 1]\n",
      "1/1 [==============================] - 0s 29ms/step\n",
      "[[ True  True False  True]]\n",
      "[1, 1, 1, 0]\n",
      "1/1 [==============================] - 0s 20ms/step\n",
      "[[ True  True  True False]]\n",
      "[1, 1, 1, 1]\n",
      "1/1 [==============================] - 0s 21ms/step\n",
      "[[ True  True  True  True]]\n"
     ]
    }
   ],
   "source": [
    "def int_to_binary_list(num):\n",
    "\n",
    "  if not 0 <= num <= 15:\n",
    "    raise ValueError(\"Input number must be between 0 and 15.\")\n",
    "\n",
    "  binary_list = [int(digit) for digit in np.binary_repr(num, width=4)]\n",
    "  return binary_list\n",
    "\n",
    "for i in range(16):\n",
    "    print(int_to_binary_list(i))\n",
    "    print(AE.predict(tf.constant([int_to_binary_list(i)]))>0.5)"
   ]
  },
  {
   "cell_type": "markdown",
   "id": "35298ea9",
   "metadata": {},
   "source": [
    "### Saving model Encoder and decoder\n",
    "https://www.tensorflow.org/tutorials/keras/save_and_load"
   ]
  },
  {
   "cell_type": "code",
   "execution_count": 203,
   "id": "b918436e",
   "metadata": {},
   "outputs": [],
   "source": [
    "# Save the weights\n",
    "AE.save_weights('./AE_model')"
   ]
  },
  {
   "cell_type": "markdown",
   "id": "f616cd61",
   "metadata": {},
   "source": [
    "### Ploting "
   ]
  },
  {
   "cell_type": "code",
   "execution_count": 204,
   "id": "6b1a55b7",
   "metadata": {},
   "outputs": [
    {
     "data": {
      "text/plain": [
       "dict_keys(['loss'])"
      ]
     },
     "execution_count": 204,
     "metadata": {},
     "output_type": "execute_result"
    }
   ],
   "source": [
    "history[0].history.keys()"
   ]
  },
  {
   "cell_type": "code",
   "execution_count": 205,
   "id": "3d1a5684",
   "metadata": {},
   "outputs": [
    {
     "data": {
      "image/png": "[encoded data removed]",
      "text/plain": [
       "<Figure size 640x480 with 1 Axes>"
      ]
     },
     "metadata": {},
     "output_type": "display_data"
    }
   ],
   "source": [
    "plt.plot(history[0].history['loss']+history[1].history['loss'])\n",
    "plt.title('plot of losses '+str(num_epoches*2)+' epochs')\n",
    "plt.ylabel('Loss')\n",
    "plt.xlabel('epoch')\n",
    "plt.show()"
   ]
  },
  {
   "cell_type": "markdown",
   "id": "3051c75d",
   "metadata": {},
   "source": [
    "## Apply Nakagami effect and generate dataset"
   ]
  },
  {
   "cell_type": "markdown",
   "id": "cbbf18be",
   "metadata": {},
   "source": [
    "Need the encodings we present to the channel (i.e \"before_channel\")\n"
   ]
  },
  {
   "cell_type": "code",
   "execution_count": 106,
   "id": "6f99d604",
   "metadata": {
    "ExecuteTime": {
     "end_time": "2024-03-10T12:09:10.930379Z",
     "start_time": "2024-03-10T12:09:10.901351Z"
    }
   },
   "outputs": [],
   "source": [
    "AE_best = AE # not comparing.. we got only one\n",
    "\n",
    "before_channel = Model(inputs=AE_best.input,\n",
    "                                 outputs=AE_best.get_layer('normalization_layer').output)\n",
    "\n",
    "# not used\n",
    "after_channel = Model(inputs=AE_best.get_layer(\"decoder_start\").input,\n",
    "                                 outputs=AE_best.output)\n",
    "\n"
   ]
  },
  {
   "cell_type": "code",
   "execution_count": 114,
   "id": "d0f39431",
   "metadata": {},
   "outputs": [],
   "source": [
    "def nakagami_channel_without_awgn(m, omega, num_samples):\n",
    "    nakagami_var =  nakagami.rvs(m,omega,size = num_samples)\n",
    "    nakagami_phase_vec = np.exp(1j*np.random.uniform(low=0.0, high=2*np.pi, size = num_samples))\n",
    "    # Generate channel with noise\n",
    "    channel = nakagami_var*nakagami_phase_vec\n",
    "    return channel\n",
    "\n",
    "def nakagami_channel_with_awgn(m, omega, snr_db, num_samples):\n",
    "    nakagami_var =  nakagami.rvs(m,omega,size = num_samples)\n",
    "    nakagami_phase_vec = np.exp(1j*np.random.uniform(low=0.0, high=2*np.pi, size = num_samples))\n",
    "    noise_var = 10**(-snr_db/10)\n",
    "    # Genarating random noise\n",
    "    noise = np.random.normal(scale=np.sqrt(noise_var), size=num_samples)\n",
    "    # Generate channel with noise\n",
    "    channel = noise + nakagami_var*nakagami_phase_vec\n",
    "    return channel\n",
    "    "
   ]
  },
  {
   "cell_type": "code",
   "execution_count": 113,
   "id": "63840639",
   "metadata": {},
   "outputs": [
    {
     "name": "stdout",
     "output_type": "stream",
     "text": [
      "(0.7071067811865476+0.7071067811865476j)\n"
     ]
    }
   ],
   "source": [
    "print(np.exp(np.pi/4*1j))"
   ]
  },
  {
   "cell_type": "code",
   "execution_count": 109,
   "id": "0d1545f2",
   "metadata": {},
   "outputs": [],
   "source": [
    "# Creating and Adding the dataset to a csv\n",
    "\n",
    "def add_to_csv(n_out):\n",
    "    \n",
    "    ##\n",
    "    x_out = np.array(np.random.rand(n_out,k)<0.5).astype(np.float32)\n",
    "\n",
    "    ##\n",
    "    # get encodings given by DNN for each message in training set\n",
    "    enc = before_channel(x_out)\n",
    "    #print('enc.shape: ', enc.shape)\n",
    "\n",
    "    # convert to iq_samples\n",
    "    iq_samples = tf.complex(enc[:,0::2], enc[:,1::2])\n",
    "    #print('iq_samples.shape: ', iq_samples.shape)\n",
    "\n",
    "    ##\n",
    "    M_POOL       = [1,1.25,1.5,1.75,2]\n",
    "    OMEGA_POOL = [1.2,np.sqrt(2),1.6]\n",
    "    SNR_DB_POOL  = [5.5,6,6.5]\n",
    "\n",
    "    nakagami_chanel_coeff_tensor = []\n",
    "\n",
    "    block_size = 320\n",
    "    n_blocks = enc.shape[0] // block_size \n",
    "    for i in range(n_blocks):\n",
    "        m = np.random.choice(M_POOL)\n",
    "        snr_db = np.random.choice(SNR_DB_POOL)\n",
    "        omega = np.random.choice(OMEGA_POOL)\n",
    "        nakagami_chanel_coeff_tensor.append( nakagami_channel_with_awgn(m=m, omega=1,snr_db=snr_db, num_samples=(block_size,iq_samples.shape[1])) )\n",
    "\n",
    "    nakagami_chanel_coeff_tensor = tf.constant(nakagami_chanel_coeff_tensor)\n",
    "    #print(\"nakagami_chanel_coeff_tensor.shape : \",nakagami_chanel_coeff_tensor.shape)\n",
    "\n",
    "    iq_samples_blocked = np.reshape(iq_samples,(n_blocks,block_size,-1))\n",
    "    #print(\"iq_samples_blocked.shape : \",iq_samples_blocked.shape)\n",
    "\n",
    "\n",
    "    # tested identity flow (enc == received_enc)  with : nakagami_chanel_coeff_tensor =  tf.complex(1.,0.)\n",
    "\n",
    "    # element wise multiply\n",
    "    nakagami_affected_iq_samples = tf.multiply(nakagami_chanel_coeff_tensor,iq_samples_blocked)\n",
    "    # undo the blockking\n",
    "    nakagami_affected_iq_samples = tf.reshape(nakagami_affected_iq_samples,(block_size*n_blocks,-1))\n",
    "    #print(\"nakagami_affected_iq_samples.shape : \",nakagami_affected_iq_samples.shape)\n",
    "\n",
    "    ##\n",
    "    # need to convert each iq_samples to two encoding\n",
    "    real_part =  tf.expand_dims(tf.math.real(nakagami_affected_iq_samples),axis=2)\n",
    "    imag_part =  tf.expand_dims(tf.math.imag(nakagami_affected_iq_samples),axis=2)\n",
    "\n",
    "    concat = tf.concat((real_part,imag_part),axis=2)\n",
    "    #print(\"concat.shape : \",concat.shape)\n",
    "    received_enc = tf.cast(tf.reshape(concat,(block_size*n_blocks,-1)),tf.float32)\n",
    "    #print(\"received_enc.shape : \",received_enc.shape)\n",
    "\n",
    "    ## \n",
    "    #Summary\n",
    "    # enc is the encodings presenet to channel  \n",
    "    # messages --> bits --> [trained DNN]  --> enc \n",
    "    #print('enc.shape: ', enc.shape)\n",
    "\n",
    "\n",
    "    # received_enc is the encoding equavalent after Nakagami+noise effects considered\n",
    "    # enc --> iq_samples --> [NAKAGAMI+noise effect]  --> affected_iq_smaples --> received_enc\n",
    "    #print('received_enc.shape: ', received_enc.shape)\n",
    "\n",
    "    # see the difference done by the channel\n",
    "    enc - received_enc\n",
    "\n",
    "    ##\n",
    "    ## Adding to csv file\n",
    "    enc = np.reshape(enc,(-1,1))\n",
    "    received_enc = np.reshape(received_enc,(-1,1))\n",
    "    #print(enc.shape)\n",
    "    data = np.concatenate((enc,received_enc),axis=1)\n",
    "   #print(data.shape)\n",
    "    df = pd.DataFrame(data)  \n",
    "    df.to_csv(\"my_data_.csv\", mode = 'a',index=False, header=False) \n"
   ]
  },
  {
   "cell_type": "code",
   "execution_count": 110,
   "id": "fdcf32de",
   "metadata": {},
   "outputs": [
    {
     "name": "stdout",
     "output_type": "stream",
     "text": [
      "iq_samples.shape:  (32000, 7)\n",
      "iq_samples.shape:  (32000, 7)\n",
      "iq_samples.shape:  (32000, 7)\n",
      "iq_samples.shape:  (32000, 7)\n",
      "iq_samples.shape:  (32000, 7)\n",
      "iq_samples.shape:  (32000, 7)\n",
      "iq_samples.shape:  (32000, 7)\n",
      "iq_samples.shape:  (32000, 7)\n",
      "iq_samples.shape:  (32000, 7)\n",
      "iq_samples.shape:  (32000, 7)\n",
      "iq_samples.shape:  (32000, 7)\n",
      "iq_samples.shape:  (32000, 7)\n",
      "iq_samples.shape:  (32000, 7)\n",
      "iq_samples.shape:  (32000, 7)\n",
      "iq_samples.shape:  (32000, 7)\n",
      "iq_samples.shape:  (32000, 7)\n"
     ]
    },
    {
     "ename": "KeyboardInterrupt",
     "evalue": "",
     "output_type": "error",
     "traceback": [
      "\u001b[1;31m---------------------------------------------------------------------------\u001b[0m",
      "\u001b[1;31mKeyboardInterrupt\u001b[0m                         Traceback (most recent call last)",
      "Cell \u001b[1;32mIn[110], line 2\u001b[0m\n\u001b[0;32m      1\u001b[0m \u001b[38;5;28;01mfor\u001b[39;00m i \u001b[38;5;129;01min\u001b[39;00m \u001b[38;5;28mrange\u001b[39m(\u001b[38;5;28mint\u001b[39m(n_out\u001b[38;5;241m/\u001b[39m\u001b[38;5;241m/\u001b[39m\u001b[38;5;241m100\u001b[39m\u001b[38;5;241m*\u001b[39mblock_size)):\n\u001b[1;32m----> 2\u001b[0m     \u001b[43madd_to_csv\u001b[49m\u001b[43m(\u001b[49m\u001b[38;5;241;43m100\u001b[39;49m\u001b[38;5;241;43m*\u001b[39;49m\u001b[43mblock_size\u001b[49m\u001b[43m)\u001b[49m\n",
      "Cell \u001b[1;32mIn[109], line 77\u001b[0m, in \u001b[0;36madd_to_csv\u001b[1;34m(n_out)\u001b[0m\n\u001b[0;32m     75\u001b[0m \u001b[38;5;66;03m#print(data.shape)\u001b[39;00m\n\u001b[0;32m     76\u001b[0m  df \u001b[38;5;241m=\u001b[39m pd\u001b[38;5;241m.\u001b[39mDataFrame(data)  \n\u001b[1;32m---> 77\u001b[0m  \u001b[43mdf\u001b[49m\u001b[38;5;241;43m.\u001b[39;49m\u001b[43mto_csv\u001b[49m\u001b[43m(\u001b[49m\u001b[38;5;124;43m\"\u001b[39;49m\u001b[38;5;124;43mmy_data_.csv\u001b[39;49m\u001b[38;5;124;43m\"\u001b[39;49m\u001b[43m,\u001b[49m\u001b[43m \u001b[49m\u001b[43mmode\u001b[49m\u001b[43m \u001b[49m\u001b[38;5;241;43m=\u001b[39;49m\u001b[43m \u001b[49m\u001b[38;5;124;43m'\u001b[39;49m\u001b[38;5;124;43ma\u001b[39;49m\u001b[38;5;124;43m'\u001b[39;49m\u001b[43m,\u001b[49m\u001b[43mindex\u001b[49m\u001b[38;5;241;43m=\u001b[39;49m\u001b[38;5;28;43;01mFalse\u001b[39;49;00m\u001b[43m,\u001b[49m\u001b[43m \u001b[49m\u001b[43mheader\u001b[49m\u001b[38;5;241;43m=\u001b[39;49m\u001b[38;5;28;43;01mFalse\u001b[39;49;00m\u001b[43m)\u001b[49m\n",
      "File \u001b[1;32mc:\\Users\\lathw\\AppData\\Local\\Programs\\Python\\Python311\\Lib\\site-packages\\pandas\\util\\_decorators.py:333\u001b[0m, in \u001b[0;36mdeprecate_nonkeyword_arguments.<locals>.decorate.<locals>.wrapper\u001b[1;34m(*args, **kwargs)\u001b[0m\n\u001b[0;32m    327\u001b[0m \u001b[38;5;28;01mif\u001b[39;00m \u001b[38;5;28mlen\u001b[39m(args) \u001b[38;5;241m>\u001b[39m num_allow_args:\n\u001b[0;32m    328\u001b[0m     warnings\u001b[38;5;241m.\u001b[39mwarn(\n\u001b[0;32m    329\u001b[0m         msg\u001b[38;5;241m.\u001b[39mformat(arguments\u001b[38;5;241m=\u001b[39m_format_argument_list(allow_args)),\n\u001b[0;32m    330\u001b[0m         \u001b[38;5;167;01mFutureWarning\u001b[39;00m,\n\u001b[0;32m    331\u001b[0m         stacklevel\u001b[38;5;241m=\u001b[39mfind_stack_level(),\n\u001b[0;32m    332\u001b[0m     )\n\u001b[1;32m--> 333\u001b[0m \u001b[38;5;28;01mreturn\u001b[39;00m \u001b[43mfunc\u001b[49m\u001b[43m(\u001b[49m\u001b[38;5;241;43m*\u001b[39;49m\u001b[43margs\u001b[49m\u001b[43m,\u001b[49m\u001b[43m \u001b[49m\u001b[38;5;241;43m*\u001b[39;49m\u001b[38;5;241;43m*\u001b[39;49m\u001b[43mkwargs\u001b[49m\u001b[43m)\u001b[49m\n",
      "File \u001b[1;32mc:\\Users\\lathw\\AppData\\Local\\Programs\\Python\\Python311\\Lib\\site-packages\\pandas\\core\\generic.py:3964\u001b[0m, in \u001b[0;36mNDFrame.to_csv\u001b[1;34m(self, path_or_buf, sep, na_rep, float_format, columns, header, index, index_label, mode, encoding, compression, quoting, quotechar, lineterminator, chunksize, date_format, doublequote, escapechar, decimal, errors, storage_options)\u001b[0m\n\u001b[0;32m   3953\u001b[0m df \u001b[38;5;241m=\u001b[39m \u001b[38;5;28mself\u001b[39m \u001b[38;5;28;01mif\u001b[39;00m \u001b[38;5;28misinstance\u001b[39m(\u001b[38;5;28mself\u001b[39m, ABCDataFrame) \u001b[38;5;28;01melse\u001b[39;00m \u001b[38;5;28mself\u001b[39m\u001b[38;5;241m.\u001b[39mto_frame()\n\u001b[0;32m   3955\u001b[0m formatter \u001b[38;5;241m=\u001b[39m DataFrameFormatter(\n\u001b[0;32m   3956\u001b[0m     frame\u001b[38;5;241m=\u001b[39mdf,\n\u001b[0;32m   3957\u001b[0m     header\u001b[38;5;241m=\u001b[39mheader,\n\u001b[1;32m   (...)\u001b[0m\n\u001b[0;32m   3961\u001b[0m     decimal\u001b[38;5;241m=\u001b[39mdecimal,\n\u001b[0;32m   3962\u001b[0m )\n\u001b[1;32m-> 3964\u001b[0m \u001b[38;5;28;01mreturn\u001b[39;00m \u001b[43mDataFrameRenderer\u001b[49m\u001b[43m(\u001b[49m\u001b[43mformatter\u001b[49m\u001b[43m)\u001b[49m\u001b[38;5;241;43m.\u001b[39;49m\u001b[43mto_csv\u001b[49m\u001b[43m(\u001b[49m\n\u001b[0;32m   3965\u001b[0m \u001b[43m    \u001b[49m\u001b[43mpath_or_buf\u001b[49m\u001b[43m,\u001b[49m\n\u001b[0;32m   3966\u001b[0m \u001b[43m    \u001b[49m\u001b[43mlineterminator\u001b[49m\u001b[38;5;241;43m=\u001b[39;49m\u001b[43mlineterminator\u001b[49m\u001b[43m,\u001b[49m\n\u001b[0;32m   3967\u001b[0m \u001b[43m    \u001b[49m\u001b[43msep\u001b[49m\u001b[38;5;241;43m=\u001b[39;49m\u001b[43msep\u001b[49m\u001b[43m,\u001b[49m\n\u001b[0;32m   3968\u001b[0m \u001b[43m    \u001b[49m\u001b[43mencoding\u001b[49m\u001b[38;5;241;43m=\u001b[39;49m\u001b[43mencoding\u001b[49m\u001b[43m,\u001b[49m\n\u001b[0;32m   3969\u001b[0m \u001b[43m    \u001b[49m\u001b[43merrors\u001b[49m\u001b[38;5;241;43m=\u001b[39;49m\u001b[43merrors\u001b[49m\u001b[43m,\u001b[49m\n\u001b[0;32m   3970\u001b[0m \u001b[43m    \u001b[49m\u001b[43mcompression\u001b[49m\u001b[38;5;241;43m=\u001b[39;49m\u001b[43mcompression\u001b[49m\u001b[43m,\u001b[49m\n\u001b[0;32m   3971\u001b[0m \u001b[43m    \u001b[49m\u001b[43mquoting\u001b[49m\u001b[38;5;241;43m=\u001b[39;49m\u001b[43mquoting\u001b[49m\u001b[43m,\u001b[49m\n\u001b[0;32m   3972\u001b[0m \u001b[43m    \u001b[49m\u001b[43mcolumns\u001b[49m\u001b[38;5;241;43m=\u001b[39;49m\u001b[43mcolumns\u001b[49m\u001b[43m,\u001b[49m\n\u001b[0;32m   3973\u001b[0m \u001b[43m    \u001b[49m\u001b[43mindex_label\u001b[49m\u001b[38;5;241;43m=\u001b[39;49m\u001b[43mindex_label\u001b[49m\u001b[43m,\u001b[49m\n\u001b[0;32m   3974\u001b[0m \u001b[43m    \u001b[49m\u001b[43mmode\u001b[49m\u001b[38;5;241;43m=\u001b[39;49m\u001b[43mmode\u001b[49m\u001b[43m,\u001b[49m\n\u001b[0;32m   3975\u001b[0m \u001b[43m    \u001b[49m\u001b[43mchunksize\u001b[49m\u001b[38;5;241;43m=\u001b[39;49m\u001b[43mchunksize\u001b[49m\u001b[43m,\u001b[49m\n\u001b[0;32m   3976\u001b[0m \u001b[43m    \u001b[49m\u001b[43mquotechar\u001b[49m\u001b[38;5;241;43m=\u001b[39;49m\u001b[43mquotechar\u001b[49m\u001b[43m,\u001b[49m\n\u001b[0;32m   3977\u001b[0m \u001b[43m    \u001b[49m\u001b[43mdate_format\u001b[49m\u001b[38;5;241;43m=\u001b[39;49m\u001b[43mdate_format\u001b[49m\u001b[43m,\u001b[49m\n\u001b[0;32m   3978\u001b[0m \u001b[43m    \u001b[49m\u001b[43mdoublequote\u001b[49m\u001b[38;5;241;43m=\u001b[39;49m\u001b[43mdoublequote\u001b[49m\u001b[43m,\u001b[49m\n\u001b[0;32m   3979\u001b[0m \u001b[43m    \u001b[49m\u001b[43mescapechar\u001b[49m\u001b[38;5;241;43m=\u001b[39;49m\u001b[43mescapechar\u001b[49m\u001b[43m,\u001b[49m\n\u001b[0;32m   3980\u001b[0m \u001b[43m    \u001b[49m\u001b[43mstorage_options\u001b[49m\u001b[38;5;241;43m=\u001b[39;49m\u001b[43mstorage_options\u001b[49m\u001b[43m,\u001b[49m\n\u001b[0;32m   3981\u001b[0m \u001b[43m\u001b[49m\u001b[43m)\u001b[49m\n",
      "File \u001b[1;32mc:\\Users\\lathw\\AppData\\Local\\Programs\\Python\\Python311\\Lib\\site-packages\\pandas\\io\\formats\\format.py:1014\u001b[0m, in \u001b[0;36mDataFrameRenderer.to_csv\u001b[1;34m(self, path_or_buf, encoding, sep, columns, index_label, mode, compression, quoting, quotechar, lineterminator, chunksize, date_format, doublequote, escapechar, errors, storage_options)\u001b[0m\n\u001b[0;32m    993\u001b[0m     created_buffer \u001b[38;5;241m=\u001b[39m \u001b[38;5;28;01mFalse\u001b[39;00m\n\u001b[0;32m    995\u001b[0m csv_formatter \u001b[38;5;241m=\u001b[39m CSVFormatter(\n\u001b[0;32m    996\u001b[0m     path_or_buf\u001b[38;5;241m=\u001b[39mpath_or_buf,\n\u001b[0;32m    997\u001b[0m     lineterminator\u001b[38;5;241m=\u001b[39mlineterminator,\n\u001b[1;32m   (...)\u001b[0m\n\u001b[0;32m   1012\u001b[0m     formatter\u001b[38;5;241m=\u001b[39m\u001b[38;5;28mself\u001b[39m\u001b[38;5;241m.\u001b[39mfmt,\n\u001b[0;32m   1013\u001b[0m )\n\u001b[1;32m-> 1014\u001b[0m \u001b[43mcsv_formatter\u001b[49m\u001b[38;5;241;43m.\u001b[39;49m\u001b[43msave\u001b[49m\u001b[43m(\u001b[49m\u001b[43m)\u001b[49m\n\u001b[0;32m   1016\u001b[0m \u001b[38;5;28;01mif\u001b[39;00m created_buffer:\n\u001b[0;32m   1017\u001b[0m     \u001b[38;5;28;01massert\u001b[39;00m \u001b[38;5;28misinstance\u001b[39m(path_or_buf, StringIO)\n",
      "File \u001b[1;32mc:\\Users\\lathw\\AppData\\Local\\Programs\\Python\\Python311\\Lib\\site-packages\\pandas\\io\\formats\\csvs.py:270\u001b[0m, in \u001b[0;36mCSVFormatter.save\u001b[1;34m(self)\u001b[0m\n\u001b[0;32m    251\u001b[0m \u001b[38;5;28;01mwith\u001b[39;00m get_handle(\n\u001b[0;32m    252\u001b[0m     \u001b[38;5;28mself\u001b[39m\u001b[38;5;241m.\u001b[39mfilepath_or_buffer,\n\u001b[0;32m    253\u001b[0m     \u001b[38;5;28mself\u001b[39m\u001b[38;5;241m.\u001b[39mmode,\n\u001b[1;32m   (...)\u001b[0m\n\u001b[0;32m    258\u001b[0m ) \u001b[38;5;28;01mas\u001b[39;00m handles:\n\u001b[0;32m    259\u001b[0m     \u001b[38;5;66;03m# Note: self.encoding is irrelevant here\u001b[39;00m\n\u001b[0;32m    260\u001b[0m     \u001b[38;5;28mself\u001b[39m\u001b[38;5;241m.\u001b[39mwriter \u001b[38;5;241m=\u001b[39m csvlib\u001b[38;5;241m.\u001b[39mwriter(\n\u001b[0;32m    261\u001b[0m         handles\u001b[38;5;241m.\u001b[39mhandle,\n\u001b[0;32m    262\u001b[0m         lineterminator\u001b[38;5;241m=\u001b[39m\u001b[38;5;28mself\u001b[39m\u001b[38;5;241m.\u001b[39mlineterminator,\n\u001b[1;32m   (...)\u001b[0m\n\u001b[0;32m    267\u001b[0m         quotechar\u001b[38;5;241m=\u001b[39m\u001b[38;5;28mself\u001b[39m\u001b[38;5;241m.\u001b[39mquotechar,\n\u001b[0;32m    268\u001b[0m     )\n\u001b[1;32m--> 270\u001b[0m     \u001b[38;5;28;43mself\u001b[39;49m\u001b[38;5;241;43m.\u001b[39;49m\u001b[43m_save\u001b[49m\u001b[43m(\u001b[49m\u001b[43m)\u001b[49m\n",
      "File \u001b[1;32mc:\\Users\\lathw\\AppData\\Local\\Programs\\Python\\Python311\\Lib\\site-packages\\pandas\\io\\formats\\csvs.py:275\u001b[0m, in \u001b[0;36mCSVFormatter._save\u001b[1;34m(self)\u001b[0m\n\u001b[0;32m    273\u001b[0m \u001b[38;5;28;01mif\u001b[39;00m \u001b[38;5;28mself\u001b[39m\u001b[38;5;241m.\u001b[39m_need_to_save_header:\n\u001b[0;32m    274\u001b[0m     \u001b[38;5;28mself\u001b[39m\u001b[38;5;241m.\u001b[39m_save_header()\n\u001b[1;32m--> 275\u001b[0m \u001b[38;5;28;43mself\u001b[39;49m\u001b[38;5;241;43m.\u001b[39;49m\u001b[43m_save_body\u001b[49m\u001b[43m(\u001b[49m\u001b[43m)\u001b[49m\n",
      "File \u001b[1;32mc:\\Users\\lathw\\AppData\\Local\\Programs\\Python\\Python311\\Lib\\site-packages\\pandas\\io\\formats\\csvs.py:313\u001b[0m, in \u001b[0;36mCSVFormatter._save_body\u001b[1;34m(self)\u001b[0m\n\u001b[0;32m    311\u001b[0m \u001b[38;5;28;01mif\u001b[39;00m start_i \u001b[38;5;241m>\u001b[39m\u001b[38;5;241m=\u001b[39m end_i:\n\u001b[0;32m    312\u001b[0m     \u001b[38;5;28;01mbreak\u001b[39;00m\n\u001b[1;32m--> 313\u001b[0m \u001b[38;5;28;43mself\u001b[39;49m\u001b[38;5;241;43m.\u001b[39;49m\u001b[43m_save_chunk\u001b[49m\u001b[43m(\u001b[49m\u001b[43mstart_i\u001b[49m\u001b[43m,\u001b[49m\u001b[43m \u001b[49m\u001b[43mend_i\u001b[49m\u001b[43m)\u001b[49m\n",
      "File \u001b[1;32mc:\\Users\\lathw\\AppData\\Local\\Programs\\Python\\Python311\\Lib\\site-packages\\pandas\\io\\formats\\csvs.py:324\u001b[0m, in \u001b[0;36mCSVFormatter._save_chunk\u001b[1;34m(self, start_i, end_i)\u001b[0m\n\u001b[0;32m    321\u001b[0m data \u001b[38;5;241m=\u001b[39m \u001b[38;5;28mlist\u001b[39m(res\u001b[38;5;241m.\u001b[39m_iter_column_arrays())\n\u001b[0;32m    323\u001b[0m ix \u001b[38;5;241m=\u001b[39m \u001b[38;5;28mself\u001b[39m\u001b[38;5;241m.\u001b[39mdata_index[slicer]\u001b[38;5;241m.\u001b[39m_get_values_for_csv(\u001b[38;5;241m*\u001b[39m\u001b[38;5;241m*\u001b[39m\u001b[38;5;28mself\u001b[39m\u001b[38;5;241m.\u001b[39m_number_format)\n\u001b[1;32m--> 324\u001b[0m \u001b[43mlibwriters\u001b[49m\u001b[38;5;241;43m.\u001b[39;49m\u001b[43mwrite_csv_rows\u001b[49m\u001b[43m(\u001b[49m\n\u001b[0;32m    325\u001b[0m \u001b[43m    \u001b[49m\u001b[43mdata\u001b[49m\u001b[43m,\u001b[49m\n\u001b[0;32m    326\u001b[0m \u001b[43m    \u001b[49m\u001b[43mix\u001b[49m\u001b[43m,\u001b[49m\n\u001b[0;32m    327\u001b[0m \u001b[43m    \u001b[49m\u001b[38;5;28;43mself\u001b[39;49m\u001b[38;5;241;43m.\u001b[39;49m\u001b[43mnlevels\u001b[49m\u001b[43m,\u001b[49m\n\u001b[0;32m    328\u001b[0m \u001b[43m    \u001b[49m\u001b[38;5;28;43mself\u001b[39;49m\u001b[38;5;241;43m.\u001b[39;49m\u001b[43mcols\u001b[49m\u001b[43m,\u001b[49m\n\u001b[0;32m    329\u001b[0m \u001b[43m    \u001b[49m\u001b[38;5;28;43mself\u001b[39;49m\u001b[38;5;241;43m.\u001b[39;49m\u001b[43mwriter\u001b[49m\u001b[43m,\u001b[49m\n\u001b[0;32m    330\u001b[0m \u001b[43m\u001b[49m\u001b[43m)\u001b[49m\n",
      "File \u001b[1;32mwriters.pyx:73\u001b[0m, in \u001b[0;36mpandas._libs.writers.write_csv_rows\u001b[1;34m()\u001b[0m\n",
      "\u001b[1;31mKeyboardInterrupt\u001b[0m: "
     ]
    }
   ],
   "source": [
    "for i in range(int(n_out//100*block_size)):\n",
    "    add_to_csv(100*block_size)"
   ]
  },
  {
   "cell_type": "markdown",
   "id": "c0db9ff8",
   "metadata": {},
   "source": [
    "### Loading model"
   ]
  },
  {
   "cell_type": "code",
   "execution_count": null,
   "id": "1180aec0",
   "metadata": {},
   "outputs": [],
   "source": [
    "AE_load = create_AE()\n",
    "AE_load.load_weights('./AE_model')\n",
    "\n",
    "before_channel = Model(inputs=AE_load.input,\n",
    "                                 outputs=AE_load.get_layer('normalization_layer').output)\n",
    "\n",
    "# not used\n",
    "after_channel = Model(inputs=AE_load.get_layer(\"decoder_start\").input,\n",
    "                                 outputs=AE_load.output)"
   ]
  },
  {
   "cell_type": "code",
   "execution_count": 6,
   "id": "743698a6",
   "metadata": {},
   "outputs": [
    {
     "ename": "NameError",
     "evalue": "name 'before_channel' is not defined",
     "output_type": "error",
     "traceback": [
      "\u001b[1;31m---------------------------------------------------------------------------\u001b[0m",
      "\u001b[1;31mNameError\u001b[0m                                 Traceback (most recent call last)",
      "Cell \u001b[1;32mIn[6], line 8\u001b[0m\n\u001b[0;32m      4\u001b[0m x_out \u001b[38;5;241m=\u001b[39m np\u001b[38;5;241m.\u001b[39marray(np\u001b[38;5;241m.\u001b[39mrandom\u001b[38;5;241m.\u001b[39mrand(n_out,k)\u001b[38;5;241m<\u001b[39m\u001b[38;5;241m0.5\u001b[39m)\u001b[38;5;241m.\u001b[39mastype(np\u001b[38;5;241m.\u001b[39mfloat32)\n\u001b[0;32m      6\u001b[0m \u001b[38;5;66;03m##\u001b[39;00m\n\u001b[0;32m      7\u001b[0m \u001b[38;5;66;03m# get encodings given by DNN for each message in training set\u001b[39;00m\n\u001b[1;32m----> 8\u001b[0m enc \u001b[38;5;241m=\u001b[39m \u001b[43mbefore_channel\u001b[49m(x_out)\n\u001b[0;32m      9\u001b[0m \u001b[38;5;66;03m#print('enc.shape: ', enc.shape)\u001b[39;00m\n\u001b[0;32m     10\u001b[0m \n\u001b[0;32m     11\u001b[0m \u001b[38;5;66;03m# convert to iq_samples\u001b[39;00m\n\u001b[0;32m     12\u001b[0m iq_samples \u001b[38;5;241m=\u001b[39m tf\u001b[38;5;241m.\u001b[39mcomplex(enc[:,\u001b[38;5;241m0\u001b[39m::\u001b[38;5;241m2\u001b[39m], enc[:,\u001b[38;5;241m1\u001b[39m::\u001b[38;5;241m2\u001b[39m])\n",
      "\u001b[1;31mNameError\u001b[0m: name 'before_channel' is not defined"
     ]
    }
   ],
   "source": [
    " ##\n",
    "n_out = 2\n",
    "block_size=1\n",
    "x_out = np.array(np.random.rand(n_out,k)<0.5).astype(np.float32)\n",
    "\n",
    "##\n",
    "# get encodings given by DNN for each message in training set\n",
    "enc = before_channel(x_out)\n",
    "#print('enc.shape: ', enc.shape)\n",
    "\n",
    "# convert to iq_samples\n",
    "iq_samples = tf.complex(enc[:,0::2], enc[:,1::2])\n",
    "#print('iq_samples.shape: ', iq_samples.shape)\n",
    "\n",
    "##\n",
    "M_POOL       = [0.5,1,1.5]\n",
    "SNR_DB_POOL  = [1,3,6]\n",
    "\n",
    "nakagami_chanel_coeff_tensor = []\n",
    "\n",
    "n_blocks = enc.shape[0] // block_size \n",
    "for i in range(n_blocks):\n",
    "    m = np.random.choice(M_POOL)\n",
    "    snr_db = np.random.choice(SNR_DB_POOL)\n",
    "    nakagami_chanel_coeff_tensor.append( nakagami_channel_with_awgn(m=m, omega=1,snr_db=snr_db, num_samples=(block_size,iq_samples.shape[1])) )\n",
    "\n",
    "nakagami_chanel_coeff_tensor = tf.constant(nakagami_chanel_coeff_tensor)\n",
    "#print(\"nakagami_chanel_coeff_tensor.shape : \",nakagami_chanel_coeff_tensor.shape)\n",
    "\n",
    "iq_samples_blocked = np.reshape(iq_samples,(n_blocks,block_size,-1))\n",
    "#print(\"iq_samples_blocked.shape : \",iq_samples_blocked.shape)\n",
    "\n",
    "\n",
    "# tested identity flow (enc == received_enc)  with : nakagami_chanel_coeff_tensor =  tf.complex(1.,0.)\n",
    "\n",
    "# element wise multiply\n",
    "nakagami_affected_iq_samples = tf.multiply(nakagami_chanel_coeff_tensor,iq_samples_blocked)\n",
    "# undo the blockking\n",
    "nakagami_affected_iq_samples = tf.reshape(nakagami_affected_iq_samples,(block_size*n_blocks,-1))\n",
    "#print(\"nakagami_affected_iq_samples.shape : \",nakagami_affected_iq_samples.shape)\n",
    "\n",
    "##\n",
    "# need to convert each iq_samples to two encoding\n",
    "real_part =  tf.expand_dims(tf.math.real(nakagami_affected_iq_samples),axis=2)\n",
    "imag_part =  tf.expand_dims(tf.math.imag(nakagami_affected_iq_samples),axis=2)\n",
    "\n",
    "concat = tf.concat((real_part,imag_part),axis=2)\n",
    "#print(\"concat.shape : \",concat.shape)\n",
    "received_enc = tf.cast(tf.reshape(concat,(block_size*n_blocks,-1)),tf.float32)\n",
    "#print(\"received_enc.shape : \",received_enc.shape)\n",
    "\n",
    "## \n",
    "#Summary\n",
    "# enc is the encodings presenet to channel  \n",
    "# messages --> bits --> [trained DNN]  --> enc \n",
    "#print('enc.shape: ', enc.shape)\n",
    "\n",
    "\n",
    "# received_enc is the encoding equavalent after Nakagami+noise effects considered\n",
    "# enc --> iq_samples --> [NAKAGAMI+noise effect]  --> affected_iq_smaples --> received_enc\n",
    "#print('received_enc.shape: ', received_enc.shape)\n",
    "\n",
    "# see the difference done by the channel\n",
    "enc - received_enc\n",
    "\n",
    "##\n",
    "## Adding to csv file\n",
    "enc = np.reshape(enc,(-1,1))\n",
    "received_enc = np.reshape(received_enc,(-1,1))\n",
    "#print(enc.shape)\n",
    "data = np.concatenate((enc,received_enc),axis=1)\n",
    "#print(data.shape)\n",
    "df = pd.DataFrame(data) \n",
    "\n",
    "i = 0\n",
    "print(np.array2string(x_out[i]))\n",
    "print(np.array2string(enc[i]))\n",
    "print(np.array2string(received_enc[i]))\n",
    "print(np.array2string(enc[i]-received_enc[i]))"
   ]
  }
 ],
 "metadata": {
  "kernelspec": {
   "display_name": "Python 3 (ipykernel)",
   "language": "python",
   "name": "python3"
  },
  "language_info": {
   "codemirror_mode": {
    "name": "ipython",
    "version": 3
   },
   "file_extension": ".py",
   "mimetype": "text/x-python",
   "name": "python",
   "nbconvert_exporter": "python",
   "pygments_lexer": "ipython3",
   "version": "3.11.4"
  },
  "latex_envs": {
   "LaTeX_envs_menu_present": true,
   "autoclose": false,
   "autocomplete": true,
   "bibliofile": "biblio.bib",
   "cite_by": "apalike",
   "current_citInitial": 1,
   "eqLabelWithNumbers": true,
   "eqNumInitial": 1,
   "hotkeys": {
    "equation": "Ctrl-E",
    "itemize": "Ctrl-I"
   },
   "labels_anchors": false,
   "latex_user_defs": false,
   "report_style_numbering": false,
   "user_envs_cfg": false
  },
  "toc": {
   "base_numbering": 1,
   "nav_menu": {},
   "number_sections": true,
   "sideBar": true,
   "skip_h1_title": false,
   "title_cell": "Table of Contents",
   "title_sidebar": "Contents",
   "toc_cell": false,
   "toc_position": {},
   "toc_section_display": true,
   "toc_window_display": false
  },
  "varInspector": {
   "cols": {
    "lenName": 16,
    "lenType": 16,
    "lenVar": 40
   },
   "kernels_config": {
    "python": {
     "delete_cmd_postfix": "",
     "delete_cmd_prefix": "del ",
     "library": "var_list.py",
     "varRefreshCmd": "print(var_dic_list())"
    },
    "r": {
     "delete_cmd_postfix": ") ",
     "delete_cmd_prefix": "rm(",
     "library": "var_list.r",
     "varRefreshCmd": "cat(var_dic_list()) "
    }
   },
   "types_to_exclude": [
    "module",
    "function",
    "builtin_function_or_method",
    "instance",
    "_Feature"
   ],
   "window_display": false
  }
 },
 "nbformat": 4,
 "nbformat_minor": 5
}
