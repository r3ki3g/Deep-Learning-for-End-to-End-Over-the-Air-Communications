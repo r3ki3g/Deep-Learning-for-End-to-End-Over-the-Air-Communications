{
 "cells": [
  {
   "cell_type": "markdown",
   "metadata": {},
   "source": [
    "Resourses\n",
    "https://github.com/haoyye/End2End_GAN/tree/master\n",
    "https://github.com/matusstas/cGAN/blob/main/cgan.ipynb"
   ]
  },
  {
   "cell_type": "markdown",
   "metadata": {},
   "source": [
    " Check GPU"
   ]
  },
  {
   "cell_type": "code",
   "execution_count": 45,
   "metadata": {},
   "outputs": [
    {
     "name": "stdout",
     "output_type": "stream",
     "text": [
      "Tue Mar 12 07:32:33 2024       \n",
      "+---------------------------------------------------------------------------------------+\n",
      "| NVIDIA-SMI 537.13                 Driver Version: 537.13       CUDA Version: 12.2     |\n",
      "|-----------------------------------------+----------------------+----------------------+\n",
      "| GPU  Name                     TCC/WDDM  | Bus-Id        Disp.A | Volatile Uncorr. ECC |\n",
      "| Fan  Temp   Perf          Pwr:Usage/Cap |         Memory-Usage | GPU-Util  Compute M. |\n",
      "|                                         |                      |               MIG M. |\n",
      "|=========================================+======================+======================|\n",
      "|   0  NVIDIA GeForce MX230         WDDM  | 00000000:02:00.0 Off |                  N/A |\n",
      "| N/A   38C    P3              N/A / ERR! |      0MiB /  2048MiB |      2%      Default |\n",
      "|                                         |                      |                  N/A |\n",
      "+-----------------------------------------+----------------------+----------------------+\n",
      "                                                                                         \n",
      "+---------------------------------------------------------------------------------------+\n",
      "| Processes:                                                                            |\n",
      "|  GPU   GI   CI        PID   Type   Process name                            GPU Memory |\n",
      "|        ID   ID                                                             Usage      |\n",
      "|=======================================================================================|\n",
      "|  No running processes found                                                           |\n",
      "+---------------------------------------------------------------------------------------+\n"
     ]
    }
   ],
   "source": [
    "gpu_info = !nvidia-smi\n",
    "gpu_info = '\\n'.join(gpu_info)\n",
    "if gpu_info.find('failed') >= 0:\n",
    "    print('Not connected to a GPU')\n",
    "else:\n",
    "    print(gpu_info)"
   ]
  },
  {
   "cell_type": "markdown",
   "metadata": {},
   "source": [
    "Import dependencies"
   ]
  },
  {
   "cell_type": "code",
   "execution_count": 46,
   "metadata": {},
   "outputs": [],
   "source": [
    "# wandb (weights and biases) -> tracking tool\n",
    "!pip install -q wandb "
   ]
  },
  {
   "cell_type": "code",
   "execution_count": 47,
   "metadata": {},
   "outputs": [],
   "source": [
    "import numpy as np\n",
    "import tensorflow as tf\n",
    "import pandas as pd\n",
    "\n",
    "#To datasets -> import tensorflow_datasets as tfds\n",
    "\n",
    "# For models\n",
    "from tensorflow.keras.models import Model, load_model\n",
    "from tensorflow.keras.optimizers.legacy import Adam\n",
    "from tensorflow.keras.losses import BinaryCrossentropy\n",
    "from tensorflow.keras.layers import Conv2D, Dense, Flatten, Reshape, LeakyReLU, Dropout, Embedding, Input, Concatenate #, Conv2DTranspose\n",
    "\n",
    "# Callbacks\n",
    "# Visit this -> https://kvirajdatt.medium.com/essential-tensorflow-and-keras-callbacks-for-your-neural-networks-54539244db39#:~:text=Some%20advantages%20of%20using%20these,of%20epochs%20for%20your%20training\n",
    "from tensorflow.keras.callbacks import Callback\n",
    "\n",
    "# For streamlining ML workflow\n",
    "import wandb\n",
    "from wandb.keras import WandbCallback\n",
    "\n",
    "# For model memory\n",
    "from tensorflow.keras import backend as k\n",
    "import humanize\n",
    "\n",
    "# For visualisation\n",
    "from matplotlib import pyplot as plt\n"
   ]
  },
  {
   "cell_type": "markdown",
   "metadata": {},
   "source": [
    "Set data"
   ]
  },
  {
   "cell_type": "code",
   "execution_count": 48,
   "metadata": {},
   "outputs": [],
   "source": [
    "n = 7\n",
    "k = 4\n",
    "\n",
    "Input_Shape = (2*n,1)#(n*2,1)   # Shape of the conditional input (this is normalized)\n",
    "noise_std = 1           # Standerd deviation for the noise to be added to the conditional values for better generalization (change this)\n",
    "\n",
    "\"\"\"---- Import dataset here ----\"\"\"\n",
    "\n",
    "\"\"\"--------\"\"\"\n",
    "\n",
    "# latent_vector_dim = 100 # For the Generator input\n",
    "batch_size = 320\n",
    "\n",
    "#n_batches = len(data//batch_size)\n",
    "\n",
    "N_epochs = 40\n",
    "\n",
    "# Name of the project for Weights and Biases platform\n",
    "WB_project = \"CGAN\"\n",
    "\n",
    "# Entity (login) for Weights and Biases platform\n",
    "WB_entity = \"matusstas\" # shearch this\n",
    "\n",
    "# Here for every 320 messages, 1/4 of them (80) are pilot symbols . every message has 2*n values (n complex values)\n",
    "num_frames = 10000\n"
   ]
  },
  {
   "cell_type": "code",
   "execution_count": 49,
   "metadata": {},
   "outputs": [],
   "source": [
    "\"\"\"Making data - Get real data\"\"\"\n",
    "\n",
    "dummy_data = np.random.uniform(-1,1,num_frames*batch_size*2*n)\n",
    "\n",
    "n_batches = len(dummy_data)//batch_size\n",
    "\n",
    "def nakagami_channel(signal, m, snr):\n",
    "\n",
    "  # Nakagami fading\n",
    "  chi_squared = np.random.chisquare(2 * m, size=signal.shape)\n",
    "  faded_signal = np.sqrt(chi_squared / (2 * m)) * signal\n",
    "\n",
    "  # AWGN noise\n",
    "  sigma = np.sqrt(np.power(10, (-snr / 10)) * np.mean(np.power(np.abs(signal), 2)))\n",
    "  noise = np.random.randn(len(signal)) * sigma\n",
    "\n",
    "  # Apply fading and noise\n",
    "  received_signal = faded_signal + noise\n",
    "\n",
    "  return received_signal\n",
    "\n",
    "i_val = int(num_frames*batch_size/4*2*n)\n",
    "x = np.zeros(i_val*3)\n",
    "y = np.zeros(i_val*3)\n",
    "pilot_x = np.zeros(i_val)\n",
    "pilot_y = np.zeros(i_val)\n",
    "\n",
    "m_list = [0.5,1,1.5]\n",
    "snr_list = [1,3,6] \n",
    "\n",
    "i_val= int(batch_size/4*2*n)\n",
    "for i in range(num_frames):\n",
    "    \n",
    "    left_i_xy = 3*i_val*i\n",
    "    right_i_xy = left_i_xy + 3*i_val\n",
    "    left_i_p = i*i_val\n",
    "    right_i_p = left_i_p + i_val\n",
    "\n",
    "\n",
    "    m = np.random.choice(m_list)\n",
    "    snr = np.random.choice(snr_list)\n",
    "\n",
    "    x_hat = dummy_data[i*batch_size*2*n:i*batch_size*2*n+batch_size*2*n]\n",
    "    x[left_i_xy:right_i_xy] = x_hat[0:3*i_val]\n",
    "    pilot_x[left_i_p:right_i_p] = x_hat[3*i_val:batch_size*2*n]\n",
    "    y_hat = nakagami_channel(x_hat,m,snr)\n",
    "    y[left_i_xy:right_i_xy] = y_hat[0:3*i_val]\n",
    "    pilot_y[left_i_p:right_i_p] = y_hat[3*i_val:batch_size*2*n]\n",
    "\n",
    "    # for every 80*2*n values in pilot, there are 240*2*n values for normal signals\n",
    "    "
   ]
  },
  {
   "cell_type": "code",
   "execution_count": 50,
   "metadata": {},
   "outputs": [
    {
     "name": "stdout",
     "output_type": "stream",
     "text": [
      "(44800000, 2)\n"
     ]
    }
   ],
   "source": [
    "# Getting real data\n",
    "\n",
    "data_set_path = \"D:\\Engineering\\ENTC\\Final Year Project\\Project\\Deep-Learning-for-End-to-End-Over-the-Air-Communications\\Lathika\\Genarating dataset\\my_data.csv\"\n",
    "df =  pd.read_csv(data_set_path)\n",
    "print(df.shape)\n",
    "\n",
    "# Assuming batch size of 320 and frame size of 100\n",
    "i_val = int(num_frames*batch_size/4*2*n)\n",
    "x = np.zeros(i_val*3)\n",
    "y = np.zeros(i_val*3)\n",
    "pilot_x = np.zeros(i_val)\n",
    "pilot_y = np.zeros(i_val)\n",
    "\n",
    "i_val= int(batch_size/4*2*n)\n",
    "x_hat = df.iloc[:,0]\n",
    "y_hat = df.iloc[:,1]\n",
    "for i in range(num_frames):\n",
    "    \n",
    "    left_i_xy = 3*i_val*i\n",
    "    right_i_xy = left_i_xy + 3*i_val\n",
    "    left_i_p = i*i_val\n",
    "    right_i_p = left_i_p + i_val\n",
    "\n",
    "    x[left_i_xy:right_i_xy] = x_hat[0:3*i_val]\n",
    "    pilot_x[left_i_p:right_i_p] = x_hat[3*i_val:batch_size*2*n]\n",
    "\n",
    "    y[left_i_xy:right_i_xy] = y_hat[0:3*i_val]\n",
    "    pilot_y[left_i_p:right_i_p] = y_hat[3*i_val:batch_size*2*n]\n"
   ]
  },
  {
   "cell_type": "code",
   "execution_count": 51,
   "metadata": {},
   "outputs": [
    {
     "name": "stdout",
     "output_type": "stream",
     "text": [
      "(33600000,)\n",
      "(33600000,)\n",
      "(11200000,)\n",
      "(11200000,)\n",
      "<class 'numpy.ndarray'>\n"
     ]
    }
   ],
   "source": [
    "print(x.shape)\n",
    "print(y.shape)\n",
    "print(pilot_x.shape)\n",
    "print(pilot_y.shape)\n",
    "print(type(x))"
   ]
  },
  {
   "cell_type": "markdown",
   "metadata": {},
   "source": [
    "Calculate channel function"
   ]
  },
  {
   "cell_type": "code",
   "execution_count": 52,
   "metadata": {},
   "outputs": [],
   "source": [
    "\n",
    "def real_to_complex(a):\n",
    "    a= np.reshape(a,(len(a)//2,2))\n",
    "    a= np.vectorize(complex)(np.transpose(a[:,0]),np.transpose(a[:,1]))\n",
    "    return a\n",
    "\n",
    "# We input x & y two real arrays. ex:- x = [1,2,3,4] y = [5,6,7,8]\n",
    "# Then convert them into complex and calculate the channel coefficient \n",
    "# x-> [1+2j,3+4j], y-> [5+6j,7+8j]\n",
    "# h-> [a+bj] -> [a,b] returns as two real values\n",
    "def get_channel_coeff(x,y):\n",
    "    h = np.matmul(real_to_complex(x).conj().T,real_to_complex(y))/np.matmul(real_to_complex(x).conj().T,real_to_complex(x))\n",
    "    return np.array([np.real(h),np.imag(h)])\n",
    "\n",
    "# there will be different h for each frame. batch_size*3/4 of same h values will be there corresponding to the x and y values\n",
    "h = np.ones((int(num_frames*batch_size*3/4),2))\n",
    "\n",
    "for i in range(num_frames):\n",
    "    u = int(i*batch_size/4*n*2)\n",
    "    stp = int(batch_size/4)\n",
    "    temp_x = pilot_x[u:u+stp*2*n]\n",
    "    temp_y = pilot_y[u:u+stp*2*n]\n",
    "    h_temp = get_channel_coeff(temp_x,temp_y)\n",
    "    h_temp = np.reshape(np.tile(h_temp,stp*3),(stp*3,2))\n",
    "    h[i*stp*3:(i+1)*stp*3]=h_temp\n"
   ]
  },
  {
   "cell_type": "code",
   "execution_count": 53,
   "metadata": {},
   "outputs": [
    {
     "name": "stdout",
     "output_type": "stream",
     "text": [
      "(2400000, 14) (2400000, 14) (2400000, 2)\n"
     ]
    }
   ],
   "source": [
    "# Reshaping data set\n",
    "x = np.reshape(x,(-1,2*n))   # np.reshape(x,(-1,batch_size,2*n))\n",
    "y = np.reshape(y,(-1,2*n))\n",
    "h = np.reshape(h,(-1,2))\n",
    "print(x.shape,y.shape,h.shape)\n",
    "dataset = np.concatenate((x,y,h),axis=1)"
   ]
  },
  {
   "cell_type": "markdown",
   "metadata": {},
   "source": [
    "## Build Models"
   ]
  },
  {
   "cell_type": "markdown",
   "metadata": {},
   "source": [
    "\n",
    "Helper function to calculate model memory usage"
   ]
  },
  {
   "cell_type": "code",
   "execution_count": 54,
   "metadata": {},
   "outputs": [],
   "source": [
    "def get_model_usage(model):\n",
    "    \"\"\"\n",
    "    Get memory usage of the model with chosen batch size \n",
    "    \n",
    "    modified function from this link: https://stackoverflow.com/questions/43137288/how-to-determine-needed-memory-of-keras-model\n",
    "    \"\"\"\n",
    "    count_shapes_mem = 0\n",
    "    count_internal_model_mem = 0\n",
    "\n",
    "    for layer in model.layers:\n",
    "        layer_type = layer.__class__.__name__\n",
    "        \n",
    "        if layer_type == \"Model\":\n",
    "            count_internal_model_mem += get_model_usage(batch_size, layer)\n",
    "        \n",
    "        single_layer_mem = 1\n",
    "        out_shape = layer.output_shape\n",
    "        out_shape = out_shape[0] if type(out_shape) is list else out_shape\n",
    "    \n",
    "        for shape in out_shape:\n",
    "            if shape is None:\n",
    "                continue\n",
    "            single_layer_mem *= shape\n",
    "        count_shapes_mem += single_layer_mem\n",
    "\n",
    "    count_trainable = np.sum([K.count_params(p) for p in model.trainable_weights])\n",
    "    count_non_trainable = np.sum([K.count_params(p) for p in model.non_trainable_weights])\n",
    "\n",
    "    # Choose correct precision of floating-point numbers\n",
    "    precisions = {\"float16\": 2.0, \"float32\": 4.0, \"float64\": 8.0}\n",
    "    number_size = precisions[K.floatx()]\n",
    "\n",
    "    total_memory = number_size * (batch_size * count_shapes_mem + count_trainable + count_non_trainable)\n",
    "    total_memory = humanize.naturalsize(total_memory + count_internal_model_mem, binary=True)\n",
    "    print(f\"Total memory usage with batch size of {batch_size} is: {total_memory}\")"
   ]
  },
  {
   "cell_type": "markdown",
   "metadata": {},
   "source": [
    "### Generator"
   ]
  },
  {
   "cell_type": "code",
   "execution_count": 55,
   "metadata": {},
   "outputs": [],
   "source": [
    "def build_generator():\n",
    "    input_pilot = Input(shape=(2,))\n",
    "    input_x = Input(shape=(2*n,))\n",
    "    inp = Concatenate()([input_x,input_pilot])\n",
    "    l = Dense(128)(inp)\n",
    "    l = LeakyReLU(alpha = 0.2)(l)\n",
    "    l = Dense(128)(l)\n",
    "    l = LeakyReLU(alpha = 0.2)(l)\n",
    "    l = Dense(128)(l)\n",
    "    l = LeakyReLU(alpha = 0.2)(l)\n",
    "    output = Dense(2*n,activation = 'linear')(l)\n",
    "\n",
    "    model = Model([input_x,input_pilot],output)\n",
    "    return model"
   ]
  },
  {
   "cell_type": "code",
   "execution_count": 56,
   "metadata": {},
   "outputs": [],
   "source": [
    "generator = build_generator()"
   ]
  },
  {
   "cell_type": "code",
   "execution_count": 57,
   "metadata": {},
   "outputs": [
    {
     "name": "stdout",
     "output_type": "stream",
     "text": [
      "Model: \"model_8\"\n",
      "__________________________________________________________________________________________________\n",
      " Layer (type)                Output Shape                 Param #   Connected to                  \n",
      "==================================================================================================\n",
      " input_18 (InputLayer)       [(None, 14)]                 0         []                            \n",
      "                                                                                                  \n",
      " input_17 (InputLayer)       [(None, 2)]                  0         []                            \n",
      "                                                                                                  \n",
      " concatenate_8 (Concatenate  (None, 16)                   0         ['input_18[0][0]',            \n",
      " )                                                                   'input_17[0][0]']            \n",
      "                                                                                                  \n",
      " dense_32 (Dense)            (None, 128)                  2176      ['concatenate_8[0][0]']       \n",
      "                                                                                                  \n",
      " leaky_re_lu_24 (LeakyReLU)  (None, 128)                  0         ['dense_32[0][0]']            \n",
      "                                                                                                  \n",
      " dense_33 (Dense)            (None, 128)                  16512     ['leaky_re_lu_24[0][0]']      \n",
      "                                                                                                  \n",
      " leaky_re_lu_25 (LeakyReLU)  (None, 128)                  0         ['dense_33[0][0]']            \n",
      "                                                                                                  \n",
      " dense_34 (Dense)            (None, 128)                  16512     ['leaky_re_lu_25[0][0]']      \n",
      "                                                                                                  \n",
      " leaky_re_lu_26 (LeakyReLU)  (None, 128)                  0         ['dense_34[0][0]']            \n",
      "                                                                                                  \n",
      " dense_35 (Dense)            (None, 14)                   1806      ['leaky_re_lu_26[0][0]']      \n",
      "                                                                                                  \n",
      "==================================================================================================\n",
      "Total params: 37006 (144.55 KB)\n",
      "Trainable params: 37006 (144.55 KB)\n",
      "Non-trainable params: 0 (0.00 Byte)\n",
      "__________________________________________________________________________________________________\n"
     ]
    },
    {
     "data": {
      "image/png": "[encoded data removed]",
      "text/plain": [
       "<IPython.core.display.Image object>"
      ]
     },
     "execution_count": 57,
     "metadata": {},
     "output_type": "execute_result"
    }
   ],
   "source": [
    "generator.summary()\n",
    "tf.keras.utils.plot_model(generator, show_shapes=True)"
   ]
  },
  {
   "cell_type": "markdown",
   "metadata": {},
   "source": [
    "### Build Discreminator"
   ]
  },
  {
   "cell_type": "code",
   "execution_count": 58,
   "metadata": {},
   "outputs": [],
   "source": [
    "def build_discriminator():\n",
    "    input_pilot = Input(shape=(2,))\n",
    "    input_x = Input(shape=(2*n,))\n",
    "    inp = Concatenate()([input_x,input_pilot])\n",
    "    l = Dense(32)(inp)\n",
    "    l = LeakyReLU(alpha = 0.2)(l)\n",
    "    l = Dense(32)(l)\n",
    "    l = LeakyReLU(alpha = 0.2)(l)\n",
    "    l = Dense(32)(l)\n",
    "    l = LeakyReLU(alpha = 0.2)(l)\n",
    "    output = Dense(1,activation = 'sigmoid')(l)\n",
    "\n",
    "    model = Model([input_x,input_pilot],output)\n",
    "    return model"
   ]
  },
  {
   "cell_type": "code",
   "execution_count": 59,
   "metadata": {},
   "outputs": [],
   "source": [
    "discriminator = build_discriminator()"
   ]
  },
  {
   "cell_type": "code",
   "execution_count": 60,
   "metadata": {},
   "outputs": [
    {
     "name": "stdout",
     "output_type": "stream",
     "text": [
      "Model: \"model_9\"\n",
      "__________________________________________________________________________________________________\n",
      " Layer (type)                Output Shape                 Param #   Connected to                  \n",
      "==================================================================================================\n",
      " input_20 (InputLayer)       [(None, 14)]                 0         []                            \n",
      "                                                                                                  \n",
      " input_19 (InputLayer)       [(None, 2)]                  0         []                            \n",
      "                                                                                                  \n",
      " concatenate_9 (Concatenate  (None, 16)                   0         ['input_20[0][0]',            \n",
      " )                                                                   'input_19[0][0]']            \n",
      "                                                                                                  \n",
      " dense_36 (Dense)            (None, 32)                   544       ['concatenate_9[0][0]']       \n",
      "                                                                                                  \n",
      " leaky_re_lu_27 (LeakyReLU)  (None, 32)                   0         ['dense_36[0][0]']            \n",
      "                                                                                                  \n",
      " dense_37 (Dense)            (None, 32)                   1056      ['leaky_re_lu_27[0][0]']      \n",
      "                                                                                                  \n",
      " leaky_re_lu_28 (LeakyReLU)  (None, 32)                   0         ['dense_37[0][0]']            \n",
      "                                                                                                  \n",
      " dense_38 (Dense)            (None, 32)                   1056      ['leaky_re_lu_28[0][0]']      \n",
      "                                                                                                  \n",
      " leaky_re_lu_29 (LeakyReLU)  (None, 32)                   0         ['dense_38[0][0]']            \n",
      "                                                                                                  \n",
      " dense_39 (Dense)            (None, 1)                    33        ['leaky_re_lu_29[0][0]']      \n",
      "                                                                                                  \n",
      "==================================================================================================\n",
      "Total params: 2689 (10.50 KB)\n",
      "Trainable params: 2689 (10.50 KB)\n",
      "Non-trainable params: 0 (0.00 Byte)\n",
      "__________________________________________________________________________________________________\n"
     ]
    },
    {
     "data": {
      "image/png": "[encoded data removed]",
      "text/plain": [
       "<IPython.core.display.Image object>"
      ]
     },
     "execution_count": 60,
     "metadata": {},
     "output_type": "execute_result"
    }
   ],
   "source": [
    "discriminator.summary()\n",
    "tf.keras.utils.plot_model(discriminator, show_shapes=True)"
   ]
  },
  {
   "cell_type": "markdown",
   "metadata": {},
   "source": [
    "### Build CGAN -  Customize .fit"
   ]
  },
  {
   "cell_type": "code",
   "execution_count": 61,
   "metadata": {},
   "outputs": [],
   "source": [
    "# https://www.tensorflow.org/guide/keras/customizing_what_happens_in_fit#:~:text=When%20you%20need%20to%20customize,running%20your%20own%20learning%20algorithm.\n",
    "\n",
    "class GAN(Model): \n",
    "    def __init__(self, generator, discriminator, *args, **kwargs):\n",
    "        # Pass through args and kwargs to base class \n",
    "        super().__init__(*args, **kwargs)\n",
    "        \n",
    "        # Create attributes for gen and disc\n",
    "        self.generator = generator \n",
    "        self.discriminator = discriminator \n",
    "        \n",
    "    def compile(self, opt_g, opt_d, loss_g, loss_d, *args, **kwargs): \n",
    "        # Compile with base class\n",
    "        super().compile(*args, **kwargs)\n",
    "        \n",
    "        # Create attributes for losses and optimizers\n",
    "        self.opt_g = opt_g\n",
    "        self.opt_d = opt_d\n",
    "        self.loss_g = loss_g\n",
    "        self.loss_d = loss_d \n",
    "\n",
    "    @tf.function \n",
    "    def train_step(self, dataset):\n",
    "        #batch_x -> input to generator, batch_y -> real samples for discriminator, pilots -> as conditional information\n",
    "        batch_x,batch_y,pilots = dataset[:,0:2*n],dataset[:,2*n:4*n],dataset[:,4*n:4*n+2]\n",
    "        # Generate samples\n",
    "        symbols_generated = self.generator([batch_x, pilots], training=False)\n",
    "\n",
    "        # Train the discriminator\n",
    "        with tf.GradientTape() as d_tape: \n",
    "            # Pass the real and fake symbols to the discriminator model\n",
    "            yhat_real = self.discriminator([batch_y, pilots], training=True) \n",
    "            yhat_fake = self.discriminator([symbols_generated, pilots], training=True)\n",
    "            yhat_realfake = tf.concat([yhat_real, yhat_fake], axis=0)\n",
    "            \n",
    "            # Create labels for real and fakes symbols\n",
    "            # We train the discriminator to identify real and fake. 0 for real and 1 as real.\n",
    "            y_realfake = tf.concat([tf.zeros_like(yhat_real), tf.ones_like(yhat_fake)], axis=0)\n",
    "            \n",
    "            # Add some noise to the TRUE outputs (crucial step)\n",
    "            noise_real = 0.15*tf.random.uniform(tf.shape(yhat_real))\n",
    "            noise_fake = -0.15*tf.random.uniform(tf.shape(yhat_fake))\n",
    "            y_realfake += tf.concat([noise_real, noise_fake], axis=0)\n",
    "            \n",
    "            # Calculate loss \n",
    "            total_loss_d = self.loss_d(y_realfake, yhat_realfake)\n",
    "            \n",
    "        # Apply backpropagation \n",
    "        dgrad = d_tape.gradient(total_loss_d, self.discriminator.trainable_variables) \n",
    "        self.opt_d.apply_gradients(zip(dgrad, self.discriminator.trainable_variables))\n",
    "        \n",
    "        # Train the generator \n",
    "        with tf.GradientTape() as g_tape: \n",
    "            # Generate symbols\n",
    "            symbols_generated = self.generator([batch_x, pilots], training=True)\n",
    "\n",
    "            # Create the predicted labels\n",
    "            predicted_labels = self.discriminator([symbols_generated, pilots], training=False)\n",
    "                                        \n",
    "            # Calculate loss - trick to training to fake out the discriminator\n",
    "            total_loss_g = self.loss_g(tf.zeros_like(predicted_labels), predicted_labels) \n",
    "            \n",
    "        # Apply backpropagation\n",
    "        ggrad = g_tape.gradient(total_loss_g, self.generator.trainable_variables)\n",
    "        self.opt_g.apply_gradients(zip(ggrad, self.generator.trainable_variables))\n",
    "        \n",
    "        return {\"loss_d\":total_loss_d, \"loss_g\":total_loss_g}\n",
    "     "
   ]
  },
  {
   "cell_type": "markdown",
   "metadata": {},
   "source": [
    "Build monitoring callback"
   ]
  },
  {
   "cell_type": "code",
   "execution_count": 62,
   "metadata": {},
   "outputs": [
    {
     "data": {
      "text/plain": [
       "'class ModelMonitor(Callback):\\n    def __init__(self, n_images=10, latent_dim=LATENT_VECTOR_DIM):\\n        # Create attributes\\n        self.n_images = n_images\\n        self.latent_dim = LATENT_VECTOR_DIM\\n\\n    def on_epoch_end(self, epoch, logs=None):\\n\\n      if epoch % 10 == 0:\\n        labels = np.arange(0, N_CLASSES)\\n        labels = np.expand_dims(labels, axis=-1)\\n\\n        latent_vectors = tf.random.normal(shape=(10, LATENT_VECTOR_DIM))\\n        images_generated = generator([latent_vectors, labels])\\n        images_generated *= 255\\n\\n        for i in range(self.n_images):\\n            img = array_to_img(images_generated[i])\\n            wandb.log({f\"number {i}\": wandb.Image(img)})'"
      ]
     },
     "execution_count": 62,
     "metadata": {},
     "output_type": "execute_result"
    }
   ],
   "source": [
    "\"\"\"class ModelMonitor(Callback):\n",
    "    def __init__(self, n_images=10, latent_dim=LATENT_VECTOR_DIM):\n",
    "        # Create attributes\n",
    "        self.n_images = n_images\n",
    "        self.latent_dim = LATENT_VECTOR_DIM\n",
    "\n",
    "    def on_epoch_end(self, epoch, logs=None):\n",
    "\n",
    "      if epoch % 10 == 0:\n",
    "        labels = np.arange(0, N_CLASSES)\n",
    "        labels = np.expand_dims(labels, axis=-1)\n",
    "\n",
    "        latent_vectors = tf.random.normal(shape=(10, LATENT_VECTOR_DIM))\n",
    "        images_generated = generator([latent_vectors, labels])\n",
    "        images_generated *= 255\n",
    "\n",
    "        for i in range(self.n_images):\n",
    "            img = array_to_img(images_generated[i])\n",
    "            wandb.log({f\"number {i}\": wandb.Image(img)})\"\"\""
   ]
  },
  {
   "cell_type": "markdown",
   "metadata": {},
   "source": [
    "### Training"
   ]
  },
  {
   "cell_type": "code",
   "execution_count": 63,
   "metadata": {},
   "outputs": [
    {
     "data": {
      "text/plain": [
       "True"
      ]
     },
     "execution_count": 63,
     "metadata": {},
     "output_type": "execute_result"
    }
   ],
   "source": [
    "wandb.login()"
   ]
  },
  {
   "cell_type": "code",
   "execution_count": 64,
   "metadata": {},
   "outputs": [
    {
     "name": "stdout",
     "output_type": "stream",
     "text": [
      "Epoch 1/40\n",
      "7500/7500 [==============================] - 79s 10ms/step - loss_d: 0.7360 - loss_g: 0.6747\n",
      "Epoch 2/40\n",
      "7500/7500 [==============================] - 91s 12ms/step - loss_d: 0.6953 - loss_g: 0.6919\n",
      "Epoch 3/40\n",
      "7500/7500 [==============================] - 93s 12ms/step - loss_d: 0.6938 - loss_g: 0.6933\n",
      "Epoch 4/40\n",
      "7500/7500 [==============================] - 92s 12ms/step - loss_d: 0.6932 - loss_g: 0.6937\n",
      "Epoch 5/40\n",
      "7500/7500 [==============================] - 91s 12ms/step - loss_d: 0.6932 - loss_g: 0.6937\n",
      "Epoch 6/40\n",
      "7500/7500 [==============================] - 92s 12ms/step - loss_d: 0.6931 - loss_g: 0.6938\n",
      "Epoch 7/40\n",
      "7500/7500 [==============================] - 91s 12ms/step - loss_d: 0.6931 - loss_g: 0.6943\n",
      "Epoch 8/40\n",
      "7500/7500 [==============================] - 91s 12ms/step - loss_d: 0.6930 - loss_g: 0.6942\n",
      "Epoch 9/40\n",
      "7500/7500 [==============================] - 91s 12ms/step - loss_d: 0.6929 - loss_g: 0.6944\n",
      "Epoch 10/40\n",
      "7500/7500 [==============================] - 91s 12ms/step - loss_d: 0.6931 - loss_g: 0.6940\n",
      "Epoch 11/40\n",
      "7500/7500 [==============================] - 93s 12ms/step - loss_d: 0.6927 - loss_g: 0.6945\n",
      "Epoch 12/40\n",
      "7500/7500 [==============================] - 72s 10ms/step - loss_d: 0.6927 - loss_g: 0.6945\n",
      "Epoch 13/40\n",
      "7500/7500 [==============================] - 595s 79ms/step - loss_d: 0.6924 - loss_g: 0.6952\n",
      "Epoch 14/40\n",
      "7500/7500 [==============================] - 47s 6ms/step - loss_d: 0.6925 - loss_g: 0.6959\n",
      "Epoch 15/40\n",
      "7500/7500 [==============================] - 73s 10ms/step - loss_d: 0.6923 - loss_g: 0.6964\n",
      "Epoch 16/40\n",
      "7500/7500 [==============================] - 25s 3ms/step - loss_d: 0.6923 - loss_g: 0.6962\n",
      "Epoch 17/40\n",
      "7500/7500 [==============================] - 26s 4ms/step - loss_d: 0.6922 - loss_g: 0.6969\n",
      "Epoch 18/40\n",
      "7500/7500 [==============================] - 27s 4ms/step - loss_d: 0.6922 - loss_g: 0.6970\n",
      "Epoch 19/40\n",
      "7500/7500 [==============================] - 28s 4ms/step - loss_d: 0.6917 - loss_g: 0.6975\n",
      "Epoch 20/40\n",
      "7500/7500 [==============================] - 30s 4ms/step - loss_d: 0.6918 - loss_g: 0.6978\n",
      "Epoch 21/40\n",
      "7500/7500 [==============================] - 31s 4ms/step - loss_d: 0.6914 - loss_g: 0.6986\n",
      "Epoch 22/40\n",
      "7500/7500 [==============================] - 31s 4ms/step - loss_d: 0.6909 - loss_g: 0.6999\n",
      "Epoch 23/40\n",
      "7500/7500 [==============================] - 32s 4ms/step - loss_d: 0.6915 - loss_g: 0.6990\n",
      "Epoch 24/40\n",
      "7500/7500 [==============================] - 32s 4ms/step - loss_d: 0.6906 - loss_g: 0.7006\n",
      "Epoch 25/40\n",
      "7500/7500 [==============================] - 32s 4ms/step - loss_d: 0.6903 - loss_g: 0.7010\n",
      "Epoch 26/40\n",
      "7500/7500 [==============================] - 30s 4ms/step - loss_d: 0.6900 - loss_g: 0.7021\n",
      "Epoch 27/40\n",
      "7500/7500 [==============================] - 30s 4ms/step - loss_d: 0.6906 - loss_g: 0.7004\n",
      "Epoch 28/40\n",
      "7500/7500 [==============================] - 30s 4ms/step - loss_d: 0.6900 - loss_g: 0.7003\n",
      "Epoch 29/40\n",
      "7500/7500 [==============================] - 30s 4ms/step - loss_d: 0.6890 - loss_g: 0.7025\n",
      "Epoch 30/40\n",
      "7500/7500 [==============================] - 30s 4ms/step - loss_d: 0.6877 - loss_g: 0.7047\n",
      "Epoch 31/40\n",
      "7500/7500 [==============================] - 31s 4ms/step - loss_d: 0.6875 - loss_g: 0.7057\n",
      "Epoch 32/40\n",
      "7500/7500 [==============================] - 41s 5ms/step - loss_d: 0.6869 - loss_g: 0.7074\n",
      "Epoch 33/40\n",
      "7500/7500 [==============================] - 32s 4ms/step - loss_d: 0.6857 - loss_g: 0.7087\n",
      "Epoch 34/40\n",
      "7500/7500 [==============================] - 32s 4ms/step - loss_d: 0.6848 - loss_g: 0.7114\n",
      "Epoch 35/40\n",
      "7500/7500 [==============================] - 32s 4ms/step - loss_d: 0.6837 - loss_g: 0.7129\n",
      "Epoch 36/40\n",
      "7500/7500 [==============================] - 31s 4ms/step - loss_d: 0.6820 - loss_g: 0.7161\n",
      "Epoch 37/40\n",
      "7500/7500 [==============================] - 30s 4ms/step - loss_d: 0.6802 - loss_g: 0.7216\n",
      "Epoch 38/40\n",
      "7500/7500 [==============================] - 31s 4ms/step - loss_d: 0.6794 - loss_g: 0.7219\n",
      "Epoch 39/40\n",
      "7500/7500 [==============================] - 31s 4ms/step - loss_d: 0.6774 - loss_g: 0.7259\n",
      "Epoch 40/40\n",
      "7500/7500 [==============================] - 31s 4ms/step - loss_d: 0.6746 - loss_g: 0.7323\n"
     ]
    }
   ],
   "source": [
    "\n",
    "#run = wandb.init(project=\"CGAN for Wirless autoencoder\", entity=\"matusstas\")\n",
    "\n",
    "# Initialize optimizers# Initialize losses# Initialize models\n",
    "opt_g = Adam(learning_rate=0.001, beta_1=0.5)\n",
    "opt_d = Adam(learning_rate=0.0001, beta_1=0.5)\n",
    "\n",
    "# Initialize losses\n",
    "loss_g = BinaryCrossentropy()\n",
    "loss_d = BinaryCrossentropy()\n",
    "\n",
    "# Initialize models\n",
    "generator = build_generator()\n",
    "discriminator = build_discriminator()\n",
    "gan = GAN(generator, discriminator)\n",
    "gan.compile(opt_g, opt_d, loss_g, loss_d)\n",
    "\n",
    "history = gan.fit(dataset, batch_size= batch_size,epochs=N_epochs)\n",
    "\n",
    "#wandb.run.finish()"
   ]
  }
 ],
 "metadata": {
  "kernelspec": {
   "display_name": "Python 3",
   "language": "python",
   "name": "python3"
  },
  "language_info": {
   "codemirror_mode": {
    "name": "ipython",
    "version": 3
   },
   "file_extension": ".py",
   "mimetype": "text/x-python",
   "name": "python",
   "nbconvert_exporter": "python",
   "pygments_lexer": "ipython3",
   "version": "3.11.4"
  }
 },
 "nbformat": 4,
 "nbformat_minor": 2
}
