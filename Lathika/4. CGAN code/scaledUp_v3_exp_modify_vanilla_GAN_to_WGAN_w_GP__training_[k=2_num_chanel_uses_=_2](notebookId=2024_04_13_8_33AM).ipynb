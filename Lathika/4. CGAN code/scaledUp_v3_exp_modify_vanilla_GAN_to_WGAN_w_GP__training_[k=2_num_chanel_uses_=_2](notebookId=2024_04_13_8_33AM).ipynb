{
 "cells": [
  {
   "cell_type": "markdown",
   "id": "995c6fe9",
   "metadata": {
    "id": "995c6fe9"
   },
   "source": [
    "## Dataset generation for GAN to learn NAKAGAMI channels"
   ]
  },
  {
   "cell_type": "code",
   "execution_count": 1,
   "id": "c6ae15a9",
   "metadata": {
    "ExecuteTime": {
     "end_time": "2024-03-26T07:41:36.462947Z",
     "start_time": "2024-03-26T07:41:29.209735Z"
    },
    "id": "c6ae15a9"
   },
   "outputs": [],
   "source": [
    "import numpy as np\n",
    "import matplotlib.pyplot as plt\n",
    "import tensorflow as tf\n",
    "import keras\n",
    "\n",
    "from keras.layers import Dense\n",
    "from keras.models import Sequential,Model\n",
    "\n",
    "import sys\n",
    "from tensorflow.keras.optimizers import Adam"
   ]
  },
  {
   "cell_type": "code",
   "execution_count": 2,
   "id": "fad0f7e3",
   "metadata": {
    "ExecuteTime": {
     "end_time": "2024-03-26T07:42:14.783635Z",
     "start_time": "2024-03-26T07:42:14.767558Z"
    },
    "id": "fad0f7e3"
   },
   "outputs": [],
   "source": [
    "# class GaussianNoise(tf.keras.layers.Layer):\n",
    "#     def __init__(self, stddev, **kwargs):\n",
    "#         super(GaussianNoise, self).__init__(**kwargs)\n",
    "#         self.stddev = stddev\n",
    "\n",
    "#     def call(self, inputs, training=None):\n",
    "#         if 1 or training:\n",
    "#             noise = tf.random.normal(tf.shape(inputs), stddev=self.stddev)\n",
    "#             return inputs + noise\n",
    "#         return inputs\n",
    "\n",
    "#     def get_config(self):\n",
    "#         config = super(GaussianNoise, self).get_config()\n",
    "#         config.update({'stddev': self.stddev})\n",
    "#         return config\n",
    "\n",
    "\n",
    "class L2Normalization(tf.keras.layers.Layer):\n",
    "    def __init__(self,**kwargs):\n",
    "\n",
    "        super(L2Normalization, self).__init__(**kwargs)\n",
    "\n",
    "    def call(self, inputs):\n",
    "        return tf.nn.l2_normalize(inputs, axis=-1)\n",
    "\n",
    "    def get_config(self):\n",
    "        return super(L2Normalization, self).get_config()\n",
    "\n",
    "#     def get_config(self):\n",
    "#         base_config = super().get_config()\n",
    "#         config = {\n",
    "#             \"sublayer\": keras.saving.serialize_keras_object(self.sublayer),\n",
    "#         }\n",
    "#         return {**base_config, **config}\n",
    "\n",
    "#     @classmethod\n",
    "#     def from_config(cls, config):\n",
    "#         sublayer_config = config.pop(\"sublayer\")\n",
    "#         sublayer = keras.saving.deserialize_keras_object(sublayer_config)\n",
    "#         return cls(sublayer, **config)\n",
    "\n",
    "\n",
    "\n",
    "\n",
    "\n",
    "\n",
    "# def generate_nakagami_samples(m, omega, shape):\n",
    "\n",
    "#     return tf.random.gamma(shape, m, 1/omega) ** 0.5\n",
    "\n",
    "# class NakagamiNoiseLayer(tf.keras.layers.Layer):\n",
    "#     def __init__(self, distribution_params, **kwargs):\n",
    "#         super(NakagamiNoiseLayer, self).__init__(**kwargs)\n",
    "#         self.distribution_params = distribution_params\n",
    "\n",
    "#     def call(self, inputs, training=None):\n",
    "#         if  1 or training:\n",
    "#             # noise = tf.random.normal(tf.shape(inputs), **self.distribution_params)\n",
    "#             if tf.shape(inputs)[0] == None:\n",
    "#                 noise = generate_nakagami_samples(m = self.distribution_params[\"m\"],\n",
    "#                                               omega = self.distribution_params[\"omega\"],\n",
    "#                                               shape = tf.shape(inputs))\n",
    "#             else:\n",
    "#                 noise = generate_nakagami_samples(m = self.distribution_params[\"m\"],\n",
    "#                                               omega = self.distribution_params[\"omega\"],\n",
    "#                                               shape = tf.shape(inputs)[1:])\n",
    "#             return inputs * noise\n",
    "\n",
    "#         else:\n",
    "#             return inputs\n",
    "\n",
    "\n",
    "\n",
    "\n",
    "\n"
   ]
  },
  {
   "cell_type": "code",
   "execution_count": 3,
   "id": "b23b0443",
   "metadata": {
    "ExecuteTime": {
     "end_time": "2024-03-26T07:41:37.155432Z",
     "start_time": "2024-03-26T07:41:37.155432Z"
    },
    "id": "b23b0443"
   },
   "outputs": [],
   "source": [
    "def calc_block_accuracy(preds,y_val):\n",
    "    n_bits_per_block = preds.shape[1]\n",
    "    n_correct_bits = np.sum(preds == y_val,axis=1)\n",
    "    block_accuracy = np.mean(n_correct_bits == n_bits_per_block)\n",
    "    return block_accuracy\n"
   ]
  },
  {
   "cell_type": "code",
   "execution_count": 4,
   "id": "dd54e3da",
   "metadata": {
    "ExecuteTime": {
     "end_time": "2024-03-26T07:41:37.156949Z",
     "start_time": "2024-03-26T07:41:37.156949Z"
    },
    "id": "dd54e3da"
   },
   "outputs": [],
   "source": [
    "def only_awgn(snr_db, num_samples):\n",
    "    noise_var = 10**(-snr_db/10)\n",
    "    noise_real = np.random.normal(scale=np.sqrt(noise_var), size=num_samples)\n",
    "    noise_imag = np.random.normal(scale=np.sqrt(noise_var), size=num_samples)\n",
    "\n",
    "    channel = noise_real + 1j * noise_imag\n",
    "\n",
    "    return channel"
   ]
  },
  {
   "cell_type": "code",
   "execution_count": 5,
   "id": "e6688e0d",
   "metadata": {
    "ExecuteTime": {
     "end_time": "2024-03-26T07:41:37.361016Z",
     "start_time": "2024-03-26T07:41:37.336519Z"
    },
    "id": "e6688e0d"
   },
   "outputs": [],
   "source": [
    "def nakagami_channel(m, omega, snr_db, num_samples):\n",
    "    \"\"\"\n",
    "    This function generates samples from a Nakagami-m fading channel.\n",
    "\n",
    "    Args:\n",
    "      m: Shape parameter of the Nakagami distribution (float).\n",
    "      omega: Scale parameter of the Nakagami distribution (float).\n",
    "      num_samples: Number of samples to generate (int).\n",
    "\n",
    "    Returns:\n",
    "      channel: Complex-valued channel coefficients (numpy.ndarray).\n",
    "    \"\"\"\n",
    "\n",
    "\n",
    "\n",
    "    # Generate random variables from chi-squared distribution with 2*m degrees of freedom\n",
    "    chi_squared = 2 * m * np.random.chisquare(2 * m, size=num_samples)\n",
    "\n",
    "    # Generate real and imaginary parts from independent normal distributions\n",
    "    real_part = np.sqrt(chi_squared / (2 * omega)) * np.random.normal(scale=1, size=num_samples)\n",
    "    imag_part = np.sqrt(chi_squared / (2 * omega)) * np.random.normal(scale=1, size=num_samples)\n",
    "\n",
    "    # affect of noise\n",
    "    # r3ki3g added : noise\n",
    "    noise_var = 10**(-snr_db/10) / (2 * m)\n",
    "    noise_real = np.random.normal(scale=np.sqrt(noise_var), size=num_samples)\n",
    "    noise_imag = np.random.normal(scale=np.sqrt(noise_var), size=num_samples)\n",
    "    real_part += noise_real\n",
    "    imag_part += noise_imag\n",
    "\n",
    "    # Combine real and imaginary parts into complex channel coefficients\n",
    "    channel = real_part + 1j * imag_part\n",
    "\n",
    "    return channel\n"
   ]
  },
  {
   "cell_type": "markdown",
   "id": "97b15381",
   "metadata": {
    "id": "97b15381"
   },
   "source": [
    "<font color=\"red\">\n",
    "    Number of blocks : scaked up\n",
    "</font>"
   ]
  },
  {
   "cell_type": "code",
   "execution_count": 6,
   "id": "39a9aa4a",
   "metadata": {
    "ExecuteTime": {
     "end_time": "2024-03-26T08:20:01.603964Z",
     "start_time": "2024-03-26T08:20:01.594984Z"
    },
    "id": "39a9aa4a"
   },
   "outputs": [],
   "source": [
    "# generating the data set\n",
    "k = 2\n",
    "M = 2**k\n",
    "\n",
    "NUM_CHANNEL_USES = 2\n",
    "\n",
    "\n",
    "block_size = 320\n",
    "n_blocks = 1000\n",
    "\n",
    "n_train = block_size * n_blocks\n",
    "n_val   = block_size * n_blocks\n",
    "\n",
    "x_train = np.array(np.random.rand(n_train,k)<0.5).astype(np.float32)\n",
    "# make first 16 as pilots\n",
    "# [ 0 0 0 0] --> [1 1 1 1]\n",
    "pilots_m = []\n",
    "for i in range(M):\n",
    "    pilots_m.append([\n",
    "          ( (i//(2**j))%2 if j!=0 else i%2 ) for j in range(k-1,-1,-1)\n",
    "\n",
    "    ])\n",
    "pilots_m = np.array(pilots_m)\n",
    "# replace the first 2**k symbols with pilots in each \"320\" block\n",
    "for i in range(n_train//block_size):\n",
    "    x_train[i*block_size:block_size*i+2**k,:] = pilots_m\n",
    "\n",
    "\n",
    "# autoencoder training\n",
    "y_train = x_train\n",
    "\n",
    "# do the same for the validation\n",
    "x_val = x_train\n",
    "y_val = y_train\n",
    "\n",
    "\n",
    "\n",
    "\n"
   ]
  },
  {
   "cell_type": "code",
   "execution_count": 7,
   "id": "02962495",
   "metadata": {
    "ExecuteTime": {
     "end_time": "2024-03-26T07:18:47.219634Z",
     "start_time": "2024-03-26T07:18:47.194333Z"
    },
    "colab": {
     "base_uri": "https://localhost:8080/"
    },
    "id": "02962495",
    "outputId": "bd3c36f2-3f0a-46a8-8a28-729afb90acba"
   },
   "outputs": [
    {
     "data": {
      "text/plain": [
       "(320000, 2)"
      ]
     },
     "execution_count": 7,
     "metadata": {},
     "output_type": "execute_result"
    }
   ],
   "source": [
    "x_train.shape"
   ]
  },
  {
   "cell_type": "code",
   "execution_count": 8,
   "id": "b07c348e",
   "metadata": {
    "ExecuteTime": {
     "end_time": "2024-03-26T07:18:52.962719Z",
     "start_time": "2024-03-26T07:18:52.943888Z"
    },
    "colab": {
     "base_uri": "https://localhost:8080/"
    },
    "id": "b07c348e",
    "outputId": "6fab6405-f433-4927-d04b-29679cc187b6"
   },
   "outputs": [
    {
     "data": {
      "text/plain": [
       "array([[0, 0],\n",
       "       [0, 1],\n",
       "       [1, 0],\n",
       "       [1, 1]])"
      ]
     },
     "execution_count": 8,
     "metadata": {},
     "output_type": "execute_result"
    }
   ],
   "source": [
    "pilots_m"
   ]
  },
  {
   "cell_type": "code",
   "execution_count": 9,
   "id": "bfceff7c",
   "metadata": {
    "ExecuteTime": {
     "end_time": "2024-03-26T07:19:15.922582Z",
     "start_time": "2024-03-26T07:18:56.404058Z"
    },
    "colab": {
     "base_uri": "https://localhost:8080/",
     "height": 486
    },
    "id": "bfceff7c",
    "outputId": "4db5b32f-7abc-4a64-ce10-f22eb5bf8e93",
    "scrolled": false
   },
   "outputs": [
    {
     "name": "stdout",
     "output_type": "stream",
     "text": [
      "-------  start ----------\n",
      "Epoch 1/10\n",
      "10000/10000 [==============================] - 22s 2ms/step - loss: 0.0033\n",
      "Epoch 2/10\n",
      "10000/10000 [==============================] - 18s 2ms/step - loss: 6.5636e-07\n",
      "Epoch 3/10\n",
      "10000/10000 [==============================] - 18s 2ms/step - loss: 1.5031e-08\n",
      "Epoch 4/10\n",
      "10000/10000 [==============================] - 19s 2ms/step - loss: 9.3186e-09\n",
      "Epoch 5/10\n",
      "10000/10000 [==============================] - 19s 2ms/step - loss: 7.4813e-09\n",
      "Epoch 6/10\n",
      "10000/10000 [==============================] - 19s 2ms/step - loss: 6.5031e-09\n",
      "Epoch 7/10\n",
      "10000/10000 [==============================] - 19s 2ms/step - loss: 6.2864e-09\n",
      "Epoch 8/10\n",
      "10000/10000 [==============================] - 19s 2ms/step - loss: 6.1559e-09\n",
      "Epoch 9/10\n",
      "10000/10000 [==============================] - 20s 2ms/step - loss: 6.0541e-09\n",
      "Epoch 10/10\n",
      "10000/10000 [==============================] - 19s 2ms/step - loss: 5.6705e-09\n",
      "Epoch 1/10\n",
      "10000/10000 [==============================] - 21s 2ms/step - loss: 6.1348e-09\n",
      "Epoch 2/10\n",
      "10000/10000 [==============================] - 19s 2ms/step - loss: 8.4532e-09\n",
      "Epoch 3/10\n",
      "10000/10000 [==============================] - 19s 2ms/step - loss: 9.1242e-09\n",
      "Epoch 4/10\n",
      "10000/10000 [==============================] - 19s 2ms/step - loss: 9.1014e-09\n",
      "Epoch 5/10\n",
      "10000/10000 [==============================] - 20s 2ms/step - loss: 8.9418e-09\n",
      "Epoch 6/10\n",
      "10000/10000 [==============================] - 19s 2ms/step - loss: 9.0503e-09\n",
      "Epoch 7/10\n",
      "10000/10000 [==============================] - 19s 2ms/step - loss: 9.0203e-09\n",
      "Epoch 8/10\n",
      "10000/10000 [==============================] - 19s 2ms/step - loss: 8.8944e-09\n",
      "Epoch 9/10\n",
      "10000/10000 [==============================] - 19s 2ms/step - loss: 8.9163e-09\n",
      "Epoch 10/10\n",
      "10000/10000 [==============================] - 19s 2ms/step - loss: 8.8563e-09\n",
      "10000/10000 [==============================] - 17s 2ms/step\n",
      "validation accuracy = 1.0\n"
     ]
    }
   ],
   "source": [
    "# complete_results = []\n",
    "\n",
    "# nakagami_m = 7\n",
    "# gamma_bar = 25\n",
    "# AWGN_std = np.sqrt(OMEGA * 10 ** (-0.1 * gamma_bar) )\n",
    "\n",
    "print(f\"-------  start ----------\")\n",
    "\n",
    "AE = Sequential([\n",
    "\n",
    "\n",
    "                Dense(2*k, activation='tanh',input_shape=(k,)),\n",
    "                Dense(2*k, activation='tanh'),\n",
    "\n",
    "                Dense(2*NUM_CHANNEL_USES, activation='linear'),\n",
    "                L2Normalization(name=\"normalization_layer\"),\n",
    "\n",
    "\n",
    "#                 NakagamiNoiseLayer({\"omega\":OMEGA,\"m\":nakagami_m}),\n",
    "#                 GaussianNoise(stddev=AWGN_std,name=\"channel\"),\n",
    "\n",
    "#                 L2Normalization(name=\"normalization_layer_at_rx\"),\n",
    "\n",
    "               # Dense(3*k, activation='tanh'),\n",
    "\n",
    "                Dense(2*k, activation='tanh',name=\"decoder_start\"),\n",
    "                Dense(k, activation='sigmoid')\n",
    "\n",
    "\n",
    "\n",
    "                ])\n",
    "\n",
    "\n",
    "\n",
    "\n",
    "AE.compile(optimizer=Adam(learning_rate=1e-2),loss=\"binary_crossentropy\")\n",
    "AE.fit(x_train,y_train,epochs=10,verbose=1)\n",
    "AE.compile(optimizer=Adam(learning_rate=1e-3),loss=\"binary_crossentropy\")\n",
    "AE.fit(x_train,y_train,epochs=10,verbose=1)\n",
    "\n",
    "\n",
    "\n",
    "preds = AE.predict(x_val)>0.5\n",
    "#         accuracy = np.mean( preds == y_val  )\n",
    "accuracy =  calc_block_accuracy(preds,y_val)\n",
    "print(f\"validation accuracy = {accuracy}\")\n",
    "\n",
    "\n",
    "\n",
    "\n",
    "\n",
    "\n"
   ]
  },
  {
   "cell_type": "markdown",
   "id": "3051c75d",
   "metadata": {
    "id": "3051c75d"
   },
   "source": [
    "## Apply Nakagami effect"
   ]
  },
  {
   "cell_type": "markdown",
   "id": "cbbf18be",
   "metadata": {
    "id": "cbbf18be"
   },
   "source": [
    "Need the encodings we present to the channel (i.e \"before_channel\")\n"
   ]
  },
  {
   "cell_type": "code",
   "execution_count": 10,
   "id": "630c0757",
   "metadata": {
    "ExecuteTime": {
     "end_time": "2024-03-26T07:19:20.231508Z",
     "start_time": "2024-03-26T07:19:20.215576Z"
    },
    "colab": {
     "base_uri": "https://localhost:8080/",
     "height": 35
    },
    "id": "630c0757",
    "outputId": "7feebd31-23c0-4b39-e09c-dfb54ae8f04e"
   },
   "outputs": [
    {
     "data": {
      "text/plain": [
       "'2024-04-17 12:27:40.675954'"
      ]
     },
     "execution_count": 10,
     "metadata": {},
     "output_type": "execute_result"
    }
   ],
   "source": [
    "from datetime import datetime\n",
    "str(datetime.now())"
   ]
  },
  {
   "cell_type": "code",
   "execution_count": 11,
   "id": "2b4e127c",
   "metadata": {
    "ExecuteTime": {
     "end_time": "2024-03-26T07:42:05.741876Z",
     "start_time": "2024-03-26T07:42:05.736981Z"
    },
    "id": "2b4e127c"
   },
   "outputs": [],
   "source": [
    "modelsavepath = r\"D:\\ENTC\\PROJECTS\\Deep-Learning-for-End-to-End-Over-the-Air-Communications\\GAN_training_utils\\saved_models\"\n",
    "modelsavepath = \".\"\n"
   ]
  },
  {
   "cell_type": "code",
   "execution_count": 12,
   "id": "6f99d604",
   "metadata": {
    "ExecuteTime": {
     "end_time": "2024-03-26T07:19:23.938205Z",
     "start_time": "2024-03-26T07:19:21.283911Z"
    },
    "colab": {
     "base_uri": "https://localhost:8080/"
    },
    "id": "6f99d604",
    "outputId": "585f81a8-a4ac-4efd-a734-fb07632cef4e"
   },
   "outputs": [
    {
     "name": "stderr",
     "output_type": "stream",
     "text": [
      "c:\\Users\\lathw\\AppData\\Local\\Programs\\Python\\Python311\\Lib\\site-packages\\keras\\src\\engine\\training.py:3000: UserWarning: You are saving your model as an HDF5 file via `model.save()`. This file format is considered legacy. We recommend using instead the native Keras format, e.g. `model.save('my_model.keras')`.\n",
      "  saving_api.save_model(\n"
     ]
    },
    {
     "name": "stdout",
     "output_type": "stream",
     "text": [
      "WARNING:tensorflow:Compiled the loaded model, but the compiled metrics have yet to be built. `model.compile_metrics` will be empty until you train or evaluate the model.\n"
     ]
    }
   ],
   "source": [
    "AE_best = AE # not comparing.. we got only one\n",
    "\n",
    "before_channel = Model(inputs=AE_best.input,\n",
    "                                 outputs=AE_best.get_layer('normalization_layer').output)\n",
    "\n",
    "# not used\n",
    "after_channel = Model(inputs=AE_best.get_layer(\"decoder_start\").input,\n",
    "                                 outputs=AE_best.output)\n",
    "\n",
    "\n",
    "# save the models\n",
    "\n",
    "AE_best.save(modelsavepath + r\"\\best_AE_\" + str(datetime.now()).replace(\":\",\"\") + \".h5\")\n",
    "before_channel.save(modelsavepath + r\"\\before_channel_\" + str(datetime.now()).replace(\":\",\"\") + \".h5\")\n",
    "\n",
    "\n"
   ]
  },
  {
   "cell_type": "code",
   "execution_count": 13,
   "id": "4d48ecb0",
   "metadata": {
    "ExecuteTime": {
     "end_time": "2024-03-26T07:42:23.719995Z",
     "start_time": "2024-03-26T07:42:22.856588Z"
    },
    "id": "4d48ecb0",
    "outputId": "d3f5d8b2-8062-4f64-c8d3-e320c4e5c877"
   },
   "outputs": [
    {
     "ename": "OSError",
     "evalue": "No file or directory found at .\\before_channel_2024-03-26 124923.286687.h5",
     "output_type": "error",
     "traceback": [
      "\u001b[1;31m---------------------------------------------------------------------------\u001b[0m",
      "\u001b[1;31mOSError\u001b[0m                                   Traceback (most recent call last)",
      "Cell \u001b[1;32mIn[13], line 2\u001b[0m\n\u001b[0;32m      1\u001b[0m \u001b[38;5;66;03m# load the same saved model now!\u001b[39;00m\n\u001b[1;32m----> 2\u001b[0m before_channel \u001b[38;5;241m=\u001b[39m \u001b[43mtf\u001b[49m\u001b[38;5;241;43m.\u001b[39;49m\u001b[43mkeras\u001b[49m\u001b[38;5;241;43m.\u001b[39;49m\u001b[43mmodels\u001b[49m\u001b[38;5;241;43m.\u001b[39;49m\u001b[43mload_model\u001b[49m\u001b[43m(\u001b[49m\u001b[43mmodelsavepath\u001b[49m\u001b[43m \u001b[49m\u001b[38;5;241;43m+\u001b[39;49m\u001b[43m  \u001b[49m\u001b[38;5;124;43mr\u001b[39;49m\u001b[38;5;124;43m\"\u001b[39;49m\u001b[38;5;124;43m\\\u001b[39;49m\u001b[38;5;124;43mbefore_channel_2024-03-26 124923.286687.h5\u001b[39;49m\u001b[38;5;124;43m\"\u001b[39;49m\u001b[43m,\u001b[49m\n\u001b[0;32m      3\u001b[0m \u001b[43m                                            \u001b[49m\u001b[43mcustom_objects\u001b[49m\u001b[38;5;241;43m=\u001b[39;49m\u001b[43m{\u001b[49m\u001b[38;5;124;43m\"\u001b[39;49m\u001b[38;5;124;43mL2Normalization\u001b[39;49m\u001b[38;5;124;43m\"\u001b[39;49m\u001b[43m:\u001b[49m\u001b[43mL2Normalization\u001b[49m\u001b[43m}\u001b[49m\u001b[43m)\u001b[49m\n",
      "File \u001b[1;32mc:\\Users\\lathw\\AppData\\Local\\Programs\\Python\\Python311\\Lib\\site-packages\\keras\\src\\saving\\saving_api.py:238\u001b[0m, in \u001b[0;36mload_model\u001b[1;34m(filepath, custom_objects, compile, safe_mode, **kwargs)\u001b[0m\n\u001b[0;32m    230\u001b[0m     \u001b[38;5;28;01mreturn\u001b[39;00m saving_lib\u001b[38;5;241m.\u001b[39mload_model(\n\u001b[0;32m    231\u001b[0m         filepath,\n\u001b[0;32m    232\u001b[0m         custom_objects\u001b[38;5;241m=\u001b[39mcustom_objects,\n\u001b[0;32m    233\u001b[0m         \u001b[38;5;28mcompile\u001b[39m\u001b[38;5;241m=\u001b[39m\u001b[38;5;28mcompile\u001b[39m,\n\u001b[0;32m    234\u001b[0m         safe_mode\u001b[38;5;241m=\u001b[39msafe_mode,\n\u001b[0;32m    235\u001b[0m     )\n\u001b[0;32m    237\u001b[0m \u001b[38;5;66;03m# Legacy case.\u001b[39;00m\n\u001b[1;32m--> 238\u001b[0m \u001b[38;5;28;01mreturn\u001b[39;00m \u001b[43mlegacy_sm_saving_lib\u001b[49m\u001b[38;5;241;43m.\u001b[39;49m\u001b[43mload_model\u001b[49m\u001b[43m(\u001b[49m\n\u001b[0;32m    239\u001b[0m \u001b[43m    \u001b[49m\u001b[43mfilepath\u001b[49m\u001b[43m,\u001b[49m\u001b[43m \u001b[49m\u001b[43mcustom_objects\u001b[49m\u001b[38;5;241;43m=\u001b[39;49m\u001b[43mcustom_objects\u001b[49m\u001b[43m,\u001b[49m\u001b[43m \u001b[49m\u001b[38;5;28;43mcompile\u001b[39;49m\u001b[38;5;241;43m=\u001b[39;49m\u001b[38;5;28;43mcompile\u001b[39;49m\u001b[43m,\u001b[49m\u001b[43m \u001b[49m\u001b[38;5;241;43m*\u001b[39;49m\u001b[38;5;241;43m*\u001b[39;49m\u001b[43mkwargs\u001b[49m\n\u001b[0;32m    240\u001b[0m \u001b[43m\u001b[49m\u001b[43m)\u001b[49m\n",
      "File \u001b[1;32mc:\\Users\\lathw\\AppData\\Local\\Programs\\Python\\Python311\\Lib\\site-packages\\keras\\src\\utils\\traceback_utils.py:70\u001b[0m, in \u001b[0;36mfilter_traceback.<locals>.error_handler\u001b[1;34m(*args, **kwargs)\u001b[0m\n\u001b[0;32m     67\u001b[0m     filtered_tb \u001b[38;5;241m=\u001b[39m _process_traceback_frames(e\u001b[38;5;241m.\u001b[39m__traceback__)\n\u001b[0;32m     68\u001b[0m     \u001b[38;5;66;03m# To get the full stack trace, call:\u001b[39;00m\n\u001b[0;32m     69\u001b[0m     \u001b[38;5;66;03m# `tf.debugging.disable_traceback_filtering()`\u001b[39;00m\n\u001b[1;32m---> 70\u001b[0m     \u001b[38;5;28;01mraise\u001b[39;00m e\u001b[38;5;241m.\u001b[39mwith_traceback(filtered_tb) \u001b[38;5;28;01mfrom\u001b[39;00m \u001b[38;5;28;01mNone\u001b[39;00m\n\u001b[0;32m     71\u001b[0m \u001b[38;5;28;01mfinally\u001b[39;00m:\n\u001b[0;32m     72\u001b[0m     \u001b[38;5;28;01mdel\u001b[39;00m filtered_tb\n",
      "File \u001b[1;32mc:\\Users\\lathw\\AppData\\Local\\Programs\\Python\\Python311\\Lib\\site-packages\\keras\\src\\saving\\legacy\\save.py:234\u001b[0m, in \u001b[0;36mload_model\u001b[1;34m(filepath, custom_objects, compile, options)\u001b[0m\n\u001b[0;32m    232\u001b[0m \u001b[38;5;28;01mif\u001b[39;00m \u001b[38;5;28misinstance\u001b[39m(filepath_str, \u001b[38;5;28mstr\u001b[39m):\n\u001b[0;32m    233\u001b[0m     \u001b[38;5;28;01mif\u001b[39;00m \u001b[38;5;129;01mnot\u001b[39;00m tf\u001b[38;5;241m.\u001b[39mio\u001b[38;5;241m.\u001b[39mgfile\u001b[38;5;241m.\u001b[39mexists(filepath_str):\n\u001b[1;32m--> 234\u001b[0m         \u001b[38;5;28;01mraise\u001b[39;00m \u001b[38;5;167;01mIOError\u001b[39;00m(\n\u001b[0;32m    235\u001b[0m             \u001b[38;5;124mf\u001b[39m\u001b[38;5;124m\"\u001b[39m\u001b[38;5;124mNo file or directory found at \u001b[39m\u001b[38;5;132;01m{\u001b[39;00mfilepath_str\u001b[38;5;132;01m}\u001b[39;00m\u001b[38;5;124m\"\u001b[39m\n\u001b[0;32m    236\u001b[0m         )\n\u001b[0;32m    238\u001b[0m     \u001b[38;5;28;01mif\u001b[39;00m tf\u001b[38;5;241m.\u001b[39mio\u001b[38;5;241m.\u001b[39mgfile\u001b[38;5;241m.\u001b[39misdir(filepath_str):\n\u001b[0;32m    239\u001b[0m         \u001b[38;5;28;01mreturn\u001b[39;00m saved_model_load\u001b[38;5;241m.\u001b[39mload(\n\u001b[0;32m    240\u001b[0m             filepath_str, \u001b[38;5;28mcompile\u001b[39m, options\n\u001b[0;32m    241\u001b[0m         )\n",
      "\u001b[1;31mOSError\u001b[0m: No file or directory found at .\\before_channel_2024-03-26 124923.286687.h5"
     ]
    }
   ],
   "source": [
    "# load the same saved model now!\n",
    "before_channel = tf.keras.models.load_model(modelsavepath +  r\"\\before_channel_2024-03-26 124923.286687.h5\",\n",
    "                                            custom_objects={\"L2Normalization\":L2Normalization})\n",
    "\n",
    "\n"
   ]
  },
  {
   "cell_type": "code",
   "execution_count": null,
   "id": "49ae1360",
   "metadata": {
    "ExecuteTime": {
     "end_time": "2024-03-26T07:42:25.502895Z",
     "start_time": "2024-03-26T07:42:25.416572Z"
    },
    "colab": {
     "base_uri": "https://localhost:8080/"
    },
    "id": "49ae1360",
    "outputId": "6676293d-0351-42ea-a703-6b0c28191ff5"
   },
   "outputs": [
    {
     "name": "stdout",
     "output_type": "stream",
     "text": [
      "enc.shape:  (320000, 4)\n",
      "----------\n",
      "iq_samples.shape:  (320000, 2)\n",
      "iq_samples.dtype:  <dtype: 'complex64'>\n"
     ]
    }
   ],
   "source": [
    "# get encodings given by DNN for each message in training set\n",
    "enc = before_channel(x_train)\n",
    "print('enc.shape: ', enc.shape)\n",
    "\n",
    "# convert to iq_samples\n",
    "iq_samples = tf.complex(enc[:,0::2], enc[:,1::2])\n",
    "\n",
    "print(\"----------\")\n",
    "print('iq_samples.shape: ', iq_samples.shape)\n",
    "print('iq_samples.dtype: ', iq_samples.dtype)"
   ]
  },
  {
   "cell_type": "code",
   "execution_count": null,
   "id": "bbbaf467",
   "metadata": {
    "ExecuteTime": {
     "end_time": "2024-03-26T07:43:03.933869Z",
     "start_time": "2024-03-26T07:43:03.856684Z"
    },
    "colab": {
     "base_uri": "https://localhost:8080/"
    },
    "id": "bbbaf467",
    "outputId": "e926eb60-ff97-4cd5-90b0-c9630eab26f0",
    "scrolled": true
   },
   "outputs": [
    {
     "name": "stdout",
     "output_type": "stream",
     "text": [
      "nakagami_chanel_coeff_tensor.shape :  (1000, 320, 2)\n",
      "iq_samples_blocked.shape :  (1000, 320, 2)\n",
      "nakagami_affected_iq_samples.shape :  (320000, 2)\n"
     ]
    }
   ],
   "source": [
    "M_POOL       = [0.1] #[0.5,1,1.5]\n",
    "SNR_DB_POOL  = [1,3,6][:1]\n",
    "\n",
    "nakagami_chanel_coeff_tensor = []\n",
    "\n",
    "\n",
    "n_blocks = enc.shape[0] // block_size\n",
    "for i in range(n_blocks):\n",
    "    m = np.random.choice(M_POOL)\n",
    "    snr_db = np.random.choice(SNR_DB_POOL)\n",
    "#     nakagami_chanel_coeff_tensor.append( only_awgn(snr_db=snr_db,\n",
    "#                                                    num_samples=(block_size,iq_samples.shape[1])) )\n",
    "    nakagami_chanel_coeff_tensor.append( nakagami_channel(m=m,\n",
    "                                                          omega=1,\n",
    "                                                          snr_db=snr_db,\n",
    "                                                          num_samples=(block_size,iq_samples.shape[1]))  )\n",
    "\n",
    "\n",
    "nakagami_chanel_coeff_tensor = tf.constant(nakagami_chanel_coeff_tensor)\n",
    "print(\"nakagami_chanel_coeff_tensor.shape : \",nakagami_chanel_coeff_tensor.shape)\n",
    "\n",
    "iq_samples_blocked = np.reshape(iq_samples,(n_blocks,block_size,-1))\n",
    "print(\"iq_samples_blocked.shape : \",iq_samples_blocked.shape)\n",
    "\n",
    "\n",
    "# tested identity flow (enc == received_enc)  with : nakagami_chanel_coeff_tensor =  tf.complex(1.,0.)\n",
    "\n",
    "# element wise multiply\n",
    "nakagami_affected_iq_samples = tf.multiply(nakagami_chanel_coeff_tensor,iq_samples_blocked)\n",
    "# undo the blockking\n",
    "nakagami_affected_iq_samples = tf.reshape(nakagami_affected_iq_samples,(block_size*n_blocks,-1))\n",
    "print(\"nakagami_affected_iq_samples.shape : \",nakagami_affected_iq_samples.shape)"
   ]
  },
  {
   "cell_type": "code",
   "execution_count": null,
   "id": "ca43d9e6",
   "metadata": {
    "ExecuteTime": {
     "end_time": "2024-03-25T03:00:12.328475Z",
     "start_time": "2024-03-25T03:00:12.312580Z"
    },
    "id": "ca43d9e6"
   },
   "outputs": [],
   "source": [
    "# nakagami_affected_iq_samples"
   ]
  },
  {
   "cell_type": "code",
   "execution_count": null,
   "id": "c9dc5d58",
   "metadata": {
    "ExecuteTime": {
     "end_time": "2024-03-26T07:43:21.086617Z",
     "start_time": "2024-03-26T07:43:21.071322Z"
    },
    "colab": {
     "base_uri": "https://localhost:8080/"
    },
    "id": "c9dc5d58",
    "outputId": "79fad371-2231-4abf-81eb-42002ea8fc35"
   },
   "outputs": [
    {
     "name": "stdout",
     "output_type": "stream",
     "text": [
      "concat.shape :  (320000, 2, 2)\n",
      "received_enc.shape :  (320000, 4)\n"
     ]
    }
   ],
   "source": [
    "# need to convert each iq_samples to two encoding\n",
    "real_part =  tf.expand_dims(tf.math.real(nakagami_affected_iq_samples),axis=2)\n",
    "imag_part =  tf.expand_dims(tf.math.imag(nakagami_affected_iq_samples),axis=2)\n",
    "\n",
    "concat = tf.concat((real_part,imag_part),axis=2)\n",
    "print(\"concat.shape : \",concat.shape)\n",
    "\n",
    "received_enc = tf.cast(tf.reshape(concat,(block_size*n_blocks,-1)),tf.float32)\n",
    "print(\"received_enc.shape : \",received_enc.shape)"
   ]
  },
  {
   "cell_type": "markdown",
   "id": "ba4dc6f2",
   "metadata": {
    "id": "ba4dc6f2"
   },
   "source": [
    " ## Summary"
   ]
  },
  {
   "cell_type": "code",
   "execution_count": null,
   "id": "3bf16b34",
   "metadata": {
    "ExecuteTime": {
     "end_time": "2024-03-26T07:43:30.988097Z",
     "start_time": "2024-03-26T07:43:30.976317Z"
    },
    "colab": {
     "base_uri": "https://localhost:8080/"
    },
    "id": "3bf16b34",
    "outputId": "41c5bbcb-d846-4d27-c962-c093b8dd4fc7"
   },
   "outputs": [
    {
     "name": "stdout",
     "output_type": "stream",
     "text": [
      "enc.shape:  (320000, 4)\n",
      "received_enc.shape:  (320000, 4)\n"
     ]
    },
    {
     "data": {
      "text/plain": [
       "<tf.Tensor: shape=(320000, 4), dtype=float32, numpy=\n",
       "array([[-1.8190991 , -1.0750197 ,  0.9148087 ,  0.83316183],\n",
       "       [-0.08382083, -0.35619017,  4.6661525 ,  1.0777009 ],\n",
       "       [-0.9620805 ,  1.1972556 ,  0.74974144, -0.22127318],\n",
       "       ...,\n",
       "       [ 0.12988108, -1.0053571 ,  1.3555844 , -0.4751278 ],\n",
       "       [ 1.2653911 , -0.94383466,  0.79942113, -0.66450894],\n",
       "       [-0.8122225 ,  1.6610645 , -0.62070704,  0.58769596]],\n",
       "      dtype=float32)>"
      ]
     },
     "execution_count": 17,
     "metadata": {},
     "output_type": "execute_result"
    }
   ],
   "source": [
    "# enc is the encodings presenet to channel\n",
    "# messages --> bits --> [trained DNN]  --> enc\n",
    "print('enc.shape: ', enc.shape)\n",
    "\n",
    "\n",
    "# received_enc is the encoding equavalent after Nakagami+noise effects considered\n",
    "# enc --> iq_samples --> [NAKAGAMI+noise effect]  --> affected_iq_smaples --> received_enc\n",
    "print('received_enc.shape: ', received_enc.shape)\n",
    "\n",
    "# see the difference done by the channel\n",
    "enc - received_enc"
   ]
  },
  {
   "cell_type": "code",
   "execution_count": null,
   "id": "d5a4351f",
   "metadata": {
    "ExecuteTime": {
     "end_time": "2024-03-25T20:45:47.243127Z",
     "start_time": "2024-03-25T20:45:47.227331Z"
    },
    "id": "d5a4351f"
   },
   "outputs": [],
   "source": [
    "# def real_to_complex(a):\n",
    "#     a= np.reshape(a,(len(a)//2,2))\n",
    "#     a= np.vectorize(complex)(np.transpose(a[:,0]),np.transpose(a[:,1]))\n",
    "#     return a\n",
    "\n",
    "\n",
    "# def get_channel_coeff(x,y):\n",
    "#     h = np.matmul(real_to_complex(x).conj().T,\n",
    "#                   real_to_complex(y))            /           np.matmul(real_to_complex(x).conj().T,\n",
    "#                                                                       real_to_complex(x))\n",
    "\n",
    "\n",
    "#     return np.array([np.real(h),np.imag(h)])"
   ]
  },
  {
   "cell_type": "code",
   "execution_count": null,
   "id": "7189e867",
   "metadata": {
    "ExecuteTime": {
     "end_time": "2024-03-25T20:45:48.230621Z",
     "start_time": "2024-03-25T20:45:48.214571Z"
    },
    "id": "7189e867"
   },
   "outputs": [],
   "source": [
    "# def r3_reshape(a):\n",
    "#     a2 = a.numpy()[:320, :]\n",
    "\n",
    "#     a2 = a2.reshape(-1,2)\n",
    "#     a2 = a2[:, 0] + a2[:, 1] * 1j\n",
    "\n",
    "#     return a2\n",
    "\n",
    "\n",
    "\n",
    "# def r3_get_channel_coeff(x,y):\n",
    "#     h = np.matmul(x.conj().T,y) / np.matmul(x.conj().T,x)\n",
    "#     return h\n",
    "\n",
    "\n",
    "# r3_get_channel_coeff(    r3_reshape(enc),r3_reshape(received_enc)    )"
   ]
  },
  {
   "cell_type": "code",
   "execution_count": null,
   "id": "cdc2e6da",
   "metadata": {
    "ExecuteTime": {
     "end_time": "2024-03-25T20:45:49.680062Z",
     "start_time": "2024-03-25T20:45:49.663909Z"
    },
    "colab": {
     "base_uri": "https://localhost:8080/"
    },
    "id": "cdc2e6da",
    "outputId": "4547b5ab-4cd5-48c5-9a12-90058780e41b"
   },
   "outputs": [
    {
     "data": {
      "text/plain": [
       "TensorShape([320000, 2])"
      ]
     },
     "execution_count": 20,
     "metadata": {},
     "output_type": "execute_result"
    }
   ],
   "source": [
    "iq_samples.shape"
   ]
  },
  {
   "cell_type": "code",
   "execution_count": null,
   "id": "98395a81",
   "metadata": {
    "ExecuteTime": {
     "end_time": "2024-03-25T20:45:51.739125Z",
     "start_time": "2024-03-25T20:45:51.723362Z"
    },
    "id": "98395a81"
   },
   "outputs": [],
   "source": [
    "# start_i = 0\n",
    "\n",
    "# cc = r3_get_channel_coeff(  iq_samples.numpy().reshape(-1,1)[start_i*320*7:(start_i+1)*320*7],\n",
    "#                        nakagami_affected_iq_samples.numpy().reshape(-1,1)[start_i*320*7:(start_i+1)*320*7]  )\n",
    "\n",
    "\n",
    "# abs(cc).item()\n"
   ]
  },
  {
   "cell_type": "code",
   "execution_count": null,
   "id": "6833377b",
   "metadata": {
    "ExecuteTime": {
     "end_time": "2024-03-26T07:44:21.162930Z",
     "start_time": "2024-03-26T07:44:21.136511Z"
    },
    "colab": {
     "base_uri": "https://localhost:8080/"
    },
    "id": "6833377b",
    "outputId": "8c7c8a2b-16bc-41e9-8e5d-b3106e81721b"
   },
   "outputs": [
    {
     "data": {
      "text/plain": [
       "array([[0., 0.],\n",
       "       [0., 1.],\n",
       "       [1., 0.],\n",
       "       ...,\n",
       "       [1., 1.],\n",
       "       [0., 0.],\n",
       "       [0., 0.]], dtype=float32)"
      ]
     },
     "execution_count": 22,
     "metadata": {},
     "output_type": "execute_result"
    }
   ],
   "source": [
    "x_train"
   ]
  },
  {
   "cell_type": "code",
   "execution_count": null,
   "id": "b1e26dd3",
   "metadata": {
    "ExecuteTime": {
     "end_time": "2024-03-26T07:44:39.248598Z",
     "start_time": "2024-03-26T07:44:39.116332Z"
    },
    "colab": {
     "base_uri": "https://localhost:8080/",
     "height": 430
    },
    "id": "b1e26dd3",
    "outputId": "83df1134-b57f-4e8b-e901-f57771cf38d3"
   },
   "outputs": [
    {
     "data": {
      "image/png": "[encoded data removed]",
      "text/plain": [
       "<Figure size 640x480 with 1 Axes>"
      ]
     },
     "metadata": {},
     "output_type": "display_data"
    }
   ],
   "source": [
    "# test nakagami channel function\n",
    "\n",
    "num_samples =20_000\n",
    "\n",
    "samples = nakagami_channel(m=0.1, omega=1, snr_db=20, num_samples=num_samples)\n",
    "\n",
    "samples = np.abs(samples)\n",
    "\n",
    "hist = np.histogram(samples,100)\n",
    "\n",
    "plt.plot(hist[1][:-1], hist[0]/num_samples)\n",
    "plt.grid()\n",
    "plt.show()"
   ]
  },
  {
   "cell_type": "code",
   "execution_count": null,
   "id": "685cec48",
   "metadata": {
    "ExecuteTime": {
     "end_time": "2024-03-26T07:47:16.015010Z",
     "start_time": "2024-03-26T07:47:15.995242Z"
    },
    "colab": {
     "base_uri": "https://localhost:8080/"
    },
    "id": "685cec48",
    "outputId": "56bddbd8-7202-48b9-d0cd-ea1e26e60b07"
   },
   "outputs": [
    {
     "name": "stdout",
     "output_type": "stream",
     "text": [
      "iq_samples.shape (320000, 2)\n",
      "nakagami_affected_iq_samples.shape (320000, 2)\n",
      "iq_original_seq.shape (640000, 1)\n",
      "iq_original_seq.dtype complex64\n",
      "iq_received_seq.shape (640000, 1)\n",
      "iq_received_seq.dtype complex128\n",
      "same channel per 320*7 \n",
      " 100 channel cases\n"
     ]
    }
   ],
   "source": [
    "print(\"iq_samples.shape\",iq_samples.shape)\n",
    "print(\"nakagami_affected_iq_samples.shape\",nakagami_affected_iq_samples.shape)\n",
    "\n",
    "iq_original_seq = iq_samples.numpy().reshape(-1,1)\n",
    "iq_received_seq = nakagami_affected_iq_samples.numpy().reshape(-1,1)\n",
    "\n",
    "# np.random.shuffle(iq_original_seq)\n",
    "# np.random.shuffle(iq_received_seq)\n",
    "\n",
    "print(\"iq_original_seq.shape\",iq_original_seq.shape)\n",
    "print(\"iq_original_seq.dtype\",iq_original_seq.dtype)\n",
    "\n",
    "print(\"iq_received_seq.shape\",iq_received_seq.shape)\n",
    "print(\"iq_received_seq.dtype\",iq_received_seq.dtype)\n",
    "\n",
    "print(\"same channel per 320*7 \\n\", \"100 channel cases\")"
   ]
  },
  {
   "cell_type": "code",
   "execution_count": null,
   "id": "f76a06e4",
   "metadata": {
    "ExecuteTime": {
     "end_time": "2024-03-25T20:46:07.830480Z",
     "start_time": "2024-03-25T20:46:07.687292Z"
    },
    "colab": {
     "base_uri": "https://localhost:8080/",
     "height": 214
    },
    "id": "f76a06e4",
    "outputId": "5afd702a-0296-43e0-d820-6ec7a02d2aa8"
   },
   "outputs": [
    {
     "ename": "NameError",
     "evalue": "name 'r3_get_channel_coeff' is not defined",
     "output_type": "error",
     "traceback": [
      "\u001b[0;31m---------------------------------------------------------------------------\u001b[0m",
      "\u001b[0;31mNameError\u001b[0m                                 Traceback (most recent call last)",
      "\u001b[0;32m<ipython-input-25-4bfe8e1195fc>\u001b[0m in \u001b[0;36m<cell line: 7>\u001b[0;34m()\u001b[0m\n\u001b[1;32m      6\u001b[0m \u001b[0mcc_list\u001b[0m \u001b[0;34m=\u001b[0m \u001b[0;34m[\u001b[0m\u001b[0;34m]\u001b[0m\u001b[0;34m\u001b[0m\u001b[0;34m\u001b[0m\u001b[0m\n\u001b[1;32m      7\u001b[0m \u001b[0;32mfor\u001b[0m \u001b[0mi\u001b[0m \u001b[0;32min\u001b[0m \u001b[0mrange\u001b[0m\u001b[0;34m(\u001b[0m\u001b[0mn_train\u001b[0m\u001b[0;34m//\u001b[0m\u001b[0mblock_size\u001b[0m\u001b[0;34m)\u001b[0m\u001b[0;34m:\u001b[0m\u001b[0;34m\u001b[0m\u001b[0;34m\u001b[0m\u001b[0m\n\u001b[0;32m----> 8\u001b[0;31m     cc = r3_get_channel_coeff(  iq_original_seq[i*320*7:(i+1)*320*7],\n\u001b[0m\u001b[1;32m      9\u001b[0m                        iq_received_seq[i*320*7:(i+1)*320*7]  ) \n\u001b[1;32m     10\u001b[0m     \u001b[0mcc_list\u001b[0m\u001b[0;34m.\u001b[0m\u001b[0mappend\u001b[0m\u001b[0;34m(\u001b[0m\u001b[0mcc\u001b[0m\u001b[0;34m.\u001b[0m\u001b[0mitem\u001b[0m\u001b[0;34m(\u001b[0m\u001b[0;34m)\u001b[0m\u001b[0;34m)\u001b[0m\u001b[0;34m\u001b[0m\u001b[0;34m\u001b[0m\u001b[0m\n",
      "\u001b[0;31mNameError\u001b[0m: name 'r3_get_channel_coeff' is not defined"
     ]
    }
   ],
   "source": [
    "# make the dataset\n",
    "\n",
    "cc_list = []\n",
    "for i in range(n_train//block_size):\n",
    "    cc = r3_get_channel_coeff(  iq_original_seq[i*320*7:(i+1)*320*7],\n",
    "                       iq_received_seq[i*320*7:(i+1)*320*7]  )\n",
    "    cc_list.append(cc.item())\n",
    "\n",
    "\n",
    "\n",
    "plt.stem(np.abs(np.array(cc_list)))\n",
    "plt.show()"
   ]
  },
  {
   "cell_type": "code",
   "execution_count": 14,
   "id": "b63f34a1",
   "metadata": {
    "ExecuteTime": {
     "end_time": "2024-03-26T07:51:49.755959Z",
     "start_time": "2024-03-26T07:51:49.740117Z"
    },
    "colab": {
     "base_uri": "https://localhost:8080/"
    },
    "id": "b63f34a1",
    "outputId": "e5cced88-2b9f-4cfe-f3e3-77d94e3cb223"
   },
   "outputs": [
    {
     "ename": "NameError",
     "evalue": "name 'iq_original_seq' is not defined",
     "output_type": "error",
     "traceback": [
      "\u001b[1;31m---------------------------------------------------------------------------\u001b[0m",
      "\u001b[1;31mNameError\u001b[0m                                 Traceback (most recent call last)",
      "Cell \u001b[1;32mIn[14], line 2\u001b[0m\n\u001b[0;32m      1\u001b[0m \u001b[38;5;66;03m# reshape (frame,sequence,channel uses)\u001b[39;00m\n\u001b[1;32m----> 2\u001b[0m iq_original_seq__rFSC \u001b[38;5;241m=\u001b[39m \u001b[43miq_original_seq\u001b[49m\u001b[38;5;241m.\u001b[39mreshape(n_blocks,block_size,\u001b[38;5;241m-\u001b[39m\u001b[38;5;241m1\u001b[39m)\n\u001b[0;32m      3\u001b[0m iq_received_seq__rFSC \u001b[38;5;241m=\u001b[39m iq_received_seq\u001b[38;5;241m.\u001b[39mreshape(n_blocks,block_size,\u001b[38;5;241m-\u001b[39m\u001b[38;5;241m1\u001b[39m)\n\u001b[0;32m      4\u001b[0m \u001b[38;5;28mprint\u001b[39m(\u001b[38;5;124m\"\u001b[39m\u001b[38;5;124miq_original_seq__rFSC.shape: \u001b[39m\u001b[38;5;124m\"\u001b[39m,iq_original_seq__rFSC\u001b[38;5;241m.\u001b[39mshape)\n",
      "\u001b[1;31mNameError\u001b[0m: name 'iq_original_seq' is not defined"
     ]
    }
   ],
   "source": [
    "# reshape (frame,sequence,channel uses)\n",
    "iq_original_seq__rFSC = iq_original_seq.reshape(n_blocks,block_size,-1)\n",
    "iq_received_seq__rFSC = iq_received_seq.reshape(n_blocks,block_size,-1)\n",
    "print(\"iq_original_seq__rFSC.shape: \",iq_original_seq__rFSC.shape)\n",
    "print(\"iq_received_seq__rFSC.shape: \",iq_received_seq__rFSC.shape)\n",
    "print(\"iq_original_seq__rFSC.dtype: \",iq_original_seq__rFSC.dtype)\n",
    "print(\"iq_received_seq__rFSC.dtype: \",iq_received_seq__rFSC.dtype)\n",
    "print(\"---------------------------\")\n",
    "\n",
    "\n",
    "conditional_data = iq_received_seq__rFSC[:,:M,:].reshape(n_blocks,-1)\n",
    "GAN_input = iq_original_seq__rFSC[:,M:,:].reshape(n_blocks,-1)\n",
    "GAN_real  = iq_received_seq__rFSC[:,M:,:].reshape(n_blocks,-1)\n",
    "print(\"conditional_data.shape: \",conditional_data.shape)\n",
    "print(\"GAN_input.shape: \",GAN_input.shape)\n",
    "print(\"GAN_real.shape: \",GAN_real.shape)\n",
    "print(\"conditional_data.dtype: \",conditional_data.dtype)\n",
    "print(\"GAN_input.dtype: \",GAN_input.dtype)\n",
    "print(\"GAN_real.dtype: \",GAN_real.dtype)\n",
    "\n",
    "\n",
    "\n",
    "\n",
    "'''\n",
    "        _________________________________________________________________________\n",
    "       |                                                                         |\n",
    "       |                                                                         |\n",
    "conditional_data ----> |------------|                                            |\n",
    "                       |  GENERATOR |  ---> predicted_chanel_out vs. GAN_real  ----> [DISCRIMINATOR]  ----> [LOSS]\n",
    "     GAN_input   ----> |------------|\n",
    "''';\n",
    "\n"
   ]
  },
  {
   "cell_type": "code",
   "execution_count": 15,
   "id": "02b88bbb",
   "metadata": {
    "ExecuteTime": {
     "end_time": "2024-03-26T08:12:14.427277Z",
     "start_time": "2024-03-26T08:12:13.937650Z"
    },
    "id": "02b88bbb"
   },
   "outputs": [
    {
     "ename": "NameError",
     "evalue": "name 'conditional_data' is not defined",
     "output_type": "error",
     "traceback": [
      "\u001b[1;31m---------------------------------------------------------------------------\u001b[0m",
      "\u001b[1;31mNameError\u001b[0m                                 Traceback (most recent call last)",
      "Cell \u001b[1;32mIn[15], line 10\u001b[0m\n\u001b[0;32m      7\u001b[0m \u001b[38;5;28;01mdef\u001b[39;00m \u001b[38;5;21mcomplex_to_parts\u001b[39m(c):\n\u001b[0;32m      8\u001b[0m     \u001b[38;5;28;01mreturn\u001b[39;00m np\u001b[38;5;241m.\u001b[39marray([np\u001b[38;5;241m.\u001b[39mreal(c),np\u001b[38;5;241m.\u001b[39mimag(c)])\u001b[38;5;241m.\u001b[39mreshape(\u001b[38;5;241m-\u001b[39m\u001b[38;5;241m1\u001b[39m,order\u001b[38;5;241m=\u001b[39m\u001b[38;5;124m\"\u001b[39m\u001b[38;5;124mF\u001b[39m\u001b[38;5;124m\"\u001b[39m)\n\u001b[1;32m---> 10\u001b[0m \u001b[38;5;28;01mfor\u001b[39;00m i \u001b[38;5;129;01min\u001b[39;00m \u001b[38;5;28mrange\u001b[39m(\u001b[38;5;28mlen\u001b[39m(\u001b[43mconditional_data\u001b[49m)):\n\u001b[0;32m     11\u001b[0m     this_cond_pilots_complex \u001b[38;5;241m=\u001b[39m conditional_data[i]\n\u001b[0;32m     12\u001b[0m     this_cond_pilots_separated \u001b[38;5;241m=\u001b[39m complex_to_parts(this_cond_pilots_complex)\n",
      "\u001b[1;31mNameError\u001b[0m: name 'conditional_data' is not defined"
     ]
    }
   ],
   "source": [
    "# instances to train\n",
    "i_conditional_inputs = [] # stores [real,imag] x (channel use) for 2**k pilot messages  as features\n",
    "i_GAN_input = [] # stores [real,imag] x (channel use) : single random message\n",
    "i_GAN_real = []  # stores [real,imag] x (channel use) : single random message -- after thry channel\n",
    "\n",
    "\n",
    "def complex_to_parts(c):\n",
    "    return np.array([np.real(c),np.imag(c)]).reshape(-1,order=\"F\")\n",
    "\n",
    "for i in range(len(conditional_data)):\n",
    "    this_cond_pilots_complex = conditional_data[i]\n",
    "    this_cond_pilots_separated = complex_to_parts(this_cond_pilots_complex)\n",
    "    #print(this_cond_pilots_separated.shape)\n",
    "\n",
    "\n",
    "    for j in range(GAN_input.shape[1]):\n",
    "        this_GAN_input_complex = GAN_input[i,j]\n",
    "        this_GAN_real_complex  = GAN_real[i,j]\n",
    "        this_GAN_input_separated = complex_to_parts(this_GAN_input_complex)\n",
    "        this_GAN_real_separated = complex_to_parts(this_GAN_real_complex)\n",
    "\n",
    "        i_conditional_inputs.append(this_cond_pilots_separated)\n",
    "        i_GAN_input.append(this_GAN_input_separated)\n",
    "        i_GAN_real.append(this_GAN_real_separated)\n",
    "\n",
    "\n",
    "\n",
    "i_conditional_inputs = np.array(i_conditional_inputs)\n",
    "i_GAN_input = np.array(i_GAN_input)\n",
    "i_GAN_real = np.array(i_GAN_real)\n"
   ]
  },
  {
   "cell_type": "code",
   "execution_count": null,
   "id": "6759be84",
   "metadata": {
    "ExecuteTime": {
     "end_time": "2024-03-26T08:14:06.850717Z",
     "start_time": "2024-03-26T08:14:06.827258Z"
    },
    "colab": {
     "base_uri": "https://localhost:8080/"
    },
    "id": "6759be84",
    "outputId": "ec212b37-57ca-43c8-9b42-55accfca807e"
   },
   "outputs": [
    {
     "name": "stdout",
     "output_type": "stream",
     "text": [
      "i_conditional_inputs.shape:  (632000, 16)\n",
      "i_GAN_input.shape:  (632000, 2)\n",
      "i_GAN_real.shape:  (632000, 2)\n"
     ]
    }
   ],
   "source": [
    "print(\"i_conditional_inputs.shape: \",i_conditional_inputs.shape)\n",
    "print(\"i_GAN_input.shape: \", i_GAN_input.shape)\n",
    "\n",
    "print(\"i_GAN_real.shape: \", i_GAN_real.shape)\n",
    "\n"
   ]
  },
  {
   "cell_type": "code",
   "execution_count": null,
   "id": "5711d912",
   "metadata": {
    "ExecuteTime": {
     "end_time": "2024-03-26T08:16:02.098106Z",
     "start_time": "2024-03-26T08:16:02.086473Z"
    },
    "id": "5711d912"
   },
   "outputs": [],
   "source": [
    "# # test\n",
    "# complex_to_parts(np.array([1+3j,4+8j]))\n",
    "# complex_to_parts([54+3j,-3+5j])"
   ]
  },
  {
   "cell_type": "code",
   "execution_count": null,
   "id": "17af6c61",
   "metadata": {
    "ExecuteTime": {
     "end_time": "2024-03-26T08:29:52.134424Z",
     "start_time": "2024-03-26T08:29:52.112189Z"
    },
    "id": "17af6c61"
   },
   "outputs": [],
   "source": [
    "dataset = [i_conditional_inputs,i_GAN_input,i_GAN_real]"
   ]
  },
  {
   "cell_type": "code",
   "execution_count": null,
   "id": "fd1ed8f6",
   "metadata": {
    "ExecuteTime": {
     "end_time": "2024-03-26T08:30:38.325712Z",
     "start_time": "2024-03-26T08:30:38.312027Z"
    },
    "id": "fd1ed8f6"
   },
   "outputs": [],
   "source": [
    "# # check unpackability\n",
    "\n",
    "# a33,b33,c33 = dataset"
   ]
  },
  {
   "cell_type": "code",
   "execution_count": null,
   "id": "8c18538c",
   "metadata": {
    "id": "8c18538c"
   },
   "outputs": [],
   "source": [
    "# now data set is ready"
   ]
  },
  {
   "cell_type": "code",
   "execution_count": 17,
   "id": "c1c55e9c",
   "metadata": {
    "ExecuteTime": {
     "end_time": "2024-03-26T08:19:53.132903Z",
     "start_time": "2024-03-26T08:19:53.105337Z"
    },
    "id": "c1c55e9c"
   },
   "outputs": [],
   "source": [
    "import numpy as np\n",
    "import tensorflow as tf\n",
    "\n",
    "#To datasets -> import tensorflow_datasets as tfds\n",
    "\n",
    "# For models\n",
    "from tensorflow.keras.models import Model, load_model\n",
    "from tensorflow.keras.optimizers.legacy import Adam\n",
    "from tensorflow.keras.losses import BinaryCrossentropy\n",
    "from tensorflow.keras.layers import Conv2D, Dense, Flatten, Reshape, LeakyReLU, \\\n",
    "                                    Dropout, Embedding, Input, Concatenate #, Conv2DTranspose\n",
    "\n",
    "\n",
    "\n",
    "\n",
    "# For streamlining ML workflow\n",
    "# import wandb\n",
    "# from wandb.keras import WandbCallback\n",
    "\n",
    "# For model memory\n",
    "# from tensorflow.keras import backend as k\n",
    "# import humanize\n",
    "\n",
    "# For visualisation\n",
    "from matplotlib import pyplot as plt"
   ]
  },
  {
   "cell_type": "code",
   "execution_count": null,
   "id": "5472c45d",
   "metadata": {
    "ExecuteTime": {
     "end_time": "2024-03-25T20:50:06.085961Z",
     "start_time": "2024-03-25T20:50:06.070935Z"
    },
    "id": "5472c45d"
   },
   "outputs": [],
   "source": [
    "# n = 1\n",
    "# k = 2\n",
    "\n",
    "# Input_Shape = (2*n,1)   #(n*2,1)   # Shape of the conditional input (this is normalized)\n",
    "# noise_std = 1           # Standerd deviation for the noise to be added to the conditional values for better generalization (change this)\n",
    "\n",
    "\"\"\"---- Import dataset here ----\"\"\"\n",
    "\n",
    "\"\"\"--------\"\"\"\n",
    "\n",
    "# latent_vector_dim = 100 # For the Generator input\n",
    "\n",
    "\n",
    "#n_batches = len(data//batch_size)\n",
    "\n",
    "\n",
    "\n",
    "# # Name of the project for Weights and Biases platform\n",
    "# WB_project = \"CGAN\"\n",
    "\n",
    "# # Entity (login) for Weights and Biases platform\n",
    "# WB_entity = \"matusstas\" # shearch this\n"
   ]
  },
  {
   "cell_type": "code",
   "execution_count": null,
   "id": "c481d36e",
   "metadata": {
    "id": "c481d36e"
   },
   "outputs": [],
   "source": []
  },
  {
   "cell_type": "code",
   "execution_count": null,
   "id": "e77af1de",
   "metadata": {
    "ExecuteTime": {
     "end_time": "2024-03-26T08:17:47.788689Z",
     "start_time": "2024-03-26T08:17:47.772587Z"
    },
    "colab": {
     "base_uri": "https://localhost:8080/"
    },
    "id": "e77af1de",
    "outputId": "d5f6fff5-9fd4-48ad-d3d7-8d426bfdcd71"
   },
   "outputs": [
    {
     "data": {
      "text/plain": [
       "320"
      ]
     },
     "execution_count": 34,
     "metadata": {},
     "output_type": "execute_result"
    }
   ],
   "source": [
    "block_size"
   ]
  },
  {
   "cell_type": "code",
   "execution_count": 19,
   "id": "772b7eac",
   "metadata": {
    "ExecuteTime": {
     "end_time": "2024-03-26T08:21:12.216446Z",
     "start_time": "2024-03-26T08:21:12.114947Z"
    },
    "colab": {
     "base_uri": "https://localhost:8080/"
    },
    "id": "772b7eac",
    "outputId": "57213e9c-6205-49ce-eadb-ab93221b9454"
   },
   "outputs": [
    {
     "name": "stdout",
     "output_type": "stream",
     "text": [
      "Model: \"model_3\"\n",
      "__________________________________________________________________________________________________\n",
      " Layer (type)                Output Shape                 Param #   Connected to                  \n",
      "==================================================================================================\n",
      " input_5 (InputLayer)        [(None, 16)]                 0         []                            \n",
      "                                                                                                  \n",
      " input_7 (InputLayer)        [(None, 2)]                  0         []                            \n",
      "                                                                                                  \n",
      " input_6 (InputLayer)        [(None, 16)]                 0         []                            \n",
      "                                                                                                  \n",
      " concatenate_1 (Concatenate  (None, 34)                   0         ['input_5[0][0]',             \n",
      " )                                                                   'input_7[0][0]',             \n",
      "                                                                     'input_6[0][0]']             \n",
      "                                                                                                  \n",
      " dense_8 (Dense)             (None, 128)                  4480      ['concatenate_1[0][0]']       \n",
      "                                                                                                  \n",
      " leaky_re_lu_3 (LeakyReLU)   (None, 128)                  0         ['dense_8[0][0]']             \n",
      "                                                                                                  \n",
      " dense_9 (Dense)             (None, 128)                  16512     ['leaky_re_lu_3[0][0]']       \n",
      "                                                                                                  \n",
      " leaky_re_lu_4 (LeakyReLU)   (None, 128)                  0         ['dense_9[0][0]']             \n",
      "                                                                                                  \n",
      " dense_10 (Dense)            (None, 128)                  16512     ['leaky_re_lu_4[0][0]']       \n",
      "                                                                                                  \n",
      " leaky_re_lu_5 (LeakyReLU)   (None, 128)                  0         ['dense_10[0][0]']            \n",
      "                                                                                                  \n",
      " dense_11 (Dense)            (None, 2)                    258       ['leaky_re_lu_5[0][0]']       \n",
      "                                                                                                  \n",
      "==================================================================================================\n",
      "Total params: 37762 (147.51 KB)\n",
      "Trainable params: 37762 (147.51 KB)\n",
      "Non-trainable params: 0 (0.00 Byte)\n",
      "__________________________________________________________________________________________________\n"
     ]
    }
   ],
   "source": [
    "def build_generator():\n",
    "    noise = Input(shape=(16,))\n",
    "    input_pilot = Input(shape=(2  **k  *NUM_CHANNEL_USES  *2,))\n",
    "    input_x = Input(shape=(2,)) # real and imag parts of any symbol\n",
    "    concat = Concatenate()([noise,input_x,input_pilot])\n",
    "\n",
    "    l = Dense(128)(concat)\n",
    "    l = LeakyReLU(alpha = 0.2)(l)\n",
    "    l = Dense(128)(l)\n",
    "    l = LeakyReLU(alpha = 0.2)(l)\n",
    "    l = Dense(128)(l)\n",
    "    l = LeakyReLU(alpha = 0.2)(l)\n",
    "    output = Dense(2,activation = 'linear')(l) # real and imag parts of any symbol\n",
    "\n",
    "    model = Model([noise,input_pilot,input_x],output)\n",
    "    return model\n",
    "\n",
    "\n",
    "generator = build_generator()\n",
    "\n",
    "generator.summary()\n",
    "# tf.keras.utils.plot_model(generator, show_shapes=True)"
   ]
  },
  {
   "cell_type": "code",
   "execution_count": 22,
   "id": "c5c8be6e",
   "metadata": {},
   "outputs": [
    {
     "data": {
      "text/plain": [
       "16"
      ]
     },
     "execution_count": 22,
     "metadata": {},
     "output_type": "execute_result"
    }
   ],
   "source": [
    "2 **2 *2*2"
   ]
  },
  {
   "cell_type": "code",
   "execution_count": 20,
   "id": "985b07c9",
   "metadata": {
    "ExecuteTime": {
     "end_time": "2024-03-26T08:22:42.103307Z",
     "start_time": "2024-03-26T08:22:41.936189Z"
    },
    "colab": {
     "base_uri": "https://localhost:8080/"
    },
    "id": "985b07c9",
    "outputId": "3b4981c1-474d-49c7-8370-b3f8ce5056fe"
   },
   "outputs": [
    {
     "name": "stdout",
     "output_type": "stream",
     "text": [
      "Model: \"model_4\"\n",
      "__________________________________________________________________________________________________\n",
      " Layer (type)                Output Shape                 Param #   Connected to                  \n",
      "==================================================================================================\n",
      " input_8 (InputLayer)        [(None, 16)]                 0         []                            \n",
      "                                                                                                  \n",
      " input_9 (InputLayer)        [(None, 2)]                  0         []                            \n",
      "                                                                                                  \n",
      " concatenate_2 (Concatenate  (None, 18)                   0         ['input_8[0][0]',             \n",
      " )                                                                   'input_9[0][0]']             \n",
      "                                                                                                  \n",
      " dense_12 (Dense)            (None, 32)                   608       ['concatenate_2[0][0]']       \n",
      "                                                                                                  \n",
      " leaky_re_lu_6 (LeakyReLU)   (None, 32)                   0         ['dense_12[0][0]']            \n",
      "                                                                                                  \n",
      " dense_13 (Dense)            (None, 32)                   1056      ['leaky_re_lu_6[0][0]']       \n",
      "                                                                                                  \n",
      " leaky_re_lu_7 (LeakyReLU)   (None, 32)                   0         ['dense_13[0][0]']            \n",
      "                                                                                                  \n",
      " dense_14 (Dense)            (None, 32)                   1056      ['leaky_re_lu_7[0][0]']       \n",
      "                                                                                                  \n",
      " leaky_re_lu_8 (LeakyReLU)   (None, 32)                   0         ['dense_14[0][0]']            \n",
      "                                                                                                  \n",
      " dense_15 (Dense)            (None, 1)                    33        ['leaky_re_lu_8[0][0]']       \n",
      "                                                                                                  \n",
      "==================================================================================================\n",
      "Total params: 2753 (10.75 KB)\n",
      "Trainable params: 2753 (10.75 KB)\n",
      "Non-trainable params: 0 (0.00 Byte)\n",
      "__________________________________________________________________________________________________\n"
     ]
    }
   ],
   "source": [
    "def build_discriminator():\n",
    "    input_pilot = Input(  shape= (2  **k  *NUM_CHANNEL_USES  *2,) )\n",
    "    input_x = Input(shape=(2,))\n",
    "    concat = Concatenate()([input_pilot,input_x])\n",
    "\n",
    "    l = Dense(32)(concat)\n",
    "    l = LeakyReLU(alpha = 0.2)(l)\n",
    "    l = Dense(32)(l)\n",
    "    l = LeakyReLU(alpha = 0.2)(l)\n",
    "    l = Dense(32)(l)\n",
    "    l = LeakyReLU(alpha = 0.2)(l)\n",
    "    output = Dense(1,activation = 'sigmoid')(l)\n",
    "\n",
    "    model = Model([input_pilot,input_x],output)\n",
    "    return model\n",
    "\n",
    "discriminator = build_discriminator()\n",
    "\n",
    "discriminator.summary()\n",
    "# tf.keras.utils.plot_model(discriminator, show_shapes=True)"
   ]
  },
  {
   "cell_type": "code",
   "execution_count": null,
   "id": "2fe48e54",
   "metadata": {
    "ExecuteTime": {
     "end_time": "2024-03-26T08:38:34.634671Z",
     "start_time": "2024-03-26T08:38:34.619238Z"
    },
    "id": "2fe48e54"
   },
   "outputs": [],
   "source": [
    "# https://www.tensorflow.org/guide/keras/customizing_what_happens_in_fit#:~:text=When%20you%20need%20to%20customize,running%20your%20own%20learning%20algorithm.\n",
    "\n",
    "class GAN(Model):\n",
    "    def __init__(self, generator, discriminator, *args, **kwargs):\n",
    "        # Pass through args and kwargs to base class\n",
    "        super().__init__(*args, **kwargs)\n",
    "\n",
    "        # Create attributes for gen and disc\n",
    "        self.generator = generator\n",
    "        self.discriminator = discriminator\n",
    "\n",
    "    def compile(self, opt_g, opt_d, loss_g, loss_d, *args, **kwargs):\n",
    "        # Compile with base class\n",
    "        super().compile(*args, **kwargs)\n",
    "\n",
    "        # Create attributes for losses and optimizers\n",
    "        self.opt_g = opt_g\n",
    "        self.opt_d = opt_d\n",
    "        self.loss_g = loss_g\n",
    "        self.loss_d = loss_d\n",
    "\n",
    "    @tf.function\n",
    "    def train_step(self, dataset):\n",
    "\n",
    "        dataset = dataset[0]\n",
    "\n",
    "        i_conditional_inputs = dataset[0]\n",
    "        i_GAN_input = dataset[1]\n",
    "        i_GAN_real = dataset[2]\n",
    "\n",
    "        # Generate samples\n",
    "        noise = tf.random.normal((len(i_conditional_inputs),16))\n",
    "        generated = self.generator((noise,i_conditional_inputs,i_GAN_input),training=False)\n",
    "\n",
    "\n",
    "        # Train the discriminator\n",
    "        with tf.GradientTape() as d_tape:\n",
    "            # Pass the real and fake symbols to the discriminator model\n",
    "            yhat_real = self.discriminator([i_conditional_inputs, i_GAN_real], training=True)\n",
    "            yhat_fake = self.discriminator([i_conditional_inputs, generated], training=True)\n",
    "            yhat_realfake = tf.concat([yhat_real, yhat_fake], axis=0)\n",
    "\n",
    "            # Create labels for real and fakes symbols\n",
    "            # We train the discriminator to identify real and fake. 0 for real and 1 as real.\n",
    "            y_realfake = tf.concat([tf.zeros_like(yhat_real), tf.ones_like(yhat_fake)], axis=0)\n",
    "\n",
    "            # Add some noise to the TRUE outputs (crucial step)\n",
    "            noise_real = 0.15*tf.random.uniform(tf.shape(yhat_real))\n",
    "            noise_fake = -0.15*tf.random.uniform(tf.shape(yhat_fake))\n",
    "            y_realfake += tf.concat([noise_real, noise_fake], axis=0)\n",
    "\n",
    "            # Calculate loss\n",
    "            total_loss_d = self.loss_d(y_realfake, yhat_realfake)\n",
    "\n",
    "        # Apply backpropagation\n",
    "        dgrad = d_tape.gradient(total_loss_d, self.discriminator.trainable_variables)\n",
    "        self.opt_d.apply_gradients(zip(dgrad, self.discriminator.trainable_variables))\n",
    "\n",
    "        # Train the generator\n",
    "        with tf.GradientTape() as g_tape:\n",
    "            # Generate symbols\n",
    "            noise2 = tf.random.normal((len(i_conditional_inputs),16))\n",
    "            generated = self.generator((noise2,i_conditional_inputs,i_GAN_input),training=True)\n",
    "\n",
    "\n",
    "            # Create the predicted labels\n",
    "            predicted_labels = self.discriminator([i_conditional_inputs, generated], training=False)\n",
    "\n",
    "            # Calculate loss - trick to training to fake out the discriminator\n",
    "            total_loss_g = self.loss_g(tf.zeros_like(predicted_labels), predicted_labels)\n",
    "\n",
    "        # Apply backpropagation\n",
    "        ggrad = g_tape.gradient(total_loss_g, self.generator.trainable_variables)\n",
    "        self.opt_g.apply_gradients(zip(ggrad, self.generator.trainable_variables))\n",
    "\n",
    "        return {\"loss_d\":total_loss_d, \"loss_g\":total_loss_g}\n"
   ]
  },
  {
   "cell_type": "code",
   "execution_count": null,
   "id": "c7bf3633",
   "metadata": {
    "ExecuteTime": {
     "end_time": "2024-03-26T08:33:19.068240Z",
     "start_time": "2024-03-26T08:33:19.052090Z"
    },
    "id": "c7bf3633"
   },
   "outputs": [],
   "source": []
  },
  {
   "cell_type": "code",
   "execution_count": null,
   "id": "4a323cec",
   "metadata": {
    "ExecuteTime": {
     "end_time": "2024-03-26T08:33:20.175599Z",
     "start_time": "2024-03-26T08:33:20.161142Z"
    },
    "colab": {
     "base_uri": "https://localhost:8080/"
    },
    "id": "4a323cec",
    "outputId": "92c4041f-cfa5-4585-c233-db29449b1fcd"
   },
   "outputs": [
    {
     "data": {
      "text/plain": [
       "3"
      ]
     },
     "execution_count": 38,
     "metadata": {},
     "output_type": "execute_result"
    }
   ],
   "source": [
    "len(dataset)"
   ]
  },
  {
   "cell_type": "code",
   "execution_count": null,
   "id": "f8fa185d",
   "metadata": {
    "ExecuteTime": {
     "end_time": "2024-03-26T11:07:16.587600Z",
     "start_time": "2024-03-26T11:07:16.578497Z"
    },
    "id": "f8fa185d"
   },
   "outputs": [],
   "source": [
    "history_coll = {\"loss_d\":[],\"loss_g\":[]}"
   ]
  },
  {
   "cell_type": "code",
   "execution_count": null,
   "id": "999b601b",
   "metadata": {
    "ExecuteTime": {
     "end_time": "2024-03-26T11:16:56.280195Z",
     "start_time": "2024-03-26T11:15:06.710863Z"
    },
    "colab": {
     "base_uri": "https://localhost:8080/"
    },
    "id": "999b601b",
    "outputId": "5c8148d4-e98f-468d-fb41-c70af4125261",
    "scrolled": true
   },
   "outputs": [
    {
     "name": "stdout",
     "output_type": "stream",
     "text": [
      "Epoch 1/100\n",
      "1975/1975 [==============================] - 10s 4ms/step - loss_d: 0.7031 - loss_g: 0.6844\n",
      "Epoch 2/100\n",
      "1975/1975 [==============================] - 8s 4ms/step - loss_d: 0.6951 - loss_g: 0.6906\n",
      "Epoch 3/100\n",
      "1975/1975 [==============================] - 7s 4ms/step - loss_d: 0.6934 - loss_g: 0.6931\n",
      "Epoch 4/100\n",
      "1975/1975 [==============================] - 8s 4ms/step - loss_d: 0.6932 - loss_g: 0.6933\n",
      "Epoch 5/100\n",
      "1975/1975 [==============================] - 8s 4ms/step - loss_d: 0.6932 - loss_g: 0.6934\n",
      "Epoch 6/100\n",
      "1975/1975 [==============================] - 7s 4ms/step - loss_d: 0.6932 - loss_g: 0.6936\n",
      "Epoch 7/100\n",
      "1975/1975 [==============================] - 8s 4ms/step - loss_d: 0.6932 - loss_g: 0.6937\n",
      "Epoch 8/100\n",
      "1975/1975 [==============================] - 8s 4ms/step - loss_d: 0.6932 - loss_g: 0.6935\n",
      "Epoch 9/100\n",
      "1975/1975 [==============================] - 7s 4ms/step - loss_d: 0.6932 - loss_g: 0.6933\n",
      "Epoch 10/100\n",
      "1975/1975 [==============================] - 9s 5ms/step - loss_d: 0.6932 - loss_g: 0.6933\n",
      "Epoch 11/100\n",
      "1975/1975 [==============================] - 8s 4ms/step - loss_d: 0.6932 - loss_g: 0.6934\n",
      "Epoch 12/100\n",
      "1975/1975 [==============================] - 8s 4ms/step - loss_d: 0.6932 - loss_g: 0.6934\n",
      "Epoch 13/100\n",
      "1975/1975 [==============================] - 8s 4ms/step - loss_d: 0.6932 - loss_g: 0.6933\n",
      "Epoch 14/100\n",
      "1975/1975 [==============================] - 9s 4ms/step - loss_d: 0.6932 - loss_g: 0.6933\n",
      "Epoch 15/100\n",
      "1975/1975 [==============================] - 8s 4ms/step - loss_d: 0.6932 - loss_g: 0.6933\n",
      "Epoch 16/100\n",
      "1975/1975 [==============================] - 8s 4ms/step - loss_d: 0.6932 - loss_g: 0.6932\n",
      "Epoch 17/100\n",
      "1975/1975 [==============================] - 8s 4ms/step - loss_d: 0.6932 - loss_g: 0.6933\n",
      "Epoch 18/100\n",
      "1975/1975 [==============================] - 7s 4ms/step - loss_d: 0.6932 - loss_g: 0.6932\n",
      "Epoch 19/100\n",
      "1975/1975 [==============================] - 8s 4ms/step - loss_d: 0.6932 - loss_g: 0.6932\n",
      "Epoch 20/100\n",
      "1975/1975 [==============================] - 8s 4ms/step - loss_d: 0.6932 - loss_g: 0.6932\n",
      "Epoch 21/100\n",
      "1975/1975 [==============================] - 8s 4ms/step - loss_d: 0.6932 - loss_g: 0.6933\n",
      "Epoch 22/100\n",
      "1975/1975 [==============================] - 8s 4ms/step - loss_d: 0.6932 - loss_g: 0.6932\n",
      "Epoch 23/100\n",
      "1975/1975 [==============================] - 7s 4ms/step - loss_d: 0.6932 - loss_g: 0.6932\n",
      "Epoch 24/100\n",
      "1975/1975 [==============================] - 8s 4ms/step - loss_d: 0.6932 - loss_g: 0.6933\n",
      "Epoch 25/100\n",
      "1975/1975 [==============================] - 8s 4ms/step - loss_d: 0.6932 - loss_g: 0.6932\n",
      "Epoch 26/100\n",
      "1975/1975 [==============================] - 7s 4ms/step - loss_d: 0.6932 - loss_g: 0.6931\n",
      "Epoch 27/100\n",
      "1975/1975 [==============================] - 8s 4ms/step - loss_d: 0.6932 - loss_g: 0.6933\n",
      "Epoch 28/100\n",
      "1975/1975 [==============================] - 12s 6ms/step - loss_d: 0.6932 - loss_g: 0.6931\n",
      "Epoch 29/100\n",
      "1975/1975 [==============================] - 8s 4ms/step - loss_d: 0.6932 - loss_g: 0.6933\n",
      "Epoch 30/100\n",
      "1975/1975 [==============================] - 7s 4ms/step - loss_d: 0.6932 - loss_g: 0.6931\n",
      "Epoch 31/100\n",
      "1975/1975 [==============================] - 8s 4ms/step - loss_d: 0.6932 - loss_g: 0.6932\n",
      "Epoch 32/100\n",
      "1975/1975 [==============================] - 8s 4ms/step - loss_d: 0.6932 - loss_g: 0.6931\n",
      "Epoch 33/100\n",
      "1975/1975 [==============================] - 8s 4ms/step - loss_d: 0.6932 - loss_g: 0.6932\n",
      "Epoch 34/100\n",
      "1975/1975 [==============================] - 8s 4ms/step - loss_d: 0.6932 - loss_g: 0.6932\n",
      "Epoch 35/100\n",
      "1975/1975 [==============================] - 8s 4ms/step - loss_d: 0.6932 - loss_g: 0.6932\n",
      "Epoch 36/100\n",
      "1975/1975 [==============================] - 8s 4ms/step - loss_d: 0.6932 - loss_g: 0.6932\n",
      "Epoch 37/100\n",
      "1975/1975 [==============================] - 8s 4ms/step - loss_d: 0.6932 - loss_g: 0.6931\n",
      "Epoch 38/100\n",
      "1975/1975 [==============================] - 7s 4ms/step - loss_d: 0.6932 - loss_g: 0.6933\n",
      "Epoch 39/100\n",
      "1975/1975 [==============================] - 8s 4ms/step - loss_d: 0.6932 - loss_g: 0.6932\n",
      "Epoch 40/100\n",
      "1975/1975 [==============================] - 8s 4ms/step - loss_d: 0.6932 - loss_g: 0.6932\n",
      "Epoch 41/100\n",
      "1975/1975 [==============================] - 7s 4ms/step - loss_d: 0.6932 - loss_g: 0.6931\n",
      "Epoch 42/100\n",
      "1975/1975 [==============================] - 8s 4ms/step - loss_d: 0.6932 - loss_g: 0.6932\n",
      "Epoch 43/100\n",
      "1975/1975 [==============================] - 8s 4ms/step - loss_d: 0.6932 - loss_g: 0.6931\n",
      "Epoch 44/100\n",
      "1975/1975 [==============================] - 7s 4ms/step - loss_d: 0.6932 - loss_g: 0.6932\n",
      "Epoch 45/100\n",
      "1975/1975 [==============================] - 8s 4ms/step - loss_d: 0.6932 - loss_g: 0.6931\n",
      "Epoch 46/100\n",
      "1975/1975 [==============================] - 8s 4ms/step - loss_d: 0.6932 - loss_g: 0.6931\n",
      "Epoch 47/100\n",
      "1975/1975 [==============================] - 7s 4ms/step - loss_d: 0.6932 - loss_g: 0.6932\n",
      "Epoch 48/100\n",
      "1975/1975 [==============================] - 8s 4ms/step - loss_d: 0.6932 - loss_g: 0.6933\n",
      "Epoch 49/100\n",
      "1975/1975 [==============================] - 8s 4ms/step - loss_d: 0.6932 - loss_g: 0.6932\n",
      "Epoch 50/100\n",
      "1975/1975 [==============================] - 8s 4ms/step - loss_d: 0.6932 - loss_g: 0.6933\n",
      "Epoch 51/100\n",
      "1975/1975 [==============================] - 8s 4ms/step - loss_d: 0.6932 - loss_g: 0.6932\n",
      "Epoch 52/100\n",
      "1975/1975 [==============================] - 8s 4ms/step - loss_d: 0.6932 - loss_g: 0.6931\n",
      "Epoch 53/100\n",
      "1975/1975 [==============================] - 8s 4ms/step - loss_d: 0.6932 - loss_g: 0.6931\n",
      "Epoch 54/100\n",
      "1975/1975 [==============================] - 9s 4ms/step - loss_d: 0.6932 - loss_g: 0.6932\n",
      "Epoch 55/100\n",
      "1975/1975 [==============================] - 8s 4ms/step - loss_d: 0.6932 - loss_g: 0.6931\n",
      "Epoch 56/100\n",
      "1975/1975 [==============================] - 9s 5ms/step - loss_d: 0.6932 - loss_g: 0.6930\n",
      "Epoch 57/100\n",
      "1975/1975 [==============================] - 10s 5ms/step - loss_d: 0.6932 - loss_g: 0.6930\n",
      "Epoch 58/100\n",
      "1975/1975 [==============================] - 8s 4ms/step - loss_d: 0.6932 - loss_g: 0.6932\n",
      "Epoch 59/100\n",
      "1975/1975 [==============================] - 7s 4ms/step - loss_d: 0.6932 - loss_g: 0.6932\n",
      "Epoch 60/100\n",
      "1975/1975 [==============================] - 8s 4ms/step - loss_d: 0.6932 - loss_g: 0.6930\n",
      "Epoch 61/100\n",
      "1975/1975 [==============================] - 8s 4ms/step - loss_d: 0.6932 - loss_g: 0.6931\n",
      "Epoch 62/100\n",
      "1975/1975 [==============================] - 8s 4ms/step - loss_d: 0.6932 - loss_g: 0.6933\n",
      "Epoch 63/100\n",
      "1975/1975 [==============================] - 8s 4ms/step - loss_d: 0.6932 - loss_g: 0.6931\n",
      "Epoch 64/100\n",
      "1975/1975 [==============================] - 8s 4ms/step - loss_d: 0.6932 - loss_g: 0.6932\n",
      "Epoch 65/100\n",
      "1975/1975 [==============================] - 8s 4ms/step - loss_d: 0.6932 - loss_g: 0.6933\n",
      "Epoch 66/100\n",
      "1975/1975 [==============================] - 8s 4ms/step - loss_d: 0.6932 - loss_g: 0.6931\n",
      "Epoch 67/100\n",
      "1975/1975 [==============================] - 8s 4ms/step - loss_d: 0.6932 - loss_g: 0.6932\n",
      "Epoch 68/100\n",
      "1975/1975 [==============================] - 8s 4ms/step - loss_d: 0.6932 - loss_g: 0.6930\n",
      "Epoch 69/100\n",
      "1975/1975 [==============================] - 8s 4ms/step - loss_d: 0.6932 - loss_g: 0.6932\n",
      "Epoch 70/100\n",
      "1975/1975 [==============================] - 9s 4ms/step - loss_d: 0.6932 - loss_g: 0.6931\n",
      "Epoch 71/100\n",
      "1975/1975 [==============================] - 7s 4ms/step - loss_d: 0.6932 - loss_g: 0.6933\n",
      "Epoch 72/100\n",
      "1975/1975 [==============================] - 8s 4ms/step - loss_d: 0.6932 - loss_g: 0.6932\n",
      "Epoch 73/100\n",
      "1975/1975 [==============================] - 10s 5ms/step - loss_d: 0.6932 - loss_g: 0.6932\n",
      "Epoch 74/100\n",
      "1975/1975 [==============================] - 8s 4ms/step - loss_d: 0.6932 - loss_g: 0.6933\n",
      "Epoch 75/100\n",
      "1975/1975 [==============================] - 8s 4ms/step - loss_d: 0.6932 - loss_g: 0.6931\n",
      "Epoch 76/100\n",
      "1975/1975 [==============================] - 8s 4ms/step - loss_d: 0.6932 - loss_g: 0.6932\n",
      "Epoch 77/100\n",
      "1975/1975 [==============================] - 8s 4ms/step - loss_d: 0.6932 - loss_g: 0.6933\n",
      "Epoch 78/100\n",
      "1975/1975 [==============================] - 8s 4ms/step - loss_d: 0.6932 - loss_g: 0.6930\n",
      "Epoch 79/100\n",
      "1975/1975 [==============================] - 8s 4ms/step - loss_d: 0.6932 - loss_g: 0.6932\n",
      "Epoch 80/100\n",
      "1975/1975 [==============================] - 8s 4ms/step - loss_d: 0.6932 - loss_g: 0.6931\n",
      "Epoch 81/100\n",
      "1975/1975 [==============================] - 8s 4ms/step - loss_d: 0.6932 - loss_g: 0.6930\n",
      "Epoch 82/100\n",
      "1975/1975 [==============================] - 8s 4ms/step - loss_d: 0.6932 - loss_g: 0.6931\n",
      "Epoch 83/100\n",
      "1975/1975 [==============================] - 7s 4ms/step - loss_d: 0.6932 - loss_g: 0.6931\n",
      "Epoch 84/100\n",
      "1975/1975 [==============================] - 8s 4ms/step - loss_d: 0.6932 - loss_g: 0.6930\n",
      "Epoch 85/100\n",
      "1975/1975 [==============================] - 8s 4ms/step - loss_d: 0.6932 - loss_g: 0.6932\n",
      "Epoch 86/100\n",
      "1975/1975 [==============================] - 7s 4ms/step - loss_d: 0.6932 - loss_g: 0.6930\n",
      "Epoch 87/100\n",
      "1975/1975 [==============================] - 8s 4ms/step - loss_d: 0.6931 - loss_g: 0.6932\n",
      "Epoch 88/100\n",
      "1975/1975 [==============================] - 8s 4ms/step - loss_d: 0.6932 - loss_g: 0.6931\n",
      "Epoch 89/100\n",
      "1975/1975 [==============================] - 8s 4ms/step - loss_d: 0.6931 - loss_g: 0.6933\n",
      "Epoch 90/100\n",
      "1975/1975 [==============================] - 8s 4ms/step - loss_d: 0.6931 - loss_g: 0.6932\n",
      "Epoch 91/100\n",
      "1975/1975 [==============================] - 8s 4ms/step - loss_d: 0.6932 - loss_g: 0.6933\n",
      "Epoch 92/100\n",
      "1975/1975 [==============================] - 8s 4ms/step - loss_d: 0.6931 - loss_g: 0.6933\n",
      "Epoch 93/100\n",
      "1975/1975 [==============================] - 8s 4ms/step - loss_d: 0.6932 - loss_g: 0.6931\n",
      "Epoch 94/100\n",
      "1975/1975 [==============================] - 8s 4ms/step - loss_d: 0.6932 - loss_g: 0.6933\n",
      "Epoch 95/100\n",
      "1975/1975 [==============================] - 8s 4ms/step - loss_d: 0.6932 - loss_g: 0.6932\n",
      "Epoch 96/100\n",
      "1975/1975 [==============================] - 8s 4ms/step - loss_d: 0.6932 - loss_g: 0.6931\n",
      "Epoch 97/100\n",
      "1975/1975 [==============================] - 8s 4ms/step - loss_d: 0.6931 - loss_g: 0.6932\n",
      "Epoch 98/100\n",
      "1975/1975 [==============================] - 8s 4ms/step - loss_d: 0.6932 - loss_g: 0.6933\n",
      "Epoch 99/100\n",
      "1975/1975 [==============================] - 8s 4ms/step - loss_d: 0.6932 - loss_g: 0.6930\n",
      "Epoch 100/100\n",
      "1975/1975 [==============================] - 8s 4ms/step - loss_d: 0.6931 - loss_g: 0.6931\n"
     ]
    }
   ],
   "source": [
    "N_epochs = 100\n",
    "batch_size = 320\n",
    "#run = wandb.init(project=\"CGAN for Wirless autoencoder\", entity=\"matusstas\")\n",
    "\n",
    "# Initialize optimizers# Initialize losses# Initialize models\n",
    "opt_g = Adam(learning_rate=0.001, beta_1=0.5)\n",
    "opt_d = Adam(learning_rate=0.0001, beta_1=0.5)\n",
    "\n",
    "# Initialize losses\n",
    "loss_g = BinaryCrossentropy()\n",
    "loss_d = BinaryCrossentropy()\n",
    "\n",
    "# Initialize models\n",
    "generator = build_generator()\n",
    "discriminator = build_discriminator()\n",
    "gan = GAN(generator, discriminator)\n",
    "gan.compile(opt_g, opt_d, loss_g, loss_d)\n",
    "\n",
    "\n",
    "history = gan.fit(dataset, batch_size= batch_size,epochs=N_epochs)\n",
    "\n",
    "history_coll[\"loss_d\"] +=  (history.history)[\"loss_d\"]\n",
    "history_coll[\"loss_g\"] +=  (history.history)[\"loss_g\"]\n"
   ]
  },
  {
   "cell_type": "code",
   "execution_count": null,
   "id": "d32e2737",
   "metadata": {
    "ExecuteTime": {
     "end_time": "2024-03-26T11:16:56.743158Z",
     "start_time": "2024-03-26T11:16:56.503730Z"
    },
    "colab": {
     "base_uri": "https://localhost:8080/",
     "height": 430
    },
    "id": "d32e2737",
    "outputId": "f2ebb70f-b0c6-4032-ac87-0f39a01edf66"
   },
   "outputs": [
    {
     "data": {
      "image/png": "[encoded data removed]",
      "text/plain": [
       "<Figure size 640x480 with 1 Axes>"
      ]
     },
     "metadata": {},
     "output_type": "display_data"
    }
   ],
   "source": [
    "ifg,ax = plt.subplots(1)\n",
    "ax.plot(history_coll[\"loss_g\"],label=\"loss_g\")\n",
    "ax.plot(history_coll[\"loss_d\"],label=\"loss_d\")\n",
    "\n",
    "plt.grid();plt.legend();plt.show()"
   ]
  },
  {
   "cell_type": "code",
   "execution_count": null,
   "id": "60ea1e67",
   "metadata": {
    "ExecuteTime": {
     "end_time": "2024-03-26T11:20:02.844520Z",
     "start_time": "2024-03-26T11:20:02.831205Z"
    },
    "colab": {
     "base_uri": "https://localhost:8080/"
    },
    "id": "60ea1e67",
    "outputId": "1ec05a3a-1d16-465a-b75d-f194996c4d88"
   },
   "outputs": [
    {
     "data": {
      "text/plain": [
       "3"
      ]
     },
     "execution_count": 42,
     "metadata": {},
     "output_type": "execute_result"
    }
   ],
   "source": [
    "# original dataset we make\n",
    "len(dataset)\n"
   ]
  },
  {
   "cell_type": "code",
   "execution_count": null,
   "id": "8d2dbfc5",
   "metadata": {
    "ExecuteTime": {
     "end_time": "2024-03-26T11:21:13.539269Z",
     "start_time": "2024-03-26T11:21:13.523587Z"
    },
    "colab": {
     "base_uri": "https://localhost:8080/"
    },
    "id": "8d2dbfc5",
    "outputId": "6696f438-3200-44db-bda0-93045b1cf552"
   },
   "outputs": [
    {
     "data": {
      "text/plain": [
       "((632000, 16), (632000, 2), (632000, 2))"
      ]
     },
     "execution_count": 43,
     "metadata": {},
     "output_type": "execute_result"
    }
   ],
   "source": [
    "i_conditional_inputs.shape,i_GAN_input.shape,i_GAN_real.shape"
   ]
  },
  {
   "cell_type": "markdown",
   "id": "csExXsucreVU",
   "metadata": {
    "id": "csExXsucreVU"
   },
   "source": [
    "## Macro test"
   ]
  },
  {
   "cell_type": "code",
   "execution_count": null,
   "id": "0b0ac623",
   "metadata": {
    "ExecuteTime": {
     "end_time": "2024-03-26T11:25:39.970555Z",
     "start_time": "2024-03-26T11:25:39.843688Z"
    },
    "colab": {
     "base_uri": "https://localhost:8080/"
    },
    "id": "0b0ac623",
    "outputId": "5a7442cf-f2f1-4416-fc65-8bdd0dc98fcc"
   },
   "outputs": [
    {
     "name": "stdout",
     "output_type": "stream",
     "text": [
      "tf.Tensor(0.0001802017490946416, shape=(), dtype=float64) tf.Tensor(1.9966793218498837, shape=(), dtype=float64)\n",
      "tf.Tensor(-0.44294575, shape=(), dtype=float32) tf.Tensor(0.9428554, shape=(), dtype=float32)\n",
      "tf.Tensor(0.44312593, shape=(), dtype=float32) tf.Tensor(2.9382074, shape=(), dtype=float32)\n"
     ]
    }
   ],
   "source": [
    "# test the generator\n",
    "# generate samples\n",
    "# i_conditional_inputs,i_GAN_input,i_GAN_real = dataset\n",
    "\n",
    "noise = tf.random.normal((len(i_conditional_inputs),16))\n",
    "generated = generator((noise,i_conditional_inputs,i_GAN_input),training=False)\n",
    "\n",
    "\n",
    "print(tf.reduce_mean((i_GAN_real)),tf.reduce_mean((i_GAN_real)**2))\n",
    "\n",
    "print(tf.reduce_mean((generated)),tf.reduce_mean((generated)**2))\n",
    "\n",
    "print(tf.reduce_mean((i_GAN_real-generated)),tf.reduce_mean((i_GAN_real-generated)**2))"
   ]
  },
  {
   "cell_type": "code",
   "execution_count": null,
   "id": "U8GaFl5tnkux",
   "metadata": {
    "colab": {
     "base_uri": "https://localhost:8080/"
    },
    "id": "U8GaFl5tnkux",
    "outputId": "c2a425fe-b0d9-46e5-eeb6-002fa50ecd2a"
   },
   "outputs": [
    {
     "name": "stdout",
     "output_type": "stream",
     "text": [
      "actual_diff.shape:  (632000, 2)\n",
      "imitated_diff.shape:  (632000, 2)\n"
     ]
    }
   ],
   "source": [
    "actual_diff = i_GAN_input - i_GAN_real\n",
    "imitated_diff = i_GAN_input - generated\n",
    "\n",
    "print(\"actual_diff.shape: \", actual_diff.shape)\n",
    "print(\"imitated_diff.shape: \", imitated_diff.shape)"
   ]
  },
  {
   "cell_type": "code",
   "execution_count": null,
   "id": "GTatkZoToJQI",
   "metadata": {
    "colab": {
     "base_uri": "https://localhost:8080/",
     "height": 452
    },
    "id": "GTatkZoToJQI",
    "outputId": "e6dc7d22-7b5e-4309-aaea-b73d6301b07c"
   },
   "outputs": [
    {
     "data": {
      "image/png": "[encoded data removed]",
      "text/plain": [
       "<Figure size 640x480 with 2 Axes>"
      ]
     },
     "metadata": {},
     "output_type": "display_data"
    }
   ],
   "source": [
    "# see the histogram of the real part (how channel affected)\n",
    "hist_realpart_actual = np.histogram(actual_diff[:,0],100)\n",
    "hist_realpart_imitated = np.histogram(imitated_diff[:,0],100)\n",
    "\n",
    "\n",
    "fig,ax = plt.subplots(2,sharex=True,sharey=True)\n",
    "ax[0].plot(hist_realpart_actual[1][:-1], hist_realpart_actual[0])\n",
    "ax[0].set_title(\"actual effect\")\n",
    "\n",
    "ax[1].plot(hist_realpart_imitated[1][:-1], hist_realpart_imitated[0])\n",
    "ax[1].set_title(\"GAN imitatted effect\")\n",
    "\n",
    "ax[0].grid()\n",
    "ax[1].grid()\n",
    "\n",
    "plt.show()"
   ]
  },
  {
   "cell_type": "markdown",
   "id": "sUqVWktzXmSq",
   "metadata": {
    "id": "sUqVWktzXmSq"
   },
   "source": [
    "## Wasserstein GAN with Gradient Panelty\n",
    "1. Vanilla GAN --> Cannot train\n",
    "2. Vanilla GANs most of teh time has to uffer with modal collapse"
   ]
  },
  {
   "cell_type": "code",
   "execution_count": null,
   "id": "ayrfSPeaXpas",
   "metadata": {
    "id": "ayrfSPeaXpas"
   },
   "outputs": [],
   "source": [
    "def wasserstein_loss(y_true, y_pred):\n",
    "    return tf.reduce_mean(y_true * y_pred)"
   ]
  },
  {
   "cell_type": "markdown",
   "id": "4i1yXmDdYAOw",
   "metadata": {
    "id": "4i1yXmDdYAOw"
   },
   "source": [
    "### Gradient Panelty\n",
    "Need to sample multiple points in the loss function to get a idea about gradient\n"
   ]
  },
  {
   "cell_type": "code",
   "execution_count": null,
   "id": "fNPPa2g0X76W",
   "metadata": {
    "id": "fNPPa2g0X76W"
   },
   "outputs": [],
   "source": [
    "def gradient_penalty(batch_size, real, fake, discriminator):\n",
    "    alpha = tf.random.normal([batch_size, 1, 1, 1], 0.0, 1.0)\n",
    "    diff = fake - real\n",
    "    interpolated = real + alpha * diff\n",
    "\n",
    "    with tf.GradientTape() as gp_tape:\n",
    "        gp_tape.watch(interpolated)\n",
    "        pred = discriminator(interpolated, training=True)\n",
    "\n",
    "    grads = gp_tape.gradient(pred, [interpolated])[0]\n",
    "    norm = tf.sqrt(tf.reduce_sum(tf.square(grads), axis=[1, 2, 3]))\n",
    "    gp = tf.reduce_mean((norm - 1.0) ** 2)\n",
    "\n",
    "    return gp\n"
   ]
  },
  {
   "cell_type": "code",
   "execution_count": null,
   "id": "KUqkJEp3YXqY",
   "metadata": {
    "ExecuteTime": {
     "end_time": "2024-04-13T03:09:26.344079Z",
     "start_time": "2024-04-13T03:09:25.972391Z"
    },
    "id": "KUqkJEp3YXqY"
   },
   "outputs": [],
   "source": [
    "##########\n",
    "# 1 Discriminator --> Only change the final activation (remove the activation)\n",
    "# 2 How to know normal discriminator works as a critc?\n",
    "# 3 \n",
    "########\n",
    "\n",
    "lambda_gp = 10.0  # gradient penalty weight\n",
    "\n",
    "# optimizers\n",
    "opt_g = Adam(learning_rate=0.001, beta_1=0.5)\n",
    "opt_d = Adam(learning_rate=0.0001, beta_1=0.5)\n",
    "\n",
    "# models remain the same\n",
    "generator_WGAN = build_generator()\n",
    "discriminator_WGAN = build_discriminator()\n",
    "\n",
    "\n",
    "# custom training step to include Wasserstein loss and gradient penalty\n",
    "class WGANGP(Model):\n",
    "    def __init__(self, generator, discriminator, **kwargs):\n",
    "        super(WGANGP, self).__init__(**kwargs)\n",
    "        self.generator = generator\n",
    "        self.discriminator = discriminator\n",
    "\n",
    "    def compile(self, g_optimizer, d_optimizer, g_loss_fn, d_loss_fn, **kwargs):\n",
    "        super(WGANGP, self).compile(**kwargs)\n",
    "        self.g_optimizer = g_optimizer\n",
    "        self.d_optimizer = d_optimizer\n",
    "        self.g_loss_fn = g_loss_fn\n",
    "        self.d_loss_fn = d_loss_fn\n",
    "\n",
    "    def train_step(self, real_images):\n",
    "        if isinstance(real_images, tuple):\n",
    "            real_images = real_images[0]\n",
    "\n",
    "        batch_size = tf.shape(real_images)[0]\n",
    "\n",
    "        # train discriminator (critic)\n",
    "        random_latent_vectors = tf.random.normal(shape=(batch_size, self.latent_dim))\n",
    "        with tf.GradientTape() as tape:\n",
    "            fake_images = self.generator(random_latent_vectors, training=True)\n",
    "            fake_logits = self.discriminator(fake_images, training=True)\n",
    "            real_logits = self.discriminator(real_images, training=True)\n",
    "            d_cost = self.d_loss_fn(tf.ones_like(real_logits), real_logits) + \\\n",
    "                     self.d_loss_fn(-tf.ones_like(fake_logits), fake_logits)\n",
    "            gp = gradient_penalty(batch_size, real_images, fake_images, self.discriminator)\n",
    "            d_loss = d_cost + lambda_gp * gp\n",
    "\n",
    "        d_grads = tape.gradient(d_loss, self.discriminator.trainable_variables)\n",
    "        self.d_optimizer.apply_gradients(zip(d_grads, self.discriminator.trainable_variables))\n",
    "\n",
    "        # train generator\n",
    "        random_latent_vectors = tf.random.normal(shape=(batch_size, self.latent_dim))\n",
    "        with tf.GradientTape() as tape:\n",
    "            generated_images = self.generator(random_latent_vectors, training=True)\n",
    "            gen_img_logits = self.discriminator(generated_images, training=True)\n",
    "            g_loss = self.g_loss_fn(-tf.ones_like(gen_img_logits), gen_img_logits)\n",
    "\n",
    "        g_grads = tape.gradient(g_loss, self.generator.trainable_variables)\n",
    "        self.g_optimizer.apply_gradients(zip(g_grads, self.generator.trainable_variables))\n",
    "\n",
    "        return {'d_loss': d_loss, 'g_loss': g_loss}\n",
    "\n",
    "# compile the model\n",
    "gan = WGANGP(generator_WGAN, discriminator_WGAN)\n",
    "gan.summary()\n",
    "gan.compile(\n",
    "    g_optimizer=opt_g,\n",
    "    d_optimizer=opt_d,\n",
    "    g_loss_fn=wasserstein_loss,\n",
    "    d_loss_fn=wasserstein_loss,\n",
    ")\n",
    "\n",
    "# training\n",
    "history = gan.fit(dataset, batch_size=batch_size, epochs=N_epochs)\n"
   ]
  },
  {
   "cell_type": "markdown",
   "id": "899pq7_DZS5t",
   "metadata": {
    "id": "899pq7_DZS5t"
   },
   "source": [
    "## Macro test - WGAN with GP"
   ]
  },
  {
   "cell_type": "code",
   "execution_count": null,
   "id": "P7-5kFbHZXyc",
   "metadata": {
    "colab": {
     "base_uri": "https://localhost:8080/",
     "height": 211
    },
    "id": "P7-5kFbHZXyc",
    "outputId": "a008e479-b4a6-4712-8a6f-d8226da51da2"
   },
   "outputs": [],
   "source": [
    "# test the generator\n",
    "# generate samples\n",
    "# i_conditional_inputs,i_GAN_input,i_GAN_real = dataset\n",
    "\n",
    "noise = tf.random.normal((len(i_conditional_inputs),16))\n",
    "generated = generator_WGAN((noise,i_conditional_inputs,i_GAN_input),training=False)\n",
    "\n",
    "\n",
    "print(tf.reduce_mean((i_GAN_real)),tf.reduce_mean((i_GAN_real)**2))\n",
    "\n",
    "print(tf.reduce_mean((generated)),tf.reduce_mean((generated)**2))\n",
    "\n",
    "print(tf.reduce_mean((i_GAN_real-generated)),tf.reduce_mean((i_GAN_real-generated)**2))"
   ]
  },
  {
   "cell_type": "code",
   "execution_count": null,
   "id": "YA05_akTZchU",
   "metadata": {
    "id": "YA05_akTZchU"
   },
   "outputs": [],
   "source": [
    "actual_diff = i_GAN_input - i_GAN_real\n",
    "imitated_diff = i_GAN_input - generated\n",
    "\n",
    "print(\"actual_diff.shape: \", actual_diff.shape)\n",
    "print(\"imitated_diff.shape: \", imitated_diff.shape)"
   ]
  },
  {
   "cell_type": "code",
   "execution_count": null,
   "id": "bpanVNGeZpCW",
   "metadata": {
    "id": "bpanVNGeZpCW"
   },
   "outputs": [],
   "source": [
    "# see the histogram of the real part (how channel affected)\n",
    "hist_realpart_actual = np.histogram(actual_diff[:,0],100)\n",
    "hist_realpart_imitated = np.histogram(imitated_diff[:,0],100)\n",
    "\n",
    "\n",
    "fig,ax = plt.subplots(2,sharex=True,sharey=True)\n",
    "ax[0].plot(hist_realpart_actual[1][:-1], hist_realpart_actual[0])\n",
    "ax[0].set_title(\"actual effect\")\n",
    "\n",
    "ax[1].plot(hist_realpart_imitated[1][:-1], hist_realpart_imitated[0])\n",
    "ax[1].set_title(\"GAN imitatted effect\")\n",
    "\n",
    "ax[0].grid()\n",
    "ax[1].grid()\n",
    "\n",
    "plt.show()"
   ]
  }
 ],
 "metadata": {
  "accelerator": "GPU",
  "colab": {
   "gpuType": "T4",
   "provenance": []
  },
  "kernelspec": {
   "display_name": "Python 3 (ipykernel)",
   "language": "python",
   "name": "python3"
  },
  "language_info": {
   "codemirror_mode": {
    "name": "ipython",
    "version": 3
   },
   "file_extension": ".py",
   "mimetype": "text/x-python",
   "name": "python",
   "nbconvert_exporter": "python",
   "pygments_lexer": "ipython3",
   "version": "3.11.4"
  },
  "latex_envs": {
   "LaTeX_envs_menu_present": true,
   "autoclose": false,
   "autocomplete": true,
   "bibliofile": "biblio.bib",
   "cite_by": "apalike",
   "current_citInitial": 1,
   "eqLabelWithNumbers": true,
   "eqNumInitial": 1,
   "hotkeys": {
    "equation": "Ctrl-E",
    "itemize": "Ctrl-I"
   },
   "labels_anchors": false,
   "latex_user_defs": false,
   "report_style_numbering": false,
   "user_envs_cfg": false
  },
  "toc": {
   "base_numbering": 1,
   "nav_menu": {},
   "number_sections": true,
   "sideBar": true,
   "skip_h1_title": false,
   "title_cell": "Table of Contents",
   "title_sidebar": "Contents",
   "toc_cell": false,
   "toc_position": {},
   "toc_section_display": true,
   "toc_window_display": false
  },
  "varInspector": {
   "cols": {
    "lenName": 16,
    "lenType": 16,
    "lenVar": 40
   },
   "kernels_config": {
    "python": {
     "delete_cmd_postfix": "",
     "delete_cmd_prefix": "del ",
     "library": "var_list.py",
     "varRefreshCmd": "print(var_dic_list())"
    },
    "r": {
     "delete_cmd_postfix": ") ",
     "delete_cmd_prefix": "rm(",
     "library": "var_list.r",
     "varRefreshCmd": "cat(var_dic_list()) "
    }
   },
   "types_to_exclude": [
    "module",
    "function",
    "builtin_function_or_method",
    "instance",
    "_Feature"
   ],
   "window_display": false
  }
 },
 "nbformat": 4,
 "nbformat_minor": 5
}
