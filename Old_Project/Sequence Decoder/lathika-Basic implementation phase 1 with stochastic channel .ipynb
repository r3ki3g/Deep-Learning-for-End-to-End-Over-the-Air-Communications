{
 "cells": [
  {
   "cell_type": "markdown",
   "id": "995c6fe9",
   "metadata": {},
   "source": [
    "## Dataset generation for GAN to learn NAKAGAMI channels"
   ]
  },
  {
   "cell_type": "code",
   "execution_count": 1,
   "id": "c6ae15a9",
   "metadata": {
    "ExecuteTime": {
     "end_time": "2024-04-21T07:02:04.995728Z",
     "start_time": "2024-04-21T07:01:57.728921Z"
    }
   },
   "outputs": [],
   "source": [
    "import numpy as np\n",
    "import matplotlib.pyplot as plt\n",
    "import tensorflow as tf\n",
    "import keras\n",
    "import pandas as pd\n",
    "\n",
    "from keras.layers import Dense\n",
    "from keras.models import Sequential,Model\n",
    "from scipy.stats import nakagami\n",
    "\n",
    "from tensorflow.keras.optimizers import Adam\n"
   ]
  },
  {
   "cell_type": "code",
   "execution_count": 2,
   "id": "a95fdb37",
   "metadata": {
    "ExecuteTime": {
     "end_time": "2024-04-21T07:02:05.027444Z",
     "start_time": "2024-04-21T07:02:05.012845Z"
    }
   },
   "outputs": [],
   "source": [
    "# Variables Initialization\n",
    "\n",
    "k = 4\n",
    "M = 2**k\n",
    "NUM_CHANNEL_USES = 1\n",
    "block_size = 320\n",
    "\n",
    "model_training_num_of_frames = 10**3#10**4\n",
    "model_validating_num_of_frames = 10**2#10**3\n",
    "\n",
    "n_train = block_size * model_training_num_of_frames\n",
    "n_val   = block_size * model_validating_num_of_frames\n",
    "\n",
    "# Geanerating dataset\n",
    "model_output_num_of_frames = 10**5\n",
    "n_out = block_size * model_output_num_of_frames \n",
    "\n",
    "num_epoches = 5\n"
   ]
  },
  {
   "cell_type": "code",
   "execution_count": 3,
   "id": "fad0f7e3",
   "metadata": {
    "ExecuteTime": {
     "end_time": "2024-04-21T07:02:05.074596Z",
     "start_time": "2024-04-21T07:02:05.043621Z"
    }
   },
   "outputs": [],
   "source": [
    "    \n",
    "class L2Normalization(tf.keras.layers.Layer):\n",
    "    def __init__(self,**kwargs):\n",
    "        \n",
    "        super(L2Normalization, self).__init__(**kwargs)\n",
    "\n",
    "    def call(self, inputs):\n",
    "        out = tf.nn.l2_normalize(inputs, axis=-1)\n",
    "        print(\"normalize output shape = \",out.shape)\n",
    "        return out\n",
    "\n",
    "    def get_config(self):\n",
    "        return super(L2Normalization, self).get_config()\n",
    "    \n",
    "\n",
    "def generate_nakagami_samples(m, omega):\n",
    "      \n",
    "    nakagami_amp_vec = nakagami.rvs(m,omega,size =  NUM_CHANNEL_USES)   # Same gain for the real part and the imaginary part\n",
    "    nakagami_phase_vec = np.random.uniform(low=0.0, high=2*np.pi, size = NUM_CHANNEL_USES)    # phase shift will effect the complex number\n",
    "    nakagami_for_real = np.reshape(nakagami_amp_vec*np.cos(nakagami_phase_vec),(-1,1))\n",
    "    nakagami_for_imag = np.reshape(nakagami_amp_vec*np.sin(nakagami_phase_vec),(-1,1))\n",
    "    fading_vec = np.reshape(np.concatenate((nakagami_for_real,nakagami_for_imag),axis=1),(1,-1))[0]\n",
    "    return  tf.constant(fading_vec, dtype=tf.float32)\n",
    "    \n",
    "class NakagamiNoiseLayer(tf.keras.layers.Layer):\n",
    "    def __init__(self, distribution_params, **kwargs):\n",
    "        super(NakagamiNoiseLayer, self).__init__(**kwargs)\n",
    "        self.distribution_params = distribution_params\n",
    "\n",
    "    def call(self, inputs, training=False):\n",
    "        if  1 or training:\n",
    "            fading = generate_nakagami_samples(m = self.distribution_params[\"m\"], \n",
    "                                              omega = self.distribution_params[\"omega\"]) \n",
    "            return inputs * fading\n",
    "        \n",
    "        else:\n",
    "            return inputs"
   ]
  },
  {
   "cell_type": "code",
   "execution_count": 4,
   "id": "5c30feaf",
   "metadata": {
    "ExecuteTime": {
     "end_time": "2024-04-21T07:02:09.924987Z",
     "start_time": "2024-04-21T07:02:09.890095Z"
    }
   },
   "outputs": [],
   "source": [
    "# Making the stochasticChannelLayer\n",
    "\n",
    "from scipy.stats import truncnorm\n",
    "from scipy.stats import uniform\n",
    "\n",
    "# r = 4           # For upsampling -> number of complex samples per symbol\n",
    "# roll_off = 0.35 # Roll off factor\n",
    "# L = 31          # Number of taps (odd) for RRC filter\n",
    "# f_s = 25e4 # 2e6\n",
    "# T_bound = 1/f_s # Go through the resharch paper Deep Learning Based Communication Over the Air  (content under table 1) \n",
    "# time_delay = np.random.uniform(-1,1) # To convert the time delay into discrete domain, time dilay is giving relative to the sampling period \n",
    "# CFO = 5e3\n",
    "# CFO_std = CFO/f_s\n",
    "# snr = 6\n",
    "# phase_off = uniform.rvs(scale = 2*np.pi)  # constant for one channel input\n",
    "\n",
    "channel_parameters = {\n",
    "    \"r\"        : 4,             # For upsampling -> number of complex samples per symbol\n",
    "    \"roll_off\" : 0.35,          # Roll off factor\n",
    "    \"num_taps\" : 31,            # L -> Number of taps (odd) for RRC filter\n",
    "    \"f_s\"      : 25e4,          # Add what is in the physical implementation\n",
    "    \"T_bound\"  : 1/25e4,        # 1/f_s Go through the resharch paper Deep Learning Based Communication Over the Air  (content under table 1) \n",
    "    #\"time_delay\" : np.random.uniform(-1,1), # To convert the time delay into discrete domain, time dilay is giving relative to the sampling period \n",
    "    \"CFO\"      : 5e3,           # Observe from the physical implementation\n",
    "    \"CFO_std\"  : 5e3/25e4,      # CFO/f_s\n",
    "    \"snr\"      : 6,             # noise power will be calculating assuming transmittting power of 1 \n",
    "    \"phase_off\": uniform.rvs(scale = 2*np.pi)  # constant for one channel input\n",
    "}\n",
    "\n",
    "# function to create the complex values\n",
    "def real_to_complex_tensor(inp_tensor):\n",
    "  inp_tensor = tf.reshape(inp_tensor, [-1, 2])\n",
    "  real_part = inp_tensor[:, 0]\n",
    "  imag_part = inp_tensor[:, 1]\n",
    "  complex_tensor = tf.complex(real_part, imag_part)\n",
    "  return complex_tensor\n",
    "\n",
    "def complex_to_real_tensor(inp_tensor):\n",
    "   real_part , imag_part = tf.math.real(inp_tensor), tf.math.imag(inp_tensor)\n",
    "   real_part = tf.reshape(real_part,[-1,1])\n",
    "   imag_part = tf.reshape(imag_part,[-1,1])\n",
    "   return tf.reshape(tf.concat([real_part,imag_part],1),[-1])\n",
    "\n",
    "# Upsample\n",
    "def upsampling(inp,r):\n",
    "  com_reshape = tf.reshape(inp,[-1,1])\n",
    "  padding = tf.constant([[0,0],[0,r-1]])\n",
    "  upsampled = tf.pad(com_reshape,padding,\"CONSTANT\")\n",
    "  return tf.reshape(upsampled,[-1])\n",
    "\n",
    "# Normalized RRC with time shift\n",
    "def NRRC_filter(num_taps, roll_off):\n",
    "  time_delay =  np.random.uniform(-1,1), # To convert the time delay into discrete domain, time dilay is giving relative to the sampling period \n",
    "  print(\"time_delay - \",time_delay)\n",
    "  t = np.linspace(-(num_taps-1)/2,(num_taps-1)/2,num_taps) - time_delay\n",
    "  eps = np.finfo(float).eps # Small epsilon to avoid divisiomn by zero\n",
    "  pi = np.pi\n",
    "  def RRC_filter_coff(t):\n",
    "    if abs(t) < eps:  # For t==0\n",
    "      return 1.0 - roll_off + (4*roll_off/pi)\n",
    "    elif roll_off != 0 and (abs(t-1/(4*roll_off))<eps or abs(t+1/(4*roll_off))<eps):\n",
    "      return (roll_off/np.sqrt(2))*(1 + 2/pi)*np.sin(pi/(4*roll_off)) + (1- 2/pi)*np.cos(pi/(4*roll_off))\n",
    "    else:\n",
    "      nu = np.sin(pi*t*(1-roll_off)) + 4*roll_off*t*np.cos(pi*t*(1+roll_off))\n",
    "      den = pi*t*(1-(4*roll_off*t)**2)\n",
    "      return nu/(den + eps)\n",
    "  filter_coff = np.array([RRC_filter_coff(T) for T in t])\n",
    "  NRRC_filter_coff = filter_coff / np.sum(np.abs(filter_coff))\n",
    "  plt.stem(t,NRRC_filter_coff)  # Plot for visualization\n",
    "  return tf.constant(NRRC_filter_coff,dtype = tf.float32)\n",
    "\n",
    "# Phase offset\n",
    "def PhaseOffset_vec(batch_size,NUM_CHANNEL_USES,num_taps,r,CFO_std,phase_off):\n",
    "  l = batch_size*r*NUM_CHANNEL_USES+num_taps-1\n",
    "  CFO_off = truncnorm.rvs(-1.96,1.96)*CFO_std  # boundaries will be selected for 95% confidence # 0.1*CFO_std\n",
    "  print(\"CFO_off =\",CFO_off)   \n",
    "  print(\"Phase offset = \",phase_off)                                          # CFO_min and CFO_max (boundaries) will be selected for 95% confidence\n",
    "  exp_vec = []\n",
    "  for i in range(l):\n",
    "    exp_vec.append(tf.math.exp(tf.constant([0+(2*np.pi*i*CFO_off+phase_off)*1j],dtype=tf.complex64)))\n",
    "  return tf.reshape(tf.stack(exp_vec),[-1])\n",
    "   \n",
    "\n",
    "class UpsamplingLayer(keras.layers.Layer):\n",
    "    def __init__(self, r ):\n",
    "        super().__init__()\n",
    "        self.r = r\n",
    "    def call(self,inputs):\n",
    "       return upsampling(inputs,self.r)\n",
    "    \n",
    "class PulseShaping(keras.layers.Layer): \n",
    "    def __init__(self,num_taps,roll_off):\n",
    "      super().__init__()\n",
    "      self.nrrc_filter = NRRC_filter(num_taps,roll_off)\n",
    "      self.nrrc_filter = tf.reshape(self.nrrc_filter,[num_taps,1,1])\n",
    "      self.num_taps = num_taps\n",
    "    def call(self, inputs):\n",
    "      padding_size = self.num_taps // 2\n",
    "      paddings = tf.constant([[padding_size, padding_size]])\n",
    "      real_part = tf.pad(tf.math.real(inputs), paddings, \"CONSTANT\")\n",
    "      imag_part = tf.pad(tf.math.imag(inputs), paddings, \"CONSTANT\")\n",
    "      real_part = tf.reshape(real_part,[1,-1,1])\n",
    "      imag_part = tf.reshape(imag_part,[1,-1,1])\n",
    "      real_conv = tf.nn.conv1d(real_part,self.nrrc_filter,stride=1,padding=\"SAME\")\n",
    "      imag_conv = tf.nn.conv1d(imag_part,self.nrrc_filter,stride=1,padding=\"SAME\")\n",
    "      real_conv = tf.reshape(real_conv,[-1])\n",
    "      imag_conv = tf.reshape(imag_conv,[-1])\n",
    "      return tf.complex(real_conv,imag_conv)\n",
    "\n",
    "class PhaseOffset(keras.layers.Layer):\n",
    "    def __init__(self,batch_size,NUM_CHANNEL_USES,num_taps,r,CFO_std,phase_off):\n",
    "      super().__init__()\n",
    "      self.batch_size = batch_size\n",
    "      self.num_channel_uses = NUM_CHANNEL_USES\n",
    "      self.num_taps = num_taps\n",
    "      self.r = r\n",
    "      self.CFO_std = CFO_std\n",
    "      self.phase_off = phase_off\n",
    "    def call(self,inputs):\n",
    "       return inputs * PhaseOffset_vec(self.batch_size, self.num_channel_uses,self.num_taps,self.r,self.CFO_std, self.phase_off)\n",
    "\n",
    "class StochasticChannelLayer(keras.layers.Layer):\n",
    "    \"\"\"This channel will output 1D tensor.\n",
    "        channel_parameters ---> custom class for parameters store\n",
    "                                channel_parameters = {\n",
    "                                    \"r\"        : 4,             # For upsampling -> number of complex samples per symbol\n",
    "                                    \"roll_off\" : 0.35,          # Roll off factor\n",
    "                                    \"num_taps\" : 31,            # L -> Number of taps (odd) for RRC filter\n",
    "                                    \"f_s\"      : 25e4,          # Add what is in the physical implementation\n",
    "                                    \"T_bound\"  : 1/25e4,        # 1/f_s Go through the resharch paper Deep Learning Based Communication Over the Air  (content under table 1) \n",
    "                                    #\"time_delay\" : np.random.uniform(-1,1), # To convert the time delay into discrete domain, time dilay is giving relative to the sampling period \n",
    "                                    \"CFO\"      : 5e3,           # Observe from the physical implementation\n",
    "                                    \"CFO_std\"  : 5e3/25e4,      # CFO/f_s\n",
    "                                    \"snr\"      : 6,             # noise power will be calculating assuming transmittting power of 1 \n",
    "                                    \"phase_off\": uniform.rvs(scale = 2*np.pi)  # constant for one channel input\n",
    "                                }\n",
    "        r ----------> upsampling constant (number of complex samples per symbol)\n",
    "        time_delay -> uniformly distributed time delay between (-1,1), discrete domain, \n",
    "                      time dilay is giving relative to the sampling period\n",
    "        CFO_std ----> CFO_frequency / sampling_frequency is taken as the standared deviation\n",
    "        snr --------> snr for AWGN channel\n",
    "        output_shape -> None - output_shape is 1D tensor for sequence decoder, or give an output shape prefer \"\"\"\n",
    "    def __init__(self,name,NUM_CHANNEL_USES,batch_size,channel_parameters,**kwargs):\n",
    "        super(StochasticChannelLayer,self).__init__(name=name,**kwargs)\n",
    "        self.UpSamplingLayer_inst = UpsamplingLayer(channel_parameters['r'])\n",
    "        self.PulseShaping_inst = PulseShaping(channel_parameters['num_taps'],channel_parameters['roll_off'])\n",
    "        self.PhaseOffset_inst = PhaseOffset(batch_size,NUM_CHANNEL_USES,channel_parameters['num_taps'],channel_parameters['r'],channel_parameters['CFO_std'],channel_parameters['phase_off'])\n",
    "        self.AWGNlayer = keras.layers.GaussianNoise(stddev = np.sqrt(1/10**(channel_parameters['snr']/10)))\n",
    "    def call(self, inputs):\n",
    "      inputs = tf.reshape(inputs,[-1])\n",
    "      inputs = real_to_complex_tensor(inputs)\n",
    "      x = self.UpSamplingLayer_inst(inputs)\n",
    "      x = self.PulseShaping_inst(x)\n",
    "      x = self.PhaseOffset_inst(x)\n",
    "      x = complex_to_real_tensor(x)\n",
    "      x = self.AWGNlayer(x)\n",
    "      #print(\"StochasticChannelLayer output shape = \",x.shape)\n",
    "      return x\n",
    "      "
   ]
  },
  {
   "cell_type": "code",
   "execution_count": 20,
   "id": "46eb9a75",
   "metadata": {},
   "outputs": [
    {
     "data": {
      "text/plain": [
       "'\\n# Custom normalizatoion layer\\n\\nclass L2Normalization_Range(tf.keras.layers.Layer):\\n    def __init__(self,NUM_CHANNEL_USES):\\n        super().__init__()\\n        self.num_channel_uses = NUM_CHANNEL_USES\\n        \\n    def call(self, inputs):\\n        arr = []\\n        s = 0.5\\n        for i in range(self.num_channel_uses):\\n        # Expect to scale between 0.5 and 1.5 (first channel uses are closer to 0.5 and last channel uses closer to 1.5)\\n            s = 0.5 + i*1/(self.num_channel_uses-1)\\n            arr.append(s)\\n            arr.append(s)\\n        a = tf.constant(np.array(arr),dtype=tf.float32)\\n        out = tf.nn.l2_normalize(inputs, axis=-1)*a\\n        print(\"normalize output shape = \",out.shape)\\n        return out\\n\\n    def get_config(self):\\n        return super(L2Normalization, self).get_config()\\n    '"
      ]
     },
     "execution_count": 20,
     "metadata": {},
     "output_type": "execute_result"
    }
   ],
   "source": [
    "\"\"\"\n",
    "# Custom normalizatoion layer\n",
    "\n",
    "class L2Normalization_Range(tf.keras.layers.Layer):\n",
    "    def __init__(self,NUM_CHANNEL_USES):\n",
    "        super().__init__()\n",
    "        self.num_channel_uses = NUM_CHANNEL_USES\n",
    "        \n",
    "    def call(self, inputs):\n",
    "        arr = []\n",
    "        s = 0.5\n",
    "        for i in range(self.num_channel_uses):\n",
    "        # Expect to scale between 0.5 and 1.5 (first channel uses are closer to 0.5 and last channel uses closer to 1.5)\n",
    "            s = 0.5 + i*1/(self.num_channel_uses-1)\n",
    "            arr.append(s)\n",
    "            arr.append(s)\n",
    "        a = tf.constant(np.array(arr),dtype=tf.float32)\n",
    "        out = tf.nn.l2_normalize(inputs, axis=-1)*a\n",
    "        print(\"normalize output shape = \",out.shape)\n",
    "        return out\n",
    "\n",
    "    def get_config(self):\n",
    "        return super(L2Normalization, self).get_config()\n",
    "    \"\"\""
   ]
  },
  {
   "cell_type": "code",
   "execution_count": 5,
   "id": "da644e0e",
   "metadata": {
    "ExecuteTime": {
     "end_time": "2024-04-21T07:02:14.981653Z",
     "start_time": "2024-04-21T07:02:14.969143Z"
    }
   },
   "outputs": [],
   "source": [
    "# Decoder mask layer\n",
    "\n",
    "class PulseShaping_Dec(keras.layers.Layer): \n",
    "    def __init__(self,num_taps,r,roll_off):\n",
    "      super().__init__()\n",
    "      self.nrrc_filter = NRRC_filter(num_taps,roll_off)             # Will add a random time delay, but we will not be using this filter here\n",
    "      self.nrrc_filter = tf.reshape(self.nrrc_filter,[num_taps,1,1])\n",
    "      self.num_taps = num_taps\n",
    "      self.r =r\n",
    "    def call(self, inputs):\n",
    "      inputs = tf.reshape(inputs,[1,-1,1])\n",
    "      inp_conv = tf.nn.conv1d(inputs,self.nrrc_filter,stride=self.r,padding=\"VALID\")\n",
    "      inp_conv = tf.reshape(inp_conv,[-1])\n",
    "      return inp_conv\n",
    "\n",
    "\n",
    "class DecoderMaskLayer(keras.layers.Layer):\n",
    "    def __init__(self,name,channel_parameters,NUM_CHANNEL_USES):\n",
    "        super(DecoderMaskLayer,self).__init__(name=name)\n",
    "        # self.Convo = PulseShaping_Dec(channel_parameters['num_taps'],channel_parameters['r'],channel_parameters['roll_off'])\n",
    "        self.Convo = tf.keras.layers.Conv1D(1,channel_parameters['num_taps'],strides=channel_parameters['r'], padding = 'valid',activation = 'relu',use_bias=True)\n",
    "        self.channel_uses = NUM_CHANNEL_USES\n",
    "    def call(self,inputs):\n",
    "        inp = tf.reshape(inputs,[-1,2])\n",
    "        real_part, imag_part = inp[:,0],inp[:,1]\n",
    "        vec_shape = real_part.shape[0]\n",
    "        #print(\"real shape\",real_part.shape)\n",
    "        real_part, imag_part = tf.reshape(real_part,[1,vec_shape,1]), tf.reshape(imag_part,[1,vec_shape,1])\n",
    "        real_part = tf.reshape(self.Convo(real_part),[-1,1])\n",
    "        imag_part = tf.reshape(self.Convo(imag_part),[-1,1])\n",
    "        #print(\"real shape after conv \",real_part.shape)\n",
    "        outputs = tf.concat([real_part,imag_part],1)\n",
    "        return tf.reshape(outputs,[-1,2*self.channel_uses])\n"
   ]
  },
  {
   "cell_type": "code",
   "execution_count": 7,
   "id": "b23b0443",
   "metadata": {
    "ExecuteTime": {
     "end_time": "2024-04-21T07:02:28.441806Z",
     "start_time": "2024-04-21T07:02:28.426392Z"
    }
   },
   "outputs": [],
   "source": [
    "def calc_block_accuracy(preds,y_val):\n",
    "    n_bits_per_block = preds.shape[1]\n",
    "    n_correct_bits = np.sum(preds == y_val,axis=1)\n",
    "    block_accuracy = np.mean(n_correct_bits == n_bits_per_block)\n",
    "    return block_accuracy\n"
   ]
  },
  {
   "cell_type": "code",
   "execution_count": 8,
   "id": "39a9aa4a",
   "metadata": {
    "ExecuteTime": {
     "end_time": "2024-04-21T07:02:29.290566Z",
     "start_time": "2024-04-21T07:02:29.263842Z"
    }
   },
   "outputs": [],
   "source": [
    "# generating the data set\n",
    "\n",
    "x_train = np.array(np.random.rand(n_train,k)<0.5).astype(np.float32)\n",
    "y_train = x_train\n",
    "\n",
    "x_val = np.array(np.random.rand(n_val,k)<0.5).astype(np.float32)\n",
    "y_val = x_val"
   ]
  },
  {
   "cell_type": "code",
   "execution_count": 10,
   "id": "bfceff7c",
   "metadata": {
    "ExecuteTime": {
     "end_time": "2024-04-21T07:03:54.349926Z",
     "start_time": "2024-04-21T07:03:50.565310Z"
    },
    "scrolled": false
   },
   "outputs": [
    {
     "name": "stdout",
     "output_type": "stream",
     "text": [
      "-------  start ----------\n",
      "time_delay -  (-0.49952318165663034,)\n",
      "normalize output shape =  (None, 2)\n",
      "CFO_off = -0.01803834760391226\n",
      "Phase offset =  5.345411978138272\n",
      "Model: \"sequential\"\n",
      "_________________________________________________________________\n",
      " Layer (type)                Output Shape              Param #   \n",
      "=================================================================\n",
      " dense (Dense)               (None, 16)                80        \n",
      "                                                                 \n",
      " dense_1 (Dense)             (None, 16)                272       \n",
      "                                                                 \n",
      " Encode_last_dense (Dense)   (None, 2)                 34        \n",
      "                                                                 \n",
      " normalization_layer (L2Norm  (None, 2)                0         \n",
      " alization)                                                      \n",
      "                                                                 \n",
      " stc (StochasticChannelLayer  (2620,)                  0         \n",
      " )                                                               \n",
      "                                                                 \n",
      " Decoder_mask (DecoderMaskLa  (320, 2)                 32        \n",
      " yer)                                                            \n",
      "                                                                 \n",
      " decoder_start (Dense)       (320, 16)                 48        \n",
      "                                                                 \n",
      " decoder_middle (Dense)      (320, 16)                 272       \n",
      "                                                                 \n",
      " dense_2 (Dense)             (320, 4)                  68        \n",
      "                                                                 \n",
      "=================================================================\n",
      "Total params: 806\n",
      "Trainable params: 806\n",
      "Non-trainable params: 0\n",
      "_________________________________________________________________\n"
     ]
    },
    {
     "data": {
      "image/png": "[encoded data removed]",
      "text/plain": [
       "<Figure size 640x480 with 1 Axes>"
      ]
     },
     "metadata": {},
     "output_type": "display_data"
    }
   ],
   "source": [
    "# complete_results = []\n",
    "\n",
    "nakagami_m = 5 # m=1 foe reighley\n",
    "OMEGA = np.sqrt(2)\n",
    "AWGN_std = np.sqrt(1/10**(channel_parameters[\"snr\"]/10))#np.sqrt(OMEGA * 10 ** (-0.1 * gamma_bar) )\n",
    "\n",
    "act_func = 'tanh' # 'relu'\n",
    "\n",
    "print(f\"-------  start ----------\")\n",
    "\n",
    "def create_AE():\n",
    "    AE = Sequential([\n",
    "\n",
    "                    Dense(2**k, activation=act_func,input_shape=(k,)),\n",
    "                    Dense(2**k, activation=act_func),\n",
    "                    Dense(2*NUM_CHANNEL_USES, activation='linear',name=\"Encode_last_dense\"),\n",
    "                    L2Normalization(name=\"normalization_layer\"),\n",
    "                    #L2Normalization_Range(NUM_CHANNEL_USES),####\n",
    "                    \n",
    "                    StochasticChannelLayer(\"stc\",NUM_CHANNEL_USES,block_size,channel_parameters), \n",
    "                    #NakagamiNoiseLayer({\"omega\":OMEGA,\"m\":nakagami_m}),\n",
    "                    #keras.layers.GaussianNoise(stddev = AWGN_std),\n",
    "\n",
    "\n",
    "                    DecoderMaskLayer(\"Decoder_mask\",channel_parameters,NUM_CHANNEL_USES),\n",
    "\n",
    "                    Dense(2**k, activation=act_func,name=\"decoder_start\"),\n",
    "                    Dense(2**k, activation=act_func,name=\"decoder_middle\"),\n",
    "                    Dense(k, activation='sigmoid')\n",
    "\n",
    "                    ])\n",
    "    return AE\n",
    "\n",
    "AE = create_AE()\n",
    "\n",
    "AE.summary()\n"
   ]
  },
  {
   "cell_type": "code",
   "execution_count": 11,
   "id": "a2e2c27b",
   "metadata": {
    "ExecuteTime": {
     "end_time": "2024-04-21T07:04:35.549185Z",
     "start_time": "2024-04-21T07:04:02.573810Z"
    }
   },
   "outputs": [
    {
     "name": "stdout",
     "output_type": "stream",
     "text": [
      "Epoch 1/5\n",
      "normalize output shape =  (320, 2)\n",
      "CFO_off = -0.018083861940866107\n",
      "Phase offset =  5.345411978138272\n",
      "normalize output shape =  (320, 2)\n",
      "CFO_off = -0.0031477947034706326\n",
      "Phase offset =  5.345411978138272\n",
      "normalize output shape =  (320, 2)\n",
      "CFO_off = 0.0015658732074063197\n",
      "Phase offset =  5.345411978138272\n",
      "1000/1000 - 7s - loss: 0.6915 - val_loss: 0.6905 - 7s/epoch - 7ms/step\n",
      "Epoch 2/5\n",
      "1000/1000 - 2s - loss: 0.6909 - val_loss: 0.6881 - 2s/epoch - 2ms/step\n",
      "Epoch 3/5\n",
      "1000/1000 - 2s - loss: 0.6908 - val_loss: 0.6885 - 2s/epoch - 2ms/step\n",
      "Epoch 4/5\n",
      "1000/1000 - 2s - loss: 0.6909 - val_loss: 0.6890 - 2s/epoch - 2ms/step\n",
      "Epoch 5/5\n",
      "1000/1000 - 2s - loss: 0.6904 - val_loss: 0.6879 - 2s/epoch - 2ms/step\n",
      "Epoch 1/5\n",
      "normalize output shape =  (320, 2)\n",
      "CFO_off = -0.024981272302222926\n",
      "Phase offset =  5.345411978138272\n",
      "normalize output shape =  (320, 2)\n",
      "CFO_off = -0.015110161804892082\n",
      "Phase offset =  5.345411978138272\n",
      "normalize output shape =  (320, 2)\n",
      "CFO_off = -0.0017011810338559568\n",
      "Phase offset =  5.345411978138272\n",
      "1000/1000 - 7s - loss: 0.6911 - val_loss: 0.6886 - 7s/epoch - 7ms/step\n",
      "Epoch 2/5\n",
      "1000/1000 - 2s - loss: 0.6910 - val_loss: 0.6886 - 2s/epoch - 2ms/step\n",
      "Epoch 3/5\n",
      "1000/1000 - 2s - loss: 0.6906 - val_loss: 0.6908 - 2s/epoch - 2ms/step\n",
      "Epoch 4/5\n",
      "1000/1000 - 2s - loss: 0.6899 - val_loss: 0.6935 - 2s/epoch - 2ms/step\n",
      "Epoch 5/5\n",
      "1000/1000 - 2s - loss: 0.6882 - val_loss: 0.6941 - 2s/epoch - 2ms/step\n",
      "normalize output shape =  (320, 2)\n",
      "CFO_off = 0.01747417242756644\n",
      "Phase offset =  5.345411978138272\n",
      "100/100 [==============================] - 2s 2ms/step\n",
      "validation accuracy = 0.04565625\n",
      "snr = 6\n"
     ]
    }
   ],
   "source": [
    "history = []\n",
    "\n",
    "AE.compile(optimizer=Adam(learning_rate=1e-2),loss=\"binary_crossentropy\")\n",
    "history.append(AE.fit(x_train,y_train,batch_size=block_size,epochs=num_epoches,verbose=2,validation_data=(x_val,y_val)))\n",
    "AE.compile(optimizer=Adam(learning_rate=1e-3),loss=\"binary_crossentropy\")\n",
    "history.append(AE.fit(x_train,y_train,batch_size=block_size,epochs=num_epoches,verbose=2,validation_data=(x_val,y_val)))\n",
    "\n",
    "preds = AE.predict(x_val,batch_size=block_size)>0.5\n",
    "#         accuracy = np.mean( preds == y_val  )\n",
    "accuracy =  calc_block_accuracy(preds,y_val)\n",
    "print(f\"validation accuracy = {accuracy}\")\n",
    "print(f\"snr = {channel_parameters['snr']}\")"
   ]
  },
  {
   "cell_type": "code",
   "execution_count": 12,
   "id": "e44cfab6",
   "metadata": {
    "ExecuteTime": {
     "end_time": "2024-04-21T07:04:40.135536Z",
     "start_time": "2024-04-21T07:04:39.883823Z"
    }
   },
   "outputs": [
    {
     "name": "stdout",
     "output_type": "stream",
     "text": [
      "[[1. 1. 1. 0.]\n",
      " [0. 0. 0. 0.]\n",
      " [0. 1. 0. 0.]\n",
      " ...\n",
      " [0. 0. 1. 0.]\n",
      " [1. 1. 0. 1.]\n",
      " [0. 0. 1. 1.]]\n",
      "normalize output shape =  (320, 2)\n",
      "1/1 [==============================] - 0s 50ms/step\n"
     ]
    },
    {
     "data": {
      "text/plain": [
       "<matplotlib.collections.PathCollection at 0x1db8eba1b20>"
      ]
     },
     "execution_count": 12,
     "metadata": {},
     "output_type": "execute_result"
    },
    {
     "data": {
      "image/png": "[encoded data removed]",
      "text/plain": [
       "<Figure size 640x480 with 1 Axes>"
      ]
     },
     "metadata": {},
     "output_type": "display_data"
    }
   ],
   "source": [
    "before_channel = Model(inputs=AE.input,\n",
    "                                 outputs=AE.get_layer('normalization_layer').output)\n",
    "x = np.array(np.random.rand(block_size,k)>0.5).astype(np.float32)\n",
    "print(x)\n",
    "enc=tf.reshape(before_channel.predict(tf.constant(x),batch_size=block_size),[-1,2])\n",
    "enc_x,enc_y = tf.reshape(enc[:,0],[-1]),tf.reshape(enc[:,1],[-1])\n",
    "plt.scatter(enc_x,enc_y)"
   ]
  },
  {
   "cell_type": "code",
   "execution_count": 13,
   "id": "c3f8cfda",
   "metadata": {
    "ExecuteTime": {
     "end_time": "2024-04-21T07:04:49.285672Z",
     "start_time": "2024-04-21T07:04:49.213859Z"
    }
   },
   "outputs": [
    {
     "name": "stdout",
     "output_type": "stream",
     "text": [
      "[[0. 1. 1. 1.]\n",
      " [0. 1. 0. 0.]\n",
      " [1. 0. 0. 1.]\n",
      " ...\n",
      " [0. 0. 0. 0.]\n",
      " [1. 0. 0. 0.]\n",
      " [1. 0. 0. 0.]]\n",
      "1/1 [==============================] - 0s 20ms/step\n",
      "[[False  True False False]\n",
      " [False  True False False]\n",
      " [False  True False False]\n",
      " ...\n",
      " [False  True False False]\n",
      " [False  True False False]\n",
      " [False  True False False]]\n"
     ]
    }
   ],
   "source": [
    "x = np.array(np.random.rand(block_size,k)>0.5).astype(np.float32)\n",
    "print(x)\n",
    "print(AE.predict(tf.constant(x),batch_size=block_size)>0.5)"
   ]
  },
  {
   "cell_type": "markdown",
   "id": "35298ea9",
   "metadata": {},
   "source": [
    "### Saving model Encoder and decoder\n",
    "https://www.tensorflow.org/tutorials/keras/save_and_load"
   ]
  },
  {
   "cell_type": "code",
   "execution_count": 22,
   "id": "b918436e",
   "metadata": {
    "ExecuteTime": {
     "end_time": "2024-04-21T08:30:07.465248Z",
     "start_time": "2024-04-21T08:30:07.114722Z"
    }
   },
   "outputs": [],
   "source": [
    "# Save the weights\n",
    "AE.save_weights('./AE_model')"
   ]
  },
  {
   "cell_type": "markdown",
   "id": "f616cd61",
   "metadata": {},
   "source": [
    "### Ploting "
   ]
  },
  {
   "cell_type": "code",
   "execution_count": 14,
   "id": "6b1a55b7",
   "metadata": {
    "ExecuteTime": {
     "end_time": "2024-04-21T07:04:59.831478Z",
     "start_time": "2024-04-21T07:04:59.814778Z"
    }
   },
   "outputs": [
    {
     "data": {
      "text/plain": [
       "dict_keys(['loss', 'val_loss'])"
      ]
     },
     "execution_count": 14,
     "metadata": {},
     "output_type": "execute_result"
    }
   ],
   "source": [
    "history[0].history.keys()"
   ]
  },
  {
   "cell_type": "code",
   "execution_count": 15,
   "id": "3d1a5684",
   "metadata": {
    "ExecuteTime": {
     "end_time": "2024-04-21T07:05:00.895725Z",
     "start_time": "2024-04-21T07:05:00.724067Z"
    }
   },
   "outputs": [
    {
     "data": {
      "image/png": "[encoded data removed]",
      "text/plain": [
       "<Figure size 640x480 with 1 Axes>"
      ]
     },
     "metadata": {},
     "output_type": "display_data"
    }
   ],
   "source": [
    "plt.plot(history[0].history['loss']+history[1].history['loss'])\n",
    "plt.plot(history[0].history['val_loss']+history[1].history['val_loss'])\n",
    "plt.title('plot of losses '+str(num_epoches*2)+' epochs')\n",
    "plt.ylabel('Loss')\n",
    "plt.xlabel('epoch')\n",
    "plt.legend(['Train_loss', 'Val_loss'])\n",
    "plt.show()"
   ]
  },
  {
   "cell_type": "markdown",
   "id": "3051c75d",
   "metadata": {},
   "source": [
    "## Apply Nakagami effect and generate dataset"
   ]
  },
  {
   "cell_type": "markdown",
   "id": "cbbf18be",
   "metadata": {},
   "source": [
    "Need the encodings we present to the channel (i.e \"before_channel\")\n"
   ]
  },
  {
   "cell_type": "code",
   "execution_count": 16,
   "id": "6f99d604",
   "metadata": {
    "ExecuteTime": {
     "end_time": "2024-04-21T07:05:12.454120Z",
     "start_time": "2024-04-21T07:05:12.416534Z"
    }
   },
   "outputs": [],
   "source": [
    "AE_best = AE # not comparing.. we got only one\n",
    "\n",
    "before_channel = Model(inputs=AE_best.input,\n",
    "                                 outputs=AE_best.get_layer('normalization_layer').output)\n",
    "\n",
    "# not used\n",
    "after_channel = Model(inputs=AE_best.get_layer(\"decoder_start\").input,\n",
    "                                 outputs=AE_best.output)\n",
    "\n"
   ]
  },
  {
   "cell_type": "code",
   "execution_count": 17,
   "id": "d0f39431",
   "metadata": {
    "ExecuteTime": {
     "end_time": "2024-04-21T07:05:14.132129Z",
     "start_time": "2024-04-21T07:05:14.116230Z"
    }
   },
   "outputs": [],
   "source": [
    "def nakagami_channel_without_awgn(m, omega, num_samples):\n",
    "    nakagami_var =  nakagami.rvs(m,omega,size = num_samples)\n",
    "    nakagami_phase_vec = np.exp(1j*np.random.uniform(low=0.0, high=2*np.pi, size = num_samples))\n",
    "    # Generate channel with noise\n",
    "    channel = nakagami_var*nakagami_phase_vec\n",
    "    return channel\n",
    "\n",
    "def nakagami_channel_with_awgn(m, omega, snr_db, num_samples):\n",
    "    nakagami_var =  nakagami.rvs(m,omega,size = num_samples)\n",
    "    nakagami_phase_vec = np.exp(1j*np.random.uniform(low=0.0, high=2*np.pi, size = num_samples))\n",
    "    noise_var = 10**(-snr_db/10)\n",
    "    # Genarating random noise\n",
    "    noise = np.random.normal(scale=np.sqrt(noise_var), size=num_samples)\n",
    "    # Generate channel with noise\n",
    "    channel = noise + nakagami_var*nakagami_phase_vec\n",
    "    return channel\n",
    "    "
   ]
  },
  {
   "cell_type": "code",
   "execution_count": null,
   "id": "63840639",
   "metadata": {},
   "outputs": [
    {
     "name": "stdout",
     "output_type": "stream",
     "text": [
      "(0.7071067811865476+0.7071067811865476j)\n"
     ]
    }
   ],
   "source": [
    "print(np.exp(np.pi/4*1j))"
   ]
  },
  {
   "cell_type": "code",
   "execution_count": 18,
   "id": "0d1545f2",
   "metadata": {
    "ExecuteTime": {
     "end_time": "2024-04-21T07:05:20.763843Z",
     "start_time": "2024-04-21T07:05:20.743951Z"
    }
   },
   "outputs": [],
   "source": [
    "# Creating and Adding the dataset to a csv\n",
    "\n",
    "def add_to_csv(n_out):\n",
    "    \n",
    "    ##\n",
    "    x_out = np.array(np.random.rand(n_out,k)<0.5).astype(np.float32)\n",
    "\n",
    "    ##\n",
    "    # get encodings given by DNN for each message in training set\n",
    "    enc = before_channel(x_out)\n",
    "    #print('enc.shape: ', enc.shape)\n",
    "\n",
    "    # convert to iq_samples\n",
    "    iq_samples = tf.complex(enc[:,0::2], enc[:,1::2])\n",
    "    #print('iq_samples.shape: ', iq_samples.shape)\n",
    "\n",
    "    ##\n",
    "    M_POOL       = [1,1.25,1.5,1.75,2]\n",
    "    OMEGA_POOL = [1.2,np.sqrt(2),1.6]\n",
    "    SNR_DB_POOL  = [5.5,6,6.5]\n",
    "\n",
    "    nakagami_chanel_coeff_tensor = []\n",
    "\n",
    "    block_size = 320\n",
    "    n_blocks = enc.shape[0] // block_size \n",
    "    for i in range(n_blocks):\n",
    "        m = np.random.choice(M_POOL)\n",
    "        snr_db = np.random.choice(SNR_DB_POOL)\n",
    "        omega = np.random.choice(OMEGA_POOL)\n",
    "        nakagami_chanel_coeff_tensor.append( nakagami_channel_with_awgn(m=m, omega=1,snr_db=snr_db, num_samples=(block_size,iq_samples.shape[1])) )\n",
    "\n",
    "    nakagami_chanel_coeff_tensor = tf.constant(nakagami_chanel_coeff_tensor)\n",
    "    #print(\"nakagami_chanel_coeff_tensor.shape : \",nakagami_chanel_coeff_tensor.shape)\n",
    "\n",
    "    iq_samples_blocked = np.reshape(iq_samples,(n_blocks,block_size,-1))\n",
    "    #print(\"iq_samples_blocked.shape : \",iq_samples_blocked.shape)\n",
    "\n",
    "\n",
    "    # tested identity flow (enc == received_enc)  with : nakagami_chanel_coeff_tensor =  tf.complex(1.,0.)\n",
    "\n",
    "    # element wise multiply\n",
    "    nakagami_affected_iq_samples = tf.multiply(nakagami_chanel_coeff_tensor,iq_samples_blocked)\n",
    "    # undo the blockking\n",
    "    nakagami_affected_iq_samples = tf.reshape(nakagami_affected_iq_samples,(block_size*n_blocks,-1))\n",
    "    #print(\"nakagami_affected_iq_samples.shape : \",nakagami_affected_iq_samples.shape)\n",
    "\n",
    "    ##\n",
    "    # need to convert each iq_samples to two encoding\n",
    "    real_part =  tf.expand_dims(tf.math.real(nakagami_affected_iq_samples),axis=2)\n",
    "    imag_part =  tf.expand_dims(tf.math.imag(nakagami_affected_iq_samples),axis=2)\n",
    "\n",
    "    concat = tf.concat((real_part,imag_part),axis=2)\n",
    "    #print(\"concat.shape : \",concat.shape)\n",
    "    received_enc = tf.cast(tf.reshape(concat,(block_size*n_blocks,-1)),tf.float32)\n",
    "    #print(\"received_enc.shape : \",received_enc.shape)\n",
    "\n",
    "    ## \n",
    "    #Summary\n",
    "    # enc is the encodings presenet to channel  \n",
    "    # messages --> bits --> [trained DNN]  --> enc \n",
    "    #print('enc.shape: ', enc.shape)\n",
    "\n",
    "\n",
    "    # received_enc is the encoding equavalent after Nakagami+noise effects considered\n",
    "    # enc --> iq_samples --> [NAKAGAMI+noise effect]  --> affected_iq_smaples --> received_enc\n",
    "    #print('received_enc.shape: ', received_enc.shape)\n",
    "\n",
    "    # see the difference done by the channel\n",
    "    enc - received_enc\n",
    "\n",
    "    ##\n",
    "    ## Adding to csv file\n",
    "    enc = np.reshape(enc,(-1,1))\n",
    "    received_enc = np.reshape(received_enc,(-1,1))\n",
    "    #print(enc.shape)\n",
    "    data = np.concatenate((enc,received_enc),axis=1)\n",
    "   #print(data.shape)\n",
    "    df = pd.DataFrame(data)  \n",
    "    df.to_csv(\"my_data_.csv\", mode = 'a',index=False, header=False) \n"
   ]
  },
  {
   "cell_type": "code",
   "execution_count": null,
   "id": "fdcf32de",
   "metadata": {},
   "outputs": [
    {
     "name": "stdout",
     "output_type": "stream",
     "text": [
      "iq_samples.shape:  (32000, 7)\n",
      "iq_samples.shape:  (32000, 7)\n",
      "iq_samples.shape:  (32000, 7)\n",
      "iq_samples.shape:  (32000, 7)\n",
      "iq_samples.shape:  (32000, 7)\n",
      "iq_samples.shape:  (32000, 7)\n",
      "iq_samples.shape:  (32000, 7)\n",
      "iq_samples.shape:  (32000, 7)\n",
      "iq_samples.shape:  (32000, 7)\n",
      "iq_samples.shape:  (32000, 7)\n",
      "iq_samples.shape:  (32000, 7)\n",
      "iq_samples.shape:  (32000, 7)\n",
      "iq_samples.shape:  (32000, 7)\n",
      "iq_samples.shape:  (32000, 7)\n",
      "iq_samples.shape:  (32000, 7)\n",
      "iq_samples.shape:  (32000, 7)\n"
     ]
    },
    {
     "ename": "KeyboardInterrupt",
     "evalue": "",
     "output_type": "error",
     "traceback": [
      "\u001b[1;31m---------------------------------------------------------------------------\u001b[0m",
      "\u001b[1;31mKeyboardInterrupt\u001b[0m                         Traceback (most recent call last)",
      "Cell \u001b[1;32mIn[110], line 2\u001b[0m\n\u001b[0;32m      1\u001b[0m \u001b[38;5;28;01mfor\u001b[39;00m i \u001b[38;5;129;01min\u001b[39;00m \u001b[38;5;28mrange\u001b[39m(\u001b[38;5;28mint\u001b[39m(n_out\u001b[38;5;241m/\u001b[39m\u001b[38;5;241m/\u001b[39m\u001b[38;5;241m100\u001b[39m\u001b[38;5;241m*\u001b[39mblock_size)):\n\u001b[1;32m----> 2\u001b[0m     \u001b[43madd_to_csv\u001b[49m\u001b[43m(\u001b[49m\u001b[38;5;241;43m100\u001b[39;49m\u001b[38;5;241;43m*\u001b[39;49m\u001b[43mblock_size\u001b[49m\u001b[43m)\u001b[49m\n",
      "Cell \u001b[1;32mIn[109], line 77\u001b[0m, in \u001b[0;36madd_to_csv\u001b[1;34m(n_out)\u001b[0m\n\u001b[0;32m     75\u001b[0m \u001b[38;5;66;03m#print(data.shape)\u001b[39;00m\n\u001b[0;32m     76\u001b[0m  df \u001b[38;5;241m=\u001b[39m pd\u001b[38;5;241m.\u001b[39mDataFrame(data)  \n\u001b[1;32m---> 77\u001b[0m  \u001b[43mdf\u001b[49m\u001b[38;5;241;43m.\u001b[39;49m\u001b[43mto_csv\u001b[49m\u001b[43m(\u001b[49m\u001b[38;5;124;43m\"\u001b[39;49m\u001b[38;5;124;43mmy_data_.csv\u001b[39;49m\u001b[38;5;124;43m\"\u001b[39;49m\u001b[43m,\u001b[49m\u001b[43m \u001b[49m\u001b[43mmode\u001b[49m\u001b[43m \u001b[49m\u001b[38;5;241;43m=\u001b[39;49m\u001b[43m \u001b[49m\u001b[38;5;124;43m'\u001b[39;49m\u001b[38;5;124;43ma\u001b[39;49m\u001b[38;5;124;43m'\u001b[39;49m\u001b[43m,\u001b[49m\u001b[43mindex\u001b[49m\u001b[38;5;241;43m=\u001b[39;49m\u001b[38;5;28;43;01mFalse\u001b[39;49;00m\u001b[43m,\u001b[49m\u001b[43m \u001b[49m\u001b[43mheader\u001b[49m\u001b[38;5;241;43m=\u001b[39;49m\u001b[38;5;28;43;01mFalse\u001b[39;49;00m\u001b[43m)\u001b[49m\n",
      "File \u001b[1;32mc:\\Users\\lathw\\AppData\\Local\\Programs\\Python\\Python311\\Lib\\site-packages\\pandas\\util\\_decorators.py:333\u001b[0m, in \u001b[0;36mdeprecate_nonkeyword_arguments.<locals>.decorate.<locals>.wrapper\u001b[1;34m(*args, **kwargs)\u001b[0m\n\u001b[0;32m    327\u001b[0m \u001b[38;5;28;01mif\u001b[39;00m \u001b[38;5;28mlen\u001b[39m(args) \u001b[38;5;241m>\u001b[39m num_allow_args:\n\u001b[0;32m    328\u001b[0m     warnings\u001b[38;5;241m.\u001b[39mwarn(\n\u001b[0;32m    329\u001b[0m         msg\u001b[38;5;241m.\u001b[39mformat(arguments\u001b[38;5;241m=\u001b[39m_format_argument_list(allow_args)),\n\u001b[0;32m    330\u001b[0m         \u001b[38;5;167;01mFutureWarning\u001b[39;00m,\n\u001b[0;32m    331\u001b[0m         stacklevel\u001b[38;5;241m=\u001b[39mfind_stack_level(),\n\u001b[0;32m    332\u001b[0m     )\n\u001b[1;32m--> 333\u001b[0m \u001b[38;5;28;01mreturn\u001b[39;00m \u001b[43mfunc\u001b[49m\u001b[43m(\u001b[49m\u001b[38;5;241;43m*\u001b[39;49m\u001b[43margs\u001b[49m\u001b[43m,\u001b[49m\u001b[43m \u001b[49m\u001b[38;5;241;43m*\u001b[39;49m\u001b[38;5;241;43m*\u001b[39;49m\u001b[43mkwargs\u001b[49m\u001b[43m)\u001b[49m\n",
      "File \u001b[1;32mc:\\Users\\lathw\\AppData\\Local\\Programs\\Python\\Python311\\Lib\\site-packages\\pandas\\core\\generic.py:3964\u001b[0m, in \u001b[0;36mNDFrame.to_csv\u001b[1;34m(self, path_or_buf, sep, na_rep, float_format, columns, header, index, index_label, mode, encoding, compression, quoting, quotechar, lineterminator, chunksize, date_format, doublequote, escapechar, decimal, errors, storage_options)\u001b[0m\n\u001b[0;32m   3953\u001b[0m df \u001b[38;5;241m=\u001b[39m \u001b[38;5;28mself\u001b[39m \u001b[38;5;28;01mif\u001b[39;00m \u001b[38;5;28misinstance\u001b[39m(\u001b[38;5;28mself\u001b[39m, ABCDataFrame) \u001b[38;5;28;01melse\u001b[39;00m \u001b[38;5;28mself\u001b[39m\u001b[38;5;241m.\u001b[39mto_frame()\n\u001b[0;32m   3955\u001b[0m formatter \u001b[38;5;241m=\u001b[39m DataFrameFormatter(\n\u001b[0;32m   3956\u001b[0m     frame\u001b[38;5;241m=\u001b[39mdf,\n\u001b[0;32m   3957\u001b[0m     header\u001b[38;5;241m=\u001b[39mheader,\n\u001b[1;32m   (...)\u001b[0m\n\u001b[0;32m   3961\u001b[0m     decimal\u001b[38;5;241m=\u001b[39mdecimal,\n\u001b[0;32m   3962\u001b[0m )\n\u001b[1;32m-> 3964\u001b[0m \u001b[38;5;28;01mreturn\u001b[39;00m \u001b[43mDataFrameRenderer\u001b[49m\u001b[43m(\u001b[49m\u001b[43mformatter\u001b[49m\u001b[43m)\u001b[49m\u001b[38;5;241;43m.\u001b[39;49m\u001b[43mto_csv\u001b[49m\u001b[43m(\u001b[49m\n\u001b[0;32m   3965\u001b[0m \u001b[43m    \u001b[49m\u001b[43mpath_or_buf\u001b[49m\u001b[43m,\u001b[49m\n\u001b[0;32m   3966\u001b[0m \u001b[43m    \u001b[49m\u001b[43mlineterminator\u001b[49m\u001b[38;5;241;43m=\u001b[39;49m\u001b[43mlineterminator\u001b[49m\u001b[43m,\u001b[49m\n\u001b[0;32m   3967\u001b[0m \u001b[43m    \u001b[49m\u001b[43msep\u001b[49m\u001b[38;5;241;43m=\u001b[39;49m\u001b[43msep\u001b[49m\u001b[43m,\u001b[49m\n\u001b[0;32m   3968\u001b[0m \u001b[43m    \u001b[49m\u001b[43mencoding\u001b[49m\u001b[38;5;241;43m=\u001b[39;49m\u001b[43mencoding\u001b[49m\u001b[43m,\u001b[49m\n\u001b[0;32m   3969\u001b[0m \u001b[43m    \u001b[49m\u001b[43merrors\u001b[49m\u001b[38;5;241;43m=\u001b[39;49m\u001b[43merrors\u001b[49m\u001b[43m,\u001b[49m\n\u001b[0;32m   3970\u001b[0m \u001b[43m    \u001b[49m\u001b[43mcompression\u001b[49m\u001b[38;5;241;43m=\u001b[39;49m\u001b[43mcompression\u001b[49m\u001b[43m,\u001b[49m\n\u001b[0;32m   3971\u001b[0m \u001b[43m    \u001b[49m\u001b[43mquoting\u001b[49m\u001b[38;5;241;43m=\u001b[39;49m\u001b[43mquoting\u001b[49m\u001b[43m,\u001b[49m\n\u001b[0;32m   3972\u001b[0m \u001b[43m    \u001b[49m\u001b[43mcolumns\u001b[49m\u001b[38;5;241;43m=\u001b[39;49m\u001b[43mcolumns\u001b[49m\u001b[43m,\u001b[49m\n\u001b[0;32m   3973\u001b[0m \u001b[43m    \u001b[49m\u001b[43mindex_label\u001b[49m\u001b[38;5;241;43m=\u001b[39;49m\u001b[43mindex_label\u001b[49m\u001b[43m,\u001b[49m\n\u001b[0;32m   3974\u001b[0m \u001b[43m    \u001b[49m\u001b[43mmode\u001b[49m\u001b[38;5;241;43m=\u001b[39;49m\u001b[43mmode\u001b[49m\u001b[43m,\u001b[49m\n\u001b[0;32m   3975\u001b[0m \u001b[43m    \u001b[49m\u001b[43mchunksize\u001b[49m\u001b[38;5;241;43m=\u001b[39;49m\u001b[43mchunksize\u001b[49m\u001b[43m,\u001b[49m\n\u001b[0;32m   3976\u001b[0m \u001b[43m    \u001b[49m\u001b[43mquotechar\u001b[49m\u001b[38;5;241;43m=\u001b[39;49m\u001b[43mquotechar\u001b[49m\u001b[43m,\u001b[49m\n\u001b[0;32m   3977\u001b[0m \u001b[43m    \u001b[49m\u001b[43mdate_format\u001b[49m\u001b[38;5;241;43m=\u001b[39;49m\u001b[43mdate_format\u001b[49m\u001b[43m,\u001b[49m\n\u001b[0;32m   3978\u001b[0m \u001b[43m    \u001b[49m\u001b[43mdoublequote\u001b[49m\u001b[38;5;241;43m=\u001b[39;49m\u001b[43mdoublequote\u001b[49m\u001b[43m,\u001b[49m\n\u001b[0;32m   3979\u001b[0m \u001b[43m    \u001b[49m\u001b[43mescapechar\u001b[49m\u001b[38;5;241;43m=\u001b[39;49m\u001b[43mescapechar\u001b[49m\u001b[43m,\u001b[49m\n\u001b[0;32m   3980\u001b[0m \u001b[43m    \u001b[49m\u001b[43mstorage_options\u001b[49m\u001b[38;5;241;43m=\u001b[39;49m\u001b[43mstorage_options\u001b[49m\u001b[43m,\u001b[49m\n\u001b[0;32m   3981\u001b[0m \u001b[43m\u001b[49m\u001b[43m)\u001b[49m\n",
      "File \u001b[1;32mc:\\Users\\lathw\\AppData\\Local\\Programs\\Python\\Python311\\Lib\\site-packages\\pandas\\io\\formats\\format.py:1014\u001b[0m, in \u001b[0;36mDataFrameRenderer.to_csv\u001b[1;34m(self, path_or_buf, encoding, sep, columns, index_label, mode, compression, quoting, quotechar, lineterminator, chunksize, date_format, doublequote, escapechar, errors, storage_options)\u001b[0m\n\u001b[0;32m    993\u001b[0m     created_buffer \u001b[38;5;241m=\u001b[39m \u001b[38;5;28;01mFalse\u001b[39;00m\n\u001b[0;32m    995\u001b[0m csv_formatter \u001b[38;5;241m=\u001b[39m CSVFormatter(\n\u001b[0;32m    996\u001b[0m     path_or_buf\u001b[38;5;241m=\u001b[39mpath_or_buf,\n\u001b[0;32m    997\u001b[0m     lineterminator\u001b[38;5;241m=\u001b[39mlineterminator,\n\u001b[1;32m   (...)\u001b[0m\n\u001b[0;32m   1012\u001b[0m     formatter\u001b[38;5;241m=\u001b[39m\u001b[38;5;28mself\u001b[39m\u001b[38;5;241m.\u001b[39mfmt,\n\u001b[0;32m   1013\u001b[0m )\n\u001b[1;32m-> 1014\u001b[0m \u001b[43mcsv_formatter\u001b[49m\u001b[38;5;241;43m.\u001b[39;49m\u001b[43msave\u001b[49m\u001b[43m(\u001b[49m\u001b[43m)\u001b[49m\n\u001b[0;32m   1016\u001b[0m \u001b[38;5;28;01mif\u001b[39;00m created_buffer:\n\u001b[0;32m   1017\u001b[0m     \u001b[38;5;28;01massert\u001b[39;00m \u001b[38;5;28misinstance\u001b[39m(path_or_buf, StringIO)\n",
      "File \u001b[1;32mc:\\Users\\lathw\\AppData\\Local\\Programs\\Python\\Python311\\Lib\\site-packages\\pandas\\io\\formats\\csvs.py:270\u001b[0m, in \u001b[0;36mCSVFormatter.save\u001b[1;34m(self)\u001b[0m\n\u001b[0;32m    251\u001b[0m \u001b[38;5;28;01mwith\u001b[39;00m get_handle(\n\u001b[0;32m    252\u001b[0m     \u001b[38;5;28mself\u001b[39m\u001b[38;5;241m.\u001b[39mfilepath_or_buffer,\n\u001b[0;32m    253\u001b[0m     \u001b[38;5;28mself\u001b[39m\u001b[38;5;241m.\u001b[39mmode,\n\u001b[1;32m   (...)\u001b[0m\n\u001b[0;32m    258\u001b[0m ) \u001b[38;5;28;01mas\u001b[39;00m handles:\n\u001b[0;32m    259\u001b[0m     \u001b[38;5;66;03m# Note: self.encoding is irrelevant here\u001b[39;00m\n\u001b[0;32m    260\u001b[0m     \u001b[38;5;28mself\u001b[39m\u001b[38;5;241m.\u001b[39mwriter \u001b[38;5;241m=\u001b[39m csvlib\u001b[38;5;241m.\u001b[39mwriter(\n\u001b[0;32m    261\u001b[0m         handles\u001b[38;5;241m.\u001b[39mhandle,\n\u001b[0;32m    262\u001b[0m         lineterminator\u001b[38;5;241m=\u001b[39m\u001b[38;5;28mself\u001b[39m\u001b[38;5;241m.\u001b[39mlineterminator,\n\u001b[1;32m   (...)\u001b[0m\n\u001b[0;32m    267\u001b[0m         quotechar\u001b[38;5;241m=\u001b[39m\u001b[38;5;28mself\u001b[39m\u001b[38;5;241m.\u001b[39mquotechar,\n\u001b[0;32m    268\u001b[0m     )\n\u001b[1;32m--> 270\u001b[0m     \u001b[38;5;28;43mself\u001b[39;49m\u001b[38;5;241;43m.\u001b[39;49m\u001b[43m_save\u001b[49m\u001b[43m(\u001b[49m\u001b[43m)\u001b[49m\n",
      "File \u001b[1;32mc:\\Users\\lathw\\AppData\\Local\\Programs\\Python\\Python311\\Lib\\site-packages\\pandas\\io\\formats\\csvs.py:275\u001b[0m, in \u001b[0;36mCSVFormatter._save\u001b[1;34m(self)\u001b[0m\n\u001b[0;32m    273\u001b[0m \u001b[38;5;28;01mif\u001b[39;00m \u001b[38;5;28mself\u001b[39m\u001b[38;5;241m.\u001b[39m_need_to_save_header:\n\u001b[0;32m    274\u001b[0m     \u001b[38;5;28mself\u001b[39m\u001b[38;5;241m.\u001b[39m_save_header()\n\u001b[1;32m--> 275\u001b[0m \u001b[38;5;28;43mself\u001b[39;49m\u001b[38;5;241;43m.\u001b[39;49m\u001b[43m_save_body\u001b[49m\u001b[43m(\u001b[49m\u001b[43m)\u001b[49m\n",
      "File \u001b[1;32mc:\\Users\\lathw\\AppData\\Local\\Programs\\Python\\Python311\\Lib\\site-packages\\pandas\\io\\formats\\csvs.py:313\u001b[0m, in \u001b[0;36mCSVFormatter._save_body\u001b[1;34m(self)\u001b[0m\n\u001b[0;32m    311\u001b[0m \u001b[38;5;28;01mif\u001b[39;00m start_i \u001b[38;5;241m>\u001b[39m\u001b[38;5;241m=\u001b[39m end_i:\n\u001b[0;32m    312\u001b[0m     \u001b[38;5;28;01mbreak\u001b[39;00m\n\u001b[1;32m--> 313\u001b[0m \u001b[38;5;28;43mself\u001b[39;49m\u001b[38;5;241;43m.\u001b[39;49m\u001b[43m_save_chunk\u001b[49m\u001b[43m(\u001b[49m\u001b[43mstart_i\u001b[49m\u001b[43m,\u001b[49m\u001b[43m \u001b[49m\u001b[43mend_i\u001b[49m\u001b[43m)\u001b[49m\n",
      "File \u001b[1;32mc:\\Users\\lathw\\AppData\\Local\\Programs\\Python\\Python311\\Lib\\site-packages\\pandas\\io\\formats\\csvs.py:324\u001b[0m, in \u001b[0;36mCSVFormatter._save_chunk\u001b[1;34m(self, start_i, end_i)\u001b[0m\n\u001b[0;32m    321\u001b[0m data \u001b[38;5;241m=\u001b[39m \u001b[38;5;28mlist\u001b[39m(res\u001b[38;5;241m.\u001b[39m_iter_column_arrays())\n\u001b[0;32m    323\u001b[0m ix \u001b[38;5;241m=\u001b[39m \u001b[38;5;28mself\u001b[39m\u001b[38;5;241m.\u001b[39mdata_index[slicer]\u001b[38;5;241m.\u001b[39m_get_values_for_csv(\u001b[38;5;241m*\u001b[39m\u001b[38;5;241m*\u001b[39m\u001b[38;5;28mself\u001b[39m\u001b[38;5;241m.\u001b[39m_number_format)\n\u001b[1;32m--> 324\u001b[0m \u001b[43mlibwriters\u001b[49m\u001b[38;5;241;43m.\u001b[39;49m\u001b[43mwrite_csv_rows\u001b[49m\u001b[43m(\u001b[49m\n\u001b[0;32m    325\u001b[0m \u001b[43m    \u001b[49m\u001b[43mdata\u001b[49m\u001b[43m,\u001b[49m\n\u001b[0;32m    326\u001b[0m \u001b[43m    \u001b[49m\u001b[43mix\u001b[49m\u001b[43m,\u001b[49m\n\u001b[0;32m    327\u001b[0m \u001b[43m    \u001b[49m\u001b[38;5;28;43mself\u001b[39;49m\u001b[38;5;241;43m.\u001b[39;49m\u001b[43mnlevels\u001b[49m\u001b[43m,\u001b[49m\n\u001b[0;32m    328\u001b[0m \u001b[43m    \u001b[49m\u001b[38;5;28;43mself\u001b[39;49m\u001b[38;5;241;43m.\u001b[39;49m\u001b[43mcols\u001b[49m\u001b[43m,\u001b[49m\n\u001b[0;32m    329\u001b[0m \u001b[43m    \u001b[49m\u001b[38;5;28;43mself\u001b[39;49m\u001b[38;5;241;43m.\u001b[39;49m\u001b[43mwriter\u001b[49m\u001b[43m,\u001b[49m\n\u001b[0;32m    330\u001b[0m \u001b[43m\u001b[49m\u001b[43m)\u001b[49m\n",
      "File \u001b[1;32mwriters.pyx:73\u001b[0m, in \u001b[0;36mpandas._libs.writers.write_csv_rows\u001b[1;34m()\u001b[0m\n",
      "\u001b[1;31mKeyboardInterrupt\u001b[0m: "
     ]
    }
   ],
   "source": [
    "for i in range(int(n_out//100*block_size)):\n",
    "    add_to_csv(100*block_size)"
   ]
  },
  {
   "cell_type": "markdown",
   "id": "c0db9ff8",
   "metadata": {},
   "source": [
    "### Loading model"
   ]
  },
  {
   "cell_type": "code",
   "execution_count": 23,
   "id": "1180aec0",
   "metadata": {
    "ExecuteTime": {
     "end_time": "2024-04-21T08:30:12.680561Z",
     "start_time": "2024-04-21T08:30:12.407763Z"
    }
   },
   "outputs": [
    {
     "name": "stdout",
     "output_type": "stream",
     "text": [
      "time_delay -  (-0.6678842868476162,)\n",
      "normalize output shape =  (None, 2)\n",
      "CFO_off = -0.0009350862165893193\n",
      "Phase offset =  5.345411978138272\n"
     ]
    },
    {
     "data": {
      "image/png": "[encoded data removed]",
      "text/plain": [
       "<Figure size 640x480 with 1 Axes>"
      ]
     },
     "metadata": {},
     "output_type": "display_data"
    }
   ],
   "source": [
    "AE_load = create_AE()\n",
    "AE_load.load_weights('./AE_model')\n",
    "\n",
    "before_channel = Model(inputs=AE_load.input,\n",
    "                                 outputs=AE_load.get_layer('normalization_layer').output)\n",
    "\n",
    "# not used\n",
    "after_channel = Model(inputs=AE_load.get_layer(\"decoder_start\").input,\n",
    "                                 outputs=AE_load.output)"
   ]
  },
  {
   "cell_type": "code",
   "execution_count": 20,
   "id": "743698a6",
   "metadata": {
    "ExecuteTime": {
     "end_time": "2024-04-21T08:29:48.039864Z",
     "start_time": "2024-04-21T08:29:47.824069Z"
    }
   },
   "outputs": [
    {
     "name": "stdout",
     "output_type": "stream",
     "text": [
      "normalize output shape =  (2, 2)\n",
      "[0. 1. 1. 0.]\n",
      "[-0.83660465]\n",
      "[-0.50834763]\n",
      "[-0.32825702]\n"
     ]
    }
   ],
   "source": [
    " ##\n",
    "n_out = 2\n",
    "block_size=1\n",
    "x_out = np.array(np.random.rand(n_out,k)<0.5).astype(np.float32)\n",
    "\n",
    "##\n",
    "# get encodings given by DNN for each message in training set\n",
    "enc = before_channel(x_out)\n",
    "#print('enc.shape: ', enc.shape)\n",
    "\n",
    "# convert to iq_samples\n",
    "iq_samples = tf.complex(enc[:,0::2], enc[:,1::2])\n",
    "#print('iq_samples.shape: ', iq_samples.shape)\n",
    "\n",
    "##\n",
    "M_POOL       = [0.5,1,1.5]\n",
    "SNR_DB_POOL  = [1,3,6]\n",
    "\n",
    "nakagami_chanel_coeff_tensor = []\n",
    "\n",
    "n_blocks = enc.shape[0] // block_size \n",
    "for i in range(n_blocks):\n",
    "    m = np.random.choice(M_POOL)\n",
    "    snr_db = np.random.choice(SNR_DB_POOL)\n",
    "    nakagami_chanel_coeff_tensor.append( nakagami_channel_with_awgn(m=m, omega=1,snr_db=snr_db, num_samples=(block_size,iq_samples.shape[1])) )\n",
    "\n",
    "nakagami_chanel_coeff_tensor = tf.constant(nakagami_chanel_coeff_tensor)\n",
    "#print(\"nakagami_chanel_coeff_tensor.shape : \",nakagami_chanel_coeff_tensor.shape)\n",
    "\n",
    "iq_samples_blocked = np.reshape(iq_samples,(n_blocks,block_size,-1))\n",
    "#print(\"iq_samples_blocked.shape : \",iq_samples_blocked.shape)\n",
    "\n",
    "\n",
    "# tested identity flow (enc == received_enc)  with : nakagami_chanel_coeff_tensor =  tf.complex(1.,0.)\n",
    "\n",
    "# element wise multiply\n",
    "nakagami_affected_iq_samples = tf.multiply(nakagami_chanel_coeff_tensor,iq_samples_blocked)\n",
    "# undo the blockking\n",
    "nakagami_affected_iq_samples = tf.reshape(nakagami_affected_iq_samples,(block_size*n_blocks,-1))\n",
    "#print(\"nakagami_affected_iq_samples.shape : \",nakagami_affected_iq_samples.shape)\n",
    "\n",
    "##\n",
    "# need to convert each iq_samples to two encoding\n",
    "real_part =  tf.expand_dims(tf.math.real(nakagami_affected_iq_samples),axis=2)\n",
    "imag_part =  tf.expand_dims(tf.math.imag(nakagami_affected_iq_samples),axis=2)\n",
    "\n",
    "concat = tf.concat((real_part,imag_part),axis=2)\n",
    "#print(\"concat.shape : \",concat.shape)\n",
    "received_enc = tf.cast(tf.reshape(concat,(block_size*n_blocks,-1)),tf.float32)\n",
    "#print(\"received_enc.shape : \",received_enc.shape)\n",
    "\n",
    "## \n",
    "#Summary\n",
    "# enc is the encodings presenet to channel  \n",
    "# messages --> bits --> [trained DNN]  --> enc \n",
    "#print('enc.shape: ', enc.shape)\n",
    "\n",
    "\n",
    "# received_enc is the encoding equavalent after Nakagami+noise effects considered\n",
    "# enc --> iq_samples --> [NAKAGAMI+noise effect]  --> affected_iq_smaples --> received_enc\n",
    "#print('received_enc.shape: ', received_enc.shape)\n",
    "\n",
    "# see the difference done by the channel\n",
    "enc - received_enc\n",
    "\n",
    "##\n",
    "## Adding to csv file\n",
    "enc = np.reshape(enc,(-1,1))\n",
    "received_enc = np.reshape(received_enc,(-1,1))\n",
    "#print(enc.shape)\n",
    "data = np.concatenate((enc,received_enc),axis=1)\n",
    "#print(data.shape)\n",
    "df = pd.DataFrame(data) \n",
    "\n",
    "i = 0\n",
    "print(np.array2string(x_out[i]))\n",
    "print(np.array2string(enc[i]))\n",
    "print(np.array2string(received_enc[i]))\n",
    "print(np.array2string(enc[i]-received_enc[i]))"
   ]
  }
 ],
 "metadata": {
  "kernelspec": {
   "display_name": "Python 3 (ipykernel)",
   "language": "python",
   "name": "python3"
  },
  "language_info": {
   "codemirror_mode": {
    "name": "ipython",
    "version": 3
   },
   "file_extension": ".py",
   "mimetype": "text/x-python",
   "name": "python",
   "nbconvert_exporter": "python",
   "pygments_lexer": "ipython3",
   "version": "3.9.13"
  },
  "latex_envs": {
   "LaTeX_envs_menu_present": true,
   "autoclose": false,
   "autocomplete": true,
   "bibliofile": "biblio.bib",
   "cite_by": "apalike",
   "current_citInitial": 1,
   "eqLabelWithNumbers": true,
   "eqNumInitial": 1,
   "hotkeys": {
    "equation": "Ctrl-E",
    "itemize": "Ctrl-I"
   },
   "labels_anchors": false,
   "latex_user_defs": false,
   "report_style_numbering": false,
   "user_envs_cfg": false
  },
  "toc": {
   "base_numbering": 1,
   "nav_menu": {},
   "number_sections": true,
   "sideBar": true,
   "skip_h1_title": false,
   "title_cell": "Table of Contents",
   "title_sidebar": "Contents",
   "toc_cell": false,
   "toc_position": {},
   "toc_section_display": true,
   "toc_window_display": false
  },
  "varInspector": {
   "cols": {
    "lenName": 16,
    "lenType": 16,
    "lenVar": 40
   },
   "kernels_config": {
    "python": {
     "delete_cmd_postfix": "",
     "delete_cmd_prefix": "del ",
     "library": "var_list.py",
     "varRefreshCmd": "print(var_dic_list())"
    },
    "r": {
     "delete_cmd_postfix": ") ",
     "delete_cmd_prefix": "rm(",
     "library": "var_list.r",
     "varRefreshCmd": "cat(var_dic_list()) "
    }
   },
   "types_to_exclude": [
    "module",
    "function",
    "builtin_function_or_method",
    "instance",
    "_Feature"
   ],
   "window_display": false
  }
 },
 "nbformat": 4,
 "nbformat_minor": 5
}
