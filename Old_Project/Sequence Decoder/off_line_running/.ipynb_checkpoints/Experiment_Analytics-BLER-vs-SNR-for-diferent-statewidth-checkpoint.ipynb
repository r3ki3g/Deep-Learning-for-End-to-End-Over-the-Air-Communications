{
 "cells": [
  {
   "cell_type": "code",
   "execution_count": 75,
   "id": "5688bc62",
   "metadata": {
    "ExecuteTime": {
     "end_time": "2024-04-19T07:18:10.379134Z",
     "start_time": "2024-04-19T07:18:09.630153Z"
    }
   },
   "outputs": [],
   "source": [
    "import json\n",
    "import os\n",
    "import sys\n",
    "\n",
    "import numpy as np\n",
    "from matplotlib import pyplot as plt"
   ]
  },
  {
   "cell_type": "code",
   "execution_count": 76,
   "id": "151d0a41",
   "metadata": {
    "ExecuteTime": {
     "end_time": "2024-04-19T07:18:11.208345Z",
     "start_time": "2024-04-19T07:18:10.458240Z"
    }
   },
   "outputs": [],
   "source": [
    "res_dir_path = r\"D:\\ENTC\\PROJECTS\\Deep-Learning-for-End-to-End-Over-the-Air-Communications\\Sequence Decoder\"\n",
    "EPS = 1e-6\n",
    "\n",
    "def get_all_experiments_as_obj(experiment_name):\n",
    "    res_dir_abs_path = os.path.join(res_dir_path,experiment_name)\n",
    "    if False == os.path.exists(res_dir_abs_path):\n",
    "        raise Exception(\"The experiment directory not found\")\n",
    "    \n",
    "    all_experiment_rec_files = os.listdir(res_dir_abs_path)\n",
    "    all_experiments = []\n",
    "    \n",
    "\n",
    "    for rec_file in all_experiment_rec_files:\n",
    "            with open(os.path.join(res_dir_abs_path,rec_file),\"r\") as file:\n",
    "                experiment_obj = json.load(file)\n",
    "                all_experiments.append(experiment_obj)\n",
    "                \n",
    "    return all_experiments\n",
    "\n",
    "\n",
    "def limit_properties(obj_list,interested_properties):\n",
    "    new_objs = []\n",
    "    for obj in obj_list:\n",
    "        new_obj = dict()\n",
    "        for prop in interested_properties:\n",
    "            new_obj[prop] = obj[prop]\n",
    "        new_objs.append(new_obj)\n",
    "    return new_objs   \n",
    "\n",
    "\n",
    "def stem_propeties(experiments_objs,feature_x,feature_y):\n",
    "    x = []\n",
    "    y = []\n",
    "    for obj in experiments_objs:\n",
    "        x.append(obj[feature_x])\n",
    "        y.append(obj[feature_y])\n",
    "        \n",
    "    plt.stem(x,y)\n",
    "    plt.show()\n",
    "\n",
    "    # plot bit accuracy vs SNR for each CFO_coef\n",
    "def comparative_plot(EXP,FEATURE_X,FEATURE_Y,COMPAR_VAR_NAME,stem=False):\n",
    "    # COMPAR_VAR_NAME = \"CFO_coef\"\n",
    "    # FEATURE_X = \"SNR\"\n",
    "    # FEATURE_Y = \"bit_accuracy\"\n",
    "    COMPAR_VAR_POOL = [0.1, 0.5, 1]\n",
    "    collections = []\n",
    "    for comp_var in COMPAR_VAR_POOL:\n",
    "        filtered_exp = [exp for exp in EXP if exp[COMPAR_VAR_NAME] == comp_var]\n",
    "        separated_exp = {\n",
    "            \"comp_var_name\": COMPAR_VAR_NAME,\n",
    "            \"comp_var\": comp_var,\n",
    "            \"exp_list\": filtered_exp\n",
    "        }\n",
    "        collections.append(separated_exp)\n",
    "\n",
    "\n",
    "    fig,ax = plt.subplots(1,1)\n",
    "    for collection in collections:\n",
    "        x = []\n",
    "        y = []\n",
    "        for exp in collection['exp_list']:\n",
    "            x.append(exp[FEATURE_X])\n",
    "            y.append(exp[FEATURE_Y])\n",
    "        if stem:\n",
    "            if not x:\n",
    "                continue\n",
    "            ax.stem(x,y)\n",
    "        else:\n",
    "            ax.plot(x,y,label=f'{collection[\"comp_var_name\"]} = {collection[\"comp_var\"]}')\n",
    "\n",
    "    ax.grid()\n",
    "    ax.legend()\n",
    "    plt.show()\n",
    "\n",
    "    \n",
    "    \n",
    "def stats_BLER(experiments):\n",
    "    buffer = []\n",
    "    for exp in experiments:\n",
    "        buffer.append(exp['BLER'])\n",
    "    return {\"mean\": np.array(buffer).mean(), \n",
    "            \"min\":np.array(buffer).min()}\n",
    "    "
   ]
  },
  {
   "cell_type": "code",
   "execution_count": null,
   "id": "57bae273",
   "metadata": {
    "ExecuteTime": {
     "end_time": "2024-04-18T09:34:00.907499Z",
     "start_time": "2024-04-18T09:33:59.266967Z"
    }
   },
   "outputs": [],
   "source": []
  },
  {
   "cell_type": "markdown",
   "id": "51c33b39",
   "metadata": {},
   "source": [
    "## Full CFO"
   ]
  },
  {
   "cell_type": "code",
   "execution_count": 102,
   "id": "fac78798",
   "metadata": {
    "ExecuteTime": {
     "end_time": "2024-04-19T18:24:43.210585Z",
     "start_time": "2024-04-19T18:24:41.943940Z"
    }
   },
   "outputs": [],
   "source": [
    "EXP = get_all_experiments_as_obj(\"grand-full-cfo-1\") + get_all_experiments_as_obj(\"grand-full-cfo-2\")\n",
    "# EXP"
   ]
  },
  {
   "cell_type": "code",
   "execution_count": 78,
   "id": "6fa676ef",
   "metadata": {
    "ExecuteTime": {
     "end_time": "2024-04-19T07:18:12.881878Z",
     "start_time": "2024-04-19T07:18:12.849912Z"
    }
   },
   "outputs": [],
   "source": [
    "# EXP = [exp for exp in EXP if exp['n_epochs']==40 and exp[\"state_width\"]==8]"
   ]
  },
  {
   "cell_type": "code",
   "execution_count": 103,
   "id": "bdc6598b",
   "metadata": {
    "ExecuteTime": {
     "end_time": "2024-04-19T18:24:47.453264Z",
     "start_time": "2024-04-19T18:24:47.446748Z"
    }
   },
   "outputs": [],
   "source": [
    "for exp in EXP:\n",
    "    exp[\"BLER\"] = 1- exp[\"bit_accuracy\"]"
   ]
  },
  {
   "cell_type": "code",
   "execution_count": 107,
   "id": "93aa2e6a",
   "metadata": {
    "ExecuteTime": {
     "end_time": "2024-04-19T18:27:32.159760Z",
     "start_time": "2024-04-19T18:27:32.151026Z"
    },
    "scrolled": true
   },
   "outputs": [
    {
     "data": {
      "text/plain": [
       "{'mean': 0.02046874999999998, 'min': 0.015312499999999951}"
      ]
     },
     "execution_count": 107,
     "metadata": {},
     "output_type": "execute_result"
    }
   ],
   "source": [
    "stats_BLER(\n",
    "\n",
    "            list(filter(lambda x: x['SNR']==6 and x['state_width']==8,\n",
    "                    limit_properties(EXP,['SNR','state_width','CFO_coef',\"BLER\"])))\n",
    "\n",
    ")"
   ]
  },
  {
   "cell_type": "code",
   "execution_count": null,
   "id": "54cfca93",
   "metadata": {
    "ExecuteTime": {
     "end_time": "2024-04-18T10:07:22.940712Z",
     "start_time": "2024-04-18T10:07:22.925175Z"
    }
   },
   "outputs": [],
   "source": []
  },
  {
   "cell_type": "code",
   "execution_count": 111,
   "id": "e13903d8",
   "metadata": {
    "ExecuteTime": {
     "end_time": "2024-04-19T18:31:10.701685Z",
     "start_time": "2024-04-19T18:31:10.469598Z"
    },
    "scrolled": false
   },
   "outputs": [
    {
     "name": "stdout",
     "output_type": "stream",
     "text": [
      "zipped [(0, -0.029623598328601786), (1, -0.5945238661338861), (2, -1.2128868164991582), (4, -2.0279824013259837), (8, -1.0054584978049663)]\n"
     ]
    },
    {
     "data": {
      "image/png": "[encoded data removed]",
      "text/plain": [
       "<Figure size 640x480 with 1 Axes>"
      ]
     },
     "metadata": {},
     "output_type": "display_data"
    }
   ],
   "source": [
    "state_width_all = [0,1,2,4,8]\n",
    "log_bler_min_all = []\n",
    "for state_width in state_width_all:\n",
    "    \n",
    "    bler_min = stats_BLER(\n",
    "\n",
    "                list(filter(lambda x: x['SNR']==1 and x['state_width']==state_width,\n",
    "                        limit_properties(EXP,['SNR','state_width','CFO_coef',\"BLER\"])))\n",
    "\n",
    "    )['min']\n",
    "    \n",
    "    log_bler_min_all.append(np.log10(bler_min + EPS))\n",
    "    \n",
    "plt.plot(state_width_all,log_bler_min_all)\n",
    "print(\"zipped\", list(zip(state_width_all,log_bler_min_all)))\n",
    "\n",
    "\n",
    "plt.title(\"BLER against state path in RNN (SNR=6 dB)\")\n",
    "plt.xlabel(\"state width\")\n",
    "plt.ylabel(\"BLER (log)\")\n",
    "plt.grid()\n",
    "plt.show()"
   ]
  },
  {
   "cell_type": "markdown",
   "id": "d9b4413d",
   "metadata": {},
   "source": [
    "## No CFO"
   ]
  },
  {
   "cell_type": "code",
   "execution_count": 82,
   "id": "2cd91e3b",
   "metadata": {
    "ExecuteTime": {
     "end_time": "2024-04-19T07:18:15.152816Z",
     "start_time": "2024-04-19T07:18:13.865845Z"
    }
   },
   "outputs": [
    {
     "data": {
      "image/png": "[encoded data removed]",
      "text/plain": [
       "<Figure size 640x480 with 1 Axes>"
      ]
     },
     "metadata": {},
     "output_type": "display_data"
    }
   ],
   "source": [
    "EXP = get_all_experiments_as_obj(\"grand-no-cfo\")\n",
    "for exp in EXP:\n",
    "    exp[\"BLER\"] = 1- exp[\"bit_accuracy\"]\n",
    "    \n",
    "    \n",
    "state_width_all = [0,2,8]\n",
    "log_bler_min_all = []\n",
    "for state_width in state_width_all:\n",
    "    \n",
    "    bler_min = stats_BLER(\n",
    "\n",
    "                list(filter(lambda x: x['SNR']==6 and x['state_width']==state_width,\n",
    "                        limit_properties(EXP,['SNR','state_width','CFO_coef',\"BLER\"])))\n",
    "\n",
    "    )['min']\n",
    "    \n",
    "    log_bler_min_all.append(np.log10(bler_min + EPS))\n",
    "    \n",
    "plt.plot(state_width_all,log_bler_min_all)\n",
    "plt.title(\"BLER against state path in RNN\")\n",
    "plt.xlabel(\"state width\")\n",
    "plt.ylabel(\"BLER (log)\")\n",
    "plt.show()"
   ]
  },
  {
   "cell_type": "code",
   "execution_count": null,
   "id": "119f4983",
   "metadata": {},
   "outputs": [],
   "source": []
  },
  {
   "cell_type": "code",
   "execution_count": null,
   "id": "c0f3c960",
   "metadata": {},
   "outputs": [],
   "source": []
  },
  {
   "cell_type": "code",
   "execution_count": null,
   "id": "9fd0bf35",
   "metadata": {},
   "outputs": [],
   "source": []
  },
  {
   "cell_type": "code",
   "execution_count": null,
   "id": "616556eb",
   "metadata": {},
   "outputs": [],
   "source": []
  },
  {
   "cell_type": "code",
   "execution_count": null,
   "id": "56e546dd",
   "metadata": {},
   "outputs": [],
   "source": []
  },
  {
   "cell_type": "code",
   "execution_count": null,
   "id": "ff1fb76d",
   "metadata": {},
   "outputs": [],
   "source": []
  },
  {
   "cell_type": "code",
   "execution_count": 83,
   "id": "6dd1683f",
   "metadata": {
    "ExecuteTime": {
     "end_time": "2024-04-19T07:18:15.168112Z",
     "start_time": "2024-04-19T07:18:15.152816Z"
    }
   },
   "outputs": [],
   "source": [
    "# snr_all = [1,6,10]\n",
    "# log_bler_min_all = []\n",
    "# for snr in snr_all:\n",
    "    \n",
    "#     bler_min = stats_BLER(\n",
    "\n",
    "#                 list(filter(lambda x: x['SNR']==snr and x['state_width']==8,\n",
    "#                         limit_properties(EXP,['SNR','state_width','CFO_coef',\"BLER\"])))\n",
    "\n",
    "#     )['mean']\n",
    "    \n",
    "#     log_bler_min_all.append((bler_min))\n",
    "    \n",
    "# plt.stem(snr_all,log_bler_min_all)\n",
    "# plt.show()"
   ]
  },
  {
   "cell_type": "code",
   "execution_count": null,
   "id": "42ddf369",
   "metadata": {},
   "outputs": [],
   "source": []
  },
  {
   "cell_type": "code",
   "execution_count": null,
   "id": "2fd42267",
   "metadata": {},
   "outputs": [],
   "source": []
  },
  {
   "cell_type": "code",
   "execution_count": null,
   "id": "188da07d",
   "metadata": {},
   "outputs": [],
   "source": []
  },
  {
   "cell_type": "code",
   "execution_count": null,
   "id": "2fe41341",
   "metadata": {},
   "outputs": [],
   "source": []
  },
  {
   "cell_type": "code",
   "execution_count": 84,
   "id": "c623bada",
   "metadata": {
    "ExecuteTime": {
     "end_time": "2024-04-19T07:18:15.215452Z",
     "start_time": "2024-04-19T07:18:15.168112Z"
    }
   },
   "outputs": [],
   "source": [
    "# comparative_plot(subset,\"SNR\",\"BLER\",\"CFO_coef\",stem=True)\n"
   ]
  },
  {
   "cell_type": "code",
   "execution_count": null,
   "id": "9c81b720",
   "metadata": {},
   "outputs": [],
   "source": []
  },
  {
   "cell_type": "code",
   "execution_count": null,
   "id": "697a6016",
   "metadata": {},
   "outputs": [],
   "source": []
  },
  {
   "cell_type": "code",
   "execution_count": null,
   "id": "b7e1db3e",
   "metadata": {},
   "outputs": [],
   "source": []
  },
  {
   "cell_type": "code",
   "execution_count": null,
   "id": "ba888320",
   "metadata": {},
   "outputs": [],
   "source": []
  },
  {
   "cell_type": "code",
   "execution_count": null,
   "id": "53bba652",
   "metadata": {},
   "outputs": [],
   "source": []
  },
  {
   "cell_type": "code",
   "execution_count": 85,
   "id": "427f9f97",
   "metadata": {
    "ExecuteTime": {
     "end_time": "2024-04-19T07:18:15.231369Z",
     "start_time": "2024-04-19T07:18:15.215452Z"
    }
   },
   "outputs": [],
   "source": [
    "# limit_properties(EXP,['SNR','bit_accuracy','CFO_coef'])"
   ]
  },
  {
   "cell_type": "code",
   "execution_count": 86,
   "id": "96561630",
   "metadata": {
    "ExecuteTime": {
     "end_time": "2024-04-19T07:18:15.247388Z",
     "start_time": "2024-04-19T07:18:15.231369Z"
    }
   },
   "outputs": [],
   "source": [
    "# stem_propeties(EXP,'SNR','bit_accuracy')"
   ]
  }
 ],
 "metadata": {
  "kernelspec": {
   "display_name": "Python 3 (ipykernel)",
   "language": "python",
   "name": "python3"
  },
  "language_info": {
   "codemirror_mode": {
    "name": "ipython",
    "version": 3
   },
   "file_extension": ".py",
   "mimetype": "text/x-python",
   "name": "python",
   "nbconvert_exporter": "python",
   "pygments_lexer": "ipython3",
   "version": "3.9.13"
  },
  "latex_envs": {
   "LaTeX_envs_menu_present": true,
   "autoclose": false,
   "autocomplete": true,
   "bibliofile": "biblio.bib",
   "cite_by": "apalike",
   "current_citInitial": 1,
   "eqLabelWithNumbers": true,
   "eqNumInitial": 1,
   "hotkeys": {
    "equation": "Ctrl-E",
    "itemize": "Ctrl-I"
   },
   "labels_anchors": false,
   "latex_user_defs": false,
   "report_style_numbering": false,
   "user_envs_cfg": false
  },
  "toc": {
   "base_numbering": 1,
   "nav_menu": {},
   "number_sections": true,
   "sideBar": true,
   "skip_h1_title": false,
   "title_cell": "Table of Contents",
   "title_sidebar": "Contents",
   "toc_cell": false,
   "toc_position": {},
   "toc_section_display": true,
   "toc_window_display": false
  },
  "varInspector": {
   "cols": {
    "lenName": 16,
    "lenType": 16,
    "lenVar": 40
   },
   "kernels_config": {
    "python": {
     "delete_cmd_postfix": "",
     "delete_cmd_prefix": "del ",
     "library": "var_list.py",
     "varRefreshCmd": "print(var_dic_list())"
    },
    "r": {
     "delete_cmd_postfix": ") ",
     "delete_cmd_prefix": "rm(",
     "library": "var_list.r",
     "varRefreshCmd": "cat(var_dic_list()) "
    }
   },
   "types_to_exclude": [
    "module",
    "function",
    "builtin_function_or_method",
    "instance",
    "_Feature"
   ],
   "window_display": false
  }
 },
 "nbformat": 4,
 "nbformat_minor": 5
}
