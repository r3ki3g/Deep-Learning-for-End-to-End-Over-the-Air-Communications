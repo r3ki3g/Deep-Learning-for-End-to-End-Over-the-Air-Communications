{
 "cells": [
  {
   "cell_type": "markdown",
   "metadata": {
    "id": "VSTgsilO1_ur"
   },
   "source": [
    "online version of this notebook : https://colab.research.google.com/drive/12iz5_mTOmTa0oyn5IZZYnEskVUonViVW#scrollTo=VSTgsilO1_ur"
   ]
  },
  {
   "cell_type": "code",
   "execution_count": 1,
   "metadata": {
    "ExecuteTime": {
     "end_time": "2024-04-16T15:45:08.515186Z",
     "start_time": "2024-04-16T15:45:01.104864Z"
    },
    "id": "pWavhXJRGytK"
   },
   "outputs": [],
   "source": [
    "import tensorflow as tf\n",
    "import keras\n",
    "from keras.optimizers import Adam\n",
    "from keras.layers import Dense\n",
    "from keras.models import Model, Sequential\n",
    "from keras.activations import relu, softmax\n",
    "from keras.losses import SparseCategoricalCrossentropy\n",
    "\n",
    "\n",
    "import numpy as np\n",
    "from matplotlib import pyplot as plt"
   ]
  },
  {
   "cell_type": "code",
   "execution_count": 2,
   "metadata": {
    "ExecuteTime": {
     "end_time": "2024-04-16T15:45:08.530553Z",
     "start_time": "2024-04-16T15:45:08.516134Z"
    },
    "id": "4k-_9gsVQnu1"
   },
   "outputs": [],
   "source": [
    "def get_feature_extractor():\n",
    "  raise NotImplementedError()\n",
    "\n",
    "def get_internal_slicer():\n",
    "  raise NotImplementedError()\n",
    "\n",
    "\n",
    "def get_rx_decoder():\n",
    "  raise NotImplementedError()\n",
    "\n",
    "def phase_multiply(internally_sliced_y,h):\n",
    "  raise NotImplementedError()"
   ]
  },
  {
   "cell_type": "markdown",
   "metadata": {
    "id": "MNx0nzHGxCtg"
   },
   "source": [
    "## PARAMS\n",
    "<a name=\"params\">.</a>\n",
    "<a href=\"#datasyn\">go to data gen</a>"
   ]
  },
  {
   "cell_type": "code",
   "execution_count": 3,
   "metadata": {
    "ExecuteTime": {
     "end_time": "2024-04-16T15:45:08.545398Z",
     "start_time": "2024-04-16T15:45:08.532756Z"
    },
    "id": "eQvOU0nYbPdu"
   },
   "outputs": [],
   "source": [
    "# Model parameters\n",
    "\n",
    "k = 4\n",
    "NUM_CHANNEL_USES = 7\n",
    "block_size = 320\n",
    "\n",
    "snr = 6 #9 for training\n",
    "\n",
    "model_training_num_of_frames = 10**3 #10**4\n",
    "model_validating_num_of_frames = 10**2 #10**3\n",
    "\n",
    "n_train = block_size * model_training_num_of_frames\n",
    "n_val   = block_size * model_validating_num_of_frames\n",
    "\n",
    "# Geanerating dataset\n",
    "model_output_num_of_frames = 10**5\n",
    "n_out = block_size * model_output_num_of_frames\n",
    "\n",
    "num_epoches = 5"
   ]
  },
  {
   "cell_type": "code",
   "execution_count": 4,
   "metadata": {
    "ExecuteTime": {
     "end_time": "2024-04-16T15:45:08.564213Z",
     "start_time": "2024-04-16T15:45:08.547392Z"
    },
    "id": "8llGxbteuvUt"
   },
   "outputs": [],
   "source": [
    "SLICED_Y_LENGTH = 16\n",
    "BATCH_SIZE =  1\n",
    "\n",
    "# in teh feature extractor path \"f\" : design param\n",
    "# Our experiments have shown that even a\n",
    "# small number of features, e.g., F = 4, significantly improves\n",
    "# the performance.\n",
    "N_FEATURES_EXTRACTED = 8"
   ]
  },
  {
   "cell_type": "code",
   "execution_count": 5,
   "metadata": {
    "ExecuteTime": {
     "end_time": "2024-04-16T15:45:08.575823Z",
     "start_time": "2024-04-16T15:45:08.569203Z"
    },
    "id": "AU4v5qeU_LTW"
   },
   "outputs": [],
   "source": [
    "def R2C(a):\n",
    "\n",
    "    aa = tf.cast(tf.reshape(a,shape=(BATCH_SIZE,-1,2)),tf.float32)\n",
    "\n",
    "    aaa = tf.complex(aa[:,:,0],aa[:,:,1])\n",
    "    return aaa\n",
    "\n",
    "def C2R(a):\n",
    "    real, imag = tf.expand_dims(tf.math.real(a),axis=2) ,tf.expand_dims(tf.math.imag(a), axis=2)\n",
    "    R = tf.concat((real,imag),axis=2)\n",
    "    R = tf.reshape(R , (BATCH_SIZE,-1)  )\n",
    "    return R\n"
   ]
  },
  {
   "cell_type": "markdown",
   "metadata": {
    "id": "I9Oj3oPvZcHV"
   },
   "source": [
    "# Stochastic Channel Model & Layer"
   ]
  },
  {
   "cell_type": "markdown",
   "metadata": {
    "id": "xsd5N4qhfV0O"
   },
   "source": [
    "### Additional Layers"
   ]
  },
  {
   "cell_type": "code",
   "execution_count": 6,
   "metadata": {
    "ExecuteTime": {
     "end_time": "2024-04-16T15:45:08.623365Z",
     "start_time": "2024-04-16T15:45:08.576820Z"
    },
    "id": "a73PhgGbfYlk"
   },
   "outputs": [],
   "source": [
    "class L2Normalization(tf.keras.layers.Layer):\n",
    "    def __init__(self,**kwargs):\n",
    "        super(L2Normalization, self).__init__(**kwargs)\n",
    "    def call(self, inputs):\n",
    "        out = tf.nn.l2_normalize(inputs, axis=-1)\n",
    "        print(\"normalize output shape = \",out.shape)\n",
    "        return out\n",
    "    def get_config(self):\n",
    "        return super(L2Normalization, self).get_config()\n",
    "\n",
    "\n",
    "def generate_nakagami_samples(m, omega):\n",
    "    nakagami_amp_vec = nakagami.rvs(m,omega,size =  NUM_CHANNEL_USES)   # Same gain for the real part and the imaginary part\n",
    "    nakagami_phase_vec = np.random.uniform(low=0.0, high=2*np.pi, size = NUM_CHANNEL_USES)    # phase shift will effect the complex number\n",
    "    nakagami_for_real = np.reshape(nakagami_amp_vec*np.cos(nakagami_phase_vec),(-1,1))\n",
    "    nakagami_for_imag = np.reshape(nakagami_amp_vec*np.sin(nakagami_phase_vec),(-1,1))\n",
    "    fading_vec = np.reshape(np.concatenate((nakagami_for_real,nakagami_for_imag),axis=1),(1,-1))[0]\n",
    "    return  tf.constant(fading_vec, dtype=tf.float32)\n",
    "\n",
    "class NakagamiNoiseLayer(tf.keras.layers.Layer):\n",
    "    def __init__(self, distribution_params, **kwargs):\n",
    "        super(NakagamiNoiseLayer, self).__init__(**kwargs)\n",
    "        self.distribution_params = distribution_params\n",
    "\n",
    "    def call(self, inputs, training=False):\n",
    "      fading = generate_nakagami_samples(m = self.distribution_params[\"m\"],\n",
    "                                        omega = self.distribution_params[\"omega\"])\n",
    "      return inputs * fading"
   ]
  },
  {
   "cell_type": "markdown",
   "metadata": {
    "id": "H1ejiEuHf1B0"
   },
   "source": [
    "### Stochastic channel"
   ]
  },
  {
   "cell_type": "code",
   "execution_count": 7,
   "metadata": {
    "ExecuteTime": {
     "end_time": "2024-04-16T15:45:09.325859Z",
     "start_time": "2024-04-16T15:45:08.625364Z"
    },
    "id": "Tm8yRX0xa_ul"
   },
   "outputs": [],
   "source": [
    "from scipy.stats import truncnorm\n",
    "from scipy.stats import uniform\n",
    "\n",
    "r = 4           # For upsampling -> number of complex samples per symbol\n",
    "roll_off = 0.35 # Roll off factor\n",
    "L = 31          # Number of taps (odd) for RRC filter\n",
    "f_s = 25e4      # 25e4 is used in our physical implementation  # 2e6 used in the paper\n",
    "T_bound = 1/f_s # Go through the resharch paper Deep Learning Based Communication Over the Air  (content under table 1)\n",
    "time_delay = np.random.uniform(-1,1) # To convert the time delay into discrete domain, time dilay is giving relative to the sampling period\n",
    "CFO = 5e3       # 5e3 is used in our physical implementation\n",
    "CFO_std = CFO/f_s\n",
    "snr = snr         # Snr in db"
   ]
  },
  {
   "cell_type": "code",
   "execution_count": 8,
   "metadata": {
    "ExecuteTime": {
     "end_time": "2024-04-16T15:45:09.357243Z",
     "start_time": "2024-04-16T15:45:09.326864Z"
    },
    "id": "gA_f6Q7cZiUN"
   },
   "outputs": [],
   "source": [
    "\n",
    "# function to create the complex values\n",
    "def real_to_complex_tensor(inp_tensor):\n",
    "  inp_tensor = tf.reshape(inp_tensor, [-1, 2])\n",
    "  real_part = inp_tensor[:, 0]\n",
    "  imag_part = inp_tensor[:, 1]\n",
    "  complex_tensor = tf.complex(real_part, imag_part)\n",
    "  return complex_tensor\n",
    "\n",
    "def complex_to_real_tensor(inp_tensor):\n",
    "   real_part , imag_part = tf.math.real(inp_tensor), tf.math.imag(inp_tensor)\n",
    "   real_part = tf.reshape(real_part,[-1,1])\n",
    "   imag_part = tf.reshape(imag_part,[-1,1])\n",
    "   return tf.reshape(tf.concat([real_part,imag_part],1),[-1])\n",
    "\n",
    "# Upsample\n",
    "def upsampling(inp,r):\n",
    "  com_reshape = tf.reshape(inp,[-1,1])\n",
    "  padding = tf.constant([[0,0],[0,r-1]])\n",
    "  upsampled = tf.pad(com_reshape,padding,\"CONSTANT\")\n",
    "  return tf.reshape(upsampled,[-1])\n",
    "\n",
    "# Normalized RRC with time shift\n",
    "def NRRC_filter(num_taps, roll_off, time_delay):\n",
    "  t = np.linspace(-(num_taps-1)/2,(num_taps-1)/2,num_taps) - time_delay\n",
    "  eps = np.finfo(float).eps # Small epsilon to avoid divisiomn by zero\n",
    "  pi = np.pi\n",
    "  def RRC_filter_coff(t):\n",
    "    if abs(t) < eps:  # For t==0\n",
    "      return 1.0 - roll_off + (4*roll_off/pi)\n",
    "    elif roll_off != 0 and (abs(t-1/(4*roll_off))<eps or abs(t+1/(4*roll_off))<eps):\n",
    "      return (roll_off/np.sqrt(2))*(1 + 2/pi)*np.sin(pi/(4*roll_off)) + (1- 2/pi)*np.cos(pi/(4*roll_off))\n",
    "    else:\n",
    "      nu = np.sin(pi*t*(1-roll_off)) + 4*roll_off*t*np.cos(pi*t*(1+roll_off))\n",
    "      den = pi*t*(1-(4*roll_off*t)**2)\n",
    "      return nu/(den + eps)\n",
    "  filter_coff = np.array([RRC_filter_coff(T) for T in t])\n",
    "  NRRC_filter_coff = filter_coff / np.sum(np.abs(filter_coff))\n",
    "  print(f\"Time_delay = {time_delay}\")\n",
    "  plt.stem(t,NRRC_filter_coff)  # Plot for visualization\n",
    "  return tf.constant(NRRC_filter_coff,dtype = tf.float32)\n",
    "\n",
    "# Phase offset\n",
    "def PhaseOffset_vec(batch_size,NUM_CHANNEL_USES,num_taps,r,CFO_std):\n",
    "  l = batch_size*r*NUM_CHANNEL_USES+num_taps-1\n",
    "  CFO_off = truncnorm.rvs(-1.96,1.96)*CFO_std  # boundaries will be selected for 95% confidence\n",
    "  print(\"CFO_off =\",CFO_off)                   # CFO_min and CFO_max (boundaries) will be selected for 95% confidence\n",
    "  exp_vec = []\n",
    "  phase_off = 0\n",
    "  for i in range(l):\n",
    "    if i%r ==0:\n",
    "      phase_off = uniform.rvs(scale = 2*np.pi)\n",
    "    exp_vec.append(tf.math.exp(tf.constant([0+(2*np.pi*i*CFO_off+phase_off)*1j],dtype=tf.complex64)))\n",
    "  return tf.reshape(tf.stack(exp_vec),[-1])\n",
    "\n",
    "\n",
    "class UpsamplingLayer(keras.layers.Layer):\n",
    "    def __init__(self, r =r):\n",
    "        super().__init__()\n",
    "        self.r = r\n",
    "    def call(self,inputs):\n",
    "       return upsampling(inputs,self.r)\n",
    "\n",
    "class PulseShaping(keras.layers.Layer):\n",
    "    def __init__(self,num_taps,roll_off,time_delay):\n",
    "      super().__init__()\n",
    "      self.nrrc_filter = NRRC_filter(num_taps,roll_off,time_delay)\n",
    "      self.nrrc_filter = tf.reshape(self.nrrc_filter,[num_taps,1,1])\n",
    "      self.num_taps = num_taps\n",
    "    def call(self, inputs):\n",
    "      padding_size = self.num_taps // 2\n",
    "      paddings = tf.constant([[padding_size, padding_size]])\n",
    "      real_part = tf.pad(tf.math.real(inputs), paddings, \"CONSTANT\")\n",
    "      imag_part = tf.pad(tf.math.imag(inputs), paddings, \"CONSTANT\")\n",
    "      real_part = tf.reshape(real_part,[1,-1,1])\n",
    "      imag_part = tf.reshape(imag_part,[1,-1,1])\n",
    "      real_conv = tf.nn.conv1d(real_part,self.nrrc_filter,stride=1,padding=\"SAME\")\n",
    "      imag_conv = tf.nn.conv1d(imag_part,self.nrrc_filter,stride=1,padding=\"SAME\")\n",
    "      real_conv = tf.reshape(real_conv,[-1])\n",
    "      imag_conv = tf.reshape(imag_conv,[-1])\n",
    "      return tf.complex(real_conv,imag_conv)\n",
    "\n",
    "class PhaseOffset(keras.layers.Layer):\n",
    "    def __init__(self,batch_size,NUM_CHANNEL_USES,num_taps,r,CFO_std):\n",
    "      super().__init__()\n",
    "      self.batch_size = batch_size\n",
    "      self.num_channel_uses = NUM_CHANNEL_USES\n",
    "      self.num_taps = num_taps\n",
    "      self.r = r\n",
    "      self.CFO_std = CFO_std\n",
    "    def call(self,inputs):\n",
    "       return inputs * PhaseOffset_vec(self.batch_size, self.num_channel_uses,self.num_taps,self.r,self.CFO_std)\n",
    "\n",
    "class StochasticChannelLayer(keras.layers.Layer):\n",
    "    \"\"\"This channel will output 1D tensor.\n",
    "        r ----------> upsampling constant (number of complex samples per symbol)\n",
    "        time_delay -> uniformly distributed time delay between (-1,1), discrete domain,\n",
    "                      time dilay is giving relative to the sampling period\n",
    "        CFO_std ----> CFO_frequency / sampling_frequency is taken as the standared deviation\n",
    "        snr --------> snr for AWGN channel\n",
    "        output_shape -> None - output_shape is 1D tensor for sequence decoder, or give an output shape prefer \"\"\"\n",
    "    def __init__(self, NUM_CHANNEL_USES,batch_size,r,roll_off,num_taps,time_delay,CFO_std,snr):\n",
    "        super().__init__()\n",
    "        self.UpSamplingLayer_inst = UpsamplingLayer(r)\n",
    "        self.PulseShaping_inst = PulseShaping(num_taps,roll_off,time_delay)\n",
    "        self.PhaseOffset_inst = PhaseOffset(batch_size,NUM_CHANNEL_USES,num_taps,r,CFO_std)\n",
    "        self.AWGNlayer = keras.layers.GaussianNoise(stddev = np.sqrt(1/10**(snr/10)))\n",
    "    def call(self, inputs):\n",
    "      inputs = tf.reshape(inputs,[-1])\n",
    "      inputs = real_to_complex_tensor(inputs)\n",
    "      x = self.UpSamplingLayer_inst(inputs)\n",
    "      x = self.PulseShaping_inst(x)\n",
    "      x = self.PhaseOffset_inst(x)\n",
    "\n",
    "      x = complex_to_real_tensor(x)\n",
    "      x = self.AWGNlayer(x)\n",
    "      #print(\"StochasticChannelLayer output shape = \",x.shape)\n",
    "      return x\n",
    "\n",
    "# Stochastic channel model\n",
    "class StochasticChannelModel(keras.Model):\n",
    "    \"\"\"This channel will output 1D tensor.\n",
    "    r ----------> upsampling constant (number of complex samples per symbol)\n",
    "    time_delay -> uniformly distributed time delay between (-1,1), discrete domain,\n",
    "                    time dilay is giving relative to the sampling period\n",
    "    CFO_std ----> CFO_frequency / sampling_frequency is taken as the standared deviation\n",
    "    snr --------> snr for AWGN channel\n",
    "    output_shape -> None - output_shape is 1D tensor for sequence decoder, or give an output shape prefer \"\"\"\n",
    "    def __init__(self, NUM_CHANNEL_USES,batch_size,r,roll_off,num_taps,time_delay,CFO_std,snr):\n",
    "        super().__init__()\n",
    "        self.UpSamplingLayer_inst = UpsamplingLayer(r)\n",
    "        self.PulseShaping_inst = PulseShaping(num_taps,roll_off,time_delay)\n",
    "        self.PhaseOffset_inst = PhaseOffset(batch_size,NUM_CHANNEL_USES,num_taps,r,CFO_std)\n",
    "        self.AWGNlayer = keras.layers.GaussianNoise(stddev = np.sqrt(1/10**(snr/10)))\n",
    "    def call(self, inputs):\n",
    "        inputs = tf.reshape(inputs,[-1])\n",
    "        inputs = real_to_complex_tensor(inputs)\n",
    "        x = self.UpSamplingLayer_inst(inputs)\n",
    "        x = self.PulseShaping_inst(x)\n",
    "        x = self.PhaseOffset_inst(x)\n",
    "        x = complex_to_real_tensor(x)\n",
    "        x = self.AWGNlayer(x)\n",
    "        #print(\"StochasticChannelModel output shape = \",x.shape)\n",
    "        return x"
   ]
  },
  {
   "cell_type": "markdown",
   "metadata": {
    "id": "HG_PMHaC_Nbd"
   },
   "source": [
    "## Main Blocks in the Sequence Decoder"
   ]
  },
  {
   "cell_type": "code",
   "execution_count": 9,
   "metadata": {
    "ExecuteTime": {
     "end_time": "2024-04-16T15:45:09.388271Z",
     "start_time": "2024-04-16T15:45:09.359218Z"
    },
    "id": "Mx-vTDXeUVmT"
   },
   "outputs": [],
   "source": [
    "\n",
    "class FeatureExtractor(Model):\n",
    "    def __init__(self):\n",
    "        super().__init__()\n",
    "\n",
    "        self.cf1 = Dense(256,name=\"r3->FeatureExtractor->cf1\")\n",
    "\n",
    "        self.cf2 = Dense(N_FEATURES_EXTRACTED,name=\"r3->FeatureExtractor->cf2\")\n",
    "\n",
    "        self.cf_state = Dense(8,name=\"featureExtractor_stateFC\")\n",
    "\n",
    "    def call(self,sliced_y,prev_state_FE):\n",
    "       \n",
    "\n",
    "        # combine the sliced_y and prev_state_FE\n",
    "        sliced_y = tf.concat([sliced_y,prev_state_FE],axis=1)\n",
    "\n",
    "        sliced_y = self.cf1(sliced_y)\n",
    "        sliced_y = relu(sliced_y)\n",
    "\n",
    "        state_FE = self.cf_state(sliced_y) # state calculated here\n",
    "\n",
    "        sliced_y = self.cf2(state_FE)\n",
    "\n",
    "        return sliced_y,state_FE\n",
    "\n",
    "class PhaseEstimator(Model):\n",
    "    def __init__(self):\n",
    "        super().__init__()\n",
    "\n",
    "        self.cf1 = Dense(256,name=\"r3->PhaseEstimator->cf1\")\n",
    "        self.cf2 = Dense(2,name=\"r3->PhaseEstimator->cf2\")\n",
    "\n",
    "        self.cf_state = Dense(8,name=\"PhaseEstimator_stateFC\")\n",
    "\n",
    "\n",
    "    def call(self,sliced_y,prev_state_PE):\n",
    "        # combine sliced_y and prev_state_PE\n",
    "        sliced_y = tf.concat([sliced_y,prev_state_PE],axis=1)\n",
    "        sliced_y = self.cf1(sliced_y)\n",
    "        sliced_y = relu(sliced_y)\n",
    "\n",
    "        state_PE = self.cf_state(sliced_y) # state calculated here\n",
    "\n",
    "        sliced_y = self.cf2(state_PE)\n",
    "\n",
    "        return sliced_y,state_PE\n",
    "\n",
    "\n",
    "class Rx_Decoder_old(Model):\n",
    "    def __init__(self):\n",
    "        super().__init__()\n",
    "\n",
    "        self.cf1 = Dense(256)\n",
    "        self.cf2 = Dense(256)\n",
    "        self.cf3 = Dense(16)\n",
    "\n",
    "    def call(self,concat):\n",
    "\n",
    "        concat = self.cf1(concat)\n",
    "        concat = relu(concat)\n",
    "        concat = self.cf2(concat)\n",
    "        concat = relu(concat)\n",
    "\n",
    "        concat = self.cf3(concat)\n",
    "\n",
    "        # do not use softmax here : put from logit  = True in loss func\n",
    "        # concat = softmax(concat)\n",
    "\n",
    "        return concat\n",
    "\n",
    "\n",
    "class Rx_Decoder_new(Model):\n",
    "    def __init__(self):\n",
    "        super().__init__()\n",
    "\n",
    "        self.cf1 = Dense(256,name=\"r3->Rx_Decoder_new->cf1\")\n",
    "        self.cf2 = Dense(256,name=\"r3->Rx_Decoder_new->cf2\")\n",
    "        self.cf3 = Dense(16,name=\"final_out_cf3\")\n",
    "\n",
    "        # useless\n",
    "        #self.cf4_state = Dense(8,name=\"state_dense_cf4\")\n",
    "\n",
    "    def call(self,concat):\n",
    "\n",
    "        concat = self.cf1(concat)\n",
    "        concat = relu(concat)\n",
    "        concat = self.cf2(concat)\n",
    "        concat = relu(concat)\n",
    "\n",
    "        # state = self.cf4_state(concat)\n",
    "        concat = self.cf3(concat)\n",
    "\n",
    "\n",
    "\n",
    "        # do not use softmax here : put from logit  = True in loss func\n",
    "        # concat = softmax(concat)\n",
    "\n",
    "        return concat\n",
    "\n",
    "\n",
    "\n",
    "\n",
    "class InternalSlicer(Model):\n",
    "    def __init__(self,l1,l2,complex_length):\n",
    "        super().__init__()\n",
    "\n",
    "        # define the slice boundaries\n",
    "        mid = complex_length // 2\n",
    "        self.start = mid - l1\n",
    "        self.end = mid + l2 + 1\n",
    "\n",
    "    def call(self,sliced_y):\n",
    "\n",
    "        ret = C2R(R2C(sliced_y)[:, self.start:self.end])\n",
    "\n",
    "        return ret\n",
    "\n",
    "\n",
    "def phase_multiply(internally_sliced_y,estimated_phase):\n",
    "    # (a,b) * (c,d) = (ac-bd,ad+bc)\n",
    "\n",
    "    internally_sliced_y_complex = R2C(internally_sliced_y)\n",
    "    estimated_phase_complex = R2C(estimated_phase)\n",
    "    phase_corrected_complex = estimated_phase_complex * internally_sliced_y_complex\n",
    "\n",
    "    phase_corrected = C2R(phase_corrected_complex)\n",
    "    return phase_corrected\n",
    "\n",
    "\n",
    "\n",
    "\n"
   ]
  },
  {
   "cell_type": "markdown",
   "metadata": {
    "id": "2T9CJbZr_UgK"
   },
   "source": [
    "## Fake data syn"
   ]
  },
  {
   "cell_type": "code",
   "execution_count": 10,
   "metadata": {
    "ExecuteTime": {
     "end_time": "2024-04-16T15:45:09.403712Z",
     "start_time": "2024-04-16T15:45:09.392399Z"
    },
    "id": "mj1GemkdxHCs"
   },
   "outputs": [],
   "source": [
    "# generate fake data\n",
    "\n",
    "# m = 512* 2** 2\n",
    "# X = tf.random.normal(shape=(block_size,SLICED_Y_LENGTH),\n",
    "#                      mean=0,\n",
    "#                      stddev=1)\n",
    "\n",
    "# Y = tf.random.uniform(shape=(m,1),\n",
    "#                       minval=0,\n",
    "#                       maxval=16,\n",
    "#                       dtype=tf.int32)\n",
    "# Y = keras.utils.to_categorical(Y,16)\n"
   ]
  },
  {
   "cell_type": "markdown",
   "metadata": {
    "id": "R4xqcXAB_XdM"
   },
   "source": [
    "## Main Model : Sequence Decoder Class"
   ]
  },
  {
   "cell_type": "code",
   "execution_count": 11,
   "metadata": {
    "ExecuteTime": {
     "end_time": "2024-04-16T15:45:09.419205Z",
     "start_time": "2024-04-16T15:45:09.405706Z"
    },
    "id": "M_bSkx9vHEAd"
   },
   "outputs": [],
   "source": [
    "# sequence decoder\n",
    "\n",
    "\n",
    "class SequenceDecoder(Model):\n",
    "\n",
    "    def __init__(self,take_prev_phase_state=False):\n",
    "        super(SequenceDecoder,self).__init__()\n",
    "\n",
    "        self.take_prev_phase_state = take_prev_phase_state\n",
    "\n",
    "        self.feature_extractor = FeatureExtractor()\n",
    "        self.phase_estimator = PhaseEstimator()\n",
    "        self.internal_slicer = InternalSlicer(l1=3,l2=3,complex_length=SLICED_Y_LENGTH//2)\n",
    "\n",
    "        if take_prev_phase_state:\n",
    "            self.rx_decoder_RNN = Rx_Decoder_new()\n",
    "        else:\n",
    "            raise Exception(\"How here come??\")\n",
    "            #self.rx_decoder = Rx_Decoder_old()\n",
    "\n",
    "\n",
    "\n",
    "    def call(self,sliced_y,prev_state_FE=None,prev_state_PE=None):\n",
    "\n",
    "        if prev_state_PE is None:\n",
    "            print(\" How this none?\")\n",
    "            prev_state_PE = tf.constant(tf.zeros((block_size,8)))\n",
    "        if prev_state_FE is None:\n",
    "            print(\" How this none?\")\n",
    "            prev_state_FE = tf.constant(tf.zeros((block_size,8)))\n",
    "\n",
    "\n",
    "        # RNN conn starts here\n",
    "\n",
    "        output_FE = self.feature_extractor(sliced_y,prev_state_FE=prev_state_FE)\n",
    "        extracted_features,state_FE = output_FE[0], output_FE[1]\n",
    "\n",
    "\n",
    "\n",
    "        output_PE = self.phase_estimator(sliced_y,prev_state_PE=prev_state_PE)\n",
    "        estimated_phase,state_PE = output_PE[0], output_PE[1]\n",
    "\n",
    "        # RNN conn ends here\n",
    "\n",
    "        internally_sliced_y = self.internal_slicer(sliced_y)\n",
    "\n",
    "\n",
    "\n",
    "        phase_corrected_ = phase_multiply(internally_sliced_y,estimated_phase)\n",
    "\n",
    "        concat = tf.concat((extracted_features,phase_corrected_),axis=1)\n",
    "        if self.take_prev_phase_state:\n",
    "            st_hat = self.rx_decoder_RNN(concat)\n",
    "            return (st_hat,state_FE,state_PE)\n",
    "        else:\n",
    "            raise Exception(\"How came here????\")\n",
    "            print(\"--PROBLEM--\")\n",
    "            st_hat = self.rx_decoder(concat)\n",
    "            return st_hat\n",
    "\n",
    "\n",
    "\n",
    "    def custom_train(self,X,Y,epochs=1): # X =  vertically stacked sliced_y, y = message index\n",
    "\n",
    "        # tarin per each time step\n",
    "        for _ in range(epochs):\n",
    "\n",
    "            # temp_prev_state_PE = [tf.constant(tf.zeros((X.shape[0],8)))] #append the last PE state here\n",
    "            # temp_prev_state_FE = [tf.constant(tf.zeros((X.shape[0],8)))] #append the last FE state here\n",
    "\n",
    "            temp_prev_state_PE = tf.constant(tf.zeros((1,8)))\n",
    "            temp_prev_state_FE = tf.constant(tf.zeros((1,8)))\n",
    "\n",
    "            loss_acc = 0\n",
    "\n",
    "            for i in range(X.shape[0]):\n",
    "                print(f\"iterration : {i}\")\n",
    "                x =  tf.expand_dims(X[i,:],axis=0)\n",
    "\n",
    "                y = tf.expand_dims(Y[i,:],axis=0)\n",
    "\n",
    "                with tf.GradientTape() as tape:\n",
    "                    output = self.call(x,\n",
    "                                       prev_state_PE=temp_prev_state_PE,\n",
    "                                       prev_state_FE=temp_prev_state_FE)\n",
    "\n",
    "                    st_hat,state_FE,state_PE = output[0], output[1], output[2]\n",
    "                    loss = self.compiled_loss(y,st_hat)\n",
    "\n",
    "                    #temp_prev_state = state ###### assign add dala balanna\n",
    "\n",
    "                    temp_prev_state_FE = (state_FE)\n",
    "                    temp_prev_state_PE = (state_PE)\n",
    "\n",
    "                grads = tape.gradient(loss,self.trainable_variables)\n",
    "                self.optimizer.apply_gradients(zip(grads,self.trainable_variables))\n",
    "\n",
    "                loss_acc += loss.numpy() / X.shape[0] # take the mean\n",
    "                print(\"loss (individual): \", loss.numpy())\n",
    "            print(f'Epoch  : {_}/{epochs} --> Loss = {loss_acc}')\n",
    "\n",
    "        # returning the final batch's loss\n",
    "        return loss_acc\n",
    "\n",
    "\n"
   ]
  },
  {
   "cell_type": "code",
   "execution_count": null,
   "metadata": {
    "ExecuteTime": {
     "end_time": "2024-04-15T06:45:05.437856Z",
     "start_time": "2024-04-15T06:45:05.422233Z"
    },
    "id": "jq24YZr4baut"
   },
   "outputs": [],
   "source": []
  },
  {
   "cell_type": "code",
   "execution_count": 12,
   "metadata": {
    "ExecuteTime": {
     "end_time": "2024-04-16T15:45:09.434413Z",
     "start_time": "2024-04-16T15:45:09.425233Z"
    },
    "id": "KqIhonChiDnM",
    "scrolled": true
   },
   "outputs": [],
   "source": [
    "# test the SD\n",
    "# tested and worked\n",
    "# mySD =   SequenceDecoder(take_prev_phase_state=True)\n",
    "\n",
    "# mySD.compile(optimizer=Adam(learning_rate=1e-2),\n",
    "#              loss=SparseCategoricalCrossentropy(from_logits=True),\n",
    "#              metrics=['accuracy'])\n",
    "\n",
    "\n",
    "# mySD.custom_train(X,Y)\n",
    "\n",
    "\n",
    "\n"
   ]
  },
  {
   "cell_type": "code",
   "execution_count": 13,
   "metadata": {
    "ExecuteTime": {
     "end_time": "2024-04-16T15:45:09.449880Z",
     "start_time": "2024-04-16T15:45:09.436409Z"
    },
    "id": "_rXUaAKBtGjj"
   },
   "outputs": [],
   "source": [
    "# mySD.build((2048,16))"
   ]
  },
  {
   "cell_type": "markdown",
   "metadata": {
    "id": "ft4zIJOAb70O"
   },
   "source": [
    "# Autoencoder model"
   ]
  },
  {
   "cell_type": "code",
   "execution_count": 14,
   "metadata": {
    "ExecuteTime": {
     "end_time": "2024-04-16T15:45:09.465366Z",
     "start_time": "2024-04-16T15:45:09.453850Z"
    },
    "id": "t3LnggrMdYqV"
   },
   "outputs": [],
   "source": [
    "AWGN_std = np.sqrt(1/10**(snr/10))\n",
    "act_func = 'tanh' # 'relu'\n"
   ]
  },
  {
   "cell_type": "code",
   "execution_count": 15,
   "metadata": {
    "ExecuteTime": {
     "end_time": "2024-04-16T15:45:09.481226Z",
     "start_time": "2024-04-16T15:45:09.466364Z"
    },
    "colab": {
     "base_uri": "https://localhost:8080/",
     "height": 501
    },
    "id": "4hLPpWIedf60",
    "outputId": "8341a7e9-8951-4f82-f9ee-2ba4bf06660a"
   },
   "outputs": [],
   "source": [
    "# # Encoder\n",
    "# Encoder = Sequential([\n",
    "#                     Dense(2**k, activation=act_func,input_shape=(2**k,)),#Dense(2**k, activation=act_func,input_shape=(k,)),\n",
    "#                     Dense(2**k, activation=act_func),\n",
    "#                     Dense(2*NUM_CHANNEL_USES, activation='linear',name=\"Encode_last_dense\"),\n",
    "#                     L2Normalization(name=\"normalization_layer\"),\n",
    "# ])\n",
    "\n",
    "# # Channel\n",
    "# Stochastic_channel = StochasticChannelModel(NUM_CHANNEL_USES,block_size,r,roll_off,L,time_delay,CFO_std,snr)\n",
    "\n",
    "# # Sequence decoder\n",
    "# Seq_decoder = SequenceDecoder(take_prev_phase_state=True)\n",
    "\n",
    "# # Auto encoder\n",
    "# Autoencoder = Sequential([\n",
    "#     Encoder,\n",
    "#     Stochastic_channel,\n",
    "#     # Seq_decoder\n",
    "# ])"
   ]
  },
  {
   "cell_type": "code",
   "execution_count": 16,
   "metadata": {
    "ExecuteTime": {
     "end_time": "2024-04-16T15:45:09.497025Z",
     "start_time": "2024-04-16T15:45:09.482246Z"
    },
    "colab": {
     "base_uri": "https://localhost:8080/",
     "height": 214
    },
    "id": "D6QP70azZKLR",
    "outputId": "3bddf272-7540-429e-f177-585c26f9e1c3"
   },
   "outputs": [],
   "source": [
    "# Autoencoder.compile(optimizer=Adam(learning_rate=1e-2),\n",
    "#                     loss=keras.losses.SparseCategoricalCrossentropy(from_logits=True))\n",
    "\n",
    "\n",
    "# # cxannot connect the RNN for a whoe batch\n",
    "\n",
    "# # history = Autoencoder.fit(x_train,\n",
    "# #                           y_train,\n",
    "# #                           batch_size=block_size,\n",
    "# #                           epochs=num_epoches,\n",
    "# #                           verbose=2,\n",
    "# #                           validation_data=(x_val,y_val))\n",
    "\n",
    "# train_history = Autoencoder.custom_train(x_train,y_train,epochs=1)\n",
    "# print(\"train_history\", train_history)\n",
    "\n",
    "\n",
    "# def calc_block_accuracy(preds,y_val):\n",
    "#     n_bits_per_block = preds.shape[1]\n",
    "#     n_correct_bits = np.sum(preds == y_val,axis=1)\n",
    "#     block_accuracy = np.mean(n_correct_bits == n_bits_per_block)\n",
    "#     return block_accuracy\n",
    "\n",
    "# preds = AE.predict(x_val,batch_size=block_size)>0.5\n",
    "# accuracy =  calc_block_accuracy(preds,y_val)\n",
    "# print(f\"validation accuracy = {accuracy}\")\n",
    "# print(f\"snr = {snr}\")"
   ]
  },
  {
   "cell_type": "markdown",
   "metadata": {
    "id": "420o_lm0p9b9"
   },
   "source": [
    "<a href=\"#params\">go toparams</a><br/>\n",
    "\n",
    "<a name=\"datasyn\">Generate Data</a>"
   ]
  },
  {
   "cell_type": "code",
   "execution_count": 17,
   "metadata": {
    "ExecuteTime": {
     "end_time": "2024-04-16T15:45:10.170365Z",
     "start_time": "2024-04-16T15:45:09.498042Z"
    },
    "id": "zhVsDdfPpM6V"
   },
   "outputs": [],
   "source": [
    "# synthesize some data\n",
    "x_train = tf.cast(tf.random.uniform((block_size,),minval=0,maxval=2**k),\n",
    "                  (tf.int32))\n",
    "\n",
    "y_train = tf.expand_dims(x_train,axis=1)\n",
    "\n",
    "x_train =  tf.one_hot(x_train,depth=2**k)\n",
    "\n"
   ]
  },
  {
   "cell_type": "markdown",
   "metadata": {
    "id": "kPSeSA6tq-4r"
   },
   "source": []
  },
  {
   "cell_type": "code",
   "execution_count": 18,
   "metadata": {
    "ExecuteTime": {
     "end_time": "2024-04-16T15:45:10.185770Z",
     "start_time": "2024-04-16T15:45:10.175594Z"
    },
    "colab": {
     "base_uri": "https://localhost:8080/"
    },
    "id": "6d5-uKR_o-71",
    "outputId": "a605d800-01cf-42be-f1b8-1e947919655c"
   },
   "outputs": [
    {
     "name": "stdout",
     "output_type": "stream",
     "text": [
      "x_train.shape:  (320, 16)\n",
      "y_train.shape:  (320, 1)\n"
     ]
    }
   ],
   "source": [
    "print(\"x_train.shape: \",x_train.shape)\n",
    "print(\"y_train.shape: \",y_train.shape)"
   ]
  },
  {
   "cell_type": "code",
   "execution_count": 19,
   "metadata": {
    "ExecuteTime": {
     "end_time": "2024-04-16T15:45:10.200981Z",
     "start_time": "2024-04-16T15:45:10.191657Z"
    }
   },
   "outputs": [],
   "source": [
    "# @tf.function\n",
    "def ExternalSlicer(input_vec,padding=30,gamma=4):\n",
    "    '''\n",
    "    input_vec: should be the real and imag parts separately.\n",
    "    padding  : how much the window should expand per each side\n",
    "    '''\n",
    "    assert len(input_vec.shape) == 1, \"Need 1D vector. Cannot process multiple frames at once\"\n",
    "    assert (input_vec.shape[0]-2*padding ) / (2 * NUM_CHANNEL_USES * gamma) == block_size\n",
    "    \n",
    "    output_array = []\n",
    "    \n",
    "    for i in range(block_size):\n",
    "        window_size = (2 * NUM_CHANNEL_USES * gamma)\n",
    "        start = window_size * i\n",
    "        end = start + window_size + padding * 2\n",
    "        output_array.append(input_vec[start:end])\n",
    "    \n",
    "    return tf.stack(output_array)"
   ]
  },
  {
   "cell_type": "code",
   "execution_count": 43,
   "metadata": {
    "ExecuteTime": {
     "end_time": "2024-04-16T19:16:35.405600Z",
     "start_time": "2024-04-16T19:16:35.390902Z"
    }
   },
   "outputs": [],
   "source": [
    "class End2EndSys(Model):\n",
    "    \n",
    "    def __init__(self):\n",
    "        super(End2EndSys,self).__init__()\n",
    "        \n",
    "        self.encoder = Sequential([\n",
    "                    Dense(2**k, activation=act_func,input_shape=(None,2**k,),name=\"e2es->encoder->cf1\"),\n",
    "                    # Dense(2**k, activation=act_func,input_shape=(k,)),\n",
    "                    Dense(2**k, activation=act_func,name=\"e2es->encoder->cf2\"),\n",
    "                    Dense(2*NUM_CHANNEL_USES, activation='linear',name=\"Encode_last_dense\"),\n",
    "                    L2Normalization(name=\"normalization_layer\"),\n",
    "                    ])\n",
    "        \n",
    "        \n",
    "        #print(\"is traianable\" , self.encoder.trainable )\n",
    "\n",
    "        # Channel\n",
    "        self.stochastic_channel = StochasticChannelModel(NUM_CHANNEL_USES,\n",
    "                                                         block_size,\n",
    "                                                         r,\n",
    "                                                         roll_off,\n",
    "                                                         L,\n",
    "                                                         time_delay,\n",
    "                                                         CFO_std,\n",
    "                                                         snr)\n",
    "\n",
    "        # Sequence decoder\n",
    "        self.seq_decoder = SequenceDecoder(take_prev_phase_state=True)\n",
    "    \n",
    "    \n",
    "    def call(self,x):\n",
    "        \n",
    "        encodings = self.encoder(x)\n",
    "        all_y = self.stochastic_channel(encodings)\n",
    "        \n",
    "        slices = ExternalSlicer(all_y,)\n",
    "        st_hat_array = []\n",
    "        \n",
    "        temp_prev_state_PE = tf.constant(tf.zeros((1,8)))\n",
    "        temp_prev_state_FE = tf.constant(tf.zeros((1,8)))\n",
    "\n",
    "        # take one slice only --- for testing\n",
    "        for i in range(slices.shape[0]):\n",
    "            test_slice = tf.expand_dims(slices[i,:],axis=0)\n",
    "\n",
    "            \n",
    "            output = self.seq_decoder(test_slice,\n",
    "                                      temp_prev_state_FE,\n",
    "                                      temp_prev_state_PE)\n",
    "            # update states as well\n",
    "            st_hat,temp_prev_state_FE,temp_prev_state_PE = output[0], output[1], output[2]\n",
    "        \n",
    "            st_hat_array.append(st_hat[0])\n",
    "        \n",
    "        return tf.stack(st_hat_array)\n",
    "        \n",
    "#     @tf.function\n",
    "\n",
    "    def custom_fit(self,x,y,epochs=1):\n",
    "\n",
    "       \n",
    "            \n",
    "            loss_acc = 0.\n",
    "            \n",
    "            temp_prev_state_PE = tf.constant(tf.zeros((1,8)))\n",
    "            temp_prev_state_FE = tf.constant(tf.zeros((1,8)))\n",
    "            \n",
    "            J = tf.Variable(0.,dtype=tf.float32)\n",
    "            \n",
    "            with tf.GradientTape(persistent=False) as tape:\n",
    "                \n",
    "                encodings = self.encoder(x,\n",
    "                                         training=True)\n",
    "                print(\"r3 1\")\n",
    "\n",
    "                all_y = self.stochastic_channel(encodings)\n",
    "                print(\"r3 2\")\n",
    "                \n",
    "                \n",
    "                slices = ExternalSlicer(all_y,)\n",
    "                print(\"r3 3\")\n",
    "    #             st_hat_array = []\n",
    "\n",
    "    \n",
    "                for i in range(slices.shape[0]):\n",
    "                    print(\"iteration\" , i)\n",
    "                    test_slice = tf.expand_dims(slices[i,:],axis=0)\n",
    "                    corr_label = tf.expand_dims(y[i,:],axis=0)\n",
    "\n",
    "\n",
    "                    output = self.seq_decoder(test_slice,\n",
    "                                              temp_prev_state_FE,\n",
    "                                              temp_prev_state_PE)\n",
    "                    \n",
    "                    # update states as well\n",
    "                    st_hat,state_FE,state_PE = output[0], output[1], output[2]\n",
    "                    loss = self.compiled_loss(corr_label,st_hat)\n",
    "                    J.assign_add(loss)\n",
    "\n",
    "    #                 st_hat_array.append(st_hat[0])\n",
    "#                     with tape.stop_recording():\n",
    "#                         grads = tape.gradient(loss,self.trainable_variables)\n",
    "#                         self.optimizer.apply_gradients(zip(grads,self.trainable_variables))\n",
    "\n",
    "                    temp_prev_state_FE = state_FE\n",
    "                    temp_prev_state_PE = state_PE\n",
    "                    \n",
    "#                     print(type(loss.numpy()))\n",
    "                    loss_acc += loss.numpy() / slices.shape[0]\n",
    "    \n",
    "            # backpropagate\n",
    "            grads = tape.gradient(J,self.trainable_variables)\n",
    "            self.optimizer.apply_gradients(zip(grads,self.trainable_variables))\n",
    "                \n",
    "            print(f'Epoch  : {_}/{epochs} --> Loss = {loss_acc}')\n",
    "\n",
    "    \n",
    "        \n",
    "            return \"done\", loss_acc\n",
    "        \n",
    "        \n",
    "        \n",
    "        \n",
    "        \n",
    "        \n",
    "        "
   ]
  },
  {
   "cell_type": "code",
   "execution_count": 42,
   "metadata": {
    "ExecuteTime": {
     "end_time": "2024-04-16T19:12:02.873263Z",
     "start_time": "2024-04-16T19:11:53.022854Z"
    },
    "scrolled": true
   },
   "outputs": [
    {
     "name": "stdout",
     "output_type": "stream",
     "text": [
      "normalize output shape =  (None, None, 14)\n",
      "is traianable True\n",
      "Time_delay = 0.6403280091427501\n",
      "normalize output shape =  (320, 14)\n",
      "r3 1\n",
      "CFO_off = 0.0033407660364175437\n",
      "r3 2\n",
      "r3 3\n",
      "iteration 0\n",
      "iteration 1\n",
      "iteration 2\n",
      "iteration 3\n",
      "iteration 4\n",
      "iteration 5\n",
      "iteration 6\n",
      "iteration 7\n",
      "iteration 8\n",
      "iteration 9\n",
      "iteration 10\n",
      "iteration 11\n",
      "iteration 12\n",
      "iteration 13\n",
      "iteration 14\n",
      "iteration 15\n",
      "iteration 16\n",
      "iteration 17\n",
      "iteration 18\n",
      "iteration 19\n",
      "iteration 20\n",
      "iteration 21\n",
      "iteration 22\n",
      "iteration 23\n",
      "iteration 24\n",
      "iteration 25\n",
      "iteration 26\n",
      "iteration 27\n",
      "iteration 28\n",
      "iteration 29\n",
      "iteration 30\n",
      "iteration 31\n",
      "iteration 32\n",
      "iteration 33\n",
      "iteration 34\n",
      "iteration 35\n",
      "iteration 36\n",
      "iteration 37\n",
      "iteration 38\n",
      "iteration 39\n",
      "iteration 40\n",
      "iteration 41\n",
      "iteration 42\n",
      "iteration 43\n",
      "iteration 44\n",
      "iteration 45\n",
      "iteration 46\n",
      "iteration 47\n",
      "iteration 48\n",
      "iteration 49\n",
      "iteration 50\n",
      "iteration 51\n",
      "iteration 52\n",
      "iteration 53\n",
      "iteration 54\n",
      "iteration 55\n",
      "iteration 56\n",
      "iteration 57\n",
      "iteration 58\n",
      "iteration 59\n",
      "iteration 60\n",
      "iteration 61\n",
      "iteration 62\n",
      "iteration 63\n",
      "iteration 64\n",
      "iteration 65\n",
      "iteration 66\n",
      "iteration 67\n",
      "iteration 68\n",
      "iteration 69\n",
      "iteration 70\n",
      "iteration 71\n",
      "iteration 72\n",
      "iteration 73\n",
      "iteration 74\n",
      "iteration 75\n",
      "iteration 76\n",
      "iteration 77\n",
      "iteration 78\n",
      "iteration 79\n",
      "iteration 80\n",
      "iteration 81\n",
      "iteration 82\n",
      "iteration 83\n",
      "iteration 84\n",
      "iteration 85\n",
      "iteration 86\n",
      "iteration 87\n",
      "iteration 88\n",
      "iteration 89\n",
      "iteration 90\n",
      "iteration 91\n",
      "iteration 92\n",
      "iteration 93\n",
      "iteration 94\n",
      "iteration 95\n",
      "iteration 96\n",
      "iteration 97\n",
      "iteration 98\n",
      "iteration 99\n",
      "iteration 100\n",
      "iteration 101\n",
      "iteration 102\n",
      "iteration 103\n",
      "iteration 104\n",
      "iteration 105\n",
      "iteration 106\n",
      "iteration 107\n",
      "iteration 108\n",
      "iteration 109\n",
      "iteration 110\n",
      "iteration 111\n",
      "iteration 112\n",
      "iteration 113\n",
      "iteration 114\n",
      "iteration 115\n",
      "iteration 116\n",
      "iteration 117\n",
      "iteration 118\n",
      "iteration 119\n",
      "iteration 120\n",
      "iteration 121\n",
      "iteration 122\n",
      "iteration 123\n",
      "iteration 124\n",
      "iteration 125\n",
      "iteration 126\n",
      "iteration 127\n",
      "iteration 128\n",
      "iteration 129\n",
      "iteration 130\n",
      "iteration 131\n",
      "iteration 132\n",
      "iteration 133\n",
      "iteration 134\n",
      "iteration 135\n",
      "iteration 136\n",
      "iteration 137\n",
      "iteration 138\n",
      "iteration 139\n",
      "iteration 140\n",
      "iteration 141\n",
      "iteration 142\n",
      "iteration 143\n",
      "iteration 144\n",
      "iteration 145\n",
      "iteration 146\n",
      "iteration 147\n",
      "iteration 148\n",
      "iteration 149\n",
      "iteration 150\n",
      "iteration 151\n",
      "iteration 152\n",
      "iteration 153\n",
      "iteration 154\n",
      "iteration 155\n",
      "iteration 156\n",
      "iteration 157\n",
      "iteration 158\n",
      "iteration 159\n",
      "iteration 160\n",
      "iteration 161\n",
      "iteration 162\n",
      "iteration 163\n",
      "iteration 164\n",
      "iteration 165\n",
      "iteration 166\n",
      "iteration 167\n",
      "iteration 168\n",
      "iteration 169\n",
      "iteration 170\n",
      "iteration 171\n",
      "iteration 172\n",
      "iteration 173\n",
      "iteration 174\n",
      "iteration 175\n",
      "iteration 176\n",
      "iteration 177\n",
      "iteration 178\n",
      "iteration 179\n",
      "iteration 180\n",
      "iteration 181\n",
      "iteration 182\n",
      "iteration 183\n",
      "iteration 184\n",
      "iteration 185\n",
      "iteration 186\n",
      "iteration 187\n",
      "iteration 188\n",
      "iteration 189\n",
      "iteration 190\n",
      "iteration 191\n",
      "iteration 192\n",
      "iteration 193\n",
      "iteration 194\n",
      "iteration 195\n",
      "iteration 196\n",
      "iteration 197\n",
      "iteration 198\n",
      "iteration 199\n",
      "iteration 200\n",
      "iteration 201\n",
      "iteration 202\n",
      "iteration 203\n",
      "iteration 204\n",
      "iteration 205\n",
      "iteration 206\n",
      "iteration 207\n",
      "iteration 208\n",
      "iteration 209\n",
      "iteration 210\n",
      "iteration 211\n",
      "iteration 212\n",
      "iteration 213\n",
      "iteration 214\n",
      "iteration 215\n",
      "iteration 216\n",
      "iteration 217\n",
      "iteration 218\n",
      "iteration 219\n",
      "iteration 220\n",
      "iteration 221\n",
      "iteration 222\n",
      "iteration 223\n",
      "iteration 224\n",
      "iteration 225\n",
      "iteration 226\n",
      "iteration 227\n",
      "iteration 228\n",
      "iteration 229\n",
      "iteration 230\n",
      "iteration 231\n",
      "iteration 232\n",
      "iteration 233\n",
      "iteration 234\n",
      "iteration 235\n",
      "iteration 236\n",
      "iteration 237\n",
      "iteration 238\n",
      "iteration 239\n",
      "iteration 240\n",
      "iteration 241\n",
      "iteration 242\n",
      "iteration 243\n",
      "iteration 244\n",
      "iteration 245\n",
      "iteration 246\n",
      "iteration 247\n",
      "iteration 248\n",
      "iteration 249\n",
      "iteration 250\n",
      "iteration 251\n",
      "iteration 252\n",
      "iteration 253\n",
      "iteration 254\n",
      "iteration 255\n",
      "iteration 256\n",
      "iteration 257\n",
      "iteration 258\n",
      "iteration 259\n",
      "iteration 260\n",
      "iteration 261\n",
      "iteration 262\n",
      "iteration 263\n",
      "iteration 264\n",
      "iteration 265\n",
      "iteration 266\n",
      "iteration 267\n",
      "iteration 268\n",
      "iteration 269\n",
      "iteration 270\n",
      "iteration 271\n",
      "iteration 272\n",
      "iteration 273\n",
      "iteration 274\n",
      "iteration 275\n",
      "iteration 276\n",
      "iteration 277\n",
      "iteration 278\n",
      "iteration 279\n",
      "iteration 280\n",
      "iteration 281\n",
      "iteration 282\n",
      "iteration 283\n",
      "iteration 284\n",
      "iteration 285\n",
      "iteration 286\n",
      "iteration 287\n",
      "iteration 288\n",
      "iteration 289\n",
      "iteration 290\n",
      "iteration 291\n",
      "iteration 292\n",
      "iteration 293\n",
      "iteration 294\n",
      "iteration 295\n",
      "iteration 296\n",
      "iteration 297\n",
      "iteration 298\n",
      "iteration 299\n",
      "iteration 300\n",
      "iteration 301\n",
      "iteration 302\n",
      "iteration 303\n",
      "iteration 304\n",
      "iteration 305\n",
      "iteration 306\n",
      "iteration 307\n",
      "iteration 308\n",
      "iteration 309\n",
      "iteration 310\n",
      "iteration 311\n",
      "iteration 312\n",
      "iteration 313\n",
      "iteration 314\n",
      "iteration 315\n",
      "iteration 316\n",
      "iteration 317\n",
      "iteration 318\n",
      "iteration 319\n"
     ]
    },
    {
     "ename": "ValueError",
     "evalue": "No gradients provided for any variable: (['e2es->encoder->cf1/kernel:0', 'e2es->encoder->cf1/bias:0', 'e2es->encoder->cf2/kernel:0', 'e2es->encoder->cf2/bias:0', 'Encode_last_dense/kernel:0', 'Encode_last_dense/bias:0', 'sequence_decoder_9/feature_extractor_9/r3->FeatureExtractor->cf1/kernel:0', 'sequence_decoder_9/feature_extractor_9/r3->FeatureExtractor->cf1/bias:0', 'sequence_decoder_9/feature_extractor_9/r3->FeatureExtractor->cf2/kernel:0', 'sequence_decoder_9/feature_extractor_9/r3->FeatureExtractor->cf2/bias:0', 'sequence_decoder_9/feature_extractor_9/featureExtractor_stateFC/kernel:0', 'sequence_decoder_9/feature_extractor_9/featureExtractor_stateFC/bias:0', 'sequence_decoder_9/phase_estimator_9/r3->PhaseEstimator->cf1/kernel:0', 'sequence_decoder_9/phase_estimator_9/r3->PhaseEstimator->cf1/bias:0', 'sequence_decoder_9/phase_estimator_9/r3->PhaseEstimator->cf2/kernel:0', 'sequence_decoder_9/phase_estimator_9/r3->PhaseEstimator->cf2/bias:0', 'sequence_decoder_9/phase_estimator_9/PhaseEstimator_stateFC/kernel:0', 'sequence_decoder_9/phase_estimator_9/PhaseEstimator_stateFC/bias:0', 'sequence_decoder_9/rx__decoder_new_9/r3->Rx_Decoder_new->cf1/kernel:0', 'sequence_decoder_9/rx__decoder_new_9/r3->Rx_Decoder_new->cf1/bias:0', 'sequence_decoder_9/rx__decoder_new_9/r3->Rx_Decoder_new->cf2/kernel:0', 'sequence_decoder_9/rx__decoder_new_9/r3->Rx_Decoder_new->cf2/bias:0', 'sequence_decoder_9/rx__decoder_new_9/final_out_cf3/kernel:0', 'sequence_decoder_9/rx__decoder_new_9/final_out_cf3/bias:0'],). Provided `grads_and_vars` is ((None, <tf.Variable 'e2es->encoder->cf1/kernel:0' shape=(16, 16) dtype=float32, numpy=\narray([[-0.15927342,  0.25449046,  0.19574216,  0.28903338,  0.42506704,\n        -0.35356578, -0.15249231,  0.3654206 ,  0.03272209, -0.3440723 ,\n         0.02718687, -0.06207573, -0.42307022,  0.3227605 , -0.24538457,\n         0.35873356],\n       [-0.13873303, -0.2843946 ,  0.02460086, -0.29131114,  0.18896994,\n         0.14370212, -0.05363941, -0.30870524,  0.33983025, -0.03023404,\n        -0.2700448 ,  0.07726911, -0.14734825,  0.31616917,  0.4138911 ,\n         0.24767432],\n       [ 0.39470634,  0.14707085,  0.4052404 , -0.18272927, -0.06355369,\n         0.32525334,  0.05138788,  0.14382443, -0.39942133,  0.33741322,\n        -0.1486628 , -0.3431704 , -0.08909369,  0.04713178,  0.35787186,\n         0.02765277],\n       [-0.21909526, -0.39233908,  0.08727309, -0.35574195,  0.040434  ,\n        -0.42830628, -0.22135267,  0.33091584, -0.18083856, -0.3948289 ,\n        -0.34030688,  0.37526903, -0.42297134,  0.43146554,  0.00874552,\n        -0.13849837],\n       [ 0.2962635 ,  0.326655  , -0.3942461 ,  0.11139223,  0.29316178,\n        -0.08610174,  0.3466132 ,  0.34148434,  0.24087593, -0.17157611,\n         0.17286763,  0.28849128, -0.22614849,  0.17939118, -0.40701833,\n        -0.2292886 ],\n       [ 0.12935856, -0.02320075, -0.04244405,  0.41403976,  0.3365039 ,\n         0.12845227,  0.12608448,  0.12098876,  0.24388835, -0.3642373 ,\n        -0.31565204,  0.40183136,  0.35493657,  0.40239158,  0.4327508 ,\n         0.24675658],\n       [-0.19766939,  0.2710627 , -0.08185866, -0.23657298,  0.40837386,\n        -0.05492565, -0.05853486, -0.1498231 ,  0.3224227 ,  0.09470418,\n        -0.25551587, -0.09032223, -0.33401132, -0.01277831,  0.00718766,\n         0.43144646],\n       [ 0.19406542, -0.19062369,  0.18684384,  0.10330942, -0.05459571,\n        -0.15812996,  0.00496194,  0.1651552 ,  0.37646237, -0.22826189,\n         0.3504425 ,  0.34543493,  0.18873659,  0.13047591, -0.4222474 ,\n        -0.2738896 ],\n       [ 0.3024675 ,  0.31304964,  0.14449897,  0.17874375,  0.28957   ,\n         0.2801424 ,  0.04964224,  0.29900238, -0.19643064, -0.17495212,\n        -0.04093388, -0.38796014,  0.42320082,  0.37987885,  0.34223434,\n         0.15769336],\n       [ 0.03075582, -0.0514906 ,  0.33167955,  0.16755739,  0.11044565,\n        -0.21892677,  0.23990354,  0.22650436,  0.25184014, -0.16514695,\n        -0.26612443, -0.3140253 , -0.325364  ,  0.018226  ,  0.17047599,\n         0.39872023],\n       [ 0.04451004,  0.25145552,  0.07787606, -0.1668059 ,  0.02523121,\n         0.02311072,  0.06936881, -0.05627117, -0.41857266, -0.06880376,\n        -0.0082278 , -0.3636337 ,  0.38350716, -0.16595232,  0.333149  ,\n         0.17300412],\n       [ 0.32871684, -0.16338903,  0.01234451, -0.21529928, -0.20939168,\n        -0.25248635, -0.3707627 , -0.20381795,  0.25619695, -0.33952785,\n        -0.14063963,  0.00838596, -0.2516118 , -0.05981243, -0.11223745,\n         0.13641897],\n       [ 0.00872403, -0.41089267, -0.07580155,  0.1858578 ,  0.24187127,\n         0.3602033 ,  0.21630785, -0.09573656, -0.04508251,  0.3597025 ,\n        -0.21376216,  0.2226443 , -0.21606356, -0.28547138,  0.334626  ,\n        -0.39287737],\n       [ 0.24992964, -0.13453135,  0.0490863 , -0.02013642, -0.12162966,\n        -0.40065947, -0.32722795, -0.34541017,  0.07322833, -0.09535366,\n        -0.40079656,  0.17218897,  0.29079518, -0.27397072, -0.1477224 ,\n        -0.0227879 ],\n       [ 0.23576078, -0.38365892,  0.09960625, -0.36118683, -0.39879087,\n         0.09703079, -0.3100167 ,  0.14672348,  0.01634985, -0.07925913,\n        -0.1749706 , -0.11995152, -0.1886251 , -0.40416327, -0.39227602,\n         0.21120104],\n       [-0.3677178 , -0.2754869 ,  0.32926276, -0.31077528,  0.08105299,\n        -0.37871772,  0.25308678, -0.17686534,  0.00485995, -0.1859602 ,\n        -0.2546752 , -0.30757025, -0.366806  ,  0.08371541,  0.2501336 ,\n         0.09033713]], dtype=float32)>), (None, <tf.Variable 'e2es->encoder->cf1/bias:0' shape=(16,) dtype=float32, numpy=\narray([0., 0., 0., 0., 0., 0., 0., 0., 0., 0., 0., 0., 0., 0., 0., 0.],\n      dtype=float32)>), (None, <tf.Variable 'e2es->encoder->cf2/kernel:0' shape=(16, 16) dtype=float32, numpy=\narray([[ 0.26850602, -0.05010968, -0.26386267, -0.25413734, -0.04462051,\n        -0.26165855,  0.0720605 ,  0.16900805, -0.10417226,  0.12731883,\n         0.04037783,  0.32380703,  0.0571174 , -0.15529606,  0.23561975,\n         0.3455555 ],\n       [-0.06388581, -0.19926019,  0.3779038 , -0.22457153, -0.39023983,\n        -0.30905554, -0.19294924,  0.3855869 , -0.00135168, -0.3567797 ,\n         0.09996012, -0.12249106, -0.03111055,  0.34456548,  0.248548  ,\n         0.19599888],\n       [-0.11616132, -0.14217004, -0.02785391, -0.24971274,  0.20687947,\n         0.00187284, -0.2291073 , -0.05599147,  0.43239102, -0.06767714,\n         0.42353514,  0.13564178,  0.00245202,  0.20382115, -0.21114714,\n         0.30874667],\n       [ 0.37332144, -0.11550504,  0.20983419,  0.23987505, -0.11654332,\n         0.18112949,  0.35526034, -0.39492106, -0.09321228,  0.14441475,\n        -0.2994426 ,  0.4085416 ,  0.10102299, -0.29538968,  0.35015044,\n        -0.29675728],\n       [-0.1669653 , -0.17833927, -0.06439817,  0.04399583, -0.26666516,\n         0.34272   ,  0.2743005 ,  0.06273192,  0.12675318, -0.085778  ,\n         0.04624227,  0.09220347, -0.07607535, -0.26975572,  0.0412215 ,\n        -0.2809968 ],\n       [ 0.28387138,  0.06322744,  0.2064049 , -0.31638306, -0.3693535 ,\n         0.3678843 , -0.09610286, -0.02088302,  0.22351655, -0.353369  ,\n         0.3517398 ,  0.3192338 ,  0.00083891,  0.26414624,  0.28954503,\n         0.3985795 ],\n       [ 0.31267145, -0.39841455, -0.40718794, -0.06349948, -0.23977502,\n         0.169153  , -0.4160211 ,  0.00936928,  0.2604995 , -0.05776253,\n         0.21465918,  0.36604944,  0.07846645,  0.20923623, -0.18546198,\n        -0.23855567],\n       [-0.17083126, -0.4233651 ,  0.20086512,  0.4283485 , -0.23932458,\n        -0.15430766, -0.09966788,  0.05388564, -0.21470132,  0.40622833,\n         0.30638292,  0.22002575, -0.2615047 , -0.01918602, -0.25437313,\n        -0.3309115 ],\n       [-0.05231661,  0.00092131, -0.3093349 ,  0.3326405 , -0.10416082,\n        -0.26643795, -0.32868764,  0.36365983, -0.33764344, -0.12785658,\n        -0.37593576,  0.23731217,  0.08824053,  0.05622128, -0.18042716,\n         0.33140436],\n       [-0.41628522,  0.25055632, -0.02922243, -0.04851952, -0.07430461,\n         0.10761937,  0.37169155, -0.27525067,  0.22164795,  0.32170323,\n        -0.23025252, -0.43246284, -0.20282573,  0.32650414,  0.17326674,\n        -0.14852706],\n       [-0.1000064 , -0.36154178, -0.13878176,  0.12463912,  0.28528646,\n        -0.05219376, -0.07948563, -0.05833212, -0.23479976, -0.41862202,\n        -0.27079967,  0.03485346,  0.28249595, -0.11974257,  0.19805983,\n         0.3869389 ],\n       [-0.36930394, -0.1807949 ,  0.18071684,  0.0337967 , -0.0920873 ,\n        -0.07516313,  0.36187986,  0.20345405,  0.20629296,  0.37078884,\n        -0.18578151,  0.24035159,  0.22974274,  0.31987467,  0.2802845 ,\n        -0.29996777],\n       [-0.02054918, -0.38569456,  0.34159502,  0.34612498, -0.40463   ,\n        -0.01812553,  0.3820605 ,  0.3612245 ,  0.39822873, -0.33423752,\n        -0.1669397 ,  0.1387743 , -0.03295344,  0.04514992, -0.15141606,\n        -0.19842623],\n       [ 0.20117328, -0.06159049,  0.07453337, -0.317701  , -0.1053687 ,\n         0.3128262 ,  0.00324446,  0.05965251, -0.19254877, -0.09993342,\n        -0.36373425, -0.22355607, -0.30659848,  0.31527594,  0.28617945,\n        -0.22913156],\n       [ 0.15111914,  0.33634618,  0.34460005,  0.30603954, -0.1687159 ,\n        -0.19850428, -0.14615059,  0.100988  ,  0.03731465,  0.22348937,\n        -0.09289762,  0.27625933,  0.37457898,  0.23620853,  0.3184531 ,\n        -0.19622436],\n       [ 0.29588678, -0.05162874,  0.0555743 , -0.251778  , -0.16939738,\n        -0.4317797 , -0.10407668,  0.3160803 ,  0.31959638, -0.3361727 ,\n        -0.38347524, -0.22097903,  0.22204366,  0.1911883 ,  0.14634487,\n        -0.00100204]], dtype=float32)>), (None, <tf.Variable 'e2es->encoder->cf2/bias:0' shape=(16,) dtype=float32, numpy=\narray([0., 0., 0., 0., 0., 0., 0., 0., 0., 0., 0., 0., 0., 0., 0., 0.],\n      dtype=float32)>), (None, <tf.Variable 'Encode_last_dense/kernel:0' shape=(16, 14) dtype=float32, numpy=\narray([[-0.37219656,  0.04688483, -0.00134325, -0.44695747,  0.3823477 ,\n         0.0452154 , -0.36542186, -0.18923527, -0.21529268,  0.17538184,\n         0.3044566 ,  0.0290913 , -0.23837945,  0.25662988],\n       [-0.3305667 , -0.07605824,  0.2703188 ,  0.41384286, -0.36430243,\n         0.17947555,  0.38434762, -0.08907393, -0.41956204, -0.15630263,\n         0.21257514, -0.16520774, -0.3474359 ,  0.19578463],\n       [ 0.01132038,  0.30470377, -0.27482173,  0.39044994, -0.13188422,\n        -0.35896015,  0.24284095,  0.14821827,  0.39654106,  0.24457687,\n        -0.2456736 ,  0.19243145, -0.0840061 , -0.09336779],\n       [-0.19860378, -0.02438384, -0.20743385,  0.34343332, -0.07890433,\n         0.39657688, -0.20109122,  0.02413094,  0.24164557, -0.26831606,\n        -0.35735053, -0.4451871 ,  0.1533193 ,  0.20476311],\n       [ 0.3933493 ,  0.31530786,  0.3478341 , -0.1321015 ,  0.42907345,\n         0.3246705 ,  0.43470532, -0.40009633, -0.37947288, -0.15043074,\n         0.05538499,  0.28522503,  0.25219548,  0.18261164],\n       [-0.20482486,  0.35575086,  0.33545762,  0.24385929, -0.35475212,\n         0.09011042, -0.40491402, -0.03537083,  0.03467393, -0.01523924,\n         0.10886401, -0.0556666 ,  0.18169862, -0.36343813],\n       [-0.18026039,  0.01278594,  0.44523317, -0.39679334,  0.06563091,\n         0.10287714,  0.18546528,  0.07107377,  0.0006665 , -0.0790793 ,\n         0.08382195, -0.42198113,  0.0329659 , -0.00546661],\n       [ 0.296508  , -0.37957707,  0.28527516, -0.12374893,  0.1886906 ,\n         0.19450045, -0.18405685,  0.00462824, -0.15112537, -0.3427571 ,\n         0.36129946, -0.14930615, -0.15570852,  0.15155953],\n       [ 0.24781239,  0.3226332 , -0.24703465,  0.29786992,  0.29498625,\n         0.251581  , -0.32061613,  0.43235183,  0.11103368,  0.3745761 ,\n         0.09159654,  0.44601214,  0.3220647 ,  0.38871008],\n       [-0.19719025,  0.13453925,  0.11566585, -0.28523505, -0.03474909,\n        -0.06995732,  0.21290964,  0.15038604,  0.02066609,  0.0469842 ,\n         0.04479596,  0.42196703, -0.17376336,  0.20389831],\n       [ 0.01776707,  0.42500848, -0.21197209, -0.1007742 ,  0.19070017,\n        -0.18765691, -0.31650257,  0.194561  ,  0.11020637, -0.012312  ,\n         0.39948332,  0.3881061 , -0.20642956,  0.11311424],\n       [ 0.03648141,  0.0070405 , -0.2440817 , -0.420844  ,  0.10946053,\n         0.22361135, -0.13190714, -0.42463094, -0.0963811 , -0.17096406,\n        -0.42752472,  0.31479764, -0.4383589 ,  0.31356263],\n       [-0.40252224,  0.00441605,  0.40256327,  0.14575857, -0.0741457 ,\n        -0.07866529,  0.29273683,  0.3438273 , -0.21579157,  0.04138389,\n        -0.29360962, -0.07328844,  0.11689681,  0.00199792],\n       [ 0.287085  ,  0.2595023 , -0.00477153, -0.2594506 ,  0.06116712,\n         0.17533767,  0.1045472 , -0.43937236, -0.01703191, -0.13729891,\n         0.23980021,  0.15779448, -0.12797835,  0.16066778],\n       [ 0.3554715 ,  0.24248499, -0.12468615, -0.4421335 ,  0.1705209 ,\n        -0.29966918, -0.3876084 ,  0.37220037, -0.00297949,  0.19982696,\n        -0.4006928 , -0.27746868,  0.4222173 ,  0.40352088],\n       [ 0.36343557,  0.26747257,  0.04778504,  0.41227567,  0.0576368 ,\n         0.25487196,  0.02010503,  0.38987303, -0.25657493, -0.09463489,\n         0.39986676,  0.00957185, -0.42491734,  0.0137932 ]],\n      dtype=float32)>), (None, <tf.Variable 'Encode_last_dense/bias:0' shape=(14,) dtype=float32, numpy=\narray([0., 0., 0., 0., 0., 0., 0., 0., 0., 0., 0., 0., 0., 0.],\n      dtype=float32)>), (None, <tf.Variable 'sequence_decoder_9/feature_extractor_9/r3->FeatureExtractor->cf1/kernel:0' shape=(124, 256) dtype=float32, numpy=\narray([[ 0.05375887,  0.08508442,  0.00087255, ...,  0.00808857,\n         0.01241527,  0.08512732],\n       [-0.11501347, -0.1015586 ,  0.02960025, ...,  0.03453176,\n         0.11668757,  0.05818391],\n       [-0.0761006 ,  0.10872653, -0.04296707, ...,  0.10356745,\n         0.11536704, -0.11061657],\n       ...,\n       [ 0.089794  , -0.10322398, -0.12257282, ...,  0.01655923,\n        -0.02872006,  0.10885078],\n       [ 0.08775605,  0.00017364, -0.0603901 , ..., -0.03185519,\n         0.09565094,  0.00614245],\n       [ 0.05915131,  0.11306016,  0.012473  , ...,  0.1004521 ,\n        -0.08372058,  0.12412918]], dtype=float32)>), (None, <tf.Variable 'sequence_decoder_9/feature_extractor_9/r3->FeatureExtractor->cf1/bias:0' shape=(256,) dtype=float32, numpy=\narray([0., 0., 0., 0., 0., 0., 0., 0., 0., 0., 0., 0., 0., 0., 0., 0., 0.,\n       0., 0., 0., 0., 0., 0., 0., 0., 0., 0., 0., 0., 0., 0., 0., 0., 0.,\n       0., 0., 0., 0., 0., 0., 0., 0., 0., 0., 0., 0., 0., 0., 0., 0., 0.,\n       0., 0., 0., 0., 0., 0., 0., 0., 0., 0., 0., 0., 0., 0., 0., 0., 0.,\n       0., 0., 0., 0., 0., 0., 0., 0., 0., 0., 0., 0., 0., 0., 0., 0., 0.,\n       0., 0., 0., 0., 0., 0., 0., 0., 0., 0., 0., 0., 0., 0., 0., 0., 0.,\n       0., 0., 0., 0., 0., 0., 0., 0., 0., 0., 0., 0., 0., 0., 0., 0., 0.,\n       0., 0., 0., 0., 0., 0., 0., 0., 0., 0., 0., 0., 0., 0., 0., 0., 0.,\n       0., 0., 0., 0., 0., 0., 0., 0., 0., 0., 0., 0., 0., 0., 0., 0., 0.,\n       0., 0., 0., 0., 0., 0., 0., 0., 0., 0., 0., 0., 0., 0., 0., 0., 0.,\n       0., 0., 0., 0., 0., 0., 0., 0., 0., 0., 0., 0., 0., 0., 0., 0., 0.,\n       0., 0., 0., 0., 0., 0., 0., 0., 0., 0., 0., 0., 0., 0., 0., 0., 0.,\n       0., 0., 0., 0., 0., 0., 0., 0., 0., 0., 0., 0., 0., 0., 0., 0., 0.,\n       0., 0., 0., 0., 0., 0., 0., 0., 0., 0., 0., 0., 0., 0., 0., 0., 0.,\n       0., 0., 0., 0., 0., 0., 0., 0., 0., 0., 0., 0., 0., 0., 0., 0., 0.,\n       0.], dtype=float32)>), (None, <tf.Variable 'sequence_decoder_9/feature_extractor_9/r3->FeatureExtractor->cf2/kernel:0' shape=(8, 8) dtype=float32, numpy=\narray([[-0.21954152, -0.39626548,  0.26427448, -0.40256685, -0.15806475,\n        -0.03675562,  0.59394354,  0.04287332],\n       [ 0.29085732, -0.15485302, -0.30490842,  0.02125698,  0.53190035,\n         0.4735275 , -0.31019032, -0.30103546],\n       [-0.32514971,  0.35568887,  0.60499436, -0.46375048,  0.30901045,\n        -0.3353825 , -0.31917244, -0.00062662],\n       [ 0.09153414,  0.3087433 , -0.5722545 ,  0.57090896,  0.42197305,\n        -0.35369554, -0.31239608, -0.37610418],\n       [-0.04172009,  0.2589463 ,  0.29266214, -0.21274093, -0.09384972,\n         0.5443581 ,  0.2509116 , -0.39990777],\n       [-0.3122346 ,  0.2829188 , -0.1475077 ,  0.41860098,  0.5050687 ,\n         0.04044503,  0.5559198 , -0.601679  ],\n       [ 0.31793612,  0.47698313, -0.54029864,  0.19590074, -0.05777699,\n         0.3441884 , -0.17537257,  0.56623703],\n       [-0.29673764,  0.18982345,  0.45824152,  0.50152177, -0.54381204,\n        -0.33678803, -0.6013256 , -0.28003615]], dtype=float32)>), (None, <tf.Variable 'sequence_decoder_9/feature_extractor_9/r3->FeatureExtractor->cf2/bias:0' shape=(8,) dtype=float32, numpy=array([0., 0., 0., 0., 0., 0., 0., 0.], dtype=float32)>), (None, <tf.Variable 'sequence_decoder_9/feature_extractor_9/featureExtractor_stateFC/kernel:0' shape=(256, 8) dtype=float32, numpy=\narray([[ 0.01083486,  0.03756994,  0.00946909, ..., -0.06194089,\n        -0.07986061,  0.02966778],\n       [-0.05136809, -0.07650508, -0.13507703, ..., -0.06005014,\n        -0.1507385 ,  0.10126543],\n       [-0.04338293, -0.10514342,  0.07556963, ...,  0.13385364,\n        -0.08992524, -0.00905468],\n       ...,\n       [ 0.07104264,  0.02052076, -0.00874111, ...,  0.00246888,\n        -0.12505186, -0.11435585],\n       [ 0.04330501,  0.12739465, -0.09285377, ..., -0.03075506,\n        -0.07242164, -0.11108094],\n       [-0.10950866,  0.04463334,  0.13109863, ..., -0.02878387,\n        -0.11601005, -0.1367474 ]], dtype=float32)>), (None, <tf.Variable 'sequence_decoder_9/feature_extractor_9/featureExtractor_stateFC/bias:0' shape=(8,) dtype=float32, numpy=array([0., 0., 0., 0., 0., 0., 0., 0.], dtype=float32)>), (None, <tf.Variable 'sequence_decoder_9/phase_estimator_9/r3->PhaseEstimator->cf1/kernel:0' shape=(124, 256) dtype=float32, numpy=\narray([[ 0.06206989,  0.02308509, -0.07038267, ..., -0.09866779,\n         0.0289579 ,  0.06874737],\n       [ 0.11898676,  0.06563909,  0.06401403, ...,  0.09111422,\n         0.11812197, -0.00564792],\n       [ 0.02635388,  0.05300066, -0.10798706, ..., -0.08313563,\n         0.04991619,  0.02864832],\n       ...,\n       [-0.0858753 ,  0.06791529, -0.0947875 , ...,  0.1252137 ,\n         0.08551538,  0.04970692],\n       [ 0.02549051, -0.11695626, -0.12411287, ..., -0.05698975,\n         0.03133285, -0.0367509 ],\n       [-0.09422272, -0.11811238, -0.08663303, ...,  0.11638561,\n        -0.03582877, -0.00467063]], dtype=float32)>), (None, <tf.Variable 'sequence_decoder_9/phase_estimator_9/r3->PhaseEstimator->cf1/bias:0' shape=(256,) dtype=float32, numpy=\narray([0., 0., 0., 0., 0., 0., 0., 0., 0., 0., 0., 0., 0., 0., 0., 0., 0.,\n       0., 0., 0., 0., 0., 0., 0., 0., 0., 0., 0., 0., 0., 0., 0., 0., 0.,\n       0., 0., 0., 0., 0., 0., 0., 0., 0., 0., 0., 0., 0., 0., 0., 0., 0.,\n       0., 0., 0., 0., 0., 0., 0., 0., 0., 0., 0., 0., 0., 0., 0., 0., 0.,\n       0., 0., 0., 0., 0., 0., 0., 0., 0., 0., 0., 0., 0., 0., 0., 0., 0.,\n       0., 0., 0., 0., 0., 0., 0., 0., 0., 0., 0., 0., 0., 0., 0., 0., 0.,\n       0., 0., 0., 0., 0., 0., 0., 0., 0., 0., 0., 0., 0., 0., 0., 0., 0.,\n       0., 0., 0., 0., 0., 0., 0., 0., 0., 0., 0., 0., 0., 0., 0., 0., 0.,\n       0., 0., 0., 0., 0., 0., 0., 0., 0., 0., 0., 0., 0., 0., 0., 0., 0.,\n       0., 0., 0., 0., 0., 0., 0., 0., 0., 0., 0., 0., 0., 0., 0., 0., 0.,\n       0., 0., 0., 0., 0., 0., 0., 0., 0., 0., 0., 0., 0., 0., 0., 0., 0.,\n       0., 0., 0., 0., 0., 0., 0., 0., 0., 0., 0., 0., 0., 0., 0., 0., 0.,\n       0., 0., 0., 0., 0., 0., 0., 0., 0., 0., 0., 0., 0., 0., 0., 0., 0.,\n       0., 0., 0., 0., 0., 0., 0., 0., 0., 0., 0., 0., 0., 0., 0., 0., 0.,\n       0., 0., 0., 0., 0., 0., 0., 0., 0., 0., 0., 0., 0., 0., 0., 0., 0.,\n       0.], dtype=float32)>), (None, <tf.Variable 'sequence_decoder_9/phase_estimator_9/r3->PhaseEstimator->cf2/kernel:0' shape=(8, 2) dtype=float32, numpy=\narray([[-0.49218267,  0.60152125],\n       [ 0.0291971 , -0.08043474],\n       [-0.39833805, -0.17483157],\n       [ 0.41017246, -0.3041527 ],\n       [-0.27993822,  0.6424196 ],\n       [ 0.26934898,  0.4428159 ],\n       [-0.41717172, -0.25058365],\n       [ 0.21741116,  0.2217524 ]], dtype=float32)>), (None, <tf.Variable 'sequence_decoder_9/phase_estimator_9/r3->PhaseEstimator->cf2/bias:0' shape=(2,) dtype=float32, numpy=array([0., 0.], dtype=float32)>), (None, <tf.Variable 'sequence_decoder_9/phase_estimator_9/PhaseEstimator_stateFC/kernel:0' shape=(256, 8) dtype=float32, numpy=\narray([[ 0.0101895 , -0.09765341,  0.14940825, ..., -0.04796293,\n         0.10656792,  0.05245575],\n       [-0.05951758,  0.06023288,  0.0818319 , ..., -0.03320816,\n        -0.05952197, -0.13354737],\n       [ 0.07332276, -0.13441648, -0.13876852, ..., -0.13724978,\n        -0.12359513, -0.07448889],\n       ...,\n       [ 0.09460919,  0.05029613,  0.08556245, ..., -0.06649788,\n        -0.03794274, -0.0999437 ],\n       [ 0.14863363, -0.08402596, -0.12635045, ..., -0.10509698,\n        -0.01625998, -0.08267156],\n       [ 0.01944071,  0.05046117, -0.00843081, ...,  0.11016712,\n         0.09243137,  0.09136264]], dtype=float32)>), (None, <tf.Variable 'sequence_decoder_9/phase_estimator_9/PhaseEstimator_stateFC/bias:0' shape=(8,) dtype=float32, numpy=array([0., 0., 0., 0., 0., 0., 0., 0.], dtype=float32)>), (None, <tf.Variable 'sequence_decoder_9/rx__decoder_new_9/r3->Rx_Decoder_new->cf1/kernel:0' shape=(22, 256) dtype=float32, numpy=\narray([[ 0.11833841, -0.12675953, -0.01772629, ..., -0.0569138 ,\n         0.11545774, -0.08991393],\n       [-0.07076159,  0.00876108, -0.04750866, ..., -0.02583104,\n         0.12449947,  0.09267266],\n       [-0.0403225 ,  0.08133878, -0.08416886, ...,  0.09586236,\n        -0.00399716,  0.0047497 ],\n       ...,\n       [ 0.14183468,  0.06480321, -0.14376031, ..., -0.09320962,\n        -0.0290076 ,  0.00273523],\n       [ 0.01637802, -0.01501122, -0.09627781, ..., -0.11787271,\n        -0.01546212, -0.02714613],\n       [-0.00667383, -0.03818878, -0.10362288, ..., -0.02968332,\n        -0.01717062,  0.07907356]], dtype=float32)>), (None, <tf.Variable 'sequence_decoder_9/rx__decoder_new_9/r3->Rx_Decoder_new->cf1/bias:0' shape=(256,) dtype=float32, numpy=\narray([0., 0., 0., 0., 0., 0., 0., 0., 0., 0., 0., 0., 0., 0., 0., 0., 0.,\n       0., 0., 0., 0., 0., 0., 0., 0., 0., 0., 0., 0., 0., 0., 0., 0., 0.,\n       0., 0., 0., 0., 0., 0., 0., 0., 0., 0., 0., 0., 0., 0., 0., 0., 0.,\n       0., 0., 0., 0., 0., 0., 0., 0., 0., 0., 0., 0., 0., 0., 0., 0., 0.,\n       0., 0., 0., 0., 0., 0., 0., 0., 0., 0., 0., 0., 0., 0., 0., 0., 0.,\n       0., 0., 0., 0., 0., 0., 0., 0., 0., 0., 0., 0., 0., 0., 0., 0., 0.,\n       0., 0., 0., 0., 0., 0., 0., 0., 0., 0., 0., 0., 0., 0., 0., 0., 0.,\n       0., 0., 0., 0., 0., 0., 0., 0., 0., 0., 0., 0., 0., 0., 0., 0., 0.,\n       0., 0., 0., 0., 0., 0., 0., 0., 0., 0., 0., 0., 0., 0., 0., 0., 0.,\n       0., 0., 0., 0., 0., 0., 0., 0., 0., 0., 0., 0., 0., 0., 0., 0., 0.,\n       0., 0., 0., 0., 0., 0., 0., 0., 0., 0., 0., 0., 0., 0., 0., 0., 0.,\n       0., 0., 0., 0., 0., 0., 0., 0., 0., 0., 0., 0., 0., 0., 0., 0., 0.,\n       0., 0., 0., 0., 0., 0., 0., 0., 0., 0., 0., 0., 0., 0., 0., 0., 0.,\n       0., 0., 0., 0., 0., 0., 0., 0., 0., 0., 0., 0., 0., 0., 0., 0., 0.,\n       0., 0., 0., 0., 0., 0., 0., 0., 0., 0., 0., 0., 0., 0., 0., 0., 0.,\n       0.], dtype=float32)>), (None, <tf.Variable 'sequence_decoder_9/rx__decoder_new_9/r3->Rx_Decoder_new->cf2/kernel:0' shape=(256, 256) dtype=float32, numpy=\narray([[-0.01652022, -0.08424145,  0.06656765, ...,  0.05511337,\n         0.03224862,  0.02569049],\n       [-0.01112472,  0.03739471, -0.07486024, ...,  0.07679755,\n        -0.052557  ,  0.09322593],\n       [ 0.07787407,  0.01837047,  0.06196787, ...,  0.02006408,\n         0.03950147, -0.09359716],\n       ...,\n       [-0.09776295, -0.10680394, -0.04680648, ...,  0.02242475,\n         0.04478853,  0.04243869],\n       [-0.09700456, -0.04783553, -0.00590639, ..., -0.00035971,\n         0.05411848,  0.04063753],\n       [-0.05275716,  0.08426812,  0.01811462, ..., -0.10437469,\n        -0.06317042,  0.05683466]], dtype=float32)>), (None, <tf.Variable 'sequence_decoder_9/rx__decoder_new_9/r3->Rx_Decoder_new->cf2/bias:0' shape=(256,) dtype=float32, numpy=\narray([0., 0., 0., 0., 0., 0., 0., 0., 0., 0., 0., 0., 0., 0., 0., 0., 0.,\n       0., 0., 0., 0., 0., 0., 0., 0., 0., 0., 0., 0., 0., 0., 0., 0., 0.,\n       0., 0., 0., 0., 0., 0., 0., 0., 0., 0., 0., 0., 0., 0., 0., 0., 0.,\n       0., 0., 0., 0., 0., 0., 0., 0., 0., 0., 0., 0., 0., 0., 0., 0., 0.,\n       0., 0., 0., 0., 0., 0., 0., 0., 0., 0., 0., 0., 0., 0., 0., 0., 0.,\n       0., 0., 0., 0., 0., 0., 0., 0., 0., 0., 0., 0., 0., 0., 0., 0., 0.,\n       0., 0., 0., 0., 0., 0., 0., 0., 0., 0., 0., 0., 0., 0., 0., 0., 0.,\n       0., 0., 0., 0., 0., 0., 0., 0., 0., 0., 0., 0., 0., 0., 0., 0., 0.,\n       0., 0., 0., 0., 0., 0., 0., 0., 0., 0., 0., 0., 0., 0., 0., 0., 0.,\n       0., 0., 0., 0., 0., 0., 0., 0., 0., 0., 0., 0., 0., 0., 0., 0., 0.,\n       0., 0., 0., 0., 0., 0., 0., 0., 0., 0., 0., 0., 0., 0., 0., 0., 0.,\n       0., 0., 0., 0., 0., 0., 0., 0., 0., 0., 0., 0., 0., 0., 0., 0., 0.,\n       0., 0., 0., 0., 0., 0., 0., 0., 0., 0., 0., 0., 0., 0., 0., 0., 0.,\n       0., 0., 0., 0., 0., 0., 0., 0., 0., 0., 0., 0., 0., 0., 0., 0., 0.,\n       0., 0., 0., 0., 0., 0., 0., 0., 0., 0., 0., 0., 0., 0., 0., 0., 0.,\n       0.], dtype=float32)>), (None, <tf.Variable 'sequence_decoder_9/rx__decoder_new_9/final_out_cf3/kernel:0' shape=(256, 16) dtype=float32, numpy=\narray([[-0.03501996, -0.03656765,  0.02488419, ..., -0.14407101,\n         0.04785433, -0.1282644 ],\n       [ 0.12819812,  0.13583767, -0.01379988, ...,  0.14652413,\n         0.08410297, -0.05652852],\n       [ 0.08189949, -0.03222399, -0.02680553, ..., -0.09034233,\n         0.00126457,  0.03964294],\n       ...,\n       [-0.00533246,  0.11247179, -0.04963464, ..., -0.1407066 ,\n        -0.13118076,  0.07869236],\n       [-0.12277712,  0.0099804 , -0.05371965, ...,  0.1168175 ,\n         0.04894161,  0.07054015],\n       [-0.11022823,  0.0277808 , -0.0357952 , ...,  0.10127707,\n         0.03478782, -0.1385052 ]], dtype=float32)>), (None, <tf.Variable 'sequence_decoder_9/rx__decoder_new_9/final_out_cf3/bias:0' shape=(16,) dtype=float32, numpy=\narray([0., 0., 0., 0., 0., 0., 0., 0., 0., 0., 0., 0., 0., 0., 0., 0.],\n      dtype=float32)>)).",
     "output_type": "error",
     "traceback": [
      "\u001b[1;31m---------------------------------------------------------------------------\u001b[0m",
      "\u001b[1;31mValueError\u001b[0m                                Traceback (most recent call last)",
      "\u001b[1;32m~\\AppData\\Local\\Temp/ipykernel_18376/2370095014.py\u001b[0m in \u001b[0;36m<module>\u001b[1;34m\u001b[0m\n\u001b[0;32m      7\u001b[0m \u001b[1;33m\u001b[0m\u001b[0m\n\u001b[0;32m      8\u001b[0m \u001b[1;33m\u001b[0m\u001b[0m\n\u001b[1;32m----> 9\u001b[1;33m \u001b[0mend2end\u001b[0m\u001b[1;33m.\u001b[0m\u001b[0mcustom_fit\u001b[0m\u001b[1;33m(\u001b[0m\u001b[0mx_train\u001b[0m\u001b[1;33m,\u001b[0m\u001b[0my_train\u001b[0m\u001b[1;33m,\u001b[0m\u001b[0mepochs\u001b[0m\u001b[1;33m=\u001b[0m\u001b[1;36m1\u001b[0m\u001b[1;33m)\u001b[0m\u001b[1;33m\u001b[0m\u001b[1;33m\u001b[0m\u001b[0m\n\u001b[0m",
      "\u001b[1;32m~\\AppData\\Local\\Temp/ipykernel_18376/2308338615.py\u001b[0m in \u001b[0;36mcustom_fit\u001b[1;34m(self, x, y, epochs)\u001b[0m\n\u001b[0;32m    110\u001b[0m             \u001b[1;31m# backpropagate\u001b[0m\u001b[1;33m\u001b[0m\u001b[1;33m\u001b[0m\u001b[0m\n\u001b[0;32m    111\u001b[0m             \u001b[0mgrads\u001b[0m \u001b[1;33m=\u001b[0m \u001b[0mtape\u001b[0m\u001b[1;33m.\u001b[0m\u001b[0mgradient\u001b[0m\u001b[1;33m(\u001b[0m\u001b[0mJ\u001b[0m\u001b[1;33m,\u001b[0m\u001b[0mself\u001b[0m\u001b[1;33m.\u001b[0m\u001b[0mtrainable_variables\u001b[0m\u001b[1;33m)\u001b[0m\u001b[1;33m\u001b[0m\u001b[1;33m\u001b[0m\u001b[0m\n\u001b[1;32m--> 112\u001b[1;33m             \u001b[0mself\u001b[0m\u001b[1;33m.\u001b[0m\u001b[0moptimizer\u001b[0m\u001b[1;33m.\u001b[0m\u001b[0mapply_gradients\u001b[0m\u001b[1;33m(\u001b[0m\u001b[0mzip\u001b[0m\u001b[1;33m(\u001b[0m\u001b[0mgrads\u001b[0m\u001b[1;33m,\u001b[0m\u001b[0mself\u001b[0m\u001b[1;33m.\u001b[0m\u001b[0mtrainable_variables\u001b[0m\u001b[1;33m)\u001b[0m\u001b[1;33m)\u001b[0m\u001b[1;33m\u001b[0m\u001b[1;33m\u001b[0m\u001b[0m\n\u001b[0m\u001b[0;32m    113\u001b[0m \u001b[1;33m\u001b[0m\u001b[0m\n\u001b[0;32m    114\u001b[0m             \u001b[0mprint\u001b[0m\u001b[1;33m(\u001b[0m\u001b[1;34mf'Epoch  : {_}/{epochs} --> Loss = {loss_acc}'\u001b[0m\u001b[1;33m)\u001b[0m\u001b[1;33m\u001b[0m\u001b[1;33m\u001b[0m\u001b[0m\n",
      "\u001b[1;32m~\\AppData\\Local\\Programs\\Python\\Python39\\lib\\site-packages\\keras\\optimizers\\optimizer_v2\\optimizer_v2.py\u001b[0m in \u001b[0;36mapply_gradients\u001b[1;34m(self, grads_and_vars, name, experimental_aggregate_gradients)\u001b[0m\n\u001b[0;32m    638\u001b[0m       \u001b[0mRuntimeError\u001b[0m\u001b[1;33m:\u001b[0m \u001b[0mIf\u001b[0m \u001b[0mcalled\u001b[0m \u001b[1;32min\u001b[0m \u001b[0ma\u001b[0m \u001b[0mcross\u001b[0m\u001b[1;33m-\u001b[0m\u001b[0mreplica\u001b[0m \u001b[0mcontext\u001b[0m\u001b[1;33m.\u001b[0m\u001b[1;33m\u001b[0m\u001b[1;33m\u001b[0m\u001b[0m\n\u001b[0;32m    639\u001b[0m     \"\"\"\n\u001b[1;32m--> 640\u001b[1;33m     \u001b[0mgrads_and_vars\u001b[0m \u001b[1;33m=\u001b[0m \u001b[0moptimizer_utils\u001b[0m\u001b[1;33m.\u001b[0m\u001b[0mfilter_empty_gradients\u001b[0m\u001b[1;33m(\u001b[0m\u001b[0mgrads_and_vars\u001b[0m\u001b[1;33m)\u001b[0m\u001b[1;33m\u001b[0m\u001b[1;33m\u001b[0m\u001b[0m\n\u001b[0m\u001b[0;32m    641\u001b[0m     \u001b[0mvar_list\u001b[0m \u001b[1;33m=\u001b[0m \u001b[1;33m[\u001b[0m\u001b[0mv\u001b[0m \u001b[1;32mfor\u001b[0m \u001b[1;33m(\u001b[0m\u001b[0m_\u001b[0m\u001b[1;33m,\u001b[0m \u001b[0mv\u001b[0m\u001b[1;33m)\u001b[0m \u001b[1;32min\u001b[0m \u001b[0mgrads_and_vars\u001b[0m\u001b[1;33m]\u001b[0m\u001b[1;33m\u001b[0m\u001b[1;33m\u001b[0m\u001b[0m\n\u001b[0;32m    642\u001b[0m \u001b[1;33m\u001b[0m\u001b[0m\n",
      "\u001b[1;32m~\\AppData\\Local\\Programs\\Python\\Python39\\lib\\site-packages\\keras\\optimizers\\optimizer_v2\\utils.py\u001b[0m in \u001b[0;36mfilter_empty_gradients\u001b[1;34m(grads_and_vars)\u001b[0m\n\u001b[0;32m     71\u001b[0m   \u001b[1;32mif\u001b[0m \u001b[1;32mnot\u001b[0m \u001b[0mfiltered\u001b[0m\u001b[1;33m:\u001b[0m\u001b[1;33m\u001b[0m\u001b[1;33m\u001b[0m\u001b[0m\n\u001b[0;32m     72\u001b[0m     \u001b[0mvariable\u001b[0m \u001b[1;33m=\u001b[0m \u001b[1;33m(\u001b[0m\u001b[1;33m[\u001b[0m\u001b[0mv\u001b[0m\u001b[1;33m.\u001b[0m\u001b[0mname\u001b[0m \u001b[1;32mfor\u001b[0m \u001b[0m_\u001b[0m\u001b[1;33m,\u001b[0m \u001b[0mv\u001b[0m \u001b[1;32min\u001b[0m \u001b[0mgrads_and_vars\u001b[0m\u001b[1;33m]\u001b[0m\u001b[1;33m,\u001b[0m\u001b[1;33m)\u001b[0m\u001b[1;33m\u001b[0m\u001b[1;33m\u001b[0m\u001b[0m\n\u001b[1;32m---> 73\u001b[1;33m     raise ValueError(f\"No gradients provided for any variable: {variable}. \"\n\u001b[0m\u001b[0;32m     74\u001b[0m                      f\"Provided `grads_and_vars` is {grads_and_vars}.\")\n\u001b[0;32m     75\u001b[0m   \u001b[1;32mif\u001b[0m \u001b[0mvars_with_empty_grads\u001b[0m\u001b[1;33m:\u001b[0m\u001b[1;33m\u001b[0m\u001b[1;33m\u001b[0m\u001b[0m\n",
      "\u001b[1;31mValueError\u001b[0m: No gradients provided for any variable: (['e2es->encoder->cf1/kernel:0', 'e2es->encoder->cf1/bias:0', 'e2es->encoder->cf2/kernel:0', 'e2es->encoder->cf2/bias:0', 'Encode_last_dense/kernel:0', 'Encode_last_dense/bias:0', 'sequence_decoder_9/feature_extractor_9/r3->FeatureExtractor->cf1/kernel:0', 'sequence_decoder_9/feature_extractor_9/r3->FeatureExtractor->cf1/bias:0', 'sequence_decoder_9/feature_extractor_9/r3->FeatureExtractor->cf2/kernel:0', 'sequence_decoder_9/feature_extractor_9/r3->FeatureExtractor->cf2/bias:0', 'sequence_decoder_9/feature_extractor_9/featureExtractor_stateFC/kernel:0', 'sequence_decoder_9/feature_extractor_9/featureExtractor_stateFC/bias:0', 'sequence_decoder_9/phase_estimator_9/r3->PhaseEstimator->cf1/kernel:0', 'sequence_decoder_9/phase_estimator_9/r3->PhaseEstimator->cf1/bias:0', 'sequence_decoder_9/phase_estimator_9/r3->PhaseEstimator->cf2/kernel:0', 'sequence_decoder_9/phase_estimator_9/r3->PhaseEstimator->cf2/bias:0', 'sequence_decoder_9/phase_estimator_9/PhaseEstimator_stateFC/kernel:0', 'sequence_decoder_9/phase_estimator_9/PhaseEstimator_stateFC/bias:0', 'sequence_decoder_9/rx__decoder_new_9/r3->Rx_Decoder_new->cf1/kernel:0', 'sequence_decoder_9/rx__decoder_new_9/r3->Rx_Decoder_new->cf1/bias:0', 'sequence_decoder_9/rx__decoder_new_9/r3->Rx_Decoder_new->cf2/kernel:0', 'sequence_decoder_9/rx__decoder_new_9/r3->Rx_Decoder_new->cf2/bias:0', 'sequence_decoder_9/rx__decoder_new_9/final_out_cf3/kernel:0', 'sequence_decoder_9/rx__decoder_new_9/final_out_cf3/bias:0'],). Provided `grads_and_vars` is ((None, <tf.Variable 'e2es->encoder->cf1/kernel:0' shape=(16, 16) dtype=float32, numpy=\narray([[-0.15927342,  0.25449046,  0.19574216,  0.28903338,  0.42506704,\n        -0.35356578, -0.15249231,  0.3654206 ,  0.03272209, -0.3440723 ,\n         0.02718687, -0.06207573, -0.42307022,  0.3227605 , -0.24538457,\n         0.35873356],\n       [-0.13873303, -0.2843946 ,  0.02460086, -0.29131114,  0.18896994,\n         0.14370212, -0.05363941, -0.30870524,  0.33983025, -0.03023404,\n        -0.2700448 ,  0.07726911, -0.14734825,  0.31616917,  0.4138911 ,\n         0.24767432],\n       [ 0.39470634,  0.14707085,  0.4052404 , -0.18272927, -0.06355369,\n         0.32525334,  0.05138788,  0.14382443, -0.39942133,  0.33741322,\n        -0.1486628 , -0.3431704 , -0.08909369,  0.04713178,  0.35787186,\n         0.02765277],\n       [-0.21909526, -0.39233908,  0.08727309, -0.35574195,  0.040434  ,\n        -0.42830628, -0.22135267,  0.33091584, -0.18083856, -0.3948289 ,\n        -0.34030688,  0.37526903, -0.42297134,  0.43146554,  0.00874552,\n        -0.13849837],\n       [ 0.2962635 ,  0.326655  , -0.3942461 ,  0.11139223,  0.29316178,\n        -0.08610174,  0.3466132 ,  0.34148434,  0.24087593, -0.17157611,\n         0.17286763,  0.28849128, -0.22614849,  0.17939118, -0.40701833,\n        -0.2292886 ],\n       [ 0.12935856, -0.02320075, -0.04244405,  0.41403976,  0.3365039 ,\n         0.12845227,  0.12608448,  0.12098876,  0.24388835, -0.3642373 ,\n        -0.31565204,  0.40183136,  0.35493657,  0.40239158,  0.4327508 ,\n         0.24675658],\n       [-0.19766939,  0.2710627 , -0.08185866, -0.23657298,  0.40837386,\n        -0.05492565, -0.05853486, -0.1498231 ,  0.3224227 ,  0.09470418,\n        -0.25551587, -0.09032223, -0.33401132, -0.01277831,  0.00718766,\n         0.43144646],\n       [ 0.19406542, -0.19062369,  0.18684384,  0.10330942, -0.05459571,\n        -0.15812996,  0.00496194,  0.1651552 ,  0.37646237, -0.22826189,\n         0.3504425 ,  0.34543493,  0.18873659,  0.13047591, -0.4222474 ,\n        -0.2738896 ],\n       [ 0.3024675 ,  0.31304964,  0.14449897,  0.17874375,  0.28957   ,\n         0.2801424 ,  0.04964224,  0.29900238, -0.19643064, -0.17495212,\n        -0.04093388, -0.38796014,  0.42320082,  0.37987885,  0.34223434,\n         0.15769336],\n       [ 0.03075582, -0.0514906 ,  0.33167955,  0.16755739,  0.11044565,\n        -0.21892677,  0.23990354,  0.22650436,  0.25184014, -0.16514695,\n        -0.26612443, -0.3140253 , -0.325364  ,  0.018226  ,  0.17047599,\n         0.39872023],\n       [ 0.04451004,  0.25145552,  0.07787606, -0.1668059 ,  0.02523121,\n         0.02311072,  0.06936881, -0.05627117, -0.41857266, -0.06880376,\n        -0.0082278 , -0.3636337 ,  0.38350716, -0.16595232,  0.333149  ,\n         0.17300412],\n       [ 0.32871684, -0.16338903,  0.01234451, -0.21529928, -0.20939168,\n        -0.25248635, -0.3707627 , -0.20381795,  0.25619695, -0.33952785,\n        -0.14063963,  0.00838596, -0.2516118 , -0.05981243, -0.11223745,\n         0.13641897],\n       [ 0.00872403, -0.41089267, -0.07580155,  0.1858578 ,  0.24187127,\n         0.3602033 ,  0.21630785, -0.09573656, -0.04508251,  0.3597025 ,\n        -0.21376216,  0.2226443 , -0.21606356, -0.28547138,  0.334626  ,\n        -0.39287737],\n       [ 0.24992964, -0.13453135,  0.0490863 , -0.02013642, -0.12162966,\n        -0.40065947, -0.32722795, -0.34541017,  0.07322833, -0.09535366,\n        -0.40079656,  0.17218897,  0.29079518, -0.27397072, -0.1477224 ,\n        -0.0227879 ],\n       [ 0.23576078, -0.38365892,  0.09960625, -0.36118683, -0.39879087,\n         0.09703079, -0.3100167 ,  0.14672348,  0.01634985, -0.07925913,\n        -0.1749706 , -0.11995152, -0.1886251 , -0.40416327, -0.39227602,\n         0.21120104],\n       [-0.3677178 , -0.2754869 ,  0.32926276, -0.31077528,  0.08105299,\n        -0.37871772,  0.25308678, -0.17686534,  0.00485995, -0.1859602 ,\n        -0.2546752 , -0.30757025, -0.366806  ,  0.08371541,  0.2501336 ,\n         0.09033713]], dtype=float32)>), (None, <tf.Variable 'e2es->encoder->cf1/bias:0' shape=(16,) dtype=float32, numpy=\narray([0., 0., 0., 0., 0., 0., 0., 0., 0., 0., 0., 0., 0., 0., 0., 0.],\n      dtype=float32)>), (None, <tf.Variable 'e2es->encoder->cf2/kernel:0' shape=(16, 16) dtype=float32, numpy=\narray([[ 0.26850602, -0.05010968, -0.26386267, -0.25413734, -0.04462051,\n        -0.26165855,  0.0720605 ,  0.16900805, -0.10417226,  0.12731883,\n         0.04037783,  0.32380703,  0.0571174 , -0.15529606,  0.23561975,\n         0.3455555 ],\n       [-0.06388581, -0.19926019,  0.3779038 , -0.22457153, -0.39023983,\n        -0.30905554, -0.19294924,  0.3855869 , -0.00135168, -0.3567797 ,\n         0.09996012, -0.12249106, -0.03111055,  0.34456548,  0.248548  ,\n         0.19599888],\n       [-0.11616132, -0.14217004, -0.02785391, -0.24971274,  0.20687947,\n         0.00187284, -0.2291073 , -0.05599147,  0.43239102, -0.06767714,\n         0.42353514,  0.13564178,  0.00245202,  0.20382115, -0.21114714,\n         0.30874667],\n       [ 0.37332144, -0.11550504,  0.20983419,  0.23987505, -0.11654332,\n         0.18112949,  0.35526034, -0.39492106, -0.09321228,  0.14441475,\n        -0.2994426 ,  0.4085416 ,  0.10102299, -0.29538968,  0.35015044,\n        -0.29675728],\n       [-0.1669653 , -0.17833927, -0.06439817,  0.04399583, -0.26666516,\n         0.34272   ,  0.2743005 ,  0.06273192,  0.12675318, -0.085778  ,\n         0.04624227,  0.09220347, -0.07607535, -0.26975572,  0.0412215 ,\n        -0.2809968 ],\n       [ 0.28387138,  0.06322744,  0.2064049 , -0.31638306, -0.3693535 ,\n         0.3678843 , -0.09610286, -0.02088302,  0.22351655, -0.353369  ,\n         0.3517398 ,  0.3192338 ,  0.00083891,  0.26414624,  0.28954503,\n         0.3985795 ],\n       [ 0.31267145, -0.39841455, -0.40718794, -0.06349948, -0.23977502,\n         0.169153  , -0.4160211 ,  0.00936928,  0.2604995 , -0.05776253,\n         0.21465918,  0.36604944,  0.07846645,  0.20923623, -0.18546198,\n        -0.23855567],\n       [-0.17083126, -0.4233651 ,  0.20086512,  0.4283485 , -0.23932458,\n        -0.15430766, -0.09966788,  0.05388564, -0.21470132,  0.40622833,\n         0.30638292,  0.22002575, -0.2615047 , -0.01918602, -0.25437313,\n        -0.3309115 ],\n       [-0.05231661,  0.00092131, -0.3093349 ,  0.3326405 , -0.10416082,\n        -0.26643795, -0.32868764,  0.36365983, -0.33764344, -0.12785658,\n        -0.37593576,  0.23731217,  0.08824053,  0.05622128, -0.18042716,\n         0.33140436],\n       [-0.41628522,  0.25055632, -0.02922243, -0.04851952, -0.07430461,\n         0.10761937,  0.37169155, -0.27525067,  0.22164795,  0.32170323,\n        -0.23025252, -0.43246284, -0.20282573,  0.32650414,  0.17326674,\n        -0.14852706],\n       [-0.1000064 , -0.36154178, -0.13878176,  0.12463912,  0.28528646,\n        -0.05219376, -0.07948563, -0.05833212, -0.23479976, -0.41862202,\n        -0.27079967,  0.03485346,  0.28249595, -0.11974257,  0.19805983,\n         0.3869389 ],\n       [-0.36930394, -0.1807949 ,  0.18071684,  0.0337967 , -0.0920873 ,\n        -0.07516313,  0.36187986,  0.20345405,  0.20629296,  0.37078884,\n        -0.18578151,  0.24035159,  0.22974274,  0.31987467,  0.2802845 ,\n        -0.29996777],\n       [-0.02054918, -0.38569456,  0.34159502,  0.34612498, -0.40463   ,\n        -0.01812553,  0.3820605 ,  0.3612245 ,  0.39822873, -0.33423752,\n        -0.1669397 ,  0.1387743 , -0.03295344,  0.04514992, -0.15141606,\n        -0.19842623],\n       [ 0.20117328, -0.06159049,  0.07453337, -0.317701  , -0.1053687 ,\n         0.3128262 ,  0.00324446,  0.05965251, -0.19254877, -0.09993342,\n        -0.36373425, -0.22355607, -0.30659848,  0.31527594,  0.28617945,\n        -0.22913156],\n       [ 0.15111914,  0.33634618,  0.34460005,  0.30603954, -0.1687159 ,\n        -0.19850428, -0.14615059,  0.100988  ,  0.03731465,  0.22348937,\n        -0.09289762,  0.27625933,  0.37457898,  0.23620853,  0.3184531 ,\n        -0.19622436],\n       [ 0.29588678, -0.05162874,  0.0555743 , -0.251778  , -0.16939738,\n        -0.4317797 , -0.10407668,  0.3160803 ,  0.31959638, -0.3361727 ,\n        -0.38347524, -0.22097903,  0.22204366,  0.1911883 ,  0.14634487,\n        -0.00100204]], dtype=float32)>), (None, <tf.Variable 'e2es->encoder->cf2/bias:0' shape=(16,) dtype=float32, numpy=\narray([0., 0., 0., 0., 0., 0., 0., 0., 0., 0., 0., 0., 0., 0., 0., 0.],\n      dtype=float32)>), (None, <tf.Variable 'Encode_last_dense/kernel:0' shape=(16, 14) dtype=float32, numpy=\narray([[-0.37219656,  0.04688483, -0.00134325, -0.44695747,  0.3823477 ,\n         0.0452154 , -0.36542186, -0.18923527, -0.21529268,  0.17538184,\n         0.3044566 ,  0.0290913 , -0.23837945,  0.25662988],\n       [-0.3305667 , -0.07605824,  0.2703188 ,  0.41384286, -0.36430243,\n         0.17947555,  0.38434762, -0.08907393, -0.41956204, -0.15630263,\n         0.21257514, -0.16520774, -0.3474359 ,  0.19578463],\n       [ 0.01132038,  0.30470377, -0.27482173,  0.39044994, -0.13188422,\n        -0.35896015,  0.24284095,  0.14821827,  0.39654106,  0.24457687,\n        -0.2456736 ,  0.19243145, -0.0840061 , -0.09336779],\n       [-0.19860378, -0.02438384, -0.20743385,  0.34343332, -0.07890433,\n         0.39657688, -0.20109122,  0.02413094,  0.24164557, -0.26831606,\n        -0.35735053, -0.4451871 ,  0.1533193 ,  0.20476311],\n       [ 0.3933493 ,  0.31530786,  0.3478341 , -0.1321015 ,  0.42907345,\n         0.3246705 ,  0.43470532, -0.40009633, -0.37947288, -0.15043074,\n         0.05538499,  0.28522503,  0.25219548,  0.18261164],\n       [-0.20482486,  0.35575086,  0.33545762,  0.24385929, -0.35475212,\n         0.09011042, -0.40491402, -0.03537083,  0.03467393, -0.01523924,\n         0.10886401, -0.0556666 ,  0.18169862, -0.36343813],\n       [-0.18026039,  0.01278594,  0.44523317, -0.39679334,  0.06563091,\n         0.10287714,  0.18546528,  0.07107377,  0.0006665 , -0.0790793 ,\n         0.08382195, -0.42198113,  0.0329659 , -0.00546661],\n       [ 0.296508  , -0.37957707,  0.28527516, -0.12374893,  0.1886906 ,\n         0.19450045, -0.18405685,  0.00462824, -0.15112537, -0.3427571 ,\n         0.36129946, -0.14930615, -0.15570852,  0.15155953],\n       [ 0.24781239,  0.3226332 , -0.24703465,  0.29786992,  0.29498625,\n         0.251581  , -0.32061613,  0.43235183,  0.11103368,  0.3745761 ,\n         0.09159654,  0.44601214,  0.3220647 ,  0.38871008],\n       [-0.19719025,  0.13453925,  0.11566585, -0.28523505, -0.03474909,\n        -0.06995732,  0.21290964,  0.15038604,  0.02066609,  0.0469842 ,\n         0.04479596,  0.42196703, -0.17376336,  0.20389831],\n       [ 0.01776707,  0.42500848, -0.21197209, -0.1007742 ,  0.19070017,\n        -0.18765691, -0.31650257,  0.194561  ,  0.11020637, -0.012312  ,\n         0.39948332,  0.3881061 , -0.20642956,  0.11311424],\n       [ 0.03648141,  0.0070405 , -0.2440817 , -0.420844  ,  0.10946053,\n         0.22361135, -0.13190714, -0.42463094, -0.0963811 , -0.17096406,\n        -0.42752472,  0.31479764, -0.4383589 ,  0.31356263],\n       [-0.40252224,  0.00441605,  0.40256327,  0.14575857, -0.0741457 ,\n        -0.07866529,  0.29273683,  0.3438273 , -0.21579157,  0.04138389,\n        -0.29360962, -0.07328844,  0.11689681,  0.00199792],\n       [ 0.287085  ,  0.2595023 , -0.00477153, -0.2594506 ,  0.06116712,\n         0.17533767,  0.1045472 , -0.43937236, -0.01703191, -0.13729891,\n         0.23980021,  0.15779448, -0.12797835,  0.16066778],\n       [ 0.3554715 ,  0.24248499, -0.12468615, -0.4421335 ,  0.1705209 ,\n        -0.29966918, -0.3876084 ,  0.37220037, -0.00297949,  0.19982696,\n        -0.4006928 , -0.27746868,  0.4222173 ,  0.40352088],\n       [ 0.36343557,  0.26747257,  0.04778504,  0.41227567,  0.0576368 ,\n         0.25487196,  0.02010503,  0.38987303, -0.25657493, -0.09463489,\n         0.39986676,  0.00957185, -0.42491734,  0.0137932 ]],\n      dtype=float32)>), (None, <tf.Variable 'Encode_last_dense/bias:0' shape=(14,) dtype=float32, numpy=\narray([0., 0., 0., 0., 0., 0., 0., 0., 0., 0., 0., 0., 0., 0.],\n      dtype=float32)>), (None, <tf.Variable 'sequence_decoder_9/feature_extractor_9/r3->FeatureExtractor->cf1/kernel:0' shape=(124, 256) dtype=float32, numpy=\narray([[ 0.05375887,  0.08508442,  0.00087255, ...,  0.00808857,\n         0.01241527,  0.08512732],\n       [-0.11501347, -0.1015586 ,  0.02960025, ...,  0.03453176,\n         0.11668757,  0.05818391],\n       [-0.0761006 ,  0.10872653, -0.04296707, ...,  0.10356745,\n         0.11536704, -0.11061657],\n       ...,\n       [ 0.089794  , -0.10322398, -0.12257282, ...,  0.01655923,\n        -0.02872006,  0.10885078],\n       [ 0.08775605,  0.00017364, -0.0603901 , ..., -0.03185519,\n         0.09565094,  0.00614245],\n       [ 0.05915131,  0.11306016,  0.012473  , ...,  0.1004521 ,\n        -0.08372058,  0.12412918]], dtype=float32)>), (None, <tf.Variable 'sequence_decoder_9/feature_extractor_9/r3->FeatureExtractor->cf1/bias:0' shape=(256,) dtype=float32, numpy=\narray([0., 0., 0., 0., 0., 0., 0., 0., 0., 0., 0., 0., 0., 0., 0., 0., 0.,\n       0., 0., 0., 0., 0., 0., 0., 0., 0., 0., 0., 0., 0., 0., 0., 0., 0.,\n       0., 0., 0., 0., 0., 0., 0., 0., 0., 0., 0., 0., 0., 0., 0., 0., 0.,\n       0., 0., 0., 0., 0., 0., 0., 0., 0., 0., 0., 0., 0., 0., 0., 0., 0.,\n       0., 0., 0., 0., 0., 0., 0., 0., 0., 0., 0., 0., 0., 0., 0., 0., 0.,\n       0., 0., 0., 0., 0., 0., 0., 0., 0., 0., 0., 0., 0., 0., 0., 0., 0.,\n       0., 0., 0., 0., 0., 0., 0., 0., 0., 0., 0., 0., 0., 0., 0., 0., 0.,\n       0., 0., 0., 0., 0., 0., 0., 0., 0., 0., 0., 0., 0., 0., 0., 0., 0.,\n       0., 0., 0., 0., 0., 0., 0., 0., 0., 0., 0., 0., 0., 0., 0., 0., 0.,\n       0., 0., 0., 0., 0., 0., 0., 0., 0., 0., 0., 0., 0., 0., 0., 0., 0.,\n       0., 0., 0., 0., 0., 0., 0., 0., 0., 0., 0., 0., 0., 0., 0., 0., 0.,\n       0., 0., 0., 0., 0., 0., 0., 0., 0., 0., 0., 0., 0., 0., 0., 0., 0.,\n       0., 0., 0., 0., 0., 0., 0., 0., 0., 0., 0., 0., 0., 0., 0., 0., 0.,\n       0., 0., 0., 0., 0., 0., 0., 0., 0., 0., 0., 0., 0., 0., 0., 0., 0.,\n       0., 0., 0., 0., 0., 0., 0., 0., 0., 0., 0., 0., 0., 0., 0., 0., 0.,\n       0.], dtype=float32)>), (None, <tf.Variable 'sequence_decoder_9/feature_extractor_9/r3->FeatureExtractor->cf2/kernel:0' shape=(8, 8) dtype=float32, numpy=\narray([[-0.21954152, -0.39626548,  0.26427448, -0.40256685, -0.15806475,\n        -0.03675562,  0.59394354,  0.04287332],\n       [ 0.29085732, -0.15485302, -0.30490842,  0.02125698,  0.53190035,\n         0.4735275 , -0.31019032, -0.30103546],\n       [-0.32514971,  0.35568887,  0.60499436, -0.46375048,  0.30901045,\n        -0.3353825 , -0.31917244, -0.00062662],\n       [ 0.09153414,  0.3087433 , -0.5722545 ,  0.57090896,  0.42197305,\n        -0.35369554, -0.31239608, -0.37610418],\n       [-0.04172009,  0.2589463 ,  0.29266214, -0.21274093, -0.09384972,\n         0.5443581 ,  0.2509116 , -0.39990777],\n       [-0.3122346 ,  0.2829188 , -0.1475077 ,  0.41860098,  0.5050687 ,\n         0.04044503,  0.5559198 , -0.601679  ],\n       [ 0.31793612,  0.47698313, -0.54029864,  0.19590074, -0.05777699,\n         0.3441884 , -0.17537257,  0.56623703],\n       [-0.29673764,  0.18982345,  0.45824152,  0.50152177, -0.54381204,\n        -0.33678803, -0.6013256 , -0.28003615]], dtype=float32)>), (None, <tf.Variable 'sequence_decoder_9/feature_extractor_9/r3->FeatureExtractor->cf2/bias:0' shape=(8,) dtype=float32, numpy=array([0., 0., 0., 0., 0., 0., 0., 0.], dtype=float32)>), (None, <tf.Variable 'sequence_decoder_9/feature_extractor_9/featureExtractor_stateFC/kernel:0' shape=(256, 8) dtype=float32, numpy=\narray([[ 0.01083486,  0.03756994,  0.00946909, ..., -0.06194089,\n        -0.07986061,  0.02966778],\n       [-0.05136809, -0.07650508, -0.13507703, ..., -0.06005014,\n        -0.1507385 ,  0.10126543],\n       [-0.04338293, -0.10514342,  0.07556963, ...,  0.13385364,\n        -0.08992524, -0.00905468],\n       ...,\n       [ 0.07104264,  0.02052076, -0.00874111, ...,  0.00246888,\n        -0.12505186, -0.11435585],\n       [ 0.04330501,  0.12739465, -0.09285377, ..., -0.03075506,\n        -0.07242164, -0.11108094],\n       [-0.10950866,  0.04463334,  0.13109863, ..., -0.02878387,\n        -0.11601005, -0.1367474 ]], dtype=float32)>), (None, <tf.Variable 'sequence_decoder_9/feature_extractor_9/featureExtractor_stateFC/bias:0' shape=(8,) dtype=float32, numpy=array([0., 0., 0., 0., 0., 0., 0., 0.], dtype=float32)>), (None, <tf.Variable 'sequence_decoder_9/phase_estimator_9/r3->PhaseEstimator->cf1/kernel:0' shape=(124, 256) dtype=float32, numpy=\narray([[ 0.06206989,  0.02308509, -0.07038267, ..., -0.09866779,\n         0.0289579 ,  0.06874737],\n       [ 0.11898676,  0.06563909,  0.06401403, ...,  0.09111422,\n         0.11812197, -0.00564792],\n       [ 0.02635388,  0.05300066, -0.10798706, ..., -0.08313563,\n         0.04991619,  0.02864832],\n       ...,\n       [-0.0858753 ,  0.06791529, -0.0947875 , ...,  0.1252137 ,\n         0.08551538,  0.04970692],\n       [ 0.02549051, -0.11695626, -0.12411287, ..., -0.05698975,\n         0.03133285, -0.0367509 ],\n       [-0.09422272, -0.11811238, -0.08663303, ...,  0.11638561,\n        -0.03582877, -0.00467063]], dtype=float32)>), (None, <tf.Variable 'sequence_decoder_9/phase_estimator_9/r3->PhaseEstimator->cf1/bias:0' shape=(256,) dtype=float32, numpy=\narray([0., 0., 0., 0., 0., 0., 0., 0., 0., 0., 0., 0., 0., 0., 0., 0., 0.,\n       0., 0., 0., 0., 0., 0., 0., 0., 0., 0., 0., 0., 0., 0., 0., 0., 0.,\n       0., 0., 0., 0., 0., 0., 0., 0., 0., 0., 0., 0., 0., 0., 0., 0., 0.,\n       0., 0., 0., 0., 0., 0., 0., 0., 0., 0., 0., 0., 0., 0., 0., 0., 0.,\n       0., 0., 0., 0., 0., 0., 0., 0., 0., 0., 0., 0., 0., 0., 0., 0., 0.,\n       0., 0., 0., 0., 0., 0., 0., 0., 0., 0., 0., 0., 0., 0., 0., 0., 0.,\n       0., 0., 0., 0., 0., 0., 0., 0., 0., 0., 0., 0., 0., 0., 0., 0., 0.,\n       0., 0., 0., 0., 0., 0., 0., 0., 0., 0., 0., 0., 0., 0., 0., 0., 0.,\n       0., 0., 0., 0., 0., 0., 0., 0., 0., 0., 0., 0., 0., 0., 0., 0., 0.,\n       0., 0., 0., 0., 0., 0., 0., 0., 0., 0., 0., 0., 0., 0., 0., 0., 0.,\n       0., 0., 0., 0., 0., 0., 0., 0., 0., 0., 0., 0., 0., 0., 0., 0., 0.,\n       0., 0., 0., 0., 0., 0., 0., 0., 0., 0., 0., 0., 0., 0., 0., 0., 0.,\n       0., 0., 0., 0., 0., 0., 0., 0., 0., 0., 0., 0., 0., 0., 0., 0., 0.,\n       0., 0., 0., 0., 0., 0., 0., 0., 0., 0., 0., 0., 0., 0., 0., 0., 0.,\n       0., 0., 0., 0., 0., 0., 0., 0., 0., 0., 0., 0., 0., 0., 0., 0., 0.,\n       0.], dtype=float32)>), (None, <tf.Variable 'sequence_decoder_9/phase_estimator_9/r3->PhaseEstimator->cf2/kernel:0' shape=(8, 2) dtype=float32, numpy=\narray([[-0.49218267,  0.60152125],\n       [ 0.0291971 , -0.08043474],\n       [-0.39833805, -0.17483157],\n       [ 0.41017246, -0.3041527 ],\n       [-0.27993822,  0.6424196 ],\n       [ 0.26934898,  0.4428159 ],\n       [-0.41717172, -0.25058365],\n       [ 0.21741116,  0.2217524 ]], dtype=float32)>), (None, <tf.Variable 'sequence_decoder_9/phase_estimator_9/r3->PhaseEstimator->cf2/bias:0' shape=(2,) dtype=float32, numpy=array([0., 0.], dtype=float32)>), (None, <tf.Variable 'sequence_decoder_9/phase_estimator_9/PhaseEstimator_stateFC/kernel:0' shape=(256, 8) dtype=float32, numpy=\narray([[ 0.0101895 , -0.09765341,  0.14940825, ..., -0.04796293,\n         0.10656792,  0.05245575],\n       [-0.05951758,  0.06023288,  0.0818319 , ..., -0.03320816,\n        -0.05952197, -0.13354737],\n       [ 0.07332276, -0.13441648, -0.13876852, ..., -0.13724978,\n        -0.12359513, -0.07448889],\n       ...,\n       [ 0.09460919,  0.05029613,  0.08556245, ..., -0.06649788,\n        -0.03794274, -0.0999437 ],\n       [ 0.14863363, -0.08402596, -0.12635045, ..., -0.10509698,\n        -0.01625998, -0.08267156],\n       [ 0.01944071,  0.05046117, -0.00843081, ...,  0.11016712,\n         0.09243137,  0.09136264]], dtype=float32)>), (None, <tf.Variable 'sequence_decoder_9/phase_estimator_9/PhaseEstimator_stateFC/bias:0' shape=(8,) dtype=float32, numpy=array([0., 0., 0., 0., 0., 0., 0., 0.], dtype=float32)>), (None, <tf.Variable 'sequence_decoder_9/rx__decoder_new_9/r3->Rx_Decoder_new->cf1/kernel:0' shape=(22, 256) dtype=float32, numpy=\narray([[ 0.11833841, -0.12675953, -0.01772629, ..., -0.0569138 ,\n         0.11545774, -0.08991393],\n       [-0.07076159,  0.00876108, -0.04750866, ..., -0.02583104,\n         0.12449947,  0.09267266],\n       [-0.0403225 ,  0.08133878, -0.08416886, ...,  0.09586236,\n        -0.00399716,  0.0047497 ],\n       ...,\n       [ 0.14183468,  0.06480321, -0.14376031, ..., -0.09320962,\n        -0.0290076 ,  0.00273523],\n       [ 0.01637802, -0.01501122, -0.09627781, ..., -0.11787271,\n        -0.01546212, -0.02714613],\n       [-0.00667383, -0.03818878, -0.10362288, ..., -0.02968332,\n        -0.01717062,  0.07907356]], dtype=float32)>), (None, <tf.Variable 'sequence_decoder_9/rx__decoder_new_9/r3->Rx_Decoder_new->cf1/bias:0' shape=(256,) dtype=float32, numpy=\narray([0., 0., 0., 0., 0., 0., 0., 0., 0., 0., 0., 0., 0., 0., 0., 0., 0.,\n       0., 0., 0., 0., 0., 0., 0., 0., 0., 0., 0., 0., 0., 0., 0., 0., 0.,\n       0., 0., 0., 0., 0., 0., 0., 0., 0., 0., 0., 0., 0., 0., 0., 0., 0.,\n       0., 0., 0., 0., 0., 0., 0., 0., 0., 0., 0., 0., 0., 0., 0., 0., 0.,\n       0., 0., 0., 0., 0., 0., 0., 0., 0., 0., 0., 0., 0., 0., 0., 0., 0.,\n       0., 0., 0., 0., 0., 0., 0., 0., 0., 0., 0., 0., 0., 0., 0., 0., 0.,\n       0., 0., 0., 0., 0., 0., 0., 0., 0., 0., 0., 0., 0., 0., 0., 0., 0.,\n       0., 0., 0., 0., 0., 0., 0., 0., 0., 0., 0., 0., 0., 0., 0., 0., 0.,\n       0., 0., 0., 0., 0., 0., 0., 0., 0., 0., 0., 0., 0., 0., 0., 0., 0.,\n       0., 0., 0., 0., 0., 0., 0., 0., 0., 0., 0., 0., 0., 0., 0., 0., 0.,\n       0., 0., 0., 0., 0., 0., 0., 0., 0., 0., 0., 0., 0., 0., 0., 0., 0.,\n       0., 0., 0., 0., 0., 0., 0., 0., 0., 0., 0., 0., 0., 0., 0., 0., 0.,\n       0., 0., 0., 0., 0., 0., 0., 0., 0., 0., 0., 0., 0., 0., 0., 0., 0.,\n       0., 0., 0., 0., 0., 0., 0., 0., 0., 0., 0., 0., 0., 0., 0., 0., 0.,\n       0., 0., 0., 0., 0., 0., 0., 0., 0., 0., 0., 0., 0., 0., 0., 0., 0.,\n       0.], dtype=float32)>), (None, <tf.Variable 'sequence_decoder_9/rx__decoder_new_9/r3->Rx_Decoder_new->cf2/kernel:0' shape=(256, 256) dtype=float32, numpy=\narray([[-0.01652022, -0.08424145,  0.06656765, ...,  0.05511337,\n         0.03224862,  0.02569049],\n       [-0.01112472,  0.03739471, -0.07486024, ...,  0.07679755,\n        -0.052557  ,  0.09322593],\n       [ 0.07787407,  0.01837047,  0.06196787, ...,  0.02006408,\n         0.03950147, -0.09359716],\n       ...,\n       [-0.09776295, -0.10680394, -0.04680648, ...,  0.02242475,\n         0.04478853,  0.04243869],\n       [-0.09700456, -0.04783553, -0.00590639, ..., -0.00035971,\n         0.05411848,  0.04063753],\n       [-0.05275716,  0.08426812,  0.01811462, ..., -0.10437469,\n        -0.06317042,  0.05683466]], dtype=float32)>), (None, <tf.Variable 'sequence_decoder_9/rx__decoder_new_9/r3->Rx_Decoder_new->cf2/bias:0' shape=(256,) dtype=float32, numpy=\narray([0., 0., 0., 0., 0., 0., 0., 0., 0., 0., 0., 0., 0., 0., 0., 0., 0.,\n       0., 0., 0., 0., 0., 0., 0., 0., 0., 0., 0., 0., 0., 0., 0., 0., 0.,\n       0., 0., 0., 0., 0., 0., 0., 0., 0., 0., 0., 0., 0., 0., 0., 0., 0.,\n       0., 0., 0., 0., 0., 0., 0., 0., 0., 0., 0., 0., 0., 0., 0., 0., 0.,\n       0., 0., 0., 0., 0., 0., 0., 0., 0., 0., 0., 0., 0., 0., 0., 0., 0.,\n       0., 0., 0., 0., 0., 0., 0., 0., 0., 0., 0., 0., 0., 0., 0., 0., 0.,\n       0., 0., 0., 0., 0., 0., 0., 0., 0., 0., 0., 0., 0., 0., 0., 0., 0.,\n       0., 0., 0., 0., 0., 0., 0., 0., 0., 0., 0., 0., 0., 0., 0., 0., 0.,\n       0., 0., 0., 0., 0., 0., 0., 0., 0., 0., 0., 0., 0., 0., 0., 0., 0.,\n       0., 0., 0., 0., 0., 0., 0., 0., 0., 0., 0., 0., 0., 0., 0., 0., 0.,\n       0., 0., 0., 0., 0., 0., 0., 0., 0., 0., 0., 0., 0., 0., 0., 0., 0.,\n       0., 0., 0., 0., 0., 0., 0., 0., 0., 0., 0., 0., 0., 0., 0., 0., 0.,\n       0., 0., 0., 0., 0., 0., 0., 0., 0., 0., 0., 0., 0., 0., 0., 0., 0.,\n       0., 0., 0., 0., 0., 0., 0., 0., 0., 0., 0., 0., 0., 0., 0., 0., 0.,\n       0., 0., 0., 0., 0., 0., 0., 0., 0., 0., 0., 0., 0., 0., 0., 0., 0.,\n       0.], dtype=float32)>), (None, <tf.Variable 'sequence_decoder_9/rx__decoder_new_9/final_out_cf3/kernel:0' shape=(256, 16) dtype=float32, numpy=\narray([[-0.03501996, -0.03656765,  0.02488419, ..., -0.14407101,\n         0.04785433, -0.1282644 ],\n       [ 0.12819812,  0.13583767, -0.01379988, ...,  0.14652413,\n         0.08410297, -0.05652852],\n       [ 0.08189949, -0.03222399, -0.02680553, ..., -0.09034233,\n         0.00126457,  0.03964294],\n       ...,\n       [-0.00533246,  0.11247179, -0.04963464, ..., -0.1407066 ,\n        -0.13118076,  0.07869236],\n       [-0.12277712,  0.0099804 , -0.05371965, ...,  0.1168175 ,\n         0.04894161,  0.07054015],\n       [-0.11022823,  0.0277808 , -0.0357952 , ...,  0.10127707,\n         0.03478782, -0.1385052 ]], dtype=float32)>), (None, <tf.Variable 'sequence_decoder_9/rx__decoder_new_9/final_out_cf3/bias:0' shape=(16,) dtype=float32, numpy=\narray([0., 0., 0., 0., 0., 0., 0., 0., 0., 0., 0., 0., 0., 0., 0., 0.],\n      dtype=float32)>))."
     ]
    },
    {
     "data": {
      "image/png": "[encoded data removed]",
      "text/plain": [
       "<Figure size 640x480 with 1 Axes>"
      ]
     },
     "metadata": {},
     "output_type": "display_data"
    }
   ],
   "source": [
    "end2end = End2EndSys()\n",
    "\n",
    "# end2end(x_train).shape\n",
    "\n",
    "end2end.compile(optimizer=Adam(learning_rate=1e-2),\n",
    "               loss=SparseCategoricalCrossentropy(from_logits=True))\n",
    "\n",
    "\n",
    "end2end.custom_fit(x_train,y_train,epochs=1)"
   ]
  },
  {
   "cell_type": "code",
   "execution_count": null,
   "metadata": {},
   "outputs": [],
   "source": []
  },
  {
   "cell_type": "code",
   "execution_count": null,
   "metadata": {},
   "outputs": [],
   "source": []
  },
  {
   "cell_type": "code",
   "execution_count": null,
   "metadata": {},
   "outputs": [],
   "source": []
  },
  {
   "cell_type": "code",
   "execution_count": null,
   "metadata": {},
   "outputs": [],
   "source": []
  },
  {
   "cell_type": "code",
   "execution_count": null,
   "metadata": {},
   "outputs": [],
   "source": []
  },
  {
   "cell_type": "code",
   "execution_count": 22,
   "metadata": {
    "ExecuteTime": {
     "end_time": "2024-04-16T15:45:18.787461Z",
     "start_time": "2024-04-16T15:45:18.773424Z"
    },
    "colab": {
     "base_uri": "https://localhost:8080/"
    },
    "id": "XMXg7FqQsYoU",
    "outputId": "2de71e71-5be4-45dc-cb21-5f6044d91932"
   },
   "outputs": [
    {
     "data": {
      "text/plain": [
       "(56.1875, 60)"
      ]
     },
     "execution_count": 22,
     "metadata": {},
     "output_type": "execute_result"
    }
   ],
   "source": [
    "17980/320,17980%320\n"
   ]
  },
  {
   "cell_type": "code",
   "execution_count": 23,
   "metadata": {
    "ExecuteTime": {
     "end_time": "2024-04-16T15:45:19.869762Z",
     "start_time": "2024-04-16T15:45:18.791451Z"
    },
    "colab": {
     "base_uri": "https://localhost:8080/"
    },
    "id": "G7XwICWFtf06",
    "outputId": "79af9993-71f3-4dbc-fd03-1e8a6412c8a8"
   },
   "outputs": [
    {
     "ename": "NameError",
     "evalue": "name 'Encoder' is not defined",
     "output_type": "error",
     "traceback": [
      "\u001b[1;31m---------------------------------------------------------------------------\u001b[0m",
      "\u001b[1;31mNameError\u001b[0m                                 Traceback (most recent call last)",
      "\u001b[1;32m~\\AppData\\Local\\Temp/ipykernel_18376/4097829577.py\u001b[0m in \u001b[0;36m<module>\u001b[1;34m\u001b[0m\n\u001b[1;32m----> 1\u001b[1;33m \u001b[0mEncoder\u001b[0m\u001b[1;33m(\u001b[0m\u001b[0mx_train\u001b[0m\u001b[1;33m)\u001b[0m\u001b[1;33m.\u001b[0m\u001b[0mshape\u001b[0m\u001b[1;33m\u001b[0m\u001b[1;33m\u001b[0m\u001b[0m\n\u001b[0m",
      "\u001b[1;31mNameError\u001b[0m: name 'Encoder' is not defined"
     ]
    }
   ],
   "source": [
    "Encoder(x_train).shape"
   ]
  },
  {
   "cell_type": "code",
   "execution_count": null,
   "metadata": {
    "ExecuteTime": {
     "end_time": "2024-04-16T15:45:19.875339Z",
     "start_time": "2024-04-16T15:45:19.875339Z"
    },
    "colab": {
     "base_uri": "https://localhost:8080/"
    },
    "id": "E6VG8egR82WV",
    "outputId": "ec21fdc1-1486-4e42-f996-2b827bb1d792"
   },
   "outputs": [],
   "source": [
    "(2*28+30) * 2"
   ]
  },
  {
   "cell_type": "code",
   "execution_count": null,
   "metadata": {
    "ExecuteTime": {
     "end_time": "2024-04-16T15:45:19.876335Z",
     "start_time": "2024-04-16T15:45:19.876335Z"
    },
    "id": "3FbYic3G88ti"
   },
   "outputs": [],
   "source": [
    "(17980-60)/(28*2)"
   ]
  },
  {
   "cell_type": "code",
   "execution_count": null,
   "metadata": {
    "ExecuteTime": {
     "end_time": "2024-04-16T15:45:19.877331Z",
     "start_time": "2024-04-16T15:45:19.877331Z"
    }
   },
   "outputs": [],
   "source": [
    "ExternalSlicer(out)"
   ]
  }
 ],
 "metadata": {
  "colab": {
   "provenance": []
  },
  "kernelspec": {
   "display_name": "Python 3 (ipykernel)",
   "language": "python",
   "name": "python3"
  },
  "language_info": {
   "codemirror_mode": {
    "name": "ipython",
    "version": 3
   },
   "file_extension": ".py",
   "mimetype": "text/x-python",
   "name": "python",
   "nbconvert_exporter": "python",
   "pygments_lexer": "ipython3",
   "version": "3.9.13"
  },
  "latex_envs": {
   "LaTeX_envs_menu_present": true,
   "autoclose": false,
   "autocomplete": true,
   "bibliofile": "biblio.bib",
   "cite_by": "apalike",
   "current_citInitial": 1,
   "eqLabelWithNumbers": true,
   "eqNumInitial": 1,
   "hotkeys": {
    "equation": "Ctrl-E",
    "itemize": "Ctrl-I"
   },
   "labels_anchors": false,
   "latex_user_defs": false,
   "report_style_numbering": false,
   "user_envs_cfg": false
  },
  "toc": {
   "base_numbering": 1,
   "nav_menu": {},
   "number_sections": true,
   "sideBar": true,
   "skip_h1_title": false,
   "title_cell": "Table of Contents",
   "title_sidebar": "Contents",
   "toc_cell": false,
   "toc_position": {},
   "toc_section_display": true,
   "toc_window_display": false
  },
  "varInspector": {
   "cols": {
    "lenName": 16,
    "lenType": 16,
    "lenVar": 40
   },
   "kernels_config": {
    "python": {
     "delete_cmd_postfix": "",
     "delete_cmd_prefix": "del ",
     "library": "var_list.py",
     "varRefreshCmd": "print(var_dic_list())"
    },
    "r": {
     "delete_cmd_postfix": ") ",
     "delete_cmd_prefix": "rm(",
     "library": "var_list.r",
     "varRefreshCmd": "cat(var_dic_list()) "
    }
   },
   "types_to_exclude": [
    "module",
    "function",
    "builtin_function_or_method",
    "instance",
    "_Feature"
   ],
   "window_display": false
  }
 },
 "nbformat": 4,
 "nbformat_minor": 1
}
