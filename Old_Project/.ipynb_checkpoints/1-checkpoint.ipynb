{
 "cells": [
  {
   "cell_type": "code",
   "execution_count": 11,
   "id": "c6ae15a9",
   "metadata": {
    "ExecuteTime": {
     "end_time": "2024-02-01T11:45:40.134458Z",
     "start_time": "2024-02-01T11:45:40.123782Z"
    }
   },
   "outputs": [],
   "source": [
    "import numpy as np\n",
    "import matplotlib.pyplot as plt\n",
    "import tensorflow as tf\n",
    "import keras\n",
    "\n",
    "from keras.layers import Dense\n",
    "from keras.models import Sequential,Model\n",
    "\n",
    "from tensorflow.keras.optimizers import Adam"
   ]
  },
  {
   "cell_type": "code",
   "execution_count": 30,
   "id": "fad0f7e3",
   "metadata": {
    "ExecuteTime": {
     "end_time": "2024-02-01T11:50:43.093712Z",
     "start_time": "2024-02-01T11:50:43.073706Z"
    }
   },
   "outputs": [],
   "source": [
    "class GaussianNoise(tf.keras.layers.Layer):\n",
    "    def __init__(self, stddev, **kwargs):\n",
    "        super(GaussianNoise, self).__init__(**kwargs)\n",
    "        self.stddev = stddev\n",
    "\n",
    "    def call(self, inputs, training=None):\n",
    "        if 1 or training:\n",
    "            noise = tf.random.normal(tf.shape(inputs), stddev=self.stddev)\n",
    "            return inputs + noise\n",
    "        return inputs\n",
    "\n",
    "    def get_config(self):\n",
    "        config = super(GaussianNoise, self).get_config()\n",
    "        config.update({'stddev': self.stddev})\n",
    "        return config\n",
    "    \n",
    "    \n",
    "class L2Normalization(tf.keras.layers.Layer):\n",
    "    def __init__(self,**kwargs):\n",
    "        \n",
    "        super(L2Normalization, self).__init__(**kwargs)\n",
    "\n",
    "    def call(self, inputs):\n",
    "        return tf.nn.l2_normalize(inputs, axis=-1)\n",
    "\n",
    "    def get_config(self):\n",
    "        return super(L2Normalization, self).get_config()\n",
    "    \n",
    "\n",
    "def generate_nakagami_samples(m, omega, size):\n",
    "    print((size..as_list()))\n",
    "    \"\"\"\n",
    "    Generate random samples from the Nakagami distribution.\n",
    "\n",
    "    Parameters:\n",
    "        m (float): Shape parameter of the Nakagami distribution.\n",
    "        omega (float): Scale parameter of the Nakagami distribution.\n",
    "        size (int or tuple of ints): Size of the output array.\n",
    "\n",
    "    Returns:\n",
    "        ndarray or scalar: Random samples from the Nakagami distribution.\n",
    "    \"\"\"\n",
    "    return np.random.gamma(m, 1/omega, size=size) ** 0.5\n",
    "    \n",
    "class NakagamiNoiseLayer(tf.keras.layers.Layer):\n",
    "    def __init__(self, distribution_params, **kwargs):\n",
    "        super(NakagamiNoiseLayer, self).__init__(**kwargs)\n",
    "        self.distribution_params = distribution_params\n",
    "\n",
    "    def call(self, inputs, training=None):\n",
    "        if 1 or training:\n",
    "            # noise = tf.random.normal(tf.shape(inputs), **self.distribution_params)\n",
    "            noise = generate_nakagami_samples(m = self.distribution_params[\"m\"], \n",
    "                                              omega = self.distribution_params[\"omega\"], \n",
    "                                              size = tf.shape(inputs))\n",
    "            return inputs * noise\n",
    "        \n",
    "        else:\n",
    "            return inputs"
   ]
  },
  {
   "cell_type": "code",
   "execution_count": 20,
   "id": "39a9aa4a",
   "metadata": {
    "ExecuteTime": {
     "end_time": "2024-02-01T11:48:11.069729Z",
     "start_time": "2024-02-01T11:48:11.043992Z"
    }
   },
   "outputs": [],
   "source": [
    "# generating the data set\n",
    "k = 3\n",
    "M = 2**k\n",
    "\n",
    "\n",
    "n_train = 1000 * M\n",
    "\n",
    "x_train = np.array(np.random.rand(n_train,k)<0.5).astype(np.float32)\n",
    "y_train = x_train\n",
    "\n"
   ]
  },
  {
   "cell_type": "code",
   "execution_count": 31,
   "id": "bfceff7c",
   "metadata": {
    "ExecuteTime": {
     "end_time": "2024-02-01T11:50:45.480552Z",
     "start_time": "2024-02-01T11:50:45.373197Z"
    }
   },
   "outputs": [
    {
     "ename": "AttributeError",
     "evalue": "Exception encountered when calling layer \"nakagami_noise_layer_7\" (type NakagamiNoiseLayer).\n\nin user code:\n\n    File \"C:\\Users\\R3KI3G\\AppData\\Local\\Temp/ipykernel_14768/2495167463.py\", line 53, in call  *\n        noise = generate_nakagami_samples(m = self.distribution_params[\"m\"],\n    File \"C:\\Users\\R3KI3G\\AppData\\Local\\Temp/ipykernel_14768/3416007768.py\", line 31, in generate_nakagami_samples  *\n        print((size.numpy()))\n\n    AttributeError: 'Tensor' object has no attribute 'numpy'\n\n\nCall arguments received by layer \"nakagami_noise_layer_7\" (type NakagamiNoiseLayer):\n  • inputs=tf.Tensor(shape=(None, 2), dtype=float32)\n  • training=None",
     "output_type": "error",
     "traceback": [
      "\u001b[1;31m---------------------------------------------------------------------------\u001b[0m",
      "\u001b[1;31mAttributeError\u001b[0m                            Traceback (most recent call last)",
      "\u001b[1;32m~\\AppData\\Local\\Temp/ipykernel_14768/2284498409.py\u001b[0m in \u001b[0;36m<module>\u001b[1;34m\u001b[0m\n\u001b[1;32m----> 1\u001b[1;33m AE = Sequential([\n\u001b[0m\u001b[0;32m      2\u001b[0m \u001b[1;33m\u001b[0m\u001b[0m\n\u001b[0;32m      3\u001b[0m     \u001b[0mDense\u001b[0m\u001b[1;33m(\u001b[0m\u001b[0mk\u001b[0m\u001b[1;33m,\u001b[0m \u001b[0mactivation\u001b[0m\u001b[1;33m=\u001b[0m\u001b[1;34m'tanh'\u001b[0m\u001b[1;33m,\u001b[0m\u001b[0minput_shape\u001b[0m\u001b[1;33m=\u001b[0m\u001b[1;33m(\u001b[0m\u001b[0mk\u001b[0m\u001b[1;33m,\u001b[0m\u001b[1;33m)\u001b[0m\u001b[1;33m)\u001b[0m\u001b[1;33m,\u001b[0m\u001b[1;33m\u001b[0m\u001b[1;33m\u001b[0m\u001b[0m\n\u001b[0;32m      4\u001b[0m     \u001b[0mDense\u001b[0m\u001b[1;33m(\u001b[0m\u001b[1;36m2\u001b[0m\u001b[1;33m*\u001b[0m\u001b[0mk\u001b[0m\u001b[1;33m,\u001b[0m \u001b[0mactivation\u001b[0m\u001b[1;33m=\u001b[0m\u001b[1;34m'tanh'\u001b[0m\u001b[1;33m)\u001b[0m\u001b[1;33m,\u001b[0m\u001b[1;33m\u001b[0m\u001b[1;33m\u001b[0m\u001b[0m\n\u001b[0;32m      5\u001b[0m \u001b[1;33m\u001b[0m\u001b[0m\n",
      "\u001b[1;32m~\\AppData\\Local\\Programs\\Python\\Python39\\lib\\site-packages\\tensorflow\\python\\training\\tracking\\base.py\u001b[0m in \u001b[0;36m_method_wrapper\u001b[1;34m(self, *args, **kwargs)\u001b[0m\n\u001b[0;32m    585\u001b[0m     \u001b[0mself\u001b[0m\u001b[1;33m.\u001b[0m\u001b[0m_self_setattr_tracking\u001b[0m \u001b[1;33m=\u001b[0m \u001b[1;32mFalse\u001b[0m  \u001b[1;31m# pylint: disable=protected-access\u001b[0m\u001b[1;33m\u001b[0m\u001b[1;33m\u001b[0m\u001b[0m\n\u001b[0;32m    586\u001b[0m     \u001b[1;32mtry\u001b[0m\u001b[1;33m:\u001b[0m\u001b[1;33m\u001b[0m\u001b[1;33m\u001b[0m\u001b[0m\n\u001b[1;32m--> 587\u001b[1;33m       \u001b[0mresult\u001b[0m \u001b[1;33m=\u001b[0m \u001b[0mmethod\u001b[0m\u001b[1;33m(\u001b[0m\u001b[0mself\u001b[0m\u001b[1;33m,\u001b[0m \u001b[1;33m*\u001b[0m\u001b[0margs\u001b[0m\u001b[1;33m,\u001b[0m \u001b[1;33m**\u001b[0m\u001b[0mkwargs\u001b[0m\u001b[1;33m)\u001b[0m\u001b[1;33m\u001b[0m\u001b[1;33m\u001b[0m\u001b[0m\n\u001b[0m\u001b[0;32m    588\u001b[0m     \u001b[1;32mfinally\u001b[0m\u001b[1;33m:\u001b[0m\u001b[1;33m\u001b[0m\u001b[1;33m\u001b[0m\u001b[0m\n\u001b[0;32m    589\u001b[0m       \u001b[0mself\u001b[0m\u001b[1;33m.\u001b[0m\u001b[0m_self_setattr_tracking\u001b[0m \u001b[1;33m=\u001b[0m \u001b[0mprevious_value\u001b[0m  \u001b[1;31m# pylint: disable=protected-access\u001b[0m\u001b[1;33m\u001b[0m\u001b[1;33m\u001b[0m\u001b[0m\n",
      "\u001b[1;32m~\\AppData\\Local\\Programs\\Python\\Python39\\lib\\site-packages\\keras\\utils\\traceback_utils.py\u001b[0m in \u001b[0;36merror_handler\u001b[1;34m(*args, **kwargs)\u001b[0m\n\u001b[0;32m     65\u001b[0m     \u001b[1;32mexcept\u001b[0m \u001b[0mException\u001b[0m \u001b[1;32mas\u001b[0m \u001b[0me\u001b[0m\u001b[1;33m:\u001b[0m  \u001b[1;31m# pylint: disable=broad-except\u001b[0m\u001b[1;33m\u001b[0m\u001b[1;33m\u001b[0m\u001b[0m\n\u001b[0;32m     66\u001b[0m       \u001b[0mfiltered_tb\u001b[0m \u001b[1;33m=\u001b[0m \u001b[0m_process_traceback_frames\u001b[0m\u001b[1;33m(\u001b[0m\u001b[0me\u001b[0m\u001b[1;33m.\u001b[0m\u001b[0m__traceback__\u001b[0m\u001b[1;33m)\u001b[0m\u001b[1;33m\u001b[0m\u001b[1;33m\u001b[0m\u001b[0m\n\u001b[1;32m---> 67\u001b[1;33m       \u001b[1;32mraise\u001b[0m \u001b[0me\u001b[0m\u001b[1;33m.\u001b[0m\u001b[0mwith_traceback\u001b[0m\u001b[1;33m(\u001b[0m\u001b[0mfiltered_tb\u001b[0m\u001b[1;33m)\u001b[0m \u001b[1;32mfrom\u001b[0m \u001b[1;32mNone\u001b[0m\u001b[1;33m\u001b[0m\u001b[1;33m\u001b[0m\u001b[0m\n\u001b[0m\u001b[0;32m     68\u001b[0m     \u001b[1;32mfinally\u001b[0m\u001b[1;33m:\u001b[0m\u001b[1;33m\u001b[0m\u001b[1;33m\u001b[0m\u001b[0m\n\u001b[0;32m     69\u001b[0m       \u001b[1;32mdel\u001b[0m \u001b[0mfiltered_tb\u001b[0m\u001b[1;33m\u001b[0m\u001b[1;33m\u001b[0m\u001b[0m\n",
      "\u001b[1;32m~\\AppData\\Local\\Temp\\__autograph_generated_fileyl6gt8zt.py\u001b[0m in \u001b[0;36mtf__call\u001b[1;34m(self, inputs, training)\u001b[0m\n\u001b[0;32m     35\u001b[0m                         \u001b[1;32mraise\u001b[0m\u001b[1;33m\u001b[0m\u001b[1;33m\u001b[0m\u001b[0m\n\u001b[0;32m     36\u001b[0m                 \u001b[0mnoise\u001b[0m \u001b[1;33m=\u001b[0m \u001b[0mag__\u001b[0m\u001b[1;33m.\u001b[0m\u001b[0mUndefined\u001b[0m\u001b[1;33m(\u001b[0m\u001b[1;34m'noise'\u001b[0m\u001b[1;33m)\u001b[0m\u001b[1;33m\u001b[0m\u001b[1;33m\u001b[0m\u001b[0m\n\u001b[1;32m---> 37\u001b[1;33m                 \u001b[0mag__\u001b[0m\u001b[1;33m.\u001b[0m\u001b[0mif_stmt\u001b[0m\u001b[1;33m(\u001b[0m\u001b[0mag__\u001b[0m\u001b[1;33m.\u001b[0m\u001b[0mor_\u001b[0m\u001b[1;33m(\u001b[0m\u001b[1;32mlambda\u001b[0m \u001b[1;33m:\u001b[0m \u001b[1;36m1\u001b[0m\u001b[1;33m,\u001b[0m \u001b[1;32mlambda\u001b[0m \u001b[1;33m:\u001b[0m \u001b[0mag__\u001b[0m\u001b[1;33m.\u001b[0m\u001b[0mld\u001b[0m\u001b[1;33m(\u001b[0m\u001b[0mtraining\u001b[0m\u001b[1;33m)\u001b[0m\u001b[1;33m)\u001b[0m\u001b[1;33m,\u001b[0m \u001b[0mif_body\u001b[0m\u001b[1;33m,\u001b[0m \u001b[0melse_body\u001b[0m\u001b[1;33m,\u001b[0m \u001b[0mget_state\u001b[0m\u001b[1;33m,\u001b[0m \u001b[0mset_state\u001b[0m\u001b[1;33m,\u001b[0m \u001b[1;33m(\u001b[0m\u001b[1;34m'do_return'\u001b[0m\u001b[1;33m,\u001b[0m \u001b[1;34m'retval_'\u001b[0m\u001b[1;33m)\u001b[0m\u001b[1;33m,\u001b[0m \u001b[1;36m2\u001b[0m\u001b[1;33m)\u001b[0m\u001b[1;33m\u001b[0m\u001b[1;33m\u001b[0m\u001b[0m\n\u001b[0m\u001b[0;32m     38\u001b[0m                 \u001b[1;32mreturn\u001b[0m \u001b[0mfscope\u001b[0m\u001b[1;33m.\u001b[0m\u001b[0mret\u001b[0m\u001b[1;33m(\u001b[0m\u001b[0mretval_\u001b[0m\u001b[1;33m,\u001b[0m \u001b[0mdo_return\u001b[0m\u001b[1;33m)\u001b[0m\u001b[1;33m\u001b[0m\u001b[1;33m\u001b[0m\u001b[0m\n\u001b[0;32m     39\u001b[0m         \u001b[1;32mreturn\u001b[0m \u001b[0mtf__call\u001b[0m\u001b[1;33m\u001b[0m\u001b[1;33m\u001b[0m\u001b[0m\n",
      "\u001b[1;32m~\\AppData\\Local\\Temp\\__autograph_generated_fileyl6gt8zt.py\u001b[0m in \u001b[0;36mif_body\u001b[1;34m()\u001b[0m\n\u001b[0;32m     18\u001b[0m                 \u001b[1;32mdef\u001b[0m \u001b[0mif_body\u001b[0m\u001b[1;33m(\u001b[0m\u001b[1;33m)\u001b[0m\u001b[1;33m:\u001b[0m\u001b[1;33m\u001b[0m\u001b[1;33m\u001b[0m\u001b[0m\n\u001b[0;32m     19\u001b[0m                     \u001b[1;32mnonlocal\u001b[0m \u001b[0mretval_\u001b[0m\u001b[1;33m,\u001b[0m \u001b[0mdo_return\u001b[0m\u001b[1;33m\u001b[0m\u001b[1;33m\u001b[0m\u001b[0m\n\u001b[1;32m---> 20\u001b[1;33m                     \u001b[0mnoise\u001b[0m \u001b[1;33m=\u001b[0m \u001b[0mag__\u001b[0m\u001b[1;33m.\u001b[0m\u001b[0mconverted_call\u001b[0m\u001b[1;33m(\u001b[0m\u001b[0mag__\u001b[0m\u001b[1;33m.\u001b[0m\u001b[0mld\u001b[0m\u001b[1;33m(\u001b[0m\u001b[0mgenerate_nakagami_samples\u001b[0m\u001b[1;33m)\u001b[0m\u001b[1;33m,\u001b[0m \u001b[1;33m(\u001b[0m\u001b[1;33m)\u001b[0m\u001b[1;33m,\u001b[0m \u001b[0mdict\u001b[0m\u001b[1;33m(\u001b[0m\u001b[0mm\u001b[0m\u001b[1;33m=\u001b[0m\u001b[0mag__\u001b[0m\u001b[1;33m.\u001b[0m\u001b[0mld\u001b[0m\u001b[1;33m(\u001b[0m\u001b[0mself\u001b[0m\u001b[1;33m)\u001b[0m\u001b[1;33m.\u001b[0m\u001b[0mdistribution_params\u001b[0m\u001b[1;33m[\u001b[0m\u001b[1;34m'm'\u001b[0m\u001b[1;33m]\u001b[0m\u001b[1;33m,\u001b[0m \u001b[0momega\u001b[0m\u001b[1;33m=\u001b[0m\u001b[0mag__\u001b[0m\u001b[1;33m.\u001b[0m\u001b[0mld\u001b[0m\u001b[1;33m(\u001b[0m\u001b[0mself\u001b[0m\u001b[1;33m)\u001b[0m\u001b[1;33m.\u001b[0m\u001b[0mdistribution_params\u001b[0m\u001b[1;33m[\u001b[0m\u001b[1;34m'omega'\u001b[0m\u001b[1;33m]\u001b[0m\u001b[1;33m,\u001b[0m \u001b[0msize\u001b[0m\u001b[1;33m=\u001b[0m\u001b[0mag__\u001b[0m\u001b[1;33m.\u001b[0m\u001b[0mconverted_call\u001b[0m\u001b[1;33m(\u001b[0m\u001b[0mag__\u001b[0m\u001b[1;33m.\u001b[0m\u001b[0mld\u001b[0m\u001b[1;33m(\u001b[0m\u001b[0mtf\u001b[0m\u001b[1;33m)\u001b[0m\u001b[1;33m.\u001b[0m\u001b[0mshape\u001b[0m\u001b[1;33m,\u001b[0m \u001b[1;33m(\u001b[0m\u001b[0mag__\u001b[0m\u001b[1;33m.\u001b[0m\u001b[0mld\u001b[0m\u001b[1;33m(\u001b[0m\u001b[0minputs\u001b[0m\u001b[1;33m)\u001b[0m\u001b[1;33m,\u001b[0m\u001b[1;33m)\u001b[0m\u001b[1;33m,\u001b[0m \u001b[1;32mNone\u001b[0m\u001b[1;33m,\u001b[0m \u001b[0mfscope\u001b[0m\u001b[1;33m)\u001b[0m\u001b[1;33m)\u001b[0m\u001b[1;33m,\u001b[0m \u001b[0mfscope\u001b[0m\u001b[1;33m)\u001b[0m\u001b[1;33m\u001b[0m\u001b[1;33m\u001b[0m\u001b[0m\n\u001b[0m\u001b[0;32m     21\u001b[0m                     \u001b[1;32mtry\u001b[0m\u001b[1;33m:\u001b[0m\u001b[1;33m\u001b[0m\u001b[1;33m\u001b[0m\u001b[0m\n\u001b[0;32m     22\u001b[0m                         \u001b[0mdo_return\u001b[0m \u001b[1;33m=\u001b[0m \u001b[1;32mTrue\u001b[0m\u001b[1;33m\u001b[0m\u001b[1;33m\u001b[0m\u001b[0m\n",
      "\u001b[1;32m~\\AppData\\Local\\Temp\\__autograph_generated_filemz2ashgs.py\u001b[0m in \u001b[0;36mtf__generate_nakagami_samples\u001b[1;34m(m, omega, size)\u001b[0m\n\u001b[0;32m      8\u001b[0m                 \u001b[0mdo_return\u001b[0m \u001b[1;33m=\u001b[0m \u001b[1;32mFalse\u001b[0m\u001b[1;33m\u001b[0m\u001b[1;33m\u001b[0m\u001b[0m\n\u001b[0;32m      9\u001b[0m                 \u001b[0mretval_\u001b[0m \u001b[1;33m=\u001b[0m \u001b[0mag__\u001b[0m\u001b[1;33m.\u001b[0m\u001b[0mUndefinedReturnValue\u001b[0m\u001b[1;33m(\u001b[0m\u001b[1;33m)\u001b[0m\u001b[1;33m\u001b[0m\u001b[1;33m\u001b[0m\u001b[0m\n\u001b[1;32m---> 10\u001b[1;33m                 \u001b[0mag__\u001b[0m\u001b[1;33m.\u001b[0m\u001b[0mld\u001b[0m\u001b[1;33m(\u001b[0m\u001b[0mprint\u001b[0m\u001b[1;33m)\u001b[0m\u001b[1;33m(\u001b[0m\u001b[0mag__\u001b[0m\u001b[1;33m.\u001b[0m\u001b[0mconverted_call\u001b[0m\u001b[1;33m(\u001b[0m\u001b[0mag__\u001b[0m\u001b[1;33m.\u001b[0m\u001b[0mld\u001b[0m\u001b[1;33m(\u001b[0m\u001b[0msize\u001b[0m\u001b[1;33m)\u001b[0m\u001b[1;33m.\u001b[0m\u001b[0mnumpy\u001b[0m\u001b[1;33m,\u001b[0m \u001b[1;33m(\u001b[0m\u001b[1;33m)\u001b[0m\u001b[1;33m,\u001b[0m \u001b[1;32mNone\u001b[0m\u001b[1;33m,\u001b[0m \u001b[0mfscope\u001b[0m\u001b[1;33m)\u001b[0m\u001b[1;33m)\u001b[0m\u001b[1;33m\u001b[0m\u001b[1;33m\u001b[0m\u001b[0m\n\u001b[0m\u001b[0;32m     11\u001b[0m                 \u001b[1;34m'\\n    Generate random samples from the Nakagami distribution.\\n\\n    Parameters:\\n        m (float): Shape parameter of the Nakagami distribution.\\n        omega (float): Scale parameter of the Nakagami distribution.\\n        size (int or tuple of ints): Size of the output array.\\n\\n    Returns:\\n        ndarray or scalar: Random samples from the Nakagami distribution.\\n    '\u001b[0m\u001b[1;33m\u001b[0m\u001b[1;33m\u001b[0m\u001b[0m\n\u001b[0;32m     12\u001b[0m                 \u001b[1;32mtry\u001b[0m\u001b[1;33m:\u001b[0m\u001b[1;33m\u001b[0m\u001b[1;33m\u001b[0m\u001b[0m\n",
      "\u001b[1;31mAttributeError\u001b[0m: Exception encountered when calling layer \"nakagami_noise_layer_7\" (type NakagamiNoiseLayer).\n\nin user code:\n\n    File \"C:\\Users\\R3KI3G\\AppData\\Local\\Temp/ipykernel_14768/2495167463.py\", line 53, in call  *\n        noise = generate_nakagami_samples(m = self.distribution_params[\"m\"],\n    File \"C:\\Users\\R3KI3G\\AppData\\Local\\Temp/ipykernel_14768/3416007768.py\", line 31, in generate_nakagami_samples  *\n        print((size.numpy()))\n\n    AttributeError: 'Tensor' object has no attribute 'numpy'\n\n\nCall arguments received by layer \"nakagami_noise_layer_7\" (type NakagamiNoiseLayer):\n  • inputs=tf.Tensor(shape=(None, 2), dtype=float32)\n  • training=None"
     ]
    }
   ],
   "source": [
    "AE = Sequential([\n",
    "    \n",
    "    Dense(k, activation='tanh',input_shape=(k,)),\n",
    "    Dense(2*k, activation='tanh'),\n",
    "    \n",
    "    Dense(2, activation='linear'),\n",
    "    L2Normalization(name=\"normalization_layer\"),\n",
    "    \n",
    "    GaussianNoise(stddev=0.1,name=\"channel\"),\n",
    "    NakagamiNoiseLayer({\"omega\":5,\"m\":2}),\n",
    "    \n",
    "    Dense(2*k, activation='tanh'),\n",
    "    Dense(k, activation='sigmoid')\n",
    "    \n",
    "    \n",
    "    \n",
    "])\n",
    "\n",
    "AE.build()\n",
    "AE.summary()"
   ]
  },
  {
   "cell_type": "code",
   "execution_count": 5,
   "id": "50e6f3b7",
   "metadata": {
    "ExecuteTime": {
     "end_time": "2024-01-30T11:07:32.488266Z",
     "start_time": "2024-01-30T11:07:32.458546Z"
    }
   },
   "outputs": [],
   "source": [
    "AE.compile(optimizer=Adam(learning_rate=1e-1),loss=\"binary_crossentropy\")"
   ]
  },
  {
   "cell_type": "code",
   "execution_count": 6,
   "id": "20665461",
   "metadata": {
    "ExecuteTime": {
     "end_time": "2024-01-30T11:07:36.028241Z",
     "start_time": "2024-01-30T11:07:32.488266Z"
    },
    "scrolled": true
   },
   "outputs": [
    {
     "name": "stdout",
     "output_type": "stream",
     "text": [
      "Epoch 1/10\n",
      "250/250 [==============================] - 1s 1ms/step - loss: 0.1486\n",
      "Epoch 2/10\n",
      "250/250 [==============================] - 0s 1ms/step - loss: 0.0133\n",
      "Epoch 3/10\n",
      "250/250 [==============================] - 0s 1ms/step - loss: 0.0028\n",
      "Epoch 4/10\n",
      "250/250 [==============================] - 0s 1ms/step - loss: 0.0047\n",
      "Epoch 5/10\n",
      "250/250 [==============================] - 0s 1ms/step - loss: 0.0200\n",
      "Epoch 6/10\n",
      "250/250 [==============================] - 0s 1ms/step - loss: 0.0057\n",
      "Epoch 7/10\n",
      "250/250 [==============================] - 0s 1ms/step - loss: 0.0046\n",
      "Epoch 8/10\n",
      "250/250 [==============================] - 0s 1ms/step - loss: 0.0025\n",
      "Epoch 9/10\n",
      "250/250 [==============================] - 0s 1ms/step - loss: 0.0036\n",
      "Epoch 10/10\n",
      "250/250 [==============================] - 0s 1ms/step - loss: 0.0018\n"
     ]
    },
    {
     "data": {
      "text/plain": [
       "<keras.callbacks.History at 0x201fb288190>"
      ]
     },
     "execution_count": 6,
     "metadata": {},
     "output_type": "execute_result"
    }
   ],
   "source": [
    "AE.fit(x_train,y_train,epochs=10,)"
   ]
  },
  {
   "cell_type": "code",
   "execution_count": 16,
   "id": "f554cacb",
   "metadata": {
    "ExecuteTime": {
     "end_time": "2024-01-30T11:41:10.232695Z",
     "start_time": "2024-01-30T11:41:09.860960Z"
    }
   },
   "outputs": [
    {
     "name": "stdout",
     "output_type": "stream",
     "text": [
      "250/250 [==============================] - 0s 1ms/step\n",
      "accuracy = 0.999625\n"
     ]
    }
   ],
   "source": [
    "preds = AE.predict(x_train)>0.5\n",
    "accuracy = np.mean( preds == y_train  )\n",
    "print(f\"accuracy = {accuracy}\")"
   ]
  },
  {
   "cell_type": "code",
   "execution_count": 8,
   "id": "16d922cb",
   "metadata": {
    "ExecuteTime": {
     "end_time": "2024-01-30T11:07:36.503096Z",
     "start_time": "2024-01-30T11:07:36.488182Z"
    }
   },
   "outputs": [],
   "source": [
    "before_channel = Model(inputs=AE.input,\n",
    "                                 outputs=AE.get_layer('normalization_layer').output)\n",
    "\n",
    "after_channel  = Model(inputs=AE.input,\n",
    "                                 outputs=AE.get_layer('channel').output)\n"
   ]
  },
  {
   "cell_type": "code",
   "execution_count": 11,
   "id": "e8d1097c",
   "metadata": {
    "ExecuteTime": {
     "end_time": "2024-01-30T11:07:54.945803Z",
     "start_time": "2024-01-30T11:07:54.742904Z"
    }
   },
   "outputs": [
    {
     "name": "stdout",
     "output_type": "stream",
     "text": [
      "1/1 [==============================] - 0s 50ms/step\n",
      "16/16 [==============================] - 0s 1ms/step\n"
     ]
    }
   ],
   "source": [
    "# bc = before_channel.predict(np.array([\n",
    "    \n",
    "#     [0,0],\n",
    "#     [0,1],\n",
    "#     [1,0],\n",
    "#     [1,1]\n",
    "  \n",
    "    \n",
    "# ]))\n",
    "\n",
    "\n",
    "bc = before_channel.predict(np.array([\n",
    "   [0,0,0],\n",
    "    [0,0,1],\n",
    "    [0,1,0],\n",
    "    [0,1,1],\n",
    "    [1,0,0],\n",
    "    [1,0,1],\n",
    "    [1,1,0],\n",
    "    [1,1,1],\n",
    "    \n",
    "  \n",
    "  \n",
    "    \n",
    "]))\n",
    "\n",
    "\n",
    "ac = after_channel.predict(x_train[:500,:])"
   ]
  },
  {
   "cell_type": "code",
   "execution_count": 12,
   "id": "4f7e19db",
   "metadata": {
    "ExecuteTime": {
     "end_time": "2024-01-30T11:07:56.526470Z",
     "start_time": "2024-01-30T11:07:56.208043Z"
    }
   },
   "outputs": [
    {
     "data": {
      "image/png": "[encoded data removed]",
      "text/plain": [
       "<Figure size 1080x288 with 3 Axes>"
      ]
     },
     "metadata": {
      "needs_background": "light"
     },
     "output_type": "display_data"
    }
   ],
   "source": [
    "fig,ax = plt.subplots(1,3,figsize=(15,4))\n",
    "ax[0].scatter(bc[:,0],bc[:,1],c=\"red\")\n",
    "ax[0].set_title(\"before channel\")\n",
    "\n",
    "\n",
    "ax[1].scatter(ac[:,0],ac[:,1],c=\"blue\",s=3)\n",
    "ax[1].set_title(\"after channel\")\n",
    "\n",
    "ax[2].scatter(ac[:,0],ac[:,1],c=\"blue\",s=3)\n",
    "ax[2].scatter(bc[:,0],bc[:,1],c=\"red\") # seconded to avoid occlusion\n",
    "ax[2].set_title(\"both before and after channel\")\n",
    "\n",
    "plt.show()"
   ]
  },
  {
   "cell_type": "code",
   "execution_count": 5,
   "id": "86de1783",
   "metadata": {
    "ExecuteTime": {
     "end_time": "2024-02-01T11:29:40.919324Z",
     "start_time": "2024-02-01T11:29:40.715234Z"
    }
   },
   "outputs": [
    {
     "data": {
      "image/png": "[encoded data removed]",
      "text/plain": [
       "<Figure size 576x432 with 1 Axes>"
      ]
     },
     "metadata": {
      "needs_background": "light"
     },
     "output_type": "display_data"
    }
   ],
   "source": [
    "\n",
    "\n",
    "\n",
    "# Example usage:\n",
    "m = 1.5  # Shape parameter\n",
    "omega = 2.0  # Scale parameter\n",
    "num_samples = 1000\n",
    "nakagami_samples = generate_nakagami_samples(m, omega, num_samples)\n",
    "\n",
    "\n",
    "# Compute the histogram\n",
    "hist, bins = np.histogram(nakagami_samples, bins=20)  # Adjust the number of bins as needed\n",
    "\n",
    "# Plot the histogram\n",
    "plt.figure(figsize=(8, 6))\n",
    "plt.hist(nakagami_samples, bins=20, color='blue', alpha=0.7)  # Plot the histogram bars\n",
    "plt.xlabel('Value')\n",
    "plt.ylabel('Frequency')\n",
    "plt.title('Histogram of Nakagami Samples')\n",
    "plt.grid(True)\n",
    "plt.show()"
   ]
  },
  {
   "cell_type": "code",
   "execution_count": null,
   "id": "20b27d21",
   "metadata": {},
   "outputs": [],
   "source": []
  }
 ],
 "metadata": {
  "kernelspec": {
   "display_name": "Python 3 (ipykernel)",
   "language": "python",
   "name": "python3"
  },
  "language_info": {
   "codemirror_mode": {
    "name": "ipython",
    "version": 3
   },
   "file_extension": ".py",
   "mimetype": "text/x-python",
   "name": "python",
   "nbconvert_exporter": "python",
   "pygments_lexer": "ipython3",
   "version": "3.9.13"
  },
  "latex_envs": {
   "LaTeX_envs_menu_present": true,
   "autoclose": false,
   "autocomplete": true,
   "bibliofile": "biblio.bib",
   "cite_by": "apalike",
   "current_citInitial": 1,
   "eqLabelWithNumbers": true,
   "eqNumInitial": 1,
   "hotkeys": {
    "equation": "Ctrl-E",
    "itemize": "Ctrl-I"
   },
   "labels_anchors": false,
   "latex_user_defs": false,
   "report_style_numbering": false,
   "user_envs_cfg": false
  },
  "toc": {
   "base_numbering": 1,
   "nav_menu": {},
   "number_sections": true,
   "sideBar": true,
   "skip_h1_title": false,
   "title_cell": "Table of Contents",
   "title_sidebar": "Contents",
   "toc_cell": false,
   "toc_position": {},
   "toc_section_display": true,
   "toc_window_display": false
  },
  "varInspector": {
   "cols": {
    "lenName": 16,
    "lenType": 16,
    "lenVar": 40
   },
   "kernels_config": {
    "python": {
     "delete_cmd_postfix": "",
     "delete_cmd_prefix": "del ",
     "library": "var_list.py",
     "varRefreshCmd": "print(var_dic_list())"
    },
    "r": {
     "delete_cmd_postfix": ") ",
     "delete_cmd_prefix": "rm(",
     "library": "var_list.r",
     "varRefreshCmd": "cat(var_dic_list()) "
    }
   },
   "types_to_exclude": [
    "module",
    "function",
    "builtin_function_or_method",
    "instance",
    "_Feature"
   ],
   "window_display": false
  }
 },
 "nbformat": 4,
 "nbformat_minor": 5
}
