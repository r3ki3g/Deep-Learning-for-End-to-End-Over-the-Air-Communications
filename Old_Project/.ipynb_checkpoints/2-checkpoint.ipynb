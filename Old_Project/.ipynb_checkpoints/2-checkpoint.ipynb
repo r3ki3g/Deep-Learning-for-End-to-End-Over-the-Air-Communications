{
 "cells": [
  {
   "cell_type": "code",
   "execution_count": 1,
   "id": "c6ae15a9",
   "metadata": {
    "ExecuteTime": {
     "end_time": "2024-02-05T14:18:15.037980Z",
     "start_time": "2024-02-05T14:18:11.604443Z"
    }
   },
   "outputs": [],
   "source": [
    "import numpy as np\n",
    "import matplotlib.pyplot as plt\n",
    "import tensorflow as tf\n",
    "import keras\n",
    "\n",
    "from keras.layers import Dense\n",
    "from keras.models import Sequential,Model\n",
    "\n",
    "from tensorflow.keras.optimizers import Adam"
   ]
  },
  {
   "cell_type": "code",
   "execution_count": 2,
   "id": "fad0f7e3",
   "metadata": {
    "ExecuteTime": {
     "end_time": "2024-02-05T14:18:15.053899Z",
     "start_time": "2024-02-05T14:18:15.038996Z"
    }
   },
   "outputs": [],
   "source": [
    "class GaussianNoise(tf.keras.layers.Layer):\n",
    "    def __init__(self, stddev, **kwargs):\n",
    "        super(GaussianNoise, self).__init__(**kwargs)\n",
    "        self.stddev = stddev\n",
    "\n",
    "    def call(self, inputs, training=None):\n",
    "        if 1 or training:\n",
    "            noise = tf.random.normal(tf.shape(inputs), stddev=self.stddev)\n",
    "            return inputs + noise\n",
    "        return inputs\n",
    "\n",
    "    def get_config(self):\n",
    "        config = super(GaussianNoise, self).get_config()\n",
    "        config.update({'stddev': self.stddev})\n",
    "        return config\n",
    "    \n",
    "    \n",
    "class L2Normalization(tf.keras.layers.Layer):\n",
    "    def __init__(self,**kwargs):\n",
    "        \n",
    "        super(L2Normalization, self).__init__(**kwargs)\n",
    "\n",
    "    def call(self, inputs):\n",
    "        return tf.nn.l2_normalize(inputs, axis=-1)\n",
    "\n",
    "    def get_config(self):\n",
    "        return super(L2Normalization, self).get_config()\n",
    "    \n",
    "\n",
    "def generate_nakagami_samples(m, omega, shape):\n",
    "\n",
    "    return tf.random.gamma(shape, m, 1/omega) ** 0.5\n",
    "    \n",
    "class NakagamiNoiseLayer(tf.keras.layers.Layer):\n",
    "    def __init__(self, distribution_params, **kwargs):\n",
    "        super(NakagamiNoiseLayer, self).__init__(**kwargs)\n",
    "        self.distribution_params = distribution_params\n",
    "\n",
    "    def call(self, inputs, training=None):\n",
    "        if  1 or training:\n",
    "            # noise = tf.random.normal(tf.shape(inputs), **self.distribution_params)\n",
    "            if tf.shape(inputs)[0] == None:\n",
    "                noise = generate_nakagami_samples(m = self.distribution_params[\"m\"], \n",
    "                                              omega = self.distribution_params[\"omega\"], \n",
    "                                              shape = tf.shape(inputs))\n",
    "            else:\n",
    "                noise = generate_nakagami_samples(m = self.distribution_params[\"m\"], \n",
    "                                              omega = self.distribution_params[\"omega\"], \n",
    "                                              shape = tf.shape(inputs)[1:])\n",
    "            return inputs * noise\n",
    "        \n",
    "        else:\n",
    "            return inputs\n",
    "        \n",
    "        \n",
    "\n",
    "\n",
    "class RicianFadingLayer(tf.keras.layers.Layer):\n",
    "    def __init__(self, K, stddev, **kwargs):\n",
    "        super(RicianFadingLayer, self).__init__(**kwargs)\n",
    "        self.K = K  # Rician factor (K-factor)\n",
    "        self.stddev = stddev  # Standard deviation of Rayleigh fading\n",
    "\n",
    "    def call(self, inputs):\n",
    "        # Generate Rayleigh fading components\n",
    "        rayleigh = tf.random.normal(tf.shape(inputs), mean=0.0, stddev=self.stddev)\n",
    "        # Generate line-of-sight (LOS) component\n",
    "        LOS = tf.sqrt(self.K / (self.K + 1)) * tf.random.normal(tf.shape(inputs), mean=0.0, stddev=self.stddev)\n",
    "        # Combine LOS and Rayleigh components\n",
    "        rician = LOS + rayleigh\n",
    "        # Apply Rician fading to input signals\n",
    "        return inputs * rician\n",
    "\n",
    "# # Example usage:\n",
    "# # Create a Rician fading layer with K-factor 3 and standard deviation 0.1\n",
    "# rician_layer = RicianFadingLayer(K=3, stddev=0.1)\n",
    "\n",
    "# # Generate some input signals\n",
    "# inputs = tf.random.normal((32, 64))  # Example input shape: (batch_size, input_dim)\n",
    "\n",
    "# # Apply Rician fading to the input signals\n",
    "# outputs = rician_layer(inputs)\n"
   ]
  },
  {
   "cell_type": "code",
   "execution_count": 3,
   "id": "39a9aa4a",
   "metadata": {
    "ExecuteTime": {
     "end_time": "2024-02-05T14:18:15.070003Z",
     "start_time": "2024-02-05T14:18:15.053899Z"
    }
   },
   "outputs": [],
   "source": [
    "# generating the data set\n",
    "k = 3\n",
    "M = 2**k\n",
    "\n",
    "\n",
    "n_train = 10_000 * M\n",
    "\n",
    "x_train = np.array(np.random.rand(n_train,k)<0.5).astype(np.float32)\n",
    "y_train = x_train\n",
    "\n",
    "\n",
    "\n"
   ]
  },
  {
   "cell_type": "code",
   "execution_count": 4,
   "id": "bfceff7c",
   "metadata": {
    "ExecuteTime": {
     "end_time": "2024-02-05T14:20:13.382408Z",
     "start_time": "2024-02-05T14:18:15.071099Z"
    }
   },
   "outputs": [
    {
     "name": "stdout",
     "output_type": "stream",
     "text": [
      "Epoch 1/10\n",
      "2500/2500 [==============================] - 3s 1ms/step - loss: 0.0738\n",
      "Epoch 2/10\n",
      "2500/2500 [==============================] - 3s 1ms/step - loss: 0.0600\n",
      "Epoch 3/10\n",
      "2500/2500 [==============================] - 4s 1ms/step - loss: 0.0549\n",
      "Epoch 4/10\n",
      "2500/2500 [==============================] - 4s 1ms/step - loss: 0.0577\n",
      "Epoch 5/10\n",
      "2500/2500 [==============================] - 4s 1ms/step - loss: 0.0993\n",
      "Epoch 6/10\n",
      "2500/2500 [==============================] - 3s 1ms/step - loss: 0.1328\n",
      "Epoch 7/10\n",
      "2500/2500 [==============================] - 4s 1ms/step - loss: 0.1336\n",
      "Epoch 8/10\n",
      "2500/2500 [==============================] - 4s 1ms/step - loss: 0.1321\n",
      "Epoch 9/10\n",
      "2500/2500 [==============================] - 3s 1ms/step - loss: 0.1323\n",
      "Epoch 10/10\n",
      "2500/2500 [==============================] - 4s 1ms/step - loss: 0.1332\n",
      "2500/2500 [==============================] - 2s 892us/step\n",
      "accuracy = 0.9128958333333334\n",
      "Epoch 1/10\n",
      "2500/2500 [==============================] - 4s 1ms/step - loss: 0.1058\n",
      "Epoch 2/10\n",
      "2500/2500 [==============================] - 4s 1ms/step - loss: 0.0658\n",
      "Epoch 3/10\n",
      "2500/2500 [==============================] - 4s 1ms/step - loss: 0.1081\n",
      "Epoch 4/10\n",
      "2500/2500 [==============================] - 4s 1ms/step - loss: 0.2459\n",
      "Epoch 5/10\n",
      "2500/2500 [==============================] - 4s 1ms/step - loss: 0.1997\n",
      "Epoch 6/10\n",
      "2500/2500 [==============================] - 4s 1ms/step - loss: 0.1772\n",
      "Epoch 7/10\n",
      "2500/2500 [==============================] - 4s 1ms/step - loss: 0.1880\n",
      "Epoch 8/10\n",
      "2500/2500 [==============================] - 4s 1ms/step - loss: 0.1903\n",
      "Epoch 9/10\n",
      "2500/2500 [==============================] - 4s 1ms/step - loss: 0.1803\n",
      "Epoch 10/10\n",
      "2500/2500 [==============================] - 3s 1ms/step - loss: 0.1782\n",
      "2500/2500 [==============================] - 2s 964us/step\n",
      "accuracy = 0.9130166666666667\n",
      "Epoch 1/10\n",
      "2500/2500 [==============================] - 4s 1ms/step - loss: 0.0661\n",
      "Epoch 2/10\n",
      "2500/2500 [==============================] - 3s 1ms/step - loss: 0.0705\n",
      "Epoch 3/10\n",
      "2500/2500 [==============================] - 4s 1ms/step - loss: 0.1046\n",
      "Epoch 4/10\n",
      "2500/2500 [==============================] - 4s 1ms/step - loss: 0.1029\n",
      "Epoch 5/10\n",
      "2500/2500 [==============================] - 4s 1ms/step - loss: 0.1043\n",
      "Epoch 6/10\n",
      "2500/2500 [==============================] - 4s 2ms/step - loss: 0.1055\n",
      "Epoch 7/10\n",
      "2500/2500 [==============================] - 4s 1ms/step - loss: 0.1024\n",
      "Epoch 8/10\n",
      "2500/2500 [==============================] - 4s 1ms/step - loss: 0.0744\n",
      "Epoch 9/10\n",
      "2500/2500 [==============================] - 4s 1ms/step - loss: 0.0607\n",
      "Epoch 10/10\n",
      "2500/2500 [==============================] - 4s 1ms/step - loss: 0.0607\n",
      "2500/2500 [==============================] - 3s 1ms/step\n",
      "accuracy = 0.9811666666666666\n",
      "Accuracies:  [0.9128958333333334, 0.9130166666666667, 0.9811666666666666]\n"
     ]
    }
   ],
   "source": [
    "accuracies = []\n",
    "while True:\n",
    "\n",
    "        AE = Sequential([\n",
    "            \n",
    "\n",
    "                                Dense(k, activation='tanh',input_shape=(k,)),\n",
    "                                Dense(2*k, activation='tanh'),\n",
    "\n",
    "                                Dense(2, activation='linear'),\n",
    "                                L2Normalization(name=\"normalization_layer\"),\n",
    "\n",
    "\n",
    "                                NakagamiNoiseLayer({\"omega\":1,\"m\":10}),\n",
    "                                GaussianNoise(stddev=0.51,name=\"channel\"),\n",
    "\n",
    "                                L2Normalization(name=\"normalization_layer_at_rx\"),\n",
    "\n",
    "                                Dense(2*k, activation='tanh'),\n",
    "                                Dense(k, activation='sigmoid')\n",
    "\n",
    "\n",
    "\n",
    "                        ])\n",
    "\n",
    "        AE.build()\n",
    "        #     AE.summary()\n",
    "        \n",
    "        AE.compile(optimizer=Adam(learning_rate=1e-1),loss=\"binary_crossentropy\")\n",
    "        AE.fit(x_train,y_train,epochs=10,)\n",
    "        \n",
    "        preds = AE.predict(x_train)>0.5\n",
    "        accuracy = np.mean( preds == y_train  )\n",
    "        print(f\"accuracy = {accuracy}\")\n",
    "        \n",
    "        accuracies.append(accuracy)\n",
    "        if accuracy > 0.97:\n",
    "            break\n",
    "        \n",
    "        \n",
    "        \n",
    "print(\"Accuracies: \", accuracies)\n",
    "\n",
    "        "
   ]
  },
  {
   "cell_type": "code",
   "execution_count": 5,
   "id": "e8d1097c",
   "metadata": {
    "ExecuteTime": {
     "end_time": "2024-02-05T14:20:13.398189Z",
     "start_time": "2024-02-05T14:20:13.382408Z"
    }
   },
   "outputs": [],
   "source": [
    "# bc = before_channel.predict(np.array([\n",
    "    \n",
    "#     [0,0],\n",
    "#     [0,1],\n",
    "#     [1,0],\n",
    "#     [1,1]\n",
    "  \n",
    "    \n",
    "# ]))\n",
    "\n",
    "\n",
    "\n",
    "# bc = before_channel.predict(np.array([\n",
    "\n",
    "#             [0,0,0,0],\n",
    "#             [0,0,0,1],\n",
    "#             [0,0,1,0],\n",
    "#             [0,0,1,1],\n",
    "#             [0,1,0,0],\n",
    "#             [0,1,0,1],\n",
    "#             [0,1,1,0],\n",
    "#             [0,1,1,1],\n",
    "#             [1,0,0,0],\n",
    "#             [1,0,0,1],\n",
    "#             [1,0,1,0],\n",
    "#             [1,0,1,1],\n",
    "#             [1,1,0,0],\n",
    "#             [1,1,0,1],\n",
    "#             [1,1,1,0],\n",
    "#             [1,1,1,1]\n",
    "    \n",
    "# ]))\n",
    "\n",
    "\n"
   ]
  },
  {
   "cell_type": "code",
   "execution_count": 9,
   "id": "4f7e19db",
   "metadata": {
    "ExecuteTime": {
     "end_time": "2024-02-05T16:49:55.762581Z",
     "start_time": "2024-02-05T16:49:55.029891Z"
    }
   },
   "outputs": [
    {
     "name": "stdout",
     "output_type": "stream",
     "text": [
      "1/1 [==============================] - 0s 50ms/step\n",
      "32/32 [==============================] - 0s 1ms/step\n"
     ]
    },
    {
     "data": {
      "image/png": "[encoded data removed]",
      "text/plain": [
       "<Figure size 1080x288 with 3 Axes>"
      ]
     },
     "metadata": {
      "needs_background": "light"
     },
     "output_type": "display_data"
    }
   ],
   "source": [
    "\n",
    "\n",
    "before_channel = Model(inputs=AE.input,\n",
    "                                 outputs=AE.get_layer('normalization_layer').output)\n",
    "\n",
    "after_channel  = Model(inputs=AE.input,\n",
    "                                 outputs=AE.get_layer('channel').output)\n",
    "\n",
    "#after_channel_normalized = Model(inputs=AE.input,\n",
    "                                 #outputs=AE.get_layer('normalization_layer_at_rx').output)\n",
    "    \n",
    "    \n",
    "bc = before_channel.predict(np.array([\n",
    "   [0,0,0],\n",
    "    [0,0,1],\n",
    "    [0,1,0],\n",
    "    [0,1,1],\n",
    "    [1,0,0],\n",
    "    [1,0,1],\n",
    "    [1,1,0],\n",
    "    [1,1,1],\n",
    "    \n",
    "  \n",
    "  \n",
    "    \n",
    "]))\n",
    "    \n",
    "\n",
    "ac = after_channel.predict(x_train[:1000,:])\n",
    "#acn = after_channel_normalized.predict(x_train[:500,:])\n",
    "\n",
    "\n",
    "fig,ax = plt.subplots(1,3,figsize=(15,4))\n",
    "ax[0].scatter(bc[:,0],bc[:,1],c=\"red\")\n",
    "ax[0].set_title(\"before channel\")\n",
    "\n",
    "\n",
    "ax[1].scatter(ac[:,0],ac[:,1],c=\"blue\",s=3)\n",
    "ax[1].set_title(\"after channel\")\n",
    "\n",
    "\n",
    "#ax[2].scatter(ac[:,0],acn[:,1],c=\"blue\",s=3)\n",
    "ax[2].scatter(bc[:,0],bc[:,1],c=\"red\") # seconded to avoid occlusion\n",
    "ax[2].set_title(\"both before and after channel normalized\")\n",
    "\n",
    "\n",
    "plt.show()"
   ]
  },
  {
   "cell_type": "code",
   "execution_count": 7,
   "id": "86de1783",
   "metadata": {
    "ExecuteTime": {
     "end_time": "2024-02-05T14:20:14.364889Z",
     "start_time": "2024-02-05T14:20:14.348943Z"
    }
   },
   "outputs": [],
   "source": [
    "\n",
    "\n",
    "\n",
    "# # Example usage:\n",
    "# m = 1.5  # Shape parameter\n",
    "# omega = 2.0  # Scale parameter\n",
    "# num_samples = 1000\n",
    "# nakagami_samples = generate_nakagami_samples((None,num_samples,),m, omega)\n",
    "\n",
    "\n",
    "# # Compute the histogram\n",
    "# hist, bins = np.histogram(nakagami_samples, bins=20)  # Adjust the number of bins as needed\n",
    "\n",
    "# # Plot the histogram\n",
    "# plt.figure(figsize=(8, 6))\n",
    "# plt.hist(nakagami_samples, bins=20, color='blue', alpha=0.7)  # Plot the histogram bars\n",
    "# plt.xlabel('Value')\n",
    "# plt.ylabel('Frequency')\n",
    "# plt.title('Histogram of Nakagami Samples')\n",
    "# plt.grid(True)\n",
    "# plt.show()"
   ]
  },
  {
   "cell_type": "code",
   "execution_count": 8,
   "id": "3a76c483",
   "metadata": {
    "ExecuteTime": {
     "end_time": "2024-02-05T14:20:14.381036Z",
     "start_time": "2024-02-05T14:20:14.364889Z"
    }
   },
   "outputs": [
    {
     "data": {
      "text/plain": [
       "array([[-0.22220968, -0.9749989 ],\n",
       "       [-0.7635469 , -0.6457524 ],\n",
       "       [-0.6420646 ,  0.7666505 ],\n",
       "       [-0.99910945,  0.04219386],\n",
       "       [ 0.99433476, -0.10629424],\n",
       "       [ 0.6988104 , -0.715307  ],\n",
       "       [-0.01207055,  0.9999271 ],\n",
       "       [ 0.6733638 ,  0.7393113 ]], dtype=float32)"
      ]
     },
     "execution_count": 8,
     "metadata": {},
     "output_type": "execute_result"
    }
   ],
   "source": [
    "bc"
   ]
  },
  {
   "cell_type": "code",
   "execution_count": null,
   "id": "3abb5a7d",
   "metadata": {},
   "outputs": [],
   "source": []
  }
 ],
 "metadata": {
  "kernelspec": {
   "display_name": "Python 3 (ipykernel)",
   "language": "python",
   "name": "python3"
  },
  "language_info": {
   "codemirror_mode": {
    "name": "ipython",
    "version": 3
   },
   "file_extension": ".py",
   "mimetype": "text/x-python",
   "name": "python",
   "nbconvert_exporter": "python",
   "pygments_lexer": "ipython3",
   "version": "3.9.13"
  },
  "latex_envs": {
   "LaTeX_envs_menu_present": true,
   "autoclose": false,
   "autocomplete": true,
   "bibliofile": "biblio.bib",
   "cite_by": "apalike",
   "current_citInitial": 1,
   "eqLabelWithNumbers": true,
   "eqNumInitial": 1,
   "hotkeys": {
    "equation": "Ctrl-E",
    "itemize": "Ctrl-I"
   },
   "labels_anchors": false,
   "latex_user_defs": false,
   "report_style_numbering": false,
   "user_envs_cfg": false
  },
  "toc": {
   "base_numbering": 1,
   "nav_menu": {},
   "number_sections": true,
   "sideBar": true,
   "skip_h1_title": false,
   "title_cell": "Table of Contents",
   "title_sidebar": "Contents",
   "toc_cell": false,
   "toc_position": {},
   "toc_section_display": true,
   "toc_window_display": false
  },
  "varInspector": {
   "cols": {
    "lenName": 16,
    "lenType": 16,
    "lenVar": 40
   },
   "kernels_config": {
    "python": {
     "delete_cmd_postfix": "",
     "delete_cmd_prefix": "del ",
     "library": "var_list.py",
     "varRefreshCmd": "print(var_dic_list())"
    },
    "r": {
     "delete_cmd_postfix": ") ",
     "delete_cmd_prefix": "rm(",
     "library": "var_list.r",
     "varRefreshCmd": "cat(var_dic_list()) "
    }
   },
   "types_to_exclude": [
    "module",
    "function",
    "builtin_function_or_method",
    "instance",
    "_Feature"
   ],
   "window_display": false
  }
 },
 "nbformat": 4,
 "nbformat_minor": 5
}
