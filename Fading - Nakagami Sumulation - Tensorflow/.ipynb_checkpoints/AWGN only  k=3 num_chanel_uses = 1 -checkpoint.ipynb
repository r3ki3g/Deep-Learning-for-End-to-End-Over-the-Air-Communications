{
 "cells": [
  {
   "cell_type": "code",
   "execution_count": 2,
   "id": "c6ae15a9",
   "metadata": {
    "ExecuteTime": {
     "end_time": "2024-02-06T18:59:16.725287Z",
     "start_time": "2024-02-06T18:59:06.589876Z"
    }
   },
   "outputs": [],
   "source": [
    "import numpy as np\n",
    "import matplotlib.pyplot as plt\n",
    "import tensorflow as tf\n",
    "import keras\n",
    "\n",
    "from keras.layers import Dense\n",
    "from keras.models import Sequential,Model\n",
    "\n",
    "\n",
    "from tensorflow.keras.optimizers import Adam"
   ]
  },
  {
   "cell_type": "code",
   "execution_count": null,
   "id": "fad0f7e3",
   "metadata": {
    "ExecuteTime": {
     "end_time": "2024-02-06T19:00:36.494478Z",
     "start_time": "2024-02-06T19:00:36.494478Z"
    }
   },
   "outputs": [],
   "source": [
    "class GaussianNoise(tf.keras.layers.Layer):\n",
    "    def __init__(self, stddev, **kwargs):\n",
    "        super(GaussianNoise, self).__init__(**kwargs)\n",
    "        self.stddev = stddev\n",
    "\n",
    "    def call(self, inputs, training=None):\n",
    "        if 1 or training:\n",
    "            noise = tf.random.normal(tf.shape(inputs), stddev=self.stddev)\n",
    "            return inputs + noise\n",
    "        return inputs\n",
    "\n",
    "    def get_config(self):\n",
    "        config = super(GaussianNoise, self).get_config()\n",
    "        config.update({'stddev': self.stddev})\n",
    "        return config\n",
    "    \n",
    "    \n",
    "class L2Normalization(tf.keras.layers.Layer):\n",
    "    def __init__(self,**kwargs):\n",
    "        \n",
    "        super(L2Normalization, self).__init__(**kwargs)\n",
    "\n",
    "    def call(self, inputs):\n",
    "        return tf.nn.l2_normalize(inputs, axis=-1)\n",
    "\n",
    "    def get_config(self):\n",
    "        return super(L2Normalization, self).get_config()\n",
    "    \n",
    "\n",
    "def generate_nakagami_samples(m, omega, shape):\n",
    "\n",
    "    return tf.random.gamma(shape, m, 1/omega) ** 0.5\n",
    "    \n",
    "class NakagamiNoiseLayer(tf.keras.layers.Layer):\n",
    "    def __init__(self, distribution_params, **kwargs):\n",
    "        super(NakagamiNoiseLayer, self).__init__(**kwargs)\n",
    "        self.distribution_params = distribution_params\n",
    "\n",
    "    def call(self, inputs, training=None):\n",
    "        if  1 or training:\n",
    "            # noise = tf.random.normal(tf.shape(inputs), **self.distribution_params)\n",
    "            if tf.shape(inputs)[0] == None:\n",
    "                noise = generate_nakagami_samples(m = self.distribution_params[\"m\"], \n",
    "                                              omega = self.distribution_params[\"omega\"], \n",
    "                                              shape = tf.shape(inputs))\n",
    "            else:\n",
    "                noise = generate_nakagami_samples(m = self.distribution_params[\"m\"], \n",
    "                                              omega = self.distribution_params[\"omega\"], \n",
    "                                              shape = tf.shape(inputs)[1:])\n",
    "            return inputs * noise\n",
    "        \n",
    "        else:\n",
    "            return inputs\n",
    "        \n",
    "        \n",
    "\n",
    "\n",
    "\n"
   ]
  },
  {
   "cell_type": "code",
   "execution_count": 8,
   "id": "a9b63674",
   "metadata": {
    "ExecuteTime": {
     "end_time": "2024-02-06T19:00:37.368783Z",
     "start_time": "2024-02-06T19:00:37.362140Z"
    }
   },
   "outputs": [],
   "source": [
    "def calc_block_accuracy(preds,y_val):\n",
    "    n_bits_per_block = preds.shape[1]\n",
    "    n_correct_bits = np.sum(preds == y_val,axis=1)\n",
    "    block_accuracy = np.mean(n_correct_bits == n_bits_per_block)\n",
    "    return block_accuracy\n",
    "\n"
   ]
  },
  {
   "cell_type": "code",
   "execution_count": 55,
   "id": "39a9aa4a",
   "metadata": {
    "ExecuteTime": {
     "end_time": "2024-02-07T04:54:58.895789Z",
     "start_time": "2024-02-07T04:54:58.808478Z"
    }
   },
   "outputs": [],
   "source": [
    "# generating the data set\n",
    "k = 4\n",
    "M = 2**k\n",
    "\n",
    "\n",
    "n_train = 1000 * M\n",
    "n_val = 10 * M\n",
    "\n",
    "x_train = np.array(np.random.rand(n_train,k)<0.5).astype(np.int32)\n",
    "y_train = x_train\n",
    "\n",
    "print(x_t)\n",
    "x_train = tf.one_hot(,depth=2**k)\n",
    "y_train = x_train\n",
    "\n",
    "\n",
    "x_val = np.array(np.random.rand(n_val,k)<0.5).astype(np.float32)\n",
    "y_val = x_val\n",
    "\n",
    "\n",
    "\n",
    "\n"
   ]
  },
  {
   "cell_type": "code",
   "execution_count": 49,
   "id": "5ea4ca23",
   "metadata": {
    "ExecuteTime": {
     "end_time": "2024-02-07T04:36:21.786412Z",
     "start_time": "2024-02-07T04:36:21.777717Z"
    }
   },
   "outputs": [],
   "source": [
    "MAX_ATTEMPTS_PER_CONFIG = 10\n",
    "NUM_CHANNEL_USES = 2\n",
    "\n",
    "# looping pool\n",
    "OMEGA = 1 # in Nakagami\n",
    "gamma_bar_collection = [-5,0,5,7,10,13,15,16,17,18,19,20,21,22,23,24,25,26,27,28,29,30]\n",
    "nakagami_m_collection = [1,3,5,7][0:1]"
   ]
  },
  {
   "cell_type": "code",
   "execution_count": 50,
   "id": "bfceff7c",
   "metadata": {
    "ExecuteTime": {
     "end_time": "2024-02-07T04:38:23.464389Z",
     "start_time": "2024-02-07T04:36:24.603439Z"
    },
    "scrolled": true
   },
   "outputs": [
    {
     "name": "stdout",
     "output_type": "stream",
     "text": [
      "\u001b[91m----------------------start---------------------------\u001b[0m\n",
      "\u001b[91m nakagami_m : 1  gamma_bar : -5\u001b[0m\n",
      "-------  start of attempt : 1 ----------\n",
      "3/3 [==============================] - 0s 2ms/step\n",
      "accuracy = 0.2625\n",
      "-------  start of attempt : 2 ----------\n",
      "3/3 [==============================] - 0s 2ms/step\n",
      "accuracy = 0.2625\n",
      "-------  start of attempt : 3 ----------\n",
      "3/3 [==============================] - 0s 4ms/step\n",
      "accuracy = 0.175\n",
      "-------  start of attempt : 4 ----------\n",
      "3/3 [==============================] - 0s 1ms/step\n",
      "accuracy = 0.2625\n",
      "-------  start of attempt : 5 ----------\n",
      "3/3 [==============================] - 0s 2ms/step\n",
      "accuracy = 0.225\n",
      "-------  start of attempt : 6 ----------\n",
      "3/3 [==============================] - 0s 2ms/step\n",
      "accuracy = 0.2375\n",
      "-------  start of attempt : 7 ----------\n",
      "3/3 [==============================] - 0s 2ms/step\n",
      "accuracy = 0.225\n",
      "-------  start of attempt : 8 ----------\n",
      "3/3 [==============================] - 0s 2ms/step\n",
      "accuracy = 0.2\n",
      "-------  start of attempt : 9 ----------\n",
      "3/3 [==============================] - 0s 2ms/step\n",
      "accuracy = 0.1625\n",
      "-------  start of attempt : 10 ----------\n",
      "3/3 [==============================] - 0s 2ms/step\n",
      "accuracy = 0.2625\n",
      "Accuracies: [0.2625, 0.2625, 0.175, 0.2625, 0.225, 0.2375, 0.225, 0.2, 0.1625, 0.2625]\n",
      "\u001b[92m\u001b[1m Best accuracy : 0.2625 \u001b[0m\n",
      "\u001b[94m Best BLERR : 0.7375 \u001b[0m\n",
      "----------------------end-----------------------------\n",
      "\n",
      "\n",
      "\u001b[91m----------------------start---------------------------\u001b[0m\n",
      "\u001b[91m nakagami_m : 1  gamma_bar : 0\u001b[0m\n",
      "-------  start of attempt : 1 ----------\n",
      "3/3 [==============================] - 0s 2ms/step\n",
      "accuracy = 0.3\n",
      "-------  start of attempt : 2 ----------\n",
      "3/3 [==============================] - 0s 2ms/step\n",
      "accuracy = 0.35\n",
      "-------  start of attempt : 3 ----------\n",
      "3/3 [==============================] - 0s 2ms/step\n",
      "accuracy = 0.3625\n",
      "-------  start of attempt : 4 ----------\n",
      "3/3 [==============================] - 0s 2ms/step\n",
      "accuracy = 0.4\n",
      "-------  start of attempt : 5 ----------\n",
      "3/3 [==============================] - 0s 1ms/step\n",
      "accuracy = 0.3375\n",
      "-------  start of attempt : 6 ----------\n",
      "3/3 [==============================] - 0s 2ms/step\n",
      "accuracy = 0.35\n",
      "-------  start of attempt : 7 ----------\n",
      "3/3 [==============================] - 0s 1ms/step\n",
      "accuracy = 0.3\n",
      "-------  start of attempt : 8 ----------\n",
      "3/3 [==============================] - 0s 2ms/step\n",
      "accuracy = 0.4\n",
      "-------  start of attempt : 9 ----------\n",
      "3/3 [==============================] - 0s 41ms/step\n",
      "accuracy = 0.3\n",
      "-------  start of attempt : 10 ----------\n",
      "3/3 [==============================] - 0s 2ms/step\n",
      "accuracy = 0.4125\n",
      "Accuracies: [0.3, 0.35, 0.3625, 0.4, 0.3375, 0.35, 0.3, 0.4, 0.3, 0.4125]\n",
      "\u001b[92m\u001b[1m Best accuracy : 0.4125 \u001b[0m\n",
      "\u001b[94m Best BLERR : 0.5875 \u001b[0m\n",
      "----------------------end-----------------------------\n",
      "\n",
      "\n",
      "\u001b[91m----------------------start---------------------------\u001b[0m\n",
      "\u001b[91m nakagami_m : 1  gamma_bar : 5\u001b[0m\n",
      "-------  start of attempt : 1 ----------\n",
      "3/3 [==============================] - 0s 2ms/step\n",
      "accuracy = 0.65\n",
      "-------  start of attempt : 2 ----------\n",
      "3/3 [==============================] - 0s 2ms/step\n",
      "accuracy = 0.65\n",
      "-------  start of attempt : 3 ----------\n",
      "3/3 [==============================] - 0s 2ms/step\n",
      "accuracy = 0.6625\n",
      "-------  start of attempt : 4 ----------\n",
      "3/3 [==============================] - 0s 2ms/step\n",
      "accuracy = 0.6125\n",
      "-------  start of attempt : 5 ----------\n",
      "3/3 [==============================] - 0s 2ms/step\n",
      "accuracy = 0.7\n",
      "-------  start of attempt : 6 ----------\n",
      "3/3 [==============================] - 0s 2ms/step\n",
      "accuracy = 0.65\n",
      "-------  start of attempt : 7 ----------\n",
      "3/3 [==============================] - 0s 2ms/step\n",
      "accuracy = 0.6625\n",
      "-------  start of attempt : 8 ----------\n",
      "3/3 [==============================] - 0s 2ms/step\n",
      "accuracy = 0.575\n",
      "-------  start of attempt : 9 ----------\n",
      "3/3 [==============================] - 0s 2ms/step\n",
      "accuracy = 0.4125\n",
      "-------  start of attempt : 10 ----------\n",
      "3/3 [==============================] - 0s 2ms/step\n",
      "accuracy = 0.6625\n",
      "Accuracies: [0.65, 0.65, 0.6625, 0.6125, 0.7, 0.65, 0.6625, 0.575, 0.4125, 0.6625]\n",
      "\u001b[92m\u001b[1m Best accuracy : 0.7 \u001b[0m\n",
      "\u001b[94m Best BLERR : 0.30000000000000004 \u001b[0m\n",
      "----------------------end-----------------------------\n",
      "\n",
      "\n",
      "\u001b[91m----------------------start---------------------------\u001b[0m\n",
      "\u001b[91m nakagami_m : 1  gamma_bar : 7\u001b[0m\n",
      "-------  start of attempt : 1 ----------\n",
      "3/3 [==============================] - 0s 2ms/step\n",
      "accuracy = 0.775\n",
      "-------  start of attempt : 2 ----------\n",
      "3/3 [==============================] - 0s 2ms/step\n",
      "accuracy = 0.7125\n",
      "-------  start of attempt : 3 ----------\n",
      "3/3 [==============================] - 0s 2ms/step\n",
      "accuracy = 0.75\n",
      "-------  start of attempt : 4 ----------\n",
      "3/3 [==============================] - 0s 2ms/step\n",
      "accuracy = 0.6625\n",
      "-------  start of attempt : 5 ----------\n",
      "3/3 [==============================] - 0s 1ms/step\n",
      "accuracy = 0.7625\n",
      "-------  start of attempt : 6 ----------\n",
      "3/3 [==============================] - 0s 1ms/step\n",
      "accuracy = 0.775\n",
      "-------  start of attempt : 7 ----------\n",
      "3/3 [==============================] - 0s 2ms/step\n",
      "accuracy = 0.675\n",
      "-------  start of attempt : 8 ----------\n",
      "3/3 [==============================] - 0s 2ms/step\n",
      "accuracy = 0.775\n",
      "-------  start of attempt : 9 ----------\n",
      "3/3 [==============================] - 0s 2ms/step\n",
      "accuracy = 0.6625\n",
      "-------  start of attempt : 10 ----------\n",
      "3/3 [==============================] - 0s 2ms/step\n",
      "accuracy = 0.6375\n",
      "Accuracies: [0.775, 0.7125, 0.75, 0.6625, 0.7625, 0.775, 0.675, 0.775, 0.6625, 0.6375]\n",
      "\u001b[92m\u001b[1m Best accuracy : 0.775 \u001b[0m\n",
      "\u001b[94m Best BLERR : 0.22499999999999998 \u001b[0m\n",
      "----------------------end-----------------------------\n",
      "\n",
      "\n",
      "\u001b[91m----------------------start---------------------------\u001b[0m\n",
      "\u001b[91m nakagami_m : 1  gamma_bar : 10\u001b[0m\n",
      "-------  start of attempt : 1 ----------\n",
      "3/3 [==============================] - 0s 2ms/step\n",
      "accuracy = 0.8625\n",
      "-------  start of attempt : 2 ----------\n",
      "3/3 [==============================] - 0s 2ms/step\n",
      "accuracy = 0.975\n",
      "Accuracies: [0.8625, 0.975]\n",
      "\u001b[92m\u001b[1m Best accuracy : 0.975 \u001b[0m\n",
      "\u001b[94m Best BLERR : 0.025000000000000022 \u001b[0m\n",
      "----------------------end-----------------------------\n",
      "\n",
      "\n",
      "\u001b[91m----------------------start---------------------------\u001b[0m\n",
      "\u001b[91m nakagami_m : 1  gamma_bar : 13\u001b[0m\n",
      "-------  start of attempt : 1 ----------\n",
      "3/3 [==============================] - 0s 1ms/step\n",
      "accuracy = 0.9875\n",
      "Accuracies: [0.9875]\n",
      "\u001b[92m\u001b[1m Best accuracy : 0.9875 \u001b[0m\n",
      "\u001b[94m Best BLERR : 0.012499999999999956 \u001b[0m\n",
      "----------------------end-----------------------------\n",
      "\n",
      "\n",
      "\u001b[91m----------------------start---------------------------\u001b[0m\n",
      "\u001b[91m nakagami_m : 1  gamma_bar : 15\u001b[0m\n",
      "-------  start of attempt : 1 ----------\n",
      "3/3 [==============================] - 0s 2ms/step\n",
      "accuracy = 1.0\n",
      "Accuracies: [1.0]\n",
      "\u001b[92m\u001b[1m Best accuracy : 1.0 \u001b[0m\n",
      "\u001b[94m Best BLERR : 0.0 \u001b[0m\n",
      "----------------------end-----------------------------\n",
      "\n",
      "\n",
      "\u001b[91m----------------------start---------------------------\u001b[0m\n",
      "\u001b[91m nakagami_m : 1  gamma_bar : 16\u001b[0m\n",
      "-------  start of attempt : 1 ----------\n",
      "3/3 [==============================] - 0s 1ms/step\n",
      "accuracy = 1.0\n",
      "Accuracies: [1.0]\n",
      "\u001b[92m\u001b[1m Best accuracy : 1.0 \u001b[0m\n",
      "\u001b[94m Best BLERR : 0.0 \u001b[0m\n",
      "----------------------end-----------------------------\n",
      "\n",
      "\n",
      "\u001b[91m----------------------start---------------------------\u001b[0m\n",
      "\u001b[91m nakagami_m : 1  gamma_bar : 17\u001b[0m\n",
      "-------  start of attempt : 1 ----------\n",
      "3/3 [==============================] - 0s 2ms/step\n",
      "accuracy = 1.0\n",
      "Accuracies: [1.0]\n",
      "\u001b[92m\u001b[1m Best accuracy : 1.0 \u001b[0m\n",
      "\u001b[94m Best BLERR : 0.0 \u001b[0m\n",
      "----------------------end-----------------------------\n",
      "\n",
      "\n",
      "\u001b[91m----------------------start---------------------------\u001b[0m\n",
      "\u001b[91m nakagami_m : 1  gamma_bar : 18\u001b[0m\n",
      "-------  start of attempt : 1 ----------\n",
      "3/3 [==============================] - 0s 2ms/step\n",
      "accuracy = 1.0\n",
      "Accuracies: [1.0]\n",
      "\u001b[92m\u001b[1m Best accuracy : 1.0 \u001b[0m\n",
      "\u001b[94m Best BLERR : 0.0 \u001b[0m\n",
      "----------------------end-----------------------------\n",
      "\n",
      "\n",
      "\u001b[91m----------------------start---------------------------\u001b[0m\n",
      "\u001b[91m nakagami_m : 1  gamma_bar : 19\u001b[0m\n",
      "-------  start of attempt : 1 ----------\n",
      "3/3 [==============================] - 0s 1ms/step\n",
      "accuracy = 1.0\n",
      "Accuracies: [1.0]\n",
      "\u001b[92m\u001b[1m Best accuracy : 1.0 \u001b[0m\n",
      "\u001b[94m Best BLERR : 0.0 \u001b[0m\n",
      "----------------------end-----------------------------\n",
      "\n",
      "\n",
      "\u001b[91m----------------------start---------------------------\u001b[0m\n",
      "\u001b[91m nakagami_m : 1  gamma_bar : 20\u001b[0m\n",
      "-------  start of attempt : 1 ----------\n"
     ]
    },
    {
     "name": "stdout",
     "output_type": "stream",
     "text": [
      "3/3 [==============================] - 0s 2ms/step\n",
      "accuracy = 1.0\n",
      "Accuracies: [1.0]\n",
      "\u001b[92m\u001b[1m Best accuracy : 1.0 \u001b[0m\n",
      "\u001b[94m Best BLERR : 0.0 \u001b[0m\n",
      "----------------------end-----------------------------\n",
      "\n",
      "\n",
      "\u001b[91m----------------------start---------------------------\u001b[0m\n",
      "\u001b[91m nakagami_m : 1  gamma_bar : 21\u001b[0m\n",
      "-------  start of attempt : 1 ----------\n",
      "3/3 [==============================] - 0s 1ms/step\n",
      "accuracy = 1.0\n",
      "Accuracies: [1.0]\n",
      "\u001b[92m\u001b[1m Best accuracy : 1.0 \u001b[0m\n",
      "\u001b[94m Best BLERR : 0.0 \u001b[0m\n",
      "----------------------end-----------------------------\n",
      "\n",
      "\n",
      "\u001b[91m----------------------start---------------------------\u001b[0m\n",
      "\u001b[91m nakagami_m : 1  gamma_bar : 22\u001b[0m\n",
      "-------  start of attempt : 1 ----------\n",
      "3/3 [==============================] - 0s 2ms/step\n",
      "accuracy = 1.0\n",
      "Accuracies: [1.0]\n",
      "\u001b[92m\u001b[1m Best accuracy : 1.0 \u001b[0m\n",
      "\u001b[94m Best BLERR : 0.0 \u001b[0m\n",
      "----------------------end-----------------------------\n",
      "\n",
      "\n",
      "\u001b[91m----------------------start---------------------------\u001b[0m\n",
      "\u001b[91m nakagami_m : 1  gamma_bar : 23\u001b[0m\n",
      "-------  start of attempt : 1 ----------\n",
      "3/3 [==============================] - 0s 2ms/step\n",
      "accuracy = 1.0\n",
      "Accuracies: [1.0]\n",
      "\u001b[92m\u001b[1m Best accuracy : 1.0 \u001b[0m\n",
      "\u001b[94m Best BLERR : 0.0 \u001b[0m\n",
      "----------------------end-----------------------------\n",
      "\n",
      "\n",
      "\u001b[91m----------------------start---------------------------\u001b[0m\n",
      "\u001b[91m nakagami_m : 1  gamma_bar : 24\u001b[0m\n",
      "-------  start of attempt : 1 ----------\n",
      "3/3 [==============================] - 0s 2ms/step\n",
      "accuracy = 1.0\n",
      "Accuracies: [1.0]\n",
      "\u001b[92m\u001b[1m Best accuracy : 1.0 \u001b[0m\n",
      "\u001b[94m Best BLERR : 0.0 \u001b[0m\n",
      "----------------------end-----------------------------\n",
      "\n",
      "\n",
      "\u001b[91m----------------------start---------------------------\u001b[0m\n",
      "\u001b[91m nakagami_m : 1  gamma_bar : 25\u001b[0m\n",
      "-------  start of attempt : 1 ----------\n",
      "3/3 [==============================] - 0s 2ms/step\n",
      "accuracy = 1.0\n",
      "Accuracies: [1.0]\n",
      "\u001b[92m\u001b[1m Best accuracy : 1.0 \u001b[0m\n",
      "\u001b[94m Best BLERR : 0.0 \u001b[0m\n",
      "----------------------end-----------------------------\n",
      "\n",
      "\n",
      "\u001b[91m----------------------start---------------------------\u001b[0m\n",
      "\u001b[91m nakagami_m : 1  gamma_bar : 26\u001b[0m\n",
      "-------  start of attempt : 1 ----------\n",
      "3/3 [==============================] - 0s 2ms/step\n",
      "accuracy = 1.0\n",
      "Accuracies: [1.0]\n",
      "\u001b[92m\u001b[1m Best accuracy : 1.0 \u001b[0m\n",
      "\u001b[94m Best BLERR : 0.0 \u001b[0m\n",
      "----------------------end-----------------------------\n",
      "\n",
      "\n",
      "\u001b[91m----------------------start---------------------------\u001b[0m\n",
      "\u001b[91m nakagami_m : 1  gamma_bar : 27\u001b[0m\n",
      "-------  start of attempt : 1 ----------\n",
      "3/3 [==============================] - 0s 2ms/step\n",
      "accuracy = 1.0\n",
      "Accuracies: [1.0]\n",
      "\u001b[92m\u001b[1m Best accuracy : 1.0 \u001b[0m\n",
      "\u001b[94m Best BLERR : 0.0 \u001b[0m\n",
      "----------------------end-----------------------------\n",
      "\n",
      "\n",
      "\u001b[91m----------------------start---------------------------\u001b[0m\n",
      "\u001b[91m nakagami_m : 1  gamma_bar : 28\u001b[0m\n",
      "-------  start of attempt : 1 ----------\n",
      "3/3 [==============================] - 0s 2ms/step\n",
      "accuracy = 1.0\n",
      "Accuracies: [1.0]\n",
      "\u001b[92m\u001b[1m Best accuracy : 1.0 \u001b[0m\n",
      "\u001b[94m Best BLERR : 0.0 \u001b[0m\n",
      "----------------------end-----------------------------\n",
      "\n",
      "\n",
      "\u001b[91m----------------------start---------------------------\u001b[0m\n",
      "\u001b[91m nakagami_m : 1  gamma_bar : 29\u001b[0m\n",
      "-------  start of attempt : 1 ----------\n",
      "3/3 [==============================] - 0s 1ms/step\n",
      "accuracy = 1.0\n",
      "Accuracies: [1.0]\n",
      "\u001b[92m\u001b[1m Best accuracy : 1.0 \u001b[0m\n",
      "\u001b[94m Best BLERR : 0.0 \u001b[0m\n",
      "----------------------end-----------------------------\n",
      "\n",
      "\n",
      "\u001b[91m----------------------start---------------------------\u001b[0m\n",
      "\u001b[91m nakagami_m : 1  gamma_bar : 30\u001b[0m\n",
      "-------  start of attempt : 1 ----------\n",
      "3/3 [==============================] - 0s 1ms/step\n",
      "accuracy = 1.0\n",
      "Accuracies: [1.0]\n",
      "\u001b[92m\u001b[1m Best accuracy : 1.0 \u001b[0m\n",
      "\u001b[94m Best BLERR : 0.0 \u001b[0m\n",
      "----------------------end-----------------------------\n",
      "\n",
      "\n"
     ]
    }
   ],
   "source": [
    "complete_results = []\n",
    "AE =  None\n",
    "\n",
    "for nakagami_m in nakagami_m_collection:\n",
    "    for gamma_bar in gamma_bar_collection:\n",
    "        \n",
    "        print(\"\\033[91m----------------------start---------------------------\\033[0m\")\n",
    "        print(f\"\\033[91m nakagami_m : {nakagami_m}  gamma_bar : {gamma_bar}\\033[0m\")\n",
    "        \n",
    "        # transform gamma_bar to noise std\n",
    "        AWGN_std = np.sqrt(OMEGA * 10 ** (-0.1 * gamma_bar) )\n",
    "        \n",
    "        accuracies = []\n",
    "        models = []\n",
    "        attempts = 0\n",
    "        while True:\n",
    "                attempts += 1\n",
    "                print(f\"-------  start of attempt : {attempts} ----------\")\n",
    "                AE = Sequential([\n",
    "\n",
    "\n",
    "                                        Dense(2*k, activation='tanh',input_shape=(k,)),\n",
    "                                        Dense(2*k, activation='tanh'),\n",
    "\n",
    "                                        Dense(2*NUM_CHANNEL_USES, activation='linear'),\n",
    "                                        L2Normalization(name=\"normalization_layer\"),\n",
    "\n",
    "\n",
    "#                                         NakagamiNoiseLayer({\"omega\":OMEGA,\"m\":nakagami_m}),\n",
    "                                        GaussianNoise(stddev=AWGN_std,name=\"channel\"),\n",
    "\n",
    "#                                         L2Normalization(name=\"normalization_layer_at_rx\"),\n",
    "\n",
    "                                       # Dense(3*k, activation='tanh'),\n",
    "                                        Dense(2*k, activation='tanh'),\n",
    "                                        Dense(k, activation='sigmoid')\n",
    "\n",
    "\n",
    "\n",
    "                                ])\n",
    "\n",
    "                AE.build()\n",
    "                #     AE.summary()\n",
    "\n",
    "                AE.compile(optimizer=Adam(learning_rate=1e-2),loss=\"binary_crossentropy\")\n",
    "                AE.fit(x_train,y_train,epochs=10,verbose=0)\n",
    "                AE.compile(optimizer=Adam(learning_rate=1e-3),loss=\"binary_crossentropy\")\n",
    "                AE.fit(x_train,y_train,epochs=10,verbose=0)\n",
    "                \n",
    "                preds = AE.predict(x_val)>0.5\n",
    "        #         accuracy = np.mean( preds == y_val  )\n",
    "                accuracy =  calc_block_accuracy(preds,y_val)\n",
    "                print(f\"accuracy = {accuracy}\")\n",
    "\n",
    "                accuracies.append(accuracy)\n",
    "                models.append(AE)\n",
    "\n",
    "                if accuracy > 0.97 or attempts >= MAX_ATTEMPTS_PER_CONFIG:\n",
    "                    break\n",
    "\n",
    "\n",
    "        \n",
    "        \n",
    "        print(f\"Accuracies: {str(accuracies)}\")\n",
    "        print(f\"\\033[92m\\033[1m Best accuracy : {max(accuracies)} \\033[0m\")\n",
    "        \n",
    "        best_block_err_rate = 1 - max(accuracies)\n",
    "        print(f\"\\033[94m Best BLERR : {best_block_err_rate} \\033[0m\")\n",
    "        \n",
    "        print(\"----------------------end-----------------------------\\n\\n\")\n",
    "        complete_results.append({\n",
    "            \n",
    "#             \"nakagami_m\":nakagami_m,\n",
    "#             \"gamma_bar\": gamma_bar,\n",
    "#             \"accuracies\":accuracies,\n",
    "            \"models\":models,\n",
    "            \"best_block_err_rate\":best_block_err_rate\n",
    "            \n",
    "            \n",
    "        })\n",
    "    "
   ]
  },
  {
   "cell_type": "code",
   "execution_count": 23,
   "id": "82b05bbb",
   "metadata": {
    "ExecuteTime": {
     "end_time": "2024-02-07T04:04:33.373015Z",
     "start_time": "2024-02-07T04:04:33.360768Z"
    }
   },
   "outputs": [],
   "source": [
    "grid = np.zeros((len(nakagami_m_collection),len(gamma_bar_collection)))\n",
    "\n",
    "for i,result in enumerate(complete_results):\n",
    "    grid[0,i]= result[\"best_block_err_rate\"]\n"
   ]
  },
  {
   "cell_type": "code",
   "execution_count": 42,
   "id": "9b24d723",
   "metadata": {
    "ExecuteTime": {
     "end_time": "2024-02-07T04:33:13.744487Z",
     "start_time": "2024-02-07T04:33:13.692660Z"
    }
   },
   "outputs": [
    {
     "data": {
      "text/plain": [
       "[{'models': [<keras.engine.sequential.Sequential at 0x2211db77f10>,\n",
       "   <keras.engine.sequential.Sequential at 0x2211edbe490>,\n",
       "   <keras.engine.sequential.Sequential at 0x2211ffc2ee0>,\n",
       "   <keras.engine.sequential.Sequential at 0x221212037f0>,\n",
       "   <keras.engine.sequential.Sequential at 0x2212241f9d0>,\n",
       "   <keras.engine.sequential.Sequential at 0x2211d9dfbe0>,\n",
       "   <keras.engine.sequential.Sequential at 0x22119215640>,\n",
       "   <keras.engine.sequential.Sequential at 0x22116ccf760>,\n",
       "   <keras.engine.sequential.Sequential at 0x221111aa820>,\n",
       "   <keras.engine.sequential.Sequential at 0x22106c846d0>],\n",
       "  'best_block_err_rate': 0.6375},\n",
       " {'models': [<keras.engine.sequential.Sequential at 0x22090d49d90>,\n",
       "   <keras.engine.sequential.Sequential at 0x2208fc53df0>,\n",
       "   <keras.engine.sequential.Sequential at 0x2208fa84610>,\n",
       "   <keras.engine.sequential.Sequential at 0x2211a2d1c70>,\n",
       "   <keras.engine.sequential.Sequential at 0x2208e8c3e80>,\n",
       "   <keras.engine.sequential.Sequential at 0x2210212fb80>,\n",
       "   <keras.engine.sequential.Sequential at 0x22086ac81f0>,\n",
       "   <keras.engine.sequential.Sequential at 0x2208c5b33d0>,\n",
       "   <keras.engine.sequential.Sequential at 0x220f4c7b610>,\n",
       "   <keras.engine.sequential.Sequential at 0x22084471700>],\n",
       "  'best_block_err_rate': 0.5625},\n",
       " {'models': [<keras.engine.sequential.Sequential at 0x220857d6490>,\n",
       "   <keras.engine.sequential.Sequential at 0x220da5d7940>,\n",
       "   <keras.engine.sequential.Sequential at 0x221134e0220>,\n",
       "   <keras.engine.sequential.Sequential at 0x220def1a460>,\n",
       "   <keras.engine.sequential.Sequential at 0x220e4c10d30>,\n",
       "   <keras.engine.sequential.Sequential at 0x220d9567c40>,\n",
       "   <keras.engine.sequential.Sequential at 0x220f132f3a0>,\n",
       "   <keras.engine.sequential.Sequential at 0x220dba871f0>,\n",
       "   <keras.engine.sequential.Sequential at 0x220e1311760>,\n",
       "   <keras.engine.sequential.Sequential at 0x220eddef040>],\n",
       "  'best_block_err_rate': 0.48750000000000004},\n",
       " {'models': [<keras.engine.sequential.Sequential at 0x220d5c7e0d0>,\n",
       "   <keras.engine.sequential.Sequential at 0x220d16a5ac0>,\n",
       "   <keras.engine.sequential.Sequential at 0x2211a3255e0>,\n",
       "   <keras.engine.sequential.Sequential at 0x220ccd6aee0>,\n",
       "   <keras.engine.sequential.Sequential at 0x220dba61550>,\n",
       "   <keras.engine.sequential.Sequential at 0x220d6ff3100>,\n",
       "   <keras.engine.sequential.Sequential at 0x220e01e4130>,\n",
       "   <keras.engine.sequential.Sequential at 0x220d5cf0a60>,\n",
       "   <keras.engine.sequential.Sequential at 0x220cde263d0>,\n",
       "   <keras.engine.sequential.Sequential at 0x220f5dbd6d0>],\n",
       "  'best_block_err_rate': 0.4},\n",
       " {'models': [<keras.engine.sequential.Sequential at 0x220fa38f070>,\n",
       "   <keras.engine.sequential.Sequential at 0x220fdb19d30>,\n",
       "   <keras.engine.sequential.Sequential at 0x220eee9e100>,\n",
       "   <keras.engine.sequential.Sequential at 0x220fa42a2b0>,\n",
       "   <keras.engine.sequential.Sequential at 0x220e4b2c730>,\n",
       "   <keras.engine.sequential.Sequential at 0x2208fc7fa00>,\n",
       "   <keras.engine.sequential.Sequential at 0x220ea5411c0>,\n",
       "   <keras.engine.sequential.Sequential at 0x2211b486430>,\n",
       "   <keras.engine.sequential.Sequential at 0x22094209790>,\n",
       "   <keras.engine.sequential.Sequential at 0x220e940c2b0>],\n",
       "  'best_block_err_rate': 0.26249999999999996},\n",
       " {'models': [<keras.engine.sequential.Sequential at 0x220cded1a90>,\n",
       "   <keras.engine.sequential.Sequential at 0x220d27ce910>,\n",
       "   <keras.engine.sequential.Sequential at 0x220e5f3dac0>,\n",
       "   <keras.engine.sequential.Sequential at 0x220f4b0a9d0>,\n",
       "   <keras.engine.sequential.Sequential at 0x220e3a07e20>,\n",
       "   <keras.engine.sequential.Sequential at 0x22119081fd0>,\n",
       "   <keras.engine.sequential.Sequential at 0x220fb6c01c0>,\n",
       "   <keras.engine.sequential.Sequential at 0x220d819a370>,\n",
       "   <keras.engine.sequential.Sequential at 0x2209433db80>,\n",
       "   <keras.engine.sequential.Sequential at 0x2209568bc70>],\n",
       "  'best_block_err_rate': 0.09999999999999998},\n",
       " {'models': [<keras.engine.sequential.Sequential at 0x220e26c3040>,\n",
       "   <keras.engine.sequential.Sequential at 0x220d939be20>,\n",
       "   <keras.engine.sequential.Sequential at 0x220fecef160>,\n",
       "   <keras.engine.sequential.Sequential at 0x220d7090310>,\n",
       "   <keras.engine.sequential.Sequential at 0x221100664c0>,\n",
       "   <keras.engine.sequential.Sequential at 0x220931a35b0>,\n",
       "   <keras.engine.sequential.Sequential at 0x22105a39eb0>,\n",
       "   <keras.engine.sequential.Sequential at 0x220feccf190>,\n",
       "   <keras.engine.sequential.Sequential at 0x220fa5d3340>,\n",
       "   <keras.engine.sequential.Sequential at 0x2208fac8f10>],\n",
       "  'best_block_err_rate': 0.07499999999999996},\n",
       " {'models': [<keras.engine.sequential.Sequential at 0x220fb86c8e0>,\n",
       "   <keras.engine.sequential.Sequential at 0x2208b2d0a90>,\n",
       "   <keras.engine.sequential.Sequential at 0x2208c5e1c40>,\n",
       "   <keras.engine.sequential.Sequential at 0x2211369d2e0>,\n",
       "   <keras.engine.sequential.Sequential at 0x22084430fa0>,\n",
       "   <keras.engine.sequential.Sequential at 0x22095481190>,\n",
       "   <keras.engine.sequential.Sequential at 0x2210eb68340>,\n",
       "   <keras.engine.sequential.Sequential at 0x22117d5a4f0>,\n",
       "   <keras.engine.sequential.Sequential at 0x220eddbaac0>,\n",
       "   <keras.engine.sequential.Sequential at 0x220fb6cf400>],\n",
       "  'best_block_err_rate': 0.0},\n",
       " {'models': [<keras.engine.sequential.Sequential at 0x220fed11430>,\n",
       "   <keras.engine.sequential.Sequential at 0x220f12da370>,\n",
       "   <keras.engine.sequential.Sequential at 0x22088eb7c40>,\n",
       "   <keras.engine.sequential.Sequential at 0x22114840df0>,\n",
       "   <keras.engine.sequential.Sequential at 0x22091eaefa0>,\n",
       "   <keras.engine.sequential.Sequential at 0x22117f1f070>,\n",
       "   <keras.engine.sequential.Sequential at 0x2210483b940>],\n",
       "  'best_block_err_rate': 0.012499999999999956},\n",
       " {'models': [<keras.engine.sequential.Sequential at 0x220fc954eb0>,\n",
       "   <keras.engine.sequential.Sequential at 0x220833cdca0>,\n",
       "   <keras.engine.sequential.Sequential at 0x220869b7730>,\n",
       "   <keras.engine.sequential.Sequential at 0x221191b4100>],\n",
       "  'best_block_err_rate': 0.025000000000000022},\n",
       " {'models': [<keras.engine.sequential.Sequential at 0x22095541730>,\n",
       "   <keras.engine.sequential.Sequential at 0x220979ff460>,\n",
       "   <keras.engine.sequential.Sequential at 0x220979d5280>,\n",
       "   <keras.engine.sequential.Sequential at 0x22091ed77c0>,\n",
       "   <keras.engine.sequential.Sequential at 0x221158f1970>,\n",
       "   <keras.engine.sequential.Sequential at 0x220fa55fb20>,\n",
       "   <keras.engine.sequential.Sequential at 0x2210da68cd0>,\n",
       "   <keras.engine.sequential.Sequential at 0x22089fb0d60>,\n",
       "   <keras.engine.sequential.Sequential at 0x22090d01670>],\n",
       "  'best_block_err_rate': 0.0},\n",
       " {'models': [<keras.engine.sequential.Sequential at 0x22126a62be0>],\n",
       "  'best_block_err_rate': 0.025000000000000022},\n",
       " {'models': [<keras.engine.sequential.Sequential at 0x2211a292070>],\n",
       "  'best_block_err_rate': 0.0},\n",
       " {'models': [<keras.engine.sequential.Sequential at 0x2209551a940>,\n",
       "   <keras.engine.sequential.Sequential at 0x22128c85af0>],\n",
       "  'best_block_err_rate': 0.0},\n",
       " {'models': [<keras.engine.sequential.Sequential at 0x2212ae74160>,\n",
       "   <keras.engine.sequential.Sequential at 0x2212b0a2d30>],\n",
       "  'best_block_err_rate': 0.0},\n",
       " {'models': [<keras.engine.sequential.Sequential at 0x2212c2d9ac0>],\n",
       "  'best_block_err_rate': 0.0},\n",
       " {'models': [<keras.engine.sequential.Sequential at 0x2212d4f1bb0>],\n",
       "  'best_block_err_rate': 0.0},\n",
       " {'models': [<keras.engine.sequential.Sequential at 0x2212e708e20>],\n",
       "  'best_block_err_rate': 0.0},\n",
       " {'models': [<keras.engine.sequential.Sequential at 0x2212f914eb0>],\n",
       "  'best_block_err_rate': 0.0},\n",
       " {'models': [<keras.engine.sequential.Sequential at 0x22130b397f0>],\n",
       "  'best_block_err_rate': 0.0},\n",
       " {'models': [<keras.engine.sequential.Sequential at 0x22131d5c250>],\n",
       "  'best_block_err_rate': 0.0},\n",
       " {'models': [<keras.engine.sequential.Sequential at 0x22132f8db20>],\n",
       "  'best_block_err_rate': 0.0}]"
      ]
     },
     "execution_count": 42,
     "metadata": {},
     "output_type": "execute_result"
    }
   ],
   "source": [
    "complete_results"
   ]
  },
  {
   "cell_type": "code",
   "execution_count": 51,
   "id": "1a8eb755",
   "metadata": {
    "ExecuteTime": {
     "end_time": "2024-02-07T04:38:23.496246Z",
     "start_time": "2024-02-07T04:38:23.481058Z"
    }
   },
   "outputs": [],
   "source": [
    "AE_best = complete_results[-1][\"models\"][0]"
   ]
  },
  {
   "cell_type": "code",
   "execution_count": 32,
   "id": "276e5d12",
   "metadata": {
    "ExecuteTime": {
     "end_time": "2024-02-07T04:08:00.329672Z",
     "start_time": "2024-02-07T04:08:00.088455Z"
    },
    "scrolled": true
   },
   "outputs": [
    {
     "data": {
      "image/png": "[encoded data removed]",
      "text/plain": [
       "<Figure size 432x288 with 1 Axes>"
      ]
     },
     "metadata": {
      "needs_background": "light"
     },
     "output_type": "display_data"
    }
   ],
   "source": [
    "fig,ax  = plt.subplots(1)\n",
    "for i,nakagami_m in enumerate(nakagami_m_collection):\n",
    "    ax.plot(gamma_bar_collection,grid[i,:] ,label=f\"m = {nakagami_m}\",marker=\"o\")\n",
    "# ax.legend()\n",
    "ax.grid()\n",
    "ax.set_title(\"Summary - AWGN channel\")\n",
    "ax.set_xlabel(\"SNR [db]\")\n",
    "ax.set_ylabel(\"BLERR (log10)\")\n",
    "plt.show()"
   ]
  },
  {
   "cell_type": "code",
   "execution_count": 1,
   "id": "e36df21c",
   "metadata": {
    "ExecuteTime": {
     "end_time": "2024-02-06T18:01:31.182139Z",
     "start_time": "2024-02-06T18:01:30.138435Z"
    },
    "deletable": false,
    "editable": false,
    "run_control": {
     "frozen": true
    }
   },
   "outputs": [
    {
     "ename": "NameError",
     "evalue": "name 'grid' is not defined",
     "output_type": "error",
     "traceback": [
      "\u001b[1;31m---------------------------------------------------------------------------\u001b[0m",
      "\u001b[1;31mNameError\u001b[0m                                 Traceback (most recent call last)",
      "\u001b[1;32m~\\AppData\\Local\\Temp/ipykernel_18416/3620283585.py\u001b[0m in \u001b[0;36m<module>\u001b[1;34m\u001b[0m\n\u001b[1;32m----> 1\u001b[1;33m \u001b[0mgrid\u001b[0m\u001b[1;33m[\u001b[0m\u001b[1;36m1\u001b[0m\u001b[1;33m,\u001b[0m\u001b[1;33m:\u001b[0m\u001b[1;33m]\u001b[0m\u001b[1;33m\u001b[0m\u001b[1;33m\u001b[0m\u001b[0m\n\u001b[0m",
      "\u001b[1;31mNameError\u001b[0m: name 'grid' is not defined"
     ]
    }
   ],
   "source": [
    "grid[1,:]"
   ]
  },
  {
   "cell_type": "code",
   "execution_count": 34,
   "id": "78efc35c",
   "metadata": {
    "ExecuteTime": {
     "end_time": "2024-02-07T04:25:14.078421Z",
     "start_time": "2024-02-07T04:25:13.526839Z"
    }
   },
   "outputs": [
    {
     "name": "stdout",
     "output_type": "stream",
     "text": [
      "best accuracy:  1.0\n"
     ]
    }
   ],
   "source": [
    "# select the best out of all the AE models saved in AE\n",
    "bestIndex = np.argmax(accuracies)\n",
    "print(\"best accuracy: \", max(accuracies))\n",
    "AE_best = models[bestIndex]"
   ]
  },
  {
   "cell_type": "code",
   "execution_count": 35,
   "id": "e8d1097c",
   "metadata": {
    "ExecuteTime": {
     "end_time": "2024-02-07T04:27:30.870199Z",
     "start_time": "2024-02-07T04:27:30.861284Z"
    }
   },
   "outputs": [],
   "source": [
    "# bc = before_channel.predict(np.array([\n",
    "    \n",
    "#     [0,0],\n",
    "#     [0,1],\n",
    "#     [1,0],\n",
    "#     [1,1]\n",
    "  \n",
    "    \n",
    "# ]))\n",
    "\n",
    "\n",
    "\n",
    "# bc = before_channel.predict(np.array([\n",
    "\n",
    "#             [0,0,0,0],\n",
    "#             [0,0,0,1],\n",
    "#             [0,0,1,0],\n",
    "#             [0,0,1,1],\n",
    "#             [0,1,0,0],\n",
    "#             [0,1,0,1],\n",
    "#             [0,1,1,0],\n",
    "#             [0,1,1,1],\n",
    "#             [1,0,0,0],\n",
    "#             [1,0,0,1],\n",
    "#             [1,0,1,0],\n",
    "#             [1,0,1,1],\n",
    "#             [1,1,0,0],\n",
    "#             [1,1,0,1],\n",
    "#             [1,1,1,0],\n",
    "#             [1,1,1,1]\n",
    "    \n",
    "# ]))\n",
    "\n",
    "\n"
   ]
  },
  {
   "cell_type": "code",
   "execution_count": 56,
   "id": "4f7e19db",
   "metadata": {
    "ExecuteTime": {
     "end_time": "2024-02-07T04:55:06.923664Z",
     "start_time": "2024-02-07T04:55:06.263549Z"
    }
   },
   "outputs": [
    {
     "name": "stdout",
     "output_type": "stream",
     "text": [
      "1/1 [==============================] - 0s 48ms/step\n",
      "3/3 [==============================] - 0s 0s/step\n",
      "(80, 4)\n"
     ]
    },
    {
     "data": {
      "image/png": "[encoded data removed]",
      "text/plain": [
       "<Figure size 1080x288 with 3 Axes>"
      ]
     },
     "metadata": {
      "needs_background": "light"
     },
     "output_type": "display_data"
    }
   ],
   "source": [
    "\n",
    "\n",
    "before_channel = Model(inputs=AE_best.input,\n",
    "                                 outputs=AE_best.get_layer('normalization_layer').output)\n",
    "\n",
    "after_channel  = Model(inputs=AE_best.input,\n",
    "                                 outputs=AE_best.get_layer('channel').output)\n",
    "\n",
    "#after_channel_normalized = Model(inputs=AE_best.input,\n",
    "#                                 outputs=AE_best.get_layer('normalization_layer_at_rx').output)\n",
    "    \n",
    "    \n",
    "bc = before_channel.predict(np.array([\n",
    "    [0,0,0],\n",
    "    [0,0,1],\n",
    "    [0,1,0],\n",
    "    [0,1,1],\n",
    "    [1,0,0],\n",
    "    [1,0,1],\n",
    "    [1,1,0],\n",
    "    [1,1,1],\n",
    "    \n",
    "  \n",
    "  \n",
    "    \n",
    "]))\n",
    "\n",
    "bc1 = bc[:,:2]\n",
    "bc2 = bc[:,2:]\n",
    "    \n",
    "\n",
    "ac = after_channel.predict(x_val[:10000,:])\n",
    "print(ac.shape)\n",
    "ac1 = ac[:,:2]\n",
    "ac2 = ac[:,2:]\n",
    "\n",
    "#acn = after_channel_normalized.predict(x_val[:1000,:])\n",
    "\n",
    "\n",
    "fig,ax = plt.subplots(1,3,figsize=(15,4))\n",
    "ax[0].scatter(bc1[:,0],bc1[:,1],c=\"red\")\n",
    "ax[0].scatter(bc2[:,0],bc2[:,1],c=\"blue\")\n",
    "ax[0].set_title(\"before channel\")\n",
    "\n",
    "\n",
    "ax[1].scatter(ac1[:,0],ac1[:,1],c=\"red\",s=3)\n",
    "ax[1].scatter(ac2[:,0],ac2[:,1],c=\"blue\",s=3)\n",
    "ax[1].set_title(\"after channel\")\n",
    "\n",
    "\n",
    "# ax[2].scatter(ac[:,0],ac[:,1],c=\"blue\",s=3)\n",
    "# ax[2].scatter(bc[:,0],bc[:,1],c=\"red\") # seconded to avoid occlusion\n",
    "# ax[2].set_title(\"both before and after channel normalized\")\n",
    "\n",
    "\n",
    "plt.show()"
   ]
  },
  {
   "cell_type": "code",
   "execution_count": null,
   "id": "86de1783",
   "metadata": {
    "ExecuteTime": {
     "end_time": "2024-02-05T17:27:06.704979Z",
     "start_time": "2024-02-05T17:27:06.691544Z"
    },
    "deletable": false,
    "editable": false,
    "run_control": {
     "frozen": true
    }
   },
   "outputs": [],
   "source": [
    "\n",
    "\n",
    "\n",
    "# # Example usage:\n",
    "# m = 1.5  # Shape parameter\n",
    "# omega = 2.0  # Scale parameter\n",
    "# num_samples = 1000\n",
    "# nakagami_samples = generate_nakagami_samples((None,num_samples,),m, omega)\n",
    "\n",
    "\n",
    "# # Compute the histogram\n",
    "# hist, bins = np.histogram(nakagami_samples, bins=20)  # Adjust the number of bins as needed\n",
    "\n",
    "# # Plot the histogram\n",
    "# plt.figure(figsize=(8, 6))\n",
    "# plt.hist(nakagami_samples, bins=20, color='blue', alpha=0.7)  # Plot the histogram bars\n",
    "# plt.xlabel('Value')\n",
    "# plt.ylabel('Frequency')\n",
    "# plt.title('Histogram of Nakagami Samples')\n",
    "# plt.grid(True)\n",
    "# plt.show()"
   ]
  },
  {
   "cell_type": "code",
   "execution_count": 13,
   "id": "3a76c483",
   "metadata": {
    "ExecuteTime": {
     "end_time": "2024-02-06T18:14:24.020838Z",
     "start_time": "2024-02-06T18:14:21.753567Z"
    },
    "scrolled": true
   },
   "outputs": [
    {
     "ename": "NameError",
     "evalue": "name 'bc' is not defined",
     "output_type": "error",
     "traceback": [
      "\u001b[1;31m---------------------------------------------------------------------------\u001b[0m",
      "\u001b[1;31mNameError\u001b[0m                                 Traceback (most recent call last)",
      "\u001b[1;32m~\\AppData\\Local\\Temp/ipykernel_11576/19191640.py\u001b[0m in \u001b[0;36m<module>\u001b[1;34m\u001b[0m\n\u001b[1;32m----> 1\u001b[1;33m \u001b[0mbc\u001b[0m\u001b[1;33m\u001b[0m\u001b[1;33m\u001b[0m\u001b[0m\n\u001b[0m",
      "\u001b[1;31mNameError\u001b[0m: name 'bc' is not defined"
     ]
    }
   ],
   "source": [
    "bc"
   ]
  },
  {
   "cell_type": "code",
   "execution_count": null,
   "id": "3abb5a7d",
   "metadata": {
    "deletable": false,
    "editable": false,
    "run_control": {
     "frozen": true
    }
   },
   "outputs": [],
   "source": [
    "class RicianFadingLayer(tf.keras.layers.Layer):\n",
    "    def __init__(self, K, stddev, **kwargs):\n",
    "        super(RicianFadingLayer, self).__init__(**kwargs)\n",
    "        self.K = K  # Rician factor (K-factor)\n",
    "        self.stddev = stddev  # Standard deviation of Rayleigh fading\n",
    "\n",
    "    def call(self, inputs):\n",
    "        # Generate Rayleigh fading components\n",
    "#         rayleigh = tf.random.normal(tf.shape(inputs), mean=0.0, stddev=self.stddev)\n",
    "        rayleigh = tf.random.rayleigh(shape=tf.shape(inputs),scale=self.stddev)\n",
    "    \n",
    "        # Generate line-of-sight (LOS) component\n",
    "        LOS = tf.sqrt(self.K / (self.K + 1)) * tf.random.normal(tf.shape(inputs), mean=0.0, stddev=self.stddev)\n",
    "        \n",
    "        # Combine LOS and Rayleigh components\n",
    "        rician = LOS + rayleigh\n",
    "        # Apply Rician fading to input signals\n",
    "        return inputs * rician\n",
    "\n",
    "# # Example usage:\n",
    "# # Create a Rician fading layer with K-factor 3 and standard deviation 0.1\n",
    "# rician_layer = RicianFadingLayer(K=3, stddev=0.1)\n",
    "\n",
    "# # Generate some input signals\n",
    "# inputs = tf.random.normal((32, 64))  # Example input shape: (batch_size, input_dim)\n",
    "\n",
    "# # Apply Rician fading to the input signals\n",
    "# outputs = rician_layer(inputs)"
   ]
  },
  {
   "cell_type": "code",
   "execution_count": null,
   "id": "2e89a84f",
   "metadata": {
    "ExecuteTime": {
     "end_time": "2024-02-06T10:05:13.773517Z",
     "start_time": "2024-02-06T10:05:13.682078Z"
    },
    "deletable": false,
    "editable": false,
    "run_control": {
     "frozen": true
    }
   },
   "outputs": [],
   "source": [
    "preds = AE_best.predict(x_val) > 0.5\n",
    "accuracy = np.mean(  preds == y_val  )\n",
    "\n",
    "\n",
    "print(f\"accuracy = {accuracy}\")\n",
    "        "
   ]
  },
  {
   "cell_type": "code",
   "execution_count": 15,
   "id": "ee319962",
   "metadata": {
    "ExecuteTime": {
     "end_time": "2024-02-06T11:56:54.804689Z",
     "start_time": "2024-02-06T11:56:54.790341Z"
    },
    "deletable": false,
    "editable": false,
    "run_control": {
     "frozen": true
    }
   },
   "outputs": [
    {
     "data": {
      "text/plain": [
       "array([[0.7825 , 0.7025 , 0.64125, 0.49   , 0.22125, 0.09375, 0.02875,\n",
       "        0.0375 ],\n",
       "       [0.71125, 0.6125 , 0.295  , 0.09125, 0.0275 , 0.00125, 0.01375,\n",
       "        0.     ],\n",
       "       [0.6525 , 0.5375 , 0.16875, 0.02625, 0.00625, 0.     , 0.     ,\n",
       "        0.     ],\n",
       "       [0.64125, 0.3925 , 0.10625, 0.01125, 0.     , 0.     , 0.     ,\n",
       "        0.     ]])"
      ]
     },
     "execution_count": 15,
     "metadata": {},
     "output_type": "execute_result"
    }
   ],
   "source": [
    "grid"
   ]
  },
  {
   "cell_type": "code",
   "execution_count": 18,
   "id": "4b01f58c",
   "metadata": {
    "ExecuteTime": {
     "end_time": "2024-02-06T12:00:03.673753Z",
     "start_time": "2024-02-06T12:00:03.560598Z"
    },
    "deletable": false,
    "editable": false,
    "run_control": {
     "frozen": true
    },
    "scrolled": true
   },
   "outputs": [
    {
     "data": {
      "image/png": "[encoded data removed]",
      "text/plain": [
       "<Figure size 432x288 with 1 Axes>"
      ]
     },
     "metadata": {
      "needs_background": "light"
     },
     "output_type": "display_data"
    }
   ],
   "source": [
    "fig,ax  = plt.subplots(1)\n",
    "for i,nakagami_m in enumerate(nakagami_m_collection):\n",
    "    ax.plot(np.log(grid[i,:] + 1e-5),label=f\"m = {nakagami_m}\")\n",
    "    \n",
    "plt.show()"
   ]
  }
 ],
 "metadata": {
  "kernelspec": {
   "display_name": "Python 3 (ipykernel)",
   "language": "python",
   "name": "python3"
  },
  "language_info": {
   "codemirror_mode": {
    "name": "ipython",
    "version": 3
   },
   "file_extension": ".py",
   "mimetype": "text/x-python",
   "name": "python",
   "nbconvert_exporter": "python",
   "pygments_lexer": "ipython3",
   "version": "3.9.13"
  },
  "latex_envs": {
   "LaTeX_envs_menu_present": true,
   "autoclose": false,
   "autocomplete": true,
   "bibliofile": "biblio.bib",
   "cite_by": "apalike",
   "current_citInitial": 1,
   "eqLabelWithNumbers": true,
   "eqNumInitial": 1,
   "hotkeys": {
    "equation": "Ctrl-E",
    "itemize": "Ctrl-I"
   },
   "labels_anchors": false,
   "latex_user_defs": false,
   "report_style_numbering": false,
   "user_envs_cfg": false
  },
  "toc": {
   "base_numbering": 1,
   "nav_menu": {},
   "number_sections": true,
   "sideBar": true,
   "skip_h1_title": false,
   "title_cell": "Table of Contents",
   "title_sidebar": "Contents",
   "toc_cell": false,
   "toc_position": {},
   "toc_section_display": true,
   "toc_window_display": false
  },
  "varInspector": {
   "cols": {
    "lenName": 16,
    "lenType": 16,
    "lenVar": 40
   },
   "kernels_config": {
    "python": {
     "delete_cmd_postfix": "",
     "delete_cmd_prefix": "del ",
     "library": "var_list.py",
     "varRefreshCmd": "print(var_dic_list())"
    },
    "r": {
     "delete_cmd_postfix": ") ",
     "delete_cmd_prefix": "rm(",
     "library": "var_list.r",
     "varRefreshCmd": "cat(var_dic_list()) "
    }
   },
   "types_to_exclude": [
    "module",
    "function",
    "builtin_function_or_method",
    "instance",
    "_Feature"
   ],
   "window_display": false
  }
 },
 "nbformat": 4,
 "nbformat_minor": 5
}
