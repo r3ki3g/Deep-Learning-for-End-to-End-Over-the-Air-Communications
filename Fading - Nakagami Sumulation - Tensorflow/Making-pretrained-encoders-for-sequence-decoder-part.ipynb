{
 "cells": [
  {
   "cell_type": "code",
   "execution_count": 1,
   "id": "c6ae15a9",
   "metadata": {
    "ExecuteTime": {
     "end_time": "2024-04-17T08:12:52.505340Z",
     "start_time": "2024-04-17T08:12:48.207258Z"
    }
   },
   "outputs": [],
   "source": [
    "import numpy as np\n",
    "import matplotlib.pyplot as plt\n",
    "import tensorflow as tf\n",
    "import keras\n",
    "\n",
    "from keras.layers import Dense\n",
    "from keras.models import Sequential,Model\n",
    "\n",
    "from tensorflow.keras.optimizers import Adam"
   ]
  },
  {
   "cell_type": "code",
   "execution_count": 2,
   "id": "fad0f7e3",
   "metadata": {
    "ExecuteTime": {
     "end_time": "2024-04-17T08:12:52.536611Z",
     "start_time": "2024-04-17T08:12:52.507348Z"
    }
   },
   "outputs": [],
   "source": [
    "class GaussianNoise(tf.keras.layers.Layer):\n",
    "    def __init__(self, stddev, **kwargs):\n",
    "        super(GaussianNoise, self).__init__(**kwargs)\n",
    "        self.stddev = stddev\n",
    "\n",
    "    def call(self, inputs, training=None):\n",
    "        if 1 or training:\n",
    "            noise = tf.random.normal(tf.shape(inputs), stddev=self.stddev)\n",
    "            return inputs + noise\n",
    "        return inputs\n",
    "\n",
    "    def get_config(self):\n",
    "        config = super(GaussianNoise, self).get_config()\n",
    "        config.update({'stddev': self.stddev})\n",
    "        return config\n",
    "    \n",
    "    \n",
    "class L2Normalization(tf.keras.layers.Layer):\n",
    "    def __init__(self,**kwargs):\n",
    "        \n",
    "        super(L2Normalization, self).__init__(**kwargs)\n",
    "\n",
    "    def call(self, inputs):\n",
    "        return tf.nn.l2_normalize(inputs, axis=-1)\n",
    "\n",
    "    def get_config(self):\n",
    "        return super(L2Normalization, self).get_config()\n",
    "    \n",
    "\n",
    "def generate_nakagami_samples(m, omega, shape):\n",
    "\n",
    "    return tf.random.gamma(shape, m, 1/omega) ** 0.5\n",
    "    \n",
    "class NakagamiNoiseLayer(tf.keras.layers.Layer):\n",
    "    def __init__(self, distribution_params, **kwargs):\n",
    "        super(NakagamiNoiseLayer, self).__init__(**kwargs)\n",
    "        self.distribution_params = distribution_params\n",
    "\n",
    "    def call(self, inputs, training=None):\n",
    "        if  1 or training:\n",
    "            # noise = tf.random.normal(tf.shape(inputs), **self.distribution_params)\n",
    "            if tf.shape(inputs)[0] == None:\n",
    "                noise = generate_nakagami_samples(m = self.distribution_params[\"m\"], \n",
    "                                              omega = self.distribution_params[\"omega\"], \n",
    "                                              shape = tf.shape(inputs))\n",
    "            else:\n",
    "                noise = generate_nakagami_samples(m = self.distribution_params[\"m\"], \n",
    "                                              omega = self.distribution_params[\"omega\"], \n",
    "                                              shape = tf.shape(inputs)[1:])\n",
    "            return inputs * noise\n",
    "        \n",
    "        else:\n",
    "            return inputs\n",
    "        \n",
    "        \n",
    "\n",
    "\n",
    "class RicianFadingLayer(tf.keras.layers.Layer):\n",
    "    def __init__(self, K, stddev, **kwargs):\n",
    "        super(RicianFadingLayer, self).__init__(**kwargs)\n",
    "        self.K = K  # Rician factor (K-factor)\n",
    "        self.stddev = stddev  # Standard deviation of Rayleigh fading\n",
    "\n",
    "    def call(self, inputs):\n",
    "       \n",
    "        rayleigh = tf.random.normal(tf.shape(inputs), mean=0.0, stddev=self.stddev)\n",
    "       \n",
    "        LOS = tf.sqrt(self.K / (self.K + 1)) * tf.random.normal(tf.shape(inputs), mean=0.0, stddev=self.stddev)\n",
    "       \n",
    "        rician = LOS + rayleigh\n",
    "        \n",
    "        return inputs * rician\n",
    "\n"
   ]
  },
  {
   "cell_type": "code",
   "execution_count": 3,
   "id": "4a4ccc47",
   "metadata": {
    "ExecuteTime": {
     "end_time": "2024-04-17T08:12:52.552363Z",
     "start_time": "2024-04-17T08:12:52.537155Z"
    }
   },
   "outputs": [],
   "source": [
    "def calc_block_accuracy(preds,y_val):\n",
    "    n_bits_per_block = preds.shape[1]\n",
    "    n_correct_bits = np.sum(preds == y_val,axis=1)\n",
    "    block_accuracy = np.mean(n_correct_bits == n_bits_per_block)\n",
    "    return block_accuracy\n"
   ]
  },
  {
   "cell_type": "code",
   "execution_count": 4,
   "id": "39a9aa4a",
   "metadata": {
    "ExecuteTime": {
     "end_time": "2024-04-17T08:12:53.245104Z",
     "start_time": "2024-04-17T08:12:52.552363Z"
    }
   },
   "outputs": [],
   "source": [
    "# generating the data set\n",
    "k = 4\n",
    "M = 2**k\n",
    "NUM_CHANNEL_USES = 7\n",
    "\n",
    "n_train = 10_000 * M\n",
    "\n",
    "x_train = tf.random.uniform((n_train,),minval=0,maxval=2**k,dtype=tf.int32)\n",
    "y_train = tf.expand_dims(x_train,axis=1)\n",
    "x_train = tf.one_hot(x_train,depth=2**k)\n"
   ]
  },
  {
   "cell_type": "code",
   "execution_count": 5,
   "id": "438464a3",
   "metadata": {
    "ExecuteTime": {
     "end_time": "2024-04-17T08:12:53.276420Z",
     "start_time": "2024-04-17T08:12:53.247672Z"
    }
   },
   "outputs": [
    {
     "data": {
      "text/plain": [
       "<tf.Tensor: shape=(160000, 1), dtype=int32, numpy=\n",
       "array([[12],\n",
       "       [ 8],\n",
       "       [ 5],\n",
       "       ...,\n",
       "       [ 8],\n",
       "       [15],\n",
       "       [ 5]])>"
      ]
     },
     "execution_count": 5,
     "metadata": {},
     "output_type": "execute_result"
    }
   ],
   "source": [
    "y_train"
   ]
  },
  {
   "cell_type": "code",
   "execution_count": 6,
   "id": "bfceff7c",
   "metadata": {
    "ExecuteTime": {
     "end_time": "2024-04-17T08:14:23.985890Z",
     "start_time": "2024-04-17T08:12:53.277424Z"
    },
    "scrolled": true
   },
   "outputs": [
    {
     "name": "stdout",
     "output_type": "stream",
     "text": [
      "Epoch 1/10\n",
      "5000/5000 [==============================] - 8s 1ms/step - loss: 0.0563\n",
      "Epoch 2/10\n",
      "5000/5000 [==============================] - 7s 1ms/step - loss: 0.0485\n",
      "Epoch 3/10\n",
      "5000/5000 [==============================] - 9s 2ms/step - loss: 0.0488\n",
      "Epoch 4/10\n",
      "5000/5000 [==============================] - 8s 2ms/step - loss: 0.0872\n",
      "Epoch 5/10\n",
      "5000/5000 [==============================] - 8s 2ms/step - loss: 0.0530\n",
      "Epoch 6/10\n",
      "5000/5000 [==============================] - 9s 2ms/step - loss: 0.0514\n",
      "Epoch 7/10\n",
      "5000/5000 [==============================] - 9s 2ms/step - loss: 0.0464\n",
      "Epoch 8/10\n",
      "5000/5000 [==============================] - 8s 2ms/step - loss: 0.1126\n",
      "Epoch 9/10\n",
      "5000/5000 [==============================] - 10s 2ms/step - loss: 0.0542\n",
      "Epoch 10/10\n",
      "5000/5000 [==============================] - 9s 2ms/step - loss: 0.0529\n",
      "5000/5000 [==============================] - 6s 1ms/step\n",
      "accuracy = 0.99535\n",
      "Accuracies:  [0.99535]\n"
     ]
    }
   ],
   "source": [
    "\n",
    "accuracies = []\n",
    "while True:\n",
    "\n",
    "        AE = Sequential([\n",
    "            \n",
    "\n",
    "                                Dense(2**k *2, activation='tanh',input_shape=(2**k,)),\n",
    "                                Dense(2**k *2, activation='tanh'),\n",
    "\n",
    "                                Dense(2*NUM_CHANNEL_USES, activation='linear'),\n",
    "                                L2Normalization(name=\"normalization_layer\"),\n",
    "\n",
    "\n",
    "#                                 NakagamiNoiseLayer({\"omega\":1,\"m\":10}),\n",
    "                                GaussianNoise(stddev=0.15,name=\"channel\"),\n",
    "\n",
    "#                                 L2Normalization(name=\"normalization_layer_at_rx\"),\n",
    "\n",
    "                                Dense(2**k, activation='tanh'),\n",
    "                                Dense(2**k, activation='linear') # we are going to use SCCE from logits\n",
    "\n",
    "\n",
    "\n",
    "                        ])\n",
    "\n",
    "        AE.build()\n",
    "        #     AE.summary()\n",
    "        \n",
    "        AE.compile(optimizer=Adam(learning_rate=1e-1),\n",
    "                   loss=tf.keras.losses.SparseCategoricalCrossentropy(from_logits=True))\n",
    "        AE.fit(x_train,y_train,epochs=10,)\n",
    "        \n",
    "        preds = np.argmax(AE.predict(x_train),axis=1,keepdims=1)\n",
    "        accuracy = np.mean( preds == y_train  )\n",
    "        print(f\"accuracy = {accuracy}\")\n",
    "        \n",
    "        accuracies.append(accuracy)\n",
    "        if accuracy > 0.97 or len(accuracies)>=1:\n",
    "            break\n",
    "        \n",
    "        \n",
    "        \n",
    "print(\"Accuracies: \", accuracies)\n",
    "\n",
    "        "
   ]
  },
  {
   "cell_type": "code",
   "execution_count": 7,
   "id": "e8d1097c",
   "metadata": {
    "ExecuteTime": {
     "end_time": "2024-04-17T08:14:24.001843Z",
     "start_time": "2024-04-17T08:14:23.986903Z"
    }
   },
   "outputs": [],
   "source": [
    "\n",
    "\n",
    "# bc = before_channel.predict(np.array([\n",
    "#    [0,0,0],\n",
    "#     [0,0,1],\n",
    "#     [0,1,0],\n",
    "#     [0,1,1],\n",
    "#     [1,0,0],\n",
    "#     [1,0,1],\n",
    "#     [1,1,0],\n",
    "#     [1,1,1],\n",
    "    \n",
    "  \n",
    "  \n",
    "    \n",
    "# ]))\n",
    "\n",
    "\n",
    "\n",
    "# bc = before_channel.predict(np.array([\n",
    "\n",
    "#             [0,0,0,0],\n",
    "#             [0,0,0,1],\n",
    "#             [0,0,1,0],\n",
    "#             [0,0,1,1],\n",
    "#             [0,1,0,0],\n",
    "#             [0,1,0,1],\n",
    "#             [0,1,1,0],\n",
    "#             [0,1,1,1],\n",
    "#             [1,0,0,0],\n",
    "#             [1,0,0,1],\n",
    "#             [1,0,1,0],\n",
    "#             [1,0,1,1],\n",
    "#             [1,1,0,0],\n",
    "#             [1,1,0,1],\n",
    "#             [1,1,1,0],\n",
    "#             [1,1,1,1]\n",
    "    \n",
    "# ]))\n",
    "\n",
    "\n"
   ]
  },
  {
   "cell_type": "code",
   "execution_count": 14,
   "id": "4f7e19db",
   "metadata": {
    "ExecuteTime": {
     "end_time": "2024-04-17T08:18:38.192024Z",
     "start_time": "2024-04-17T08:18:37.399815Z"
    }
   },
   "outputs": [
    {
     "name": "stdout",
     "output_type": "stream",
     "text": [
      "1/1 [==============================] - 0s 48ms/step\n",
      "32/32 [==============================] - 0s 1ms/step\n"
     ]
    },
    {
     "data": {
      "image/png": "[encoded data removed]",
      "text/plain": [
       "<Figure size 1500x400 with 3 Axes>"
      ]
     },
     "metadata": {},
     "output_type": "display_data"
    }
   ],
   "source": [
    "\n",
    "\n",
    "before_channel = Model(inputs=AE.input,\n",
    "                                 outputs=AE.get_layer('normalization_layer').output)\n",
    "\n",
    "after_channel  = Model(inputs=AE.input,\n",
    "                                 outputs=AE.get_layer('channel').output)\n",
    "\n",
    "#after_channel_normalized = Model(inputs=AE.input,\n",
    "                                 #outputs=AE.get_layer('normalization_layer_at_rx').output)\n",
    "    \n",
    "\n",
    "    \n",
    "allMsgInput = tf.one_hot(  np.arange(0,2**k,1).astype(np.int32)  ,depth=2**k)\n",
    "# print(\"allMsgInput\",allMsgInput)\n",
    "bc = before_channel.predict(allMsgInput)\n",
    "    \n",
    "\n",
    "\n",
    "ac = after_channel.predict(x_train[:1000,:])\n",
    "#acn = after_channel_normalized.predict(x_train[:500,:])\n",
    "\n",
    "\n",
    "fig,ax = plt.subplots(1,3,figsize=(15,4))\n",
    "ax[0].scatter(bc[:,0],bc[:,1],c=\"red\")\n",
    "ax[0].set_title(\"before channel\")\n",
    "\n",
    "\n",
    "ax[1].scatter(ac[:,0],ac[:,1],c=\"blue\",s=3)\n",
    "ax[1].set_title(\"after channel\")\n",
    "\n",
    "\n",
    "#ax[2].scatter(ac[:,0],acn[:,1],c=\"blue\",s=3)\n",
    "ax[2].scatter(bc[:,0],bc[:,1],c=\"red\") # seconded to avoid occlusion\n",
    "ax[2].set_title(\"both before and after channel normalized\")\n",
    "\n",
    "\n",
    "plt.show()"
   ]
  },
  {
   "cell_type": "code",
   "execution_count": null,
   "id": "de4cdeb7",
   "metadata": {
    "ExecuteTime": {
     "end_time": "2024-04-17T08:14:25.097108Z",
     "start_time": "2024-04-17T08:14:25.097108Z"
    }
   },
   "outputs": [],
   "source": [
    "bc.shape"
   ]
  },
  {
   "cell_type": "code",
   "execution_count": null,
   "id": "86de1783",
   "metadata": {
    "ExecuteTime": {
     "end_time": "2024-04-17T08:14:25.097108Z",
     "start_time": "2024-04-17T08:14:25.097108Z"
    }
   },
   "outputs": [],
   "source": [
    "\n",
    "\n",
    "\n",
    "# # Example usage:\n",
    "# m = 1.5  # Shape parameter\n",
    "# omega = 2.0  # Scale parameter\n",
    "# num_samples = 1000\n",
    "# nakagami_samples = generate_nakagami_samples((None,num_samples,),m, omega)\n",
    "\n",
    "\n",
    "# # Compute the histogram\n",
    "# hist, bins = np.histogram(nakagami_samples, bins=20)  # Adjust the number of bins as needed\n",
    "\n",
    "# # Plot the histogram\n",
    "# plt.figure(figsize=(8, 6))\n",
    "# plt.hist(nakagami_samples, bins=20, color='blue', alpha=0.7)  # Plot the histogram bars\n",
    "# plt.xlabel('Value')\n",
    "# plt.ylabel('Frequency')\n",
    "# plt.title('Histogram of Nakagami Samples')\n",
    "# plt.grid(True)\n",
    "# plt.show()"
   ]
  },
  {
   "cell_type": "code",
   "execution_count": null,
   "id": "3a76c483",
   "metadata": {
    "ExecuteTime": {
     "end_time": "2024-04-17T08:14:25.097108Z",
     "start_time": "2024-04-17T08:14:25.097108Z"
    }
   },
   "outputs": [],
   "source": [
    "bc"
   ]
  },
  {
   "cell_type": "code",
   "execution_count": 16,
   "id": "3abb5a7d",
   "metadata": {
    "ExecuteTime": {
     "end_time": "2024-04-17T08:20:42.606735Z",
     "start_time": "2024-04-17T08:20:42.499341Z"
    }
   },
   "outputs": [
    {
     "name": "stdout",
     "output_type": "stream",
     "text": [
      "WARNING:tensorflow:Compiled the loaded model, but the compiled metrics have yet to be built. `model.compile_metrics` will be empty until you train or evaluate the model.\n"
     ]
    }
   ],
   "source": [
    "# saving AE to use in sequence decoder\n",
    "savedir = r\"D:\\ENTC\\PROJECTS\\Deep-Learning-for-End-to-End-Over-the-Air-Communications\\Fading - Nakagami Sumulation - Tensorflow\\saved_encoders_for_Sequence_decoder\"\n",
    "\n",
    "required_encoder_wo_l2norm = Sequential(AE.layers[:3])\n",
    "\n",
    "required_encoder_wo_l2norm.save(f'{savedir}\\\\r3ki3gEnc.h5')\n",
    "\n"
   ]
  }
 ],
 "metadata": {
  "kernelspec": {
   "display_name": "Python 3 (ipykernel)",
   "language": "python",
   "name": "python3"
  },
  "language_info": {
   "codemirror_mode": {
    "name": "ipython",
    "version": 3
   },
   "file_extension": ".py",
   "mimetype": "text/x-python",
   "name": "python",
   "nbconvert_exporter": "python",
   "pygments_lexer": "ipython3",
   "version": "3.9.13"
  },
  "latex_envs": {
   "LaTeX_envs_menu_present": true,
   "autoclose": false,
   "autocomplete": true,
   "bibliofile": "biblio.bib",
   "cite_by": "apalike",
   "current_citInitial": 1,
   "eqLabelWithNumbers": true,
   "eqNumInitial": 1,
   "hotkeys": {
    "equation": "Ctrl-E",
    "itemize": "Ctrl-I"
   },
   "labels_anchors": false,
   "latex_user_defs": false,
   "report_style_numbering": false,
   "user_envs_cfg": false
  },
  "toc": {
   "base_numbering": 1,
   "nav_menu": {},
   "number_sections": true,
   "sideBar": true,
   "skip_h1_title": false,
   "title_cell": "Table of Contents",
   "title_sidebar": "Contents",
   "toc_cell": false,
   "toc_position": {},
   "toc_section_display": true,
   "toc_window_display": false
  },
  "varInspector": {
   "cols": {
    "lenName": 16,
    "lenType": 16,
    "lenVar": 40
   },
   "kernels_config": {
    "python": {
     "delete_cmd_postfix": "",
     "delete_cmd_prefix": "del ",
     "library": "var_list.py",
     "varRefreshCmd": "print(var_dic_list())"
    },
    "r": {
     "delete_cmd_postfix": ") ",
     "delete_cmd_prefix": "rm(",
     "library": "var_list.r",
     "varRefreshCmd": "cat(var_dic_list()) "
    }
   },
   "types_to_exclude": [
    "module",
    "function",
    "builtin_function_or_method",
    "instance",
    "_Feature"
   ],
   "window_display": false
  }
 },
 "nbformat": 4,
 "nbformat_minor": 5
}
