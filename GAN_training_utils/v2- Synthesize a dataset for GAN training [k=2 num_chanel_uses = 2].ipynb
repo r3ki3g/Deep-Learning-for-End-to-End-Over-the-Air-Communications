{
 "cells": [
  {
   "cell_type": "markdown",
   "id": "995c6fe9",
   "metadata": {},
   "source": [
    "## Dataset generation for GAN to learn NAKAGAMI channels"
   ]
  },
  {
   "cell_type": "code",
   "execution_count": 1,
   "id": "c6ae15a9",
   "metadata": {
    "ExecuteTime": {
     "end_time": "2024-03-26T07:41:36.462947Z",
     "start_time": "2024-03-26T07:41:29.209735Z"
    }
   },
   "outputs": [],
   "source": [
    "import numpy as np\n",
    "import matplotlib.pyplot as plt\n",
    "import tensorflow as tf\n",
    "import keras\n",
    "\n",
    "from keras.layers import Dense\n",
    "from keras.models import Sequential,Model\n",
    "\n",
    "\n",
    "from tensorflow.keras.optimizers import Adam"
   ]
  },
  {
   "cell_type": "code",
   "execution_count": 7,
   "id": "fad0f7e3",
   "metadata": {
    "ExecuteTime": {
     "end_time": "2024-03-26T07:42:14.783635Z",
     "start_time": "2024-03-26T07:42:14.767558Z"
    }
   },
   "outputs": [],
   "source": [
    "# class GaussianNoise(tf.keras.layers.Layer):\n",
    "#     def __init__(self, stddev, **kwargs):\n",
    "#         super(GaussianNoise, self).__init__(**kwargs)\n",
    "#         self.stddev = stddev\n",
    "\n",
    "#     def call(self, inputs, training=None):\n",
    "#         if 1 or training:\n",
    "#             noise = tf.random.normal(tf.shape(inputs), stddev=self.stddev)\n",
    "#             return inputs + noise\n",
    "#         return inputs\n",
    "\n",
    "#     def get_config(self):\n",
    "#         config = super(GaussianNoise, self).get_config()\n",
    "#         config.update({'stddev': self.stddev})\n",
    "#         return config\n",
    "    \n",
    "    \n",
    "class L2Normalization(tf.keras.layers.Layer):\n",
    "    def __init__(self,**kwargs):\n",
    "        \n",
    "        super(L2Normalization, self).__init__(**kwargs)\n",
    "\n",
    "    def call(self, inputs):\n",
    "        return tf.nn.l2_normalize(inputs, axis=-1)\n",
    "\n",
    "    def get_config(self):\n",
    "        return super(L2Normalization, self).get_config()\n",
    "    \n",
    "#     def get_config(self):\n",
    "#         base_config = super().get_config()\n",
    "#         config = {\n",
    "#             \"sublayer\": keras.saving.serialize_keras_object(self.sublayer),\n",
    "#         }\n",
    "#         return {**base_config, **config}\n",
    "\n",
    "#     @classmethod\n",
    "#     def from_config(cls, config):\n",
    "#         sublayer_config = config.pop(\"sublayer\")\n",
    "#         sublayer = keras.saving.deserialize_keras_object(sublayer_config)\n",
    "#         return cls(sublayer, **config)\n",
    "\n",
    "\n",
    "\n",
    "\n",
    "\n",
    "\n",
    "# def generate_nakagami_samples(m, omega, shape):\n",
    "\n",
    "#     return tf.random.gamma(shape, m, 1/omega) ** 0.5\n",
    "    \n",
    "# class NakagamiNoiseLayer(tf.keras.layers.Layer):\n",
    "#     def __init__(self, distribution_params, **kwargs):\n",
    "#         super(NakagamiNoiseLayer, self).__init__(**kwargs)\n",
    "#         self.distribution_params = distribution_params\n",
    "\n",
    "#     def call(self, inputs, training=None):\n",
    "#         if  1 or training:\n",
    "#             # noise = tf.random.normal(tf.shape(inputs), **self.distribution_params)\n",
    "#             if tf.shape(inputs)[0] == None:\n",
    "#                 noise = generate_nakagami_samples(m = self.distribution_params[\"m\"], \n",
    "#                                               omega = self.distribution_params[\"omega\"], \n",
    "#                                               shape = tf.shape(inputs))\n",
    "#             else:\n",
    "#                 noise = generate_nakagami_samples(m = self.distribution_params[\"m\"], \n",
    "#                                               omega = self.distribution_params[\"omega\"], \n",
    "#                                               shape = tf.shape(inputs)[1:])\n",
    "#             return inputs * noise\n",
    "        \n",
    "#         else:\n",
    "#             return inputs\n",
    "        \n",
    "        \n",
    "\n",
    "\n",
    "\n"
   ]
  },
  {
   "cell_type": "code",
   "execution_count": null,
   "id": "b23b0443",
   "metadata": {
    "ExecuteTime": {
     "end_time": "2024-03-26T07:41:37.155432Z",
     "start_time": "2024-03-26T07:41:37.155432Z"
    }
   },
   "outputs": [],
   "source": [
    "def calc_block_accuracy(preds,y_val):\n",
    "    n_bits_per_block = preds.shape[1]\n",
    "    n_correct_bits = np.sum(preds == y_val,axis=1)\n",
    "    block_accuracy = np.mean(n_correct_bits == n_bits_per_block)\n",
    "    return block_accuracy\n"
   ]
  },
  {
   "cell_type": "code",
   "execution_count": null,
   "id": "dd54e3da",
   "metadata": {
    "ExecuteTime": {
     "end_time": "2024-03-26T07:41:37.156949Z",
     "start_time": "2024-03-26T07:41:37.156949Z"
    }
   },
   "outputs": [],
   "source": [
    "def only_awgn(snr_db, num_samples):\n",
    "    noise_var = 10**(-snr_db/10) \n",
    "    noise_real = np.random.normal(scale=np.sqrt(noise_var), size=num_samples)\n",
    "    noise_imag = np.random.normal(scale=np.sqrt(noise_var), size=num_samples)\n",
    "    \n",
    "    channel = noise_real + 1j * noise_imag\n",
    "\n",
    "    return channel"
   ]
  },
  {
   "cell_type": "code",
   "execution_count": 2,
   "id": "e6688e0d",
   "metadata": {
    "ExecuteTime": {
     "end_time": "2024-03-26T07:41:37.361016Z",
     "start_time": "2024-03-26T07:41:37.336519Z"
    }
   },
   "outputs": [],
   "source": [
    "def nakagami_channel(m, omega, snr_db, num_samples):\n",
    "    \"\"\"\n",
    "    This function generates samples from a Nakagami-m fading channel.\n",
    "\n",
    "    Args:\n",
    "      m: Shape parameter of the Nakagami distribution (float).\n",
    "      omega: Scale parameter of the Nakagami distribution (float).\n",
    "      num_samples: Number of samples to generate (int).\n",
    "\n",
    "    Returns:\n",
    "      channel: Complex-valued channel coefficients (numpy.ndarray).\n",
    "    \"\"\"\n",
    "    \n",
    "    \n",
    "\n",
    "    # Generate random variables from chi-squared distribution with 2*m degrees of freedom\n",
    "    chi_squared = 2 * m * np.random.chisquare(2 * m, size=num_samples)\n",
    "\n",
    "    # Generate real and imaginary parts from independent normal distributions\n",
    "    real_part = np.sqrt(chi_squared / (2 * omega)) * np.random.normal(scale=1, size=num_samples)\n",
    "    imag_part = np.sqrt(chi_squared / (2 * omega)) * np.random.normal(scale=1, size=num_samples)\n",
    "\n",
    "    # affect of noise\n",
    "    # r3ki3g added : noise\n",
    "    noise_var = 10**(-snr_db/10) / (2 * m)\n",
    "    noise_real = np.random.normal(scale=np.sqrt(noise_var), size=num_samples)\n",
    "    noise_imag = np.random.normal(scale=np.sqrt(noise_var), size=num_samples)\n",
    "    real_part += noise_real\n",
    "    imag_part += noise_imag\n",
    "    \n",
    "    # Combine real and imaginary parts into complex channel coefficients\n",
    "    channel = real_part + 1j * imag_part\n",
    "\n",
    "    return channel\n"
   ]
  },
  {
   "cell_type": "code",
   "execution_count": 61,
   "id": "39a9aa4a",
   "metadata": {
    "ExecuteTime": {
     "end_time": "2024-03-26T08:20:01.603964Z",
     "start_time": "2024-03-26T08:20:01.594984Z"
    }
   },
   "outputs": [],
   "source": [
    "# generating the data set\n",
    "k = 2\n",
    "M = 2**k\n",
    "\n",
    "NUM_CHANNEL_USES = 2\n",
    "\n",
    "\n",
    "block_size = 320\n",
    "\n",
    "n_train = block_size * 100\n",
    "n_val   = block_size * 100 \n",
    "\n",
    "x_train = np.array(np.random.rand(n_train,k)<0.5).astype(np.float32)\n",
    "# make first 16 as pilots \n",
    "# [ 0 0 0 0] --> [1 1 1 1]\n",
    "pilots_m = []\n",
    "for i in range(M):\n",
    "    pilots_m.append([\n",
    "          ( (i//(2**j))%2 if j!=0 else i%2 ) for j in range(k-1,-1,-1)\n",
    "\n",
    "    ])\n",
    "pilots_m = np.array(pilots_m)\n",
    "# replace the first 2**k symbols with pilots in each \"320\" block\n",
    "for i in range(n_train//block_size):\n",
    "    x_train[i*block_size:block_size*i+2**k,:] = pilots_m\n",
    "    \n",
    "\n",
    "# autoencoder training\n",
    "y_train = x_train\n",
    "\n",
    "# do the same for the validation\n",
    "x_val = x_train\n",
    "y_val = y_train\n",
    "\n",
    "\n",
    "\n",
    "\n"
   ]
  },
  {
   "cell_type": "code",
   "execution_count": 136,
   "id": "02962495",
   "metadata": {
    "ExecuteTime": {
     "end_time": "2024-03-26T07:18:47.219634Z",
     "start_time": "2024-03-26T07:18:47.194333Z"
    }
   },
   "outputs": [
    {
     "data": {
      "text/plain": [
       "(32000, 2)"
      ]
     },
     "execution_count": 136,
     "metadata": {},
     "output_type": "execute_result"
    }
   ],
   "source": [
    "x_train.shape"
   ]
  },
  {
   "cell_type": "code",
   "execution_count": 137,
   "id": "b07c348e",
   "metadata": {
    "ExecuteTime": {
     "end_time": "2024-03-26T07:18:52.962719Z",
     "start_time": "2024-03-26T07:18:52.943888Z"
    }
   },
   "outputs": [
    {
     "data": {
      "text/plain": [
       "array([[0, 0],\n",
       "       [0, 1],\n",
       "       [1, 0],\n",
       "       [1, 1]])"
      ]
     },
     "execution_count": 137,
     "metadata": {},
     "output_type": "execute_result"
    }
   ],
   "source": [
    "pilots_m"
   ]
  },
  {
   "cell_type": "code",
   "execution_count": 138,
   "id": "bfceff7c",
   "metadata": {
    "ExecuteTime": {
     "end_time": "2024-03-26T07:19:15.922582Z",
     "start_time": "2024-03-26T07:18:56.404058Z"
    },
    "scrolled": false
   },
   "outputs": [
    {
     "name": "stdout",
     "output_type": "stream",
     "text": [
      "-------  start ----------\n",
      "1000/1000 [==============================] - 1s 911us/step\n",
      "validation accuracy = 1.0\n"
     ]
    }
   ],
   "source": [
    "# complete_results = []\n",
    "\n",
    "# nakagami_m = 7\n",
    "# gamma_bar = 25\n",
    "# AWGN_std = np.sqrt(OMEGA * 10 ** (-0.1 * gamma_bar) )\n",
    "\n",
    "print(f\"-------  start ----------\")\n",
    "\n",
    "AE = Sequential([\n",
    "\n",
    "\n",
    "                Dense(2*k, activation='tanh',input_shape=(k,)),\n",
    "                Dense(2*k, activation='tanh'),\n",
    "\n",
    "                Dense(2*NUM_CHANNEL_USES, activation='linear'),\n",
    "                L2Normalization(name=\"normalization_layer\"),\n",
    "\n",
    "\n",
    "#                 NakagamiNoiseLayer({\"omega\":OMEGA,\"m\":nakagami_m}),\n",
    "#                 GaussianNoise(stddev=AWGN_std,name=\"channel\"),\n",
    "\n",
    "#                 L2Normalization(name=\"normalization_layer_at_rx\"),\n",
    "\n",
    "               # Dense(3*k, activation='tanh'),\n",
    "    \n",
    "                Dense(2*k, activation='tanh',name=\"decoder_start\"),\n",
    "                Dense(k, activation='sigmoid')\n",
    "\n",
    "\n",
    "\n",
    "                ])\n",
    "\n",
    "\n",
    "\n",
    "\n",
    "AE.compile(optimizer=Adam(learning_rate=1e-2),loss=\"binary_crossentropy\")\n",
    "AE.fit(x_train,y_train,epochs=10,verbose=0)\n",
    "AE.compile(optimizer=Adam(learning_rate=1e-3),loss=\"binary_crossentropy\")\n",
    "AE.fit(x_train,y_train,epochs=10,verbose=0)\n",
    "\n",
    "\n",
    "\n",
    "preds = AE.predict(x_val)>0.5\n",
    "#         accuracy = np.mean( preds == y_val  )\n",
    "accuracy =  calc_block_accuracy(preds,y_val)\n",
    "print(f\"validation accuracy = {accuracy}\")\n",
    "\n",
    "                \n",
    "\n",
    "\n",
    "        \n",
    "        \n",
    "     "
   ]
  },
  {
   "cell_type": "markdown",
   "id": "3051c75d",
   "metadata": {},
   "source": [
    "## Apply Nakagami effect"
   ]
  },
  {
   "cell_type": "markdown",
   "id": "cbbf18be",
   "metadata": {},
   "source": [
    "Need the encodings we present to the channel (i.e \"before_channel\")\n"
   ]
  },
  {
   "cell_type": "code",
   "execution_count": 139,
   "id": "630c0757",
   "metadata": {
    "ExecuteTime": {
     "end_time": "2024-03-26T07:19:20.231508Z",
     "start_time": "2024-03-26T07:19:20.215576Z"
    }
   },
   "outputs": [
    {
     "data": {
      "text/plain": [
       "'2024-03-26 12:49:20.215576'"
      ]
     },
     "execution_count": 139,
     "metadata": {},
     "output_type": "execute_result"
    }
   ],
   "source": [
    "from datetime import datetime\n",
    "str(datetime.now())"
   ]
  },
  {
   "cell_type": "code",
   "execution_count": 5,
   "id": "2b4e127c",
   "metadata": {
    "ExecuteTime": {
     "end_time": "2024-03-26T07:42:05.741876Z",
     "start_time": "2024-03-26T07:42:05.736981Z"
    }
   },
   "outputs": [],
   "source": [
    "modelsavepath = r\"D:\\ENTC\\PROJECTS\\Deep-Learning-for-End-to-End-Over-the-Air-Communications\\GAN_training_utils\\saved_models\""
   ]
  },
  {
   "cell_type": "code",
   "execution_count": 140,
   "id": "6f99d604",
   "metadata": {
    "ExecuteTime": {
     "end_time": "2024-03-26T07:19:23.938205Z",
     "start_time": "2024-03-26T07:19:21.283911Z"
    }
   },
   "outputs": [
    {
     "name": "stdout",
     "output_type": "stream",
     "text": [
      "WARNING:tensorflow:Compiled the loaded model, but the compiled metrics have yet to be built. `model.compile_metrics` will be empty until you train or evaluate the model.\n"
     ]
    }
   ],
   "source": [
    "AE_best = AE # not comparing.. we got only one\n",
    "\n",
    "before_channel = Model(inputs=AE_best.input,\n",
    "                                 outputs=AE_best.get_layer('normalization_layer').output)\n",
    "\n",
    "# not used\n",
    "after_channel = Model(inputs=AE_best.get_layer(\"decoder_start\").input,\n",
    "                                 outputs=AE_best.output)\n",
    "\n",
    "\n",
    "# save the models\n",
    "\n",
    "AE_best.save(modelsavepath + r\"\\best_AE_\" + str(datetime.now()).replace(\":\",\"\") + \".h5\")\n",
    "before_channel.save(modelsavepath + r\"\\before_channel_\" + str(datetime.now()).replace(\":\",\"\") + \".h5\")\n",
    "\n",
    "\n"
   ]
  },
  {
   "cell_type": "code",
   "execution_count": 8,
   "id": "4d48ecb0",
   "metadata": {
    "ExecuteTime": {
     "end_time": "2024-03-26T07:42:23.719995Z",
     "start_time": "2024-03-26T07:42:22.856588Z"
    }
   },
   "outputs": [
    {
     "name": "stdout",
     "output_type": "stream",
     "text": [
      "WARNING:tensorflow:No training configuration found in the save file, so the model was *not* compiled. Compile it manually.\n"
     ]
    }
   ],
   "source": [
    "# load the same saved model now!\n",
    "before_channel = tf.keras.models.load_model(modelsavepath +  r\"\\before_channel_2024-03-26 124923.286687.h5\",\n",
    "                                            custom_objects={\"L2Normalization\":L2Normalization})\n",
    "\n",
    "\n"
   ]
  },
  {
   "cell_type": "code",
   "execution_count": 9,
   "id": "49ae1360",
   "metadata": {
    "ExecuteTime": {
     "end_time": "2024-03-26T07:42:25.502895Z",
     "start_time": "2024-03-26T07:42:25.416572Z"
    }
   },
   "outputs": [
    {
     "name": "stdout",
     "output_type": "stream",
     "text": [
      "enc.shape:  (32000, 4)\n",
      "----------\n",
      "iq_samples.shape:  (32000, 2)\n",
      "iq_samples.dtype:  <dtype: 'complex64'>\n"
     ]
    }
   ],
   "source": [
    "# get encodings given by DNN for each message in training set\n",
    "enc = before_channel(x_train)\n",
    "print('enc.shape: ', enc.shape)\n",
    "\n",
    "# convert to iq_samples\n",
    "iq_samples = tf.complex(enc[:,0::2], enc[:,1::2])\n",
    "\n",
    "print(\"----------\")\n",
    "print('iq_samples.shape: ', iq_samples.shape)\n",
    "print('iq_samples.dtype: ', iq_samples.dtype)"
   ]
  },
  {
   "cell_type": "code",
   "execution_count": 10,
   "id": "bbbaf467",
   "metadata": {
    "ExecuteTime": {
     "end_time": "2024-03-26T07:43:03.933869Z",
     "start_time": "2024-03-26T07:43:03.856684Z"
    },
    "scrolled": true
   },
   "outputs": [
    {
     "name": "stdout",
     "output_type": "stream",
     "text": [
      "nakagami_chanel_coeff_tensor.shape :  (100, 320, 2)\n",
      "iq_samples_blocked.shape :  (100, 320, 2)\n",
      "nakagami_affected_iq_samples.shape :  (32000, 2)\n"
     ]
    }
   ],
   "source": [
    "M_POOL       = [0.1] #[0.5,1,1.5]\n",
    "SNR_DB_POOL  = [1,3,6][:1]\n",
    "\n",
    "nakagami_chanel_coeff_tensor = []\n",
    "\n",
    "\n",
    "n_blocks = enc.shape[0] // block_size \n",
    "for i in range(n_blocks):\n",
    "    m = np.random.choice(M_POOL)\n",
    "    snr_db = np.random.choice(SNR_DB_POOL)\n",
    "#     nakagami_chanel_coeff_tensor.append( only_awgn(snr_db=snr_db,\n",
    "#                                                    num_samples=(block_size,iq_samples.shape[1])) )\n",
    "    nakagami_chanel_coeff_tensor.append( nakagami_channel(m=m, \n",
    "                                                          omega=1,\n",
    "                                                          snr_db=snr_db, \n",
    "                                                          num_samples=(block_size,iq_samples.shape[1]))  )\n",
    "\n",
    "\n",
    "nakagami_chanel_coeff_tensor = tf.constant(nakagami_chanel_coeff_tensor)\n",
    "print(\"nakagami_chanel_coeff_tensor.shape : \",nakagami_chanel_coeff_tensor.shape)\n",
    "\n",
    "iq_samples_blocked = np.reshape(iq_samples,(n_blocks,block_size,-1))\n",
    "print(\"iq_samples_blocked.shape : \",iq_samples_blocked.shape)\n",
    "\n",
    "\n",
    "# tested identity flow (enc == received_enc)  with : nakagami_chanel_coeff_tensor =  tf.complex(1.,0.)\n",
    "\n",
    "# element wise multiply\n",
    "nakagami_affected_iq_samples = tf.multiply(nakagami_chanel_coeff_tensor,iq_samples_blocked)\n",
    "# undo the blockking\n",
    "nakagami_affected_iq_samples = tf.reshape(nakagami_affected_iq_samples,(block_size*n_blocks,-1))\n",
    "print(\"nakagami_affected_iq_samples.shape : \",nakagami_affected_iq_samples.shape)"
   ]
  },
  {
   "cell_type": "code",
   "execution_count": 208,
   "id": "ca43d9e6",
   "metadata": {
    "ExecuteTime": {
     "end_time": "2024-03-25T03:00:12.328475Z",
     "start_time": "2024-03-25T03:00:12.312580Z"
    }
   },
   "outputs": [],
   "source": [
    "# nakagami_affected_iq_samples"
   ]
  },
  {
   "cell_type": "code",
   "execution_count": 11,
   "id": "c9dc5d58",
   "metadata": {
    "ExecuteTime": {
     "end_time": "2024-03-26T07:43:21.086617Z",
     "start_time": "2024-03-26T07:43:21.071322Z"
    }
   },
   "outputs": [
    {
     "name": "stdout",
     "output_type": "stream",
     "text": [
      "concat.shape :  (32000, 2, 2)\n",
      "received_enc.shape :  (32000, 4)\n"
     ]
    }
   ],
   "source": [
    "# need to convert each iq_samples to two encoding\n",
    "real_part =  tf.expand_dims(tf.math.real(nakagami_affected_iq_samples),axis=2)\n",
    "imag_part =  tf.expand_dims(tf.math.imag(nakagami_affected_iq_samples),axis=2)\n",
    "\n",
    "concat = tf.concat((real_part,imag_part),axis=2)\n",
    "print(\"concat.shape : \",concat.shape)\n",
    "\n",
    "received_enc = tf.cast(tf.reshape(concat,(block_size*n_blocks,-1)),tf.float32)\n",
    "print(\"received_enc.shape : \",received_enc.shape)"
   ]
  },
  {
   "cell_type": "markdown",
   "id": "ba4dc6f2",
   "metadata": {},
   "source": [
    " ## Summary"
   ]
  },
  {
   "cell_type": "code",
   "execution_count": 12,
   "id": "3bf16b34",
   "metadata": {
    "ExecuteTime": {
     "end_time": "2024-03-26T07:43:30.988097Z",
     "start_time": "2024-03-26T07:43:30.976317Z"
    }
   },
   "outputs": [
    {
     "name": "stdout",
     "output_type": "stream",
     "text": [
      "enc.shape:  (32000, 4)\n",
      "received_enc.shape:  (32000, 4)\n"
     ]
    },
    {
     "data": {
      "text/plain": [
       "<tf.Tensor: shape=(32000, 4), dtype=float32, numpy=\n",
       "array([[-2.1708407 ,  0.27682105,  0.05552489,  2.8444598 ],\n",
       "       [ 0.46733114, -0.37856978, -1.3397973 ,  1.6915369 ],\n",
       "       [ 0.6472061 , -0.25755516, -1.2434665 , -2.7614822 ],\n",
       "       ...,\n",
       "       [-1.3276241 , -1.0207912 , -0.97542024, -0.73836786],\n",
       "       [-0.7200283 , -0.1309201 , -4.217562  ,  3.7116523 ],\n",
       "       [ 0.17760894,  0.58267045,  0.15026939, -2.5149376 ]],\n",
       "      dtype=float32)>"
      ]
     },
     "execution_count": 12,
     "metadata": {},
     "output_type": "execute_result"
    }
   ],
   "source": [
    "# enc is the encodings presenet to channel  \n",
    "# messages --> bits --> [trained DNN]  --> enc \n",
    "print('enc.shape: ', enc.shape)\n",
    "\n",
    "\n",
    "# received_enc is the encoding equavalent after Nakagami+noise effects considered\n",
    "# enc --> iq_samples --> [NAKAGAMI+noise effect]  --> affected_iq_smaples --> received_enc\n",
    "print('received_enc.shape: ', received_enc.shape)\n",
    "\n",
    "# see the difference done by the channel\n",
    "enc - received_enc"
   ]
  },
  {
   "cell_type": "code",
   "execution_count": 116,
   "id": "d5a4351f",
   "metadata": {
    "ExecuteTime": {
     "end_time": "2024-03-25T20:45:47.243127Z",
     "start_time": "2024-03-25T20:45:47.227331Z"
    }
   },
   "outputs": [],
   "source": [
    "# def real_to_complex(a):\n",
    "#     a= np.reshape(a,(len(a)//2,2))\n",
    "#     a= np.vectorize(complex)(np.transpose(a[:,0]),np.transpose(a[:,1]))\n",
    "#     return a\n",
    "\n",
    "\n",
    "# def get_channel_coeff(x,y):\n",
    "#     h = np.matmul(real_to_complex(x).conj().T,\n",
    "#                   real_to_complex(y))            /           np.matmul(real_to_complex(x).conj().T,\n",
    "#                                                                       real_to_complex(x))\n",
    " \n",
    "    \n",
    "#     return np.array([np.real(h),np.imag(h)])"
   ]
  },
  {
   "cell_type": "code",
   "execution_count": 117,
   "id": "7189e867",
   "metadata": {
    "ExecuteTime": {
     "end_time": "2024-03-25T20:45:48.230621Z",
     "start_time": "2024-03-25T20:45:48.214571Z"
    }
   },
   "outputs": [
    {
     "data": {
      "text/plain": [
       "(-0.0747946-0.16832063j)"
      ]
     },
     "execution_count": 117,
     "metadata": {},
     "output_type": "execute_result"
    }
   ],
   "source": [
    "# def r3_reshape(a):\n",
    "#     a2 = a.numpy()[:320, :]\n",
    "    \n",
    "#     a2 = a2.reshape(-1,2)\n",
    "#     a2 = a2[:, 0] + a2[:, 1] * 1j\n",
    "    \n",
    "#     return a2\n",
    "    \n",
    "\n",
    "\n",
    "# def r3_get_channel_coeff(x,y):\n",
    "#     h = np.matmul(x.conj().T,y) / np.matmul(x.conj().T,x)\n",
    "#     return h\n",
    "    \n",
    "    \n",
    "# r3_get_channel_coeff(    r3_reshape(enc),r3_reshape(received_enc)    )"
   ]
  },
  {
   "cell_type": "code",
   "execution_count": 118,
   "id": "cdc2e6da",
   "metadata": {
    "ExecuteTime": {
     "end_time": "2024-03-25T20:45:49.680062Z",
     "start_time": "2024-03-25T20:45:49.663909Z"
    }
   },
   "outputs": [
    {
     "data": {
      "text/plain": [
       "TensorShape([32000, 1])"
      ]
     },
     "execution_count": 118,
     "metadata": {},
     "output_type": "execute_result"
    }
   ],
   "source": [
    "iq_samples.shape"
   ]
  },
  {
   "cell_type": "code",
   "execution_count": 119,
   "id": "98395a81",
   "metadata": {
    "ExecuteTime": {
     "end_time": "2024-03-25T20:45:51.739125Z",
     "start_time": "2024-03-25T20:45:51.723362Z"
    }
   },
   "outputs": [
    {
     "data": {
      "text/plain": [
       "0.017497149076815984"
      ]
     },
     "execution_count": 119,
     "metadata": {},
     "output_type": "execute_result"
    }
   ],
   "source": [
    "# start_i = 0\n",
    "\n",
    "# cc = r3_get_channel_coeff(  iq_samples.numpy().reshape(-1,1)[start_i*320*7:(start_i+1)*320*7],\n",
    "#                        nakagami_affected_iq_samples.numpy().reshape(-1,1)[start_i*320*7:(start_i+1)*320*7]  ) \n",
    "\n",
    "\n",
    "# abs(cc).item()\n"
   ]
  },
  {
   "cell_type": "code",
   "execution_count": 13,
   "id": "6833377b",
   "metadata": {
    "ExecuteTime": {
     "end_time": "2024-03-26T07:44:21.162930Z",
     "start_time": "2024-03-26T07:44:21.136511Z"
    }
   },
   "outputs": [
    {
     "data": {
      "text/plain": [
       "array([[0., 0.],\n",
       "       [0., 1.],\n",
       "       [1., 0.],\n",
       "       ...,\n",
       "       [1., 1.],\n",
       "       [0., 1.],\n",
       "       [1., 0.]], dtype=float32)"
      ]
     },
     "execution_count": 13,
     "metadata": {},
     "output_type": "execute_result"
    }
   ],
   "source": [
    "x_train"
   ]
  },
  {
   "cell_type": "code",
   "execution_count": 15,
   "id": "b1e26dd3",
   "metadata": {
    "ExecuteTime": {
     "end_time": "2024-03-26T07:44:39.248598Z",
     "start_time": "2024-03-26T07:44:39.116332Z"
    }
   },
   "outputs": [
    {
     "data": {
      "image/png": "[encoded data removed]",
      "text/plain": [
       "<Figure size 640x480 with 1 Axes>"
      ]
     },
     "metadata": {},
     "output_type": "display_data"
    }
   ],
   "source": [
    "# test nakagami channel function\n",
    "\n",
    "num_samples =20_000\n",
    "\n",
    "samples = nakagami_channel(m=0.1, omega=1, snr_db=20, num_samples=num_samples)\n",
    "\n",
    "samples = np.abs(samples)\n",
    "\n",
    "hist = np.histogram(samples,100)\n",
    "\n",
    "plt.plot(hist[1][:-1], hist[0]/num_samples)\n",
    "plt.grid()\n",
    "plt.show()"
   ]
  },
  {
   "cell_type": "code",
   "execution_count": 18,
   "id": "685cec48",
   "metadata": {
    "ExecuteTime": {
     "end_time": "2024-03-26T07:47:16.015010Z",
     "start_time": "2024-03-26T07:47:15.995242Z"
    }
   },
   "outputs": [
    {
     "name": "stdout",
     "output_type": "stream",
     "text": [
      "iq_samples.shape (32000, 2)\n",
      "nakagami_affected_iq_samples.shape (32000, 2)\n",
      "iq_original_seq.shape (64000, 1)\n",
      "iq_original_seq.dtype complex64\n",
      "iq_received_seq.shape (64000, 1)\n",
      "iq_received_seq.dtype complex128\n",
      "same channel per 320*7 \n",
      " 100 channel cases\n"
     ]
    }
   ],
   "source": [
    "print(\"iq_samples.shape\",iq_samples.shape)\n",
    "print(\"nakagami_affected_iq_samples.shape\",nakagami_affected_iq_samples.shape)\n",
    "\n",
    "iq_original_seq = iq_samples.numpy().reshape(-1,1)\n",
    "iq_received_seq = nakagami_affected_iq_samples.numpy().reshape(-1,1)\n",
    "\n",
    "# np.random.shuffle(iq_original_seq)\n",
    "# np.random.shuffle(iq_received_seq)\n",
    "\n",
    "print(\"iq_original_seq.shape\",iq_original_seq.shape)\n",
    "print(\"iq_original_seq.dtype\",iq_original_seq.dtype)\n",
    "\n",
    "print(\"iq_received_seq.shape\",iq_received_seq.shape)\n",
    "print(\"iq_received_seq.dtype\",iq_received_seq.dtype)\n",
    "\n",
    "print(\"same channel per 320*7 \\n\", \"100 channel cases\")"
   ]
  },
  {
   "cell_type": "code",
   "execution_count": 123,
   "id": "f76a06e4",
   "metadata": {
    "ExecuteTime": {
     "end_time": "2024-03-25T20:46:07.830480Z",
     "start_time": "2024-03-25T20:46:07.687292Z"
    }
   },
   "outputs": [
    {
     "name": "stderr",
     "output_type": "stream",
     "text": [
      "C:\\Users\\R3KI3G\\AppData\\Local\\Temp/ipykernel_15612/3493686499.py:12: RuntimeWarning: invalid value encountered in divide\n",
      "  h = np.matmul(x.conj().T,y) / np.matmul(x.conj().T,x)\n"
     ]
    },
    {
     "data": {
      "image/png": "[encoded data removed]",
      "text/plain": [
       "<Figure size 640x480 with 1 Axes>"
      ]
     },
     "metadata": {},
     "output_type": "display_data"
    }
   ],
   "source": [
    "# make the dataset\n",
    "\n",
    "\n",
    "\n",
    "\n",
    "cc_list = []\n",
    "for i in range(n_train//block_size):\n",
    "    cc = r3_get_channel_coeff(  iq_original_seq[i*320*7:(i+1)*320*7],\n",
    "                       iq_received_seq[i*320*7:(i+1)*320*7]  ) \n",
    "    cc_list.append(cc.item())\n",
    "\n",
    "\n",
    "\n",
    "plt.stem(np.abs(np.array(cc_list)))\n",
    "plt.show()"
   ]
  },
  {
   "cell_type": "code",
   "execution_count": 23,
   "id": "b63f34a1",
   "metadata": {
    "ExecuteTime": {
     "end_time": "2024-03-26T07:51:49.755959Z",
     "start_time": "2024-03-26T07:51:49.740117Z"
    }
   },
   "outputs": [
    {
     "name": "stdout",
     "output_type": "stream",
     "text": [
      "iq_original_seq__rFSC.shape:  (100, 320, 2)\n",
      "iq_received_seq__rFSC.shape:  (100, 320, 2)\n",
      "iq_original_seq__rFSC.dtype:  complex64\n",
      "iq_received_seq__rFSC.dtype:  complex128\n",
      "---------------------------\n",
      "conditional_data.shape:  (100, 8)\n",
      "GAN_input.shape:  (100, 632)\n",
      "GAN_real.shape:  (100, 632)\n",
      "conditional_data.dtype:  complex128\n",
      "GAN_input.dtype:  complex64\n",
      "GAN_real.dtype:  complex128\n"
     ]
    }
   ],
   "source": [
    "# reshape (frame,sequence,channel uses)\n",
    "iq_original_seq__rFSC = iq_original_seq.reshape(n_blocks,block_size,-1)\n",
    "iq_received_seq__rFSC = iq_received_seq.reshape(n_blocks,block_size,-1)\n",
    "print(\"iq_original_seq__rFSC.shape: \",iq_original_seq__rFSC.shape)\n",
    "print(\"iq_received_seq__rFSC.shape: \",iq_received_seq__rFSC.shape)\n",
    "print(\"iq_original_seq__rFSC.dtype: \",iq_original_seq__rFSC.dtype)\n",
    "print(\"iq_received_seq__rFSC.dtype: \",iq_received_seq__rFSC.dtype)\n",
    "print(\"---------------------------\")\n",
    "\n",
    "\n",
    "conditional_data = iq_received_seq__rFSC[:,:M,:].reshape(n_blocks,-1)\n",
    "GAN_input = iq_original_seq__rFSC[:,M:,:].reshape(n_blocks,-1)\n",
    "GAN_real  = iq_received_seq__rFSC[:,M:,:].reshape(n_blocks,-1)\n",
    "print(\"conditional_data.shape: \",conditional_data.shape)\n",
    "print(\"GAN_input.shape: \",GAN_input.shape)\n",
    "print(\"GAN_real.shape: \",GAN_real.shape)\n",
    "print(\"conditional_data.dtype: \",conditional_data.dtype)\n",
    "print(\"GAN_input.dtype: \",GAN_input.dtype)\n",
    "print(\"GAN_real.dtype: \",GAN_real.dtype)\n",
    "\n",
    "\n",
    "\n",
    "\n",
    "'''            \n",
    "        _________________________________________________________________________\n",
    "       |                                                                         |\n",
    "       |                                                                         |\n",
    "conditional_data ----> |------------|                                            |\n",
    "                       |  GENERATOR |  ---> predicted_chanel_out vs. GAN_real  ----> [DISCRIMINATOR]  ----> [LOSS]\n",
    "     GAN_input   ----> |------------| \n",
    "''';\n",
    "\n"
   ]
  },
  {
   "cell_type": "code",
   "execution_count": 44,
   "id": "02b88bbb",
   "metadata": {
    "ExecuteTime": {
     "end_time": "2024-03-26T08:12:14.427277Z",
     "start_time": "2024-03-26T08:12:13.937650Z"
    }
   },
   "outputs": [],
   "source": [
    "# instances to train\n",
    "i_conditional_inputs = [] # stores [real,imag] x (channel use) for 2**k pilot messages  as features \n",
    "i_GAN_input = [] # stores [real,imag] x (channel use) : single random message\n",
    "i_GAN_real = []  # stores [real,imag] x (channel use) : single random message -- after thry channel\n",
    "\n",
    "\n",
    "def complex_to_parts(c):\n",
    "    return np.array([np.real(c),np.imag(c)]).reshape(-1,order=\"F\")\n",
    "\n",
    "for i in range(len(conditional_data)):\n",
    "    this_cond_pilots_complex = conditional_data[i]\n",
    "    this_cond_pilots_separated = complex_to_parts(this_cond_pilots_complex)\n",
    "    #print(this_cond_pilots_separated.shape)\n",
    "    \n",
    "    \n",
    "    for j in range(GAN_input.shape[1]):\n",
    "        this_GAN_input_complex = GAN_input[i,j]\n",
    "        this_GAN_real_complex  = GAN_real[i,j]\n",
    "        this_GAN_input_separated = complex_to_parts(this_GAN_input_complex)\n",
    "        this_GAN_real_separated = complex_to_parts(this_GAN_real_complex)\n",
    "        \n",
    "        i_conditional_inputs.append(this_cond_pilots_separated)\n",
    "        i_GAN_input.append(this_GAN_input_separated)\n",
    "        i_GAN_real.append(this_GAN_real_separated)\n",
    "        \n",
    "        \n",
    "        \n",
    "i_conditional_inputs = np.array(i_conditional_inputs)\n",
    "i_GAN_input = np.array(i_GAN_input)\n",
    "i_GAN_real = np.array(i_GAN_real)\n"
   ]
  },
  {
   "cell_type": "code",
   "execution_count": 48,
   "id": "6759be84",
   "metadata": {
    "ExecuteTime": {
     "end_time": "2024-03-26T08:14:06.850717Z",
     "start_time": "2024-03-26T08:14:06.827258Z"
    }
   },
   "outputs": [
    {
     "name": "stdout",
     "output_type": "stream",
     "text": [
      "i_conditional_inputs.shape:  (63200, 16)\n",
      "i_GAN_input.shape:  (63200, 2)\n",
      "i_GAN_real.shape:  (63200, 2)\n"
     ]
    }
   ],
   "source": [
    "print(\"i_conditional_inputs.shape: \",i_conditional_inputs.shape)\n",
    "print(\"i_GAN_input.shape: \", i_GAN_input.shape)\n",
    "\n",
    "print(\"i_GAN_real.shape: \", i_GAN_real.shape)\n",
    "\n"
   ]
  },
  {
   "cell_type": "code",
   "execution_count": 49,
   "id": "5711d912",
   "metadata": {
    "ExecuteTime": {
     "end_time": "2024-03-26T08:16:02.098106Z",
     "start_time": "2024-03-26T08:16:02.086473Z"
    }
   },
   "outputs": [],
   "source": [
    "# # test\n",
    "# complex_to_parts(np.array([1+3j,4+8j]))\n",
    "# complex_to_parts([54+3j,-3+5j])"
   ]
  },
  {
   "cell_type": "code",
   "execution_count": 73,
   "id": "17af6c61",
   "metadata": {
    "ExecuteTime": {
     "end_time": "2024-03-26T08:29:52.134424Z",
     "start_time": "2024-03-26T08:29:52.112189Z"
    }
   },
   "outputs": [],
   "source": [
    "dataset = [i_conditional_inputs,i_GAN_input,i_GAN_real]"
   ]
  },
  {
   "cell_type": "code",
   "execution_count": 77,
   "id": "fd1ed8f6",
   "metadata": {
    "ExecuteTime": {
     "end_time": "2024-03-26T08:30:38.325712Z",
     "start_time": "2024-03-26T08:30:38.312027Z"
    }
   },
   "outputs": [],
   "source": [
    "# # check unpackability\n",
    "\n",
    "# a33,b33,c33 = dataset"
   ]
  },
  {
   "cell_type": "code",
   "execution_count": null,
   "id": "8c18538c",
   "metadata": {},
   "outputs": [],
   "source": [
    "# now data set is ready"
   ]
  },
  {
   "cell_type": "code",
   "execution_count": 60,
   "id": "c1c55e9c",
   "metadata": {
    "ExecuteTime": {
     "end_time": "2024-03-26T08:19:53.132903Z",
     "start_time": "2024-03-26T08:19:53.105337Z"
    }
   },
   "outputs": [],
   "source": [
    "import numpy as np\n",
    "import tensorflow as tf\n",
    "\n",
    "#To datasets -> import tensorflow_datasets as tfds\n",
    "\n",
    "# For models\n",
    "from tensorflow.keras.models import Model, load_model\n",
    "from tensorflow.keras.optimizers.legacy import Adam\n",
    "from tensorflow.keras.losses import BinaryCrossentropy\n",
    "from tensorflow.keras.layers import Conv2D, Dense, Flatten, Reshape, LeakyReLU, \\\n",
    "                                    Dropout, Embedding, Input, Concatenate #, Conv2DTranspose\n",
    "\n",
    "\n",
    "\n",
    "\n",
    "# For streamlining ML workflow\n",
    "import wandb\n",
    "from wandb.keras import WandbCallback\n",
    "\n",
    "# For model memory\n",
    "# from tensorflow.keras import backend as k\n",
    "# import humanize\n",
    "\n",
    "# For visualisation\n",
    "from matplotlib import pyplot as plt"
   ]
  },
  {
   "cell_type": "code",
   "execution_count": 127,
   "id": "5472c45d",
   "metadata": {
    "ExecuteTime": {
     "end_time": "2024-03-25T20:50:06.085961Z",
     "start_time": "2024-03-25T20:50:06.070935Z"
    }
   },
   "outputs": [],
   "source": [
    "# n = 1\n",
    "# k = 2\n",
    "\n",
    "# Input_Shape = (2*n,1)   #(n*2,1)   # Shape of the conditional input (this is normalized)\n",
    "# noise_std = 1           # Standerd deviation for the noise to be added to the conditional values for better generalization (change this)\n",
    "\n",
    "\"\"\"---- Import dataset here ----\"\"\"\n",
    "\n",
    "\"\"\"--------\"\"\"\n",
    "\n",
    "# latent_vector_dim = 100 # For the Generator input\n",
    "\n",
    "\n",
    "#n_batches = len(data//batch_size)\n",
    "\n",
    "\n",
    "\n",
    "# # Name of the project for Weights and Biases platform\n",
    "# WB_project = \"CGAN\"\n",
    "\n",
    "# # Entity (login) for Weights and Biases platform\n",
    "# WB_entity = \"matusstas\" # shearch this\n"
   ]
  },
  {
   "cell_type": "code",
   "execution_count": null,
   "id": "c481d36e",
   "metadata": {},
   "outputs": [],
   "source": []
  },
  {
   "cell_type": "code",
   "execution_count": 53,
   "id": "e77af1de",
   "metadata": {
    "ExecuteTime": {
     "end_time": "2024-03-26T08:17:47.788689Z",
     "start_time": "2024-03-26T08:17:47.772587Z"
    }
   },
   "outputs": [
    {
     "data": {
      "text/plain": [
       "320"
      ]
     },
     "execution_count": 53,
     "metadata": {},
     "output_type": "execute_result"
    }
   ],
   "source": [
    "block_size"
   ]
  },
  {
   "cell_type": "code",
   "execution_count": 65,
   "id": "772b7eac",
   "metadata": {
    "ExecuteTime": {
     "end_time": "2024-03-26T08:21:12.216446Z",
     "start_time": "2024-03-26T08:21:12.114947Z"
    }
   },
   "outputs": [
    {
     "name": "stdout",
     "output_type": "stream",
     "text": [
      "Model: \"model\"\n",
      "__________________________________________________________________________________________________\n",
      " Layer (type)                   Output Shape         Param #     Connected to                     \n",
      "==================================================================================================\n",
      " input_6 (InputLayer)           [(None, 16)]         0           []                               \n",
      "                                                                                                  \n",
      " input_8 (InputLayer)           [(None, 2)]          0           []                               \n",
      "                                                                                                  \n",
      " input_7 (InputLayer)           [(None, 16)]         0           []                               \n",
      "                                                                                                  \n",
      " concatenate_1 (Concatenate)    (None, 34)           0           ['input_6[0][0]',                \n",
      "                                                                  'input_8[0][0]',                \n",
      "                                                                  'input_7[0][0]']                \n",
      "                                                                                                  \n",
      " dense_3 (Dense)                (None, 128)          4480        ['concatenate_1[0][0]']          \n",
      "                                                                                                  \n",
      " leaky_re_lu_3 (LeakyReLU)      (None, 128)          0           ['dense_3[0][0]']                \n",
      "                                                                                                  \n",
      " dense_4 (Dense)                (None, 128)          16512       ['leaky_re_lu_3[0][0]']          \n",
      "                                                                                                  \n",
      " leaky_re_lu_4 (LeakyReLU)      (None, 128)          0           ['dense_4[0][0]']                \n",
      "                                                                                                  \n",
      " dense_5 (Dense)                (None, 128)          16512       ['leaky_re_lu_4[0][0]']          \n",
      "                                                                                                  \n",
      " leaky_re_lu_5 (LeakyReLU)      (None, 128)          0           ['dense_5[0][0]']                \n",
      "                                                                                                  \n",
      " dense_6 (Dense)                (None, 2)            258         ['leaky_re_lu_5[0][0]']          \n",
      "                                                                                                  \n",
      "==================================================================================================\n",
      "Total params: 37,762\n",
      "Trainable params: 37,762\n",
      "Non-trainable params: 0\n",
      "__________________________________________________________________________________________________\n"
     ]
    }
   ],
   "source": [
    "def build_generator():\n",
    "    noise = Input(shape=(16,))\n",
    "    input_pilot = Input(shape=(2  **k  *NUM_CHANNEL_USES  *2,))\n",
    "    input_x = Input(shape=(2,)) # real and imag parts of any symbol\n",
    "    concat = Concatenate()([noise,input_x,input_pilot])\n",
    "    \n",
    "    l = Dense(128)(concat)\n",
    "    l = LeakyReLU(alpha = 0.2)(l)\n",
    "    l = Dense(128)(l)\n",
    "    l = LeakyReLU(alpha = 0.2)(l)\n",
    "    l = Dense(128)(l)\n",
    "    l = LeakyReLU(alpha = 0.2)(l)\n",
    "    output = Dense(2,activation = 'linear')(l) # real and imag parts of any symbol\n",
    "\n",
    "    model = Model([noise,input_pilot,input_x],output)\n",
    "    return model\n",
    "\n",
    "\n",
    "generator = build_generator()\n",
    "\n",
    "generator.summary()\n",
    "# tf.keras.utils.plot_model(generator, show_shapes=True)"
   ]
  },
  {
   "cell_type": "code",
   "execution_count": 68,
   "id": "985b07c9",
   "metadata": {
    "ExecuteTime": {
     "end_time": "2024-03-26T08:22:42.103307Z",
     "start_time": "2024-03-26T08:22:41.936189Z"
    }
   },
   "outputs": [
    {
     "name": "stdout",
     "output_type": "stream",
     "text": [
      "Model: \"model_1\"\n",
      "__________________________________________________________________________________________________\n",
      " Layer (type)                   Output Shape         Param #     Connected to                     \n",
      "==================================================================================================\n",
      " input_9 (InputLayer)           [(None, 16)]         0           []                               \n",
      "                                                                                                  \n",
      " input_10 (InputLayer)          [(None, 2)]          0           []                               \n",
      "                                                                                                  \n",
      " concatenate_2 (Concatenate)    (None, 18)           0           ['input_9[0][0]',                \n",
      "                                                                  'input_10[0][0]']               \n",
      "                                                                                                  \n",
      " dense_7 (Dense)                (None, 32)           608         ['concatenate_2[0][0]']          \n",
      "                                                                                                  \n",
      " leaky_re_lu_6 (LeakyReLU)      (None, 32)           0           ['dense_7[0][0]']                \n",
      "                                                                                                  \n",
      " dense_8 (Dense)                (None, 32)           1056        ['leaky_re_lu_6[0][0]']          \n",
      "                                                                                                  \n",
      " leaky_re_lu_7 (LeakyReLU)      (None, 32)           0           ['dense_8[0][0]']                \n",
      "                                                                                                  \n",
      " dense_9 (Dense)                (None, 32)           1056        ['leaky_re_lu_7[0][0]']          \n",
      "                                                                                                  \n",
      " leaky_re_lu_8 (LeakyReLU)      (None, 32)           0           ['dense_9[0][0]']                \n",
      "                                                                                                  \n",
      " dense_10 (Dense)               (None, 1)            33          ['leaky_re_lu_8[0][0]']          \n",
      "                                                                                                  \n",
      "==================================================================================================\n",
      "Total params: 2,753\n",
      "Trainable params: 2,753\n",
      "Non-trainable params: 0\n",
      "__________________________________________________________________________________________________\n"
     ]
    }
   ],
   "source": [
    "def build_discriminator():\n",
    "    input_pilot = Input(  shape= (2  **k  *NUM_CHANNEL_USES  *2,) )\n",
    "    input_x = Input(shape=(2,))\n",
    "    concat = Concatenate()([input_pilot,input_x])\n",
    "    \n",
    "    l = Dense(32)(concat)\n",
    "    l = LeakyReLU(alpha = 0.2)(l)\n",
    "    l = Dense(32)(l)\n",
    "    l = LeakyReLU(alpha = 0.2)(l)\n",
    "    l = Dense(32)(l)\n",
    "    l = LeakyReLU(alpha = 0.2)(l)\n",
    "    output = Dense(1,activation = 'sigmoid')(l)\n",
    "\n",
    "    model = Model([input_pilot,input_x],output)\n",
    "    return model\n",
    "\n",
    "discriminator = build_discriminator()\n",
    "\n",
    "discriminator.summary()\n",
    "# tf.keras.utils.plot_model(discriminator, show_shapes=True)"
   ]
  },
  {
   "cell_type": "code",
   "execution_count": 93,
   "id": "2fe48e54",
   "metadata": {
    "ExecuteTime": {
     "end_time": "2024-03-26T08:38:34.634671Z",
     "start_time": "2024-03-26T08:38:34.619238Z"
    }
   },
   "outputs": [],
   "source": [
    "# https://www.tensorflow.org/guide/keras/customizing_what_happens_in_fit#:~:text=When%20you%20need%20to%20customize,running%20your%20own%20learning%20algorithm.\n",
    "\n",
    "class GAN(Model): \n",
    "    def __init__(self, generator, discriminator, *args, **kwargs):\n",
    "        # Pass through args and kwargs to base class \n",
    "        super().__init__(*args, **kwargs)\n",
    "        \n",
    "        # Create attributes for gen and disc\n",
    "        self.generator = generator \n",
    "        self.discriminator = discriminator \n",
    "        \n",
    "    def compile(self, opt_g, opt_d, loss_g, loss_d, *args, **kwargs): \n",
    "        # Compile with base class\n",
    "        super().compile(*args, **kwargs)\n",
    "        \n",
    "        # Create attributes for losses and optimizers\n",
    "        self.opt_g = opt_g\n",
    "        self.opt_d = opt_d\n",
    "        self.loss_g = loss_g\n",
    "        self.loss_d = loss_d \n",
    "\n",
    "    @tf.function \n",
    "    def train_step(self, dataset):\n",
    "        \n",
    "        dataset = dataset[0]\n",
    "        \n",
    "        i_conditional_inputs = dataset[0]\n",
    "        i_GAN_input = dataset[1]\n",
    "        i_GAN_real = dataset[2]\n",
    "        \n",
    "        # Generate samples\n",
    "        noise = tf.random.normal((len(i_conditional_inputs),16))\n",
    "        generated = self.generator((noise,i_conditional_inputs,i_GAN_input),training=False)\n",
    "\n",
    "\n",
    "        # Train the discriminator\n",
    "        with tf.GradientTape() as d_tape: \n",
    "            # Pass the real and fake symbols to the discriminator model\n",
    "            yhat_real = self.discriminator([i_conditional_inputs, i_GAN_real], training=True) \n",
    "            yhat_fake = self.discriminator([i_conditional_inputs, generated], training=True)\n",
    "            yhat_realfake = tf.concat([yhat_real, yhat_fake], axis=0)\n",
    "            \n",
    "            # Create labels for real and fakes symbols\n",
    "            # We train the discriminator to identify real and fake. 0 for real and 1 as real.\n",
    "            y_realfake = tf.concat([tf.zeros_like(yhat_real), tf.ones_like(yhat_fake)], axis=0)\n",
    "            \n",
    "            # Add some noise to the TRUE outputs (crucial step)\n",
    "            noise_real = 0.15*tf.random.uniform(tf.shape(yhat_real))\n",
    "            noise_fake = -0.15*tf.random.uniform(tf.shape(yhat_fake))\n",
    "            y_realfake += tf.concat([noise_real, noise_fake], axis=0)\n",
    "            \n",
    "            # Calculate loss \n",
    "            total_loss_d = self.loss_d(y_realfake, yhat_realfake)\n",
    "            \n",
    "        # Apply backpropagation \n",
    "        dgrad = d_tape.gradient(total_loss_d, self.discriminator.trainable_variables) \n",
    "        self.opt_d.apply_gradients(zip(dgrad, self.discriminator.trainable_variables))\n",
    "        \n",
    "        # Train the generator \n",
    "        with tf.GradientTape() as g_tape: \n",
    "            # Generate symbols\n",
    "            noise2 = tf.random.normal((len(i_conditional_inputs),16))\n",
    "            generated = self.generator((noise2,i_conditional_inputs,i_GAN_input),training=True)\n",
    "\n",
    "\n",
    "            # Create the predicted labels\n",
    "            predicted_labels = self.discriminator([i_conditional_inputs, generated], training=False)\n",
    "                                        \n",
    "            # Calculate loss - trick to training to fake out the discriminator\n",
    "            total_loss_g = self.loss_g(tf.zeros_like(predicted_labels), predicted_labels) \n",
    "            \n",
    "        # Apply backpropagation\n",
    "        ggrad = g_tape.gradient(total_loss_g, self.generator.trainable_variables)\n",
    "        self.opt_g.apply_gradients(zip(ggrad, self.generator.trainable_variables))\n",
    "        \n",
    "        return {\"loss_d\":total_loss_d, \"loss_g\":total_loss_g}\n",
    "     "
   ]
  },
  {
   "cell_type": "code",
   "execution_count": 86,
   "id": "c7bf3633",
   "metadata": {
    "ExecuteTime": {
     "end_time": "2024-03-26T08:33:19.068240Z",
     "start_time": "2024-03-26T08:33:19.052090Z"
    }
   },
   "outputs": [],
   "source": []
  },
  {
   "cell_type": "code",
   "execution_count": 87,
   "id": "4a323cec",
   "metadata": {
    "ExecuteTime": {
     "end_time": "2024-03-26T08:33:20.175599Z",
     "start_time": "2024-03-26T08:33:20.161142Z"
    }
   },
   "outputs": [
    {
     "data": {
      "text/plain": [
       "3"
      ]
     },
     "execution_count": 87,
     "metadata": {},
     "output_type": "execute_result"
    }
   ],
   "source": [
    "len(dataset)"
   ]
  },
  {
   "cell_type": "code",
   "execution_count": 105,
   "id": "f8fa185d",
   "metadata": {
    "ExecuteTime": {
     "end_time": "2024-03-26T11:07:16.587600Z",
     "start_time": "2024-03-26T11:07:16.578497Z"
    }
   },
   "outputs": [],
   "source": [
    "history_coll = {\"loss_d\":[],\"loss_g\":[]}"
   ]
  },
  {
   "cell_type": "code",
   "execution_count": 112,
   "id": "999b601b",
   "metadata": {
    "ExecuteTime": {
     "end_time": "2024-03-26T11:16:56.280195Z",
     "start_time": "2024-03-26T11:15:06.710863Z"
    },
    "scrolled": true
   },
   "outputs": [
    {
     "name": "stdout",
     "output_type": "stream",
     "text": [
      "Epoch 1/100\n",
      "198/198 [==============================] - 2s 5ms/step - loss_d: 0.8737 - loss_g: 0.6632\n",
      "Epoch 2/100\n",
      "198/198 [==============================] - 1s 5ms/step - loss_d: 0.7599 - loss_g: 0.7246\n",
      "Epoch 3/100\n",
      "198/198 [==============================] - 1s 6ms/step - loss_d: 0.7294 - loss_g: 0.6741\n",
      "Epoch 4/100\n",
      "198/198 [==============================] - 1s 5ms/step - loss_d: 0.7213 - loss_g: 0.6755\n",
      "Epoch 5/100\n",
      "198/198 [==============================] - 1s 5ms/step - loss_d: 0.7154 - loss_g: 0.6813\n",
      "Epoch 6/100\n",
      "198/198 [==============================] - 1s 5ms/step - loss_d: 0.7096 - loss_g: 0.6842\n",
      "Epoch 7/100\n",
      "198/198 [==============================] - 1s 6ms/step - loss_d: 0.7098 - loss_g: 0.6812\n",
      "Epoch 8/100\n",
      "198/198 [==============================] - 1s 5ms/step - loss_d: 0.7105 - loss_g: 0.6824\n",
      "Epoch 9/100\n",
      "198/198 [==============================] - 1s 5ms/step - loss_d: 0.7078 - loss_g: 0.6876\n",
      "Epoch 10/100\n",
      "198/198 [==============================] - 1s 6ms/step - loss_d: 0.7062 - loss_g: 0.6878\n",
      "Epoch 11/100\n",
      "198/198 [==============================] - 1s 6ms/step - loss_d: 0.7052 - loss_g: 0.6867\n",
      "Epoch 12/100\n",
      "198/198 [==============================] - 1s 6ms/step - loss_d: 0.7035 - loss_g: 0.6883\n",
      "Epoch 13/100\n",
      "198/198 [==============================] - 1s 5ms/step - loss_d: 0.7027 - loss_g: 0.6866\n",
      "Epoch 14/100\n",
      "198/198 [==============================] - 1s 5ms/step - loss_d: 0.7022 - loss_g: 0.6878\n",
      "Epoch 15/100\n",
      "198/198 [==============================] - 1s 5ms/step - loss_d: 0.7015 - loss_g: 0.6877\n",
      "Epoch 16/100\n",
      "198/198 [==============================] - 1s 6ms/step - loss_d: 0.7019 - loss_g: 0.6864\n",
      "Epoch 17/100\n",
      "198/198 [==============================] - 1s 5ms/step - loss_d: 0.7013 - loss_g: 0.6849\n",
      "Epoch 18/100\n",
      "198/198 [==============================] - 1s 5ms/step - loss_d: 0.6997 - loss_g: 0.6884\n",
      "Epoch 19/100\n",
      "198/198 [==============================] - 1s 5ms/step - loss_d: 0.6990 - loss_g: 0.6886\n",
      "Epoch 20/100\n",
      "198/198 [==============================] - 1s 5ms/step - loss_d: 0.6998 - loss_g: 0.6892\n",
      "Epoch 21/100\n",
      "198/198 [==============================] - 1s 5ms/step - loss_d: 0.6997 - loss_g: 0.6895\n",
      "Epoch 22/100\n",
      "198/198 [==============================] - 1s 5ms/step - loss_d: 0.6989 - loss_g: 0.6864\n",
      "Epoch 23/100\n",
      "198/198 [==============================] - 1s 6ms/step - loss_d: 0.6985 - loss_g: 0.6882\n",
      "Epoch 24/100\n",
      "198/198 [==============================] - 1s 5ms/step - loss_d: 0.6982 - loss_g: 0.6917\n",
      "Epoch 25/100\n",
      "198/198 [==============================] - 1s 5ms/step - loss_d: 0.6982 - loss_g: 0.6871\n",
      "Epoch 26/100\n",
      "198/198 [==============================] - 1s 5ms/step - loss_d: 0.6990 - loss_g: 0.6844\n",
      "Epoch 27/100\n",
      "198/198 [==============================] - 1s 5ms/step - loss_d: 0.6976 - loss_g: 0.6872\n",
      "Epoch 28/100\n",
      "198/198 [==============================] - 1s 5ms/step - loss_d: 0.6973 - loss_g: 0.6895\n",
      "Epoch 29/100\n",
      "198/198 [==============================] - 1s 5ms/step - loss_d: 0.6977 - loss_g: 0.6899\n",
      "Epoch 30/100\n",
      "198/198 [==============================] - 1s 5ms/step - loss_d: 0.6961 - loss_g: 0.6907\n",
      "Epoch 31/100\n",
      "198/198 [==============================] - 1s 5ms/step - loss_d: 0.6971 - loss_g: 0.6887\n",
      "Epoch 32/100\n",
      "198/198 [==============================] - 1s 5ms/step - loss_d: 0.6970 - loss_g: 0.6870\n",
      "Epoch 33/100\n",
      "198/198 [==============================] - 1s 5ms/step - loss_d: 0.6960 - loss_g: 0.6894\n",
      "Epoch 34/100\n",
      "198/198 [==============================] - 1s 5ms/step - loss_d: 0.6955 - loss_g: 0.6903\n",
      "Epoch 35/100\n",
      "198/198 [==============================] - 1s 5ms/step - loss_d: 0.6963 - loss_g: 0.6921\n",
      "Epoch 36/100\n",
      "198/198 [==============================] - 1s 5ms/step - loss_d: 0.6960 - loss_g: 0.6913\n",
      "Epoch 37/100\n",
      "198/198 [==============================] - 1s 5ms/step - loss_d: 0.6958 - loss_g: 0.6896\n",
      "Epoch 38/100\n",
      "198/198 [==============================] - 1s 5ms/step - loss_d: 0.6951 - loss_g: 0.6908\n",
      "Epoch 39/100\n",
      "198/198 [==============================] - 1s 5ms/step - loss_d: 0.6957 - loss_g: 0.6911\n",
      "Epoch 40/100\n",
      "198/198 [==============================] - 1s 6ms/step - loss_d: 0.6953 - loss_g: 0.6924\n",
      "Epoch 41/100\n",
      "198/198 [==============================] - 1s 6ms/step - loss_d: 0.6953 - loss_g: 0.6918\n",
      "Epoch 42/100\n",
      "198/198 [==============================] - 1s 6ms/step - loss_d: 0.6951 - loss_g: 0.6900\n",
      "Epoch 43/100\n",
      "198/198 [==============================] - 1s 5ms/step - loss_d: 0.6948 - loss_g: 0.6911\n",
      "Epoch 44/100\n",
      "198/198 [==============================] - 1s 6ms/step - loss_d: 0.6949 - loss_g: 0.6915\n",
      "Epoch 45/100\n",
      "198/198 [==============================] - 1s 6ms/step - loss_d: 0.6945 - loss_g: 0.6929\n",
      "Epoch 46/100\n",
      "198/198 [==============================] - 1s 6ms/step - loss_d: 0.6947 - loss_g: 0.6924\n",
      "Epoch 47/100\n",
      "198/198 [==============================] - 1s 6ms/step - loss_d: 0.6943 - loss_g: 0.6920\n",
      "Epoch 48/100\n",
      "198/198 [==============================] - 1s 5ms/step - loss_d: 0.6948 - loss_g: 0.6916\n",
      "Epoch 49/100\n",
      "198/198 [==============================] - 1s 6ms/step - loss_d: 0.6944 - loss_g: 0.6926\n",
      "Epoch 50/100\n",
      "198/198 [==============================] - 1s 6ms/step - loss_d: 0.6945 - loss_g: 0.6911\n",
      "Epoch 51/100\n",
      "198/198 [==============================] - 1s 5ms/step - loss_d: 0.6942 - loss_g: 0.6920\n",
      "Epoch 52/100\n",
      "198/198 [==============================] - 1s 5ms/step - loss_d: 0.6943 - loss_g: 0.6925\n",
      "Epoch 53/100\n",
      "198/198 [==============================] - 1s 5ms/step - loss_d: 0.6940 - loss_g: 0.6924\n",
      "Epoch 54/100\n",
      "198/198 [==============================] - 1s 5ms/step - loss_d: 0.6939 - loss_g: 0.6916\n",
      "Epoch 55/100\n",
      "198/198 [==============================] - 1s 6ms/step - loss_d: 0.6943 - loss_g: 0.6912\n",
      "Epoch 56/100\n",
      "198/198 [==============================] - 1s 5ms/step - loss_d: 0.6938 - loss_g: 0.6935\n",
      "Epoch 57/100\n",
      "198/198 [==============================] - 1s 5ms/step - loss_d: 0.6940 - loss_g: 0.6917\n",
      "Epoch 58/100\n",
      "198/198 [==============================] - 1s 5ms/step - loss_d: 0.6939 - loss_g: 0.6934\n",
      "Epoch 59/100\n",
      "198/198 [==============================] - 1s 6ms/step - loss_d: 0.6937 - loss_g: 0.6931\n",
      "Epoch 60/100\n",
      "198/198 [==============================] - 1s 5ms/step - loss_d: 0.6939 - loss_g: 0.6921\n",
      "Epoch 61/100\n",
      "198/198 [==============================] - 1s 5ms/step - loss_d: 0.6937 - loss_g: 0.6919\n",
      "Epoch 62/100\n",
      "198/198 [==============================] - 1s 5ms/step - loss_d: 0.6937 - loss_g: 0.6935\n",
      "Epoch 63/100\n",
      "198/198 [==============================] - 1s 5ms/step - loss_d: 0.6937 - loss_g: 0.6921\n",
      "Epoch 64/100\n",
      "198/198 [==============================] - 1s 5ms/step - loss_d: 0.6937 - loss_g: 0.6937\n",
      "Epoch 65/100\n",
      "198/198 [==============================] - 1s 5ms/step - loss_d: 0.6936 - loss_g: 0.6931\n",
      "Epoch 66/100\n",
      "198/198 [==============================] - 1s 5ms/step - loss_d: 0.6937 - loss_g: 0.6930\n",
      "Epoch 67/100\n",
      "198/198 [==============================] - 1s 5ms/step - loss_d: 0.6936 - loss_g: 0.6925\n",
      "Epoch 68/100\n",
      "198/198 [==============================] - 1s 5ms/step - loss_d: 0.6937 - loss_g: 0.6927\n",
      "Epoch 69/100\n",
      "198/198 [==============================] - 1s 5ms/step - loss_d: 0.6936 - loss_g: 0.6943\n",
      "Epoch 70/100\n",
      "198/198 [==============================] - 1s 5ms/step - loss_d: 0.6935 - loss_g: 0.6922\n",
      "Epoch 71/100\n",
      "198/198 [==============================] - 1s 5ms/step - loss_d: 0.6935 - loss_g: 0.6931\n",
      "Epoch 72/100\n",
      "198/198 [==============================] - 1s 5ms/step - loss_d: 0.6935 - loss_g: 0.6923\n",
      "Epoch 73/100\n",
      "198/198 [==============================] - 1s 5ms/step - loss_d: 0.6935 - loss_g: 0.6932\n",
      "Epoch 74/100\n",
      "198/198 [==============================] - 1s 5ms/step - loss_d: 0.6934 - loss_g: 0.6932\n",
      "Epoch 75/100\n",
      "198/198 [==============================] - 1s 5ms/step - loss_d: 0.6935 - loss_g: 0.6928\n",
      "Epoch 76/100\n",
      "198/198 [==============================] - 1s 6ms/step - loss_d: 0.6935 - loss_g: 0.6928\n",
      "Epoch 77/100\n",
      "198/198 [==============================] - 1s 5ms/step - loss_d: 0.6935 - loss_g: 0.6930\n",
      "Epoch 78/100\n",
      "198/198 [==============================] - 1s 5ms/step - loss_d: 0.6934 - loss_g: 0.6934\n",
      "Epoch 79/100\n",
      "198/198 [==============================] - 1s 5ms/step - loss_d: 0.6934 - loss_g: 0.6923\n",
      "Epoch 80/100\n",
      "198/198 [==============================] - 1s 5ms/step - loss_d: 0.6934 - loss_g: 0.6927\n",
      "Epoch 81/100\n"
     ]
    },
    {
     "name": "stdout",
     "output_type": "stream",
     "text": [
      "198/198 [==============================] - 1s 5ms/step - loss_d: 0.6934 - loss_g: 0.6929\n",
      "Epoch 82/100\n",
      "198/198 [==============================] - 1s 6ms/step - loss_d: 0.6933 - loss_g: 0.6936\n",
      "Epoch 83/100\n",
      "198/198 [==============================] - 1s 5ms/step - loss_d: 0.6933 - loss_g: 0.6927\n",
      "Epoch 84/100\n",
      "198/198 [==============================] - 1s 5ms/step - loss_d: 0.6933 - loss_g: 0.6935\n",
      "Epoch 85/100\n",
      "198/198 [==============================] - 1s 5ms/step - loss_d: 0.6934 - loss_g: 0.6930\n",
      "Epoch 86/100\n",
      "198/198 [==============================] - 1s 5ms/step - loss_d: 0.6933 - loss_g: 0.6931\n",
      "Epoch 87/100\n",
      "198/198 [==============================] - 1s 5ms/step - loss_d: 0.6933 - loss_g: 0.6931\n",
      "Epoch 88/100\n",
      "198/198 [==============================] - 1s 5ms/step - loss_d: 0.6933 - loss_g: 0.6932\n",
      "Epoch 89/100\n",
      "198/198 [==============================] - 1s 5ms/step - loss_d: 0.6933 - loss_g: 0.6937\n",
      "Epoch 90/100\n",
      "198/198 [==============================] - 1s 5ms/step - loss_d: 0.6933 - loss_g: 0.6931\n",
      "Epoch 91/100\n",
      "198/198 [==============================] - 1s 5ms/step - loss_d: 0.6933 - loss_g: 0.6934\n",
      "Epoch 92/100\n",
      "198/198 [==============================] - 1s 6ms/step - loss_d: 0.6933 - loss_g: 0.6931\n",
      "Epoch 93/100\n",
      "198/198 [==============================] - 1s 6ms/step - loss_d: 0.6933 - loss_g: 0.6927\n",
      "Epoch 94/100\n",
      "198/198 [==============================] - 1s 5ms/step - loss_d: 0.6933 - loss_g: 0.6929\n",
      "Epoch 95/100\n",
      "198/198 [==============================] - 1s 5ms/step - loss_d: 0.6933 - loss_g: 0.6932\n",
      "Epoch 96/100\n",
      "198/198 [==============================] - 1s 5ms/step - loss_d: 0.6933 - loss_g: 0.6937\n",
      "Epoch 97/100\n",
      "198/198 [==============================] - 1s 5ms/step - loss_d: 0.6933 - loss_g: 0.6930\n",
      "Epoch 98/100\n",
      "198/198 [==============================] - 1s 5ms/step - loss_d: 0.6933 - loss_g: 0.6936\n",
      "Epoch 99/100\n",
      "198/198 [==============================] - 1s 4ms/step - loss_d: 0.6933 - loss_g: 0.6936\n",
      "Epoch 100/100\n",
      "198/198 [==============================] - 1s 5ms/step - loss_d: 0.6932 - loss_g: 0.6936\n"
     ]
    }
   ],
   "source": [
    "N_epochs = 100\n",
    "batch_size = 320\n",
    "#run = wandb.init(project=\"CGAN for Wirless autoencoder\", entity=\"matusstas\")\n",
    "\n",
    "# Initialize optimizers# Initialize losses# Initialize models\n",
    "opt_g = Adam(learning_rate=0.001, beta_1=0.5)\n",
    "opt_d = Adam(learning_rate=0.0001, beta_1=0.5)\n",
    "\n",
    "# Initialize losses\n",
    "loss_g = BinaryCrossentropy()\n",
    "loss_d = BinaryCrossentropy()\n",
    "\n",
    "# Initialize models\n",
    "generator = build_generator()\n",
    "discriminator = build_discriminator()\n",
    "gan = GAN(generator, discriminator)\n",
    "gan.compile(opt_g, opt_d, loss_g, loss_d)\n",
    "\n",
    "\n",
    "history = gan.fit(dataset, batch_size= batch_size,epochs=N_epochs)\n",
    "\n",
    "history_coll[\"loss_d\"] +=  (history.history)[\"loss_d\"]\n",
    "history_coll[\"loss_g\"] +=  (history.history)[\"loss_g\"]\n"
   ]
  },
  {
   "cell_type": "code",
   "execution_count": 113,
   "id": "d32e2737",
   "metadata": {
    "ExecuteTime": {
     "end_time": "2024-03-26T11:16:56.743158Z",
     "start_time": "2024-03-26T11:16:56.503730Z"
    }
   },
   "outputs": [
    {
     "data": {
      "image/png": "[encoded data removed]",
      "text/plain": [
       "<Figure size 640x480 with 1 Axes>"
      ]
     },
     "metadata": {},
     "output_type": "display_data"
    }
   ],
   "source": [
    "ifg,ax = plt.subplots(1)\n",
    "ax.plot(history_coll[\"loss_g\"],label=\"loss_g\")\n",
    "ax.plot(history_coll[\"loss_d\"],label=\"loss_d\")\n",
    "\n",
    "plt.grid()\n",
    "plt.legend()\n",
    "plt.show()"
   ]
  },
  {
   "cell_type": "code",
   "execution_count": 115,
   "id": "60ea1e67",
   "metadata": {
    "ExecuteTime": {
     "end_time": "2024-03-26T11:20:02.844520Z",
     "start_time": "2024-03-26T11:20:02.831205Z"
    }
   },
   "outputs": [
    {
     "data": {
      "text/plain": [
       "3"
      ]
     },
     "execution_count": 115,
     "metadata": {},
     "output_type": "execute_result"
    }
   ],
   "source": [
    "# original dataset we make\n",
    "len(dataset)\n"
   ]
  },
  {
   "cell_type": "code",
   "execution_count": 117,
   "id": "8d2dbfc5",
   "metadata": {
    "ExecuteTime": {
     "end_time": "2024-03-26T11:21:13.539269Z",
     "start_time": "2024-03-26T11:21:13.523587Z"
    }
   },
   "outputs": [
    {
     "data": {
      "text/plain": [
       "((63200, 16), (63200, 2), (63200, 2))"
      ]
     },
     "execution_count": 117,
     "metadata": {},
     "output_type": "execute_result"
    }
   ],
   "source": [
    "i_conditional_inputs.shape,i_GAN_input.shape,i_GAN_real.shape"
   ]
  },
  {
   "cell_type": "code",
   "execution_count": 125,
   "id": "0b0ac623",
   "metadata": {
    "ExecuteTime": {
     "end_time": "2024-03-26T11:25:39.970555Z",
     "start_time": "2024-03-26T11:25:39.843688Z"
    }
   },
   "outputs": [
    {
     "name": "stdout",
     "output_type": "stream",
     "text": [
      "tf.Tensor(-0.00468694650136381, shape=(), dtype=float64) tf.Tensor(1.9970535754170735, shape=(), dtype=float64)\n",
      "tf.Tensor(-0.1532751, shape=(), dtype=float32) tf.Tensor(2.0352938, shape=(), dtype=float32)\n",
      "tf.Tensor(0.14858818, shape=(), dtype=float32) tf.Tensor(4.0128703, shape=(), dtype=float32)\n"
     ]
    }
   ],
   "source": [
    "# test the generator\n",
    "# Generate samples\n",
    "# i_conditional_inputs,i_GAN_input,i_GAN_real = dataset\n",
    "\n",
    "noise = tf.random.normal((len(i_conditional_inputs),16))\n",
    "generated = generator((noise,i_conditional_inputs,i_GAN_input),training=False)\n",
    "\n",
    "\n",
    "print(tf.reduce_mean((i_GAN_real)),tf.reduce_mean((i_GAN_real)**2))\n",
    "\n",
    "print(tf.reduce_mean((generated)),tf.reduce_mean((generated)**2))\n",
    "\n",
    "print(tf.reduce_mean((i_GAN_real-generated)),tf.reduce_mean((i_GAN_real-generated)**2))"
   ]
  }
 ],
 "metadata": {
  "kernelspec": {
   "display_name": "Python 3 (ipykernel)",
   "language": "python",
   "name": "python3"
  },
  "language_info": {
   "codemirror_mode": {
    "name": "ipython",
    "version": 3
   },
   "file_extension": ".py",
   "mimetype": "text/x-python",
   "name": "python",
   "nbconvert_exporter": "python",
   "pygments_lexer": "ipython3",
   "version": "3.9.13"
  },
  "latex_envs": {
   "LaTeX_envs_menu_present": true,
   "autoclose": false,
   "autocomplete": true,
   "bibliofile": "biblio.bib",
   "cite_by": "apalike",
   "current_citInitial": 1,
   "eqLabelWithNumbers": true,
   "eqNumInitial": 1,
   "hotkeys": {
    "equation": "Ctrl-E",
    "itemize": "Ctrl-I"
   },
   "labels_anchors": false,
   "latex_user_defs": false,
   "report_style_numbering": false,
   "user_envs_cfg": false
  },
  "toc": {
   "base_numbering": 1,
   "nav_menu": {},
   "number_sections": true,
   "sideBar": true,
   "skip_h1_title": false,
   "title_cell": "Table of Contents",
   "title_sidebar": "Contents",
   "toc_cell": false,
   "toc_position": {},
   "toc_section_display": true,
   "toc_window_display": false
  },
  "varInspector": {
   "cols": {
    "lenName": 16,
    "lenType": 16,
    "lenVar": 40
   },
   "kernels_config": {
    "python": {
     "delete_cmd_postfix": "",
     "delete_cmd_prefix": "del ",
     "library": "var_list.py",
     "varRefreshCmd": "print(var_dic_list())"
    },
    "r": {
     "delete_cmd_postfix": ") ",
     "delete_cmd_prefix": "rm(",
     "library": "var_list.r",
     "varRefreshCmd": "cat(var_dic_list()) "
    }
   },
   "types_to_exclude": [
    "module",
    "function",
    "builtin_function_or_method",
    "instance",
    "_Feature"
   ],
   "window_display": false
  }
 },
 "nbformat": 4,
 "nbformat_minor": 5
}
